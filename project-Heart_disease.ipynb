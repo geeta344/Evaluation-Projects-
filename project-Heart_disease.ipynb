{
 "cells": [
  {
   "cell_type": "markdown",
   "metadata": {},
   "source": [
    "# SUMMARY:\n",
    "Heart Disease Data Set\n",
    "\n",
    "Data Set Information:\n",
    "\n",
    "This database contains 14 attributes . In particular, the Cleveland database is the only one that has been used by ML researchers to this date. The \"goal\" field refers to the presence of heart disease in the patient. It is integer valued from 0 (no presence) to 4. Experiments with the Cleveland database have concentrated on simply attempting to distinguish presence (values 1,2,3,4) from absence (value 0).\n",
    "\n",
    "\n",
    "\n",
    "Only 14 attributes used:\n",
    "1. #3 (age)\n",
    "2. #4 (sex)\n",
    "3. #9 (cp)\n",
    "4. #10 (trestbps)\n",
    "5. #12 (chol)\n",
    "6. #16 (fbs)\n",
    "7. #19 (restecg)\n",
    "8. #32 (thalach)\n",
    "9. #38 (exang)\n",
    "10. #40 (oldpeak)\n",
    "11. #41 (slope)\n",
    "12. #44 (ca)\n",
    "13. #51 (thal)\n",
    "14. #58 (num) (the predicted attribute)\n"
   ]
  },
  {
   "cell_type": "code",
   "execution_count": 350,
   "metadata": {},
   "outputs": [],
   "source": [
    "import pandas as pd\n",
    "import numpy as np\n",
    "import matplotlib.pyplot as plt\n",
    "import seaborn as sns\n",
    "from sklearn import metrics\n",
    "import warnings\n",
    "warnings.filterwarnings('ignore')"
   ]
  },
  {
   "cell_type": "code",
   "execution_count": 351,
   "metadata": {},
   "outputs": [
    {
     "data": {
      "text/html": [
       "<div>\n",
       "<style scoped>\n",
       "    .dataframe tbody tr th:only-of-type {\n",
       "        vertical-align: middle;\n",
       "    }\n",
       "\n",
       "    .dataframe tbody tr th {\n",
       "        vertical-align: top;\n",
       "    }\n",
       "\n",
       "    .dataframe thead th {\n",
       "        text-align: right;\n",
       "    }\n",
       "</style>\n",
       "<table border=\"1\" class=\"dataframe\">\n",
       "  <thead>\n",
       "    <tr style=\"text-align: right;\">\n",
       "      <th></th>\n",
       "      <th>age</th>\n",
       "      <th>sex</th>\n",
       "      <th>cp</th>\n",
       "      <th>trestbps</th>\n",
       "      <th>chol</th>\n",
       "      <th>fbs</th>\n",
       "      <th>restecg</th>\n",
       "      <th>thalach</th>\n",
       "      <th>exang</th>\n",
       "      <th>oldpeak</th>\n",
       "      <th>slope</th>\n",
       "      <th>ca</th>\n",
       "      <th>thal</th>\n",
       "      <th>num</th>\n",
       "    </tr>\n",
       "  </thead>\n",
       "  <tbody>\n",
       "    <tr>\n",
       "      <th>0</th>\n",
       "      <td>63</td>\n",
       "      <td>1</td>\n",
       "      <td>4</td>\n",
       "      <td>140</td>\n",
       "      <td>260</td>\n",
       "      <td>0</td>\n",
       "      <td>1</td>\n",
       "      <td>112</td>\n",
       "      <td>1</td>\n",
       "      <td>3</td>\n",
       "      <td>2</td>\n",
       "      <td>?</td>\n",
       "      <td>?</td>\n",
       "      <td>2</td>\n",
       "    </tr>\n",
       "    <tr>\n",
       "      <th>1</th>\n",
       "      <td>44</td>\n",
       "      <td>1</td>\n",
       "      <td>4</td>\n",
       "      <td>130</td>\n",
       "      <td>209</td>\n",
       "      <td>0</td>\n",
       "      <td>1</td>\n",
       "      <td>127</td>\n",
       "      <td>0</td>\n",
       "      <td>0</td>\n",
       "      <td>?</td>\n",
       "      <td>?</td>\n",
       "      <td>?</td>\n",
       "      <td>0</td>\n",
       "    </tr>\n",
       "    <tr>\n",
       "      <th>2</th>\n",
       "      <td>60</td>\n",
       "      <td>1</td>\n",
       "      <td>4</td>\n",
       "      <td>132</td>\n",
       "      <td>218</td>\n",
       "      <td>0</td>\n",
       "      <td>1</td>\n",
       "      <td>140</td>\n",
       "      <td>1</td>\n",
       "      <td>1.5</td>\n",
       "      <td>3</td>\n",
       "      <td>?</td>\n",
       "      <td>?</td>\n",
       "      <td>2</td>\n",
       "    </tr>\n",
       "    <tr>\n",
       "      <th>3</th>\n",
       "      <td>55</td>\n",
       "      <td>1</td>\n",
       "      <td>4</td>\n",
       "      <td>142</td>\n",
       "      <td>228</td>\n",
       "      <td>0</td>\n",
       "      <td>1</td>\n",
       "      <td>149</td>\n",
       "      <td>1</td>\n",
       "      <td>2.5</td>\n",
       "      <td>1</td>\n",
       "      <td>?</td>\n",
       "      <td>?</td>\n",
       "      <td>1</td>\n",
       "    </tr>\n",
       "    <tr>\n",
       "      <th>4</th>\n",
       "      <td>66</td>\n",
       "      <td>1</td>\n",
       "      <td>3</td>\n",
       "      <td>110</td>\n",
       "      <td>213</td>\n",
       "      <td>1</td>\n",
       "      <td>2</td>\n",
       "      <td>99</td>\n",
       "      <td>1</td>\n",
       "      <td>1.3</td>\n",
       "      <td>2</td>\n",
       "      <td>?</td>\n",
       "      <td>?</td>\n",
       "      <td>0</td>\n",
       "    </tr>\n",
       "    <tr>\n",
       "      <th>...</th>\n",
       "      <td>...</td>\n",
       "      <td>...</td>\n",
       "      <td>...</td>\n",
       "      <td>...</td>\n",
       "      <td>...</td>\n",
       "      <td>...</td>\n",
       "      <td>...</td>\n",
       "      <td>...</td>\n",
       "      <td>...</td>\n",
       "      <td>...</td>\n",
       "      <td>...</td>\n",
       "      <td>...</td>\n",
       "      <td>...</td>\n",
       "      <td>...</td>\n",
       "    </tr>\n",
       "    <tr>\n",
       "      <th>195</th>\n",
       "      <td>54</td>\n",
       "      <td>0</td>\n",
       "      <td>4</td>\n",
       "      <td>127</td>\n",
       "      <td>333</td>\n",
       "      <td>1</td>\n",
       "      <td>1</td>\n",
       "      <td>154</td>\n",
       "      <td>0</td>\n",
       "      <td>0</td>\n",
       "      <td>?</td>\n",
       "      <td>?</td>\n",
       "      <td>?</td>\n",
       "      <td>1</td>\n",
       "    </tr>\n",
       "    <tr>\n",
       "      <th>196</th>\n",
       "      <td>62</td>\n",
       "      <td>1</td>\n",
       "      <td>1</td>\n",
       "      <td>?</td>\n",
       "      <td>139</td>\n",
       "      <td>0</td>\n",
       "      <td>1</td>\n",
       "      <td>?</td>\n",
       "      <td>?</td>\n",
       "      <td>?</td>\n",
       "      <td>?</td>\n",
       "      <td>?</td>\n",
       "      <td>?</td>\n",
       "      <td>0</td>\n",
       "    </tr>\n",
       "    <tr>\n",
       "      <th>197</th>\n",
       "      <td>55</td>\n",
       "      <td>1</td>\n",
       "      <td>4</td>\n",
       "      <td>122</td>\n",
       "      <td>223</td>\n",
       "      <td>1</td>\n",
       "      <td>1</td>\n",
       "      <td>100</td>\n",
       "      <td>0</td>\n",
       "      <td>0</td>\n",
       "      <td>?</td>\n",
       "      <td>?</td>\n",
       "      <td>6</td>\n",
       "      <td>2</td>\n",
       "    </tr>\n",
       "    <tr>\n",
       "      <th>198</th>\n",
       "      <td>58</td>\n",
       "      <td>1</td>\n",
       "      <td>4</td>\n",
       "      <td>?</td>\n",
       "      <td>385</td>\n",
       "      <td>1</td>\n",
       "      <td>2</td>\n",
       "      <td>?</td>\n",
       "      <td>?</td>\n",
       "      <td>?</td>\n",
       "      <td>?</td>\n",
       "      <td>?</td>\n",
       "      <td>?</td>\n",
       "      <td>0</td>\n",
       "    </tr>\n",
       "    <tr>\n",
       "      <th>199</th>\n",
       "      <td>62</td>\n",
       "      <td>1</td>\n",
       "      <td>2</td>\n",
       "      <td>120</td>\n",
       "      <td>254</td>\n",
       "      <td>0</td>\n",
       "      <td>2</td>\n",
       "      <td>93</td>\n",
       "      <td>1</td>\n",
       "      <td>0</td>\n",
       "      <td>?</td>\n",
       "      <td>?</td>\n",
       "      <td>?</td>\n",
       "      <td>1</td>\n",
       "    </tr>\n",
       "  </tbody>\n",
       "</table>\n",
       "<p>200 rows × 14 columns</p>\n",
       "</div>"
      ],
      "text/plain": [
       "     age  sex  cp trestbps chol fbs  restecg thalach exang oldpeak slope ca  \\\n",
       "0     63    1   4      140  260   0        1     112     1       3     2  ?   \n",
       "1     44    1   4      130  209   0        1     127     0       0     ?  ?   \n",
       "2     60    1   4      132  218   0        1     140     1     1.5     3  ?   \n",
       "3     55    1   4      142  228   0        1     149     1     2.5     1  ?   \n",
       "4     66    1   3      110  213   1        2      99     1     1.3     2  ?   \n",
       "..   ...  ...  ..      ...  ...  ..      ...     ...   ...     ...   ... ..   \n",
       "195   54    0   4      127  333   1        1     154     0       0     ?  ?   \n",
       "196   62    1   1        ?  139   0        1       ?     ?       ?     ?  ?   \n",
       "197   55    1   4      122  223   1        1     100     0       0     ?  ?   \n",
       "198   58    1   4        ?  385   1        2       ?     ?       ?     ?  ?   \n",
       "199   62    1   2      120  254   0        2      93     1       0     ?  ?   \n",
       "\n",
       "    thal  num   \n",
       "0      ?     2  \n",
       "1      ?     0  \n",
       "2      ?     2  \n",
       "3      ?     1  \n",
       "4      ?     0  \n",
       "..   ...   ...  \n",
       "195    ?     1  \n",
       "196    ?     0  \n",
       "197    6     2  \n",
       "198    ?     0  \n",
       "199    ?     1  \n",
       "\n",
       "[200 rows x 14 columns]"
      ]
     },
     "execution_count": 351,
     "metadata": {},
     "output_type": "execute_result"
    }
   ],
   "source": [
    "hd=pd.read_csv('/Users/drram/Documents/heartdisease_data.csv')\n",
    "hd"
   ]
  },
  {
   "cell_type": "code",
   "execution_count": 352,
   "metadata": {},
   "outputs": [
    {
     "data": {
      "text/html": [
       "<div>\n",
       "<style scoped>\n",
       "    .dataframe tbody tr th:only-of-type {\n",
       "        vertical-align: middle;\n",
       "    }\n",
       "\n",
       "    .dataframe tbody tr th {\n",
       "        vertical-align: top;\n",
       "    }\n",
       "\n",
       "    .dataframe thead th {\n",
       "        text-align: right;\n",
       "    }\n",
       "</style>\n",
       "<table border=\"1\" class=\"dataframe\">\n",
       "  <thead>\n",
       "    <tr style=\"text-align: right;\">\n",
       "      <th></th>\n",
       "      <th>age</th>\n",
       "      <th>sex</th>\n",
       "      <th>cp</th>\n",
       "      <th>trestbps</th>\n",
       "      <th>chol</th>\n",
       "      <th>fbs</th>\n",
       "      <th>restecg</th>\n",
       "      <th>thalach</th>\n",
       "      <th>exang</th>\n",
       "      <th>oldpeak</th>\n",
       "      <th>slope</th>\n",
       "      <th>ca</th>\n",
       "      <th>thal</th>\n",
       "      <th>num</th>\n",
       "    </tr>\n",
       "  </thead>\n",
       "  <tbody>\n",
       "    <tr>\n",
       "      <th>0</th>\n",
       "      <td>63</td>\n",
       "      <td>1</td>\n",
       "      <td>4</td>\n",
       "      <td>140</td>\n",
       "      <td>260</td>\n",
       "      <td>0</td>\n",
       "      <td>1</td>\n",
       "      <td>112</td>\n",
       "      <td>1</td>\n",
       "      <td>3</td>\n",
       "      <td>2</td>\n",
       "      <td>?</td>\n",
       "      <td>?</td>\n",
       "      <td>2</td>\n",
       "    </tr>\n",
       "    <tr>\n",
       "      <th>1</th>\n",
       "      <td>44</td>\n",
       "      <td>1</td>\n",
       "      <td>4</td>\n",
       "      <td>130</td>\n",
       "      <td>209</td>\n",
       "      <td>0</td>\n",
       "      <td>1</td>\n",
       "      <td>127</td>\n",
       "      <td>0</td>\n",
       "      <td>0</td>\n",
       "      <td>?</td>\n",
       "      <td>?</td>\n",
       "      <td>?</td>\n",
       "      <td>0</td>\n",
       "    </tr>\n",
       "    <tr>\n",
       "      <th>2</th>\n",
       "      <td>60</td>\n",
       "      <td>1</td>\n",
       "      <td>4</td>\n",
       "      <td>132</td>\n",
       "      <td>218</td>\n",
       "      <td>0</td>\n",
       "      <td>1</td>\n",
       "      <td>140</td>\n",
       "      <td>1</td>\n",
       "      <td>1.5</td>\n",
       "      <td>3</td>\n",
       "      <td>?</td>\n",
       "      <td>?</td>\n",
       "      <td>2</td>\n",
       "    </tr>\n",
       "    <tr>\n",
       "      <th>3</th>\n",
       "      <td>55</td>\n",
       "      <td>1</td>\n",
       "      <td>4</td>\n",
       "      <td>142</td>\n",
       "      <td>228</td>\n",
       "      <td>0</td>\n",
       "      <td>1</td>\n",
       "      <td>149</td>\n",
       "      <td>1</td>\n",
       "      <td>2.5</td>\n",
       "      <td>1</td>\n",
       "      <td>?</td>\n",
       "      <td>?</td>\n",
       "      <td>1</td>\n",
       "    </tr>\n",
       "    <tr>\n",
       "      <th>4</th>\n",
       "      <td>66</td>\n",
       "      <td>1</td>\n",
       "      <td>3</td>\n",
       "      <td>110</td>\n",
       "      <td>213</td>\n",
       "      <td>1</td>\n",
       "      <td>2</td>\n",
       "      <td>99</td>\n",
       "      <td>1</td>\n",
       "      <td>1.3</td>\n",
       "      <td>2</td>\n",
       "      <td>?</td>\n",
       "      <td>?</td>\n",
       "      <td>0</td>\n",
       "    </tr>\n",
       "  </tbody>\n",
       "</table>\n",
       "</div>"
      ],
      "text/plain": [
       "   age  sex  cp trestbps chol fbs  restecg thalach exang oldpeak slope ca  \\\n",
       "0   63    1   4      140  260   0        1     112     1       3     2  ?   \n",
       "1   44    1   4      130  209   0        1     127     0       0     ?  ?   \n",
       "2   60    1   4      132  218   0        1     140     1     1.5     3  ?   \n",
       "3   55    1   4      142  228   0        1     149     1     2.5     1  ?   \n",
       "4   66    1   3      110  213   1        2      99     1     1.3     2  ?   \n",
       "\n",
       "  thal  num   \n",
       "0    ?     2  \n",
       "1    ?     0  \n",
       "2    ?     2  \n",
       "3    ?     1  \n",
       "4    ?     0  "
      ]
     },
     "execution_count": 352,
     "metadata": {},
     "output_type": "execute_result"
    }
   ],
   "source": [
    "hd.head()"
   ]
  },
  {
   "cell_type": "code",
   "execution_count": 353,
   "metadata": {},
   "outputs": [
    {
     "data": {
      "text/html": [
       "<div>\n",
       "<style scoped>\n",
       "    .dataframe tbody tr th:only-of-type {\n",
       "        vertical-align: middle;\n",
       "    }\n",
       "\n",
       "    .dataframe tbody tr th {\n",
       "        vertical-align: top;\n",
       "    }\n",
       "\n",
       "    .dataframe thead th {\n",
       "        text-align: right;\n",
       "    }\n",
       "</style>\n",
       "<table border=\"1\" class=\"dataframe\">\n",
       "  <thead>\n",
       "    <tr style=\"text-align: right;\">\n",
       "      <th></th>\n",
       "      <th>age</th>\n",
       "      <th>sex</th>\n",
       "      <th>cp</th>\n",
       "      <th>trestbps</th>\n",
       "      <th>chol</th>\n",
       "      <th>fbs</th>\n",
       "      <th>restecg</th>\n",
       "      <th>thalach</th>\n",
       "      <th>exang</th>\n",
       "      <th>oldpeak</th>\n",
       "      <th>slope</th>\n",
       "      <th>ca</th>\n",
       "      <th>thal</th>\n",
       "      <th>num</th>\n",
       "    </tr>\n",
       "  </thead>\n",
       "  <tbody>\n",
       "    <tr>\n",
       "      <th>195</th>\n",
       "      <td>54</td>\n",
       "      <td>0</td>\n",
       "      <td>4</td>\n",
       "      <td>127</td>\n",
       "      <td>333</td>\n",
       "      <td>1</td>\n",
       "      <td>1</td>\n",
       "      <td>154</td>\n",
       "      <td>0</td>\n",
       "      <td>0</td>\n",
       "      <td>?</td>\n",
       "      <td>?</td>\n",
       "      <td>?</td>\n",
       "      <td>1</td>\n",
       "    </tr>\n",
       "    <tr>\n",
       "      <th>196</th>\n",
       "      <td>62</td>\n",
       "      <td>1</td>\n",
       "      <td>1</td>\n",
       "      <td>?</td>\n",
       "      <td>139</td>\n",
       "      <td>0</td>\n",
       "      <td>1</td>\n",
       "      <td>?</td>\n",
       "      <td>?</td>\n",
       "      <td>?</td>\n",
       "      <td>?</td>\n",
       "      <td>?</td>\n",
       "      <td>?</td>\n",
       "      <td>0</td>\n",
       "    </tr>\n",
       "    <tr>\n",
       "      <th>197</th>\n",
       "      <td>55</td>\n",
       "      <td>1</td>\n",
       "      <td>4</td>\n",
       "      <td>122</td>\n",
       "      <td>223</td>\n",
       "      <td>1</td>\n",
       "      <td>1</td>\n",
       "      <td>100</td>\n",
       "      <td>0</td>\n",
       "      <td>0</td>\n",
       "      <td>?</td>\n",
       "      <td>?</td>\n",
       "      <td>6</td>\n",
       "      <td>2</td>\n",
       "    </tr>\n",
       "    <tr>\n",
       "      <th>198</th>\n",
       "      <td>58</td>\n",
       "      <td>1</td>\n",
       "      <td>4</td>\n",
       "      <td>?</td>\n",
       "      <td>385</td>\n",
       "      <td>1</td>\n",
       "      <td>2</td>\n",
       "      <td>?</td>\n",
       "      <td>?</td>\n",
       "      <td>?</td>\n",
       "      <td>?</td>\n",
       "      <td>?</td>\n",
       "      <td>?</td>\n",
       "      <td>0</td>\n",
       "    </tr>\n",
       "    <tr>\n",
       "      <th>199</th>\n",
       "      <td>62</td>\n",
       "      <td>1</td>\n",
       "      <td>2</td>\n",
       "      <td>120</td>\n",
       "      <td>254</td>\n",
       "      <td>0</td>\n",
       "      <td>2</td>\n",
       "      <td>93</td>\n",
       "      <td>1</td>\n",
       "      <td>0</td>\n",
       "      <td>?</td>\n",
       "      <td>?</td>\n",
       "      <td>?</td>\n",
       "      <td>1</td>\n",
       "    </tr>\n",
       "  </tbody>\n",
       "</table>\n",
       "</div>"
      ],
      "text/plain": [
       "     age  sex  cp trestbps chol fbs  restecg thalach exang oldpeak slope ca  \\\n",
       "195   54    0   4      127  333   1        1     154     0       0     ?  ?   \n",
       "196   62    1   1        ?  139   0        1       ?     ?       ?     ?  ?   \n",
       "197   55    1   4      122  223   1        1     100     0       0     ?  ?   \n",
       "198   58    1   4        ?  385   1        2       ?     ?       ?     ?  ?   \n",
       "199   62    1   2      120  254   0        2      93     1       0     ?  ?   \n",
       "\n",
       "    thal  num   \n",
       "195    ?     1  \n",
       "196    ?     0  \n",
       "197    6     2  \n",
       "198    ?     0  \n",
       "199    ?     1  "
      ]
     },
     "execution_count": 353,
     "metadata": {},
     "output_type": "execute_result"
    }
   ],
   "source": [
    "hd.tail()"
   ]
  },
  {
   "cell_type": "code",
   "execution_count": 354,
   "metadata": {},
   "outputs": [
    {
     "data": {
      "text/plain": [
       "age          int64\n",
       "sex          int64\n",
       "cp           int64\n",
       "trestbps    object\n",
       "chol        object\n",
       "fbs         object\n",
       "restecg      int64\n",
       "thalach     object\n",
       "exang       object\n",
       "oldpeak     object\n",
       "slope       object\n",
       "ca          object\n",
       "thal        object\n",
       "num          int64\n",
       "dtype: object"
      ]
     },
     "execution_count": 354,
     "metadata": {},
     "output_type": "execute_result"
    }
   ],
   "source": [
    "#check the datatypes\n",
    "hd.dtypes"
   ]
  },
  {
   "cell_type": "code",
   "execution_count": 355,
   "metadata": {},
   "outputs": [
    {
     "data": {
      "text/plain": [
       "(200, 14)"
      ]
     },
     "execution_count": 355,
     "metadata": {},
     "output_type": "execute_result"
    }
   ],
   "source": [
    "#check the shape\n",
    "hd.shape"
   ]
  },
  {
   "cell_type": "code",
   "execution_count": 356,
   "metadata": {},
   "outputs": [
    {
     "data": {
      "text/plain": [
       "<matplotlib.axes._subplots.AxesSubplot at 0x1a22cb1690>"
      ]
     },
     "execution_count": 356,
     "metadata": {},
     "output_type": "execute_result"
    },
    {
     "data": {
      "image/png": "[encoded data removed]",
      "text/plain": [
       "<Figure size 432x288 with 2 Axes>"
      ]
     },
     "metadata": {
      "needs_background": "light"
     },
     "output_type": "display_data"
    }
   ],
   "source": [
    "#check the missing values\n",
    "sns.heatmap(hd.isnull())"
   ]
  },
  {
   "cell_type": "code",
   "execution_count": 357,
   "metadata": {},
   "outputs": [
    {
     "data": {
      "text/plain": [
       "age         0\n",
       "sex         0\n",
       "cp          0\n",
       "trestbps    0\n",
       "chol        0\n",
       "fbs         0\n",
       "restecg     0\n",
       "thalach     0\n",
       "exang       0\n",
       "oldpeak     0\n",
       "slope       0\n",
       "ca          0\n",
       "thal        0\n",
       "num         0\n",
       "dtype: int64"
      ]
     },
     "execution_count": 357,
     "metadata": {},
     "output_type": "execute_result"
    }
   ],
   "source": [
    "hd.isnull().sum()"
   ]
  },
  {
   "cell_type": "code",
   "execution_count": 358,
   "metadata": {},
   "outputs": [
    {
     "data": {
      "text/plain": [
       "age         0\n",
       "sex         0\n",
       "cp          0\n",
       "trestbps    0\n",
       "chol        0\n",
       "fbs         0\n",
       "restecg     0\n",
       "thalach     0\n",
       "exang       0\n",
       "oldpeak     0\n",
       "slope       0\n",
       "ca          0\n",
       "thal        0\n",
       "num         0\n",
       "dtype: int64"
      ]
     },
     "execution_count": 358,
     "metadata": {},
     "output_type": "execute_result"
    }
   ],
   "source": [
    "hd.isna().sum()"
   ]
  },
  {
   "cell_type": "code",
   "execution_count": 359,
   "metadata": {},
   "outputs": [
    {
     "name": "stdout",
     "output_type": "stream",
     "text": [
      "<class 'pandas.core.frame.DataFrame'>\n",
      "RangeIndex: 200 entries, 0 to 199\n",
      "Data columns (total 14 columns):\n",
      " #   Column    Non-Null Count  Dtype \n",
      "---  ------    --------------  ----- \n",
      " 0   age       200 non-null    int64 \n",
      " 1   sex       200 non-null    int64 \n",
      " 2   cp        200 non-null    int64 \n",
      " 3   trestbps  200 non-null    object\n",
      " 4   chol      200 non-null    object\n",
      " 5   fbs       200 non-null    object\n",
      " 6   restecg   200 non-null    int64 \n",
      " 7   thalach   200 non-null    object\n",
      " 8   exang     200 non-null    object\n",
      " 9   oldpeak   200 non-null    object\n",
      " 10  slope     200 non-null    object\n",
      " 11  ca        200 non-null    object\n",
      " 12  thal      200 non-null    object\n",
      " 13  num       200 non-null    int64 \n",
      "dtypes: int64(5), object(9)\n",
      "memory usage: 22.0+ KB\n"
     ]
    }
   ],
   "source": [
    "#check datatypes\n",
    "hd.info()"
   ]
  },
  {
   "cell_type": "code",
   "execution_count": 360,
   "metadata": {},
   "outputs": [
    {
     "data": {
      "text/plain": [
       "1    56\n",
       "0    51\n",
       "3    42\n",
       "2    41\n",
       "4    10\n",
       "Name: num , dtype: int64"
      ]
     },
     "execution_count": 360,
     "metadata": {},
     "output_type": "execute_result"
    }
   ],
   "source": [
    "hd['num '].value_counts()"
   ]
  },
  {
   "cell_type": "code",
   "execution_count": 361,
   "metadata": {},
   "outputs": [
    {
     "data": {
      "text/plain": [
       "?    102\n",
       "2     53\n",
       "3     29\n",
       "1     16\n",
       "Name: slope, dtype: int64"
      ]
     },
     "execution_count": 361,
     "metadata": {},
     "output_type": "execute_result"
    }
   ],
   "source": [
    "#as there are 102='?'\n",
    "hd['slope'].value_counts()"
   ]
  },
  {
   "cell_type": "code",
   "execution_count": 362,
   "metadata": {},
   "outputs": [
    {
     "data": {
      "text/plain": [
       "0      49\n",
       "?       7\n",
       "203     4\n",
       "220     4\n",
       "258     4\n",
       "       ..\n",
       "211     1\n",
       "197     1\n",
       "230     1\n",
       "248     1\n",
       "256     1\n",
       "Name: chol, Length: 100, dtype: int64"
      ]
     },
     "execution_count": 362,
     "metadata": {},
     "output_type": "execute_result"
    }
   ],
   "source": [
    "hd['chol'].value_counts()"
   ]
  },
  {
   "cell_type": "code",
   "execution_count": 363,
   "metadata": {},
   "outputs": [
    {
     "data": {
      "text/plain": [
       "?    198\n",
       "0      2\n",
       "Name: ca, dtype: int64"
      ]
     },
     "execution_count": 363,
     "metadata": {},
     "output_type": "execute_result"
    }
   ],
   "source": [
    "#we can drop this column as it has 198='?', n other 2 are 0...\n",
    "hd['ca'].value_counts()"
   ]
  },
  {
   "cell_type": "code",
   "execution_count": 364,
   "metadata": {},
   "outputs": [
    {
     "data": {
      "text/plain": [
       "?    166\n",
       "7     22\n",
       "6      8\n",
       "3      4\n",
       "Name: thal, dtype: int64"
      ]
     },
     "execution_count": 364,
     "metadata": {},
     "output_type": "execute_result"
    }
   ],
   "source": [
    "#also we can drop this column as it has 168 out of 200 are ''\n",
    "hd['thal'].value_counts()"
   ]
  },
  {
   "cell_type": "code",
   "execution_count": 365,
   "metadata": {},
   "outputs": [
    {
     "data": {
      "text/plain": [
       "?      56\n",
       "120    16\n",
       "130    15\n",
       "140    10\n",
       "110     9\n",
       "150     9\n",
       "160     8\n",
       "122     6\n",
       "142     5\n",
       "124     4\n",
       "128     4\n",
       "170     4\n",
       "136     4\n",
       "144     4\n",
       "134     4\n",
       "126     4\n",
       "132     3\n",
       "158     3\n",
       "180     2\n",
       "138     2\n",
       "112     2\n",
       "152     2\n",
       "116     2\n",
       "154     2\n",
       "155     2\n",
       "104     2\n",
       "125     2\n",
       "114     1\n",
       "102     1\n",
       "0       1\n",
       "127     1\n",
       "172     1\n",
       "156     1\n",
       "135     1\n",
       "106     1\n",
       "146     1\n",
       "178     1\n",
       "96      1\n",
       "118     1\n",
       "100     1\n",
       "190     1\n",
       "Name: trestbps, dtype: int64"
      ]
     },
     "execution_count": 365,
     "metadata": {},
     "output_type": "execute_result"
    }
   ],
   "source": [
    "#this column has 56='?' missing value\n",
    "hd['trestbps'].value_counts()"
   ]
  },
  {
   "cell_type": "code",
   "execution_count": 366,
   "metadata": {},
   "outputs": [
    {
     "data": {
      "text/plain": [
       "0      49\n",
       "?       7\n",
       "203     4\n",
       "220     4\n",
       "258     4\n",
       "       ..\n",
       "211     1\n",
       "197     1\n",
       "230     1\n",
       "248     1\n",
       "256     1\n",
       "Name: chol, Length: 100, dtype: int64"
      ]
     },
     "execution_count": 366,
     "metadata": {},
     "output_type": "execute_result"
    }
   ],
   "source": [
    "#it has 7='?' missing values\n",
    "hd['chol'].value_counts()"
   ]
  },
  {
   "cell_type": "code",
   "execution_count": 367,
   "metadata": {},
   "outputs": [
    {
     "data": {
      "text/plain": [
       "0    125\n",
       "1     68\n",
       "?      7\n",
       "Name: fbs, dtype: int64"
      ]
     },
     "execution_count": 367,
     "metadata": {},
     "output_type": "execute_result"
    }
   ],
   "source": [
    "#it has 7='?' missing values\n",
    "hd['fbs'].value_counts()"
   ]
  },
  {
   "cell_type": "code",
   "execution_count": 368,
   "metadata": {},
   "outputs": [
    {
     "data": {
      "text/plain": [
       "?      53\n",
       "140    12\n",
       "120    12\n",
       "110     8\n",
       "112     6\n",
       "130     6\n",
       "118     4\n",
       "100     4\n",
       "150     4\n",
       "160     4\n",
       "128     4\n",
       "105     4\n",
       "102     3\n",
       "125     3\n",
       "117     3\n",
       "84      3\n",
       "108     3\n",
       "122     3\n",
       "135     3\n",
       "86      3\n",
       "106     3\n",
       "148     3\n",
       "111     2\n",
       "119     2\n",
       "127     2\n",
       "80      2\n",
       "154     2\n",
       "138     2\n",
       "96      2\n",
       "129     2\n",
       "180     2\n",
       "165     2\n",
       "98      2\n",
       "132     1\n",
       "73      1\n",
       "99      1\n",
       "145     1\n",
       "159     1\n",
       "155     1\n",
       "151     1\n",
       "144     1\n",
       "123     1\n",
       "94      1\n",
       "97      1\n",
       "141     1\n",
       "126     1\n",
       "93      1\n",
       "161     1\n",
       "113     1\n",
       "124     1\n",
       "157     1\n",
       "162     1\n",
       "88      1\n",
       "115     1\n",
       "107     1\n",
       "149     1\n",
       "131     1\n",
       "133     1\n",
       "69      1\n",
       "121     1\n",
       "Name: thalach, dtype: int64"
      ]
     },
     "execution_count": 368,
     "metadata": {},
     "output_type": "execute_result"
    }
   ],
   "source": [
    "#it has 53='?' missing values\n",
    "hd['thalach'].value_counts()"
   ]
  },
  {
   "cell_type": "code",
   "execution_count": 369,
   "metadata": {},
   "outputs": [
    {
     "data": {
      "text/plain": [
       "1    95\n",
       "?    53\n",
       "0    52\n",
       "Name: exang, dtype: int64"
      ]
     },
     "execution_count": 369,
     "metadata": {},
     "output_type": "execute_result"
    }
   ],
   "source": [
    "#it has 53='?' values\n",
    "hd['exang'].value_counts()"
   ]
  },
  {
   "cell_type": "code",
   "execution_count": 370,
   "metadata": {},
   "outputs": [
    {
     "data": {
      "text/plain": [
       "?       56\n",
       "0       40\n",
       "2       25\n",
       "1.5     21\n",
       "1       18\n",
       "3       13\n",
       "2.5      9\n",
       "0.5      7\n",
       "4        4\n",
       "1.3      2\n",
       "1.6      1\n",
       "1.7      1\n",
       "0.8      1\n",
       "-0.5     1\n",
       "3.5      1\n",
       "Name: oldpeak, dtype: int64"
      ]
     },
     "execution_count": 370,
     "metadata": {},
     "output_type": "execute_result"
    }
   ],
   "source": [
    "#it has 56='?' values\n",
    "hd['oldpeak'].value_counts()"
   ]
  },
  {
   "cell_type": "markdown",
   "metadata": {},
   "source": [
    "observation-\n",
    "- ca and thal columns can droped as they have many missing values"
   ]
  },
  {
   "cell_type": "code",
   "execution_count": 371,
   "metadata": {
    "scrolled": true
   },
   "outputs": [
    {
     "name": "stdout",
     "output_type": "stream",
     "text": [
      "age\n",
      "sex\n",
      "cp\n",
      "trestbps\n",
      "chol\n",
      "fbs\n",
      "restecg\n",
      "thalach\n",
      "exang\n",
      "oldpeak\n",
      "slope\n",
      "ca\n",
      "thal\n",
      "num \n"
     ]
    }
   ],
   "source": [
    "for col in hd.columns:\n",
    "    print(col)"
   ]
  },
  {
   "cell_type": "code",
   "execution_count": 372,
   "metadata": {},
   "outputs": [],
   "source": [
    "hd.drop(['ca','thal'], axis=1, inplace=True)"
   ]
  },
  {
   "cell_type": "code",
   "execution_count": 373,
   "metadata": {},
   "outputs": [
    {
     "data": {
      "text/plain": [
       "Index(['age', 'sex', 'cp', 'trestbps', 'chol', 'fbs', 'restecg', 'thalach',\n",
       "       'exang', 'oldpeak', 'slope', 'num '],\n",
       "      dtype='object')"
      ]
     },
     "execution_count": 373,
     "metadata": {},
     "output_type": "execute_result"
    }
   ],
   "source": [
    "hd.columns"
   ]
  },
  {
   "cell_type": "code",
   "execution_count": 374,
   "metadata": {},
   "outputs": [],
   "source": [
    "##Filling missing values of remaining columns"
   ]
  },
  {
   "cell_type": "code",
   "execution_count": 375,
   "metadata": {},
   "outputs": [],
   "source": [
    "hd['slope']=hd['slope'].replace('?','2')\n",
    "hd['trestbps']=hd['trestbps'].replace('?','120')\n",
    "hd['fbs']=hd['fbs'].replace('?',hd['fbs'].mode()[0])\n",
    "hd['thalach']=hd['thalach'].replace('?','140')\n",
    "hd['exang']=hd['exang'].replace('?','1')\n",
    "hd['oldpeak']=hd['oldpeak'].replace('?',hd['oldpeak'].mode()[0])\n",
    "hd['chol']=hd['fbs'].replace('?',hd['chol'].mode()[0])"
   ]
  },
  {
   "cell_type": "code",
   "execution_count": 376,
   "metadata": {},
   "outputs": [
    {
     "data": {
      "text/plain": [
       "age          int64\n",
       "sex          int64\n",
       "cp           int64\n",
       "trestbps    object\n",
       "chol        object\n",
       "fbs         object\n",
       "restecg      int64\n",
       "thalach     object\n",
       "exang       object\n",
       "oldpeak     object\n",
       "slope       object\n",
       "num          int64\n",
       "dtype: object"
      ]
     },
     "execution_count": 376,
     "metadata": {},
     "output_type": "execute_result"
    }
   ],
   "source": [
    "hd.dtypes"
   ]
  },
  {
   "cell_type": "code",
   "execution_count": 377,
   "metadata": {},
   "outputs": [],
   "source": [
    "from sklearn.preprocessing import LabelEncoder\n",
    "le=LabelEncoder()"
   ]
  },
  {
   "cell_type": "code",
   "execution_count": 378,
   "metadata": {},
   "outputs": [],
   "source": [
    "hd['chol']=pd.DataFrame(le.fit_transform(hd['chol']))"
   ]
  },
  {
   "cell_type": "code",
   "execution_count": 379,
   "metadata": {},
   "outputs": [],
   "source": [
    "hd['oldpeak']=pd.DataFrame(le.fit_transform(hd['oldpeak']))"
   ]
  },
  {
   "cell_type": "code",
   "execution_count": 380,
   "metadata": {},
   "outputs": [],
   "source": [
    "hd['thalach']=hd['thalach'].astype(int)"
   ]
  },
  {
   "cell_type": "code",
   "execution_count": 381,
   "metadata": {},
   "outputs": [],
   "source": [
    "hd['fbs']=hd['fbs'].astype(int)"
   ]
  },
  {
   "cell_type": "code",
   "execution_count": 382,
   "metadata": {},
   "outputs": [],
   "source": [
    "hd['exang']=hd['exang'].astype(int)"
   ]
  },
  {
   "cell_type": "code",
   "execution_count": 383,
   "metadata": {},
   "outputs": [],
   "source": [
    "hd['slope']=hd['slope'].astype(int)"
   ]
  },
  {
   "cell_type": "code",
   "execution_count": 384,
   "metadata": {},
   "outputs": [],
   "source": [
    "hd['trestbps']=hd['trestbps'].astype(int)"
   ]
  },
  {
   "cell_type": "code",
   "execution_count": 385,
   "metadata": {},
   "outputs": [
    {
     "data": {
      "text/plain": [
       "age         int64\n",
       "sex         int64\n",
       "cp          int64\n",
       "trestbps    int64\n",
       "chol        int64\n",
       "fbs         int64\n",
       "restecg     int64\n",
       "thalach     int64\n",
       "exang       int64\n",
       "oldpeak     int64\n",
       "slope       int64\n",
       "num         int64\n",
       "dtype: object"
      ]
     },
     "execution_count": 385,
     "metadata": {},
     "output_type": "execute_result"
    }
   ],
   "source": [
    "hd.dtypes"
   ]
  },
  {
   "cell_type": "markdown",
   "metadata": {},
   "source": [
    "##STATISTICAL ANALYSIS"
   ]
  },
  {
   "cell_type": "code",
   "execution_count": 386,
   "metadata": {},
   "outputs": [
    {
     "data": {
      "text/html": [
       "<div>\n",
       "<style scoped>\n",
       "    .dataframe tbody tr th:only-of-type {\n",
       "        vertical-align: middle;\n",
       "    }\n",
       "\n",
       "    .dataframe tbody tr th {\n",
       "        vertical-align: top;\n",
       "    }\n",
       "\n",
       "    .dataframe thead th {\n",
       "        text-align: right;\n",
       "    }\n",
       "</style>\n",
       "<table border=\"1\" class=\"dataframe\">\n",
       "  <thead>\n",
       "    <tr style=\"text-align: right;\">\n",
       "      <th></th>\n",
       "      <th>age</th>\n",
       "      <th>sex</th>\n",
       "      <th>cp</th>\n",
       "      <th>trestbps</th>\n",
       "      <th>chol</th>\n",
       "      <th>fbs</th>\n",
       "      <th>restecg</th>\n",
       "      <th>thalach</th>\n",
       "      <th>exang</th>\n",
       "      <th>oldpeak</th>\n",
       "      <th>slope</th>\n",
       "      <th>num</th>\n",
       "    </tr>\n",
       "  </thead>\n",
       "  <tbody>\n",
       "    <tr>\n",
       "      <th>count</th>\n",
       "      <td>200.000000</td>\n",
       "      <td>200.000000</td>\n",
       "      <td>200.000000</td>\n",
       "      <td>200.000000</td>\n",
       "      <td>200.000000</td>\n",
       "      <td>200.000000</td>\n",
       "      <td>200.000000</td>\n",
       "      <td>200.000000</td>\n",
       "      <td>200.000000</td>\n",
       "      <td>200.000000</td>\n",
       "      <td>200.000000</td>\n",
       "      <td>200.000000</td>\n",
       "    </tr>\n",
       "    <tr>\n",
       "      <th>mean</th>\n",
       "      <td>59.350000</td>\n",
       "      <td>0.970000</td>\n",
       "      <td>3.505000</td>\n",
       "      <td>129.910000</td>\n",
       "      <td>0.340000</td>\n",
       "      <td>0.340000</td>\n",
       "      <td>0.735000</td>\n",
       "      <td>127.355000</td>\n",
       "      <td>0.740000</td>\n",
       "      <td>7.930000</td>\n",
       "      <td>2.065000</td>\n",
       "      <td>1.520000</td>\n",
       "    </tr>\n",
       "    <tr>\n",
       "      <th>std</th>\n",
       "      <td>7.811697</td>\n",
       "      <td>0.171015</td>\n",
       "      <td>0.795701</td>\n",
       "      <td>19.280055</td>\n",
       "      <td>0.474898</td>\n",
       "      <td>0.474898</td>\n",
       "      <td>0.683455</td>\n",
       "      <td>20.315575</td>\n",
       "      <td>0.439735</td>\n",
       "      <td>5.013058</td>\n",
       "      <td>0.471046</td>\n",
       "      <td>1.219441</td>\n",
       "    </tr>\n",
       "    <tr>\n",
       "      <th>min</th>\n",
       "      <td>35.000000</td>\n",
       "      <td>0.000000</td>\n",
       "      <td>1.000000</td>\n",
       "      <td>0.000000</td>\n",
       "      <td>0.000000</td>\n",
       "      <td>0.000000</td>\n",
       "      <td>0.000000</td>\n",
       "      <td>69.000000</td>\n",
       "      <td>0.000000</td>\n",
       "      <td>0.000000</td>\n",
       "      <td>1.000000</td>\n",
       "      <td>0.000000</td>\n",
       "    </tr>\n",
       "    <tr>\n",
       "      <th>25%</th>\n",
       "      <td>55.000000</td>\n",
       "      <td>1.000000</td>\n",
       "      <td>3.000000</td>\n",
       "      <td>120.000000</td>\n",
       "      <td>0.000000</td>\n",
       "      <td>0.000000</td>\n",
       "      <td>0.000000</td>\n",
       "      <td>112.000000</td>\n",
       "      <td>0.000000</td>\n",
       "      <td>4.000000</td>\n",
       "      <td>2.000000</td>\n",
       "      <td>0.000000</td>\n",
       "    </tr>\n",
       "    <tr>\n",
       "      <th>50%</th>\n",
       "      <td>60.000000</td>\n",
       "      <td>1.000000</td>\n",
       "      <td>4.000000</td>\n",
       "      <td>123.000000</td>\n",
       "      <td>0.000000</td>\n",
       "      <td>0.000000</td>\n",
       "      <td>1.000000</td>\n",
       "      <td>130.500000</td>\n",
       "      <td>1.000000</td>\n",
       "      <td>9.000000</td>\n",
       "      <td>2.000000</td>\n",
       "      <td>1.000000</td>\n",
       "    </tr>\n",
       "    <tr>\n",
       "      <th>75%</th>\n",
       "      <td>64.000000</td>\n",
       "      <td>1.000000</td>\n",
       "      <td>4.000000</td>\n",
       "      <td>140.000000</td>\n",
       "      <td>1.000000</td>\n",
       "      <td>1.000000</td>\n",
       "      <td>1.000000</td>\n",
       "      <td>140.000000</td>\n",
       "      <td>1.000000</td>\n",
       "      <td>14.000000</td>\n",
       "      <td>2.000000</td>\n",
       "      <td>3.000000</td>\n",
       "    </tr>\n",
       "    <tr>\n",
       "      <th>max</th>\n",
       "      <td>77.000000</td>\n",
       "      <td>1.000000</td>\n",
       "      <td>4.000000</td>\n",
       "      <td>190.000000</td>\n",
       "      <td>1.000000</td>\n",
       "      <td>1.000000</td>\n",
       "      <td>2.000000</td>\n",
       "      <td>180.000000</td>\n",
       "      <td>1.000000</td>\n",
       "      <td>14.000000</td>\n",
       "      <td>3.000000</td>\n",
       "      <td>4.000000</td>\n",
       "    </tr>\n",
       "  </tbody>\n",
       "</table>\n",
       "</div>"
      ],
      "text/plain": [
       "              age         sex          cp    trestbps        chol         fbs  \\\n",
       "count  200.000000  200.000000  200.000000  200.000000  200.000000  200.000000   \n",
       "mean    59.350000    0.970000    3.505000  129.910000    0.340000    0.340000   \n",
       "std      7.811697    0.171015    0.795701   19.280055    0.474898    0.474898   \n",
       "min     35.000000    0.000000    1.000000    0.000000    0.000000    0.000000   \n",
       "25%     55.000000    1.000000    3.000000  120.000000    0.000000    0.000000   \n",
       "50%     60.000000    1.000000    4.000000  123.000000    0.000000    0.000000   \n",
       "75%     64.000000    1.000000    4.000000  140.000000    1.000000    1.000000   \n",
       "max     77.000000    1.000000    4.000000  190.000000    1.000000    1.000000   \n",
       "\n",
       "          restecg     thalach       exang     oldpeak       slope        num   \n",
       "count  200.000000  200.000000  200.000000  200.000000  200.000000  200.000000  \n",
       "mean     0.735000  127.355000    0.740000    7.930000    2.065000    1.520000  \n",
       "std      0.683455   20.315575    0.439735    5.013058    0.471046    1.219441  \n",
       "min      0.000000   69.000000    0.000000    0.000000    1.000000    0.000000  \n",
       "25%      0.000000  112.000000    0.000000    4.000000    2.000000    0.000000  \n",
       "50%      1.000000  130.500000    1.000000    9.000000    2.000000    1.000000  \n",
       "75%      1.000000  140.000000    1.000000   14.000000    2.000000    3.000000  \n",
       "max      2.000000  180.000000    1.000000   14.000000    3.000000    4.000000  "
      ]
     },
     "execution_count": 386,
     "metadata": {},
     "output_type": "execute_result"
    }
   ],
   "source": [
    "hd.describe()"
   ]
  },
  {
   "cell_type": "code",
   "execution_count": 387,
   "metadata": {},
   "outputs": [
    {
     "data": {
      "text/plain": [
       "<matplotlib.axes._subplots.AxesSubplot at 0x1a233ddc10>"
      ]
     },
     "execution_count": 387,
     "metadata": {},
     "output_type": "execute_result"
    },
    {
     "data": {
      "image/png": "[encoded data removed]",
      "text/plain": [
       "<Figure size 1080x720 with 2 Axes>"
      ]
     },
     "metadata": {
      "needs_background": "light"
     },
     "output_type": "display_data"
    }
   ],
   "source": [
    "plt.figure(figsize=(15,10))\n",
    "sns.heatmap(hd.corr(), annot=True)"
   ]
  },
  {
   "cell_type": "code",
   "execution_count": 388,
   "metadata": {},
   "outputs": [
    {
     "data": {
      "text/html": [
       "<div>\n",
       "<style scoped>\n",
       "    .dataframe tbody tr th:only-of-type {\n",
       "        vertical-align: middle;\n",
       "    }\n",
       "\n",
       "    .dataframe tbody tr th {\n",
       "        vertical-align: top;\n",
       "    }\n",
       "\n",
       "    .dataframe thead th {\n",
       "        text-align: right;\n",
       "    }\n",
       "</style>\n",
       "<table border=\"1\" class=\"dataframe\">\n",
       "  <thead>\n",
       "    <tr style=\"text-align: right;\">\n",
       "      <th></th>\n",
       "      <th>age</th>\n",
       "      <th>sex</th>\n",
       "      <th>cp</th>\n",
       "      <th>trestbps</th>\n",
       "      <th>chol</th>\n",
       "      <th>fbs</th>\n",
       "      <th>restecg</th>\n",
       "      <th>thalach</th>\n",
       "      <th>exang</th>\n",
       "      <th>oldpeak</th>\n",
       "      <th>slope</th>\n",
       "      <th>num</th>\n",
       "    </tr>\n",
       "  </thead>\n",
       "  <tbody>\n",
       "    <tr>\n",
       "      <th>age</th>\n",
       "      <td>1.000000</td>\n",
       "      <td>0.034230</td>\n",
       "      <td>-0.038280</td>\n",
       "      <td>0.167637</td>\n",
       "      <td>0.135728</td>\n",
       "      <td>0.135728</td>\n",
       "      <td>0.002400</td>\n",
       "      <td>-0.136058</td>\n",
       "      <td>0.129027</td>\n",
       "      <td>0.093662</td>\n",
       "      <td>0.107135</td>\n",
       "      <td>0.287289</td>\n",
       "    </tr>\n",
       "    <tr>\n",
       "      <th>sex</th>\n",
       "      <td>0.034230</td>\n",
       "      <td>1.000000</td>\n",
       "      <td>0.038036</td>\n",
       "      <td>-0.002347</td>\n",
       "      <td>-0.059400</td>\n",
       "      <td>-0.059400</td>\n",
       "      <td>0.060621</td>\n",
       "      <td>0.013205</td>\n",
       "      <td>0.029402</td>\n",
       "      <td>0.103045</td>\n",
       "      <td>0.086709</td>\n",
       "      <td>0.147470</td>\n",
       "    </tr>\n",
       "    <tr>\n",
       "      <th>cp</th>\n",
       "      <td>-0.038280</td>\n",
       "      <td>0.038036</td>\n",
       "      <td>1.000000</td>\n",
       "      <td>0.139569</td>\n",
       "      <td>-0.044416</td>\n",
       "      <td>-0.044416</td>\n",
       "      <td>0.034790</td>\n",
       "      <td>-0.198907</td>\n",
       "      <td>0.089904</td>\n",
       "      <td>-0.191398</td>\n",
       "      <td>0.059460</td>\n",
       "      <td>0.168210</td>\n",
       "    </tr>\n",
       "    <tr>\n",
       "      <th>trestbps</th>\n",
       "      <td>0.167637</td>\n",
       "      <td>-0.002347</td>\n",
       "      <td>0.139569</td>\n",
       "      <td>1.000000</td>\n",
       "      <td>0.159776</td>\n",
       "      <td>0.159776</td>\n",
       "      <td>0.077503</td>\n",
       "      <td>-0.121311</td>\n",
       "      <td>0.084356</td>\n",
       "      <td>-0.170287</td>\n",
       "      <td>0.099138</td>\n",
       "      <td>0.149265</td>\n",
       "    </tr>\n",
       "    <tr>\n",
       "      <th>chol</th>\n",
       "      <td>0.135728</td>\n",
       "      <td>-0.059400</td>\n",
       "      <td>-0.044416</td>\n",
       "      <td>0.159776</td>\n",
       "      <td>1.000000</td>\n",
       "      <td>1.000000</td>\n",
       "      <td>0.170616</td>\n",
       "      <td>0.061909</td>\n",
       "      <td>-0.176144</td>\n",
       "      <td>-0.000507</td>\n",
       "      <td>-0.009435</td>\n",
       "      <td>0.048940</td>\n",
       "    </tr>\n",
       "    <tr>\n",
       "      <th>fbs</th>\n",
       "      <td>0.135728</td>\n",
       "      <td>-0.059400</td>\n",
       "      <td>-0.044416</td>\n",
       "      <td>0.159776</td>\n",
       "      <td>1.000000</td>\n",
       "      <td>1.000000</td>\n",
       "      <td>0.170616</td>\n",
       "      <td>0.061909</td>\n",
       "      <td>-0.176144</td>\n",
       "      <td>-0.000507</td>\n",
       "      <td>-0.009435</td>\n",
       "      <td>0.048940</td>\n",
       "    </tr>\n",
       "    <tr>\n",
       "      <th>restecg</th>\n",
       "      <td>0.002400</td>\n",
       "      <td>0.060621</td>\n",
       "      <td>0.034790</td>\n",
       "      <td>0.077503</td>\n",
       "      <td>0.170616</td>\n",
       "      <td>0.170616</td>\n",
       "      <td>1.000000</td>\n",
       "      <td>0.024181</td>\n",
       "      <td>-0.063203</td>\n",
       "      <td>-0.043575</td>\n",
       "      <td>-0.039881</td>\n",
       "      <td>-0.032800</td>\n",
       "    </tr>\n",
       "    <tr>\n",
       "      <th>thalach</th>\n",
       "      <td>-0.136058</td>\n",
       "      <td>0.013205</td>\n",
       "      <td>-0.198907</td>\n",
       "      <td>-0.121311</td>\n",
       "      <td>0.061909</td>\n",
       "      <td>0.061909</td>\n",
       "      <td>0.024181</td>\n",
       "      <td>1.000000</td>\n",
       "      <td>0.068322</td>\n",
       "      <td>0.426558</td>\n",
       "      <td>-0.130551</td>\n",
       "      <td>-0.106678</td>\n",
       "    </tr>\n",
       "    <tr>\n",
       "      <th>exang</th>\n",
       "      <td>0.129027</td>\n",
       "      <td>0.029402</td>\n",
       "      <td>0.089904</td>\n",
       "      <td>0.084356</td>\n",
       "      <td>-0.176144</td>\n",
       "      <td>-0.176144</td>\n",
       "      <td>-0.063203</td>\n",
       "      <td>0.068322</td>\n",
       "      <td>1.000000</td>\n",
       "      <td>0.438498</td>\n",
       "      <td>0.106259</td>\n",
       "      <td>0.206541</td>\n",
       "    </tr>\n",
       "    <tr>\n",
       "      <th>oldpeak</th>\n",
       "      <td>0.093662</td>\n",
       "      <td>0.103045</td>\n",
       "      <td>-0.191398</td>\n",
       "      <td>-0.170287</td>\n",
       "      <td>-0.000507</td>\n",
       "      <td>-0.000507</td>\n",
       "      <td>-0.043575</td>\n",
       "      <td>0.426558</td>\n",
       "      <td>0.438498</td>\n",
       "      <td>1.000000</td>\n",
       "      <td>0.112595</td>\n",
       "      <td>0.148194</td>\n",
       "    </tr>\n",
       "    <tr>\n",
       "      <th>slope</th>\n",
       "      <td>0.107135</td>\n",
       "      <td>0.086709</td>\n",
       "      <td>0.059460</td>\n",
       "      <td>0.099138</td>\n",
       "      <td>-0.009435</td>\n",
       "      <td>-0.009435</td>\n",
       "      <td>-0.039881</td>\n",
       "      <td>-0.130551</td>\n",
       "      <td>0.106259</td>\n",
       "      <td>0.112595</td>\n",
       "      <td>1.000000</td>\n",
       "      <td>0.142072</td>\n",
       "    </tr>\n",
       "    <tr>\n",
       "      <th>num</th>\n",
       "      <td>0.287289</td>\n",
       "      <td>0.147470</td>\n",
       "      <td>0.168210</td>\n",
       "      <td>0.149265</td>\n",
       "      <td>0.048940</td>\n",
       "      <td>0.048940</td>\n",
       "      <td>-0.032800</td>\n",
       "      <td>-0.106678</td>\n",
       "      <td>0.206541</td>\n",
       "      <td>0.148194</td>\n",
       "      <td>0.142072</td>\n",
       "      <td>1.000000</td>\n",
       "    </tr>\n",
       "  </tbody>\n",
       "</table>\n",
       "</div>"
      ],
      "text/plain": [
       "               age       sex        cp  trestbps      chol       fbs  \\\n",
       "age       1.000000  0.034230 -0.038280  0.167637  0.135728  0.135728   \n",
       "sex       0.034230  1.000000  0.038036 -0.002347 -0.059400 -0.059400   \n",
       "cp       -0.038280  0.038036  1.000000  0.139569 -0.044416 -0.044416   \n",
       "trestbps  0.167637 -0.002347  0.139569  1.000000  0.159776  0.159776   \n",
       "chol      0.135728 -0.059400 -0.044416  0.159776  1.000000  1.000000   \n",
       "fbs       0.135728 -0.059400 -0.044416  0.159776  1.000000  1.000000   \n",
       "restecg   0.002400  0.060621  0.034790  0.077503  0.170616  0.170616   \n",
       "thalach  -0.136058  0.013205 -0.198907 -0.121311  0.061909  0.061909   \n",
       "exang     0.129027  0.029402  0.089904  0.084356 -0.176144 -0.176144   \n",
       "oldpeak   0.093662  0.103045 -0.191398 -0.170287 -0.000507 -0.000507   \n",
       "slope     0.107135  0.086709  0.059460  0.099138 -0.009435 -0.009435   \n",
       "num       0.287289  0.147470  0.168210  0.149265  0.048940  0.048940   \n",
       "\n",
       "           restecg   thalach     exang   oldpeak     slope      num   \n",
       "age       0.002400 -0.136058  0.129027  0.093662  0.107135  0.287289  \n",
       "sex       0.060621  0.013205  0.029402  0.103045  0.086709  0.147470  \n",
       "cp        0.034790 -0.198907  0.089904 -0.191398  0.059460  0.168210  \n",
       "trestbps  0.077503 -0.121311  0.084356 -0.170287  0.099138  0.149265  \n",
       "chol      0.170616  0.061909 -0.176144 -0.000507 -0.009435  0.048940  \n",
       "fbs       0.170616  0.061909 -0.176144 -0.000507 -0.009435  0.048940  \n",
       "restecg   1.000000  0.024181 -0.063203 -0.043575 -0.039881 -0.032800  \n",
       "thalach   0.024181  1.000000  0.068322  0.426558 -0.130551 -0.106678  \n",
       "exang    -0.063203  0.068322  1.000000  0.438498  0.106259  0.206541  \n",
       "oldpeak  -0.043575  0.426558  0.438498  1.000000  0.112595  0.148194  \n",
       "slope    -0.039881 -0.130551  0.106259  0.112595  1.000000  0.142072  \n",
       "num      -0.032800 -0.106678  0.206541  0.148194  0.142072  1.000000  "
      ]
     },
     "execution_count": 388,
     "metadata": {},
     "output_type": "execute_result"
    }
   ],
   "source": [
    "hd.corr()"
   ]
  },
  {
   "cell_type": "markdown",
   "metadata": {},
   "source": [
    "observation-\n",
    "-restecg and thalach shows negative relation with num..\n",
    "-age shows negative correlation with cp and thalach while positive corr with others..\n",
    "-sex shows negative corr with trestbps,chol and fbs while positive with others..\n",
    "-slope is in positive relation with num,oldpeak,exang,trestbps,cp,sex,age.."
   ]
  },
  {
   "cell_type": "markdown",
   "metadata": {},
   "source": [
    "##BIVARIATE ANALYSIS"
   ]
  },
  {
   "cell_type": "code",
   "execution_count": 389,
   "metadata": {},
   "outputs": [
    {
     "data": {
      "text/plain": [
       "<matplotlib.axes._subplots.AxesSubplot at 0x1a23533c50>"
      ]
     },
     "execution_count": 389,
     "metadata": {},
     "output_type": "execute_result"
    },
    {
     "data": {
      "image/png": "[encoded data removed]",
      "text/plain": [
       "<Figure size 432x288 with 1 Axes>"
      ]
     },
     "metadata": {
      "needs_background": "light"
     },
     "output_type": "display_data"
    }
   ],
   "source": [
    "sns.lineplot(x='age',y='chol', data=hd)"
   ]
  },
  {
   "cell_type": "code",
   "execution_count": 390,
   "metadata": {},
   "outputs": [
    {
     "data": {
      "text/plain": [
       "<matplotlib.axes._subplots.AxesSubplot at 0x1a23533d10>"
      ]
     },
     "execution_count": 390,
     "metadata": {},
     "output_type": "execute_result"
    },
    {
     "data": {
      "image/png": "[encoded data removed]",
      "text/plain": [
       "<Figure size 576x432 with 1 Axes>"
      ]
     },
     "metadata": {
      "needs_background": "light"
     },
     "output_type": "display_data"
    }
   ],
   "source": [
    "plt.figure(figsize=(8,6))\n",
    "sns.scatterplot(x='age',y='num ',hue='age',size='num ', data=hd)"
   ]
  },
  {
   "cell_type": "code",
   "execution_count": 391,
   "metadata": {},
   "outputs": [
    {
     "data": {
      "text/plain": [
       "<matplotlib.axes._subplots.AxesSubplot at 0x1a21ef69d0>"
      ]
     },
     "execution_count": 391,
     "metadata": {},
     "output_type": "execute_result"
    },
    {
     "data": {
      "image/png": "[encoded data removed]",
      "text/plain": [
       "<Figure size 432x288 with 1 Axes>"
      ]
     },
     "metadata": {
      "needs_background": "light"
     },
     "output_type": "display_data"
    }
   ],
   "source": [
    "sns.barplot(x='fbs',y='num ', data=hd)"
   ]
  },
  {
   "cell_type": "code",
   "execution_count": 392,
   "metadata": {},
   "outputs": [
    {
     "data": {
      "text/plain": [
       "<matplotlib.axes._subplots.AxesSubplot at 0x1a21407590>"
      ]
     },
     "execution_count": 392,
     "metadata": {},
     "output_type": "execute_result"
    },
    {
     "data": {
      "image/png": "[encoded data removed]",
      "text/plain": [
       "<Figure size 432x288 with 1 Axes>"
      ]
     },
     "metadata": {
      "needs_background": "light"
     },
     "output_type": "display_data"
    }
   ],
   "source": [
    "sns.barplot(x='thalach',y='slope', data=hd)"
   ]
  },
  {
   "cell_type": "markdown",
   "metadata": {},
   "source": [
    "##UNIVARIATE ANALYSIS"
   ]
  },
  {
   "cell_type": "code",
   "execution_count": 393,
   "metadata": {},
   "outputs": [
    {
     "data": {
      "text/plain": [
       "<matplotlib.axes._subplots.AxesSubplot at 0x1a22966150>"
      ]
     },
     "execution_count": 393,
     "metadata": {},
     "output_type": "execute_result"
    },
    {
     "data": {
      "image/png": "[encoded data removed]",
      "text/plain": [
       "<Figure size 432x288 with 1 Axes>"
      ]
     },
     "metadata": {
      "needs_background": "light"
     },
     "output_type": "display_data"
    }
   ],
   "source": [
    "hd['fbs'].plot.hist()"
   ]
  },
  {
   "cell_type": "code",
   "execution_count": 394,
   "metadata": {},
   "outputs": [
    {
     "data": {
      "image/png": "[encoded data removed]",
      "text/plain": [
       "<Figure size 432x288 with 1 Axes>"
      ]
     },
     "metadata": {
      "needs_background": "light"
     },
     "output_type": "display_data"
    },
    {
     "data": {
      "image/png": "[encoded data removed]",
      "text/plain": [
       "<Figure size 432x288 with 1 Axes>"
      ]
     },
     "metadata": {
      "needs_background": "light"
     },
     "output_type": "display_data"
    },
    {
     "data": {
      "image/png": "[encoded data removed]",
      "text/plain": [
       "<Figure size 432x288 with 1 Axes>"
      ]
     },
     "metadata": {
      "needs_background": "light"
     },
     "output_type": "display_data"
    },
    {
     "data": {
      "image/png": "[encoded data removed]",
      "text/plain": [
       "<Figure size 432x288 with 1 Axes>"
      ]
     },
     "metadata": {
      "needs_background": "light"
     },
     "output_type": "display_data"
    },
    {
     "data": {
      "image/png": "[encoded data removed]",
      "text/plain": [
       "<Figure size 432x288 with 1 Axes>"
      ]
     },
     "metadata": {
      "needs_background": "light"
     },
     "output_type": "display_data"
    },
    {
     "data": {
      "image/png": "[encoded data removed]",
      "text/plain": [
       "<Figure size 432x288 with 1 Axes>"
      ]
     },
     "metadata": {
      "needs_background": "light"
     },
     "output_type": "display_data"
    },
    {
     "data": {
      "image/png": "[encoded data removed]",
      "text/plain": [
       "<Figure size 432x288 with 1 Axes>"
      ]
     },
     "metadata": {
      "needs_background": "light"
     },
     "output_type": "display_data"
    },
    {
     "data": {
      "image/png": "[encoded data removed]",
      "text/plain": [
       "<Figure size 432x288 with 1 Axes>"
      ]
     },
     "metadata": {
      "needs_background": "light"
     },
     "output_type": "display_data"
    },
    {
     "data": {
      "image/png": "[encoded data removed]",
      "text/plain": [
       "<Figure size 432x288 with 1 Axes>"
      ]
     },
     "metadata": {
      "needs_background": "light"
     },
     "output_type": "display_data"
    },
    {
     "data": {
      "image/png": "[encoded data removed]",
      "text/plain": [
       "<Figure size 432x288 with 1 Axes>"
      ]
     },
     "metadata": {
      "needs_background": "light"
     },
     "output_type": "display_data"
    },
    {
     "data": {
      "image/png": "[encoded data removed]",
      "text/plain": [
       "<Figure size 432x288 with 1 Axes>"
      ]
     },
     "metadata": {
      "needs_background": "light"
     },
     "output_type": "display_data"
    },
    {
     "data": {
      "image/png": "[encoded data removed]",
      "text/plain": [
       "<Figure size 432x288 with 1 Axes>"
      ]
     },
     "metadata": {
      "needs_background": "light"
     },
     "output_type": "display_data"
    }
   ],
   "source": [
    "for i in hd.describe().columns:\n",
    "    sns.boxplot(hd[i].dropna())\n",
    "    plt.show()"
   ]
  },
  {
   "cell_type": "code",
   "execution_count": 395,
   "metadata": {},
   "outputs": [
    {
     "data": {
      "text/plain": [
       "<matplotlib.axes._subplots.AxesSubplot at 0x1a2414dd50>"
      ]
     },
     "execution_count": 395,
     "metadata": {},
     "output_type": "execute_result"
    },
    {
     "data": {
      "image/png": "[encoded data removed]",
      "text/plain": [
       "<Figure size 432x288 with 1 Axes>"
      ]
     },
     "metadata": {
      "needs_background": "light"
     },
     "output_type": "display_data"
    }
   ],
   "source": [
    "sns.distplot(hd['age'])"
   ]
  },
  {
   "cell_type": "code",
   "execution_count": 396,
   "metadata": {},
   "outputs": [
    {
     "data": {
      "text/plain": [
       "(array([0, 1, 2, 3, 4]), <a list of 5 Text xticklabel objects>)"
      ]
     },
     "execution_count": 396,
     "metadata": {},
     "output_type": "execute_result"
    },
    {
     "data": {
      "image/png": "[encoded data removed]",
      "text/plain": [
       "<Figure size 576x432 with 1 Axes>"
      ]
     },
     "metadata": {
      "needs_background": "light"
     },
     "output_type": "display_data"
    }
   ],
   "source": [
    "plt.figure(figsize=(8,6))\n",
    "sns.countplot(hd['num '])\n",
    "plt.xticks(rotation=10)"
   ]
  },
  {
   "cell_type": "markdown",
   "metadata": {},
   "source": [
    "##FURTHER ANALYSING OF DATA"
   ]
  },
  {
   "cell_type": "code",
   "execution_count": 397,
   "metadata": {},
   "outputs": [
    {
     "data": {
      "text/html": [
       "<div>\n",
       "<style scoped>\n",
       "    .dataframe tbody tr th:only-of-type {\n",
       "        vertical-align: middle;\n",
       "    }\n",
       "\n",
       "    .dataframe tbody tr th {\n",
       "        vertical-align: top;\n",
       "    }\n",
       "\n",
       "    .dataframe thead th {\n",
       "        text-align: right;\n",
       "    }\n",
       "</style>\n",
       "<table border=\"1\" class=\"dataframe\">\n",
       "  <thead>\n",
       "    <tr style=\"text-align: right;\">\n",
       "      <th></th>\n",
       "      <th>age</th>\n",
       "      <th>sex</th>\n",
       "      <th>cp</th>\n",
       "      <th>trestbps</th>\n",
       "      <th>chol</th>\n",
       "      <th>fbs</th>\n",
       "      <th>restecg</th>\n",
       "      <th>thalach</th>\n",
       "      <th>exang</th>\n",
       "      <th>oldpeak</th>\n",
       "      <th>slope</th>\n",
       "    </tr>\n",
       "    <tr>\n",
       "      <th>num</th>\n",
       "      <th></th>\n",
       "      <th></th>\n",
       "      <th></th>\n",
       "      <th></th>\n",
       "      <th></th>\n",
       "      <th></th>\n",
       "      <th></th>\n",
       "      <th></th>\n",
       "      <th></th>\n",
       "      <th></th>\n",
       "      <th></th>\n",
       "    </tr>\n",
       "  </thead>\n",
       "  <tbody>\n",
       "    <tr>\n",
       "      <th>0</th>\n",
       "      <td>56.823529</td>\n",
       "      <td>0.941176</td>\n",
       "      <td>3.156863</td>\n",
       "      <td>126.215686</td>\n",
       "      <td>0.274510</td>\n",
       "      <td>0.274510</td>\n",
       "      <td>0.803922</td>\n",
       "      <td>130.549020</td>\n",
       "      <td>0.607843</td>\n",
       "      <td>7.882353</td>\n",
       "      <td>2.000000</td>\n",
       "    </tr>\n",
       "    <tr>\n",
       "      <th>1</th>\n",
       "      <td>57.571429</td>\n",
       "      <td>0.946429</td>\n",
       "      <td>3.642857</td>\n",
       "      <td>128.607143</td>\n",
       "      <td>0.392857</td>\n",
       "      <td>0.392857</td>\n",
       "      <td>0.714286</td>\n",
       "      <td>127.660714</td>\n",
       "      <td>0.732143</td>\n",
       "      <td>6.857143</td>\n",
       "      <td>2.017857</td>\n",
       "    </tr>\n",
       "    <tr>\n",
       "      <th>2</th>\n",
       "      <td>61.048780</td>\n",
       "      <td>1.000000</td>\n",
       "      <td>3.682927</td>\n",
       "      <td>133.268293</td>\n",
       "      <td>0.317073</td>\n",
       "      <td>0.317073</td>\n",
       "      <td>0.731707</td>\n",
       "      <td>126.292683</td>\n",
       "      <td>0.756098</td>\n",
       "      <td>7.560976</td>\n",
       "      <td>2.146341</td>\n",
       "    </tr>\n",
       "    <tr>\n",
       "      <th>3</th>\n",
       "      <td>62.452381</td>\n",
       "      <td>1.000000</td>\n",
       "      <td>3.523810</td>\n",
       "      <td>129.880952</td>\n",
       "      <td>0.357143</td>\n",
       "      <td>0.357143</td>\n",
       "      <td>0.619048</td>\n",
       "      <td>125.214286</td>\n",
       "      <td>0.857143</td>\n",
       "      <td>8.880952</td>\n",
       "      <td>2.023810</td>\n",
       "    </tr>\n",
       "    <tr>\n",
       "      <th>4</th>\n",
       "      <td>62.200000</td>\n",
       "      <td>1.000000</td>\n",
       "      <td>3.700000</td>\n",
       "      <td>142.400000</td>\n",
       "      <td>0.400000</td>\n",
       "      <td>0.400000</td>\n",
       "      <td>1.000000</td>\n",
       "      <td>122.700000</td>\n",
       "      <td>0.900000</td>\n",
       "      <td>11.700000</td>\n",
       "      <td>2.500000</td>\n",
       "    </tr>\n",
       "  </tbody>\n",
       "</table>\n",
       "</div>"
      ],
      "text/plain": [
       "            age       sex        cp    trestbps      chol       fbs   restecg  \\\n",
       "num                                                                             \n",
       "0     56.823529  0.941176  3.156863  126.215686  0.274510  0.274510  0.803922   \n",
       "1     57.571429  0.946429  3.642857  128.607143  0.392857  0.392857  0.714286   \n",
       "2     61.048780  1.000000  3.682927  133.268293  0.317073  0.317073  0.731707   \n",
       "3     62.452381  1.000000  3.523810  129.880952  0.357143  0.357143  0.619048   \n",
       "4     62.200000  1.000000  3.700000  142.400000  0.400000  0.400000  1.000000   \n",
       "\n",
       "         thalach     exang    oldpeak     slope  \n",
       "num                                              \n",
       "0     130.549020  0.607843   7.882353  2.000000  \n",
       "1     127.660714  0.732143   6.857143  2.017857  \n",
       "2     126.292683  0.756098   7.560976  2.146341  \n",
       "3     125.214286  0.857143   8.880952  2.023810  \n",
       "4     122.700000  0.900000  11.700000  2.500000  "
      ]
     },
     "execution_count": 397,
     "metadata": {},
     "output_type": "execute_result"
    }
   ],
   "source": [
    "hd.groupby('num ').mean()"
   ]
  },
  {
   "cell_type": "markdown",
   "metadata": {},
   "source": [
    "#observastions-\n",
    "\n",
    "1.age grp of 56-57yrs are at low risk while 62yrs onwords are at high risk\n",
    "2.males are high risk of heart disease as compare to females\n",
    "3.cp,trestbps, chol, fbs, restecg, exang, oldpeak and slope increases the heart disease risk\n",
    "4.while thalach decreases with increase risk of heart disease"
   ]
  },
  {
   "cell_type": "markdown",
   "metadata": {},
   "source": [
    "##REMOVING OUTLIERS AND SKEWNESS"
   ]
  },
  {
   "cell_type": "code",
   "execution_count": 398,
   "metadata": {},
   "outputs": [
    {
     "name": "stdout",
     "output_type": "stream",
     "text": [
      "shape of data before removing outliers (200, 12)\n",
      "\n",
      "Skewness of the dataset before removing outliers\n",
      "age        -0.404091\n",
      "sex        -5.552105\n",
      "cp         -1.648734\n",
      "trestbps   -0.773003\n",
      "chol        0.680636\n",
      "fbs         0.680636\n",
      "restecg     0.391463\n",
      "thalach    -0.409769\n",
      "exang      -1.102593\n",
      "oldpeak    -0.124325\n",
      "slope       0.210521\n",
      "num         0.297393\n",
      "dtype: float64\n",
      "New Shape (183, 12)\n"
     ]
    }
   ],
   "source": [
    "print(\"shape of data before removing outliers\", hd.shape)\n",
    "\n",
    "print()\n",
    "\n",
    "print(\"Skewness of the dataset before removing outliers\")\n",
    "print(hd.skew())\n",
    "\n",
    "from scipy.stats import zscore\n",
    "z=np.abs(zscore(hd))\n",
    "\n",
    "\n",
    "hd=hd[(z<3).all(axis=1)]\n",
    "\n",
    "print('New Shape',hd.shape)\n",
    "\n"
   ]
  },
  {
   "cell_type": "code",
   "execution_count": 399,
   "metadata": {},
   "outputs": [],
   "source": [
    "#reducing skewness using sqrt function\n",
    "for col in hd.columns:\n",
    "    if hd.skew().loc[col]>0.55:\n",
    "        hd[col]=np.sqrt(hd[col])"
   ]
  },
  {
   "cell_type": "code",
   "execution_count": 400,
   "metadata": {},
   "outputs": [
    {
     "data": {
      "text/plain": [
       "age        -0.320285\n",
       "sex         0.000000\n",
       "cp         -1.378920\n",
       "trestbps    0.790138\n",
       "chol        0.739427\n",
       "fbs         0.739427\n",
       "restecg     0.375332\n",
       "thalach    -0.361778\n",
       "exang      -1.155806\n",
       "oldpeak    -0.100422\n",
       "slope       0.236202\n",
       "num         0.275838\n",
       "dtype: float64"
      ]
     },
     "execution_count": 400,
     "metadata": {},
     "output_type": "execute_result"
    }
   ],
   "source": [
    "hd.skew()"
   ]
  },
  {
   "cell_type": "code",
   "execution_count": 401,
   "metadata": {},
   "outputs": [],
   "source": [
    "#further we can reduce the skewness using log1p method\n",
    "for col in hd.columns:\n",
    "    if hd.skew().loc[col]>0.55:\n",
    "        hd[col]=np.log1p(hd[col])"
   ]
  },
  {
   "cell_type": "code",
   "execution_count": 402,
   "metadata": {},
   "outputs": [
    {
     "data": {
      "text/plain": [
       "age        -0.320285\n",
       "sex         0.000000\n",
       "cp         -1.378920\n",
       "trestbps    0.659380\n",
       "chol        0.739427\n",
       "fbs         0.739427\n",
       "restecg     0.375332\n",
       "thalach    -0.361778\n",
       "exang      -1.155806\n",
       "oldpeak    -0.100422\n",
       "slope       0.236202\n",
       "num         0.275838\n",
       "dtype: float64"
      ]
     },
     "execution_count": 402,
     "metadata": {},
     "output_type": "execute_result"
    }
   ],
   "source": [
    "hd.skew()\n",
    "#hence reduced little skewness thn before"
   ]
  },
  {
   "cell_type": "markdown",
   "metadata": {},
   "source": [
    "##SPLITTING THE DATA INTO TARGET AND INPUT"
   ]
  },
  {
   "cell_type": "code",
   "execution_count": 403,
   "metadata": {},
   "outputs": [
    {
     "data": {
      "text/html": [
       "<div>\n",
       "<style scoped>\n",
       "    .dataframe tbody tr th:only-of-type {\n",
       "        vertical-align: middle;\n",
       "    }\n",
       "\n",
       "    .dataframe tbody tr th {\n",
       "        vertical-align: top;\n",
       "    }\n",
       "\n",
       "    .dataframe thead th {\n",
       "        text-align: right;\n",
       "    }\n",
       "</style>\n",
       "<table border=\"1\" class=\"dataframe\">\n",
       "  <thead>\n",
       "    <tr style=\"text-align: right;\">\n",
       "      <th></th>\n",
       "      <th>age</th>\n",
       "      <th>sex</th>\n",
       "      <th>cp</th>\n",
       "      <th>trestbps</th>\n",
       "      <th>chol</th>\n",
       "      <th>fbs</th>\n",
       "      <th>restecg</th>\n",
       "      <th>thalach</th>\n",
       "      <th>exang</th>\n",
       "      <th>oldpeak</th>\n",
       "      <th>slope</th>\n",
       "      <th>num</th>\n",
       "    </tr>\n",
       "  </thead>\n",
       "  <tbody>\n",
       "    <tr>\n",
       "      <th>0</th>\n",
       "      <td>63</td>\n",
       "      <td>1</td>\n",
       "      <td>4</td>\n",
       "      <td>2.551954</td>\n",
       "      <td>0.000000</td>\n",
       "      <td>0.000000</td>\n",
       "      <td>1</td>\n",
       "      <td>112</td>\n",
       "      <td>1</td>\n",
       "      <td>11</td>\n",
       "      <td>2</td>\n",
       "      <td>2</td>\n",
       "    </tr>\n",
       "    <tr>\n",
       "      <th>1</th>\n",
       "      <td>44</td>\n",
       "      <td>1</td>\n",
       "      <td>4</td>\n",
       "      <td>2.517838</td>\n",
       "      <td>0.000000</td>\n",
       "      <td>0.000000</td>\n",
       "      <td>1</td>\n",
       "      <td>127</td>\n",
       "      <td>0</td>\n",
       "      <td>1</td>\n",
       "      <td>2</td>\n",
       "      <td>0</td>\n",
       "    </tr>\n",
       "    <tr>\n",
       "      <th>2</th>\n",
       "      <td>60</td>\n",
       "      <td>1</td>\n",
       "      <td>4</td>\n",
       "      <td>2.524858</td>\n",
       "      <td>0.000000</td>\n",
       "      <td>0.000000</td>\n",
       "      <td>1</td>\n",
       "      <td>140</td>\n",
       "      <td>1</td>\n",
       "      <td>6</td>\n",
       "      <td>3</td>\n",
       "      <td>2</td>\n",
       "    </tr>\n",
       "    <tr>\n",
       "      <th>3</th>\n",
       "      <td>55</td>\n",
       "      <td>1</td>\n",
       "      <td>4</td>\n",
       "      <td>2.558496</td>\n",
       "      <td>0.000000</td>\n",
       "      <td>0.000000</td>\n",
       "      <td>1</td>\n",
       "      <td>149</td>\n",
       "      <td>1</td>\n",
       "      <td>10</td>\n",
       "      <td>1</td>\n",
       "      <td>1</td>\n",
       "    </tr>\n",
       "    <tr>\n",
       "      <th>4</th>\n",
       "      <td>66</td>\n",
       "      <td>1</td>\n",
       "      <td>3</td>\n",
       "      <td>2.441311</td>\n",
       "      <td>0.693147</td>\n",
       "      <td>0.693147</td>\n",
       "      <td>2</td>\n",
       "      <td>99</td>\n",
       "      <td>1</td>\n",
       "      <td>5</td>\n",
       "      <td>2</td>\n",
       "      <td>0</td>\n",
       "    </tr>\n",
       "    <tr>\n",
       "      <th>...</th>\n",
       "      <td>...</td>\n",
       "      <td>...</td>\n",
       "      <td>...</td>\n",
       "      <td>...</td>\n",
       "      <td>...</td>\n",
       "      <td>...</td>\n",
       "      <td>...</td>\n",
       "      <td>...</td>\n",
       "      <td>...</td>\n",
       "      <td>...</td>\n",
       "      <td>...</td>\n",
       "      <td>...</td>\n",
       "    </tr>\n",
       "    <tr>\n",
       "      <th>193</th>\n",
       "      <td>62</td>\n",
       "      <td>1</td>\n",
       "      <td>4</td>\n",
       "      <td>2.607847</td>\n",
       "      <td>0.000000</td>\n",
       "      <td>0.000000</td>\n",
       "      <td>1</td>\n",
       "      <td>138</td>\n",
       "      <td>1</td>\n",
       "      <td>1</td>\n",
       "      <td>2</td>\n",
       "      <td>1</td>\n",
       "    </tr>\n",
       "    <tr>\n",
       "      <th>194</th>\n",
       "      <td>46</td>\n",
       "      <td>1</td>\n",
       "      <td>4</td>\n",
       "      <td>2.531777</td>\n",
       "      <td>0.000000</td>\n",
       "      <td>0.000000</td>\n",
       "      <td>0</td>\n",
       "      <td>126</td>\n",
       "      <td>0</td>\n",
       "      <td>1</td>\n",
       "      <td>2</td>\n",
       "      <td>2</td>\n",
       "    </tr>\n",
       "    <tr>\n",
       "      <th>197</th>\n",
       "      <td>55</td>\n",
       "      <td>1</td>\n",
       "      <td>4</td>\n",
       "      <td>2.488680</td>\n",
       "      <td>0.693147</td>\n",
       "      <td>0.693147</td>\n",
       "      <td>1</td>\n",
       "      <td>100</td>\n",
       "      <td>0</td>\n",
       "      <td>1</td>\n",
       "      <td>2</td>\n",
       "      <td>2</td>\n",
       "    </tr>\n",
       "    <tr>\n",
       "      <th>198</th>\n",
       "      <td>58</td>\n",
       "      <td>1</td>\n",
       "      <td>4</td>\n",
       "      <td>2.481104</td>\n",
       "      <td>0.693147</td>\n",
       "      <td>0.693147</td>\n",
       "      <td>2</td>\n",
       "      <td>140</td>\n",
       "      <td>1</td>\n",
       "      <td>14</td>\n",
       "      <td>2</td>\n",
       "      <td>0</td>\n",
       "    </tr>\n",
       "    <tr>\n",
       "      <th>199</th>\n",
       "      <td>62</td>\n",
       "      <td>1</td>\n",
       "      <td>2</td>\n",
       "      <td>2.481104</td>\n",
       "      <td>0.000000</td>\n",
       "      <td>0.000000</td>\n",
       "      <td>2</td>\n",
       "      <td>93</td>\n",
       "      <td>1</td>\n",
       "      <td>1</td>\n",
       "      <td>2</td>\n",
       "      <td>1</td>\n",
       "    </tr>\n",
       "  </tbody>\n",
       "</table>\n",
       "<p>183 rows × 12 columns</p>\n",
       "</div>"
      ],
      "text/plain": [
       "     age  sex  cp  trestbps      chol       fbs  restecg  thalach  exang  \\\n",
       "0     63    1   4  2.551954  0.000000  0.000000        1      112      1   \n",
       "1     44    1   4  2.517838  0.000000  0.000000        1      127      0   \n",
       "2     60    1   4  2.524858  0.000000  0.000000        1      140      1   \n",
       "3     55    1   4  2.558496  0.000000  0.000000        1      149      1   \n",
       "4     66    1   3  2.441311  0.693147  0.693147        2       99      1   \n",
       "..   ...  ...  ..       ...       ...       ...      ...      ...    ...   \n",
       "193   62    1   4  2.607847  0.000000  0.000000        1      138      1   \n",
       "194   46    1   4  2.531777  0.000000  0.000000        0      126      0   \n",
       "197   55    1   4  2.488680  0.693147  0.693147        1      100      0   \n",
       "198   58    1   4  2.481104  0.693147  0.693147        2      140      1   \n",
       "199   62    1   2  2.481104  0.000000  0.000000        2       93      1   \n",
       "\n",
       "     oldpeak  slope  num  \n",
       "0         11      2    2  \n",
       "1          1      2    0  \n",
       "2          6      3    2  \n",
       "3         10      1    1  \n",
       "4          5      2    0  \n",
       "..       ...    ...  ...  \n",
       "193        1      2    1  \n",
       "194        1      2    2  \n",
       "197        1      2    2  \n",
       "198       14      2    0  \n",
       "199        1      2    1  \n",
       "\n",
       "[183 rows x 12 columns]"
      ]
     },
     "execution_count": 403,
     "metadata": {},
     "output_type": "execute_result"
    }
   ],
   "source": [
    "hd.rename(columns={'num ': 'num'})"
   ]
  },
  {
   "cell_type": "code",
   "execution_count": 404,
   "metadata": {},
   "outputs": [],
   "source": [
    "x=hd.drop('num ',axis=1)\n",
    "y=pd.DataFrame(hd['num ']) "
   ]
  },
  {
   "cell_type": "code",
   "execution_count": 405,
   "metadata": {},
   "outputs": [
    {
     "data": {
      "text/plain": [
       "(183, 11)"
      ]
     },
     "execution_count": 405,
     "metadata": {},
     "output_type": "execute_result"
    }
   ],
   "source": [
    "x.shape"
   ]
  },
  {
   "cell_type": "code",
   "execution_count": 406,
   "metadata": {},
   "outputs": [
    {
     "data": {
      "text/plain": [
       "(183, 1)"
      ]
     },
     "execution_count": 406,
     "metadata": {},
     "output_type": "execute_result"
    }
   ],
   "source": [
    "y.shape"
   ]
  },
  {
   "cell_type": "code",
   "execution_count": 407,
   "metadata": {},
   "outputs": [
    {
     "data": {
      "text/html": [
       "<div>\n",
       "<style scoped>\n",
       "    .dataframe tbody tr th:only-of-type {\n",
       "        vertical-align: middle;\n",
       "    }\n",
       "\n",
       "    .dataframe tbody tr th {\n",
       "        vertical-align: top;\n",
       "    }\n",
       "\n",
       "    .dataframe thead th {\n",
       "        text-align: right;\n",
       "    }\n",
       "</style>\n",
       "<table border=\"1\" class=\"dataframe\">\n",
       "  <thead>\n",
       "    <tr style=\"text-align: right;\">\n",
       "      <th></th>\n",
       "      <th>age</th>\n",
       "      <th>sex</th>\n",
       "      <th>cp</th>\n",
       "      <th>trestbps</th>\n",
       "      <th>chol</th>\n",
       "      <th>fbs</th>\n",
       "      <th>restecg</th>\n",
       "      <th>thalach</th>\n",
       "      <th>exang</th>\n",
       "      <th>oldpeak</th>\n",
       "      <th>slope</th>\n",
       "    </tr>\n",
       "  </thead>\n",
       "  <tbody>\n",
       "    <tr>\n",
       "      <th>0</th>\n",
       "      <td>63</td>\n",
       "      <td>1</td>\n",
       "      <td>4</td>\n",
       "      <td>2.551954</td>\n",
       "      <td>0.000000</td>\n",
       "      <td>0.000000</td>\n",
       "      <td>1</td>\n",
       "      <td>112</td>\n",
       "      <td>1</td>\n",
       "      <td>11</td>\n",
       "      <td>2</td>\n",
       "    </tr>\n",
       "    <tr>\n",
       "      <th>1</th>\n",
       "      <td>44</td>\n",
       "      <td>1</td>\n",
       "      <td>4</td>\n",
       "      <td>2.517838</td>\n",
       "      <td>0.000000</td>\n",
       "      <td>0.000000</td>\n",
       "      <td>1</td>\n",
       "      <td>127</td>\n",
       "      <td>0</td>\n",
       "      <td>1</td>\n",
       "      <td>2</td>\n",
       "    </tr>\n",
       "    <tr>\n",
       "      <th>2</th>\n",
       "      <td>60</td>\n",
       "      <td>1</td>\n",
       "      <td>4</td>\n",
       "      <td>2.524858</td>\n",
       "      <td>0.000000</td>\n",
       "      <td>0.000000</td>\n",
       "      <td>1</td>\n",
       "      <td>140</td>\n",
       "      <td>1</td>\n",
       "      <td>6</td>\n",
       "      <td>3</td>\n",
       "    </tr>\n",
       "    <tr>\n",
       "      <th>3</th>\n",
       "      <td>55</td>\n",
       "      <td>1</td>\n",
       "      <td>4</td>\n",
       "      <td>2.558496</td>\n",
       "      <td>0.000000</td>\n",
       "      <td>0.000000</td>\n",
       "      <td>1</td>\n",
       "      <td>149</td>\n",
       "      <td>1</td>\n",
       "      <td>10</td>\n",
       "      <td>1</td>\n",
       "    </tr>\n",
       "    <tr>\n",
       "      <th>4</th>\n",
       "      <td>66</td>\n",
       "      <td>1</td>\n",
       "      <td>3</td>\n",
       "      <td>2.441311</td>\n",
       "      <td>0.693147</td>\n",
       "      <td>0.693147</td>\n",
       "      <td>2</td>\n",
       "      <td>99</td>\n",
       "      <td>1</td>\n",
       "      <td>5</td>\n",
       "      <td>2</td>\n",
       "    </tr>\n",
       "  </tbody>\n",
       "</table>\n",
       "</div>"
      ],
      "text/plain": [
       "   age  sex  cp  trestbps      chol       fbs  restecg  thalach  exang  \\\n",
       "0   63    1   4  2.551954  0.000000  0.000000        1      112      1   \n",
       "1   44    1   4  2.517838  0.000000  0.000000        1      127      0   \n",
       "2   60    1   4  2.524858  0.000000  0.000000        1      140      1   \n",
       "3   55    1   4  2.558496  0.000000  0.000000        1      149      1   \n",
       "4   66    1   3  2.441311  0.693147  0.693147        2       99      1   \n",
       "\n",
       "   oldpeak  slope  \n",
       "0       11      2  \n",
       "1        1      2  \n",
       "2        6      3  \n",
       "3       10      1  \n",
       "4        5      2  "
      ]
     },
     "execution_count": 407,
     "metadata": {},
     "output_type": "execute_result"
    }
   ],
   "source": [
    "x.head()"
   ]
  },
  {
   "cell_type": "code",
   "execution_count": 408,
   "metadata": {},
   "outputs": [
    {
     "data": {
      "text/html": [
       "<div>\n",
       "<style scoped>\n",
       "    .dataframe tbody tr th:only-of-type {\n",
       "        vertical-align: middle;\n",
       "    }\n",
       "\n",
       "    .dataframe tbody tr th {\n",
       "        vertical-align: top;\n",
       "    }\n",
       "\n",
       "    .dataframe thead th {\n",
       "        text-align: right;\n",
       "    }\n",
       "</style>\n",
       "<table border=\"1\" class=\"dataframe\">\n",
       "  <thead>\n",
       "    <tr style=\"text-align: right;\">\n",
       "      <th></th>\n",
       "      <th>num</th>\n",
       "    </tr>\n",
       "  </thead>\n",
       "  <tbody>\n",
       "    <tr>\n",
       "      <th>0</th>\n",
       "      <td>2</td>\n",
       "    </tr>\n",
       "    <tr>\n",
       "      <th>1</th>\n",
       "      <td>0</td>\n",
       "    </tr>\n",
       "    <tr>\n",
       "      <th>2</th>\n",
       "      <td>2</td>\n",
       "    </tr>\n",
       "    <tr>\n",
       "      <th>3</th>\n",
       "      <td>1</td>\n",
       "    </tr>\n",
       "    <tr>\n",
       "      <th>4</th>\n",
       "      <td>0</td>\n",
       "    </tr>\n",
       "  </tbody>\n",
       "</table>\n",
       "</div>"
      ],
      "text/plain": [
       "   num \n",
       "0     2\n",
       "1     0\n",
       "2     2\n",
       "3     1\n",
       "4     0"
      ]
     },
     "execution_count": 408,
     "metadata": {},
     "output_type": "execute_result"
    }
   ],
   "source": [
    "y.head()"
   ]
  },
  {
   "cell_type": "markdown",
   "metadata": {},
   "source": [
    "##IMPORTING NECESSARY LIBRARIES"
   ]
  },
  {
   "cell_type": "raw",
   "metadata": {},
   "source": [
    "#since the target is classification type, so the classification algorithm will be used."
   ]
  },
  {
   "cell_type": "code",
   "execution_count": 409,
   "metadata": {},
   "outputs": [],
   "source": [
    "from sklearn.model_selection import train_test_split\n",
    "from sklearn.model_selection import cross_val_score\n",
    "from sklearn.metrics import accuracy_score, confusion_matrix, classification_report, roc_auc_score,roc_curve,auc\n",
    "from sklearn.neighbors import KNeighborsClassifier\n",
    "from sklearn.tree import DecisionTreeClassifier\n",
    "from sklearn.svm import SVC\n",
    "from sklearn.model_selection import GridSearchCV\n",
    "from sklearn.naive_bayes import MultinomialNB"
   ]
  },
  {
   "cell_type": "markdown",
   "metadata": {},
   "source": [
    "##FINDING OUT THE BEST RANDOM_STATE"
   ]
  },
  {
   "cell_type": "code",
   "execution_count": 410,
   "metadata": {},
   "outputs": [],
   "source": [
    "def max_accuracy(reg,x,y):\n",
    "    max_acc_score=0\n",
    "    for r_state in range(42,101):\n",
    "        x_train,x_test,y_train,y_test=train_test_split(x,y,random_state=r_state,test_size=0.20)\n",
    "        reg.fit(x_train,y_train)\n",
    "        pred=reg.predict(x_test)\n",
    "        acc_score=accuracy_score(y_test,pred)\n",
    "        print(\"The accuracy score achieved at r state\", r_state, \"is\", acc_score)\n",
    "        if acc_score>max_acc_score:\n",
    "            max_acc_score=acc_score\n",
    "            final_r_state=r_state\n",
    "    print(\"The maximum accuracy\", max_acc_score, \"is achieved at random state\", final_r_state)\n",
    "    return max_acc_score"
   ]
  },
  {
   "cell_type": "code",
   "execution_count": 421,
   "metadata": {},
   "outputs": [
    {
     "name": "stdout",
     "output_type": "stream",
     "text": [
      "The accuracy score achieved at r state 42 is 0.2972972972972973\n",
      "The accuracy score achieved at r state 43 is 0.21621621621621623\n",
      "The accuracy score achieved at r state 44 is 0.24324324324324326\n",
      "The accuracy score achieved at r state 45 is 0.2972972972972973\n",
      "The accuracy score achieved at r state 46 is 0.10810810810810811\n",
      "The accuracy score achieved at r state 47 is 0.2702702702702703\n",
      "The accuracy score achieved at r state 48 is 0.21621621621621623\n",
      "The accuracy score achieved at r state 49 is 0.21621621621621623\n",
      "The accuracy score achieved at r state 50 is 0.21621621621621623\n",
      "The accuracy score achieved at r state 51 is 0.24324324324324326\n",
      "The accuracy score achieved at r state 52 is 0.2702702702702703\n",
      "The accuracy score achieved at r state 53 is 0.24324324324324326\n",
      "The accuracy score achieved at r state 54 is 0.24324324324324326\n",
      "The accuracy score achieved at r state 55 is 0.2702702702702703\n",
      "The accuracy score achieved at r state 56 is 0.10810810810810811\n",
      "The accuracy score achieved at r state 57 is 0.1891891891891892\n",
      "The accuracy score achieved at r state 58 is 0.24324324324324326\n",
      "The accuracy score achieved at r state 59 is 0.2972972972972973\n",
      "The accuracy score achieved at r state 60 is 0.35135135135135137\n",
      "The accuracy score achieved at r state 61 is 0.32432432432432434\n",
      "The accuracy score achieved at r state 62 is 0.2702702702702703\n",
      "The accuracy score achieved at r state 63 is 0.24324324324324326\n",
      "The accuracy score achieved at r state 64 is 0.35135135135135137\n",
      "The accuracy score achieved at r state 65 is 0.13513513513513514\n",
      "The accuracy score achieved at r state 66 is 0.1891891891891892\n",
      "The accuracy score achieved at r state 67 is 0.24324324324324326\n",
      "The accuracy score achieved at r state 68 is 0.24324324324324326\n",
      "The accuracy score achieved at r state 69 is 0.1891891891891892\n",
      "The accuracy score achieved at r state 70 is 0.2972972972972973\n",
      "The accuracy score achieved at r state 71 is 0.32432432432432434\n",
      "The accuracy score achieved at r state 72 is 0.16216216216216217\n",
      "The accuracy score achieved at r state 73 is 0.24324324324324326\n",
      "The accuracy score achieved at r state 74 is 0.21621621621621623\n",
      "The accuracy score achieved at r state 75 is 0.2702702702702703\n",
      "The accuracy score achieved at r state 76 is 0.1891891891891892\n",
      "The accuracy score achieved at r state 77 is 0.1891891891891892\n",
      "The accuracy score achieved at r state 78 is 0.16216216216216217\n",
      "The accuracy score achieved at r state 79 is 0.1891891891891892\n",
      "The accuracy score achieved at r state 80 is 0.21621621621621623\n",
      "The accuracy score achieved at r state 81 is 0.32432432432432434\n",
      "The accuracy score achieved at r state 82 is 0.16216216216216217\n",
      "The accuracy score achieved at r state 83 is 0.21621621621621623\n",
      "The accuracy score achieved at r state 84 is 0.16216216216216217\n",
      "The accuracy score achieved at r state 85 is 0.24324324324324326\n",
      "The accuracy score achieved at r state 86 is 0.24324324324324326\n",
      "The accuracy score achieved at r state 87 is 0.32432432432432434\n",
      "The accuracy score achieved at r state 88 is 0.2702702702702703\n",
      "The accuracy score achieved at r state 89 is 0.2972972972972973\n",
      "The accuracy score achieved at r state 90 is 0.2702702702702703\n",
      "The accuracy score achieved at r state 91 is 0.35135135135135137\n",
      "The accuracy score achieved at r state 92 is 0.16216216216216217\n",
      "The accuracy score achieved at r state 93 is 0.32432432432432434\n",
      "The accuracy score achieved at r state 94 is 0.2972972972972973\n",
      "The accuracy score achieved at r state 95 is 0.1891891891891892\n",
      "The accuracy score achieved at r state 96 is 0.1891891891891892\n",
      "The accuracy score achieved at r state 97 is 0.21621621621621623\n",
      "The accuracy score achieved at r state 98 is 0.35135135135135137\n",
      "The accuracy score achieved at r state 99 is 0.21621621621621623\n",
      "The accuracy score achieved at r state 100 is 0.3783783783783784\n",
      "The maximum accuracy 0.3783783783783784 is achieved at random state 100\n"
     ]
    },
    {
     "data": {
      "text/plain": [
       "0.3783783783783784"
      ]
     },
     "execution_count": 421,
     "metadata": {},
     "output_type": "execute_result"
    }
   ],
   "source": [
    "mnb=MultinomialNB()\n",
    "max_accuracy(mnb,x,y)"
   ]
  },
  {
   "cell_type": "code",
   "execution_count": 422,
   "metadata": {},
   "outputs": [
    {
     "name": "stdout",
     "output_type": "stream",
     "text": [
      "The Accuracy Score at random state 42 is 0.34545454545454546\n",
      "The Accuracy Score at random state 43 is 0.45454545454545453\n",
      "The Accuracy Score at random state 44 is 0.3090909090909091\n",
      "The Accuracy Score at random state 45 is 0.2545454545454545\n",
      "The Accuracy Score at random state 46 is 0.2909090909090909\n",
      "The Accuracy Score at random state 47 is 0.2545454545454545\n",
      "The Accuracy Score at random state 48 is 0.3090909090909091\n",
      "The Accuracy Score at random state 49 is 0.3090909090909091\n",
      "The Accuracy Score at random state 50 is 0.3090909090909091\n",
      "The Accuracy Score at random state 51 is 0.23636363636363636\n",
      "The Accuracy Score at random state 52 is 0.2545454545454545\n",
      "The Accuracy Score at random state 53 is 0.18181818181818182\n",
      "The Accuracy Score at random state 54 is 0.32727272727272727\n",
      "The Accuracy Score at random state 55 is 0.23636363636363636\n",
      "The Accuracy Score at random state 56 is 0.38181818181818183\n",
      "The Accuracy Score at random state 57 is 0.2727272727272727\n",
      "The Accuracy Score at random state 58 is 0.2727272727272727\n",
      "The Accuracy Score at random state 59 is 0.2727272727272727\n",
      "The Accuracy Score at random state 60 is 0.36363636363636365\n",
      "The Accuracy Score at random state 61 is 0.2909090909090909\n",
      "The Accuracy Score at random state 62 is 0.2909090909090909\n",
      "The Accuracy Score at random state 63 is 0.34545454545454546\n",
      "The Accuracy Score at random state 64 is 0.36363636363636365\n",
      "The Accuracy Score at random state 65 is 0.3090909090909091\n",
      "The Accuracy Score at random state 66 is 0.21818181818181817\n",
      "The Accuracy Score at random state 67 is 0.2727272727272727\n",
      "The Accuracy Score at random state 68 is 0.23636363636363636\n",
      "The Accuracy Score at random state 69 is 0.16363636363636364\n",
      "The Accuracy Score at random state 70 is 0.2545454545454545\n",
      "The Accuracy Score at random state 71 is 0.3090909090909091\n",
      "The Accuracy Score at random state 72 is 0.2909090909090909\n",
      "The Accuracy Score at random state 73 is 0.32727272727272727\n",
      "The Accuracy Score at random state 74 is 0.4\n",
      "The Accuracy Score at random state 75 is 0.3090909090909091\n",
      "The Accuracy Score at random state 76 is 0.21818181818181817\n",
      "The Accuracy Score at random state 77 is 0.2\n",
      "The Accuracy Score at random state 78 is 0.23636363636363636\n",
      "The Accuracy Score at random state 79 is 0.3090909090909091\n",
      "The Accuracy Score at random state 80 is 0.32727272727272727\n",
      "The Accuracy Score at random state 81 is 0.34545454545454546\n",
      "The Accuracy Score at random state 82 is 0.2909090909090909\n",
      "The Accuracy Score at random state 83 is 0.2\n",
      "The Accuracy Score at random state 84 is 0.18181818181818182\n",
      "The Accuracy Score at random state 85 is 0.3090909090909091\n",
      "The Accuracy Score at random state 86 is 0.2909090909090909\n",
      "The Accuracy Score at random state 87 is 0.38181818181818183\n",
      "The Accuracy Score at random state 88 is 0.38181818181818183\n",
      "The Accuracy Score at random state 89 is 0.3090909090909091\n",
      "The Accuracy Score at random state 90 is 0.2545454545454545\n",
      "The Accuracy Score at random state 91 is 0.3090909090909091\n",
      "The Accuracy Score at random state 92 is 0.2545454545454545\n",
      "The Accuracy Score at random state 93 is 0.2727272727272727\n",
      "The Accuracy Score at random state 94 is 0.2909090909090909\n",
      "The Accuracy Score at random state 95 is 0.2727272727272727\n",
      "The Accuracy Score at random state 96 is 0.21818181818181817\n",
      "The Accuracy Score at random state 97 is 0.32727272727272727\n",
      "The Accuracy Score at random state 98 is 0.43636363636363634\n",
      "The Accuracy Score at random state 99 is 0.3090909090909091\n",
      "The Accuracy Score at random state 100 is 0.32727272727272727\n",
      "The Maximum Accuracy Score  0.45454545454545453 is accumulated at 43\n"
     ]
    }
   ],
   "source": [
    "max_acc_score = 0\n",
    "\n",
    "for i in range(42,101):\n",
    "    r_state = i\n",
    "    x_train,x_test,y_train,y_test = train_test_split(x,y,random_state = r_state ,test_size=0.30)\n",
    "    kn = KNeighborsClassifier(n_neighbors=10)\n",
    "    \n",
    "    kn.fit(x_train,y_train)\n",
    "    pred = kn.predict(x_test)\n",
    "    \n",
    "    acc_score=accuracy_score(pred,y_test)\n",
    "    print(\"The Accuracy Score at random state\",i, \"is\",acc_score)\n",
    "    \n",
    "    if acc_score>max_acc_score:\n",
    "        max_acc_score=acc_score\n",
    "        final_r_state = r_state\n",
    "        \n",
    "print(\"The Maximum Accuracy Score \",max_acc_score,\"is accumulated at\",final_r_state)"
   ]
  },
  {
   "cell_type": "code",
   "execution_count": 423,
   "metadata": {},
   "outputs": [
    {
     "name": "stdout",
     "output_type": "stream",
     "text": [
      "The Accuracy Score at random state 42 is 0.3090909090909091\n",
      "The Accuracy Score at random state 43 is 0.34545454545454546\n",
      "The Accuracy Score at random state 44 is 0.21818181818181817\n",
      "The Accuracy Score at random state 45 is 0.2727272727272727\n",
      "The Accuracy Score at random state 46 is 0.2545454545454545\n",
      "The Accuracy Score at random state 47 is 0.21818181818181817\n",
      "The Accuracy Score at random state 48 is 0.2909090909090909\n",
      "The Accuracy Score at random state 49 is 0.2727272727272727\n",
      "The Accuracy Score at random state 50 is 0.23636363636363636\n",
      "The Accuracy Score at random state 51 is 0.32727272727272727\n",
      "The Accuracy Score at random state 52 is 0.2909090909090909\n",
      "The Accuracy Score at random state 53 is 0.23636363636363636\n",
      "The Accuracy Score at random state 54 is 0.14545454545454545\n",
      "The Accuracy Score at random state 55 is 0.3090909090909091\n",
      "The Accuracy Score at random state 56 is 0.21818181818181817\n",
      "The Accuracy Score at random state 57 is 0.21818181818181817\n",
      "The Accuracy Score at random state 58 is 0.21818181818181817\n",
      "The Accuracy Score at random state 59 is 0.2727272727272727\n",
      "The Accuracy Score at random state 60 is 0.18181818181818182\n",
      "The Accuracy Score at random state 61 is 0.2909090909090909\n",
      "The Accuracy Score at random state 62 is 0.2727272727272727\n",
      "The Accuracy Score at random state 63 is 0.3090909090909091\n",
      "The Accuracy Score at random state 64 is 0.2545454545454545\n",
      "The Accuracy Score at random state 65 is 0.2909090909090909\n",
      "The Accuracy Score at random state 66 is 0.3090909090909091\n",
      "The Accuracy Score at random state 67 is 0.23636363636363636\n",
      "The Accuracy Score at random state 68 is 0.2909090909090909\n",
      "The Accuracy Score at random state 69 is 0.2909090909090909\n",
      "The Accuracy Score at random state 70 is 0.23636363636363636\n",
      "The Accuracy Score at random state 71 is 0.2727272727272727\n",
      "The Accuracy Score at random state 72 is 0.36363636363636365\n",
      "The Accuracy Score at random state 73 is 0.2909090909090909\n",
      "The Accuracy Score at random state 74 is 0.38181818181818183\n",
      "The Accuracy Score at random state 75 is 0.4\n",
      "The Accuracy Score at random state 76 is 0.2545454545454545\n",
      "The Accuracy Score at random state 77 is 0.36363636363636365\n",
      "The Accuracy Score at random state 78 is 0.32727272727272727\n",
      "The Accuracy Score at random state 79 is 0.32727272727272727\n",
      "The Accuracy Score at random state 80 is 0.2727272727272727\n",
      "The Accuracy Score at random state 81 is 0.34545454545454546\n",
      "The Accuracy Score at random state 82 is 0.23636363636363636\n",
      "The Accuracy Score at random state 83 is 0.2545454545454545\n",
      "The Accuracy Score at random state 84 is 0.3090909090909091\n",
      "The Accuracy Score at random state 85 is 0.2909090909090909\n",
      "The Accuracy Score at random state 86 is 0.2545454545454545\n",
      "The Accuracy Score at random state 87 is 0.34545454545454546\n",
      "The Accuracy Score at random state 88 is 0.32727272727272727\n",
      "The Accuracy Score at random state 89 is 0.32727272727272727\n",
      "The Accuracy Score at random state 90 is 0.23636363636363636\n",
      "The Accuracy Score at random state 91 is 0.36363636363636365\n",
      "The Accuracy Score at random state 92 is 0.38181818181818183\n",
      "The Accuracy Score at random state 93 is 0.2545454545454545\n",
      "The Accuracy Score at random state 94 is 0.21818181818181817\n",
      "The Accuracy Score at random state 95 is 0.2\n",
      "The Accuracy Score at random state 96 is 0.3090909090909091\n",
      "The Accuracy Score at random state 97 is 0.23636363636363636\n",
      "The Accuracy Score at random state 98 is 0.2545454545454545\n",
      "The Accuracy Score at random state 99 is 0.2545454545454545\n",
      "The Accuracy Score at random state 100 is 0.2727272727272727\n",
      "The Maximum Accuracy Score  0.4 is accumulated at 75\n"
     ]
    }
   ],
   "source": [
    "max_acc_score = 0\n",
    "\n",
    "for i in range(42,101):\n",
    "    r_state = i\n",
    "    x_train,x_test,y_train,y_test = train_test_split(x,y,random_state = r_state ,test_size=0.30)\n",
    "    dt = DecisionTreeClassifier(criterion='entropy')\n",
    "    \n",
    "    dt.fit(x_train,y_train)\n",
    "    pred = dt.predict(x_test)\n",
    "    \n",
    "    acc_score=accuracy_score(pred,y_test)\n",
    "    print(\"The Accuracy Score at random state\",i, \"is\",acc_score)\n",
    "    \n",
    "    if acc_score>max_acc_score:\n",
    "        max_acc_score=acc_score\n",
    "        final_r_state = r_state\n",
    "        \n",
    "print(\"The Maximum Accuracy Score \",max_acc_score,\"is accumulated at\",final_r_state)"
   ]
  },
  {
   "cell_type": "markdown",
   "metadata": {},
   "source": [
    "obeservation-\n",
    "-maximum accuracy score is 0.454 at 43, using DecisiontreeClassifier.."
   ]
  },
  {
   "cell_type": "markdown",
   "metadata": {},
   "source": [
    "##FINALISING THE train_test_split "
   ]
  },
  {
   "cell_type": "code",
   "execution_count": 424,
   "metadata": {},
   "outputs": [],
   "source": [
    "x_train,x_test,y_train,y_test=train_test_split(x,y, test_size=0.20, random_state=90)"
   ]
  },
  {
   "cell_type": "code",
   "execution_count": 425,
   "metadata": {},
   "outputs": [
    {
     "name": "stdout",
     "output_type": "stream",
     "text": [
      "(146, 11)\n",
      "(146, 1)\n",
      "(37, 11)\n",
      "(37, 1)\n"
     ]
    }
   ],
   "source": [
    "print(x_train.shape)\n",
    "print(y_train.shape)\n",
    "print(x_test.shape)\n",
    "print(y_test.shape)"
   ]
  },
  {
   "cell_type": "markdown",
   "metadata": {},
   "source": [
    "##TESTING THE ALGORITHM"
   ]
  },
  {
   "cell_type": "raw",
   "metadata": {},
   "source": [
    "#using GridsearchCV TO select the best parameter"
   ]
  },
  {
   "cell_type": "code",
   "execution_count": 426,
   "metadata": {},
   "outputs": [
    {
     "data": {
      "text/plain": [
       "{'C': 1, 'kernel': 'linear'}"
      ]
     },
     "execution_count": 426,
     "metadata": {},
     "output_type": "execute_result"
    }
   ],
   "source": [
    "#best parameters for SVC\n",
    "sv=SVC()\n",
    "parameters={'kernel':('linear','rbf','poly'), 'C':[1,10]}\n",
    "gdsv=GridSearchCV(sv, parameters)\n",
    "gdsv.fit(x_train,y_train)\n",
    "gdsv.best_params_"
   ]
  },
  {
   "cell_type": "code",
   "execution_count": 439,
   "metadata": {},
   "outputs": [
    {
     "data": {
      "text/plain": [
       "{'algorithm': 'auto', 'n_neighbors': 20, 'weights': 'distance'}"
      ]
     },
     "execution_count": 439,
     "metadata": {},
     "output_type": "execute_result"
    }
   ],
   "source": [
    "#best parameters for KNN\n",
    "kn=KNeighborsClassifier()\n",
    "parameters={'n_neighbors':(5,10,15,20),'weights':('uniform','distance'),'algorithm':('auto','ball_tree','kd_tree','brute')}\n",
    "gd= GridSearchCV(kn,parameters)\n",
    "gd.fit(x_train,y_train)\n",
    "gd.best_params_"
   ]
  },
  {
   "cell_type": "code",
   "execution_count": 432,
   "metadata": {},
   "outputs": [
    {
     "data": {
      "text/plain": [
       "{'alpha': 1}"
      ]
     },
     "execution_count": 432,
     "metadata": {},
     "output_type": "execute_result"
    }
   ],
   "source": [
    "#best parameters for MultinomialNB\n",
    "mnb=MultinomialNB()\n",
    "parameters={'alpha':(0,0.001,0.01,0.1,1)}\n",
    "gdmb=GridSearchCV(mnb,parameters)\n",
    "gdmb.fit(x_train,y_train)\n",
    "gdmb.best_params_"
   ]
  },
  {
   "cell_type": "code",
   "execution_count": 433,
   "metadata": {},
   "outputs": [
    {
     "data": {
      "text/plain": [
       "{'criterion': 'entropy', 'splitter': 'random'}"
      ]
     },
     "execution_count": 433,
     "metadata": {},
     "output_type": "execute_result"
    }
   ],
   "source": [
    "dt=DecisionTreeClassifier()\n",
    "parameters={'criterion':('gini','entropy'), 'splitter':('best','random')}\n",
    "gddt=GridSearchCV(dt,parameters)\n",
    "gddt.fit(x_train,y_train)\n",
    "gddt.best_params_"
   ]
  },
  {
   "cell_type": "markdown",
   "metadata": {},
   "source": [
    "##Testing all required model with best parameters calculated"
   ]
  },
  {
   "cell_type": "code",
   "execution_count": 443,
   "metadata": {},
   "outputs": [
    {
     "name": "stdout",
     "output_type": "stream",
     "text": [
      "KNeighborsClassifier(algorithm='auto', leaf_size=30, metric='minkowski',\n",
      "                     metric_params=None, n_jobs=None, n_neighbors=20, p=2,\n",
      "                     weights='distance')\n",
      "\n",
      "The accuracy score is  0.40540540540540543\n",
      "\n",
      "The cross val score is 0.31111111111111106\n",
      "\n",
      "              precision    recall  f1-score   support\n",
      "\n",
      "           0       0.44      0.44      0.44         9\n",
      "           1       0.50      0.38      0.43        13\n",
      "           2       0.36      0.67      0.47         6\n",
      "           3       0.29      0.29      0.29         7\n",
      "           4       0.00      0.00      0.00         2\n",
      "\n",
      "    accuracy                           0.41        37\n",
      "   macro avg       0.32      0.36      0.33        37\n",
      "weighted avg       0.40      0.41      0.39        37\n",
      "\n",
      "\n",
      "[[4 3 2 0 0]\n",
      " [1 5 4 3 0]\n",
      " [1 0 4 1 0]\n",
      " [3 2 0 2 0]\n",
      " [0 0 1 1 0]]\n",
      "\n",
      "The roc auc score is 0.6252578626570562\n",
      "\n",
      "\n",
      "DecisionTreeClassifier(ccp_alpha=0.0, class_weight=None, criterion='entropy',\n",
      "                       max_depth=None, max_features=None, max_leaf_nodes=None,\n",
      "                       min_impurity_decrease=0.0, min_impurity_split=None,\n",
      "                       min_samples_leaf=1, min_samples_split=2,\n",
      "                       min_weight_fraction_leaf=0.0, presort='deprecated',\n",
      "                       random_state=None, splitter='random')\n",
      "\n",
      "The accuracy score is  0.2702702702702703\n",
      "\n",
      "The cross val score is 0.33363363363363363\n",
      "\n",
      "              precision    recall  f1-score   support\n",
      "\n",
      "           0       0.44      0.44      0.44         9\n",
      "           1       0.50      0.15      0.24        13\n",
      "           2       0.18      0.33      0.24         6\n",
      "           3       0.17      0.29      0.21         7\n",
      "           4       0.00      0.00      0.00         2\n",
      "\n",
      "    accuracy                           0.27        37\n",
      "   macro avg       0.26      0.24      0.23        37\n",
      "weighted avg       0.34      0.27      0.27        37\n",
      "\n",
      "\n",
      "[[4 1 1 3 0]\n",
      " [3 2 5 3 0]\n",
      " [0 1 2 3 0]\n",
      " [2 0 2 2 1]\n",
      " [0 0 1 1 0]]\n",
      "\n",
      "The roc auc score is 0.5303206112883532\n",
      "\n",
      "\n",
      "SVC(C=10, break_ties=False, cache_size=200, class_weight=None, coef0=0.0,\n",
      "    decision_function_shape='ovr', degree=3, gamma='scale', kernel='poly',\n",
      "    max_iter=-1, probability=False, random_state=None, shrinking=True,\n",
      "    tol=0.001, verbose=False)\n",
      "\n",
      "The accuracy score is  0.24324324324324326\n",
      "\n",
      "The cross val score is 0.2905405405405405\n",
      "\n",
      "              precision    recall  f1-score   support\n",
      "\n",
      "           0       0.00      0.00      0.00         9\n",
      "           1       0.30      0.54      0.39        13\n",
      "           2       0.22      0.33      0.27         6\n",
      "           3       0.00      0.00      0.00         7\n",
      "           4       0.00      0.00      0.00         2\n",
      "\n",
      "    accuracy                           0.24        37\n",
      "   macro avg       0.11      0.17      0.13        37\n",
      "weighted avg       0.14      0.24      0.18        37\n",
      "\n",
      "\n",
      "[[0 8 0 1 0]\n",
      " [0 7 4 2 0]\n",
      " [0 2 2 2 0]\n",
      " [0 6 1 0 0]\n",
      " [0 0 2 0 0]]\n",
      "\n",
      "The roc auc score is 0.6148487862197539\n",
      "\n",
      "\n",
      "MultinomialNB(alpha=0, class_prior=None, fit_prior=True)\n",
      "\n",
      "The accuracy score is  0.2702702702702703\n",
      "\n",
      "The cross val score is 0.2683183183183183\n",
      "\n",
      "              precision    recall  f1-score   support\n",
      "\n",
      "           0       1.00      0.22      0.36         9\n",
      "           1       0.33      0.31      0.32        13\n",
      "           2       0.12      0.17      0.14         6\n",
      "           3       0.20      0.43      0.27         7\n",
      "           4       0.00      0.00      0.00         2\n",
      "\n",
      "    accuracy                           0.27        37\n",
      "   macro avg       0.33      0.23      0.22        37\n",
      "weighted avg       0.42      0.27      0.28        37\n",
      "\n",
      "\n",
      "[[2 4 1 2 0]\n",
      " [0 4 4 5 0]\n",
      " [0 2 1 3 0]\n",
      " [0 2 2 3 0]\n",
      " [0 0 0 2 0]]\n",
      "\n",
      "The roc auc score is 0.5207516050257985\n",
      "\n",
      "\n"
     ]
    }
   ],
   "source": [
    "score=[]\n",
    "cv=[]\n",
    "roc=[]\n",
    "\n",
    "from sklearn.metrics import auc, roc_auc_score, roc_curve\n",
    "from sklearn.preprocessing import LabelBinarizer\n",
    "\n",
    "algorithms=[KNeighborsClassifier(algorithm='auto', n_neighbors= 20, weights='distance'), DecisionTreeClassifier(criterion= 'entropy', splitter= 'random'), SVC(C=10, kernel='poly'),MultinomialNB(alpha=0)]\n",
    "\n",
    "for i in algorithms:\n",
    "    print(i)\n",
    "    i.fit(x_train,y_train)\n",
    "    pred=i.predict(x_test)\n",
    "    accscore=accuracy_score(y_test,pred)\n",
    "    score.append(accscore)\n",
    "    print(\"\")\n",
    "    print(\"The accuracy score is \", accscore)\n",
    "    print(\"\")\n",
    "    cvscore=cross_val_score(i,x,y,cv=5,scoring='accuracy').mean()\n",
    "    cv.append(cvscore)\n",
    "    print(\"The cross val score is\", cvscore)\n",
    "    print()\n",
    "    print(classification_report(y_test,pred))\n",
    "    print()\n",
    "    cm=confusion_matrix(y_test,pred)\n",
    "    print(cm)\n",
    "    print()\n",
    "    lb=LabelBinarizer()\n",
    "    test_y=lb.fit_transform(y_test)\n",
    "    pred=lb.fit_transform(pred)\n",
    "    rocscore=roc_auc_score(test_y,pred)\n",
    "    roc.append(rocscore)\n",
    "    print(\"The roc auc score is\", rocscore)\n",
    "    print(\"\\n\")\n",
    "   \n",
    "    "
   ]
  },
  {
   "cell_type": "code",
   "execution_count": 444,
   "metadata": {},
   "outputs": [
    {
     "data": {
      "text/html": [
       "<div>\n",
       "<style scoped>\n",
       "    .dataframe tbody tr th:only-of-type {\n",
       "        vertical-align: middle;\n",
       "    }\n",
       "\n",
       "    .dataframe tbody tr th {\n",
       "        vertical-align: top;\n",
       "    }\n",
       "\n",
       "    .dataframe thead th {\n",
       "        text-align: right;\n",
       "    }\n",
       "</style>\n",
       "<table border=\"1\" class=\"dataframe\">\n",
       "  <thead>\n",
       "    <tr style=\"text-align: right;\">\n",
       "      <th></th>\n",
       "      <th>Model</th>\n",
       "      <th>Accuracy_Score</th>\n",
       "      <th>Cross_val_score</th>\n",
       "      <th>roc-auc score</th>\n",
       "    </tr>\n",
       "  </thead>\n",
       "  <tbody>\n",
       "    <tr>\n",
       "      <th>0</th>\n",
       "      <td>&lt;class 'sklearn.neighbors._classification.KNei...</td>\n",
       "      <td>0.405405</td>\n",
       "      <td>0.311111</td>\n",
       "      <td>0.625258</td>\n",
       "    </tr>\n",
       "    <tr>\n",
       "      <th>1</th>\n",
       "      <td>&lt;class 'sklearn.tree._classes.DecisionTreeClas...</td>\n",
       "      <td>0.270270</td>\n",
       "      <td>0.333634</td>\n",
       "      <td>0.530321</td>\n",
       "    </tr>\n",
       "    <tr>\n",
       "      <th>2</th>\n",
       "      <td>&lt;class 'sklearn.svm._classes.SVC'&gt;</td>\n",
       "      <td>0.243243</td>\n",
       "      <td>0.290541</td>\n",
       "      <td>0.614849</td>\n",
       "    </tr>\n",
       "    <tr>\n",
       "      <th>3</th>\n",
       "      <td>&lt;class 'sklearn.naive_bayes.MultinomialNB'&gt;</td>\n",
       "      <td>0.270270</td>\n",
       "      <td>0.268318</td>\n",
       "      <td>0.520752</td>\n",
       "    </tr>\n",
       "  </tbody>\n",
       "</table>\n",
       "</div>"
      ],
      "text/plain": [
       "                                               Model  Accuracy_Score  \\\n",
       "0  <class 'sklearn.neighbors._classification.KNei...        0.405405   \n",
       "1  <class 'sklearn.tree._classes.DecisionTreeClas...        0.270270   \n",
       "2                 <class 'sklearn.svm._classes.SVC'>        0.243243   \n",
       "3        <class 'sklearn.naive_bayes.MultinomialNB'>        0.270270   \n",
       "\n",
       "   Cross_val_score  roc-auc score  \n",
       "0         0.311111       0.625258  \n",
       "1         0.333634       0.530321  \n",
       "2         0.290541       0.614849  \n",
       "3         0.268318       0.520752  "
      ]
     },
     "execution_count": 444,
     "metadata": {},
     "output_type": "execute_result"
    }
   ],
   "source": [
    "result=pd.DataFrame({'Model':[KNeighborsClassifier, DecisionTreeClassifier, SVC,MultinomialNB],'Accuracy_Score':score,'Cross_val_score':cv, 'roc-auc score': roc})\n",
    "result"
   ]
  },
  {
   "cell_type": "markdown",
   "metadata": {},
   "source": [
    "##since the score is low...will use ensemble technique for boosting"
   ]
  },
  {
   "cell_type": "code",
   "execution_count": 445,
   "metadata": {},
   "outputs": [
    {
     "data": {
      "text/plain": [
       "{'n_estimators': 100}"
      ]
     },
     "execution_count": 445,
     "metadata": {},
     "output_type": "execute_result"
    }
   ],
   "source": [
    "from sklearn.ensemble import RandomForestClassifier\n",
    "rf=RandomForestClassifier()\n",
    "parameters={'n_estimators':(10,50,100,200,500)}\n",
    "gdrf=GridSearchCV(rf,parameters)\n",
    "gdrf.fit(x_train,y_train)\n",
    "gdrf.best_params_"
   ]
  },
  {
   "cell_type": "code",
   "execution_count": 446,
   "metadata": {},
   "outputs": [
    {
     "name": "stdout",
     "output_type": "stream",
     "text": [
      "The accuracy score achieved at r state 42 is 0.3783783783783784\n",
      "The accuracy score achieved at r state 43 is 0.3783783783783784\n",
      "The accuracy score achieved at r state 44 is 0.35135135135135137\n",
      "The accuracy score achieved at r state 45 is 0.35135135135135137\n",
      "The accuracy score achieved at r state 46 is 0.2702702702702703\n",
      "The accuracy score achieved at r state 47 is 0.3783783783783784\n",
      "The accuracy score achieved at r state 48 is 0.4594594594594595\n",
      "The accuracy score achieved at r state 49 is 0.24324324324324326\n",
      "The accuracy score achieved at r state 50 is 0.35135135135135137\n",
      "The accuracy score achieved at r state 51 is 0.21621621621621623\n",
      "The accuracy score achieved at r state 52 is 0.35135135135135137\n",
      "The accuracy score achieved at r state 53 is 0.35135135135135137\n",
      "The accuracy score achieved at r state 54 is 0.2972972972972973\n",
      "The accuracy score achieved at r state 55 is 0.3783783783783784\n",
      "The accuracy score achieved at r state 56 is 0.2972972972972973\n",
      "The accuracy score achieved at r state 57 is 0.43243243243243246\n",
      "The accuracy score achieved at r state 58 is 0.21621621621621623\n",
      "The accuracy score achieved at r state 59 is 0.3783783783783784\n",
      "The accuracy score achieved at r state 60 is 0.3783783783783784\n",
      "The accuracy score achieved at r state 61 is 0.35135135135135137\n",
      "The accuracy score achieved at r state 62 is 0.32432432432432434\n",
      "The accuracy score achieved at r state 63 is 0.35135135135135137\n",
      "The accuracy score achieved at r state 64 is 0.2972972972972973\n",
      "The accuracy score achieved at r state 65 is 0.24324324324324326\n",
      "The accuracy score achieved at r state 66 is 0.21621621621621623\n",
      "The accuracy score achieved at r state 67 is 0.4864864864864865\n",
      "The accuracy score achieved at r state 68 is 0.2702702702702703\n",
      "The accuracy score achieved at r state 69 is 0.32432432432432434\n",
      "The accuracy score achieved at r state 70 is 0.2702702702702703\n",
      "The accuracy score achieved at r state 71 is 0.2972972972972973\n",
      "The accuracy score achieved at r state 72 is 0.10810810810810811\n",
      "The accuracy score achieved at r state 73 is 0.32432432432432434\n",
      "The accuracy score achieved at r state 74 is 0.32432432432432434\n",
      "The accuracy score achieved at r state 75 is 0.24324324324324326\n",
      "The accuracy score achieved at r state 76 is 0.35135135135135137\n",
      "The accuracy score achieved at r state 77 is 0.2972972972972973\n",
      "The accuracy score achieved at r state 78 is 0.2702702702702703\n",
      "The accuracy score achieved at r state 79 is 0.35135135135135137\n",
      "The accuracy score achieved at r state 80 is 0.2702702702702703\n",
      "The accuracy score achieved at r state 81 is 0.35135135135135137\n",
      "The accuracy score achieved at r state 82 is 0.21621621621621623\n",
      "The accuracy score achieved at r state 83 is 0.35135135135135137\n",
      "The accuracy score achieved at r state 84 is 0.2702702702702703\n",
      "The accuracy score achieved at r state 85 is 0.35135135135135137\n",
      "The accuracy score achieved at r state 86 is 0.40540540540540543\n",
      "The accuracy score achieved at r state 87 is 0.35135135135135137\n",
      "The accuracy score achieved at r state 88 is 0.3783783783783784\n",
      "The accuracy score achieved at r state 89 is 0.2972972972972973\n",
      "The accuracy score achieved at r state 90 is 0.2702702702702703\n",
      "The accuracy score achieved at r state 91 is 0.1891891891891892\n",
      "The accuracy score achieved at r state 92 is 0.21621621621621623\n",
      "The accuracy score achieved at r state 93 is 0.43243243243243246\n",
      "The accuracy score achieved at r state 94 is 0.35135135135135137\n",
      "The accuracy score achieved at r state 95 is 0.2972972972972973\n",
      "The accuracy score achieved at r state 96 is 0.2972972972972973\n",
      "The accuracy score achieved at r state 97 is 0.3783783783783784\n",
      "The accuracy score achieved at r state 98 is 0.2972972972972973\n",
      "The accuracy score achieved at r state 99 is 0.32432432432432434\n",
      "The accuracy score achieved at r state 100 is 0.40540540540540543\n",
      "The maximum accuracy 0.4864864864864865 is achieved at random state 67\n"
     ]
    },
    {
     "data": {
      "text/plain": [
       "0.4864864864864865"
      ]
     },
     "execution_count": 446,
     "metadata": {},
     "output_type": "execute_result"
    }
   ],
   "source": [
    "#checking the best accuracy score and random state for RandomForestClassifier\n",
    "rf=RandomForestClassifier(n_estimators=100)\n",
    "max_accuracy(rf,x,y)"
   ]
  },
  {
   "cell_type": "code",
   "execution_count": 447,
   "metadata": {},
   "outputs": [
    {
     "name": "stdout",
     "output_type": "stream",
     "text": [
      "The cross val score of Random forest classifier is 0.3438438438438439\n"
     ]
    }
   ],
   "source": [
    "#checking the cross val score\n",
    "cs=cross_val_score(rf,x,y,cv=5,scoring='accuracy').mean()\n",
    "print(\"The cross val score of Random forest classifier is\", cs)"
   ]
  },
  {
   "cell_type": "code",
   "execution_count": 448,
   "metadata": {},
   "outputs": [
    {
     "data": {
      "text/plain": [
       "{'criterion': 'mae', 'learning_rate': 0.01, 'n_estimators': 500}"
      ]
     },
     "execution_count": 448,
     "metadata": {},
     "output_type": "execute_result"
    }
   ],
   "source": [
    "from sklearn.ensemble import GradientBoostingClassifier\n",
    "gc=GradientBoostingClassifier()\n",
    "parameters={'learning_rate':(0.001,0.01,0.1,1),'n_estimators':(50,100,200,500),'criterion':('friedman_mse', 'mse', 'mae')}\n",
    "gd=GridSearchCV(gc,parameters)\n",
    "gd.fit(x_train,y_train)\n",
    "gd.best_params_"
   ]
  },
  {
   "cell_type": "code",
   "execution_count": 449,
   "metadata": {},
   "outputs": [
    {
     "name": "stdout",
     "output_type": "stream",
     "text": [
      "The accuracy score achieved at r state 42 is 0.32432432432432434\n",
      "The accuracy score achieved at r state 43 is 0.2702702702702703\n",
      "The accuracy score achieved at r state 44 is 0.2702702702702703\n",
      "The accuracy score achieved at r state 45 is 0.35135135135135137\n",
      "The accuracy score achieved at r state 46 is 0.24324324324324326\n",
      "The accuracy score achieved at r state 47 is 0.2972972972972973\n",
      "The accuracy score achieved at r state 48 is 0.32432432432432434\n",
      "The accuracy score achieved at r state 49 is 0.32432432432432434\n",
      "The accuracy score achieved at r state 50 is 0.32432432432432434\n",
      "The accuracy score achieved at r state 51 is 0.21621621621621623\n",
      "The accuracy score achieved at r state 52 is 0.16216216216216217\n",
      "The accuracy score achieved at r state 53 is 0.2972972972972973\n",
      "The accuracy score achieved at r state 54 is 0.24324324324324326\n",
      "The accuracy score achieved at r state 55 is 0.32432432432432434\n",
      "The accuracy score achieved at r state 56 is 0.32432432432432434\n",
      "The accuracy score achieved at r state 57 is 0.3783783783783784\n",
      "The accuracy score achieved at r state 58 is 0.21621621621621623\n",
      "The accuracy score achieved at r state 59 is 0.2702702702702703\n",
      "The accuracy score achieved at r state 60 is 0.3783783783783784\n",
      "The accuracy score achieved at r state 61 is 0.32432432432432434\n",
      "The accuracy score achieved at r state 62 is 0.21621621621621623\n",
      "The accuracy score achieved at r state 63 is 0.32432432432432434\n",
      "The accuracy score achieved at r state 64 is 0.32432432432432434\n",
      "The accuracy score achieved at r state 65 is 0.24324324324324326\n",
      "The accuracy score achieved at r state 66 is 0.2702702702702703\n",
      "The accuracy score achieved at r state 67 is 0.32432432432432434\n",
      "The accuracy score achieved at r state 68 is 0.32432432432432434\n",
      "The accuracy score achieved at r state 69 is 0.2702702702702703\n",
      "The accuracy score achieved at r state 70 is 0.24324324324324326\n",
      "The accuracy score achieved at r state 71 is 0.2702702702702703\n",
      "The accuracy score achieved at r state 72 is 0.16216216216216217\n",
      "The accuracy score achieved at r state 73 is 0.2702702702702703\n",
      "The accuracy score achieved at r state 74 is 0.2702702702702703\n",
      "The accuracy score achieved at r state 75 is 0.24324324324324326\n",
      "The accuracy score achieved at r state 76 is 0.1891891891891892\n",
      "The accuracy score achieved at r state 77 is 0.24324324324324326\n",
      "The accuracy score achieved at r state 78 is 0.13513513513513514\n",
      "The accuracy score achieved at r state 79 is 0.35135135135135137\n",
      "The accuracy score achieved at r state 80 is 0.24324324324324326\n",
      "The accuracy score achieved at r state 81 is 0.35135135135135137\n",
      "The accuracy score achieved at r state 82 is 0.16216216216216217\n",
      "The accuracy score achieved at r state 83 is 0.32432432432432434\n",
      "The accuracy score achieved at r state 84 is 0.24324324324324326\n",
      "The accuracy score achieved at r state 85 is 0.32432432432432434\n",
      "The accuracy score achieved at r state 86 is 0.35135135135135137\n",
      "The accuracy score achieved at r state 87 is 0.32432432432432434\n",
      "The accuracy score achieved at r state 88 is 0.40540540540540543\n",
      "The accuracy score achieved at r state 89 is 0.2702702702702703\n",
      "The accuracy score achieved at r state 90 is 0.2972972972972973\n",
      "The accuracy score achieved at r state 91 is 0.24324324324324326\n",
      "The accuracy score achieved at r state 92 is 0.2972972972972973\n",
      "The accuracy score achieved at r state 93 is 0.2972972972972973\n",
      "The accuracy score achieved at r state 94 is 0.35135135135135137\n",
      "The accuracy score achieved at r state 95 is 0.21621621621621623\n",
      "The accuracy score achieved at r state 96 is 0.2702702702702703\n",
      "The accuracy score achieved at r state 97 is 0.2702702702702703\n",
      "The accuracy score achieved at r state 98 is 0.3783783783783784\n",
      "The accuracy score achieved at r state 99 is 0.3783783783783784\n",
      "The accuracy score achieved at r state 100 is 0.32432432432432434\n",
      "The maximum accuracy 0.40540540540540543 is achieved at random state 88\n"
     ]
    },
    {
     "data": {
      "text/plain": [
       "0.40540540540540543"
      ]
     },
     "execution_count": 449,
     "metadata": {},
     "output_type": "execute_result"
    }
   ],
   "source": [
    "#checking the best accuracy score and random state for RandomForestClassifier\n",
    "gc=GradientBoostingClassifier(criterion='mse', learning_rate= 1, n_estimators= 200)\n",
    "max_accuracy(gc,x,y)"
   ]
  },
  {
   "cell_type": "code",
   "execution_count": 450,
   "metadata": {},
   "outputs": [
    {
     "name": "stdout",
     "output_type": "stream",
     "text": [
      "The cross val score of GradientBoosting classifier is 0.3171171171171171\n"
     ]
    }
   ],
   "source": [
    "#checking the cross val score\n",
    "cs=cross_val_score(gc,x,y,cv=5,scoring='accuracy').mean()\n",
    "print(\"The cross val score of GradientBoosting classifier is\", cs)"
   ]
  },
  {
   "cell_type": "code",
   "execution_count": 452,
   "metadata": {},
   "outputs": [
    {
     "data": {
      "text/plain": [
       "{'algorithm': 'SAMME', 'learning_rate': 1, 'n_estimators': 50}"
      ]
     },
     "execution_count": 452,
     "metadata": {},
     "output_type": "execute_result"
    }
   ],
   "source": [
    "from sklearn.ensemble import AdaBoostClassifier\n",
    "ad=AdaBoostClassifier()\n",
    "parameters={'learning_rate':(0.001,0.01,0.1,1),'n_estimators':(50,100,200,500),'algorithm':('SAMME', 'SAMME.R')}\n",
    "gd=GridSearchCV(ad,parameters)\n",
    "gd.fit(x_train,y_train)\n",
    "gd.best_params_"
   ]
  },
  {
   "cell_type": "code",
   "execution_count": 453,
   "metadata": {},
   "outputs": [
    {
     "name": "stdout",
     "output_type": "stream",
     "text": [
      "The accuracy score achieved at r state 42 is 0.10810810810810811\n",
      "The accuracy score achieved at r state 43 is 0.2972972972972973\n",
      "The accuracy score achieved at r state 44 is 0.2972972972972973\n",
      "The accuracy score achieved at r state 45 is 0.24324324324324326\n",
      "The accuracy score achieved at r state 46 is 0.2702702702702703\n",
      "The accuracy score achieved at r state 47 is 0.32432432432432434\n",
      "The accuracy score achieved at r state 48 is 0.24324324324324326\n",
      "The accuracy score achieved at r state 49 is 0.10810810810810811\n",
      "The accuracy score achieved at r state 50 is 0.2972972972972973\n",
      "The accuracy score achieved at r state 51 is 0.40540540540540543\n",
      "The accuracy score achieved at r state 52 is 0.21621621621621623\n",
      "The accuracy score achieved at r state 53 is 0.32432432432432434\n",
      "The accuracy score achieved at r state 54 is 0.1891891891891892\n",
      "The accuracy score achieved at r state 55 is 0.21621621621621623\n",
      "The accuracy score achieved at r state 56 is 0.1891891891891892\n",
      "The accuracy score achieved at r state 57 is 0.35135135135135137\n",
      "The accuracy score achieved at r state 58 is 0.2702702702702703\n",
      "The accuracy score achieved at r state 59 is 0.24324324324324326\n",
      "The accuracy score achieved at r state 60 is 0.24324324324324326\n",
      "The accuracy score achieved at r state 61 is 0.2972972972972973\n",
      "The accuracy score achieved at r state 62 is 0.1891891891891892\n",
      "The accuracy score achieved at r state 63 is 0.3783783783783784\n",
      "The accuracy score achieved at r state 64 is 0.1891891891891892\n",
      "The accuracy score achieved at r state 65 is 0.32432432432432434\n",
      "The accuracy score achieved at r state 66 is 0.21621621621621623\n",
      "The accuracy score achieved at r state 67 is 0.2702702702702703\n",
      "The accuracy score achieved at r state 68 is 0.2702702702702703\n",
      "The accuracy score achieved at r state 69 is 0.24324324324324326\n",
      "The accuracy score achieved at r state 70 is 0.32432432432432434\n",
      "The accuracy score achieved at r state 71 is 0.16216216216216217\n",
      "The accuracy score achieved at r state 72 is 0.2972972972972973\n",
      "The accuracy score achieved at r state 73 is 0.2972972972972973\n",
      "The accuracy score achieved at r state 74 is 0.2972972972972973\n",
      "The accuracy score achieved at r state 75 is 0.2972972972972973\n",
      "The accuracy score achieved at r state 76 is 0.2702702702702703\n",
      "The accuracy score achieved at r state 77 is 0.2972972972972973\n",
      "The accuracy score achieved at r state 78 is 0.16216216216216217\n",
      "The accuracy score achieved at r state 79 is 0.24324324324324326\n",
      "The accuracy score achieved at r state 80 is 0.24324324324324326\n",
      "The accuracy score achieved at r state 81 is 0.35135135135135137\n",
      "The accuracy score achieved at r state 82 is 0.35135135135135137\n",
      "The accuracy score achieved at r state 83 is 0.1891891891891892\n",
      "The accuracy score achieved at r state 84 is 0.13513513513513514\n",
      "The accuracy score achieved at r state 85 is 0.21621621621621623\n",
      "The accuracy score achieved at r state 86 is 0.2972972972972973\n",
      "The accuracy score achieved at r state 87 is 0.2702702702702703\n",
      "The accuracy score achieved at r state 88 is 0.2702702702702703\n",
      "The accuracy score achieved at r state 89 is 0.21621621621621623\n",
      "The accuracy score achieved at r state 90 is 0.2972972972972973\n",
      "The accuracy score achieved at r state 91 is 0.21621621621621623\n",
      "The accuracy score achieved at r state 92 is 0.24324324324324326\n",
      "The accuracy score achieved at r state 93 is 0.35135135135135137\n",
      "The accuracy score achieved at r state 94 is 0.2972972972972973\n",
      "The accuracy score achieved at r state 95 is 0.32432432432432434\n",
      "The accuracy score achieved at r state 96 is 0.2702702702702703\n",
      "The accuracy score achieved at r state 97 is 0.3783783783783784\n",
      "The accuracy score achieved at r state 98 is 0.32432432432432434\n",
      "The accuracy score achieved at r state 99 is 0.2702702702702703\n",
      "The accuracy score achieved at r state 100 is 0.2972972972972973\n",
      "The maximum accuracy 0.40540540540540543 is achieved at random state 51\n"
     ]
    },
    {
     "data": {
      "text/plain": [
       "0.40540540540540543"
      ]
     },
     "execution_count": 453,
     "metadata": {},
     "output_type": "execute_result"
    }
   ],
   "source": [
    "#checking the best accuracy score and random state for AdaBoostClassifier\n",
    "gc=AdaBoostClassifier(algorithm= 'SAMME.R', learning_rate= 1, n_estimators= 100)\n",
    "max_accuracy(gc,x,y)"
   ]
  },
  {
   "cell_type": "code",
   "execution_count": 454,
   "metadata": {},
   "outputs": [
    {
     "name": "stdout",
     "output_type": "stream",
     "text": [
      "The cross val score of AdaBoost classifier is 0.27312312312312315\n"
     ]
    }
   ],
   "source": [
    "#checking the cross val score\n",
    "cs=cross_val_score(ad,x,y,cv=5,scoring='accuracy').mean()\n",
    "print(\"The cross val score of AdaBoost classifier is\", cs)"
   ]
  },
  {
   "cell_type": "code",
   "execution_count": 455,
   "metadata": {},
   "outputs": [
    {
     "data": {
      "text/html": [
       "<div>\n",
       "<style scoped>\n",
       "    .dataframe tbody tr th:only-of-type {\n",
       "        vertical-align: middle;\n",
       "    }\n",
       "\n",
       "    .dataframe tbody tr th {\n",
       "        vertical-align: top;\n",
       "    }\n",
       "\n",
       "    .dataframe thead th {\n",
       "        text-align: right;\n",
       "    }\n",
       "</style>\n",
       "<table border=\"1\" class=\"dataframe\">\n",
       "  <thead>\n",
       "    <tr style=\"text-align: right;\">\n",
       "      <th></th>\n",
       "      <th>Boosters</th>\n",
       "      <th>R2 Score</th>\n",
       "      <th>Cross_val_score</th>\n",
       "    </tr>\n",
       "  </thead>\n",
       "  <tbody>\n",
       "    <tr>\n",
       "      <th>0</th>\n",
       "      <td>RandomForestClassifier</td>\n",
       "      <td>0.459</td>\n",
       "      <td>0.338</td>\n",
       "    </tr>\n",
       "    <tr>\n",
       "      <th>1</th>\n",
       "      <td>GradientBoostClassifier</td>\n",
       "      <td>0.432</td>\n",
       "      <td>0.374</td>\n",
       "    </tr>\n",
       "    <tr>\n",
       "      <th>2</th>\n",
       "      <td>AdaBoostRegressor</td>\n",
       "      <td>0.405</td>\n",
       "      <td>0.300</td>\n",
       "    </tr>\n",
       "  </tbody>\n",
       "</table>\n",
       "</div>"
      ],
      "text/plain": [
       "                  Boosters  R2 Score  Cross_val_score\n",
       "0   RandomForestClassifier     0.459            0.338\n",
       "1  GradientBoostClassifier     0.432            0.374\n",
       "2        AdaBoostRegressor     0.405            0.300"
      ]
     },
     "execution_count": 455,
     "metadata": {},
     "output_type": "execute_result"
    }
   ],
   "source": [
    "result2=pd.DataFrame({'Boosters':['RandomForestClassifier','GradientBoostClassifier','AdaBoostRegressor'],'R2 Score':[0.459,0.432,0.405],'Cross_val_score':[0.338,0.374,0.30]})\n",
    "result2"
   ]
  },
  {
   "cell_type": "code",
   "execution_count": 456,
   "metadata": {},
   "outputs": [
    {
     "data": {
      "text/html": [
       "<div>\n",
       "<style scoped>\n",
       "    .dataframe tbody tr th:only-of-type {\n",
       "        vertical-align: middle;\n",
       "    }\n",
       "\n",
       "    .dataframe tbody tr th {\n",
       "        vertical-align: top;\n",
       "    }\n",
       "\n",
       "    .dataframe thead th {\n",
       "        text-align: right;\n",
       "    }\n",
       "</style>\n",
       "<table border=\"1\" class=\"dataframe\">\n",
       "  <thead>\n",
       "    <tr style=\"text-align: right;\">\n",
       "      <th></th>\n",
       "      <th>Model</th>\n",
       "      <th>Accuracy_Score</th>\n",
       "      <th>Cross_val_score</th>\n",
       "      <th>roc-auc score</th>\n",
       "    </tr>\n",
       "  </thead>\n",
       "  <tbody>\n",
       "    <tr>\n",
       "      <th>0</th>\n",
       "      <td>&lt;class 'sklearn.neighbors._classification.KNei...</td>\n",
       "      <td>0.405405</td>\n",
       "      <td>0.311111</td>\n",
       "      <td>0.625258</td>\n",
       "    </tr>\n",
       "    <tr>\n",
       "      <th>1</th>\n",
       "      <td>&lt;class 'sklearn.tree._classes.DecisionTreeClas...</td>\n",
       "      <td>0.270270</td>\n",
       "      <td>0.333634</td>\n",
       "      <td>0.530321</td>\n",
       "    </tr>\n",
       "    <tr>\n",
       "      <th>2</th>\n",
       "      <td>&lt;class 'sklearn.svm._classes.SVC'&gt;</td>\n",
       "      <td>0.243243</td>\n",
       "      <td>0.290541</td>\n",
       "      <td>0.614849</td>\n",
       "    </tr>\n",
       "    <tr>\n",
       "      <th>3</th>\n",
       "      <td>&lt;class 'sklearn.naive_bayes.MultinomialNB'&gt;</td>\n",
       "      <td>0.270270</td>\n",
       "      <td>0.268318</td>\n",
       "      <td>0.520752</td>\n",
       "    </tr>\n",
       "  </tbody>\n",
       "</table>\n",
       "</div>"
      ],
      "text/plain": [
       "                                               Model  Accuracy_Score  \\\n",
       "0  <class 'sklearn.neighbors._classification.KNei...        0.405405   \n",
       "1  <class 'sklearn.tree._classes.DecisionTreeClas...        0.270270   \n",
       "2                 <class 'sklearn.svm._classes.SVC'>        0.243243   \n",
       "3        <class 'sklearn.naive_bayes.MultinomialNB'>        0.270270   \n",
       "\n",
       "   Cross_val_score  roc-auc score  \n",
       "0         0.311111       0.625258  \n",
       "1         0.333634       0.530321  \n",
       "2         0.290541       0.614849  \n",
       "3         0.268318       0.520752  "
      ]
     },
     "execution_count": 456,
     "metadata": {},
     "output_type": "execute_result"
    }
   ],
   "source": [
    "result"
   ]
  },
  {
   "cell_type": "code",
   "execution_count": 457,
   "metadata": {},
   "outputs": [],
   "source": [
    "#The classification models or emsemble models are not giving best scores. The problem might be with the dataset.\n",
    "#amongst all, RandomForestClassifier is slightly better and we can finalise the same."
   ]
  },
  {
   "cell_type": "code",
   "execution_count": 458,
   "metadata": {},
   "outputs": [
    {
     "name": "stdout",
     "output_type": "stream",
     "text": [
      "The accuracy score is 0.2972972972972973\n",
      "The cross val score is 0.37162162162162166\n"
     ]
    }
   ],
   "source": [
    "train_x,test_x,train_y,test_y=train_test_split(x,y,random_state=70,test_size=0.20)\n",
    "rf=RandomForestClassifier(n_estimators=100)\n",
    "rf.fit(train_x,train_y)\n",
    "pred=rf.predict(test_x)\n",
    "ascore=accuracy_score(test_y,pred)\n",
    "print(\"The accuracy score is\", ascore)\n",
    "cs=cross_val_score(rf,x,y,cv=5,scoring='accuracy').mean()\n",
    "print(\"The cross val score is\", cs)\n",
    "pd.DataFrame(pred).to_csv(\"Project5_HeartDisease_predictions.csv\")"
   ]
  },
  {
   "cell_type": "code",
   "execution_count": 459,
   "metadata": {},
   "outputs": [
    {
     "data": {
      "text/plain": [
       "['Heart_disease.pkl']"
      ]
     },
     "execution_count": 459,
     "metadata": {},
     "output_type": "execute_result"
    }
   ],
   "source": [
    "#saving the model\n",
    "from sklearn.externals import joblib\n",
    "joblib.dump(sv,\"Heart_disease.pkl\")"
   ]
  },
  {
   "cell_type": "code",
   "execution_count": null,
   "metadata": {},
   "outputs": [],
   "source": []
  }
 ],
 "metadata": {
  "kernelspec": {
   "display_name": "Python 3",
   "language": "python",
   "name": "python3"
  },
  "language_info": {
   "codemirror_mode": {
    "name": "ipython",
    "version": 3
   },
   "file_extension": ".py",
   "mimetype": "text/x-python",
   "name": "python",
   "nbconvert_exporter": "python",
   "pygments_lexer": "ipython3",
   "version": "3.7.6"
  }
 },
 "nbformat": 4,
 "nbformat_minor": 4
}
