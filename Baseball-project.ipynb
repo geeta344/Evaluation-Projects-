{
 "cells": [
  {
   "cell_type": "code",
   "execution_count": 1,
   "metadata": {},
   "outputs": [],
   "source": [
    "import pandas as pd\n",
    "import numpy as np\n",
    "import matplotlib.pyplot as plt\n",
    "import seaborn as sns\n",
    "from sklearn.model_selection import train_test_split\n",
    "from sklearn.linear_model import LinearRegression\n",
    "from sklearn.metrics import classification_report\n",
    "from sklearn import metrics\n",
    "import warnings\n",
    "warnings.filterwarnings('ignore')"
   ]
  },
  {
   "cell_type": "code",
   "execution_count": 2,
   "metadata": {},
   "outputs": [
    {
     "data": {
      "text/html": [
       "<div>\n",
       "<style scoped>\n",
       "    .dataframe tbody tr th:only-of-type {\n",
       "        vertical-align: middle;\n",
       "    }\n",
       "\n",
       "    .dataframe tbody tr th {\n",
       "        vertical-align: top;\n",
       "    }\n",
       "\n",
       "    .dataframe thead th {\n",
       "        text-align: right;\n",
       "    }\n",
       "</style>\n",
       "<table border=\"1\" class=\"dataframe\">\n",
       "  <thead>\n",
       "    <tr style=\"text-align: right;\">\n",
       "      <th></th>\n",
       "      <th>W</th>\n",
       "      <th>R</th>\n",
       "      <th>AB</th>\n",
       "      <th>H</th>\n",
       "      <th>2B</th>\n",
       "      <th>3B</th>\n",
       "      <th>HR</th>\n",
       "      <th>BB</th>\n",
       "      <th>SO</th>\n",
       "      <th>SB</th>\n",
       "      <th>RA</th>\n",
       "      <th>ER</th>\n",
       "      <th>ERA</th>\n",
       "      <th>CG</th>\n",
       "      <th>SHO</th>\n",
       "      <th>SV</th>\n",
       "      <th>E</th>\n",
       "    </tr>\n",
       "  </thead>\n",
       "  <tbody>\n",
       "    <tr>\n",
       "      <th>0</th>\n",
       "      <td>95</td>\n",
       "      <td>724</td>\n",
       "      <td>5575</td>\n",
       "      <td>1497</td>\n",
       "      <td>300</td>\n",
       "      <td>42</td>\n",
       "      <td>139</td>\n",
       "      <td>383</td>\n",
       "      <td>973</td>\n",
       "      <td>104</td>\n",
       "      <td>641</td>\n",
       "      <td>601</td>\n",
       "      <td>3.73</td>\n",
       "      <td>2</td>\n",
       "      <td>8</td>\n",
       "      <td>56</td>\n",
       "      <td>88</td>\n",
       "    </tr>\n",
       "    <tr>\n",
       "      <th>1</th>\n",
       "      <td>83</td>\n",
       "      <td>696</td>\n",
       "      <td>5467</td>\n",
       "      <td>1349</td>\n",
       "      <td>277</td>\n",
       "      <td>44</td>\n",
       "      <td>156</td>\n",
       "      <td>439</td>\n",
       "      <td>1264</td>\n",
       "      <td>70</td>\n",
       "      <td>700</td>\n",
       "      <td>653</td>\n",
       "      <td>4.07</td>\n",
       "      <td>2</td>\n",
       "      <td>12</td>\n",
       "      <td>45</td>\n",
       "      <td>86</td>\n",
       "    </tr>\n",
       "    <tr>\n",
       "      <th>2</th>\n",
       "      <td>81</td>\n",
       "      <td>669</td>\n",
       "      <td>5439</td>\n",
       "      <td>1395</td>\n",
       "      <td>303</td>\n",
       "      <td>29</td>\n",
       "      <td>141</td>\n",
       "      <td>533</td>\n",
       "      <td>1157</td>\n",
       "      <td>86</td>\n",
       "      <td>640</td>\n",
       "      <td>584</td>\n",
       "      <td>3.67</td>\n",
       "      <td>11</td>\n",
       "      <td>10</td>\n",
       "      <td>38</td>\n",
       "      <td>79</td>\n",
       "    </tr>\n",
       "    <tr>\n",
       "      <th>3</th>\n",
       "      <td>76</td>\n",
       "      <td>622</td>\n",
       "      <td>5533</td>\n",
       "      <td>1381</td>\n",
       "      <td>260</td>\n",
       "      <td>27</td>\n",
       "      <td>136</td>\n",
       "      <td>404</td>\n",
       "      <td>1231</td>\n",
       "      <td>68</td>\n",
       "      <td>701</td>\n",
       "      <td>643</td>\n",
       "      <td>3.98</td>\n",
       "      <td>7</td>\n",
       "      <td>9</td>\n",
       "      <td>37</td>\n",
       "      <td>101</td>\n",
       "    </tr>\n",
       "    <tr>\n",
       "      <th>4</th>\n",
       "      <td>74</td>\n",
       "      <td>689</td>\n",
       "      <td>5605</td>\n",
       "      <td>1515</td>\n",
       "      <td>289</td>\n",
       "      <td>49</td>\n",
       "      <td>151</td>\n",
       "      <td>455</td>\n",
       "      <td>1259</td>\n",
       "      <td>83</td>\n",
       "      <td>803</td>\n",
       "      <td>746</td>\n",
       "      <td>4.64</td>\n",
       "      <td>7</td>\n",
       "      <td>12</td>\n",
       "      <td>35</td>\n",
       "      <td>86</td>\n",
       "    </tr>\n",
       "    <tr>\n",
       "      <th>5</th>\n",
       "      <td>93</td>\n",
       "      <td>891</td>\n",
       "      <td>5509</td>\n",
       "      <td>1480</td>\n",
       "      <td>308</td>\n",
       "      <td>17</td>\n",
       "      <td>232</td>\n",
       "      <td>570</td>\n",
       "      <td>1151</td>\n",
       "      <td>88</td>\n",
       "      <td>670</td>\n",
       "      <td>609</td>\n",
       "      <td>3.80</td>\n",
       "      <td>7</td>\n",
       "      <td>10</td>\n",
       "      <td>34</td>\n",
       "      <td>88</td>\n",
       "    </tr>\n",
       "    <tr>\n",
       "      <th>6</th>\n",
       "      <td>87</td>\n",
       "      <td>764</td>\n",
       "      <td>5567</td>\n",
       "      <td>1397</td>\n",
       "      <td>272</td>\n",
       "      <td>19</td>\n",
       "      <td>212</td>\n",
       "      <td>554</td>\n",
       "      <td>1227</td>\n",
       "      <td>63</td>\n",
       "      <td>698</td>\n",
       "      <td>652</td>\n",
       "      <td>4.03</td>\n",
       "      <td>3</td>\n",
       "      <td>4</td>\n",
       "      <td>48</td>\n",
       "      <td>93</td>\n",
       "    </tr>\n",
       "    <tr>\n",
       "      <th>7</th>\n",
       "      <td>81</td>\n",
       "      <td>713</td>\n",
       "      <td>5485</td>\n",
       "      <td>1370</td>\n",
       "      <td>246</td>\n",
       "      <td>20</td>\n",
       "      <td>217</td>\n",
       "      <td>418</td>\n",
       "      <td>1331</td>\n",
       "      <td>44</td>\n",
       "      <td>693</td>\n",
       "      <td>646</td>\n",
       "      <td>4.05</td>\n",
       "      <td>0</td>\n",
       "      <td>10</td>\n",
       "      <td>43</td>\n",
       "      <td>77</td>\n",
       "    </tr>\n",
       "    <tr>\n",
       "      <th>8</th>\n",
       "      <td>80</td>\n",
       "      <td>644</td>\n",
       "      <td>5485</td>\n",
       "      <td>1383</td>\n",
       "      <td>278</td>\n",
       "      <td>32</td>\n",
       "      <td>167</td>\n",
       "      <td>436</td>\n",
       "      <td>1310</td>\n",
       "      <td>87</td>\n",
       "      <td>642</td>\n",
       "      <td>604</td>\n",
       "      <td>3.74</td>\n",
       "      <td>1</td>\n",
       "      <td>12</td>\n",
       "      <td>60</td>\n",
       "      <td>95</td>\n",
       "    </tr>\n",
       "    <tr>\n",
       "      <th>9</th>\n",
       "      <td>78</td>\n",
       "      <td>748</td>\n",
       "      <td>5640</td>\n",
       "      <td>1495</td>\n",
       "      <td>294</td>\n",
       "      <td>33</td>\n",
       "      <td>161</td>\n",
       "      <td>478</td>\n",
       "      <td>1148</td>\n",
       "      <td>71</td>\n",
       "      <td>753</td>\n",
       "      <td>694</td>\n",
       "      <td>4.31</td>\n",
       "      <td>3</td>\n",
       "      <td>10</td>\n",
       "      <td>40</td>\n",
       "      <td>97</td>\n",
       "    </tr>\n",
       "    <tr>\n",
       "      <th>10</th>\n",
       "      <td>88</td>\n",
       "      <td>751</td>\n",
       "      <td>5511</td>\n",
       "      <td>1419</td>\n",
       "      <td>279</td>\n",
       "      <td>32</td>\n",
       "      <td>172</td>\n",
       "      <td>503</td>\n",
       "      <td>1233</td>\n",
       "      <td>101</td>\n",
       "      <td>733</td>\n",
       "      <td>680</td>\n",
       "      <td>4.24</td>\n",
       "      <td>5</td>\n",
       "      <td>9</td>\n",
       "      <td>45</td>\n",
       "      <td>119</td>\n",
       "    </tr>\n",
       "    <tr>\n",
       "      <th>11</th>\n",
       "      <td>86</td>\n",
       "      <td>729</td>\n",
       "      <td>5459</td>\n",
       "      <td>1363</td>\n",
       "      <td>278</td>\n",
       "      <td>26</td>\n",
       "      <td>230</td>\n",
       "      <td>486</td>\n",
       "      <td>1392</td>\n",
       "      <td>121</td>\n",
       "      <td>618</td>\n",
       "      <td>572</td>\n",
       "      <td>3.57</td>\n",
       "      <td>5</td>\n",
       "      <td>13</td>\n",
       "      <td>39</td>\n",
       "      <td>85</td>\n",
       "    </tr>\n",
       "    <tr>\n",
       "      <th>12</th>\n",
       "      <td>85</td>\n",
       "      <td>661</td>\n",
       "      <td>5417</td>\n",
       "      <td>1331</td>\n",
       "      <td>243</td>\n",
       "      <td>21</td>\n",
       "      <td>176</td>\n",
       "      <td>435</td>\n",
       "      <td>1150</td>\n",
       "      <td>52</td>\n",
       "      <td>675</td>\n",
       "      <td>630</td>\n",
       "      <td>3.94</td>\n",
       "      <td>2</td>\n",
       "      <td>12</td>\n",
       "      <td>46</td>\n",
       "      <td>93</td>\n",
       "    </tr>\n",
       "    <tr>\n",
       "      <th>13</th>\n",
       "      <td>76</td>\n",
       "      <td>656</td>\n",
       "      <td>5544</td>\n",
       "      <td>1379</td>\n",
       "      <td>262</td>\n",
       "      <td>22</td>\n",
       "      <td>198</td>\n",
       "      <td>478</td>\n",
       "      <td>1336</td>\n",
       "      <td>69</td>\n",
       "      <td>726</td>\n",
       "      <td>677</td>\n",
       "      <td>4.16</td>\n",
       "      <td>6</td>\n",
       "      <td>12</td>\n",
       "      <td>45</td>\n",
       "      <td>94</td>\n",
       "    </tr>\n",
       "    <tr>\n",
       "      <th>14</th>\n",
       "      <td>68</td>\n",
       "      <td>694</td>\n",
       "      <td>5600</td>\n",
       "      <td>1405</td>\n",
       "      <td>277</td>\n",
       "      <td>46</td>\n",
       "      <td>146</td>\n",
       "      <td>475</td>\n",
       "      <td>1119</td>\n",
       "      <td>78</td>\n",
       "      <td>729</td>\n",
       "      <td>664</td>\n",
       "      <td>4.14</td>\n",
       "      <td>5</td>\n",
       "      <td>15</td>\n",
       "      <td>28</td>\n",
       "      <td>126</td>\n",
       "    </tr>\n",
       "    <tr>\n",
       "      <th>15</th>\n",
       "      <td>100</td>\n",
       "      <td>647</td>\n",
       "      <td>5484</td>\n",
       "      <td>1386</td>\n",
       "      <td>288</td>\n",
       "      <td>39</td>\n",
       "      <td>137</td>\n",
       "      <td>506</td>\n",
       "      <td>1267</td>\n",
       "      <td>69</td>\n",
       "      <td>525</td>\n",
       "      <td>478</td>\n",
       "      <td>2.94</td>\n",
       "      <td>1</td>\n",
       "      <td>15</td>\n",
       "      <td>62</td>\n",
       "      <td>96</td>\n",
       "    </tr>\n",
       "    <tr>\n",
       "      <th>16</th>\n",
       "      <td>98</td>\n",
       "      <td>697</td>\n",
       "      <td>5631</td>\n",
       "      <td>1462</td>\n",
       "      <td>292</td>\n",
       "      <td>27</td>\n",
       "      <td>140</td>\n",
       "      <td>461</td>\n",
       "      <td>1322</td>\n",
       "      <td>98</td>\n",
       "      <td>596</td>\n",
       "      <td>532</td>\n",
       "      <td>3.21</td>\n",
       "      <td>0</td>\n",
       "      <td>13</td>\n",
       "      <td>54</td>\n",
       "      <td>122</td>\n",
       "    </tr>\n",
       "    <tr>\n",
       "      <th>17</th>\n",
       "      <td>97</td>\n",
       "      <td>689</td>\n",
       "      <td>5491</td>\n",
       "      <td>1341</td>\n",
       "      <td>272</td>\n",
       "      <td>30</td>\n",
       "      <td>171</td>\n",
       "      <td>567</td>\n",
       "      <td>1518</td>\n",
       "      <td>95</td>\n",
       "      <td>608</td>\n",
       "      <td>546</td>\n",
       "      <td>3.36</td>\n",
       "      <td>6</td>\n",
       "      <td>21</td>\n",
       "      <td>48</td>\n",
       "      <td>111</td>\n",
       "    </tr>\n",
       "    <tr>\n",
       "      <th>18</th>\n",
       "      <td>68</td>\n",
       "      <td>655</td>\n",
       "      <td>5480</td>\n",
       "      <td>1378</td>\n",
       "      <td>274</td>\n",
       "      <td>34</td>\n",
       "      <td>145</td>\n",
       "      <td>412</td>\n",
       "      <td>1299</td>\n",
       "      <td>84</td>\n",
       "      <td>737</td>\n",
       "      <td>682</td>\n",
       "      <td>4.28</td>\n",
       "      <td>1</td>\n",
       "      <td>7</td>\n",
       "      <td>40</td>\n",
       "      <td>116</td>\n",
       "    </tr>\n",
       "    <tr>\n",
       "      <th>19</th>\n",
       "      <td>64</td>\n",
       "      <td>640</td>\n",
       "      <td>5571</td>\n",
       "      <td>1382</td>\n",
       "      <td>257</td>\n",
       "      <td>27</td>\n",
       "      <td>167</td>\n",
       "      <td>496</td>\n",
       "      <td>1255</td>\n",
       "      <td>134</td>\n",
       "      <td>754</td>\n",
       "      <td>700</td>\n",
       "      <td>4.33</td>\n",
       "      <td>2</td>\n",
       "      <td>8</td>\n",
       "      <td>35</td>\n",
       "      <td>90</td>\n",
       "    </tr>\n",
       "    <tr>\n",
       "      <th>20</th>\n",
       "      <td>90</td>\n",
       "      <td>683</td>\n",
       "      <td>5527</td>\n",
       "      <td>1351</td>\n",
       "      <td>295</td>\n",
       "      <td>17</td>\n",
       "      <td>177</td>\n",
       "      <td>488</td>\n",
       "      <td>1290</td>\n",
       "      <td>51</td>\n",
       "      <td>613</td>\n",
       "      <td>557</td>\n",
       "      <td>3.43</td>\n",
       "      <td>1</td>\n",
       "      <td>14</td>\n",
       "      <td>50</td>\n",
       "      <td>88</td>\n",
       "    </tr>\n",
       "    <tr>\n",
       "      <th>21</th>\n",
       "      <td>83</td>\n",
       "      <td>703</td>\n",
       "      <td>5428</td>\n",
       "      <td>1363</td>\n",
       "      <td>265</td>\n",
       "      <td>13</td>\n",
       "      <td>177</td>\n",
       "      <td>539</td>\n",
       "      <td>1344</td>\n",
       "      <td>57</td>\n",
       "      <td>635</td>\n",
       "      <td>577</td>\n",
       "      <td>3.62</td>\n",
       "      <td>4</td>\n",
       "      <td>13</td>\n",
       "      <td>41</td>\n",
       "      <td>90</td>\n",
       "    </tr>\n",
       "    <tr>\n",
       "      <th>22</th>\n",
       "      <td>71</td>\n",
       "      <td>613</td>\n",
       "      <td>5463</td>\n",
       "      <td>1420</td>\n",
       "      <td>236</td>\n",
       "      <td>40</td>\n",
       "      <td>120</td>\n",
       "      <td>375</td>\n",
       "      <td>1150</td>\n",
       "      <td>112</td>\n",
       "      <td>678</td>\n",
       "      <td>638</td>\n",
       "      <td>4.02</td>\n",
       "      <td>0</td>\n",
       "      <td>12</td>\n",
       "      <td>35</td>\n",
       "      <td>77</td>\n",
       "    </tr>\n",
       "    <tr>\n",
       "      <th>23</th>\n",
       "      <td>67</td>\n",
       "      <td>573</td>\n",
       "      <td>5420</td>\n",
       "      <td>1361</td>\n",
       "      <td>251</td>\n",
       "      <td>18</td>\n",
       "      <td>100</td>\n",
       "      <td>471</td>\n",
       "      <td>1107</td>\n",
       "      <td>69</td>\n",
       "      <td>760</td>\n",
       "      <td>698</td>\n",
       "      <td>4.41</td>\n",
       "      <td>3</td>\n",
       "      <td>10</td>\n",
       "      <td>44</td>\n",
       "      <td>90</td>\n",
       "    </tr>\n",
       "    <tr>\n",
       "      <th>24</th>\n",
       "      <td>63</td>\n",
       "      <td>626</td>\n",
       "      <td>5529</td>\n",
       "      <td>1374</td>\n",
       "      <td>272</td>\n",
       "      <td>37</td>\n",
       "      <td>130</td>\n",
       "      <td>387</td>\n",
       "      <td>1274</td>\n",
       "      <td>88</td>\n",
       "      <td>809</td>\n",
       "      <td>749</td>\n",
       "      <td>4.69</td>\n",
       "      <td>1</td>\n",
       "      <td>7</td>\n",
       "      <td>35</td>\n",
       "      <td>117</td>\n",
       "    </tr>\n",
       "    <tr>\n",
       "      <th>25</th>\n",
       "      <td>92</td>\n",
       "      <td>667</td>\n",
       "      <td>5385</td>\n",
       "      <td>1346</td>\n",
       "      <td>263</td>\n",
       "      <td>26</td>\n",
       "      <td>187</td>\n",
       "      <td>563</td>\n",
       "      <td>1258</td>\n",
       "      <td>59</td>\n",
       "      <td>595</td>\n",
       "      <td>553</td>\n",
       "      <td>3.44</td>\n",
       "      <td>6</td>\n",
       "      <td>21</td>\n",
       "      <td>47</td>\n",
       "      <td>75</td>\n",
       "    </tr>\n",
       "    <tr>\n",
       "      <th>26</th>\n",
       "      <td>84</td>\n",
       "      <td>696</td>\n",
       "      <td>5565</td>\n",
       "      <td>1486</td>\n",
       "      <td>288</td>\n",
       "      <td>39</td>\n",
       "      <td>136</td>\n",
       "      <td>457</td>\n",
       "      <td>1159</td>\n",
       "      <td>93</td>\n",
       "      <td>627</td>\n",
       "      <td>597</td>\n",
       "      <td>3.72</td>\n",
       "      <td>7</td>\n",
       "      <td>18</td>\n",
       "      <td>41</td>\n",
       "      <td>78</td>\n",
       "    </tr>\n",
       "    <tr>\n",
       "      <th>27</th>\n",
       "      <td>79</td>\n",
       "      <td>720</td>\n",
       "      <td>5649</td>\n",
       "      <td>1494</td>\n",
       "      <td>289</td>\n",
       "      <td>48</td>\n",
       "      <td>154</td>\n",
       "      <td>490</td>\n",
       "      <td>1312</td>\n",
       "      <td>132</td>\n",
       "      <td>713</td>\n",
       "      <td>659</td>\n",
       "      <td>4.04</td>\n",
       "      <td>1</td>\n",
       "      <td>12</td>\n",
       "      <td>44</td>\n",
       "      <td>86</td>\n",
       "    </tr>\n",
       "    <tr>\n",
       "      <th>28</th>\n",
       "      <td>74</td>\n",
       "      <td>650</td>\n",
       "      <td>5457</td>\n",
       "      <td>1324</td>\n",
       "      <td>260</td>\n",
       "      <td>36</td>\n",
       "      <td>148</td>\n",
       "      <td>426</td>\n",
       "      <td>1327</td>\n",
       "      <td>82</td>\n",
       "      <td>731</td>\n",
       "      <td>655</td>\n",
       "      <td>4.09</td>\n",
       "      <td>1</td>\n",
       "      <td>6</td>\n",
       "      <td>41</td>\n",
       "      <td>92</td>\n",
       "    </tr>\n",
       "    <tr>\n",
       "      <th>29</th>\n",
       "      <td>68</td>\n",
       "      <td>737</td>\n",
       "      <td>5572</td>\n",
       "      <td>1479</td>\n",
       "      <td>274</td>\n",
       "      <td>49</td>\n",
       "      <td>186</td>\n",
       "      <td>388</td>\n",
       "      <td>1283</td>\n",
       "      <td>97</td>\n",
       "      <td>844</td>\n",
       "      <td>799</td>\n",
       "      <td>5.04</td>\n",
       "      <td>4</td>\n",
       "      <td>4</td>\n",
       "      <td>36</td>\n",
       "      <td>95</td>\n",
       "    </tr>\n",
       "  </tbody>\n",
       "</table>\n",
       "</div>"
      ],
      "text/plain": [
       "      W    R    AB     H   2B  3B   HR   BB    SO   SB   RA   ER   ERA  CG  \\\n",
       "0    95  724  5575  1497  300  42  139  383   973  104  641  601  3.73   2   \n",
       "1    83  696  5467  1349  277  44  156  439  1264   70  700  653  4.07   2   \n",
       "2    81  669  5439  1395  303  29  141  533  1157   86  640  584  3.67  11   \n",
       "3    76  622  5533  1381  260  27  136  404  1231   68  701  643  3.98   7   \n",
       "4    74  689  5605  1515  289  49  151  455  1259   83  803  746  4.64   7   \n",
       "5    93  891  5509  1480  308  17  232  570  1151   88  670  609  3.80   7   \n",
       "6    87  764  5567  1397  272  19  212  554  1227   63  698  652  4.03   3   \n",
       "7    81  713  5485  1370  246  20  217  418  1331   44  693  646  4.05   0   \n",
       "8    80  644  5485  1383  278  32  167  436  1310   87  642  604  3.74   1   \n",
       "9    78  748  5640  1495  294  33  161  478  1148   71  753  694  4.31   3   \n",
       "10   88  751  5511  1419  279  32  172  503  1233  101  733  680  4.24   5   \n",
       "11   86  729  5459  1363  278  26  230  486  1392  121  618  572  3.57   5   \n",
       "12   85  661  5417  1331  243  21  176  435  1150   52  675  630  3.94   2   \n",
       "13   76  656  5544  1379  262  22  198  478  1336   69  726  677  4.16   6   \n",
       "14   68  694  5600  1405  277  46  146  475  1119   78  729  664  4.14   5   \n",
       "15  100  647  5484  1386  288  39  137  506  1267   69  525  478  2.94   1   \n",
       "16   98  697  5631  1462  292  27  140  461  1322   98  596  532  3.21   0   \n",
       "17   97  689  5491  1341  272  30  171  567  1518   95  608  546  3.36   6   \n",
       "18   68  655  5480  1378  274  34  145  412  1299   84  737  682  4.28   1   \n",
       "19   64  640  5571  1382  257  27  167  496  1255  134  754  700  4.33   2   \n",
       "20   90  683  5527  1351  295  17  177  488  1290   51  613  557  3.43   1   \n",
       "21   83  703  5428  1363  265  13  177  539  1344   57  635  577  3.62   4   \n",
       "22   71  613  5463  1420  236  40  120  375  1150  112  678  638  4.02   0   \n",
       "23   67  573  5420  1361  251  18  100  471  1107   69  760  698  4.41   3   \n",
       "24   63  626  5529  1374  272  37  130  387  1274   88  809  749  4.69   1   \n",
       "25   92  667  5385  1346  263  26  187  563  1258   59  595  553  3.44   6   \n",
       "26   84  696  5565  1486  288  39  136  457  1159   93  627  597  3.72   7   \n",
       "27   79  720  5649  1494  289  48  154  490  1312  132  713  659  4.04   1   \n",
       "28   74  650  5457  1324  260  36  148  426  1327   82  731  655  4.09   1   \n",
       "29   68  737  5572  1479  274  49  186  388  1283   97  844  799  5.04   4   \n",
       "\n",
       "    SHO  SV    E  \n",
       "0     8  56   88  \n",
       "1    12  45   86  \n",
       "2    10  38   79  \n",
       "3     9  37  101  \n",
       "4    12  35   86  \n",
       "5    10  34   88  \n",
       "6     4  48   93  \n",
       "7    10  43   77  \n",
       "8    12  60   95  \n",
       "9    10  40   97  \n",
       "10    9  45  119  \n",
       "11   13  39   85  \n",
       "12   12  46   93  \n",
       "13   12  45   94  \n",
       "14   15  28  126  \n",
       "15   15  62   96  \n",
       "16   13  54  122  \n",
       "17   21  48  111  \n",
       "18    7  40  116  \n",
       "19    8  35   90  \n",
       "20   14  50   88  \n",
       "21   13  41   90  \n",
       "22   12  35   77  \n",
       "23   10  44   90  \n",
       "24    7  35  117  \n",
       "25   21  47   75  \n",
       "26   18  41   78  \n",
       "27   12  44   86  \n",
       "28    6  41   92  \n",
       "29    4  36   95  "
      ]
     },
     "execution_count": 2,
     "metadata": {},
     "output_type": "execute_result"
    }
   ],
   "source": [
    "bb=pd.read_csv('/Users/drram/Documents/baseball.csv')\n",
    "bb"
   ]
  },
  {
   "cell_type": "code",
   "execution_count": 3,
   "metadata": {},
   "outputs": [
    {
     "data": {
      "text/html": [
       "<div>\n",
       "<style scoped>\n",
       "    .dataframe tbody tr th:only-of-type {\n",
       "        vertical-align: middle;\n",
       "    }\n",
       "\n",
       "    .dataframe tbody tr th {\n",
       "        vertical-align: top;\n",
       "    }\n",
       "\n",
       "    .dataframe thead th {\n",
       "        text-align: right;\n",
       "    }\n",
       "</style>\n",
       "<table border=\"1\" class=\"dataframe\">\n",
       "  <thead>\n",
       "    <tr style=\"text-align: right;\">\n",
       "      <th></th>\n",
       "      <th>W</th>\n",
       "      <th>R</th>\n",
       "      <th>AB</th>\n",
       "      <th>H</th>\n",
       "      <th>2B</th>\n",
       "      <th>3B</th>\n",
       "      <th>HR</th>\n",
       "      <th>BB</th>\n",
       "      <th>SO</th>\n",
       "      <th>SB</th>\n",
       "      <th>RA</th>\n",
       "      <th>ER</th>\n",
       "      <th>ERA</th>\n",
       "      <th>CG</th>\n",
       "      <th>SHO</th>\n",
       "      <th>SV</th>\n",
       "      <th>E</th>\n",
       "    </tr>\n",
       "  </thead>\n",
       "  <tbody>\n",
       "    <tr>\n",
       "      <th>0</th>\n",
       "      <td>95</td>\n",
       "      <td>724</td>\n",
       "      <td>5575</td>\n",
       "      <td>1497</td>\n",
       "      <td>300</td>\n",
       "      <td>42</td>\n",
       "      <td>139</td>\n",
       "      <td>383</td>\n",
       "      <td>973</td>\n",
       "      <td>104</td>\n",
       "      <td>641</td>\n",
       "      <td>601</td>\n",
       "      <td>3.73</td>\n",
       "      <td>2</td>\n",
       "      <td>8</td>\n",
       "      <td>56</td>\n",
       "      <td>88</td>\n",
       "    </tr>\n",
       "    <tr>\n",
       "      <th>1</th>\n",
       "      <td>83</td>\n",
       "      <td>696</td>\n",
       "      <td>5467</td>\n",
       "      <td>1349</td>\n",
       "      <td>277</td>\n",
       "      <td>44</td>\n",
       "      <td>156</td>\n",
       "      <td>439</td>\n",
       "      <td>1264</td>\n",
       "      <td>70</td>\n",
       "      <td>700</td>\n",
       "      <td>653</td>\n",
       "      <td>4.07</td>\n",
       "      <td>2</td>\n",
       "      <td>12</td>\n",
       "      <td>45</td>\n",
       "      <td>86</td>\n",
       "    </tr>\n",
       "    <tr>\n",
       "      <th>2</th>\n",
       "      <td>81</td>\n",
       "      <td>669</td>\n",
       "      <td>5439</td>\n",
       "      <td>1395</td>\n",
       "      <td>303</td>\n",
       "      <td>29</td>\n",
       "      <td>141</td>\n",
       "      <td>533</td>\n",
       "      <td>1157</td>\n",
       "      <td>86</td>\n",
       "      <td>640</td>\n",
       "      <td>584</td>\n",
       "      <td>3.67</td>\n",
       "      <td>11</td>\n",
       "      <td>10</td>\n",
       "      <td>38</td>\n",
       "      <td>79</td>\n",
       "    </tr>\n",
       "    <tr>\n",
       "      <th>3</th>\n",
       "      <td>76</td>\n",
       "      <td>622</td>\n",
       "      <td>5533</td>\n",
       "      <td>1381</td>\n",
       "      <td>260</td>\n",
       "      <td>27</td>\n",
       "      <td>136</td>\n",
       "      <td>404</td>\n",
       "      <td>1231</td>\n",
       "      <td>68</td>\n",
       "      <td>701</td>\n",
       "      <td>643</td>\n",
       "      <td>3.98</td>\n",
       "      <td>7</td>\n",
       "      <td>9</td>\n",
       "      <td>37</td>\n",
       "      <td>101</td>\n",
       "    </tr>\n",
       "    <tr>\n",
       "      <th>4</th>\n",
       "      <td>74</td>\n",
       "      <td>689</td>\n",
       "      <td>5605</td>\n",
       "      <td>1515</td>\n",
       "      <td>289</td>\n",
       "      <td>49</td>\n",
       "      <td>151</td>\n",
       "      <td>455</td>\n",
       "      <td>1259</td>\n",
       "      <td>83</td>\n",
       "      <td>803</td>\n",
       "      <td>746</td>\n",
       "      <td>4.64</td>\n",
       "      <td>7</td>\n",
       "      <td>12</td>\n",
       "      <td>35</td>\n",
       "      <td>86</td>\n",
       "    </tr>\n",
       "  </tbody>\n",
       "</table>\n",
       "</div>"
      ],
      "text/plain": [
       "    W    R    AB     H   2B  3B   HR   BB    SO   SB   RA   ER   ERA  CG  SHO  \\\n",
       "0  95  724  5575  1497  300  42  139  383   973  104  641  601  3.73   2    8   \n",
       "1  83  696  5467  1349  277  44  156  439  1264   70  700  653  4.07   2   12   \n",
       "2  81  669  5439  1395  303  29  141  533  1157   86  640  584  3.67  11   10   \n",
       "3  76  622  5533  1381  260  27  136  404  1231   68  701  643  3.98   7    9   \n",
       "4  74  689  5605  1515  289  49  151  455  1259   83  803  746  4.64   7   12   \n",
       "\n",
       "   SV    E  \n",
       "0  56   88  \n",
       "1  45   86  \n",
       "2  38   79  \n",
       "3  37  101  \n",
       "4  35   86  "
      ]
     },
     "execution_count": 3,
     "metadata": {},
     "output_type": "execute_result"
    }
   ],
   "source": [
    "bb.head()"
   ]
  },
  {
   "cell_type": "code",
   "execution_count": 4,
   "metadata": {},
   "outputs": [
    {
     "data": {
      "text/plain": [
       "W        int64\n",
       "R        int64\n",
       "AB       int64\n",
       "H        int64\n",
       "2B       int64\n",
       "3B       int64\n",
       "HR       int64\n",
       "BB       int64\n",
       "SO       int64\n",
       "SB       int64\n",
       "RA       int64\n",
       "ER       int64\n",
       "ERA    float64\n",
       "CG       int64\n",
       "SHO      int64\n",
       "SV       int64\n",
       "E        int64\n",
       "dtype: object"
      ]
     },
     "execution_count": 4,
     "metadata": {},
     "output_type": "execute_result"
    }
   ],
   "source": [
    "bb.dtypes"
   ]
  },
  {
   "cell_type": "code",
   "execution_count": 5,
   "metadata": {},
   "outputs": [
    {
     "data": {
      "text/plain": [
       "W      0\n",
       "R      0\n",
       "AB     0\n",
       "H      0\n",
       "2B     0\n",
       "3B     0\n",
       "HR     0\n",
       "BB     0\n",
       "SO     0\n",
       "SB     0\n",
       "RA     0\n",
       "ER     0\n",
       "ERA    0\n",
       "CG     0\n",
       "SHO    0\n",
       "SV     0\n",
       "E      0\n",
       "dtype: int64"
      ]
     },
     "execution_count": 5,
     "metadata": {},
     "output_type": "execute_result"
    }
   ],
   "source": [
    "bb.isnull().sum()"
   ]
  },
  {
   "cell_type": "code",
   "execution_count": 6,
   "metadata": {},
   "outputs": [
    {
     "data": {
      "text/plain": [
       "<matplotlib.axes._subplots.AxesSubplot at 0x1a1b631ad0>"
      ]
     },
     "execution_count": 6,
     "metadata": {},
     "output_type": "execute_result"
    },
    {
     "data": {
      "image/png": "[encoded data removed]",
      "text/plain": [
       "<Figure size 432x288 with 2 Axes>"
      ]
     },
     "metadata": {
      "needs_background": "light"
     },
     "output_type": "display_data"
    }
   ],
   "source": [
    "sns.heatmap(bb.isnull())"
   ]
  },
  {
   "cell_type": "code",
   "execution_count": 7,
   "metadata": {},
   "outputs": [
    {
     "data": {
      "text/plain": [
       "<matplotlib.axes._subplots.AxesSubplot at 0x1a1c0e5b10>"
      ]
     },
     "execution_count": 7,
     "metadata": {},
     "output_type": "execute_result"
    },
    {
     "data": {
      "image/png": "[encoded data removed]",
      "text/plain": [
       "<Figure size 432x288 with 1 Axes>"
      ]
     },
     "metadata": {
      "needs_background": "light"
     },
     "output_type": "display_data"
    }
   ],
   "source": [
    "sns.lineplot(x='R', y='W', data=bb)"
   ]
  },
  {
   "cell_type": "code",
   "execution_count": 8,
   "metadata": {},
   "outputs": [
    {
     "data": {
      "text/plain": [
       "<matplotlib.axes._subplots.AxesSubplot at 0x1a1c230cd0>"
      ]
     },
     "execution_count": 8,
     "metadata": {},
     "output_type": "execute_result"
    },
    {
     "data": {
      "image/png": "[encoded data removed]",
      "text/plain": [
       "<Figure size 432x288 with 1 Axes>"
      ]
     },
     "metadata": {
      "needs_background": "light"
     },
     "output_type": "display_data"
    }
   ],
   "source": [
    "sns.lineplot(x='AB', y='W', data=bb)"
   ]
  },
  {
   "cell_type": "code",
   "execution_count": 9,
   "metadata": {},
   "outputs": [
    {
     "data": {
      "text/plain": [
       "<matplotlib.axes._subplots.AxesSubplot at 0x1a1c311fd0>"
      ]
     },
     "execution_count": 9,
     "metadata": {},
     "output_type": "execute_result"
    },
    {
     "data": {
      "image/png": "[encoded data removed]",
      "text/plain": [
       "<Figure size 432x288 with 1 Axes>"
      ]
     },
     "metadata": {
      "needs_background": "light"
     },
     "output_type": "display_data"
    }
   ],
   "source": [
    "sns.scatterplot(x='AB', y='W', data=bb)"
   ]
  },
  {
   "cell_type": "code",
   "execution_count": 10,
   "metadata": {},
   "outputs": [
    {
     "data": {
      "text/plain": [
       "<matplotlib.axes._subplots.AxesSubplot at 0x1a1c205990>"
      ]
     },
     "execution_count": 10,
     "metadata": {},
     "output_type": "execute_result"
    },
    {
     "data": {
      "image/png": "[encoded data removed]",
      "text/plain": [
       "<Figure size 432x288 with 1 Axes>"
      ]
     },
     "metadata": {
      "needs_background": "light"
     },
     "output_type": "display_data"
    }
   ],
   "source": [
    "sns.scatterplot(x='SHO', y='W', data=bb)"
   ]
  },
  {
   "cell_type": "code",
   "execution_count": 11,
   "metadata": {},
   "outputs": [
    {
     "data": {
      "text/plain": [
       "<matplotlib.axes._subplots.AxesSubplot at 0x1a1c4bd350>"
      ]
     },
     "execution_count": 11,
     "metadata": {},
     "output_type": "execute_result"
    },
    {
     "data": {
      "image/png": "[encoded data removed]",
      "text/plain": [
       "<Figure size 432x288 with 1 Axes>"
      ]
     },
     "metadata": {
      "needs_background": "light"
     },
     "output_type": "display_data"
    }
   ],
   "source": [
    "sns.barplot(x='RA',y='W', data=bb)"
   ]
  },
  {
   "cell_type": "code",
   "execution_count": 12,
   "metadata": {},
   "outputs": [
    {
     "data": {
      "text/plain": [
       "<matplotlib.axes._subplots.AxesSubplot at 0x1a1c694bd0>"
      ]
     },
     "execution_count": 12,
     "metadata": {},
     "output_type": "execute_result"
    },
    {
     "data": {
      "image/png": "[encoded data removed]",
      "text/plain": [
       "<Figure size 432x288 with 1 Axes>"
      ]
     },
     "metadata": {
      "needs_background": "light"
     },
     "output_type": "display_data"
    }
   ],
   "source": [
    "sns.barplot(x='ERA',y='W', data=bb)"
   ]
  },
  {
   "cell_type": "code",
   "execution_count": 13,
   "metadata": {},
   "outputs": [
    {
     "data": {
      "text/plain": [
       "<matplotlib.axes._subplots.AxesSubplot at 0x1a1c83ba50>"
      ]
     },
     "execution_count": 13,
     "metadata": {},
     "output_type": "execute_result"
    },
    {
     "data": {
      "image/png": "[encoded data removed]",
      "text/plain": [
       "<Figure size 432x288 with 1 Axes>"
      ]
     },
     "metadata": {
      "needs_background": "light"
     },
     "output_type": "display_data"
    }
   ],
   "source": [
    "sns.barplot(x='SHO',y='W', data=bb)"
   ]
  },
  {
   "cell_type": "markdown",
   "metadata": {},
   "source": [
    "UNIVARIATE ANALYSIS"
   ]
  },
  {
   "cell_type": "code",
   "execution_count": 14,
   "metadata": {
    "scrolled": false
   },
   "outputs": [
    {
     "data": {
      "image/png": "[encoded data removed]",
      "text/plain": [
       "<Figure size 432x288 with 1 Axes>"
      ]
     },
     "metadata": {
      "needs_background": "light"
     },
     "output_type": "display_data"
    },
    {
     "data": {
      "image/png": "[encoded data removed]",
      "text/plain": [
       "<Figure size 432x288 with 1 Axes>"
      ]
     },
     "metadata": {
      "needs_background": "light"
     },
     "output_type": "display_data"
    },
    {
     "data": {
      "image/png": "[encoded data removed]",
      "text/plain": [
       "<Figure size 432x288 with 1 Axes>"
      ]
     },
     "metadata": {
      "needs_background": "light"
     },
     "output_type": "display_data"
    },
    {
     "data": {
      "image/png": "[encoded data removed]",
      "text/plain": [
       "<Figure size 432x288 with 1 Axes>"
      ]
     },
     "metadata": {
      "needs_background": "light"
     },
     "output_type": "display_data"
    },
    {
     "data": {
      "image/png": "[encoded data removed]",
      "text/plain": [
       "<Figure size 432x288 with 1 Axes>"
      ]
     },
     "metadata": {
      "needs_background": "light"
     },
     "output_type": "display_data"
    },
    {
     "data": {
      "image/png": "[encoded data removed]",
      "text/plain": [
       "<Figure size 432x288 with 1 Axes>"
      ]
     },
     "metadata": {
      "needs_background": "light"
     },
     "output_type": "display_data"
    },
    {
     "data": {
      "image/png": "[encoded data removed]",
      "text/plain": [
       "<Figure size 432x288 with 1 Axes>"
      ]
     },
     "metadata": {
      "needs_background": "light"
     },
     "output_type": "display_data"
    },
    {
     "data": {
      "image/png": "[encoded data removed]",
      "text/plain": [
       "<Figure size 432x288 with 1 Axes>"
      ]
     },
     "metadata": {
      "needs_background": "light"
     },
     "output_type": "display_data"
    },
    {
     "data": {
      "image/png": "[encoded data removed]",
      "text/plain": [
       "<Figure size 432x288 with 1 Axes>"
      ]
     },
     "metadata": {
      "needs_background": "light"
     },
     "output_type": "display_data"
    },
    {
     "data": {
      "image/png": "[encoded data removed]",
      "text/plain": [
       "<Figure size 432x288 with 1 Axes>"
      ]
     },
     "metadata": {
      "needs_background": "light"
     },
     "output_type": "display_data"
    },
    {
     "data": {
      "image/png": "[encoded data removed]",
      "text/plain": [
       "<Figure size 432x288 with 1 Axes>"
      ]
     },
     "metadata": {
      "needs_background": "light"
     },
     "output_type": "display_data"
    },
    {
     "data": {
      "image/png": "[encoded data removed]",
      "text/plain": [
       "<Figure size 432x288 with 1 Axes>"
      ]
     },
     "metadata": {
      "needs_background": "light"
     },
     "output_type": "display_data"
    },
    {
     "data": {
      "image/png": "[encoded data removed]",
      "text/plain": [
       "<Figure size 432x288 with 1 Axes>"
      ]
     },
     "metadata": {
      "needs_background": "light"
     },
     "output_type": "display_data"
    },
    {
     "data": {
      "image/png": "[encoded data removed]",
      "text/plain": [
       "<Figure size 432x288 with 1 Axes>"
      ]
     },
     "metadata": {
      "needs_background": "light"
     },
     "output_type": "display_data"
    },
    {
     "data": {
      "image/png": "[encoded data removed]",
      "text/plain": [
       "<Figure size 432x288 with 1 Axes>"
      ]
     },
     "metadata": {
      "needs_background": "light"
     },
     "output_type": "display_data"
    },
    {
     "data": {
      "image/png": "[encoded data removed]",
      "text/plain": [
       "<Figure size 432x288 with 1 Axes>"
      ]
     },
     "metadata": {
      "needs_background": "light"
     },
     "output_type": "display_data"
    },
    {
     "data": {
      "image/png": "[encoded data removed]",
      "text/plain": [
       "<Figure size 432x288 with 1 Axes>"
      ]
     },
     "metadata": {
      "needs_background": "light"
     },
     "output_type": "display_data"
    }
   ],
   "source": [
    "for i in bb.describe().columns:\n",
    "    sns.distplot(bb[i].dropna())\n",
    "    plt.show()"
   ]
  },
  {
   "cell_type": "code",
   "execution_count": 15,
   "metadata": {
    "scrolled": false
   },
   "outputs": [
    {
     "data": {
      "image/png": "[encoded data removed]",
      "text/plain": [
       "<Figure size 432x288 with 1 Axes>"
      ]
     },
     "metadata": {
      "needs_background": "light"
     },
     "output_type": "display_data"
    },
    {
     "data": {
      "image/png": "[encoded data removed]",
      "text/plain": [
       "<Figure size 432x288 with 1 Axes>"
      ]
     },
     "metadata": {
      "needs_background": "light"
     },
     "output_type": "display_data"
    },
    {
     "data": {
      "image/png": "[encoded data removed]",
      "text/plain": [
       "<Figure size 432x288 with 1 Axes>"
      ]
     },
     "metadata": {
      "needs_background": "light"
     },
     "output_type": "display_data"
    },
    {
     "data": {
      "image/png": "[encoded data removed]",
      "text/plain": [
       "<Figure size 432x288 with 1 Axes>"
      ]
     },
     "metadata": {
      "needs_background": "light"
     },
     "output_type": "display_data"
    },
    {
     "data": {
      "image/png": "[encoded data removed]",
      "text/plain": [
       "<Figure size 432x288 with 1 Axes>"
      ]
     },
     "metadata": {
      "needs_background": "light"
     },
     "output_type": "display_data"
    },
    {
     "data": {
      "image/png": "[encoded data removed]",
      "text/plain": [
       "<Figure size 432x288 with 1 Axes>"
      ]
     },
     "metadata": {
      "needs_background": "light"
     },
     "output_type": "display_data"
    },
    {
     "data": {
      "image/png": "[encoded data removed]",
      "text/plain": [
       "<Figure size 432x288 with 1 Axes>"
      ]
     },
     "metadata": {
      "needs_background": "light"
     },
     "output_type": "display_data"
    },
    {
     "data": {
      "image/png": "[encoded data removed]",
      "text/plain": [
       "<Figure size 432x288 with 1 Axes>"
      ]
     },
     "metadata": {
      "needs_background": "light"
     },
     "output_type": "display_data"
    },
    {
     "data": {
      "image/png": "[encoded data removed]",
      "text/plain": [
       "<Figure size 432x288 with 1 Axes>"
      ]
     },
     "metadata": {
      "needs_background": "light"
     },
     "output_type": "display_data"
    },
    {
     "data": {
      "image/png": "[encoded data removed]",
      "text/plain": [
       "<Figure size 432x288 with 1 Axes>"
      ]
     },
     "metadata": {
      "needs_background": "light"
     },
     "output_type": "display_data"
    },
    {
     "data": {
      "image/png": "[encoded data removed]",
      "text/plain": [
       "<Figure size 432x288 with 1 Axes>"
      ]
     },
     "metadata": {
      "needs_background": "light"
     },
     "output_type": "display_data"
    },
    {
     "data": {
      "image/png": "[encoded data removed]",
      "text/plain": [
       "<Figure size 432x288 with 1 Axes>"
      ]
     },
     "metadata": {
      "needs_background": "light"
     },
     "output_type": "display_data"
    },
    {
     "data": {
      "image/png": "[encoded data removed]",
      "text/plain": [
       "<Figure size 432x288 with 1 Axes>"
      ]
     },
     "metadata": {
      "needs_background": "light"
     },
     "output_type": "display_data"
    },
    {
     "data": {
      "image/png": "[encoded data removed]",
      "text/plain": [
       "<Figure size 432x288 with 1 Axes>"
      ]
     },
     "metadata": {
      "needs_background": "light"
     },
     "output_type": "display_data"
    },
    {
     "data": {
      "image/png": "[encoded data removed]",
      "text/plain": [
       "<Figure size 432x288 with 1 Axes>"
      ]
     },
     "metadata": {
      "needs_background": "light"
     },
     "output_type": "display_data"
    },
    {
     "data": {
      "image/png": "[encoded data removed]",
      "text/plain": [
       "<Figure size 432x288 with 1 Axes>"
      ]
     },
     "metadata": {
      "needs_background": "light"
     },
     "output_type": "display_data"
    },
    {
     "data": {
      "image/png": "[encoded data removed]",
      "text/plain": [
       "<Figure size 432x288 with 1 Axes>"
      ]
     },
     "metadata": {
      "needs_background": "light"
     },
     "output_type": "display_data"
    }
   ],
   "source": [
    "for i in bb.describe().columns:\n",
    "    sns.boxplot(bb[i].dropna())\n",
    "    plt.show()"
   ]
  },
  {
   "cell_type": "code",
   "execution_count": 16,
   "metadata": {},
   "outputs": [
    {
     "data": {
      "text/plain": [
       "<matplotlib.axes._subplots.AxesSubplot at 0x1a1ce88b90>"
      ]
     },
     "execution_count": 16,
     "metadata": {},
     "output_type": "execute_result"
    },
    {
     "data": {
      "image/png": "[encoded data removed]",
      "text/plain": [
       "<Figure size 432x288 with 1 Axes>"
      ]
     },
     "metadata": {
      "needs_background": "light"
     },
     "output_type": "display_data"
    }
   ],
   "source": [
    "bb['SHO'].plot.hist()"
   ]
  },
  {
   "cell_type": "code",
   "execution_count": 17,
   "metadata": {},
   "outputs": [
    {
     "data": {
      "text/plain": [
       "<matplotlib.axes._subplots.AxesSubplot at 0x1a1cda8fd0>"
      ]
     },
     "execution_count": 17,
     "metadata": {},
     "output_type": "execute_result"
    },
    {
     "data": {
      "image/png": "[encoded data removed]",
      "text/plain": [
       "<Figure size 432x288 with 1 Axes>"
      ]
     },
     "metadata": {
      "needs_background": "light"
     },
     "output_type": "display_data"
    }
   ],
   "source": [
    "bb['ERA'].plot.hist()"
   ]
  },
  {
   "cell_type": "code",
   "execution_count": 18,
   "metadata": {},
   "outputs": [
    {
     "data": {
      "image/png": "[encoded data removed]",
      "text/plain": [
       "<Figure size 1080x720 with 1 Axes>"
      ]
     },
     "metadata": {
      "needs_background": "light"
     },
     "output_type": "display_data"
    }
   ],
   "source": [
    "plt.figure(figsize=(15,10))\n",
    "sns.countplot(bb.ERA)\n",
    "plt.show()"
   ]
  },
  {
   "cell_type": "code",
   "execution_count": 19,
   "metadata": {},
   "outputs": [
    {
     "data": {
      "image/png": "[encoded data removed]",
      "text/plain": [
       "<Figure size 1080x720 with 1 Axes>"
      ]
     },
     "metadata": {
      "needs_background": "light"
     },
     "output_type": "display_data"
    }
   ],
   "source": [
    "plt.figure(figsize=(15,10))\n",
    "sns.countplot(bb.ER)\n",
    "plt.show()"
   ]
  },
  {
   "cell_type": "code",
   "execution_count": 20,
   "metadata": {},
   "outputs": [
    {
     "data": {
      "image/png": "[encoded data removed]",
      "text/plain": [
       "<Figure size 1080x720 with 1 Axes>"
      ]
     },
     "metadata": {
      "needs_background": "light"
     },
     "output_type": "display_data"
    }
   ],
   "source": [
    "plt.figure(figsize=(15,10))\n",
    "sns.countplot(bb.SO)\n",
    "plt.show()"
   ]
  },
  {
   "cell_type": "code",
   "execution_count": 21,
   "metadata": {},
   "outputs": [
    {
     "data": {
      "image/png": "[encoded data removed]",
      "text/plain": [
       "<Figure size 1080x720 with 1 Axes>"
      ]
     },
     "metadata": {
      "needs_background": "light"
     },
     "output_type": "display_data"
    }
   ],
   "source": [
    "plt.figure(figsize=(15,10))\n",
    "sns.countplot(bb.R)\n",
    "plt.show()"
   ]
  },
  {
   "cell_type": "code",
   "execution_count": 22,
   "metadata": {},
   "outputs": [
    {
     "data": {
      "image/png": "[encoded data removed]",
      "text/plain": [
       "<Figure size 1080x720 with 1 Axes>"
      ]
     },
     "metadata": {
      "needs_background": "light"
     },
     "output_type": "display_data"
    }
   ],
   "source": [
    "plt.figure(figsize=(15,10))\n",
    "sns.countplot(bb.AB)\n",
    "plt.show()"
   ]
  },
  {
   "cell_type": "code",
   "execution_count": 23,
   "metadata": {},
   "outputs": [
    {
     "data": {
      "image/png": "[encoded data removed]",
      "text/plain": [
       "<Figure size 1080x720 with 1 Axes>"
      ]
     },
     "metadata": {
      "needs_background": "light"
     },
     "output_type": "display_data"
    }
   ],
   "source": [
    "plt.figure(figsize=(15,10))\n",
    "sns.countplot(bb.H)\n",
    "plt.show()"
   ]
  },
  {
   "cell_type": "code",
   "execution_count": 24,
   "metadata": {},
   "outputs": [
    {
     "data": {
      "text/plain": [
       "W      0.047089\n",
       "R      1.200786\n",
       "AB     0.183437\n",
       "H      0.670254\n",
       "2B    -0.230650\n",
       "3B     0.129502\n",
       "HR     0.516441\n",
       "BB     0.158498\n",
       "SO    -0.156065\n",
       "SB     0.479893\n",
       "RA     0.045734\n",
       "ER     0.058710\n",
       "ERA    0.053331\n",
       "CG     0.736845\n",
       "SHO    0.565790\n",
       "SV     0.657524\n",
       "E      0.890132\n",
       "dtype: float64"
      ]
     },
     "execution_count": 24,
     "metadata": {},
     "output_type": "execute_result"
    }
   ],
   "source": [
    "bb.skew()"
   ]
  },
  {
   "cell_type": "code",
   "execution_count": 25,
   "metadata": {},
   "outputs": [
    {
     "name": "stdout",
     "output_type": "stream",
     "text": [
      "shape of data before removing outliers (30, 17)\n",
      "\n",
      "Skewness of the dataset before removing outliers\n",
      "W      0.047089\n",
      "R      1.200786\n",
      "AB     0.183437\n",
      "H      0.670254\n",
      "2B    -0.230650\n",
      "3B     0.129502\n",
      "HR     0.516441\n",
      "BB     0.158498\n",
      "SO    -0.156065\n",
      "SB     0.479893\n",
      "RA     0.045734\n",
      "ER     0.058710\n",
      "ERA    0.053331\n",
      "CG     0.736845\n",
      "SHO    0.565790\n",
      "SV     0.657524\n",
      "E      0.890132\n",
      "dtype: float64\n",
      "New Shape (29, 17)\n"
     ]
    }
   ],
   "source": [
    "print(\"shape of data before removing outliers\", bb.shape)\n",
    "\n",
    "print()\n",
    "\n",
    "print(\"Skewness of the dataset before removing outliers\")\n",
    "print(bb.skew())\n",
    "\n",
    "from scipy.stats import zscore\n",
    "z=np.abs(zscore(bb))\n",
    "\n",
    "\n",
    "bb=bb[(z<3).all(axis=1)]\n",
    "\n",
    "print('New Shape',bb.shape)\n",
    "\n"
   ]
  },
  {
   "cell_type": "code",
   "execution_count": 26,
   "metadata": {},
   "outputs": [
    {
     "data": {
      "text/plain": [
       "<matplotlib.axes._subplots.AxesSubplot at 0x1a1ccfa0d0>"
      ]
     },
     "execution_count": 26,
     "metadata": {},
     "output_type": "execute_result"
    },
    {
     "data": {
      "image/png": "[encoded data removed]",
      "text/plain": [
       "<Figure size 432x288 with 2 Axes>"
      ]
     },
     "metadata": {
      "needs_background": "light"
     },
     "output_type": "display_data"
    }
   ],
   "source": [
    "sns.heatmap(bb.corr())"
   ]
  },
  {
   "cell_type": "code",
   "execution_count": 27,
   "metadata": {},
   "outputs": [
    {
     "data": {
      "text/html": [
       "<div>\n",
       "<style scoped>\n",
       "    .dataframe tbody tr th:only-of-type {\n",
       "        vertical-align: middle;\n",
       "    }\n",
       "\n",
       "    .dataframe tbody tr th {\n",
       "        vertical-align: top;\n",
       "    }\n",
       "\n",
       "    .dataframe thead th {\n",
       "        text-align: right;\n",
       "    }\n",
       "</style>\n",
       "<table border=\"1\" class=\"dataframe\">\n",
       "  <thead>\n",
       "    <tr style=\"text-align: right;\">\n",
       "      <th></th>\n",
       "      <th>W</th>\n",
       "      <th>R</th>\n",
       "      <th>AB</th>\n",
       "      <th>H</th>\n",
       "      <th>2B</th>\n",
       "      <th>3B</th>\n",
       "      <th>HR</th>\n",
       "      <th>BB</th>\n",
       "      <th>SO</th>\n",
       "      <th>SB</th>\n",
       "      <th>RA</th>\n",
       "      <th>ER</th>\n",
       "      <th>ERA</th>\n",
       "      <th>CG</th>\n",
       "      <th>SHO</th>\n",
       "      <th>SV</th>\n",
       "      <th>E</th>\n",
       "    </tr>\n",
       "  </thead>\n",
       "  <tbody>\n",
       "    <tr>\n",
       "      <th>W</th>\n",
       "      <td>1.000000</td>\n",
       "      <td>0.390451</td>\n",
       "      <td>-0.085780</td>\n",
       "      <td>-0.018360</td>\n",
       "      <td>0.384886</td>\n",
       "      <td>-0.206737</td>\n",
       "      <td>0.245697</td>\n",
       "      <td>0.447513</td>\n",
       "      <td>0.156469</td>\n",
       "      <td>-0.169503</td>\n",
       "      <td>-0.823176</td>\n",
       "      <td>-0.815308</td>\n",
       "      <td>-0.826952</td>\n",
       "      <td>0.029594</td>\n",
       "      <td>0.497526</td>\n",
       "      <td>0.749290</td>\n",
       "      <td>-0.072858</td>\n",
       "    </tr>\n",
       "    <tr>\n",
       "      <th>R</th>\n",
       "      <td>0.390451</td>\n",
       "      <td>1.000000</td>\n",
       "      <td>0.438022</td>\n",
       "      <td>0.433525</td>\n",
       "      <td>0.469293</td>\n",
       "      <td>0.134204</td>\n",
       "      <td>0.586894</td>\n",
       "      <td>0.258450</td>\n",
       "      <td>0.081158</td>\n",
       "      <td>0.075323</td>\n",
       "      <td>-0.013858</td>\n",
       "      <td>0.007727</td>\n",
       "      <td>-0.009122</td>\n",
       "      <td>0.101438</td>\n",
       "      <td>-0.085108</td>\n",
       "      <td>0.061381</td>\n",
       "      <td>0.043123</td>\n",
       "    </tr>\n",
       "    <tr>\n",
       "      <th>AB</th>\n",
       "      <td>-0.085780</td>\n",
       "      <td>0.438022</td>\n",
       "      <td>1.000000</td>\n",
       "      <td>0.769159</td>\n",
       "      <td>0.490752</td>\n",
       "      <td>0.445604</td>\n",
       "      <td>-0.064653</td>\n",
       "      <td>-0.137850</td>\n",
       "      <td>-0.111243</td>\n",
       "      <td>0.373674</td>\n",
       "      <td>0.315499</td>\n",
       "      <td>0.309146</td>\n",
       "      <td>0.254872</td>\n",
       "      <td>-0.078511</td>\n",
       "      <td>-0.198872</td>\n",
       "      <td>-0.113342</td>\n",
       "      <td>0.316297</td>\n",
       "    </tr>\n",
       "    <tr>\n",
       "      <th>H</th>\n",
       "      <td>-0.018360</td>\n",
       "      <td>0.433525</td>\n",
       "      <td>0.769159</td>\n",
       "      <td>1.000000</td>\n",
       "      <td>0.528016</td>\n",
       "      <td>0.582024</td>\n",
       "      <td>-0.218711</td>\n",
       "      <td>-0.222271</td>\n",
       "      <td>-0.371861</td>\n",
       "      <td>0.417877</td>\n",
       "      <td>0.244606</td>\n",
       "      <td>0.280571</td>\n",
       "      <td>0.256458</td>\n",
       "      <td>0.092577</td>\n",
       "      <td>-0.135116</td>\n",
       "      <td>-0.079814</td>\n",
       "      <td>-0.011945</td>\n",
       "    </tr>\n",
       "    <tr>\n",
       "      <th>2B</th>\n",
       "      <td>0.384886</td>\n",
       "      <td>0.469293</td>\n",
       "      <td>0.490752</td>\n",
       "      <td>0.528016</td>\n",
       "      <td>1.000000</td>\n",
       "      <td>0.342419</td>\n",
       "      <td>-0.098695</td>\n",
       "      <td>0.211243</td>\n",
       "      <td>-0.096772</td>\n",
       "      <td>0.194308</td>\n",
       "      <td>-0.215196</td>\n",
       "      <td>-0.224993</td>\n",
       "      <td>-0.248212</td>\n",
       "      <td>0.244856</td>\n",
       "      <td>0.084060</td>\n",
       "      <td>0.269999</td>\n",
       "      <td>0.145032</td>\n",
       "    </tr>\n",
       "    <tr>\n",
       "      <th>3B</th>\n",
       "      <td>-0.206737</td>\n",
       "      <td>0.134204</td>\n",
       "      <td>0.445604</td>\n",
       "      <td>0.582024</td>\n",
       "      <td>0.342419</td>\n",
       "      <td>1.000000</td>\n",
       "      <td>-0.369299</td>\n",
       "      <td>-0.404852</td>\n",
       "      <td>-0.196586</td>\n",
       "      <td>0.483818</td>\n",
       "      <td>0.312750</td>\n",
       "      <td>0.333731</td>\n",
       "      <td>0.325883</td>\n",
       "      <td>-0.003733</td>\n",
       "      <td>-0.058896</td>\n",
       "      <td>-0.210627</td>\n",
       "      <td>0.108610</td>\n",
       "    </tr>\n",
       "    <tr>\n",
       "      <th>HR</th>\n",
       "      <td>0.245697</td>\n",
       "      <td>0.586894</td>\n",
       "      <td>-0.064653</td>\n",
       "      <td>-0.218711</td>\n",
       "      <td>-0.098695</td>\n",
       "      <td>-0.369299</td>\n",
       "      <td>1.000000</td>\n",
       "      <td>0.336814</td>\n",
       "      <td>0.479914</td>\n",
       "      <td>-0.166072</td>\n",
       "      <td>-0.092586</td>\n",
       "      <td>-0.062094</td>\n",
       "      <td>-0.070756</td>\n",
       "      <td>0.065978</td>\n",
       "      <td>0.005546</td>\n",
       "      <td>0.066984</td>\n",
       "      <td>-0.189790</td>\n",
       "    </tr>\n",
       "    <tr>\n",
       "      <th>BB</th>\n",
       "      <td>0.447513</td>\n",
       "      <td>0.258450</td>\n",
       "      <td>-0.137850</td>\n",
       "      <td>-0.222271</td>\n",
       "      <td>0.211243</td>\n",
       "      <td>-0.404852</td>\n",
       "      <td>0.336814</td>\n",
       "      <td>1.000000</td>\n",
       "      <td>0.315566</td>\n",
       "      <td>-0.117622</td>\n",
       "      <td>-0.425381</td>\n",
       "      <td>-0.455832</td>\n",
       "      <td>-0.465794</td>\n",
       "      <td>0.417437</td>\n",
       "      <td>0.473922</td>\n",
       "      <td>0.187101</td>\n",
       "      <td>-0.050114</td>\n",
       "    </tr>\n",
       "    <tr>\n",
       "      <th>SO</th>\n",
       "      <td>0.156469</td>\n",
       "      <td>0.081158</td>\n",
       "      <td>-0.111243</td>\n",
       "      <td>-0.371861</td>\n",
       "      <td>-0.096772</td>\n",
       "      <td>-0.196586</td>\n",
       "      <td>0.479914</td>\n",
       "      <td>0.315566</td>\n",
       "      <td>1.000000</td>\n",
       "      <td>0.038188</td>\n",
       "      <td>-0.140570</td>\n",
       "      <td>-0.177655</td>\n",
       "      <td>-0.195362</td>\n",
       "      <td>-0.053075</td>\n",
       "      <td>0.231230</td>\n",
       "      <td>0.091394</td>\n",
       "      <td>0.142740</td>\n",
       "    </tr>\n",
       "    <tr>\n",
       "      <th>SB</th>\n",
       "      <td>-0.169503</td>\n",
       "      <td>0.075323</td>\n",
       "      <td>0.373674</td>\n",
       "      <td>0.417877</td>\n",
       "      <td>0.194308</td>\n",
       "      <td>0.483818</td>\n",
       "      <td>-0.166072</td>\n",
       "      <td>-0.117622</td>\n",
       "      <td>0.038188</td>\n",
       "      <td>1.000000</td>\n",
       "      <td>0.134315</td>\n",
       "      <td>0.146243</td>\n",
       "      <td>0.128848</td>\n",
       "      <td>-0.030708</td>\n",
       "      <td>-0.104602</td>\n",
       "      <td>-0.179741</td>\n",
       "      <td>0.082702</td>\n",
       "    </tr>\n",
       "    <tr>\n",
       "      <th>RA</th>\n",
       "      <td>-0.823176</td>\n",
       "      <td>-0.013858</td>\n",
       "      <td>0.315499</td>\n",
       "      <td>0.244606</td>\n",
       "      <td>-0.215196</td>\n",
       "      <td>0.312750</td>\n",
       "      <td>-0.092586</td>\n",
       "      <td>-0.425381</td>\n",
       "      <td>-0.140570</td>\n",
       "      <td>0.134315</td>\n",
       "      <td>1.000000</td>\n",
       "      <td>0.991286</td>\n",
       "      <td>0.986781</td>\n",
       "      <td>-0.005288</td>\n",
       "      <td>-0.641579</td>\n",
       "      <td>-0.642734</td>\n",
       "      <td>0.195846</td>\n",
       "    </tr>\n",
       "    <tr>\n",
       "      <th>ER</th>\n",
       "      <td>-0.815308</td>\n",
       "      <td>0.007727</td>\n",
       "      <td>0.309146</td>\n",
       "      <td>0.280571</td>\n",
       "      <td>-0.224993</td>\n",
       "      <td>0.333731</td>\n",
       "      <td>-0.062094</td>\n",
       "      <td>-0.455832</td>\n",
       "      <td>-0.177655</td>\n",
       "      <td>0.146243</td>\n",
       "      <td>0.991286</td>\n",
       "      <td>1.000000</td>\n",
       "      <td>0.997261</td>\n",
       "      <td>-0.002865</td>\n",
       "      <td>-0.637293</td>\n",
       "      <td>-0.621875</td>\n",
       "      <td>0.131556</td>\n",
       "    </tr>\n",
       "    <tr>\n",
       "      <th>ERA</th>\n",
       "      <td>-0.826952</td>\n",
       "      <td>-0.009122</td>\n",
       "      <td>0.254872</td>\n",
       "      <td>0.256458</td>\n",
       "      <td>-0.248212</td>\n",
       "      <td>0.325883</td>\n",
       "      <td>-0.070756</td>\n",
       "      <td>-0.465794</td>\n",
       "      <td>-0.195362</td>\n",
       "      <td>0.128848</td>\n",
       "      <td>0.986781</td>\n",
       "      <td>0.997261</td>\n",
       "      <td>1.000000</td>\n",
       "      <td>0.006038</td>\n",
       "      <td>-0.637186</td>\n",
       "      <td>-0.637755</td>\n",
       "      <td>0.108191</td>\n",
       "    </tr>\n",
       "    <tr>\n",
       "      <th>CG</th>\n",
       "      <td>0.029594</td>\n",
       "      <td>0.101438</td>\n",
       "      <td>-0.078511</td>\n",
       "      <td>0.092577</td>\n",
       "      <td>0.244856</td>\n",
       "      <td>-0.003733</td>\n",
       "      <td>0.065978</td>\n",
       "      <td>0.417437</td>\n",
       "      <td>-0.053075</td>\n",
       "      <td>-0.030708</td>\n",
       "      <td>-0.005288</td>\n",
       "      <td>-0.002865</td>\n",
       "      <td>0.006038</td>\n",
       "      <td>1.000000</td>\n",
       "      <td>0.264346</td>\n",
       "      <td>-0.332806</td>\n",
       "      <td>-0.123447</td>\n",
       "    </tr>\n",
       "    <tr>\n",
       "      <th>SHO</th>\n",
       "      <td>0.497526</td>\n",
       "      <td>-0.085108</td>\n",
       "      <td>-0.198872</td>\n",
       "      <td>-0.135116</td>\n",
       "      <td>0.084060</td>\n",
       "      <td>-0.058896</td>\n",
       "      <td>0.005546</td>\n",
       "      <td>0.473922</td>\n",
       "      <td>0.231230</td>\n",
       "      <td>-0.104602</td>\n",
       "      <td>-0.641579</td>\n",
       "      <td>-0.637293</td>\n",
       "      <td>-0.637186</td>\n",
       "      <td>0.264346</td>\n",
       "      <td>1.000000</td>\n",
       "      <td>0.214175</td>\n",
       "      <td>-0.121484</td>\n",
       "    </tr>\n",
       "    <tr>\n",
       "      <th>SV</th>\n",
       "      <td>0.749290</td>\n",
       "      <td>0.061381</td>\n",
       "      <td>-0.113342</td>\n",
       "      <td>-0.079814</td>\n",
       "      <td>0.269999</td>\n",
       "      <td>-0.210627</td>\n",
       "      <td>0.066984</td>\n",
       "      <td>0.187101</td>\n",
       "      <td>0.091394</td>\n",
       "      <td>-0.179741</td>\n",
       "      <td>-0.642734</td>\n",
       "      <td>-0.621875</td>\n",
       "      <td>-0.637755</td>\n",
       "      <td>-0.332806</td>\n",
       "      <td>0.214175</td>\n",
       "      <td>1.000000</td>\n",
       "      <td>-0.045539</td>\n",
       "    </tr>\n",
       "    <tr>\n",
       "      <th>E</th>\n",
       "      <td>-0.072858</td>\n",
       "      <td>0.043123</td>\n",
       "      <td>0.316297</td>\n",
       "      <td>-0.011945</td>\n",
       "      <td>0.145032</td>\n",
       "      <td>0.108610</td>\n",
       "      <td>-0.189790</td>\n",
       "      <td>-0.050114</td>\n",
       "      <td>0.142740</td>\n",
       "      <td>0.082702</td>\n",
       "      <td>0.195846</td>\n",
       "      <td>0.131556</td>\n",
       "      <td>0.108191</td>\n",
       "      <td>-0.123447</td>\n",
       "      <td>-0.121484</td>\n",
       "      <td>-0.045539</td>\n",
       "      <td>1.000000</td>\n",
       "    </tr>\n",
       "  </tbody>\n",
       "</table>\n",
       "</div>"
      ],
      "text/plain": [
       "            W         R        AB         H        2B        3B        HR  \\\n",
       "W    1.000000  0.390451 -0.085780 -0.018360  0.384886 -0.206737  0.245697   \n",
       "R    0.390451  1.000000  0.438022  0.433525  0.469293  0.134204  0.586894   \n",
       "AB  -0.085780  0.438022  1.000000  0.769159  0.490752  0.445604 -0.064653   \n",
       "H   -0.018360  0.433525  0.769159  1.000000  0.528016  0.582024 -0.218711   \n",
       "2B   0.384886  0.469293  0.490752  0.528016  1.000000  0.342419 -0.098695   \n",
       "3B  -0.206737  0.134204  0.445604  0.582024  0.342419  1.000000 -0.369299   \n",
       "HR   0.245697  0.586894 -0.064653 -0.218711 -0.098695 -0.369299  1.000000   \n",
       "BB   0.447513  0.258450 -0.137850 -0.222271  0.211243 -0.404852  0.336814   \n",
       "SO   0.156469  0.081158 -0.111243 -0.371861 -0.096772 -0.196586  0.479914   \n",
       "SB  -0.169503  0.075323  0.373674  0.417877  0.194308  0.483818 -0.166072   \n",
       "RA  -0.823176 -0.013858  0.315499  0.244606 -0.215196  0.312750 -0.092586   \n",
       "ER  -0.815308  0.007727  0.309146  0.280571 -0.224993  0.333731 -0.062094   \n",
       "ERA -0.826952 -0.009122  0.254872  0.256458 -0.248212  0.325883 -0.070756   \n",
       "CG   0.029594  0.101438 -0.078511  0.092577  0.244856 -0.003733  0.065978   \n",
       "SHO  0.497526 -0.085108 -0.198872 -0.135116  0.084060 -0.058896  0.005546   \n",
       "SV   0.749290  0.061381 -0.113342 -0.079814  0.269999 -0.210627  0.066984   \n",
       "E   -0.072858  0.043123  0.316297 -0.011945  0.145032  0.108610 -0.189790   \n",
       "\n",
       "           BB        SO        SB        RA        ER       ERA        CG  \\\n",
       "W    0.447513  0.156469 -0.169503 -0.823176 -0.815308 -0.826952  0.029594   \n",
       "R    0.258450  0.081158  0.075323 -0.013858  0.007727 -0.009122  0.101438   \n",
       "AB  -0.137850 -0.111243  0.373674  0.315499  0.309146  0.254872 -0.078511   \n",
       "H   -0.222271 -0.371861  0.417877  0.244606  0.280571  0.256458  0.092577   \n",
       "2B   0.211243 -0.096772  0.194308 -0.215196 -0.224993 -0.248212  0.244856   \n",
       "3B  -0.404852 -0.196586  0.483818  0.312750  0.333731  0.325883 -0.003733   \n",
       "HR   0.336814  0.479914 -0.166072 -0.092586 -0.062094 -0.070756  0.065978   \n",
       "BB   1.000000  0.315566 -0.117622 -0.425381 -0.455832 -0.465794  0.417437   \n",
       "SO   0.315566  1.000000  0.038188 -0.140570 -0.177655 -0.195362 -0.053075   \n",
       "SB  -0.117622  0.038188  1.000000  0.134315  0.146243  0.128848 -0.030708   \n",
       "RA  -0.425381 -0.140570  0.134315  1.000000  0.991286  0.986781 -0.005288   \n",
       "ER  -0.455832 -0.177655  0.146243  0.991286  1.000000  0.997261 -0.002865   \n",
       "ERA -0.465794 -0.195362  0.128848  0.986781  0.997261  1.000000  0.006038   \n",
       "CG   0.417437 -0.053075 -0.030708 -0.005288 -0.002865  0.006038  1.000000   \n",
       "SHO  0.473922  0.231230 -0.104602 -0.641579 -0.637293 -0.637186  0.264346   \n",
       "SV   0.187101  0.091394 -0.179741 -0.642734 -0.621875 -0.637755 -0.332806   \n",
       "E   -0.050114  0.142740  0.082702  0.195846  0.131556  0.108191 -0.123447   \n",
       "\n",
       "          SHO        SV         E  \n",
       "W    0.497526  0.749290 -0.072858  \n",
       "R   -0.085108  0.061381  0.043123  \n",
       "AB  -0.198872 -0.113342  0.316297  \n",
       "H   -0.135116 -0.079814 -0.011945  \n",
       "2B   0.084060  0.269999  0.145032  \n",
       "3B  -0.058896 -0.210627  0.108610  \n",
       "HR   0.005546  0.066984 -0.189790  \n",
       "BB   0.473922  0.187101 -0.050114  \n",
       "SO   0.231230  0.091394  0.142740  \n",
       "SB  -0.104602 -0.179741  0.082702  \n",
       "RA  -0.641579 -0.642734  0.195846  \n",
       "ER  -0.637293 -0.621875  0.131556  \n",
       "ERA -0.637186 -0.637755  0.108191  \n",
       "CG   0.264346 -0.332806 -0.123447  \n",
       "SHO  1.000000  0.214175 -0.121484  \n",
       "SV   0.214175  1.000000 -0.045539  \n",
       "E   -0.121484 -0.045539  1.000000  "
      ]
     },
     "execution_count": 27,
     "metadata": {},
     "output_type": "execute_result"
    }
   ],
   "source": [
    "bb.corr()"
   ]
  },
  {
   "cell_type": "code",
   "execution_count": 28,
   "metadata": {},
   "outputs": [],
   "source": [
    "for col in bb.columns:\n",
    "    if bb.skew().loc[col]>0.55:\n",
    "        bb[col]=np.sqrt(bb[col])\n",
    "        "
   ]
  },
  {
   "cell_type": "code",
   "execution_count": 29,
   "metadata": {},
   "outputs": [
    {
     "data": {
      "text/plain": [
       "W      0.119013\n",
       "R     -0.215364\n",
       "AB     0.169573\n",
       "H      0.761274\n",
       "2B    -0.335304\n",
       "3B     0.090124\n",
       "HR     0.450862\n",
       "BB     0.151193\n",
       "SO    -0.233815\n",
       "SB     0.494966\n",
       "RA     0.018155\n",
       "ER     0.018461\n",
       "ERA    0.016693\n",
       "CG    -0.260678\n",
       "SHO    0.526943\n",
       "SV     0.370280\n",
       "E      0.714966\n",
       "dtype: float64"
      ]
     },
     "execution_count": 29,
     "metadata": {},
     "output_type": "execute_result"
    }
   ],
   "source": [
    "bb.skew()"
   ]
  },
  {
   "cell_type": "code",
   "execution_count": 30,
   "metadata": {},
   "outputs": [],
   "source": [
    "x=bb.drop('W',1)\n",
    "y=bb.W"
   ]
  },
  {
   "cell_type": "code",
   "execution_count": 31,
   "metadata": {},
   "outputs": [
    {
     "data": {
      "text/plain": [
       "(29, 16)"
      ]
     },
     "execution_count": 31,
     "metadata": {},
     "output_type": "execute_result"
    }
   ],
   "source": [
    "x.shape"
   ]
  },
  {
   "cell_type": "code",
   "execution_count": 32,
   "metadata": {},
   "outputs": [
    {
     "data": {
      "text/plain": [
       "(29,)"
      ]
     },
     "execution_count": 32,
     "metadata": {},
     "output_type": "execute_result"
    }
   ],
   "source": [
    "y.shape"
   ]
  },
  {
   "cell_type": "code",
   "execution_count": 33,
   "metadata": {},
   "outputs": [],
   "source": [
    "y=y.values.reshape(-1,1)"
   ]
  },
  {
   "cell_type": "code",
   "execution_count": 34,
   "metadata": {},
   "outputs": [
    {
     "data": {
      "text/plain": [
       "(29, 1)"
      ]
     },
     "execution_count": 34,
     "metadata": {},
     "output_type": "execute_result"
    }
   ],
   "source": [
    "y.shape"
   ]
  },
  {
   "cell_type": "code",
   "execution_count": 39,
   "metadata": {},
   "outputs": [],
   "source": [
    "from sklearn.model_selection import train_test_split"
   ]
  },
  {
   "cell_type": "code",
   "execution_count": 42,
   "metadata": {},
   "outputs": [
    {
     "data": {
      "text/plain": [
       "LinearRegression(copy_X=True, fit_intercept=True, n_jobs=None, normalize=False)"
      ]
     },
     "execution_count": 42,
     "metadata": {},
     "output_type": "execute_result"
    }
   ],
   "source": [
    "x_train,x_test,y_train,y_test=train_test_split(x,y,test_size=0.2,random_state=42)\n",
    "lr=LinearRegression()\n",
    "lr.fit(x_train,y_train)"
   ]
  },
  {
   "cell_type": "code",
   "execution_count": 43,
   "metadata": {},
   "outputs": [
    {
     "name": "stdout",
     "output_type": "stream",
     "text": [
      "Coefficient: [[ 8.59965448e-02 -8.86715311e-02  4.98732313e+00  1.25134954e-02\n",
      "   1.10643020e-01  3.28603478e-02 -3.24976990e-02 -1.11778813e-02\n",
      "  -9.61329465e-02  3.03504701e-02  9.02067208e-01 -1.62175702e+02\n",
      "   1.67234300e-01 -2.16827311e-01  1.33509144e+00 -5.57323165e-01]]\n",
      "Intercept: [394.68591185]\n"
     ]
    }
   ],
   "source": [
    "print('Coefficient:', lr.coef_)\n",
    "print('Intercept:', lr.intercept_)"
   ]
  },
  {
   "cell_type": "code",
   "execution_count": 44,
   "metadata": {},
   "outputs": [],
   "source": [
    "y_pred=lr.predict(x_test)"
   ]
  },
  {
   "cell_type": "code",
   "execution_count": 46,
   "metadata": {},
   "outputs": [
    {
     "name": "stdout",
     "output_type": "stream",
     "text": [
      "5.8083644892032 52.279318654453505 7.230443876723856 0.4573081108534238\n"
     ]
    }
   ],
   "source": [
    "MAE_LR = metrics.mean_absolute_error(y_test,y_pred)\n",
    "MSE_LR = metrics.mean_squared_error(y_test,y_pred)\n",
    "RMSE_LR=np.sqrt(MSE_LR)\n",
    "R2_LR = metrics.r2_score(y_test,y_pred)\n",
    "print(MAE_LR, MSE_LR, RMSE_LR, R2_LR)"
   ]
  },
  {
   "cell_type": "code",
   "execution_count": 47,
   "metadata": {},
   "outputs": [],
   "source": [
    "from sklearn import preprocessing\n",
    "from sklearn.ensemble import RandomForestRegressor\n",
    "from sklearn.ensemble import RandomForestClassifier\n",
    "\n",
    "from sklearn.pipeline import make_pipeline\n",
    "from sklearn.model_selection import GridSearchCV\n",
    "from sklearn.metrics import mean_squared_error, r2_score"
   ]
  },
  {
   "cell_type": "code",
   "execution_count": 48,
   "metadata": {},
   "outputs": [
    {
     "name": "stdout",
     "output_type": "stream",
     "text": [
      "[[-1.77537863 -0.78125884  0.29395664 -2.20531464  0.68698052 -1.4616125\n",
      "  -1.54562117 -1.0533259   1.13624324 -0.04192137  0.09427855  0.19741412\n",
      "  -1.74753075  0.16502459 -0.98944507 -1.17620269]\n",
      " [ 1.07527649  0.80715692  1.6980232   1.45034206  0.8739693  -0.80109061\n",
      "  -1.40015094 -3.02395538  0.81260739 -0.53740868 -0.4135129  -0.41789063\n",
      "  -0.14925372 -0.84712623  1.47080562 -0.32993311]\n",
      " [ 0.97255018  1.8566459   1.64400495  0.82202606  1.43493564 -0.27962597\n",
      "   0.54551335  0.75030108  1.94533285  0.42678284  0.38248451  0.23984893\n",
      "  -0.61737822  0.16502459  0.13637046 -0.47968726]\n",
      " [ 0.30482916  1.16171401  0.01604233  0.13659043  1.24794686 -0.55774045\n",
      "   0.27275668 -1.3984644  -0.2392091   0.64104763  0.45110498  0.45202298\n",
      "   0.77956713  0.92413771 -1.96990837  2.24594539]\n",
      " [ 0.38187389  1.6013648   1.06440082  0.99338497 -0.52844655 -0.7663263\n",
      "   0.01818378  0.86163608  0.56988051 -1.14002839 -1.36047534 -1.5211957\n",
      "  -1.74753075  0.4180623   1.25912463  1.99506622]\n",
      " [-0.5426629  -1.43364388 -1.37724517 -1.80547719 -1.08941289  0.48518884\n",
      "  -0.45459446 -1.0533259  -1.2910256  -0.08209602 -0.01551419  0.02767488\n",
      "  -0.14925372  0.16502459  0.37039737  0.03717036]\n",
      " [-0.69675237 -0.54016002 -0.48796821 -0.03476847  0.12601418 -0.59250476\n",
      "  -0.87282137  0.60556558  0.00351778  0.74818002  0.69813866  0.74906665\n",
      "  -0.61737822 -1.10016394 -0.34821882  1.61090491]\n",
      " [ 0.35619232 -0.7245297  -1.03484427  0.13659043  1.06095808 -0.21009735\n",
      "  -0.38185935  0.21589308 -0.56284495  0.25269271  0.30013995  0.30350114\n",
      "  -0.14925372  0.16502459  0.25403405 -0.47968726]\n",
      " [ 0.17642127  1.23262543  2.02100221  0.82202606  1.52843003 -0.3839189\n",
      "  -0.09091889  0.16022559 -0.0369367   1.63202225  1.57648064  1.51289324\n",
      "   1.24257178  0.16502459 -0.98944507 -0.47968726]\n",
      " [ 2.1025396   0.69369865 -0.13278535 -0.14900775 -1.27640167  1.73670399\n",
      "   1.70927517 -0.19604641 -0.84602631  0.22590961  0.28641586  0.21863152\n",
      "   0.20995085 -1.85927705  0.59938967  0.03717036]\n",
      " [-0.33721028 -1.12163364 -0.1700588   1.62170097 -0.34145777 -0.73156199\n",
      "   1.32741583 -0.9753914   0.08442674 -0.55080023 -0.64682249 -0.54519506\n",
      "   2.00076114 -0.34105082 -0.59960919 -1.01804403]\n",
      " [-0.38857344 -1.88747695 -1.09175174 -0.66308447 -0.62194094  0.86759625\n",
      "   1.87292918  0.14909209 -1.00784424 -1.15341994 -1.07226938 -1.03319538\n",
      "   1.02076627  2.44236394  0.48550259 -1.33642904]\n",
      " [-1.54424443  0.21150101 -0.43172464 -0.83444338 -0.52844655 -0.90538354\n",
      "  -1.01829159 -0.15151241 -0.64375391  0.26608426  0.16289902  0.1125445\n",
      "   1.24257178 -0.59408853 -0.72778594  0.60458147]\n",
      " [-1.44151812  0.15477188 -0.56305494 -0.14900775  0.40649735 -1.1139694\n",
      "  -1.32741583  0.32722808  0.1653357   1.71237155  1.61765292  1.61898027\n",
      "  -0.61737822 -1.10016394 -0.98944507  1.67561014]\n",
      " [ 0.35619232  0.66533408  1.49969058  0.76490643  0.59348613 -0.90538354\n",
      "  -0.05455134 -0.9531244   0.36760811 -0.72489037 -0.46840927 -0.43910804\n",
      "   1.24257178  1.68325082 -0.22488107 -1.09686989]\n",
      " [-1.08197603  0.75042779 -0.41299037 -1.00580228 -0.52844655  0.17231006\n",
      "   0.65461602  0.11569159  2.02624182  0.97583635  0.94517234  0.85515368\n",
      "  -0.14925372 -0.84712623 -0.98944507 -0.18187125]\n",
      " [ 1.409137    0.76461007  1.37309652 -0.03476847  1.52843003  0.83283194\n",
      "  -1.30923205  0.42742958  0.52942603  2.18107576  2.30385758  2.36158945\n",
      "   0.5127743  -1.85927705 -0.85770684  0.18124036]\n",
      " [ 0.53596336 -1.27763876 -0.77010889 -0.5488452  -1.83736801  0.51995315\n",
      "   1.4365185   1.10657307 -1.0887532  -0.61775798 -0.74289114 -0.65128209\n",
      "   0.5127743   0.4180623  -0.22488107 -0.18187125]\n",
      " [-0.97924972 -0.4692486  -0.39426287  0.19371007 -0.0609746   0.17231006\n",
      "  -0.43641068  0.72803408  0.12488122 -0.52401713 -0.37234062 -0.39667323\n",
      "  -0.61737822  0.16502459  1.88311747  0.18124036]\n",
      " [ 1.20368438 -0.83798797 -0.77010889  0.19371007 -0.62194094  2.36246156\n",
      "   0.47277824  1.64098107  1.50033357 -0.84541431 -0.81151161 -0.75736912\n",
      "   0.77956713  0.4180623  -0.47310817 -0.55521738]\n",
      " [-0.90220499 -0.48343088 -0.33812096  0.76490643  0.59348613 -0.87061923\n",
      "   0.83645381  0.24929358 -0.60329943 -2.09082837 -2.10157638 -2.09406565\n",
      "  -0.61737822  0.92413771  2.08411694  0.25270664]\n",
      " [ 0.02233181  0.12640731 -0.9969411   1.16474388 -1.46339045  0.51995315\n",
      "   0.5091458   0.50536408 -1.33148008 -0.91237205 -1.01737301 -1.05441279\n",
      "  -0.61737822  0.6711      0.82365897 -0.32993311]\n",
      " [ 0.79277914 -0.4692486  -0.63825106 -1.63411828 -1.18290728  1.91052554\n",
      "  -0.76371869  0.96183758 -1.61466145  0.15895186  0.2040713   0.26106633\n",
      "  -1.74753075 -0.34105082  0.01736201 -1.17620269]]\n"
     ]
    }
   ],
   "source": [
    "x_train_scaled = preprocessing.scale(x_train)\n",
    "print (x_train_scaled)"
   ]
  },
  {
   "cell_type": "code",
   "execution_count": 49,
   "metadata": {},
   "outputs": [
    {
     "name": "stdout",
     "output_type": "stream",
     "text": [
      "[-1.28882412e-15  1.67257512e-15 -4.28159923e-15 -1.28399706e-15\n",
      "  1.54465812e-16  1.15849359e-16 -2.41352831e-17 -8.88178420e-16\n",
      " -1.93082265e-16 -6.57686466e-16 -7.21644966e-16  4.36848625e-16\n",
      " -3.86164530e-17  9.17140759e-17 -6.46825588e-16 -1.22607238e-15]\n",
      "[1. 1. 1. 1. 1. 1. 1. 1. 1. 1. 1. 1. 1. 1. 1. 1.]\n"
     ]
    }
   ],
   "source": [
    "print (x_train_scaled.mean(axis=0))\n",
    "print (x_train_scaled.std(axis=0))"
   ]
  },
  {
   "cell_type": "code",
   "execution_count": 50,
   "metadata": {},
   "outputs": [
    {
     "data": {
      "text/html": [
       "<div>\n",
       "<style scoped>\n",
       "    .dataframe tbody tr th:only-of-type {\n",
       "        vertical-align: middle;\n",
       "    }\n",
       "\n",
       "    .dataframe tbody tr th {\n",
       "        vertical-align: top;\n",
       "    }\n",
       "\n",
       "    .dataframe thead th {\n",
       "        text-align: right;\n",
       "    }\n",
       "</style>\n",
       "<table border=\"1\" class=\"dataframe\">\n",
       "  <thead>\n",
       "    <tr style=\"text-align: right;\">\n",
       "      <th></th>\n",
       "      <th>R</th>\n",
       "      <th>AB</th>\n",
       "      <th>H</th>\n",
       "      <th>2B</th>\n",
       "      <th>3B</th>\n",
       "      <th>HR</th>\n",
       "      <th>BB</th>\n",
       "      <th>SO</th>\n",
       "      <th>SB</th>\n",
       "      <th>RA</th>\n",
       "      <th>ER</th>\n",
       "      <th>ERA</th>\n",
       "      <th>CG</th>\n",
       "      <th>SHO</th>\n",
       "      <th>SV</th>\n",
       "      <th>E</th>\n",
       "    </tr>\n",
       "  </thead>\n",
       "  <tbody>\n",
       "    <tr>\n",
       "      <th>22</th>\n",
       "      <td>613</td>\n",
       "      <td>5463</td>\n",
       "      <td>37.682887</td>\n",
       "      <td>236</td>\n",
       "      <td>40</td>\n",
       "      <td>120</td>\n",
       "      <td>375</td>\n",
       "      <td>1150</td>\n",
       "      <td>112</td>\n",
       "      <td>678</td>\n",
       "      <td>638</td>\n",
       "      <td>4.02</td>\n",
       "      <td>0.000000</td>\n",
       "      <td>12</td>\n",
       "      <td>5.916080</td>\n",
       "      <td>8.774964</td>\n",
       "    </tr>\n",
       "    <tr>\n",
       "      <th>0</th>\n",
       "      <td>724</td>\n",
       "      <td>5575</td>\n",
       "      <td>38.691084</td>\n",
       "      <td>300</td>\n",
       "      <td>42</td>\n",
       "      <td>139</td>\n",
       "      <td>383</td>\n",
       "      <td>973</td>\n",
       "      <td>104</td>\n",
       "      <td>641</td>\n",
       "      <td>601</td>\n",
       "      <td>3.73</td>\n",
       "      <td>1.414214</td>\n",
       "      <td>8</td>\n",
       "      <td>7.483315</td>\n",
       "      <td>9.380832</td>\n",
       "    </tr>\n",
       "    <tr>\n",
       "      <th>27</th>\n",
       "      <td>720</td>\n",
       "      <td>5649</td>\n",
       "      <td>38.652296</td>\n",
       "      <td>289</td>\n",
       "      <td>48</td>\n",
       "      <td>154</td>\n",
       "      <td>490</td>\n",
       "      <td>1312</td>\n",
       "      <td>132</td>\n",
       "      <td>713</td>\n",
       "      <td>659</td>\n",
       "      <td>4.04</td>\n",
       "      <td>1.000000</td>\n",
       "      <td>12</td>\n",
       "      <td>6.633250</td>\n",
       "      <td>9.273618</td>\n",
       "    </tr>\n",
       "    <tr>\n",
       "      <th>14</th>\n",
       "      <td>694</td>\n",
       "      <td>5600</td>\n",
       "      <td>37.483330</td>\n",
       "      <td>277</td>\n",
       "      <td>46</td>\n",
       "      <td>146</td>\n",
       "      <td>475</td>\n",
       "      <td>1119</td>\n",
       "      <td>78</td>\n",
       "      <td>729</td>\n",
       "      <td>664</td>\n",
       "      <td>4.14</td>\n",
       "      <td>2.236068</td>\n",
       "      <td>15</td>\n",
       "      <td>5.291503</td>\n",
       "      <td>11.224972</td>\n",
       "    </tr>\n",
       "    <tr>\n",
       "      <th>16</th>\n",
       "      <td>697</td>\n",
       "      <td>5631</td>\n",
       "      <td>38.236109</td>\n",
       "      <td>292</td>\n",
       "      <td>27</td>\n",
       "      <td>140</td>\n",
       "      <td>461</td>\n",
       "      <td>1322</td>\n",
       "      <td>98</td>\n",
       "      <td>596</td>\n",
       "      <td>532</td>\n",
       "      <td>3.21</td>\n",
       "      <td>0.000000</td>\n",
       "      <td>13</td>\n",
       "      <td>7.348469</td>\n",
       "      <td>11.045361</td>\n",
       "    </tr>\n",
       "  </tbody>\n",
       "</table>\n",
       "</div>"
      ],
      "text/plain": [
       "      R    AB          H   2B  3B   HR   BB    SO   SB   RA   ER   ERA  \\\n",
       "22  613  5463  37.682887  236  40  120  375  1150  112  678  638  4.02   \n",
       "0   724  5575  38.691084  300  42  139  383   973  104  641  601  3.73   \n",
       "27  720  5649  38.652296  289  48  154  490  1312  132  713  659  4.04   \n",
       "14  694  5600  37.483330  277  46  146  475  1119   78  729  664  4.14   \n",
       "16  697  5631  38.236109  292  27  140  461  1322   98  596  532  3.21   \n",
       "\n",
       "          CG  SHO        SV          E  \n",
       "22  0.000000   12  5.916080   8.774964  \n",
       "0   1.414214    8  7.483315   9.380832  \n",
       "27  1.000000   12  6.633250   9.273618  \n",
       "14  2.236068   15  5.291503  11.224972  \n",
       "16  0.000000   13  7.348469  11.045361  "
      ]
     },
     "execution_count": 50,
     "metadata": {},
     "output_type": "execute_result"
    }
   ],
   "source": [
    "scaler = preprocessing.StandardScaler().fit(x_train)\n",
    "x_train.head()"
   ]
  },
  {
   "cell_type": "code",
   "execution_count": 51,
   "metadata": {},
   "outputs": [
    {
     "name": "stdout",
     "output_type": "stream",
     "text": [
      "Coefficient: [[ 8.59965448e-02 -8.86715311e-02  4.98732313e+00  1.25134954e-02\n",
      "   1.10643020e-01  3.28603478e-02 -3.24976990e-02 -1.11778813e-02\n",
      "  -9.61329465e-02  3.03504701e-02  9.02067208e-01 -1.62175702e+02\n",
      "   1.67234300e-01 -2.16827311e-01  1.33509144e+00 -5.57323165e-01]]\n",
      "Intercept: [394.68591185]\n"
     ]
    }
   ],
   "source": [
    "print('Coefficient:', lr.coef_)\n",
    "print('Intercept:', lr.intercept_)"
   ]
  },
  {
   "cell_type": "code",
   "execution_count": 52,
   "metadata": {},
   "outputs": [],
   "source": [
    "pipeline = make_pipeline(preprocessing.StandardScaler(), RandomForestRegressor(n_estimators=100))"
   ]
  },
  {
   "cell_type": "code",
   "execution_count": 53,
   "metadata": {},
   "outputs": [],
   "source": [
    "hyperparameters = { 'randomforestregressor__max_features' : ['auto', 'sqrt', 'log2'],'randomforestregressor__max_depth': [None, 5, 3, 1]}"
   ]
  },
  {
   "cell_type": "code",
   "execution_count": 54,
   "metadata": {},
   "outputs": [],
   "source": [
    "clf = GridSearchCV(pipeline, hyperparameters, cv=10)"
   ]
  },
  {
   "cell_type": "code",
   "execution_count": 55,
   "metadata": {},
   "outputs": [
    {
     "data": {
      "text/plain": [
       "GridSearchCV(cv=10, error_score=nan,\n",
       "             estimator=Pipeline(memory=None,\n",
       "                                steps=[('standardscaler',\n",
       "                                        StandardScaler(copy=True,\n",
       "                                                       with_mean=True,\n",
       "                                                       with_std=True)),\n",
       "                                       ('randomforestregressor',\n",
       "                                        RandomForestRegressor(bootstrap=True,\n",
       "                                                              ccp_alpha=0.0,\n",
       "                                                              criterion='mse',\n",
       "                                                              max_depth=None,\n",
       "                                                              max_features='auto',\n",
       "                                                              max_leaf_nodes=None,\n",
       "                                                              max_samples=None,\n",
       "                                                              min_impurity_decrease=0.0,\n",
       "                                                              min_impurity_...\n",
       "                                                              min_weight_fraction_leaf=0.0,\n",
       "                                                              n_estimators=100,\n",
       "                                                              n_jobs=None,\n",
       "                                                              oob_score=False,\n",
       "                                                              random_state=None,\n",
       "                                                              verbose=0,\n",
       "                                                              warm_start=False))],\n",
       "                                verbose=False),\n",
       "             iid='deprecated', n_jobs=None,\n",
       "             param_grid={'randomforestregressor__max_depth': [None, 5, 3, 1],\n",
       "                         'randomforestregressor__max_features': ['auto', 'sqrt',\n",
       "                                                                 'log2']},\n",
       "             pre_dispatch='2*n_jobs', refit=True, return_train_score=False,\n",
       "             scoring=None, verbose=0)"
      ]
     },
     "execution_count": 55,
     "metadata": {},
     "output_type": "execute_result"
    }
   ],
   "source": [
    "clf.fit(x_train,y_train)"
   ]
  },
  {
   "cell_type": "code",
   "execution_count": 56,
   "metadata": {},
   "outputs": [],
   "source": [
    "y_pred = clf.predict(x_test)"
   ]
  },
  {
   "cell_type": "code",
   "execution_count": 57,
   "metadata": {},
   "outputs": [
    {
     "name": "stdout",
     "output_type": "stream",
     "text": [
      "0.5000022491349483\n"
     ]
    }
   ],
   "source": [
    "print (r2_score(y_test, y_pred))"
   ]
  },
  {
   "cell_type": "code",
   "execution_count": 58,
   "metadata": {},
   "outputs": [
    {
     "name": "stdout",
     "output_type": "stream",
     "text": [
      "The cross val score of the linear regression is -0.021906990312940945\n"
     ]
    }
   ],
   "source": [
    "from sklearn.model_selection import cross_val_score\n",
    "lrcrossval=cross_val_score(lr,x,y,cv=5, scoring='r2').mean()\n",
    "print(\"The cross val score of the linear regression is\", lrcrossval)"
   ]
  },
  {
   "cell_type": "code",
   "execution_count": 60,
   "metadata": {},
   "outputs": [
    {
     "data": {
      "text/plain": [
       "{'n_neighbors': 10}"
      ]
     },
     "execution_count": 60,
     "metadata": {},
     "output_type": "execute_result"
    }
   ],
   "source": [
    "\n",
    "#using GridSearchCV to select best parameter for the models\n",
    "from sklearn.model_selection import GridSearchCV\n",
    "from sklearn.neighbors import KNeighborsRegressor\n",
    "kn=KNeighborsRegressor()\n",
    "parameters={'n_neighbors':(1,10)}\n",
    "gdk=GridSearchCV(kn,parameters)\n",
    "gdk.fit(x_train,y_train)\n",
    "gdk.best_params_"
   ]
  },
  {
   "cell_type": "code",
   "execution_count": 61,
   "metadata": {},
   "outputs": [],
   "source": [
    "#as i have already imported metrics but still it was showing error in mean_absolute_error, so imported separately\n",
    "from sklearn.metrics import mean_absolute_error"
   ]
  },
  {
   "cell_type": "code",
   "execution_count": 62,
   "metadata": {},
   "outputs": [
    {
     "name": "stdout",
     "output_type": "stream",
     "text": [
      "MSE2: 48.16644999999999\n",
      "MAE2: 5.688333333333333\n",
      "rmse2: 6.940205328374658\n",
      "R2 score 0.5000022491349483\n"
     ]
    }
   ],
   "source": [
    "print('MSE2:', mean_squared_error(y_test, y_pred))\n",
    "print('MAE2:', mean_absolute_error(y_test, y_pred))\n",
    "print('rmse2:', np.sqrt(mean_squared_error(y_test, y_pred)))\n",
    "print ('R2 score', r2_score(y_test, y_pred))"
   ]
  },
  {
   "cell_type": "code",
   "execution_count": 63,
   "metadata": {},
   "outputs": [
    {
     "name": "stdout",
     "output_type": "stream",
     "text": [
      "MSE using LR:  52.279318654453505\n",
      "MAE using LR:  5.8083644892032\n",
      "RMSE using LR:  7.230443876723856\n",
      "R2 Score using LR:  0.4573081108534238\n"
     ]
    }
   ],
   "source": [
    "print('MSE using LR: ', MSE_LR)\n",
    "print('MAE using LR: ', MAE_LR)\n",
    "print('RMSE using LR: ', RMSE_LR)\n",
    "print('R2 Score using LR: ', R2_LR)"
   ]
  },
  {
   "cell_type": "code",
   "execution_count": 64,
   "metadata": {},
   "outputs": [
    {
     "name": "stdout",
     "output_type": "stream",
     "text": [
      "The cross val score of the linear regression is -0.021906990312940945\n"
     ]
    }
   ],
   "source": [
    "#Lets check the cross val score for the same\n",
    "from sklearn.model_selection import cross_val_score\n",
    "lrcrossval=cross_val_score(lr,x,y,cv=5, scoring='r2').mean()\n",
    "print(\"The cross val score of the linear regression is\", lrcrossval)"
   ]
  },
  {
   "cell_type": "code",
   "execution_count": 68,
   "metadata": {},
   "outputs": [
    {
     "data": {
      "text/plain": [
       "{'C': 1, 'kernel': 'linear'}"
      ]
     },
     "execution_count": 68,
     "metadata": {},
     "output_type": "execute_result"
    }
   ],
   "source": [
    "from sklearn.svm import SVR\n",
    "sv=SVR()\n",
    "parameters={'kernel':('linear','rbf','poly'), 'C':[1,10]}\n",
    "gdsr=GridSearchCV(sv,parameters)\n",
    "gdsr.fit(x_train,y_train)\n",
    "gdsr.best_params_"
   ]
  },
  {
   "cell_type": "code",
   "execution_count": 70,
   "metadata": {},
   "outputs": [
    {
     "data": {
      "text/plain": [
       "{'n_neighbors': 10}"
      ]
     },
     "execution_count": 70,
     "metadata": {},
     "output_type": "execute_result"
    }
   ],
   "source": [
    "from sklearn.neighbors import KNeighborsRegressor\n",
    "kn=KNeighborsRegressor()\n",
    "parameters={'n_neighbors':(1,10)}\n",
    "gdk=GridSearchCV(kn,parameters)\n",
    "gdk.fit(x_train,y_train)\n",
    "gdk.best_params_"
   ]
  },
  {
   "cell_type": "code",
   "execution_count": 72,
   "metadata": {},
   "outputs": [
    {
     "data": {
      "text/plain": [
       "{'criterion': 'mse'}"
      ]
     },
     "execution_count": 72,
     "metadata": {},
     "output_type": "execute_result"
    }
   ],
   "source": [
    "from sklearn.tree import DecisionTreeRegressor\n",
    "dt=DecisionTreeRegressor()\n",
    "parameters={'criterion':('mse','friedman_mse','mae')}\n",
    "gdd=GridSearchCV(dt,parameters)\n",
    "gdd.fit(x_train,y_train)\n",
    "gdd.best_params_"
   ]
  },
  {
   "cell_type": "code",
   "execution_count": 73,
   "metadata": {},
   "outputs": [
    {
     "name": "stdout",
     "output_type": "stream",
     "text": [
      "LinearRegression(copy_X=True, fit_intercept=True, n_jobs=None, normalize=False)\n",
      "\n",
      "The r2 score is  0.4573081108534238\n",
      "\n",
      "The cross validation score is -0.021906990312940945\n",
      "\n",
      "The mean absolute error is  5.8083644892032\n",
      "\n",
      "The root mean square error is 2.4100548726539817\n",
      "\n",
      "\n",
      "KNeighborsRegressor(algorithm='auto', leaf_size=30, metric='minkowski',\n",
      "                    metric_params=None, n_jobs=None, n_neighbors=10, p=2,\n",
      "                    weights='uniform')\n",
      "\n",
      "The r2 score is  0.46956747404844323\n",
      "\n",
      "The cross validation score is -0.36699316702148777\n",
      "\n",
      "The mean absolute error is  5.983333333333332\n",
      "\n",
      "The root mean square error is 2.446085307860977\n",
      "\n",
      "\n",
      "DecisionTreeRegressor(ccp_alpha=0.0, criterion='mse', max_depth=None,\n",
      "                      max_features=None, max_leaf_nodes=None,\n",
      "                      min_impurity_decrease=0.0, min_impurity_split=None,\n",
      "                      min_samples_leaf=1, min_samples_split=2,\n",
      "                      min_weight_fraction_leaf=0.0, presort='deprecated',\n",
      "                      random_state=None, splitter='best')\n",
      "\n",
      "The r2 score is  -0.11937716262975773\n",
      "\n",
      "The cross validation score is -2.678140288820047\n",
      "\n",
      "The mean absolute error is  8.833333333333334\n",
      "\n",
      "The root mean square error is 2.972092416687835\n",
      "\n",
      "\n",
      "SVR(C=10, cache_size=200, coef0=0.0, degree=3, epsilon=0.1, gamma='scale',\n",
      "    kernel='linear', max_iter=-1, shrinking=True, tol=0.001, verbose=False)\n",
      "\n",
      "The r2 score is  -33.20061149313738\n",
      "\n",
      "The cross validation score is -37.762395247549634\n",
      "\n",
      "The mean absolute error is  50.138849114378296\n",
      "\n",
      "The root mean square error is 7.080879120164268\n",
      "\n",
      "\n"
     ]
    }
   ],
   "source": [
    "score=[]\n",
    "cv=[]\n",
    "Mean=[]\n",
    "Root=[]\n",
    "\n",
    "models=[lr,KNeighborsRegressor(n_neighbors=10),DecisionTreeRegressor(criterion='mse'),SVR(C=10,kernel='linear')]\n",
    "\n",
    "for i in models:\n",
    "    i.fit(x_train,y_train)\n",
    "    pred=i.predict(x_test)\n",
    "    r2score=r2_score(y_test,pred)\n",
    "    score.append(r2score)\n",
    "    print(i)\n",
    "    print(\"\")\n",
    "    print(\"The r2 score is \", r2score)\n",
    "    cross=cross_val_score(i,x,y,cv=5,scoring='r2').mean()\n",
    "    cv.append(cross)\n",
    "    print(\"\")\n",
    "    print(\"The cross validation score is\", cross)\n",
    "    print()\n",
    "    Meanerror=mean_absolute_error(y_test,pred)\n",
    "    Mean.append(Meanerror)\n",
    "    print(\"The mean absolute error is \", Meanerror)\n",
    "    rmse=np.sqrt(Meanerror)\n",
    "    Root.append(rmse)\n",
    "    print()\n",
    "    print(\"The root mean square error is\", rmse)\n",
    "    print('\\n')"
   ]
  },
  {
   "cell_type": "code",
   "execution_count": 74,
   "metadata": {},
   "outputs": [
    {
     "data": {
      "text/html": [
       "<div>\n",
       "<style scoped>\n",
       "    .dataframe tbody tr th:only-of-type {\n",
       "        vertical-align: middle;\n",
       "    }\n",
       "\n",
       "    .dataframe tbody tr th {\n",
       "        vertical-align: top;\n",
       "    }\n",
       "\n",
       "    .dataframe thead th {\n",
       "        text-align: right;\n",
       "    }\n",
       "</style>\n",
       "<table border=\"1\" class=\"dataframe\">\n",
       "  <thead>\n",
       "    <tr style=\"text-align: right;\">\n",
       "      <th></th>\n",
       "      <th>Model</th>\n",
       "      <th>R2score</th>\n",
       "      <th>Cross_val_score</th>\n",
       "      <th>Mean Squared Error</th>\n",
       "      <th>Root Mean Squared Error</th>\n",
       "    </tr>\n",
       "  </thead>\n",
       "  <tbody>\n",
       "    <tr>\n",
       "      <th>0</th>\n",
       "      <td>LinearRegression</td>\n",
       "      <td>0.457308</td>\n",
       "      <td>-0.021907</td>\n",
       "      <td>5.808364</td>\n",
       "      <td>2.410055</td>\n",
       "    </tr>\n",
       "    <tr>\n",
       "      <th>1</th>\n",
       "      <td>KNeighborsRegressor</td>\n",
       "      <td>0.469567</td>\n",
       "      <td>-0.366993</td>\n",
       "      <td>5.983333</td>\n",
       "      <td>2.446085</td>\n",
       "    </tr>\n",
       "    <tr>\n",
       "      <th>2</th>\n",
       "      <td>DecisionTreeRegressor</td>\n",
       "      <td>-0.119377</td>\n",
       "      <td>-2.678140</td>\n",
       "      <td>8.833333</td>\n",
       "      <td>2.972092</td>\n",
       "    </tr>\n",
       "    <tr>\n",
       "      <th>3</th>\n",
       "      <td>SVR</td>\n",
       "      <td>-33.200611</td>\n",
       "      <td>-37.762395</td>\n",
       "      <td>50.138849</td>\n",
       "      <td>7.080879</td>\n",
       "    </tr>\n",
       "  </tbody>\n",
       "</table>\n",
       "</div>"
      ],
      "text/plain": [
       "                   Model    R2score  Cross_val_score  Mean Squared Error  \\\n",
       "0       LinearRegression   0.457308        -0.021907            5.808364   \n",
       "1    KNeighborsRegressor   0.469567        -0.366993            5.983333   \n",
       "2  DecisionTreeRegressor  -0.119377        -2.678140            8.833333   \n",
       "3                    SVR -33.200611       -37.762395           50.138849   \n",
       "\n",
       "   Root Mean Squared Error  \n",
       "0                 2.410055  \n",
       "1                 2.446085  \n",
       "2                 2.972092  \n",
       "3                 7.080879  "
      ]
     },
     "execution_count": 74,
     "metadata": {},
     "output_type": "execute_result"
    }
   ],
   "source": [
    "result=pd.DataFrame({'Model':['LinearRegression','KNeighborsRegressor', 'DecisionTreeRegressor', 'SVR'],'R2score':score,'Cross_val_score':cv,'Mean Squared Error':Mean, 'Root Mean Squared Error': Root})\n",
    "result"
   ]
  },
  {
   "cell_type": "markdown",
   "metadata": {},
   "source": [
    "#as the cross_val_score is too low, so lets try lasso and rigde"
   ]
  },
  {
   "cell_type": "markdown",
   "metadata": {},
   "source": [
    "##LASSO REGRESSION"
   ]
  },
  {
   "cell_type": "code",
   "execution_count": 79,
   "metadata": {},
   "outputs": [
    {
     "data": {
      "text/plain": [
       "{'alpha': 0.1}"
      ]
     },
     "execution_count": 79,
     "metadata": {},
     "output_type": "execute_result"
    }
   ],
   "source": [
    "from sklearn.linear_model import Lasso\n",
    "ls=Lasso()\n",
    "parameters={'alpha':(0.001,0.01,0.1)}\n",
    "gdls=GridSearchCV(ls,parameters)\n",
    "gdls.fit(x_train,y_train)\n",
    "gdls.best_params_"
   ]
  },
  {
   "cell_type": "code",
   "execution_count": 85,
   "metadata": {},
   "outputs": [],
   "source": [
    "def max_r2_score(reg,x,y):\n",
    "    max_r2score=0\n",
    "    for r_state in range(42,101):\n",
    "        train_x,test_x,train_y,test_y=train_test_split(x,y,random_state=r_state,test_size=0.20)\n",
    "        reg.fit(train_x,train_y)\n",
    "        pred=reg.predict(test_x)\n",
    "        r2score=r2_score(test_y,pred)\n",
    "        print(\"The r2 score\", r2score, \"is achieved at r_state\", r_state)\n",
    "        if r2score>max_r2score:\n",
    "            max_r2score=r2score\n",
    "            final_r_state=r_state\n",
    "    print(\"The maximum r2 score\", max_r2score, \"is achieved at r_state\", final_r_state)\n",
    "    return final_r_state\n",
    "        "
   ]
  },
  {
   "cell_type": "code",
   "execution_count": 89,
   "metadata": {},
   "outputs": [
    {
     "name": "stdout",
     "output_type": "stream",
     "text": [
      "The r2 score 0.7546532195751866 is achieved at r_state 42\n",
      "The r2 score -2.726845735450333 is achieved at r_state 43\n",
      "The r2 score 0.6909473889031902 is achieved at r_state 44\n",
      "The r2 score 0.4154151923679007 is achieved at r_state 45\n",
      "The r2 score 0.9438703138027047 is achieved at r_state 46\n",
      "The r2 score 0.9390302171963409 is achieved at r_state 47\n",
      "The r2 score 0.18946000752636483 is achieved at r_state 48\n",
      "The r2 score -0.15528092744843258 is achieved at r_state 49\n",
      "The r2 score 0.8241414567081427 is achieved at r_state 50\n",
      "The r2 score 0.6824136994774626 is achieved at r_state 51\n",
      "The r2 score 0.5486589249733782 is achieved at r_state 52\n",
      "The r2 score 0.5509791618509439 is achieved at r_state 53\n",
      "The r2 score 0.14860693702252903 is achieved at r_state 54\n",
      "The r2 score 0.6704263344081856 is achieved at r_state 55\n",
      "The r2 score 0.5928730473242534 is achieved at r_state 56\n",
      "The r2 score 0.620367220154231 is achieved at r_state 57\n",
      "The r2 score 0.40045110463912925 is achieved at r_state 58\n",
      "The r2 score 0.6290809748955444 is achieved at r_state 59\n",
      "The r2 score 0.45000090071444143 is achieved at r_state 60\n",
      "The r2 score 0.5776248879443593 is achieved at r_state 61\n",
      "The r2 score 0.5795379432075236 is achieved at r_state 62\n",
      "The r2 score 0.5610674687768101 is achieved at r_state 63\n",
      "The r2 score 0.724704669422172 is achieved at r_state 64\n",
      "The r2 score 0.1620269896111528 is achieved at r_state 65\n",
      "The r2 score 0.7893272067474469 is achieved at r_state 66\n",
      "The r2 score 0.9012005940969839 is achieved at r_state 67\n",
      "The r2 score 0.8942936148872723 is achieved at r_state 68\n",
      "The r2 score 0.5133554243100495 is achieved at r_state 69\n",
      "The r2 score 0.04926429282515454 is achieved at r_state 70\n",
      "The r2 score -1.9900218024543994 is achieved at r_state 71\n",
      "The r2 score 0.03255719507471522 is achieved at r_state 72\n",
      "The r2 score 0.8680840881366944 is achieved at r_state 73\n",
      "The r2 score -0.6963544955261101 is achieved at r_state 74\n",
      "The r2 score 0.7161256816560274 is achieved at r_state 75\n",
      "The r2 score 0.36478224098252954 is achieved at r_state 76\n",
      "The r2 score 0.5864725263620758 is achieved at r_state 77\n",
      "The r2 score 0.791796289975157 is achieved at r_state 78\n",
      "The r2 score 0.7140185198942046 is achieved at r_state 79\n",
      "The r2 score 0.41514929914430154 is achieved at r_state 80\n",
      "The r2 score 0.5713973261842268 is achieved at r_state 81\n",
      "The r2 score 0.6838202508984701 is achieved at r_state 82\n",
      "The r2 score 0.18076666898011295 is achieved at r_state 83\n",
      "The r2 score 0.555602927301568 is achieved at r_state 84\n",
      "The r2 score 0.7824143789191584 is achieved at r_state 85\n",
      "The r2 score 0.08262144470551969 is achieved at r_state 86\n",
      "The r2 score 0.7434441506568339 is achieved at r_state 87\n",
      "The r2 score -2.1462152148999745 is achieved at r_state 88\n",
      "The r2 score 0.7012506637517064 is achieved at r_state 89\n",
      "The r2 score 0.858435761364332 is achieved at r_state 90\n",
      "The r2 score 0.29684246579695117 is achieved at r_state 91\n",
      "The r2 score 0.5416263200626952 is achieved at r_state 92\n",
      "The r2 score 0.05113831228735477 is achieved at r_state 93\n",
      "The r2 score 0.4184903070154461 is achieved at r_state 94\n",
      "The r2 score 0.8699244397476246 is achieved at r_state 95\n",
      "The r2 score -0.3033367895080681 is achieved at r_state 96\n",
      "The r2 score 0.8553836367887866 is achieved at r_state 97\n",
      "The r2 score -0.047061097735034085 is achieved at r_state 98\n",
      "The r2 score 0.8915636782687125 is achieved at r_state 99\n",
      "The r2 score 0.13205038266601443 is achieved at r_state 100\n",
      "The maximum r2 score 0.9438703138027047 is achieved at r_state 46\n"
     ]
    },
    {
     "data": {
      "text/plain": [
       "46"
      ]
     },
     "execution_count": 89,
     "metadata": {},
     "output_type": "execute_result"
    }
   ],
   "source": [
    "ls=Lasso(alpha=0.1)\n",
    "max_r2_score(ls,x,y)"
   ]
  },
  {
   "cell_type": "code",
   "execution_count": 92,
   "metadata": {},
   "outputs": [
    {
     "name": "stdout",
     "output_type": "stream",
     "text": [
      "The cross validation score is 0.3197393513125649\n"
     ]
    }
   ],
   "source": [
    "#Lets check the cross val score\n",
    "cvscore=cross_val_score(ls,x,y,cv=5,scoring='r2').mean()\n",
    "print(\"The cross validation score is\", cvscore)\n"
   ]
  },
  {
   "cell_type": "markdown",
   "metadata": {},
   "source": [
    "##RIDGE REGRESSION"
   ]
  },
  {
   "cell_type": "code",
   "execution_count": 94,
   "metadata": {},
   "outputs": [
    {
     "data": {
      "text/plain": [
       "{'alpha': 1}"
      ]
     },
     "execution_count": 94,
     "metadata": {},
     "output_type": "execute_result"
    }
   ],
   "source": [
    "#Lets check the best parameters for ridge\n",
    "from sklearn.linear_model import Ridge\n",
    "rd=Ridge()\n",
    "parameters={'alpha':(0.001,0.01,0.1,1)}\n",
    "grd=GridSearchCV(rd,parameters)\n",
    "grd.fit(x_train,y_train)\n",
    "grd.best_params_"
   ]
  },
  {
   "cell_type": "code",
   "execution_count": 95,
   "metadata": {},
   "outputs": [
    {
     "name": "stdout",
     "output_type": "stream",
     "text": [
      "The r2 score 0.6760640580775258 is achieved at r_state 42\n",
      "The r2 score -2.8658150456833877 is achieved at r_state 43\n",
      "The r2 score 0.6464323343411519 is achieved at r_state 44\n",
      "The r2 score 0.353412703785704 is achieved at r_state 45\n",
      "The r2 score 0.934499270810337 is achieved at r_state 46\n",
      "The r2 score 0.8845886222298137 is achieved at r_state 47\n",
      "The r2 score -0.035861025180341954 is achieved at r_state 48\n",
      "The r2 score -0.3331281409749134 is achieved at r_state 49\n",
      "The r2 score 0.8091106993048595 is achieved at r_state 50\n",
      "The r2 score 0.7872476393814507 is achieved at r_state 51\n",
      "The r2 score 0.5354350482113854 is achieved at r_state 52\n",
      "The r2 score 0.5023891768891158 is achieved at r_state 53\n",
      "The r2 score 0.035277197600803833 is achieved at r_state 54\n",
      "The r2 score 0.624856200096728 is achieved at r_state 55\n",
      "The r2 score 0.5948574688445096 is achieved at r_state 56\n",
      "The r2 score 0.4602053079787496 is achieved at r_state 57\n",
      "The r2 score 0.15289019547639882 is achieved at r_state 58\n",
      "The r2 score 0.5185551459938003 is achieved at r_state 59\n",
      "The r2 score 0.21951985093255433 is achieved at r_state 60\n",
      "The r2 score 0.5818601750606625 is achieved at r_state 61\n",
      "The r2 score 0.5874255137171911 is achieved at r_state 62\n",
      "The r2 score 0.5164061328462626 is achieved at r_state 63\n",
      "The r2 score 0.7683973837586915 is achieved at r_state 64\n",
      "The r2 score 0.18898951107499518 is achieved at r_state 65\n",
      "The r2 score 0.737260794502387 is achieved at r_state 66\n",
      "The r2 score 0.8548938095151355 is achieved at r_state 67\n",
      "The r2 score 0.8242258910753402 is achieved at r_state 68\n",
      "The r2 score 0.5592697078740889 is achieved at r_state 69\n",
      "The r2 score -0.2154444039063994 is achieved at r_state 70\n",
      "The r2 score -1.532587173528932 is achieved at r_state 71\n",
      "The r2 score -0.4566352878273956 is achieved at r_state 72\n",
      "The r2 score 0.7689811097455447 is achieved at r_state 73\n",
      "The r2 score -0.8527483338703388 is achieved at r_state 74\n",
      "The r2 score 0.7452704284822687 is achieved at r_state 75\n",
      "The r2 score 0.36107663438175974 is achieved at r_state 76\n",
      "The r2 score 0.49282295149498967 is achieved at r_state 77\n",
      "The r2 score 0.7917975981207994 is achieved at r_state 78\n",
      "The r2 score 0.8310892881014047 is achieved at r_state 79\n",
      "The r2 score 0.26837878792475045 is achieved at r_state 80\n",
      "The r2 score 0.3889508310152481 is achieved at r_state 81\n",
      "The r2 score 0.6442689523325015 is achieved at r_state 82\n",
      "The r2 score 0.03878004812925573 is achieved at r_state 83\n",
      "The r2 score 0.4354480455129288 is achieved at r_state 84\n",
      "The r2 score 0.7000960694945573 is achieved at r_state 85\n",
      "The r2 score -0.4105275518748577 is achieved at r_state 86\n",
      "The r2 score 0.8519596060361327 is achieved at r_state 87\n",
      "The r2 score -2.761211166475635 is achieved at r_state 88\n",
      "The r2 score 0.5572052450960064 is achieved at r_state 89\n",
      "The r2 score 0.8112076541054469 is achieved at r_state 90\n",
      "The r2 score 0.10950690658138773 is achieved at r_state 91\n",
      "The r2 score 0.6044316837744086 is achieved at r_state 92\n",
      "The r2 score -0.28600263953074156 is achieved at r_state 93\n",
      "The r2 score 0.26860716554057296 is achieved at r_state 94\n",
      "The r2 score 0.8728531905720425 is achieved at r_state 95\n",
      "The r2 score -0.37909563443938743 is achieved at r_state 96\n",
      "The r2 score 0.7486246193369126 is achieved at r_state 97\n",
      "The r2 score -0.10543569882872594 is achieved at r_state 98\n",
      "The r2 score 0.8770322055845543 is achieved at r_state 99\n",
      "The r2 score -0.10094389115994673 is achieved at r_state 100\n",
      "The maximum r2 score 0.934499270810337 is achieved at r_state 46\n"
     ]
    },
    {
     "data": {
      "text/plain": [
       "46"
      ]
     },
     "execution_count": 95,
     "metadata": {},
     "output_type": "execute_result"
    }
   ],
   "source": [
    "#Lets check the r2 score for ridge\n",
    "rd=Ridge(alpha=1)\n",
    "max_r2_score(rd,x,y)"
   ]
  },
  {
   "cell_type": "code",
   "execution_count": 96,
   "metadata": {},
   "outputs": [
    {
     "name": "stdout",
     "output_type": "stream",
     "text": [
      "The cross validation score is 0.31195017645464695\n"
     ]
    }
   ],
   "source": [
    "cvscore=cross_val_score(rd,x,y,cv=5,scoring='r2').mean()\n",
    "print(\"The cross validation score is\", cvscore)\n",
    "\n"
   ]
  },
  {
   "cell_type": "markdown",
   "metadata": {},
   "source": [
    "##ENSEMBLE TECHNIQUES"
   ]
  },
  {
   "cell_type": "code",
   "execution_count": 97,
   "metadata": {},
   "outputs": [],
   "source": [
    "from sklearn.ensemble import RandomForestRegressor\n",
    "from sklearn.ensemble import GradientBoostingRegressor\n",
    "from sklearn.ensemble import AdaBoostRegressor\n",
    "\n"
   ]
  },
  {
   "cell_type": "code",
   "execution_count": 99,
   "metadata": {},
   "outputs": [
    {
     "data": {
      "text/plain": [
       "{'criterion': 'mse', 'n_estimators': 100}"
      ]
     },
     "execution_count": 99,
     "metadata": {},
     "output_type": "execute_result"
    }
   ],
   "source": [
    "#Selecting the best parameters using GridSearchCV\n",
    "rf=RandomForestRegressor()\n",
    "parameters={'n_estimators':(50,100,200,500), 'criterion':('mse','mae')}\n",
    "gdrf=GridSearchCV(rf,parameters)\n",
    "gdrf.fit(x_train,y_train)\n",
    "gdrf.best_params_"
   ]
  },
  {
   "cell_type": "code",
   "execution_count": 100,
   "metadata": {},
   "outputs": [
    {
     "name": "stdout",
     "output_type": "stream",
     "text": [
      "The r2 score 0.48289342560553683 is achieved at r_state 42\n",
      "The r2 score 0.3432581738655006 is achieved at r_state 43\n",
      "The r2 score 0.6105773333333332 is achieved at r_state 44\n",
      "The r2 score -0.06318375451263458 is achieved at r_state 45\n",
      "The r2 score 0.8919879396984925 is achieved at r_state 46\n",
      "The r2 score 0.7266619718309861 is achieved at r_state 47\n",
      "The r2 score 0.6963182910547396 is achieved at r_state 48\n",
      "The r2 score -1.0969812836141992 is achieved at r_state 49\n",
      "The r2 score 0.29033741258741286 is achieved at r_state 50\n",
      "The r2 score 0.512798391959799 is achieved at r_state 51\n",
      "The r2 score 0.4958364614465034 is achieved at r_state 52\n",
      "The r2 score 0.6448851491365777 is achieved at r_state 53\n",
      "The r2 score 0.754849822064057 is achieved at r_state 54\n",
      "The r2 score 0.5808549943030762 is achieved at r_state 55\n",
      "The r2 score 0.12421993741618242 is achieved at r_state 56\n",
      "The r2 score 0.6016751773049644 is achieved at r_state 57\n",
      "The r2 score 0.2275395232120455 is achieved at r_state 58\n",
      "The r2 score 0.4335987532467529 is achieved at r_state 59\n",
      "The r2 score 0.41661122827016195 is achieved at r_state 60\n",
      "The r2 score 0.5648626247122028 is achieved at r_state 61\n",
      "The r2 score 0.5491854350325795 is achieved at r_state 62\n",
      "The r2 score 0.24914057488653563 is achieved at r_state 63\n",
      "The r2 score 0.72867680608365 is achieved at r_state 64\n",
      "The r2 score 0.6802726613488033 is achieved at r_state 65\n",
      "The r2 score -0.19768058252427267 is achieved at r_state 66\n",
      "The r2 score 0.6181709543568467 is achieved at r_state 67\n",
      "The r2 score 0.378413654618474 is achieved at r_state 68\n",
      "The r2 score 0.4308329962746139 is achieved at r_state 69\n",
      "The r2 score 0.5884648387096778 is achieved at r_state 70\n",
      "The r2 score -0.3397775784753361 is achieved at r_state 71\n",
      "The r2 score -1.5020391425908666 is achieved at r_state 72\n",
      "The r2 score 0.5622951724137928 is achieved at r_state 73\n",
      "The r2 score -0.33561228668942 is achieved at r_state 74\n",
      "The r2 score 0.6497159301130524 is achieved at r_state 75\n",
      "The r2 score 0.6224238828967641 is achieved at r_state 76\n",
      "The r2 score 0.1844607142857151 is achieved at r_state 77\n",
      "The r2 score 0.6993799732977299 is achieved at r_state 78\n",
      "The r2 score 0.5811003704510787 is achieved at r_state 79\n",
      "The r2 score 0.5762871593420085 is achieved at r_state 80\n",
      "The r2 score 0.6115364750235627 is achieved at r_state 81\n",
      "The r2 score 0.6576969236612229 is achieved at r_state 82\n",
      "The r2 score 0.688072423945044 is achieved at r_state 83\n",
      "The r2 score 0.6692503340757241 is achieved at r_state 84\n",
      "The r2 score 0.5384265354162208 is achieved at r_state 85\n",
      "The r2 score 0.3582989169675088 is achieved at r_state 86\n",
      "The r2 score 0.5569897180762848 is achieved at r_state 87\n",
      "The r2 score 0.21157647058823492 is achieved at r_state 88\n",
      "The r2 score 0.11418606557377065 is achieved at r_state 89\n",
      "The r2 score 0.6942561797752808 is achieved at r_state 90\n",
      "The r2 score 0.3194364315973087 is achieved at r_state 91\n",
      "The r2 score 0.4746215384615391 is achieved at r_state 92\n",
      "The r2 score 0.7149476510067119 is achieved at r_state 93\n",
      "The r2 score 0.8322949907235622 is achieved at r_state 94\n",
      "The r2 score 0.5225554693560897 is achieved at r_state 95\n",
      "The r2 score 0.420566756032172 is achieved at r_state 96\n",
      "The r2 score 0.5806567626421488 is achieved at r_state 97\n",
      "The r2 score 0.08925154295246063 is achieved at r_state 98\n",
      "The r2 score 0.67910225782957 is achieved at r_state 99\n",
      "The r2 score 0.2491784382871537 is achieved at r_state 100\n",
      "The maximum r2 score 0.8919879396984925 is achieved at r_state 46\n"
     ]
    },
    {
     "data": {
      "text/plain": [
       "46"
      ]
     },
     "execution_count": 100,
     "metadata": {},
     "output_type": "execute_result"
    }
   ],
   "source": [
    "#Lets check the r2 score \n",
    "rf=RandomForestRegressor(criterion='mae',n_estimators=50)\n",
    "max_r2_score(rf,x,y)"
   ]
  },
  {
   "cell_type": "code",
   "execution_count": 101,
   "metadata": {},
   "outputs": [
    {
     "name": "stdout",
     "output_type": "stream",
     "text": [
      "The cross validation score is -0.6534139224735427\n"
     ]
    }
   ],
   "source": [
    "#Lets check the cross val score\n",
    "cvscore=cross_val_score(rf,x,y,cv=5,scoring='r2').mean()\n",
    "print(\"The cross validation score is\", cvscore)"
   ]
  },
  {
   "cell_type": "markdown",
   "metadata": {},
   "source": [
    "### GradientBoostingRegressor"
   ]
  },
  {
   "cell_type": "code",
   "execution_count": 103,
   "metadata": {},
   "outputs": [
    {
     "data": {
      "text/plain": [
       "{'criterion': 'mse', 'learning_rate': 0.1, 'loss': 'lad', 'n_estimators': 1000}"
      ]
     },
     "execution_count": 103,
     "metadata": {},
     "output_type": "execute_result"
    }
   ],
   "source": [
    "#selecting the best parameters \n",
    "gb=GradientBoostingRegressor()\n",
    "parameters={'loss':('ls','lad','huber','quantile'), 'learning_rate':(0.001,0.01,0.1,1), 'n_estimators':(10,50,100,500,1000), 'criterion':('friedman_mse', 'mse', 'mae')}\n",
    "gdg=GridSearchCV(gb,parameters)                                                                                                                                        \n",
    "gdg.fit(x_train,y_train)                                                                                                                                         \n",
    "gdg.best_params_                                                                                                                                         "
   ]
  },
  {
   "cell_type": "code",
   "execution_count": 104,
   "metadata": {},
   "outputs": [
    {
     "name": "stdout",
     "output_type": "stream",
     "text": [
      "The r2 score 0.3112891774290051 is achieved at r_state 42\n",
      "The r2 score 0.20736549661102044 is achieved at r_state 43\n",
      "The r2 score 0.8248255454760083 is achieved at r_state 44\n",
      "The r2 score 0.15346891025004206 is achieved at r_state 45\n",
      "The r2 score 0.8551327830562476 is achieved at r_state 46\n",
      "The r2 score 0.7121685769353359 is achieved at r_state 47\n",
      "The r2 score 0.7109731301555833 is achieved at r_state 48\n",
      "The r2 score -1.0198787810546515 is achieved at r_state 49\n",
      "The r2 score 0.32279017053557546 is achieved at r_state 50\n",
      "The r2 score 0.6140588282595036 is achieved at r_state 51\n",
      "The r2 score 0.25318599253333307 is achieved at r_state 52\n",
      "The r2 score 0.5204482433869331 is achieved at r_state 53\n",
      "The r2 score 0.6207158444979269 is achieved at r_state 54\n",
      "The r2 score 0.44419683311756986 is achieved at r_state 55\n",
      "The r2 score 0.3791997760868946 is achieved at r_state 56\n",
      "The r2 score 0.6174684391220469 is achieved at r_state 57\n",
      "The r2 score 0.35167120664313034 is achieved at r_state 58\n",
      "The r2 score 0.5336159319460694 is achieved at r_state 59\n",
      "The r2 score 0.49415572630364357 is achieved at r_state 60\n",
      "The r2 score 0.7378503940979549 is achieved at r_state 61\n",
      "The r2 score 0.4872083662386546 is achieved at r_state 62\n",
      "The r2 score 0.1580723282915898 is achieved at r_state 63\n",
      "The r2 score 0.798079534969349 is achieved at r_state 64\n",
      "The r2 score 0.6127357648291683 is achieved at r_state 65\n",
      "The r2 score -0.16820550910199472 is achieved at r_state 66\n",
      "The r2 score 0.5724292347416382 is achieved at r_state 67\n",
      "The r2 score 0.5960126642634804 is achieved at r_state 68\n",
      "The r2 score 0.6848254587598452 is achieved at r_state 69\n",
      "The r2 score 0.5665671870927809 is achieved at r_state 70\n",
      "The r2 score 0.03976370324036982 is achieved at r_state 71\n",
      "The r2 score -0.7024943835769026 is achieved at r_state 72\n",
      "The r2 score 0.4738164566145082 is achieved at r_state 73\n",
      "The r2 score -0.20996839220729302 is achieved at r_state 74\n",
      "The r2 score 0.6900619714906677 is achieved at r_state 75\n",
      "The r2 score 0.5650831819838027 is achieved at r_state 76\n",
      "The r2 score -0.062281587186764575 is achieved at r_state 77\n",
      "The r2 score 0.778347348144954 is achieved at r_state 78\n",
      "The r2 score 0.5248718844975795 is achieved at r_state 79\n",
      "The r2 score 0.526728211210076 is achieved at r_state 80\n",
      "The r2 score 0.5516855794190947 is achieved at r_state 81\n",
      "The r2 score 0.7270477428053431 is achieved at r_state 82\n",
      "The r2 score 0.7891516043322916 is achieved at r_state 83\n",
      "The r2 score 0.6617937476213976 is achieved at r_state 84\n",
      "The r2 score 0.4869345211231071 is achieved at r_state 85\n",
      "The r2 score 0.4793522735574518 is achieved at r_state 86\n",
      "The r2 score 0.6446441134203934 is achieved at r_state 87\n",
      "The r2 score 0.6026426341092544 is achieved at r_state 88\n",
      "The r2 score 0.16365691652640024 is achieved at r_state 89\n",
      "The r2 score 0.5698586585398049 is achieved at r_state 90\n",
      "The r2 score -0.09980303972615867 is achieved at r_state 91\n",
      "The r2 score 0.3915007614129239 is achieved at r_state 92\n",
      "The r2 score 0.6581569127908411 is achieved at r_state 93\n",
      "The r2 score 0.789301781978472 is achieved at r_state 94\n",
      "The r2 score 0.6646687717356443 is achieved at r_state 95\n",
      "The r2 score 0.5127291730862 is achieved at r_state 96\n",
      "The r2 score 0.7311040570604641 is achieved at r_state 97\n",
      "The r2 score 0.36649215481399056 is achieved at r_state 98\n",
      "The r2 score 0.8213133590775362 is achieved at r_state 99\n",
      "The r2 score 0.18210966891327152 is achieved at r_state 100\n",
      "The maximum r2 score 0.8551327830562476 is achieved at r_state 46\n"
     ]
    },
    {
     "data": {
      "text/plain": [
       "46"
      ]
     },
     "execution_count": 104,
     "metadata": {},
     "output_type": "execute_result"
    }
   ],
   "source": [
    "gb=GradientBoostingRegressor(criterion='mae',n_estimators=1000,learning_rate=0.01,loss='lad')\n",
    "max_r2_score(gb,x,y)"
   ]
  },
  {
   "cell_type": "code",
   "execution_count": 105,
   "metadata": {},
   "outputs": [
    {
     "name": "stdout",
     "output_type": "stream",
     "text": [
      "The cross validation score is -0.4145244197763806\n"
     ]
    }
   ],
   "source": [
    "#Lets check the cross val score\n",
    "cvscore=cross_val_score(gb,x,y,cv=5,scoring='r2').mean()\n",
    "print(\"The cross validation score is\", cvscore)"
   ]
  },
  {
   "cell_type": "markdown",
   "metadata": {},
   "source": [
    "## AdaBoostRegressor"
   ]
  },
  {
   "cell_type": "code",
   "execution_count": 107,
   "metadata": {},
   "outputs": [
    {
     "data": {
      "text/plain": [
       "{'learning_rate': 1, 'loss': 'exponential', 'n_estimators': 10}"
      ]
     },
     "execution_count": 107,
     "metadata": {},
     "output_type": "execute_result"
    }
   ],
   "source": [
    "#selecting the best parameters\n",
    "ad=AdaBoostRegressor()\n",
    "parameters={'n_estimators':(10,50,100,200,500),'learning_rate':(0.001,0.01,0.1,1),'loss':('linear','square','exponential')}\n",
    "gad=GridSearchCV(ad,parameters)\n",
    "gad.fit(x_train,y_train)\n",
    "gad.best_params_"
   ]
  },
  {
   "cell_type": "code",
   "execution_count": 108,
   "metadata": {},
   "outputs": [
    {
     "name": "stdout",
     "output_type": "stream",
     "text": [
      "The r2 score 0.4548591887735486 is achieved at r_state 42\n",
      "The r2 score -0.3420812830326223 is achieved at r_state 43\n",
      "The r2 score 0.5783136054421771 is achieved at r_state 44\n",
      "The r2 score -0.7903610108303254 is achieved at r_state 45\n",
      "The r2 score 0.7660842089234048 is achieved at r_state 46\n",
      "The r2 score 0.7903501065919327 is achieved at r_state 47\n",
      "The r2 score 0.8511765687583445 is achieved at r_state 48\n",
      "The r2 score -0.6282185968686511 is achieved at r_state 49\n",
      "The r2 score 0.04689321095571086 is achieved at r_state 50\n",
      "The r2 score 0.3132864321608039 is achieved at r_state 51\n",
      "The r2 score -0.006097274800203056 is achieved at r_state 52\n",
      "The r2 score 0.6802386185243329 is achieved at r_state 53\n",
      "The r2 score 0.2313736330058921 is achieved at r_state 54\n",
      "The r2 score 0.5379180908975818 is achieved at r_state 55\n",
      "The r2 score -0.13989070477468046 is achieved at r_state 56\n",
      "The r2 score 0.5342050827423168 is achieved at r_state 57\n",
      "The r2 score 0.05116478460895024 is achieved at r_state 58\n",
      "The r2 score 7.580567580589559e-05 is achieved at r_state 59\n",
      "The r2 score 0.2662558183718058 is achieved at r_state 60\n",
      "The r2 score 0.3737215530878506 is achieved at r_state 61\n",
      "The r2 score 0.4171272518206208 is achieved at r_state 62\n",
      "The r2 score 0.2187791225416036 is achieved at r_state 63\n",
      "The r2 score 0.6794793202452085 is achieved at r_state 64\n",
      "The r2 score 0.7143965031020868 is achieved at r_state 65\n",
      "The r2 score -0.6074408373786409 is achieved at r_state 66\n",
      "The r2 score 0.6218945942830798 is achieved at r_state 67\n",
      "The r2 score 0.5134287148594378 is achieved at r_state 68\n",
      "The r2 score 0.20806662491145156 is achieved at r_state 69\n",
      "The r2 score 0.44263692876344063 is achieved at r_state 70\n",
      "The r2 score -1.4676289237668163 is achieved at r_state 71\n",
      "The r2 score -2.724355094890809 is achieved at r_state 72\n",
      "The r2 score 0.6394154569346933 is achieved at r_state 73\n",
      "The r2 score -0.8980375426621157 is achieved at r_state 74\n",
      "The r2 score 0.6039016681987279 is achieved at r_state 75\n",
      "The r2 score 0.5513209424756034 is achieved at r_state 76\n",
      "The r2 score 0.038409184854497624 is achieved at r_state 77\n",
      "The r2 score 0.353929301363027 is achieved at r_state 78\n",
      "The r2 score 0.49233688626899885 is achieved at r_state 79\n",
      "The r2 score 0.5653588673377529 is achieved at r_state 80\n",
      "The r2 score 0.5360269399937165 is achieved at r_state 81\n",
      "The r2 score 0.3656988226357767 is achieved at r_state 82\n",
      "The r2 score 0.6743922759241086 is achieved at r_state 83\n",
      "The r2 score 0.5425798069784705 is achieved at r_state 84\n",
      "The r2 score 0.5215598193478862 is achieved at r_state 85\n",
      "The r2 score 0.834265944645006 is achieved at r_state 86\n",
      "The r2 score 0.4946333149069465 is achieved at r_state 87\n",
      "The r2 score -0.36505449551385594 is achieved at r_state 88\n",
      "The r2 score -0.15167648565573733 is achieved at r_state 89\n",
      "The r2 score 0.4252072677747858 is achieved at r_state 90\n",
      "The r2 score 0.49706952404684757 is achieved at r_state 91\n",
      "The r2 score 0.3658173076923078 is achieved at r_state 92\n",
      "The r2 score 0.782491585373896 is achieved at r_state 93\n",
      "The r2 score 0.7499342918985776 is achieved at r_state 94\n",
      "The r2 score 0.6762879783410648 is achieved at r_state 95\n",
      "The r2 score 0.20092225619023318 is achieved at r_state 96\n",
      "The r2 score 0.7285666406789078 is achieved at r_state 97\n",
      "The r2 score 0.20538087294968 is achieved at r_state 98\n",
      "The r2 score 0.6156521034305928 is achieved at r_state 99\n",
      "The r2 score -0.07747980222035622 is achieved at r_state 100\n",
      "The maximum r2 score 0.8511765687583445 is achieved at r_state 48\n"
     ]
    },
    {
     "data": {
      "text/plain": [
       "48"
      ]
     },
     "execution_count": 108,
     "metadata": {},
     "output_type": "execute_result"
    }
   ],
   "source": [
    "#Lets check the r2 score \n",
    "ad=AdaBoostRegressor(n_estimators=100,learning_rate=0.001,loss='exponential')\n",
    "max_r2_score(ad,x,y)"
   ]
  },
  {
   "cell_type": "code",
   "execution_count": 109,
   "metadata": {},
   "outputs": [
    {
     "name": "stdout",
     "output_type": "stream",
     "text": [
      "The cross validation score is -1.366282643890963\n"
     ]
    }
   ],
   "source": [
    "#Lets check the cross val score\n",
    "cvscore=cross_val_score(ad,x,y,cv=5,scoring='r2').mean()\n",
    "print(\"The cross validation score is\", cvscore)"
   ]
  },
  {
   "cell_type": "code",
   "execution_count": 114,
   "metadata": {},
   "outputs": [
    {
     "data": {
      "text/html": [
       "<div>\n",
       "<style scoped>\n",
       "    .dataframe tbody tr th:only-of-type {\n",
       "        vertical-align: middle;\n",
       "    }\n",
       "\n",
       "    .dataframe tbody tr th {\n",
       "        vertical-align: top;\n",
       "    }\n",
       "\n",
       "    .dataframe thead th {\n",
       "        text-align: right;\n",
       "    }\n",
       "</style>\n",
       "<table border=\"1\" class=\"dataframe\">\n",
       "  <thead>\n",
       "    <tr style=\"text-align: right;\">\n",
       "      <th></th>\n",
       "      <th>Boosters</th>\n",
       "      <th>R2 Score</th>\n",
       "      <th>Cross_val_score</th>\n",
       "    </tr>\n",
       "  </thead>\n",
       "  <tbody>\n",
       "    <tr>\n",
       "      <th>0</th>\n",
       "      <td>Lasso</td>\n",
       "      <td>0.947</td>\n",
       "      <td>0.479</td>\n",
       "    </tr>\n",
       "    <tr>\n",
       "      <th>1</th>\n",
       "      <td>Ridge</td>\n",
       "      <td>0.919</td>\n",
       "      <td>0.292</td>\n",
       "    </tr>\n",
       "    <tr>\n",
       "      <th>2</th>\n",
       "      <td>RandomForestRegressor</td>\n",
       "      <td>0.830</td>\n",
       "      <td>-0.443</td>\n",
       "    </tr>\n",
       "    <tr>\n",
       "      <th>3</th>\n",
       "      <td>GradientBoostRegressor</td>\n",
       "      <td>0.859</td>\n",
       "      <td>-0.499</td>\n",
       "    </tr>\n",
       "    <tr>\n",
       "      <th>4</th>\n",
       "      <td>AdaBoostRegressor</td>\n",
       "      <td>0.823</td>\n",
       "      <td>-1.320</td>\n",
       "    </tr>\n",
       "  </tbody>\n",
       "</table>\n",
       "</div>"
      ],
      "text/plain": [
       "                 Boosters  R2 Score  Cross_val_score\n",
       "0                   Lasso     0.947            0.479\n",
       "1                   Ridge     0.919            0.292\n",
       "2   RandomForestRegressor     0.830           -0.443\n",
       "3  GradientBoostRegressor     0.859           -0.499\n",
       "4       AdaBoostRegressor     0.823           -1.320"
      ]
     },
     "execution_count": 114,
     "metadata": {},
     "output_type": "execute_result"
    }
   ],
   "source": [
    "result_L=pd.DataFrame({'Boosters':['Lasso','Ridge','RandomForestRegressor','GradientBoostRegressor','AdaBoostRegressor'],'R2 Score':[0.947,0.919,0.83,0.859,0.823],'Cross_val_score':[0.479,0.292,-0.443,-0.499,-1.32]})\n",
    "result_L"
   ]
  },
  {
   "cell_type": "code",
   "execution_count": 117,
   "metadata": {},
   "outputs": [
    {
     "data": {
      "text/html": [
       "<div>\n",
       "<style scoped>\n",
       "    .dataframe tbody tr th:only-of-type {\n",
       "        vertical-align: middle;\n",
       "    }\n",
       "\n",
       "    .dataframe tbody tr th {\n",
       "        vertical-align: top;\n",
       "    }\n",
       "\n",
       "    .dataframe thead th {\n",
       "        text-align: right;\n",
       "    }\n",
       "</style>\n",
       "<table border=\"1\" class=\"dataframe\">\n",
       "  <thead>\n",
       "    <tr style=\"text-align: right;\">\n",
       "      <th></th>\n",
       "      <th>Model</th>\n",
       "      <th>R2score</th>\n",
       "      <th>Cross_val_score</th>\n",
       "      <th>Mean Squared Error</th>\n",
       "      <th>Root Mean Squared Error</th>\n",
       "    </tr>\n",
       "  </thead>\n",
       "  <tbody>\n",
       "    <tr>\n",
       "      <th>0</th>\n",
       "      <td>LinearRegression</td>\n",
       "      <td>0.457308</td>\n",
       "      <td>-0.021907</td>\n",
       "      <td>5.808364</td>\n",
       "      <td>2.410055</td>\n",
       "    </tr>\n",
       "    <tr>\n",
       "      <th>1</th>\n",
       "      <td>KNeighborsRegressor</td>\n",
       "      <td>0.469567</td>\n",
       "      <td>-0.366993</td>\n",
       "      <td>5.983333</td>\n",
       "      <td>2.446085</td>\n",
       "    </tr>\n",
       "    <tr>\n",
       "      <th>2</th>\n",
       "      <td>DecisionTreeRegressor</td>\n",
       "      <td>-0.119377</td>\n",
       "      <td>-2.678140</td>\n",
       "      <td>8.833333</td>\n",
       "      <td>2.972092</td>\n",
       "    </tr>\n",
       "    <tr>\n",
       "      <th>3</th>\n",
       "      <td>SVR</td>\n",
       "      <td>-33.200611</td>\n",
       "      <td>-37.762395</td>\n",
       "      <td>50.138849</td>\n",
       "      <td>7.080879</td>\n",
       "    </tr>\n",
       "  </tbody>\n",
       "</table>\n",
       "</div>"
      ],
      "text/plain": [
       "                   Model    R2score  Cross_val_score  Mean Squared Error  \\\n",
       "0       LinearRegression   0.457308        -0.021907            5.808364   \n",
       "1    KNeighborsRegressor   0.469567        -0.366993            5.983333   \n",
       "2  DecisionTreeRegressor  -0.119377        -2.678140            8.833333   \n",
       "3                    SVR -33.200611       -37.762395           50.138849   \n",
       "\n",
       "   Root Mean Squared Error  \n",
       "0                 2.410055  \n",
       "1                 2.446085  \n",
       "2                 2.972092  \n",
       "3                 7.080879  "
      ]
     },
     "execution_count": 117,
     "metadata": {},
     "output_type": "execute_result"
    }
   ],
   "source": [
    "result"
   ]
  },
  {
   "cell_type": "raw",
   "metadata": {},
   "source": [
    "#as from above observation it is seen that lasso regresion is giving the best r2_score, hence is the best model"
   ]
  },
  {
   "cell_type": "code",
   "execution_count": 118,
   "metadata": {},
   "outputs": [
    {
     "name": "stdout",
     "output_type": "stream",
     "text": [
      "The accuracy score is 0.7161256816560274\n",
      "The cross val score is 0.3197393513125649\n"
     ]
    }
   ],
   "source": [
    "#Finalising the model\n",
    "train_x,test_x,train_y,test_y=train_test_split(x,y,random_state=75,test_size=0.20)\n",
    "ls=Lasso(alpha=0.1)\n",
    "ls.fit(train_x,train_y)\n",
    "pred=ls.predict(test_x)\n",
    "r2score=r2_score(test_y,pred)\n",
    "cv=cross_val_score(ls,x,y,cv=5,scoring='r2').mean()\n",
    "print(\"The accuracy score is\", r2score)\n",
    "print(\"The cross val score is\", cv)\n",
    "pd.DataFrame(pred).to_csv(\"Project2_Baseballpredictions.csv\")"
   ]
  },
  {
   "cell_type": "code",
   "execution_count": 120,
   "metadata": {},
   "outputs": [
    {
     "data": {
      "text/plain": [
       "['bb_geeta.pkl']"
      ]
     },
     "execution_count": 120,
     "metadata": {},
     "output_type": "execute_result"
    }
   ],
   "source": [
    "from sklearn.externals import joblib\n",
    "joblib.dump(ls, 'bb_geeta.pkl')"
   ]
  },
  {
   "cell_type": "code",
   "execution_count": null,
   "metadata": {},
   "outputs": [],
   "source": []
  }
 ],
 "metadata": {
  "kernelspec": {
   "display_name": "Python 3",
   "language": "python",
   "name": "python3"
  },
  "language_info": {
   "codemirror_mode": {
    "name": "ipython",
    "version": 3
   },
   "file_extension": ".py",
   "mimetype": "text/x-python",
   "name": "python",
   "nbconvert_exporter": "python",
   "pygments_lexer": "ipython3",
   "version": "3.7.6"
  }
 },
 "nbformat": 4,
 "nbformat_minor": 4
}
