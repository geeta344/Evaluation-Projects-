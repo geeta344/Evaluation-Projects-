{
 "cells": [
  {
   "cell_type": "markdown",
   "metadata": {},
   "source": [
    "SUMMARY\n",
    "\n",
    "Country_wide_COVID 19_Datasets \n",
    "\n",
    "Content\n",
    "\n",
    "The dataset contains data about the numbers of tests, cases, deaths, serious/critical cases, active cases and recovered cases in each country for every day since April 18, and also contains the population of each country to calculate per-capita penetration of the virus\n",
    "\n",
    "Additionally, an auxiliary table with information about the fraction of the general population at different age groups for every country is added (taken from Wikipedia). This is specifically relevant since COVID-19 death rate is very much age dependent.\n",
    "\n"
   ]
  },
  {
   "cell_type": "code",
   "execution_count": 1,
   "metadata": {},
   "outputs": [],
   "source": [
    "import pandas as pd\n",
    "import numpy as np\n",
    "import matplotlib.pyplot as plt\n",
    "import seaborn as sns\n",
    "import warnings\n",
    "warnings.filterwarnings('ignore')"
   ]
  },
  {
   "cell_type": "code",
   "execution_count": 2,
   "metadata": {},
   "outputs": [
    {
     "data": {
      "text/html": [
       "<div>\n",
       "<style scoped>\n",
       "    .dataframe tbody tr th:only-of-type {\n",
       "        vertical-align: middle;\n",
       "    }\n",
       "\n",
       "    .dataframe tbody tr th {\n",
       "        vertical-align: top;\n",
       "    }\n",
       "\n",
       "    .dataframe thead th {\n",
       "        text-align: right;\n",
       "    }\n",
       "</style>\n",
       "<table border=\"1\" class=\"dataframe\">\n",
       "  <thead>\n",
       "    <tr style=\"text-align: right;\">\n",
       "      <th></th>\n",
       "      <th>Date</th>\n",
       "      <th>Country</th>\n",
       "      <th>Population</th>\n",
       "      <th>Total Tests</th>\n",
       "      <th>Total Cases</th>\n",
       "      <th>Total Deaths</th>\n",
       "      <th>Total Recovered</th>\n",
       "      <th>Serious or Critical</th>\n",
       "      <th>Active Cases</th>\n",
       "    </tr>\n",
       "  </thead>\n",
       "  <tbody>\n",
       "    <tr>\n",
       "      <th>0</th>\n",
       "      <td>2020-04-18</td>\n",
       "      <td>USA</td>\n",
       "      <td>330774664</td>\n",
       "      <td>3722145.0</td>\n",
       "      <td>738792.0</td>\n",
       "      <td>39014.0</td>\n",
       "      <td>68269.0</td>\n",
       "      <td>13551.0</td>\n",
       "      <td>631509.0</td>\n",
       "    </tr>\n",
       "    <tr>\n",
       "      <th>1</th>\n",
       "      <td>2020-04-18</td>\n",
       "      <td>Russia</td>\n",
       "      <td>145927292</td>\n",
       "      <td>1831892.0</td>\n",
       "      <td>36793.0</td>\n",
       "      <td>313.0</td>\n",
       "      <td>3057.0</td>\n",
       "      <td>8.0</td>\n",
       "      <td>33423.0</td>\n",
       "    </tr>\n",
       "    <tr>\n",
       "      <th>2</th>\n",
       "      <td>2020-04-18</td>\n",
       "      <td>Spain</td>\n",
       "      <td>46752703</td>\n",
       "      <td>930230.0</td>\n",
       "      <td>194416.0</td>\n",
       "      <td>20043.0</td>\n",
       "      <td>74797.0</td>\n",
       "      <td>7371.0</td>\n",
       "      <td>99576.0</td>\n",
       "    </tr>\n",
       "    <tr>\n",
       "      <th>3</th>\n",
       "      <td>2020-04-18</td>\n",
       "      <td>Brazil</td>\n",
       "      <td>212380932</td>\n",
       "      <td>62985.0</td>\n",
       "      <td>36722.0</td>\n",
       "      <td>2361.0</td>\n",
       "      <td>14026.0</td>\n",
       "      <td>6634.0</td>\n",
       "      <td>20335.0</td>\n",
       "    </tr>\n",
       "    <tr>\n",
       "      <th>4</th>\n",
       "      <td>2020-04-18</td>\n",
       "      <td>UK</td>\n",
       "      <td>67844241</td>\n",
       "      <td>460437.0</td>\n",
       "      <td>114217.0</td>\n",
       "      <td>15464.0</td>\n",
       "      <td>NaN</td>\n",
       "      <td>1559.0</td>\n",
       "      <td>98409.0</td>\n",
       "    </tr>\n",
       "  </tbody>\n",
       "</table>\n",
       "</div>"
      ],
      "text/plain": [
       "         Date Country  Population  Total Tests  Total Cases  Total Deaths  \\\n",
       "0  2020-04-18     USA   330774664    3722145.0     738792.0       39014.0   \n",
       "1  2020-04-18  Russia   145927292    1831892.0      36793.0         313.0   \n",
       "2  2020-04-18   Spain    46752703     930230.0     194416.0       20043.0   \n",
       "3  2020-04-18  Brazil   212380932      62985.0      36722.0        2361.0   \n",
       "4  2020-04-18      UK    67844241     460437.0     114217.0       15464.0   \n",
       "\n",
       "   Total Recovered  Serious or Critical  Active Cases  \n",
       "0          68269.0              13551.0      631509.0  \n",
       "1           3057.0                  8.0       33423.0  \n",
       "2          74797.0               7371.0       99576.0  \n",
       "3          14026.0               6634.0       20335.0  \n",
       "4              NaN               1559.0       98409.0  "
      ]
     },
     "execution_count": 2,
     "metadata": {},
     "output_type": "execute_result"
    }
   ],
   "source": [
    "cc=pd.read_csv('/Users/drram/Documents/worldometer_snapshots_April18_to_May18.csv')\n",
    "cc.head()"
   ]
  },
  {
   "cell_type": "code",
   "execution_count": 3,
   "metadata": {},
   "outputs": [
    {
     "data": {
      "text/html": [
       "<div>\n",
       "<style scoped>\n",
       "    .dataframe tbody tr th:only-of-type {\n",
       "        vertical-align: middle;\n",
       "    }\n",
       "\n",
       "    .dataframe tbody tr th {\n",
       "        vertical-align: top;\n",
       "    }\n",
       "\n",
       "    .dataframe thead th {\n",
       "        text-align: right;\n",
       "    }\n",
       "</style>\n",
       "<table border=\"1\" class=\"dataframe\">\n",
       "  <thead>\n",
       "    <tr style=\"text-align: right;\">\n",
       "      <th></th>\n",
       "      <th>Country</th>\n",
       "      <th>Fraction age 0-14 years</th>\n",
       "      <th>Fraction age 15-64 years</th>\n",
       "      <th>Fraction age 65+ years</th>\n",
       "    </tr>\n",
       "  </thead>\n",
       "  <tbody>\n",
       "    <tr>\n",
       "      <th>0</th>\n",
       "      <td>USA</td>\n",
       "      <td>0.189</td>\n",
       "      <td>0.657</td>\n",
       "      <td>0.154</td>\n",
       "    </tr>\n",
       "    <tr>\n",
       "      <th>1</th>\n",
       "      <td>Russia</td>\n",
       "      <td>0.176</td>\n",
       "      <td>0.682</td>\n",
       "      <td>0.142</td>\n",
       "    </tr>\n",
       "    <tr>\n",
       "      <th>2</th>\n",
       "      <td>Spain</td>\n",
       "      <td>0.147</td>\n",
       "      <td>0.659</td>\n",
       "      <td>0.194</td>\n",
       "    </tr>\n",
       "    <tr>\n",
       "      <th>3</th>\n",
       "      <td>Brazil</td>\n",
       "      <td>0.217</td>\n",
       "      <td>0.697</td>\n",
       "      <td>0.086</td>\n",
       "    </tr>\n",
       "    <tr>\n",
       "      <th>4</th>\n",
       "      <td>UK</td>\n",
       "      <td>0.177</td>\n",
       "      <td>0.638</td>\n",
       "      <td>0.185</td>\n",
       "    </tr>\n",
       "  </tbody>\n",
       "</table>\n",
       "</div>"
      ],
      "text/plain": [
       "  Country  Fraction age 0-14 years  Fraction age 15-64 years  \\\n",
       "0     USA                    0.189                     0.657   \n",
       "1  Russia                    0.176                     0.682   \n",
       "2   Spain                    0.147                     0.659   \n",
       "3  Brazil                    0.217                     0.697   \n",
       "4      UK                    0.177                     0.638   \n",
       "\n",
       "   Fraction age 65+ years  \n",
       "0                   0.154  \n",
       "1                   0.142  \n",
       "2                   0.194  \n",
       "3                   0.086  \n",
       "4                   0.185  "
      ]
     },
     "execution_count": 3,
     "metadata": {},
     "output_type": "execute_result"
    }
   ],
   "source": [
    "cc_age=pd.read_csv('/Users/drram/Documents/population_structure_by_age_per_contry.csv')\n",
    "cc_age.head()"
   ]
  },
  {
   "cell_type": "code",
   "execution_count": 4,
   "metadata": {},
   "outputs": [
    {
     "name": "stdout",
     "output_type": "stream",
     "text": [
      "(6603, 9)\n",
      "\n",
      "\n",
      "(213, 4)\n"
     ]
    }
   ],
   "source": [
    "print(cc.shape)\n",
    "print(\"\\n\")\n",
    "print(cc_age.shape)"
   ]
  },
  {
   "cell_type": "code",
   "execution_count": 5,
   "metadata": {},
   "outputs": [
    {
     "name": "stdout",
     "output_type": "stream",
     "text": [
      "<class 'pandas.core.frame.DataFrame'>\n",
      "RangeIndex: 6603 entries, 0 to 6602\n",
      "Data columns (total 9 columns):\n",
      " #   Column               Non-Null Count  Dtype  \n",
      "---  ------               --------------  -----  \n",
      " 0   Date                 6603 non-null   object \n",
      " 1   Country              6603 non-null   object \n",
      " 2   Population           6603 non-null   int64  \n",
      " 3   Total Tests          5505 non-null   float64\n",
      " 4   Total Cases          6554 non-null   float64\n",
      " 5   Total Deaths         5367 non-null   float64\n",
      " 6   Total Recovered      6318 non-null   float64\n",
      " 7   Serious or Critical  4117 non-null   float64\n",
      " 8   Active Cases         6544 non-null   float64\n",
      "dtypes: float64(6), int64(1), object(2)\n",
      "memory usage: 464.4+ KB\n",
      "None\n",
      "\n",
      "\n",
      "<class 'pandas.core.frame.DataFrame'>\n",
      "RangeIndex: 213 entries, 0 to 212\n",
      "Data columns (total 4 columns):\n",
      " #   Column                    Non-Null Count  Dtype  \n",
      "---  ------                    --------------  -----  \n",
      " 0   Country                   213 non-null    object \n",
      " 1   Fraction age 0-14 years   176 non-null    float64\n",
      " 2   Fraction age 15-64 years  176 non-null    float64\n",
      " 3   Fraction age 65+ years    176 non-null    float64\n",
      "dtypes: float64(3), object(1)\n",
      "memory usage: 6.8+ KB\n",
      "None\n"
     ]
    }
   ],
   "source": [
    "print(cc.info())\n",
    "print(\"\\n\")\n",
    "print(cc_age.info())"
   ]
  },
  {
   "cell_type": "code",
   "execution_count": 6,
   "metadata": {},
   "outputs": [
    {
     "name": "stdout",
     "output_type": "stream",
     "text": [
      "Date                    object\n",
      "Country                 object\n",
      "Population               int64\n",
      "Total Tests            float64\n",
      "Total Cases            float64\n",
      "Total Deaths           float64\n",
      "Total Recovered        float64\n",
      "Serious or Critical    float64\n",
      "Active Cases           float64\n",
      "dtype: object\n",
      "\n",
      "\n",
      "Country                      object\n",
      "Fraction age 0-14 years     float64\n",
      "Fraction age 15-64 years    float64\n",
      "Fraction age 65+ years      float64\n",
      "dtype: object\n"
     ]
    }
   ],
   "source": [
    "print(cc.dtypes)\n",
    "print(\"\\n\")\n",
    "print(cc_age.dtypes)"
   ]
  },
  {
   "cell_type": "code",
   "execution_count": 7,
   "metadata": {},
   "outputs": [
    {
     "name": "stdout",
     "output_type": "stream",
     "text": [
      "Date                      0\n",
      "Country                   0\n",
      "Population                0\n",
      "Total Tests            1098\n",
      "Total Cases              49\n",
      "Total Deaths           1236\n",
      "Total Recovered         285\n",
      "Serious or Critical    2486\n",
      "Active Cases             59\n",
      "dtype: int64\n",
      "\n",
      "\n"
     ]
    },
    {
     "data": {
      "text/plain": [
       "<matplotlib.axes._subplots.AxesSubplot at 0x1523765c90>"
      ]
     },
     "execution_count": 7,
     "metadata": {},
     "output_type": "execute_result"
    },
    {
     "data": {
      "image/png": "[encoded data removed]",
      "text/plain": [
       "<Figure size 432x288 with 2 Axes>"
      ]
     },
     "metadata": {
      "needs_background": "light"
     },
     "output_type": "display_data"
    }
   ],
   "source": [
    "print(cc.isnull().sum())\n",
    "print(\"\\n\")\n",
    "sns.heatmap(cc.isnull())"
   ]
  },
  {
   "cell_type": "code",
   "execution_count": 8,
   "metadata": {},
   "outputs": [
    {
     "name": "stdout",
     "output_type": "stream",
     "text": [
      "Country                      0\n",
      "Fraction age 0-14 years     37\n",
      "Fraction age 15-64 years    37\n",
      "Fraction age 65+ years      37\n",
      "dtype: int64\n",
      "\n",
      "\n"
     ]
    },
    {
     "data": {
      "text/plain": [
       "<matplotlib.axes._subplots.AxesSubplot at 0x1a2531ca10>"
      ]
     },
     "execution_count": 8,
     "metadata": {},
     "output_type": "execute_result"
    },
    {
     "data": {
      "image/png": "[encoded data removed]",
      "text/plain": [
       "<Figure size 432x288 with 2 Axes>"
      ]
     },
     "metadata": {
      "needs_background": "light"
     },
     "output_type": "display_data"
    }
   ],
   "source": [
    "print(cc_age.isnull().sum())\n",
    "print(\"\\n\")\n",
    "sns.heatmap(cc_age.isnull())"
   ]
  },
  {
   "cell_type": "markdown",
   "metadata": {},
   "source": [
    "#### filliing of Missing values in the dataset"
   ]
  },
  {
   "cell_type": "code",
   "execution_count": 9,
   "metadata": {},
   "outputs": [
    {
     "data": {
      "text/html": [
       "<div>\n",
       "<style scoped>\n",
       "    .dataframe tbody tr th:only-of-type {\n",
       "        vertical-align: middle;\n",
       "    }\n",
       "\n",
       "    .dataframe tbody tr th {\n",
       "        vertical-align: top;\n",
       "    }\n",
       "\n",
       "    .dataframe thead th {\n",
       "        text-align: right;\n",
       "    }\n",
       "</style>\n",
       "<table border=\"1\" class=\"dataframe\">\n",
       "  <thead>\n",
       "    <tr style=\"text-align: right;\">\n",
       "      <th></th>\n",
       "      <th>Date</th>\n",
       "      <th>Country</th>\n",
       "      <th>Population</th>\n",
       "      <th>Total Tests</th>\n",
       "      <th>Total Cases</th>\n",
       "      <th>Total Deaths</th>\n",
       "      <th>Total Recovered</th>\n",
       "      <th>Serious or Critical</th>\n",
       "      <th>Active Cases</th>\n",
       "    </tr>\n",
       "  </thead>\n",
       "  <tbody>\n",
       "    <tr>\n",
       "      <th>52</th>\n",
       "      <td>2020-04-18</td>\n",
       "      <td>Afghanistan</td>\n",
       "      <td>38817349</td>\n",
       "      <td>NaN</td>\n",
       "      <td>933.0</td>\n",
       "      <td>30.0</td>\n",
       "      <td>112.0</td>\n",
       "      <td>NaN</td>\n",
       "      <td>791.0</td>\n",
       "    </tr>\n",
       "    <tr>\n",
       "      <th>265</th>\n",
       "      <td>2020-04-19</td>\n",
       "      <td>Afghanistan</td>\n",
       "      <td>38817349</td>\n",
       "      <td>6422.0</td>\n",
       "      <td>996.0</td>\n",
       "      <td>33.0</td>\n",
       "      <td>131.0</td>\n",
       "      <td>7.0</td>\n",
       "      <td>832.0</td>\n",
       "    </tr>\n",
       "    <tr>\n",
       "      <th>478</th>\n",
       "      <td>2020-04-20</td>\n",
       "      <td>Afghanistan</td>\n",
       "      <td>38817349</td>\n",
       "      <td>6422.0</td>\n",
       "      <td>1026.0</td>\n",
       "      <td>36.0</td>\n",
       "      <td>135.0</td>\n",
       "      <td>7.0</td>\n",
       "      <td>855.0</td>\n",
       "    </tr>\n",
       "    <tr>\n",
       "      <th>691</th>\n",
       "      <td>2020-04-21</td>\n",
       "      <td>Afghanistan</td>\n",
       "      <td>38817349</td>\n",
       "      <td>6422.0</td>\n",
       "      <td>1092.0</td>\n",
       "      <td>36.0</td>\n",
       "      <td>150.0</td>\n",
       "      <td>7.0</td>\n",
       "      <td>906.0</td>\n",
       "    </tr>\n",
       "    <tr>\n",
       "      <th>904</th>\n",
       "      <td>2020-04-22</td>\n",
       "      <td>Afghanistan</td>\n",
       "      <td>38817349</td>\n",
       "      <td>6422.0</td>\n",
       "      <td>1176.0</td>\n",
       "      <td>40.0</td>\n",
       "      <td>166.0</td>\n",
       "      <td>7.0</td>\n",
       "      <td>970.0</td>\n",
       "    </tr>\n",
       "    <tr>\n",
       "      <th>...</th>\n",
       "      <td>...</td>\n",
       "      <td>...</td>\n",
       "      <td>...</td>\n",
       "      <td>...</td>\n",
       "      <td>...</td>\n",
       "      <td>...</td>\n",
       "      <td>...</td>\n",
       "      <td>...</td>\n",
       "      <td>...</td>\n",
       "    </tr>\n",
       "    <tr>\n",
       "      <th>5713</th>\n",
       "      <td>2020-05-14</td>\n",
       "      <td>Zimbabwe</td>\n",
       "      <td>14836491</td>\n",
       "      <td>36081.0</td>\n",
       "      <td>37.0</td>\n",
       "      <td>4.0</td>\n",
       "      <td>13.0</td>\n",
       "      <td>NaN</td>\n",
       "      <td>20.0</td>\n",
       "    </tr>\n",
       "    <tr>\n",
       "      <th>5926</th>\n",
       "      <td>2020-05-15</td>\n",
       "      <td>Zimbabwe</td>\n",
       "      <td>14836491</td>\n",
       "      <td>25478.0</td>\n",
       "      <td>42.0</td>\n",
       "      <td>4.0</td>\n",
       "      <td>13.0</td>\n",
       "      <td>NaN</td>\n",
       "      <td>25.0</td>\n",
       "    </tr>\n",
       "    <tr>\n",
       "      <th>6139</th>\n",
       "      <td>2020-05-16</td>\n",
       "      <td>Zimbabwe</td>\n",
       "      <td>14836491</td>\n",
       "      <td>25478.0</td>\n",
       "      <td>42.0</td>\n",
       "      <td>4.0</td>\n",
       "      <td>13.0</td>\n",
       "      <td>NaN</td>\n",
       "      <td>25.0</td>\n",
       "    </tr>\n",
       "    <tr>\n",
       "      <th>6352</th>\n",
       "      <td>2020-05-17</td>\n",
       "      <td>Zimbabwe</td>\n",
       "      <td>14836491</td>\n",
       "      <td>27059.0</td>\n",
       "      <td>44.0</td>\n",
       "      <td>4.0</td>\n",
       "      <td>17.0</td>\n",
       "      <td>NaN</td>\n",
       "      <td>23.0</td>\n",
       "    </tr>\n",
       "    <tr>\n",
       "      <th>6565</th>\n",
       "      <td>2020-05-18</td>\n",
       "      <td>Zimbabwe</td>\n",
       "      <td>14836491</td>\n",
       "      <td>28019.0</td>\n",
       "      <td>46.0</td>\n",
       "      <td>4.0</td>\n",
       "      <td>18.0</td>\n",
       "      <td>NaN</td>\n",
       "      <td>24.0</td>\n",
       "    </tr>\n",
       "  </tbody>\n",
       "</table>\n",
       "<p>6603 rows × 9 columns</p>\n",
       "</div>"
      ],
      "text/plain": [
       "            Date      Country  Population  Total Tests  Total Cases  \\\n",
       "52    2020-04-18  Afghanistan    38817349          NaN        933.0   \n",
       "265   2020-04-19  Afghanistan    38817349       6422.0        996.0   \n",
       "478   2020-04-20  Afghanistan    38817349       6422.0       1026.0   \n",
       "691   2020-04-21  Afghanistan    38817349       6422.0       1092.0   \n",
       "904   2020-04-22  Afghanistan    38817349       6422.0       1176.0   \n",
       "...          ...          ...         ...          ...          ...   \n",
       "5713  2020-05-14     Zimbabwe    14836491      36081.0         37.0   \n",
       "5926  2020-05-15     Zimbabwe    14836491      25478.0         42.0   \n",
       "6139  2020-05-16     Zimbabwe    14836491      25478.0         42.0   \n",
       "6352  2020-05-17     Zimbabwe    14836491      27059.0         44.0   \n",
       "6565  2020-05-18     Zimbabwe    14836491      28019.0         46.0   \n",
       "\n",
       "      Total Deaths  Total Recovered  Serious or Critical  Active Cases  \n",
       "52            30.0            112.0                  NaN         791.0  \n",
       "265           33.0            131.0                  7.0         832.0  \n",
       "478           36.0            135.0                  7.0         855.0  \n",
       "691           36.0            150.0                  7.0         906.0  \n",
       "904           40.0            166.0                  7.0         970.0  \n",
       "...            ...              ...                  ...           ...  \n",
       "5713           4.0             13.0                  NaN          20.0  \n",
       "5926           4.0             13.0                  NaN          25.0  \n",
       "6139           4.0             13.0                  NaN          25.0  \n",
       "6352           4.0             17.0                  NaN          23.0  \n",
       "6565           4.0             18.0                  NaN          24.0  \n",
       "\n",
       "[6603 rows x 9 columns]"
      ]
     },
     "execution_count": 9,
     "metadata": {},
     "output_type": "execute_result"
    }
   ],
   "source": [
    "cc.sort_values(by=['Country','Date'])"
   ]
  },
  {
   "cell_type": "code",
   "execution_count": 10,
   "metadata": {},
   "outputs": [],
   "source": [
    "# replacing Total Recovered null values in the columns with zero\n",
    "cc['Total Deaths']=cc['Total Deaths'].fillna(0)\n",
    "cc['Serious or Critical']=cc['Serious or Critical'].fillna(0)\n",
    "cc['Active Cases']=cc['Active Cases'].fillna(0)\n",
    "cc['Total Cases']=cc['Total Cases'].fillna(0)\n",
    "cc['Total Recovered']=cc['Total Recovered'].fillna(0)"
   ]
  },
  {
   "cell_type": "code",
   "execution_count": 11,
   "metadata": {},
   "outputs": [],
   "source": [
    "##The average global tests where no information is available\n",
    "cc['Total Tests']=cc['Total Tests'].fillna(cc['Total Cases']*10)"
   ]
  },
  {
   "cell_type": "code",
   "execution_count": 12,
   "metadata": {},
   "outputs": [
    {
     "data": {
      "text/plain": [
       "Date                   0\n",
       "Country                0\n",
       "Population             0\n",
       "Total Tests            0\n",
       "Total Cases            0\n",
       "Total Deaths           0\n",
       "Total Recovered        0\n",
       "Serious or Critical    0\n",
       "Active Cases           0\n",
       "dtype: int64"
      ]
     },
     "execution_count": 12,
     "metadata": {},
     "output_type": "execute_result"
    }
   ],
   "source": [
    "cc.isnull().sum()"
   ]
  },
  {
   "cell_type": "code",
   "execution_count": 15,
   "metadata": {},
   "outputs": [
    {
     "data": {
      "text/plain": [
       "0      2020-04-18\n",
       "1      2020-04-18\n",
       "2      2020-04-18\n",
       "3      2020-04-18\n",
       "4      2020-04-18\n",
       "          ...    \n",
       "6598   2020-05-18\n",
       "6599   2020-05-18\n",
       "6600   2020-05-18\n",
       "6601   2020-05-18\n",
       "6602   2020-05-18\n",
       "Name: Date, Length: 6603, dtype: datetime64[ns]"
      ]
     },
     "execution_count": 15,
     "metadata": {},
     "output_type": "execute_result"
    }
   ],
   "source": [
    "# changing the datatype of the date column\n",
    "pd.to_datetime(cc['Date'])"
   ]
  },
  {
   "cell_type": "code",
   "execution_count": 16,
   "metadata": {},
   "outputs": [
    {
     "data": {
      "text/html": [
       "<div>\n",
       "<style scoped>\n",
       "    .dataframe tbody tr th:only-of-type {\n",
       "        vertical-align: middle;\n",
       "    }\n",
       "\n",
       "    .dataframe tbody tr th {\n",
       "        vertical-align: top;\n",
       "    }\n",
       "\n",
       "    .dataframe thead th {\n",
       "        text-align: right;\n",
       "    }\n",
       "</style>\n",
       "<table border=\"1\" class=\"dataframe\">\n",
       "  <thead>\n",
       "    <tr style=\"text-align: right;\">\n",
       "      <th></th>\n",
       "      <th>Country</th>\n",
       "      <th>Fraction age 0-14 years</th>\n",
       "      <th>Fraction age 15-64 years</th>\n",
       "      <th>Fraction age 65+ years</th>\n",
       "    </tr>\n",
       "  </thead>\n",
       "  <tbody>\n",
       "    <tr>\n",
       "      <th>95</th>\n",
       "      <td>Mayotte</td>\n",
       "      <td>NaN</td>\n",
       "      <td>NaN</td>\n",
       "      <td>NaN</td>\n",
       "    </tr>\n",
       "    <tr>\n",
       "      <th>112</th>\n",
       "      <td>Andorra</td>\n",
       "      <td>NaN</td>\n",
       "      <td>NaN</td>\n",
       "      <td>NaN</td>\n",
       "    </tr>\n",
       "    <tr>\n",
       "      <th>117</th>\n",
       "      <td>San Marino</td>\n",
       "      <td>NaN</td>\n",
       "      <td>NaN</td>\n",
       "      <td>NaN</td>\n",
       "    </tr>\n",
       "    <tr>\n",
       "      <th>121</th>\n",
       "      <td>Channel Islands</td>\n",
       "      <td>NaN</td>\n",
       "      <td>NaN</td>\n",
       "      <td>NaN</td>\n",
       "    </tr>\n",
       "    <tr>\n",
       "      <th>127</th>\n",
       "      <td>Réunion</td>\n",
       "      <td>NaN</td>\n",
       "      <td>NaN</td>\n",
       "      <td>NaN</td>\n",
       "    </tr>\n",
       "    <tr>\n",
       "      <th>134</th>\n",
       "      <td>Isle of Man</td>\n",
       "      <td>NaN</td>\n",
       "      <td>NaN</td>\n",
       "      <td>NaN</td>\n",
       "    </tr>\n",
       "    <tr>\n",
       "      <th>137</th>\n",
       "      <td>Cabo Verde</td>\n",
       "      <td>NaN</td>\n",
       "      <td>NaN</td>\n",
       "      <td>NaN</td>\n",
       "    </tr>\n",
       "    <tr>\n",
       "      <th>145</th>\n",
       "      <td>Sao Tome and Principe</td>\n",
       "      <td>NaN</td>\n",
       "      <td>NaN</td>\n",
       "      <td>NaN</td>\n",
       "    </tr>\n",
       "    <tr>\n",
       "      <th>147</th>\n",
       "      <td>French Guiana</td>\n",
       "      <td>NaN</td>\n",
       "      <td>NaN</td>\n",
       "      <td>NaN</td>\n",
       "    </tr>\n",
       "    <tr>\n",
       "      <th>149</th>\n",
       "      <td>Martinique</td>\n",
       "      <td>NaN</td>\n",
       "      <td>NaN</td>\n",
       "      <td>NaN</td>\n",
       "    </tr>\n",
       "    <tr>\n",
       "      <th>151</th>\n",
       "      <td>Faeroe Islands</td>\n",
       "      <td>NaN</td>\n",
       "      <td>NaN</td>\n",
       "      <td>NaN</td>\n",
       "    </tr>\n",
       "    <tr>\n",
       "      <th>152</th>\n",
       "      <td>Guadeloupe</td>\n",
       "      <td>NaN</td>\n",
       "      <td>NaN</td>\n",
       "      <td>NaN</td>\n",
       "    </tr>\n",
       "    <tr>\n",
       "      <th>153</th>\n",
       "      <td>Gibraltar</td>\n",
       "      <td>NaN</td>\n",
       "      <td>NaN</td>\n",
       "      <td>NaN</td>\n",
       "    </tr>\n",
       "    <tr>\n",
       "      <th>158</th>\n",
       "      <td>Bermuda</td>\n",
       "      <td>NaN</td>\n",
       "      <td>NaN</td>\n",
       "      <td>NaN</td>\n",
       "    </tr>\n",
       "    <tr>\n",
       "      <th>162</th>\n",
       "      <td>Aruba</td>\n",
       "      <td>NaN</td>\n",
       "      <td>NaN</td>\n",
       "      <td>NaN</td>\n",
       "    </tr>\n",
       "    <tr>\n",
       "      <th>163</th>\n",
       "      <td>Monaco</td>\n",
       "      <td>NaN</td>\n",
       "      <td>NaN</td>\n",
       "      <td>NaN</td>\n",
       "    </tr>\n",
       "    <tr>\n",
       "      <th>165</th>\n",
       "      <td>Cayman Islands</td>\n",
       "      <td>NaN</td>\n",
       "      <td>NaN</td>\n",
       "      <td>NaN</td>\n",
       "    </tr>\n",
       "    <tr>\n",
       "      <th>167</th>\n",
       "      <td>Liechtenstein</td>\n",
       "      <td>NaN</td>\n",
       "      <td>NaN</td>\n",
       "      <td>NaN</td>\n",
       "    </tr>\n",
       "    <tr>\n",
       "      <th>169</th>\n",
       "      <td>Sint Maarten</td>\n",
       "      <td>NaN</td>\n",
       "      <td>NaN</td>\n",
       "      <td>NaN</td>\n",
       "    </tr>\n",
       "    <tr>\n",
       "      <th>172</th>\n",
       "      <td>French Polynesia</td>\n",
       "      <td>NaN</td>\n",
       "      <td>NaN</td>\n",
       "      <td>NaN</td>\n",
       "    </tr>\n",
       "    <tr>\n",
       "      <th>176</th>\n",
       "      <td>Macao</td>\n",
       "      <td>NaN</td>\n",
       "      <td>NaN</td>\n",
       "      <td>NaN</td>\n",
       "    </tr>\n",
       "    <tr>\n",
       "      <th>178</th>\n",
       "      <td>Saint Martin</td>\n",
       "      <td>NaN</td>\n",
       "      <td>NaN</td>\n",
       "      <td>NaN</td>\n",
       "    </tr>\n",
       "    <tr>\n",
       "      <th>190</th>\n",
       "      <td>New Caledonia</td>\n",
       "      <td>NaN</td>\n",
       "      <td>NaN</td>\n",
       "      <td>NaN</td>\n",
       "    </tr>\n",
       "    <tr>\n",
       "      <th>192</th>\n",
       "      <td>St. Vincent Grenadines</td>\n",
       "      <td>NaN</td>\n",
       "      <td>NaN</td>\n",
       "      <td>NaN</td>\n",
       "    </tr>\n",
       "    <tr>\n",
       "      <th>194</th>\n",
       "      <td>Dominica</td>\n",
       "      <td>NaN</td>\n",
       "      <td>NaN</td>\n",
       "      <td>NaN</td>\n",
       "    </tr>\n",
       "    <tr>\n",
       "      <th>196</th>\n",
       "      <td>Saint Kitts and Nevis</td>\n",
       "      <td>NaN</td>\n",
       "      <td>NaN</td>\n",
       "      <td>NaN</td>\n",
       "    </tr>\n",
       "    <tr>\n",
       "      <th>197</th>\n",
       "      <td>Falkland Islands</td>\n",
       "      <td>NaN</td>\n",
       "      <td>NaN</td>\n",
       "      <td>NaN</td>\n",
       "    </tr>\n",
       "    <tr>\n",
       "      <th>198</th>\n",
       "      <td>Turks and Caicos</td>\n",
       "      <td>NaN</td>\n",
       "      <td>NaN</td>\n",
       "      <td>NaN</td>\n",
       "    </tr>\n",
       "    <tr>\n",
       "      <th>199</th>\n",
       "      <td>Vatican City</td>\n",
       "      <td>NaN</td>\n",
       "      <td>NaN</td>\n",
       "      <td>NaN</td>\n",
       "    </tr>\n",
       "    <tr>\n",
       "      <th>201</th>\n",
       "      <td>Montserrat</td>\n",
       "      <td>NaN</td>\n",
       "      <td>NaN</td>\n",
       "      <td>NaN</td>\n",
       "    </tr>\n",
       "    <tr>\n",
       "      <th>203</th>\n",
       "      <td>Greenland</td>\n",
       "      <td>NaN</td>\n",
       "      <td>NaN</td>\n",
       "      <td>NaN</td>\n",
       "    </tr>\n",
       "    <tr>\n",
       "      <th>205</th>\n",
       "      <td>British Virgin Islands</td>\n",
       "      <td>NaN</td>\n",
       "      <td>NaN</td>\n",
       "      <td>NaN</td>\n",
       "    </tr>\n",
       "    <tr>\n",
       "      <th>207</th>\n",
       "      <td>Caribbean Netherlands</td>\n",
       "      <td>NaN</td>\n",
       "      <td>NaN</td>\n",
       "      <td>NaN</td>\n",
       "    </tr>\n",
       "    <tr>\n",
       "      <th>208</th>\n",
       "      <td>St. Barth</td>\n",
       "      <td>NaN</td>\n",
       "      <td>NaN</td>\n",
       "      <td>NaN</td>\n",
       "    </tr>\n",
       "    <tr>\n",
       "      <th>209</th>\n",
       "      <td>Western Sahara</td>\n",
       "      <td>NaN</td>\n",
       "      <td>NaN</td>\n",
       "      <td>NaN</td>\n",
       "    </tr>\n",
       "    <tr>\n",
       "      <th>210</th>\n",
       "      <td>Anguilla</td>\n",
       "      <td>NaN</td>\n",
       "      <td>NaN</td>\n",
       "      <td>NaN</td>\n",
       "    </tr>\n",
       "    <tr>\n",
       "      <th>212</th>\n",
       "      <td>Saint Pierre Miquelon</td>\n",
       "      <td>NaN</td>\n",
       "      <td>NaN</td>\n",
       "      <td>NaN</td>\n",
       "    </tr>\n",
       "  </tbody>\n",
       "</table>\n",
       "</div>"
      ],
      "text/plain": [
       "                    Country  Fraction age 0-14 years  \\\n",
       "95                  Mayotte                      NaN   \n",
       "112                 Andorra                      NaN   \n",
       "117              San Marino                      NaN   \n",
       "121         Channel Islands                      NaN   \n",
       "127                 Réunion                      NaN   \n",
       "134             Isle of Man                      NaN   \n",
       "137              Cabo Verde                      NaN   \n",
       "145   Sao Tome and Principe                      NaN   \n",
       "147           French Guiana                      NaN   \n",
       "149              Martinique                      NaN   \n",
       "151          Faeroe Islands                      NaN   \n",
       "152              Guadeloupe                      NaN   \n",
       "153               Gibraltar                      NaN   \n",
       "158                 Bermuda                      NaN   \n",
       "162                   Aruba                      NaN   \n",
       "163                  Monaco                      NaN   \n",
       "165          Cayman Islands                      NaN   \n",
       "167           Liechtenstein                      NaN   \n",
       "169            Sint Maarten                      NaN   \n",
       "172        French Polynesia                      NaN   \n",
       "176                   Macao                      NaN   \n",
       "178            Saint Martin                      NaN   \n",
       "190           New Caledonia                      NaN   \n",
       "192  St. Vincent Grenadines                      NaN   \n",
       "194                Dominica                      NaN   \n",
       "196   Saint Kitts and Nevis                      NaN   \n",
       "197        Falkland Islands                      NaN   \n",
       "198        Turks and Caicos                      NaN   \n",
       "199            Vatican City                      NaN   \n",
       "201              Montserrat                      NaN   \n",
       "203               Greenland                      NaN   \n",
       "205  British Virgin Islands                      NaN   \n",
       "207   Caribbean Netherlands                      NaN   \n",
       "208               St. Barth                      NaN   \n",
       "209          Western Sahara                      NaN   \n",
       "210                Anguilla                      NaN   \n",
       "212   Saint Pierre Miquelon                      NaN   \n",
       "\n",
       "     Fraction age 15-64 years  Fraction age 65+ years  \n",
       "95                        NaN                     NaN  \n",
       "112                       NaN                     NaN  \n",
       "117                       NaN                     NaN  \n",
       "121                       NaN                     NaN  \n",
       "127                       NaN                     NaN  \n",
       "134                       NaN                     NaN  \n",
       "137                       NaN                     NaN  \n",
       "145                       NaN                     NaN  \n",
       "147                       NaN                     NaN  \n",
       "149                       NaN                     NaN  \n",
       "151                       NaN                     NaN  \n",
       "152                       NaN                     NaN  \n",
       "153                       NaN                     NaN  \n",
       "158                       NaN                     NaN  \n",
       "162                       NaN                     NaN  \n",
       "163                       NaN                     NaN  \n",
       "165                       NaN                     NaN  \n",
       "167                       NaN                     NaN  \n",
       "169                       NaN                     NaN  \n",
       "172                       NaN                     NaN  \n",
       "176                       NaN                     NaN  \n",
       "178                       NaN                     NaN  \n",
       "190                       NaN                     NaN  \n",
       "192                       NaN                     NaN  \n",
       "194                       NaN                     NaN  \n",
       "196                       NaN                     NaN  \n",
       "197                       NaN                     NaN  \n",
       "198                       NaN                     NaN  \n",
       "199                       NaN                     NaN  \n",
       "201                       NaN                     NaN  \n",
       "203                       NaN                     NaN  \n",
       "205                       NaN                     NaN  \n",
       "207                       NaN                     NaN  \n",
       "208                       NaN                     NaN  \n",
       "209                       NaN                     NaN  \n",
       "210                       NaN                     NaN  \n",
       "212                       NaN                     NaN  "
      ]
     },
     "execution_count": 16,
     "metadata": {},
     "output_type": "execute_result"
    }
   ],
   "source": [
    "# checking the rows where there are null values\n",
    "#ccage dataframe\n",
    "cc_age[cc_age.isnull().any(axis=1)]"
   ]
  },
  {
   "cell_type": "code",
   "execution_count": 17,
   "metadata": {},
   "outputs": [
    {
     "data": {
      "text/plain": [
       "Country                      object\n",
       "Fraction age 0-14 years     float64\n",
       "Fraction age 15-64 years    float64\n",
       "Fraction age 65+ years      float64\n",
       "dtype: object"
      ]
     },
     "execution_count": 17,
     "metadata": {},
     "output_type": "execute_result"
    }
   ],
   "source": [
    "cc_age.dtypes"
   ]
  },
  {
   "cell_type": "code",
   "execution_count": 18,
   "metadata": {},
   "outputs": [],
   "source": [
    "cc_age['Fraction age 0-14 years']=cc_age['Fraction age 0-14 years'].fillna(cc_age['Fraction age 0-14 years'].mean())\n",
    "cc_age['Fraction age 15-64 years']=cc_age['Fraction age 15-64 years'].fillna(cc_age['Fraction age 15-64 years'].mean())\n",
    "cc_age['Fraction age 65+ years']=cc_age['Fraction age 65+ years'].fillna(cc_age['Fraction age 65+ years'].mean())"
   ]
  },
  {
   "cell_type": "code",
   "execution_count": 19,
   "metadata": {},
   "outputs": [
    {
     "data": {
      "text/plain": [
       "Country                     0\n",
       "Fraction age 0-14 years     0\n",
       "Fraction age 15-64 years    0\n",
       "Fraction age 65+ years      0\n",
       "dtype: int64"
      ]
     },
     "execution_count": 19,
     "metadata": {},
     "output_type": "execute_result"
    }
   ],
   "source": [
    "cc_age.isnull().sum()"
   ]
  },
  {
   "cell_type": "code",
   "execution_count": 20,
   "metadata": {},
   "outputs": [
    {
     "data": {
      "text/html": [
       "<div>\n",
       "<style scoped>\n",
       "    .dataframe tbody tr th:only-of-type {\n",
       "        vertical-align: middle;\n",
       "    }\n",
       "\n",
       "    .dataframe tbody tr th {\n",
       "        vertical-align: top;\n",
       "    }\n",
       "\n",
       "    .dataframe thead th {\n",
       "        text-align: right;\n",
       "    }\n",
       "</style>\n",
       "<table border=\"1\" class=\"dataframe\">\n",
       "  <thead>\n",
       "    <tr style=\"text-align: right;\">\n",
       "      <th></th>\n",
       "      <th>Date</th>\n",
       "      <th>Country</th>\n",
       "      <th>Population</th>\n",
       "      <th>Total Tests</th>\n",
       "      <th>Total Cases</th>\n",
       "      <th>Total Deaths</th>\n",
       "      <th>Total Recovered</th>\n",
       "      <th>Serious or Critical</th>\n",
       "      <th>Active Cases</th>\n",
       "    </tr>\n",
       "  </thead>\n",
       "  <tbody>\n",
       "    <tr>\n",
       "      <th>0</th>\n",
       "      <td>2020-04-18</td>\n",
       "      <td>USA</td>\n",
       "      <td>330774664</td>\n",
       "      <td>3722145.0</td>\n",
       "      <td>738792.0</td>\n",
       "      <td>39014.0</td>\n",
       "      <td>68269.0</td>\n",
       "      <td>13551.0</td>\n",
       "      <td>631509.0</td>\n",
       "    </tr>\n",
       "    <tr>\n",
       "      <th>1</th>\n",
       "      <td>2020-04-18</td>\n",
       "      <td>Russia</td>\n",
       "      <td>145927292</td>\n",
       "      <td>1831892.0</td>\n",
       "      <td>36793.0</td>\n",
       "      <td>313.0</td>\n",
       "      <td>3057.0</td>\n",
       "      <td>8.0</td>\n",
       "      <td>33423.0</td>\n",
       "    </tr>\n",
       "    <tr>\n",
       "      <th>2</th>\n",
       "      <td>2020-04-18</td>\n",
       "      <td>Spain</td>\n",
       "      <td>46752703</td>\n",
       "      <td>930230.0</td>\n",
       "      <td>194416.0</td>\n",
       "      <td>20043.0</td>\n",
       "      <td>74797.0</td>\n",
       "      <td>7371.0</td>\n",
       "      <td>99576.0</td>\n",
       "    </tr>\n",
       "    <tr>\n",
       "      <th>3</th>\n",
       "      <td>2020-04-18</td>\n",
       "      <td>Brazil</td>\n",
       "      <td>212380932</td>\n",
       "      <td>62985.0</td>\n",
       "      <td>36722.0</td>\n",
       "      <td>2361.0</td>\n",
       "      <td>14026.0</td>\n",
       "      <td>6634.0</td>\n",
       "      <td>20335.0</td>\n",
       "    </tr>\n",
       "    <tr>\n",
       "      <th>4</th>\n",
       "      <td>2020-04-18</td>\n",
       "      <td>UK</td>\n",
       "      <td>67844241</td>\n",
       "      <td>460437.0</td>\n",
       "      <td>114217.0</td>\n",
       "      <td>15464.0</td>\n",
       "      <td>0.0</td>\n",
       "      <td>1559.0</td>\n",
       "      <td>98409.0</td>\n",
       "    </tr>\n",
       "  </tbody>\n",
       "</table>\n",
       "</div>"
      ],
      "text/plain": [
       "         Date Country  Population  Total Tests  Total Cases  Total Deaths  \\\n",
       "0  2020-04-18     USA   330774664    3722145.0     738792.0       39014.0   \n",
       "1  2020-04-18  Russia   145927292    1831892.0      36793.0         313.0   \n",
       "2  2020-04-18   Spain    46752703     930230.0     194416.0       20043.0   \n",
       "3  2020-04-18  Brazil   212380932      62985.0      36722.0        2361.0   \n",
       "4  2020-04-18      UK    67844241     460437.0     114217.0       15464.0   \n",
       "\n",
       "   Total Recovered  Serious or Critical  Active Cases  \n",
       "0          68269.0              13551.0      631509.0  \n",
       "1           3057.0                  8.0       33423.0  \n",
       "2          74797.0               7371.0       99576.0  \n",
       "3          14026.0               6634.0       20335.0  \n",
       "4              0.0               1559.0       98409.0  "
      ]
     },
     "execution_count": 20,
     "metadata": {},
     "output_type": "execute_result"
    }
   ],
   "source": [
    "cc.head()"
   ]
  },
  {
   "cell_type": "code",
   "execution_count": 21,
   "metadata": {},
   "outputs": [
    {
     "data": {
      "text/html": [
       "<div>\n",
       "<style scoped>\n",
       "    .dataframe tbody tr th:only-of-type {\n",
       "        vertical-align: middle;\n",
       "    }\n",
       "\n",
       "    .dataframe tbody tr th {\n",
       "        vertical-align: top;\n",
       "    }\n",
       "\n",
       "    .dataframe thead th {\n",
       "        text-align: right;\n",
       "    }\n",
       "</style>\n",
       "<table border=\"1\" class=\"dataframe\">\n",
       "  <thead>\n",
       "    <tr style=\"text-align: right;\">\n",
       "      <th></th>\n",
       "      <th>Country</th>\n",
       "      <th>Fraction age 0-14 years</th>\n",
       "      <th>Fraction age 15-64 years</th>\n",
       "      <th>Fraction age 65+ years</th>\n",
       "    </tr>\n",
       "  </thead>\n",
       "  <tbody>\n",
       "    <tr>\n",
       "      <th>0</th>\n",
       "      <td>USA</td>\n",
       "      <td>0.189</td>\n",
       "      <td>0.657</td>\n",
       "      <td>0.154</td>\n",
       "    </tr>\n",
       "    <tr>\n",
       "      <th>1</th>\n",
       "      <td>Russia</td>\n",
       "      <td>0.176</td>\n",
       "      <td>0.682</td>\n",
       "      <td>0.142</td>\n",
       "    </tr>\n",
       "    <tr>\n",
       "      <th>2</th>\n",
       "      <td>Spain</td>\n",
       "      <td>0.147</td>\n",
       "      <td>0.659</td>\n",
       "      <td>0.194</td>\n",
       "    </tr>\n",
       "    <tr>\n",
       "      <th>3</th>\n",
       "      <td>Brazil</td>\n",
       "      <td>0.217</td>\n",
       "      <td>0.697</td>\n",
       "      <td>0.086</td>\n",
       "    </tr>\n",
       "    <tr>\n",
       "      <th>4</th>\n",
       "      <td>UK</td>\n",
       "      <td>0.177</td>\n",
       "      <td>0.638</td>\n",
       "      <td>0.185</td>\n",
       "    </tr>\n",
       "  </tbody>\n",
       "</table>\n",
       "</div>"
      ],
      "text/plain": [
       "  Country  Fraction age 0-14 years  Fraction age 15-64 years  \\\n",
       "0     USA                    0.189                     0.657   \n",
       "1  Russia                    0.176                     0.682   \n",
       "2   Spain                    0.147                     0.659   \n",
       "3  Brazil                    0.217                     0.697   \n",
       "4      UK                    0.177                     0.638   \n",
       "\n",
       "   Fraction age 65+ years  \n",
       "0                   0.154  \n",
       "1                   0.142  \n",
       "2                   0.194  \n",
       "3                   0.086  \n",
       "4                   0.185  "
      ]
     },
     "execution_count": 21,
     "metadata": {},
     "output_type": "execute_result"
    }
   ],
   "source": [
    "cc_age.head()"
   ]
  },
  {
   "cell_type": "code",
   "execution_count": 22,
   "metadata": {},
   "outputs": [],
   "source": [
    "cc1=pd.merge(cc,cc_age,on='Country')"
   ]
  },
  {
   "cell_type": "code",
   "execution_count": 23,
   "metadata": {},
   "outputs": [
    {
     "data": {
      "text/html": [
       "<div>\n",
       "<style scoped>\n",
       "    .dataframe tbody tr th:only-of-type {\n",
       "        vertical-align: middle;\n",
       "    }\n",
       "\n",
       "    .dataframe tbody tr th {\n",
       "        vertical-align: top;\n",
       "    }\n",
       "\n",
       "    .dataframe thead th {\n",
       "        text-align: right;\n",
       "    }\n",
       "</style>\n",
       "<table border=\"1\" class=\"dataframe\">\n",
       "  <thead>\n",
       "    <tr style=\"text-align: right;\">\n",
       "      <th></th>\n",
       "      <th>Date</th>\n",
       "      <th>Country</th>\n",
       "      <th>Population</th>\n",
       "      <th>Total Tests</th>\n",
       "      <th>Total Cases</th>\n",
       "      <th>Total Deaths</th>\n",
       "      <th>Total Recovered</th>\n",
       "      <th>Serious or Critical</th>\n",
       "      <th>Active Cases</th>\n",
       "      <th>Fraction age 0-14 years</th>\n",
       "      <th>Fraction age 15-64 years</th>\n",
       "      <th>Fraction age 65+ years</th>\n",
       "    </tr>\n",
       "  </thead>\n",
       "  <tbody>\n",
       "    <tr>\n",
       "      <th>0</th>\n",
       "      <td>2020-04-18</td>\n",
       "      <td>USA</td>\n",
       "      <td>330774664</td>\n",
       "      <td>3722145.0</td>\n",
       "      <td>738792.0</td>\n",
       "      <td>39014.0</td>\n",
       "      <td>68269.0</td>\n",
       "      <td>13551.0</td>\n",
       "      <td>631509.0</td>\n",
       "      <td>0.189</td>\n",
       "      <td>0.657</td>\n",
       "      <td>0.154</td>\n",
       "    </tr>\n",
       "    <tr>\n",
       "      <th>1</th>\n",
       "      <td>2020-04-19</td>\n",
       "      <td>USA</td>\n",
       "      <td>330774664</td>\n",
       "      <td>3861549.0</td>\n",
       "      <td>763832.0</td>\n",
       "      <td>40553.0</td>\n",
       "      <td>71003.0</td>\n",
       "      <td>13566.0</td>\n",
       "      <td>652276.0</td>\n",
       "      <td>0.189</td>\n",
       "      <td>0.657</td>\n",
       "      <td>0.154</td>\n",
       "    </tr>\n",
       "    <tr>\n",
       "      <th>2</th>\n",
       "      <td>2020-04-20</td>\n",
       "      <td>USA</td>\n",
       "      <td>330774664</td>\n",
       "      <td>4026360.0</td>\n",
       "      <td>792759.0</td>\n",
       "      <td>42514.0</td>\n",
       "      <td>72389.0</td>\n",
       "      <td>13951.0</td>\n",
       "      <td>677856.0</td>\n",
       "      <td>0.189</td>\n",
       "      <td>0.657</td>\n",
       "      <td>0.154</td>\n",
       "    </tr>\n",
       "    <tr>\n",
       "      <th>3</th>\n",
       "      <td>2020-04-21</td>\n",
       "      <td>USA</td>\n",
       "      <td>330774664</td>\n",
       "      <td>4187392.0</td>\n",
       "      <td>818744.0</td>\n",
       "      <td>45318.0</td>\n",
       "      <td>82923.0</td>\n",
       "      <td>14016.0</td>\n",
       "      <td>690503.0</td>\n",
       "      <td>0.189</td>\n",
       "      <td>0.657</td>\n",
       "      <td>0.154</td>\n",
       "    </tr>\n",
       "    <tr>\n",
       "      <th>4</th>\n",
       "      <td>2020-04-22</td>\n",
       "      <td>USA</td>\n",
       "      <td>330774664</td>\n",
       "      <td>4325342.0</td>\n",
       "      <td>848717.0</td>\n",
       "      <td>47659.0</td>\n",
       "      <td>84050.0</td>\n",
       "      <td>14016.0</td>\n",
       "      <td>717008.0</td>\n",
       "      <td>0.189</td>\n",
       "      <td>0.657</td>\n",
       "      <td>0.154</td>\n",
       "    </tr>\n",
       "  </tbody>\n",
       "</table>\n",
       "</div>"
      ],
      "text/plain": [
       "         Date Country  Population  Total Tests  Total Cases  Total Deaths  \\\n",
       "0  2020-04-18     USA   330774664    3722145.0     738792.0       39014.0   \n",
       "1  2020-04-19     USA   330774664    3861549.0     763832.0       40553.0   \n",
       "2  2020-04-20     USA   330774664    4026360.0     792759.0       42514.0   \n",
       "3  2020-04-21     USA   330774664    4187392.0     818744.0       45318.0   \n",
       "4  2020-04-22     USA   330774664    4325342.0     848717.0       47659.0   \n",
       "\n",
       "   Total Recovered  Serious or Critical  Active Cases  \\\n",
       "0          68269.0              13551.0      631509.0   \n",
       "1          71003.0              13566.0      652276.0   \n",
       "2          72389.0              13951.0      677856.0   \n",
       "3          82923.0              14016.0      690503.0   \n",
       "4          84050.0              14016.0      717008.0   \n",
       "\n",
       "   Fraction age 0-14 years  Fraction age 15-64 years  Fraction age 65+ years  \n",
       "0                    0.189                     0.657                   0.154  \n",
       "1                    0.189                     0.657                   0.154  \n",
       "2                    0.189                     0.657                   0.154  \n",
       "3                    0.189                     0.657                   0.154  \n",
       "4                    0.189                     0.657                   0.154  "
      ]
     },
     "execution_count": 23,
     "metadata": {},
     "output_type": "execute_result"
    }
   ],
   "source": [
    "cc1.head()"
   ]
  },
  {
   "cell_type": "code",
   "execution_count": 24,
   "metadata": {},
   "outputs": [
    {
     "data": {
      "text/plain": [
       "Date                        0\n",
       "Country                     0\n",
       "Population                  0\n",
       "Total Tests                 0\n",
       "Total Cases                 0\n",
       "Total Deaths                0\n",
       "Total Recovered             0\n",
       "Serious or Critical         0\n",
       "Active Cases                0\n",
       "Fraction age 0-14 years     0\n",
       "Fraction age 15-64 years    0\n",
       "Fraction age 65+ years      0\n",
       "dtype: int64"
      ]
     },
     "execution_count": 24,
     "metadata": {},
     "output_type": "execute_result"
    }
   ],
   "source": [
    "cc1.isnull().sum()"
   ]
  },
  {
   "cell_type": "markdown",
   "metadata": {},
   "source": [
    "#checking the distribution of the data\n",
    "#Univariate Analysis"
   ]
  },
  {
   "cell_type": "code",
   "execution_count": 25,
   "metadata": {},
   "outputs": [
    {
     "data": {
      "image/png": "[encoded data removed]",
      "text/plain": [
       "<Figure size 1080x1080 with 12 Axes>"
      ]
     },
     "metadata": {
      "needs_background": "light"
     },
     "output_type": "display_data"
    }
   ],
   "source": [
    "cc1.hist(figsize=(15,15))\n",
    "plt.show()\n",
    "\n"
   ]
  },
  {
   "cell_type": "code",
   "execution_count": 26,
   "metadata": {},
   "outputs": [
    {
     "data": {
      "image/png": "[encoded data removed]",
      "text/plain": [
       "<Figure size 1440x720 with 1 Axes>"
      ]
     },
     "metadata": {
      "needs_background": "light"
     },
     "output_type": "display_data"
    },
    {
     "data": {
      "image/png": "[encoded data removed]",
      "text/plain": [
       "<Figure size 1440x720 with 1 Axes>"
      ]
     },
     "metadata": {
      "needs_background": "light"
     },
     "output_type": "display_data"
    },
    {
     "data": {
      "image/png": "[encoded data removed]",
      "text/plain": [
       "<Figure size 1440x720 with 1 Axes>"
      ]
     },
     "metadata": {
      "needs_background": "light"
     },
     "output_type": "display_data"
    },
    {
     "data": {
      "image/png": "[encoded data removed]",
      "text/plain": [
       "<Figure size 1440x720 with 1 Axes>"
      ]
     },
     "metadata": {
      "needs_background": "light"
     },
     "output_type": "display_data"
    },
    {
     "data": {
      "image/png": "[encoded data removed]",
      "text/plain": [
       "<Figure size 1440x720 with 1 Axes>"
      ]
     },
     "metadata": {
      "needs_background": "light"
     },
     "output_type": "display_data"
    },
    {
     "data": {
      "image/png": "[encoded data removed]",
      "text/plain": [
       "<Figure size 1440x720 with 1 Axes>"
      ]
     },
     "metadata": {
      "needs_background": "light"
     },
     "output_type": "display_data"
    },
    {
     "data": {
      "image/png": "[encoded data removed]",
      "text/plain": [
       "<Figure size 1440x720 with 1 Axes>"
      ]
     },
     "metadata": {
      "needs_background": "light"
     },
     "output_type": "display_data"
    },
    {
     "data": {
      "image/png": "[encoded data removed]",
      "text/plain": [
       "<Figure size 1440x720 with 1 Axes>"
      ]
     },
     "metadata": {
      "needs_background": "light"
     },
     "output_type": "display_data"
    },
    {
     "data": {
      "image/png": "[encoded data removed]",
      "text/plain": [
       "<Figure size 1440x720 with 1 Axes>"
      ]
     },
     "metadata": {
      "needs_background": "light"
     },
     "output_type": "display_data"
    },
    {
     "data": {
      "image/png": "[encoded data removed]",
      "text/plain": [
       "<Figure size 1440x720 with 1 Axes>"
      ]
     },
     "metadata": {
      "needs_background": "light"
     },
     "output_type": "display_data"
    }
   ],
   "source": [
    "#checking the outliers in the data\n",
    "for i in cc1.columns:\n",
    "    if cc1[i].dtypes!='O':\n",
    "        plt.figure(figsize=(20,10))\n",
    "        plt.subplot(5,4,3)\n",
    "        sns.boxplot(cc1[i])"
   ]
  },
  {
   "cell_type": "markdown",
   "metadata": {},
   "source": [
    "observation-\n",
    "\n",
    "There are so many outliers seen in most pf the columns"
   ]
  },
  {
   "cell_type": "markdown",
   "metadata": {},
   "source": [
    "### Statistical Analysis"
   ]
  },
  {
   "cell_type": "code",
   "execution_count": 28,
   "metadata": {},
   "outputs": [
    {
     "data": {
      "text/html": [
       "<div>\n",
       "<style scoped>\n",
       "    .dataframe tbody tr th:only-of-type {\n",
       "        vertical-align: middle;\n",
       "    }\n",
       "\n",
       "    .dataframe tbody tr th {\n",
       "        vertical-align: top;\n",
       "    }\n",
       "\n",
       "    .dataframe thead th {\n",
       "        text-align: right;\n",
       "    }\n",
       "</style>\n",
       "<table border=\"1\" class=\"dataframe\">\n",
       "  <thead>\n",
       "    <tr style=\"text-align: right;\">\n",
       "      <th></th>\n",
       "      <th>Population</th>\n",
       "      <th>Total Tests</th>\n",
       "      <th>Total Cases</th>\n",
       "      <th>Total Deaths</th>\n",
       "      <th>Total Recovered</th>\n",
       "      <th>Serious or Critical</th>\n",
       "      <th>Active Cases</th>\n",
       "      <th>Fraction age 0-14 years</th>\n",
       "      <th>Fraction age 15-64 years</th>\n",
       "      <th>Fraction age 65+ years</th>\n",
       "    </tr>\n",
       "  </thead>\n",
       "  <tbody>\n",
       "    <tr>\n",
       "      <th>count</th>\n",
       "      <td>6.603000e+03</td>\n",
       "      <td>6.603000e+03</td>\n",
       "      <td>6.603000e+03</td>\n",
       "      <td>6603.000000</td>\n",
       "      <td>6603.000000</td>\n",
       "      <td>6603.000000</td>\n",
       "      <td>6.603000e+03</td>\n",
       "      <td>6603.000000</td>\n",
       "      <td>6603.000000</td>\n",
       "      <td>6603.000000</td>\n",
       "    </tr>\n",
       "    <tr>\n",
       "      <th>mean</th>\n",
       "      <td>3.637913e+07</td>\n",
       "      <td>1.850955e+05</td>\n",
       "      <td>1.680405e+04</td>\n",
       "      <td>1151.147206</td>\n",
       "      <td>5602.691201</td>\n",
       "      <td>241.139331</td>\n",
       "      <td>9.875109e+03</td>\n",
       "      <td>0.276098</td>\n",
       "      <td>0.636109</td>\n",
       "      <td>0.087731</td>\n",
       "    </tr>\n",
       "    <tr>\n",
       "      <th>std</th>\n",
       "      <td>1.411537e+08</td>\n",
       "      <td>6.993230e+05</td>\n",
       "      <td>8.829716e+04</td>\n",
       "      <td>6016.411612</td>\n",
       "      <td>22986.345036</td>\n",
       "      <td>1322.814259</td>\n",
       "      <td>6.512407e+04</td>\n",
       "      <td>0.096766</td>\n",
       "      <td>0.060320</td>\n",
       "      <td>0.056676</td>\n",
       "    </tr>\n",
       "    <tr>\n",
       "      <th>min</th>\n",
       "      <td>8.010000e+02</td>\n",
       "      <td>0.000000e+00</td>\n",
       "      <td>0.000000e+00</td>\n",
       "      <td>0.000000</td>\n",
       "      <td>0.000000</td>\n",
       "      <td>0.000000</td>\n",
       "      <td>0.000000e+00</td>\n",
       "      <td>0.115000</td>\n",
       "      <td>0.472000</td>\n",
       "      <td>0.011000</td>\n",
       "    </tr>\n",
       "    <tr>\n",
       "      <th>25%</th>\n",
       "      <td>8.672680e+05</td>\n",
       "      <td>1.480000e+03</td>\n",
       "      <td>7.600000e+01</td>\n",
       "      <td>1.000000</td>\n",
       "      <td>17.000000</td>\n",
       "      <td>0.000000</td>\n",
       "      <td>2.500000e+01</td>\n",
       "      <td>0.191000</td>\n",
       "      <td>0.607000</td>\n",
       "      <td>0.038000</td>\n",
       "    </tr>\n",
       "    <tr>\n",
       "      <th>50%</th>\n",
       "      <td>6.859926e+06</td>\n",
       "      <td>1.246100e+04</td>\n",
       "      <td>5.940000e+02</td>\n",
       "      <td>11.000000</td>\n",
       "      <td>183.000000</td>\n",
       "      <td>2.000000</td>\n",
       "      <td>2.600000e+02</td>\n",
       "      <td>0.276098</td>\n",
       "      <td>0.638000</td>\n",
       "      <td>0.085000</td>\n",
       "    </tr>\n",
       "    <tr>\n",
       "      <th>75%</th>\n",
       "      <td>2.546422e+07</td>\n",
       "      <td>1.066180e+05</td>\n",
       "      <td>4.757000e+03</td>\n",
       "      <td>109.000000</td>\n",
       "      <td>1302.500000</td>\n",
       "      <td>27.000000</td>\n",
       "      <td>1.991000e+03</td>\n",
       "      <td>0.335000</td>\n",
       "      <td>0.667000</td>\n",
       "      <td>0.114000</td>\n",
       "    </tr>\n",
       "    <tr>\n",
       "      <th>max</th>\n",
       "      <td>1.439324e+09</td>\n",
       "      <td>1.230074e+07</td>\n",
       "      <td>1.550294e+06</td>\n",
       "      <td>91981.000000</td>\n",
       "      <td>356383.000000</td>\n",
       "      <td>18671.000000</td>\n",
       "      <td>1.101930e+06</td>\n",
       "      <td>0.502000</td>\n",
       "      <td>0.850000</td>\n",
       "      <td>0.270000</td>\n",
       "    </tr>\n",
       "  </tbody>\n",
       "</table>\n",
       "</div>"
      ],
      "text/plain": [
       "         Population   Total Tests   Total Cases  Total Deaths  \\\n",
       "count  6.603000e+03  6.603000e+03  6.603000e+03   6603.000000   \n",
       "mean   3.637913e+07  1.850955e+05  1.680405e+04   1151.147206   \n",
       "std    1.411537e+08  6.993230e+05  8.829716e+04   6016.411612   \n",
       "min    8.010000e+02  0.000000e+00  0.000000e+00      0.000000   \n",
       "25%    8.672680e+05  1.480000e+03  7.600000e+01      1.000000   \n",
       "50%    6.859926e+06  1.246100e+04  5.940000e+02     11.000000   \n",
       "75%    2.546422e+07  1.066180e+05  4.757000e+03    109.000000   \n",
       "max    1.439324e+09  1.230074e+07  1.550294e+06  91981.000000   \n",
       "\n",
       "       Total Recovered  Serious or Critical  Active Cases  \\\n",
       "count      6603.000000          6603.000000  6.603000e+03   \n",
       "mean       5602.691201           241.139331  9.875109e+03   \n",
       "std       22986.345036          1322.814259  6.512407e+04   \n",
       "min           0.000000             0.000000  0.000000e+00   \n",
       "25%          17.000000             0.000000  2.500000e+01   \n",
       "50%         183.000000             2.000000  2.600000e+02   \n",
       "75%        1302.500000            27.000000  1.991000e+03   \n",
       "max      356383.000000         18671.000000  1.101930e+06   \n",
       "\n",
       "       Fraction age 0-14 years  Fraction age 15-64 years  \\\n",
       "count              6603.000000               6603.000000   \n",
       "mean                  0.276098                  0.636109   \n",
       "std                   0.096766                  0.060320   \n",
       "min                   0.115000                  0.472000   \n",
       "25%                   0.191000                  0.607000   \n",
       "50%                   0.276098                  0.638000   \n",
       "75%                   0.335000                  0.667000   \n",
       "max                   0.502000                  0.850000   \n",
       "\n",
       "       Fraction age 65+ years  \n",
       "count             6603.000000  \n",
       "mean                 0.087731  \n",
       "std                  0.056676  \n",
       "min                  0.011000  \n",
       "25%                  0.038000  \n",
       "50%                  0.085000  \n",
       "75%                  0.114000  \n",
       "max                  0.270000  "
      ]
     },
     "execution_count": 28,
     "metadata": {},
     "output_type": "execute_result"
    }
   ],
   "source": [
    "cc1.describe()"
   ]
  },
  {
   "cell_type": "code",
   "execution_count": 29,
   "metadata": {},
   "outputs": [
    {
     "data": {
      "text/html": [
       "<div>\n",
       "<style scoped>\n",
       "    .dataframe tbody tr th:only-of-type {\n",
       "        vertical-align: middle;\n",
       "    }\n",
       "\n",
       "    .dataframe tbody tr th {\n",
       "        vertical-align: top;\n",
       "    }\n",
       "\n",
       "    .dataframe thead th {\n",
       "        text-align: right;\n",
       "    }\n",
       "</style>\n",
       "<table border=\"1\" class=\"dataframe\">\n",
       "  <thead>\n",
       "    <tr style=\"text-align: right;\">\n",
       "      <th></th>\n",
       "      <th>Population</th>\n",
       "      <th>Total Tests</th>\n",
       "      <th>Total Cases</th>\n",
       "      <th>Total Deaths</th>\n",
       "      <th>Total Recovered</th>\n",
       "      <th>Serious or Critical</th>\n",
       "      <th>Active Cases</th>\n",
       "      <th>Fraction age 0-14 years</th>\n",
       "      <th>Fraction age 15-64 years</th>\n",
       "      <th>Fraction age 65+ years</th>\n",
       "    </tr>\n",
       "  </thead>\n",
       "  <tbody>\n",
       "    <tr>\n",
       "      <th>Population</th>\n",
       "      <td>1.000000</td>\n",
       "      <td>0.271429</td>\n",
       "      <td>0.226144</td>\n",
       "      <td>0.184892</td>\n",
       "      <td>0.310775</td>\n",
       "      <td>0.172346</td>\n",
       "      <td>0.179594</td>\n",
       "      <td>-0.039630</td>\n",
       "      <td>0.071066</td>\n",
       "      <td>-0.007319</td>\n",
       "    </tr>\n",
       "    <tr>\n",
       "      <th>Total Tests</th>\n",
       "      <td>0.271429</td>\n",
       "      <td>1.000000</td>\n",
       "      <td>0.901019</td>\n",
       "      <td>0.814127</td>\n",
       "      <td>0.811324</td>\n",
       "      <td>0.743657</td>\n",
       "      <td>0.852952</td>\n",
       "      <td>-0.236477</td>\n",
       "      <td>0.141288</td>\n",
       "      <td>0.254213</td>\n",
       "    </tr>\n",
       "    <tr>\n",
       "      <th>Total Cases</th>\n",
       "      <td>0.226144</td>\n",
       "      <td>0.901019</td>\n",
       "      <td>1.000000</td>\n",
       "      <td>0.935250</td>\n",
       "      <td>0.818957</td>\n",
       "      <td>0.892289</td>\n",
       "      <td>0.975015</td>\n",
       "      <td>-0.170559</td>\n",
       "      <td>0.077322</td>\n",
       "      <td>0.209443</td>\n",
       "    </tr>\n",
       "    <tr>\n",
       "      <th>Total Deaths</th>\n",
       "      <td>0.184892</td>\n",
       "      <td>0.814127</td>\n",
       "      <td>0.935250</td>\n",
       "      <td>1.000000</td>\n",
       "      <td>0.795902</td>\n",
       "      <td>0.833374</td>\n",
       "      <td>0.881876</td>\n",
       "      <td>-0.190062</td>\n",
       "      <td>0.050604</td>\n",
       "      <td>0.271012</td>\n",
       "    </tr>\n",
       "    <tr>\n",
       "      <th>Total Recovered</th>\n",
       "      <td>0.310775</td>\n",
       "      <td>0.811324</td>\n",
       "      <td>0.818957</td>\n",
       "      <td>0.795902</td>\n",
       "      <td>1.000000</td>\n",
       "      <td>0.723509</td>\n",
       "      <td>0.685120</td>\n",
       "      <td>-0.227488</td>\n",
       "      <td>0.120723</td>\n",
       "      <td>0.260946</td>\n",
       "    </tr>\n",
       "    <tr>\n",
       "      <th>Serious or Critical</th>\n",
       "      <td>0.172346</td>\n",
       "      <td>0.743657</td>\n",
       "      <td>0.892289</td>\n",
       "      <td>0.833374</td>\n",
       "      <td>0.723509</td>\n",
       "      <td>1.000000</td>\n",
       "      <td>0.875839</td>\n",
       "      <td>-0.160810</td>\n",
       "      <td>0.085802</td>\n",
       "      <td>0.183707</td>\n",
       "    </tr>\n",
       "    <tr>\n",
       "      <th>Active Cases</th>\n",
       "      <td>0.179594</td>\n",
       "      <td>0.852952</td>\n",
       "      <td>0.975015</td>\n",
       "      <td>0.881876</td>\n",
       "      <td>0.685120</td>\n",
       "      <td>0.875839</td>\n",
       "      <td>1.000000</td>\n",
       "      <td>-0.130525</td>\n",
       "      <td>0.057477</td>\n",
       "      <td>0.162003</td>\n",
       "    </tr>\n",
       "    <tr>\n",
       "      <th>Fraction age 0-14 years</th>\n",
       "      <td>-0.039630</td>\n",
       "      <td>-0.236477</td>\n",
       "      <td>-0.170559</td>\n",
       "      <td>-0.190062</td>\n",
       "      <td>-0.227488</td>\n",
       "      <td>-0.160810</td>\n",
       "      <td>-0.130525</td>\n",
       "      <td>1.000000</td>\n",
       "      <td>-0.839259</td>\n",
       "      <td>-0.815133</td>\n",
       "    </tr>\n",
       "    <tr>\n",
       "      <th>Fraction age 15-64 years</th>\n",
       "      <td>0.071066</td>\n",
       "      <td>0.141288</td>\n",
       "      <td>0.077322</td>\n",
       "      <td>0.050604</td>\n",
       "      <td>0.120723</td>\n",
       "      <td>0.085802</td>\n",
       "      <td>0.057477</td>\n",
       "      <td>-0.839259</td>\n",
       "      <td>1.000000</td>\n",
       "      <td>0.369285</td>\n",
       "    </tr>\n",
       "    <tr>\n",
       "      <th>Fraction age 65+ years</th>\n",
       "      <td>-0.007319</td>\n",
       "      <td>0.254213</td>\n",
       "      <td>0.209443</td>\n",
       "      <td>0.271012</td>\n",
       "      <td>0.260946</td>\n",
       "      <td>0.183707</td>\n",
       "      <td>0.162003</td>\n",
       "      <td>-0.815133</td>\n",
       "      <td>0.369285</td>\n",
       "      <td>1.000000</td>\n",
       "    </tr>\n",
       "  </tbody>\n",
       "</table>\n",
       "</div>"
      ],
      "text/plain": [
       "                          Population  Total Tests  Total Cases  Total Deaths  \\\n",
       "Population                  1.000000     0.271429     0.226144      0.184892   \n",
       "Total Tests                 0.271429     1.000000     0.901019      0.814127   \n",
       "Total Cases                 0.226144     0.901019     1.000000      0.935250   \n",
       "Total Deaths                0.184892     0.814127     0.935250      1.000000   \n",
       "Total Recovered             0.310775     0.811324     0.818957      0.795902   \n",
       "Serious or Critical         0.172346     0.743657     0.892289      0.833374   \n",
       "Active Cases                0.179594     0.852952     0.975015      0.881876   \n",
       "Fraction age 0-14 years    -0.039630    -0.236477    -0.170559     -0.190062   \n",
       "Fraction age 15-64 years    0.071066     0.141288     0.077322      0.050604   \n",
       "Fraction age 65+ years     -0.007319     0.254213     0.209443      0.271012   \n",
       "\n",
       "                          Total Recovered  Serious or Critical  Active Cases  \\\n",
       "Population                       0.310775             0.172346      0.179594   \n",
       "Total Tests                      0.811324             0.743657      0.852952   \n",
       "Total Cases                      0.818957             0.892289      0.975015   \n",
       "Total Deaths                     0.795902             0.833374      0.881876   \n",
       "Total Recovered                  1.000000             0.723509      0.685120   \n",
       "Serious or Critical              0.723509             1.000000      0.875839   \n",
       "Active Cases                     0.685120             0.875839      1.000000   \n",
       "Fraction age 0-14 years         -0.227488            -0.160810     -0.130525   \n",
       "Fraction age 15-64 years         0.120723             0.085802      0.057477   \n",
       "Fraction age 65+ years           0.260946             0.183707      0.162003   \n",
       "\n",
       "                          Fraction age 0-14 years  Fraction age 15-64 years  \\\n",
       "Population                              -0.039630                  0.071066   \n",
       "Total Tests                             -0.236477                  0.141288   \n",
       "Total Cases                             -0.170559                  0.077322   \n",
       "Total Deaths                            -0.190062                  0.050604   \n",
       "Total Recovered                         -0.227488                  0.120723   \n",
       "Serious or Critical                     -0.160810                  0.085802   \n",
       "Active Cases                            -0.130525                  0.057477   \n",
       "Fraction age 0-14 years                  1.000000                 -0.839259   \n",
       "Fraction age 15-64 years                -0.839259                  1.000000   \n",
       "Fraction age 65+ years                  -0.815133                  0.369285   \n",
       "\n",
       "                          Fraction age 65+ years  \n",
       "Population                             -0.007319  \n",
       "Total Tests                             0.254213  \n",
       "Total Cases                             0.209443  \n",
       "Total Deaths                            0.271012  \n",
       "Total Recovered                         0.260946  \n",
       "Serious or Critical                     0.183707  \n",
       "Active Cases                            0.162003  \n",
       "Fraction age 0-14 years                -0.815133  \n",
       "Fraction age 15-64 years                0.369285  \n",
       "Fraction age 65+ years                  1.000000  "
      ]
     },
     "execution_count": 29,
     "metadata": {},
     "output_type": "execute_result"
    }
   ],
   "source": [
    "cc1.corr()"
   ]
  },
  {
   "cell_type": "code",
   "execution_count": 30,
   "metadata": {
    "scrolled": true
   },
   "outputs": [
    {
     "data": {
      "text/plain": [
       "<matplotlib.axes._subplots.AxesSubplot at 0x1a257a5d10>"
      ]
     },
     "execution_count": 30,
     "metadata": {},
     "output_type": "execute_result"
    },
    {
     "data": {
      "image/png": "[encoded data removed]",
      "text/plain": [
       "<Figure size 432x288 with 2 Axes>"
      ]
     },
     "metadata": {
      "needs_background": "light"
     },
     "output_type": "display_data"
    }
   ],
   "source": [
    "sns.heatmap(cc1.corr(), annot=True)"
   ]
  },
  {
   "cell_type": "markdown",
   "metadata": {},
   "source": [
    "Observations\n",
    "1. Total tests, total cases, total deaths, total recovered, serious critical and active cases are positively correlated with each other."
   ]
  },
  {
   "cell_type": "code",
   "execution_count": 31,
   "metadata": {},
   "outputs": [],
   "source": [
    "#Using Labelencoder to encode the categorical variables\n",
    "from sklearn.preprocessing import LabelEncoder\n",
    "lb=LabelEncoder()\n",
    "cc1['Date']=lb.fit_transform(cc1['Date'])\n",
    "cc1['Country']=lb.fit_transform(cc1['Country'])"
   ]
  },
  {
   "cell_type": "markdown",
   "metadata": {},
   "source": [
    "removing outliers"
   ]
  },
  {
   "cell_type": "code",
   "execution_count": 32,
   "metadata": {},
   "outputs": [
    {
     "name": "stdout",
     "output_type": "stream",
     "text": [
      "The datashape before removing outliers is  (6603, 12)\n",
      "The datashape after removing outliers is  (6179, 12)\n"
     ]
    }
   ],
   "source": [
    "from scipy.stats import zscore\n",
    "z=np.abs(zscore(cc1))\n",
    "print(\"The datashape before removing outliers is \", cc1.shape)\n",
    "cc1=cc1[(z<3).all(axis=1)]\n",
    "print(\"The datashape after removing outliers is \", cc1.shape)"
   ]
  },
  {
   "cell_type": "markdown",
   "metadata": {},
   "source": [
    "### checking the skewness"
   ]
  },
  {
   "cell_type": "code",
   "execution_count": 33,
   "metadata": {},
   "outputs": [
    {
     "data": {
      "text/plain": [
       "Date                        0.008281\n",
       "Country                     0.001664\n",
       "Population                  4.019423\n",
       "Total Tests                 4.565916\n",
       "Total Cases                 5.357714\n",
       "Total Deaths                8.750894\n",
       "Total Recovered             7.276211\n",
       "Serious or Critical         9.555351\n",
       "Active Cases                6.402657\n",
       "Fraction age 0-14 years     0.333146\n",
       "Fraction age 15-64 years   -0.512521\n",
       "Fraction age 65+ years      0.831507\n",
       "dtype: float64"
      ]
     },
     "execution_count": 33,
     "metadata": {},
     "output_type": "execute_result"
    }
   ],
   "source": [
    "cc1.skew()"
   ]
  },
  {
   "cell_type": "code",
   "execution_count": 34,
   "metadata": {},
   "outputs": [],
   "source": [
    "#using log1p method to remove the skewness\n",
    "for i in cc1.columns:\n",
    "    if cc1.skew()[i]>0.55:\n",
    "        cc1[i]=np.log1p(cc1[i])"
   ]
  },
  {
   "cell_type": "code",
   "execution_count": 35,
   "metadata": {},
   "outputs": [
    {
     "data": {
      "text/plain": [
       "Date                        0.008281\n",
       "Country                     0.001664\n",
       "Population                 -0.791000\n",
       "Total Tests                -0.477149\n",
       "Total Cases                -0.043044\n",
       "Total Deaths                0.612424\n",
       "Total Recovered             0.019542\n",
       "Serious or Critical         1.004513\n",
       "Active Cases               -0.063040\n",
       "Fraction age 0-14 years     0.333146\n",
       "Fraction age 15-64 years   -0.512521\n",
       "Fraction age 65+ years      0.764275\n",
       "dtype: float64"
      ]
     },
     "execution_count": 35,
     "metadata": {},
     "output_type": "execute_result"
    }
   ],
   "source": [
    "cc1.skew()"
   ]
  },
  {
   "cell_type": "markdown",
   "metadata": {},
   "source": [
    "#### splitting the data into input and output variables"
   ]
  },
  {
   "cell_type": "code",
   "execution_count": 36,
   "metadata": {},
   "outputs": [
    {
     "data": {
      "text/html": [
       "<div>\n",
       "<style scoped>\n",
       "    .dataframe tbody tr th:only-of-type {\n",
       "        vertical-align: middle;\n",
       "    }\n",
       "\n",
       "    .dataframe tbody tr th {\n",
       "        vertical-align: top;\n",
       "    }\n",
       "\n",
       "    .dataframe thead th {\n",
       "        text-align: right;\n",
       "    }\n",
       "</style>\n",
       "<table border=\"1\" class=\"dataframe\">\n",
       "  <thead>\n",
       "    <tr style=\"text-align: right;\">\n",
       "      <th></th>\n",
       "      <th>Date</th>\n",
       "      <th>Country</th>\n",
       "      <th>Population</th>\n",
       "      <th>Total Tests</th>\n",
       "      <th>Total Cases</th>\n",
       "      <th>Total Recovered</th>\n",
       "      <th>Serious or Critical</th>\n",
       "      <th>Active Cases</th>\n",
       "      <th>Fraction age 0-14 years</th>\n",
       "      <th>Fraction age 15-64 years</th>\n",
       "      <th>Fraction age 65+ years</th>\n",
       "    </tr>\n",
       "  </thead>\n",
       "  <tbody>\n",
       "    <tr>\n",
       "      <th>31</th>\n",
       "      <td>0</td>\n",
       "      <td>158</td>\n",
       "      <td>18.798619</td>\n",
       "      <td>14.420860</td>\n",
       "      <td>10.513090</td>\n",
       "      <td>8.025516</td>\n",
       "      <td>2.197225</td>\n",
       "      <td>10.417029</td>\n",
       "      <td>0.176</td>\n",
       "      <td>0.682</td>\n",
       "      <td>0.132781</td>\n",
       "    </tr>\n",
       "    <tr>\n",
       "      <th>32</th>\n",
       "      <td>1</td>\n",
       "      <td>158</td>\n",
       "      <td>18.798619</td>\n",
       "      <td>14.478199</td>\n",
       "      <td>10.665554</td>\n",
       "      <td>8.099251</td>\n",
       "      <td>2.197225</td>\n",
       "      <td>10.576483</td>\n",
       "      <td>0.176</td>\n",
       "      <td>0.682</td>\n",
       "      <td>0.132781</td>\n",
       "    </tr>\n",
       "    <tr>\n",
       "      <th>33</th>\n",
       "      <td>2</td>\n",
       "      <td>158</td>\n",
       "      <td>18.798619</td>\n",
       "      <td>14.534969</td>\n",
       "      <td>10.760495</td>\n",
       "      <td>8.145260</td>\n",
       "      <td>6.552508</td>\n",
       "      <td>10.675238</td>\n",
       "      <td>0.176</td>\n",
       "      <td>0.682</td>\n",
       "      <td>0.132781</td>\n",
       "    </tr>\n",
       "    <tr>\n",
       "      <th>34</th>\n",
       "      <td>3</td>\n",
       "      <td>158</td>\n",
       "      <td>18.798619</td>\n",
       "      <td>14.577533</td>\n",
       "      <td>10.873584</td>\n",
       "      <td>8.262043</td>\n",
       "      <td>6.552508</td>\n",
       "      <td>10.787978</td>\n",
       "      <td>0.176</td>\n",
       "      <td>0.682</td>\n",
       "      <td>0.132781</td>\n",
       "    </tr>\n",
       "    <tr>\n",
       "      <th>35</th>\n",
       "      <td>4</td>\n",
       "      <td>158</td>\n",
       "      <td>18.798619</td>\n",
       "      <td>14.626441</td>\n",
       "      <td>10.968198</td>\n",
       "      <td>8.394121</td>\n",
       "      <td>6.552508</td>\n",
       "      <td>10.879311</td>\n",
       "      <td>0.176</td>\n",
       "      <td>0.682</td>\n",
       "      <td>0.132781</td>\n",
       "    </tr>\n",
       "  </tbody>\n",
       "</table>\n",
       "</div>"
      ],
      "text/plain": [
       "    Date  Country  Population  Total Tests  Total Cases  Total Recovered  \\\n",
       "31     0      158   18.798619    14.420860    10.513090         8.025516   \n",
       "32     1      158   18.798619    14.478199    10.665554         8.099251   \n",
       "33     2      158   18.798619    14.534969    10.760495         8.145260   \n",
       "34     3      158   18.798619    14.577533    10.873584         8.262043   \n",
       "35     4      158   18.798619    14.626441    10.968198         8.394121   \n",
       "\n",
       "    Serious or Critical  Active Cases  Fraction age 0-14 years  \\\n",
       "31             2.197225     10.417029                    0.176   \n",
       "32             2.197225     10.576483                    0.176   \n",
       "33             6.552508     10.675238                    0.176   \n",
       "34             6.552508     10.787978                    0.176   \n",
       "35             6.552508     10.879311                    0.176   \n",
       "\n",
       "    Fraction age 15-64 years  Fraction age 65+ years  \n",
       "31                     0.682                0.132781  \n",
       "32                     0.682                0.132781  \n",
       "33                     0.682                0.132781  \n",
       "34                     0.682                0.132781  \n",
       "35                     0.682                0.132781  "
      ]
     },
     "execution_count": 36,
     "metadata": {},
     "output_type": "execute_result"
    }
   ],
   "source": [
    "y=pd.DataFrame(cc1['Total Deaths'])\n",
    "x=cc1.drop('Total Deaths', axis=1)\n",
    "x.head()"
   ]
  },
  {
   "cell_type": "code",
   "execution_count": 37,
   "metadata": {},
   "outputs": [
    {
     "data": {
      "text/html": [
       "<div>\n",
       "<style scoped>\n",
       "    .dataframe tbody tr th:only-of-type {\n",
       "        vertical-align: middle;\n",
       "    }\n",
       "\n",
       "    .dataframe tbody tr th {\n",
       "        vertical-align: top;\n",
       "    }\n",
       "\n",
       "    .dataframe thead th {\n",
       "        text-align: right;\n",
       "    }\n",
       "</style>\n",
       "<table border=\"1\" class=\"dataframe\">\n",
       "  <thead>\n",
       "    <tr style=\"text-align: right;\">\n",
       "      <th></th>\n",
       "      <th>Total Deaths</th>\n",
       "    </tr>\n",
       "  </thead>\n",
       "  <tbody>\n",
       "    <tr>\n",
       "      <th>31</th>\n",
       "      <td>5.749393</td>\n",
       "    </tr>\n",
       "    <tr>\n",
       "      <th>32</th>\n",
       "      <td>5.891644</td>\n",
       "    </tr>\n",
       "    <tr>\n",
       "      <th>33</th>\n",
       "      <td>6.006353</td>\n",
       "    </tr>\n",
       "    <tr>\n",
       "      <th>34</th>\n",
       "      <td>6.124683</td>\n",
       "    </tr>\n",
       "    <tr>\n",
       "      <th>35</th>\n",
       "      <td>6.242223</td>\n",
       "    </tr>\n",
       "  </tbody>\n",
       "</table>\n",
       "</div>"
      ],
      "text/plain": [
       "    Total Deaths\n",
       "31      5.749393\n",
       "32      5.891644\n",
       "33      6.006353\n",
       "34      6.124683\n",
       "35      6.242223"
      ]
     },
     "execution_count": 37,
     "metadata": {},
     "output_type": "execute_result"
    }
   ],
   "source": [
    "y.head()"
   ]
  },
  {
   "cell_type": "markdown",
   "metadata": {},
   "source": [
    "#### Pre Processing the data"
   ]
  },
  {
   "cell_type": "code",
   "execution_count": 38,
   "metadata": {},
   "outputs": [
    {
     "data": {
      "text/html": [
       "<div>\n",
       "<style scoped>\n",
       "    .dataframe tbody tr th:only-of-type {\n",
       "        vertical-align: middle;\n",
       "    }\n",
       "\n",
       "    .dataframe tbody tr th {\n",
       "        vertical-align: top;\n",
       "    }\n",
       "\n",
       "    .dataframe thead th {\n",
       "        text-align: right;\n",
       "    }\n",
       "</style>\n",
       "<table border=\"1\" class=\"dataframe\">\n",
       "  <thead>\n",
       "    <tr style=\"text-align: right;\">\n",
       "      <th></th>\n",
       "      <th>0</th>\n",
       "      <th>1</th>\n",
       "      <th>2</th>\n",
       "      <th>3</th>\n",
       "      <th>4</th>\n",
       "      <th>5</th>\n",
       "      <th>6</th>\n",
       "      <th>7</th>\n",
       "      <th>8</th>\n",
       "      <th>9</th>\n",
       "      <th>10</th>\n",
       "    </tr>\n",
       "  </thead>\n",
       "  <tbody>\n",
       "    <tr>\n",
       "      <th>0</th>\n",
       "      <td>0.000000</td>\n",
       "      <td>0.745283</td>\n",
       "      <td>0.950778</td>\n",
       "      <td>0.985945</td>\n",
       "      <td>0.888261</td>\n",
       "      <td>0.715988</td>\n",
       "      <td>0.269119</td>\n",
       "      <td>0.891346</td>\n",
       "      <td>0.157623</td>\n",
       "      <td>0.684039</td>\n",
       "      <td>0.641797</td>\n",
       "    </tr>\n",
       "    <tr>\n",
       "      <th>1</th>\n",
       "      <td>0.033333</td>\n",
       "      <td>0.745283</td>\n",
       "      <td>0.950778</td>\n",
       "      <td>0.989865</td>\n",
       "      <td>0.901143</td>\n",
       "      <td>0.722566</td>\n",
       "      <td>0.269119</td>\n",
       "      <td>0.904990</td>\n",
       "      <td>0.157623</td>\n",
       "      <td>0.684039</td>\n",
       "      <td>0.641797</td>\n",
       "    </tr>\n",
       "    <tr>\n",
       "      <th>2</th>\n",
       "      <td>0.066667</td>\n",
       "      <td>0.745283</td>\n",
       "      <td>0.950778</td>\n",
       "      <td>0.993746</td>\n",
       "      <td>0.909165</td>\n",
       "      <td>0.726671</td>\n",
       "      <td>0.802560</td>\n",
       "      <td>0.913440</td>\n",
       "      <td>0.157623</td>\n",
       "      <td>0.684039</td>\n",
       "      <td>0.641797</td>\n",
       "    </tr>\n",
       "    <tr>\n",
       "      <th>3</th>\n",
       "      <td>0.100000</td>\n",
       "      <td>0.745283</td>\n",
       "      <td>0.950778</td>\n",
       "      <td>0.996656</td>\n",
       "      <td>0.918720</td>\n",
       "      <td>0.737090</td>\n",
       "      <td>0.802560</td>\n",
       "      <td>0.923087</td>\n",
       "      <td>0.157623</td>\n",
       "      <td>0.684039</td>\n",
       "      <td>0.641797</td>\n",
       "    </tr>\n",
       "    <tr>\n",
       "      <th>4</th>\n",
       "      <td>0.133333</td>\n",
       "      <td>0.745283</td>\n",
       "      <td>0.950778</td>\n",
       "      <td>1.000000</td>\n",
       "      <td>0.926714</td>\n",
       "      <td>0.748873</td>\n",
       "      <td>0.802560</td>\n",
       "      <td>0.930902</td>\n",
       "      <td>0.157623</td>\n",
       "      <td>0.684039</td>\n",
       "      <td>0.641797</td>\n",
       "    </tr>\n",
       "  </tbody>\n",
       "</table>\n",
       "</div>"
      ],
      "text/plain": [
       "          0         1         2         3         4         5         6  \\\n",
       "0  0.000000  0.745283  0.950778  0.985945  0.888261  0.715988  0.269119   \n",
       "1  0.033333  0.745283  0.950778  0.989865  0.901143  0.722566  0.269119   \n",
       "2  0.066667  0.745283  0.950778  0.993746  0.909165  0.726671  0.802560   \n",
       "3  0.100000  0.745283  0.950778  0.996656  0.918720  0.737090  0.802560   \n",
       "4  0.133333  0.745283  0.950778  1.000000  0.926714  0.748873  0.802560   \n",
       "\n",
       "          7         8         9        10  \n",
       "0  0.891346  0.157623  0.684039  0.641797  \n",
       "1  0.904990  0.157623  0.684039  0.641797  \n",
       "2  0.913440  0.157623  0.684039  0.641797  \n",
       "3  0.923087  0.157623  0.684039  0.641797  \n",
       "4  0.930902  0.157623  0.684039  0.641797  "
      ]
     },
     "execution_count": 38,
     "metadata": {},
     "output_type": "execute_result"
    }
   ],
   "source": [
    "#We need to scale the data for normalising the input data and for the same we can use Standardscaler\n",
    "from sklearn.preprocessing import MinMaxScaler\n",
    "scaler=MinMaxScaler()\n",
    "x=pd.DataFrame(scaler.fit_transform(x))\n",
    "x.head()"
   ]
  },
  {
   "cell_type": "code",
   "execution_count": 48,
   "metadata": {},
   "outputs": [],
   "source": [
    "#Checking the best random state for finalising the train and test data\n",
    "#importing necessary libraries\n",
    "from sklearn.model_selection import train_test_split\n",
    "from sklearn.linear_model import LinearRegression\n",
    "from sklearn.metrics import r2_score, mean_squared_error, mean_absolute_error\n",
    "\n",
    "def max_r2_score(reg,x,y):\n",
    "    max_r2score=0\n",
    "    for r_state in range(42,101):\n",
    "        train_x,test_x,train_y,test_y=train_test_split(x,y,random_state=r_state,test_size=0.20, shuffle=True)\n",
    "        reg.fit(train_x,train_y)\n",
    "        pred=reg.predict(test_x)\n",
    "        r2score=r2_score(test_y,pred)\n",
    "        if r2score>max_r2score:\n",
    "            max_r2score=r2score\n",
    "            final_r_state=r_state\n",
    "    print(\"The maximum r2 score\", max_r2score, \"is achieved at random state\", final_r_state)"
   ]
  },
  {
   "cell_type": "code",
   "execution_count": 49,
   "metadata": {},
   "outputs": [
    {
     "name": "stdout",
     "output_type": "stream",
     "text": [
      "The maximum r2 score 0.8919135640445734 is achieved at random state 65\n"
     ]
    }
   ],
   "source": [
    "lr=LinearRegression()\n",
    "max_r2_score(lr,x,y)"
   ]
  },
  {
   "cell_type": "code",
   "execution_count": 50,
   "metadata": {},
   "outputs": [],
   "source": [
    "#Finalising the train test data\n",
    "train_x,test_x,train_y,test_y=train_test_split(x,y,random_state=46,test_size=0.20)"
   ]
  },
  {
   "cell_type": "code",
   "execution_count": 51,
   "metadata": {},
   "outputs": [
    {
     "data": {
      "text/plain": [
       "{'n_neighbors': 1}"
      ]
     },
     "execution_count": 51,
     "metadata": {},
     "output_type": "execute_result"
    }
   ],
   "source": [
    "#Let us check the performances of other models and to derive at the best parameters for the models, let us use Gridsearchcv\n",
    "from sklearn.model_selection import GridSearchCV\n",
    "from sklearn.neighbors import KNeighborsRegressor\n",
    "kn=KNeighborsRegressor()\n",
    "parameters={'n_neighbors':(1,10)}\n",
    "gdk=GridSearchCV(kn,parameters)\n",
    "gdk.fit(train_x,train_y)\n",
    "gdk.best_params_"
   ]
  },
  {
   "cell_type": "code",
   "execution_count": 52,
   "metadata": {},
   "outputs": [
    {
     "data": {
      "text/plain": [
       "{'criterion': 'mae'}"
      ]
     },
     "execution_count": 52,
     "metadata": {},
     "output_type": "execute_result"
    }
   ],
   "source": [
    "from sklearn.tree import DecisionTreeRegressor\n",
    "dt=DecisionTreeRegressor()\n",
    "parameters={'criterion':('mse','friedman_mse','mae')}\n",
    "gdd=GridSearchCV(dt,parameters)\n",
    "gdd.fit(train_x,train_y)\n",
    "gdd.best_params_"
   ]
  },
  {
   "cell_type": "code",
   "execution_count": 45,
   "metadata": {},
   "outputs": [
    {
     "data": {
      "text/plain": [
       "{'C': 10, 'kernel': 'rbf'}"
      ]
     },
     "execution_count": 45,
     "metadata": {},
     "output_type": "execute_result"
    }
   ],
   "source": [
    "from sklearn.svm import SVR\n",
    "sv=SVR()\n",
    "parameters={'kernel':('linear','rbf'), 'C':[1,10]}\n",
    "gdsr=GridSearchCV(sv,parameters)\n",
    "gdsr.fit(train_x,train_y)\n",
    "gdsr.best_params_"
   ]
  },
  {
   "cell_type": "code",
   "execution_count": 46,
   "metadata": {},
   "outputs": [
    {
     "name": "stdout",
     "output_type": "stream",
     "text": [
      "LinearRegression(copy_X=True, fit_intercept=True, n_jobs=None, normalize=False)\n",
      "The r2 score is 0.8841227210496148\n",
      "The cross val score is -0.24011840591538966\n",
      "The mean squared error is 0.5876434526127652\n",
      "The root mean squared error is 0.7665790582925972\n",
      "\n",
      "\n",
      "\n",
      "\n",
      "KNeighborsRegressor(algorithm='auto', leaf_size=30, metric='minkowski',\n",
      "                    metric_params=None, n_jobs=None, n_neighbors=1, p=2,\n",
      "                    weights='uniform')\n",
      "The r2 score is 0.9987935364418327\n",
      "The cross val score is -1.3914763548240916\n",
      "The mean squared error is 0.006118286666676781\n",
      "The root mean squared error is 0.07821947754029543\n",
      "\n",
      "\n",
      "\n",
      "\n",
      "DecisionTreeRegressor(ccp_alpha=0.0, criterion='mae', max_depth=None,\n",
      "                      max_features=None, max_leaf_nodes=None,\n",
      "                      min_impurity_decrease=0.0, min_impurity_split=None,\n",
      "                      min_samples_leaf=1, min_samples_split=2,\n",
      "                      min_weight_fraction_leaf=0.0, presort='deprecated',\n",
      "                      random_state=None, splitter='best')\n",
      "The r2 score is 0.9943572115538484\n",
      "The cross val score is -0.910143865622068\n",
      "The mean squared error is 0.02861602994906135\n",
      "The root mean squared error is 0.16916273215179917\n",
      "\n",
      "\n",
      "\n",
      "\n",
      "SVR(C=10, cache_size=200, coef0=0.0, degree=3, epsilon=0.1, gamma='scale',\n",
      "    kernel='rbf', max_iter=-1, shrinking=True, tol=0.001, verbose=False)\n",
      "The r2 score is 0.9701630050789256\n",
      "The cross val score is -1.3982258412307833\n",
      "The mean squared error is 0.15131106693070487\n",
      "The root mean squared error is 0.38898723234921845\n",
      "\n",
      "\n",
      "\n",
      "\n"
     ]
    }
   ],
   "source": [
    "score=[]\n",
    "cv=[]\n",
    "Mean=[]\n",
    "Root=[]\n",
    "\n",
    "from sklearn.model_selection import cross_val_score\n",
    "\n",
    "models=[LinearRegression(),KNeighborsRegressor(n_neighbors=1),DecisionTreeRegressor(criterion='mae'),SVR(C=10,kernel='rbf')]\n",
    "\n",
    "for i in models:\n",
    "    i.fit(train_x,train_y)\n",
    "    pred=i.predict(test_x)\n",
    "    print(i)\n",
    "    r2score=r2_score(test_y,pred)\n",
    "    score.append(r2score)\n",
    "    print(\"The r2 score is\", r2score)\n",
    "    cscore=cross_val_score(i,x,y,cv=5,scoring='r2').mean()\n",
    "    cv.append(cscore)\n",
    "    print(\"The cross val score is\", cscore)\n",
    "    meanerror=mean_squared_error(test_y,pred)\n",
    "    Mean.append(meanerror)\n",
    "    print(\"The mean squared error is\", meanerror)\n",
    "    rooterror=np.sqrt(meanerror)\n",
    "    print(\"The root mean squared error is\", rooterror)\n",
    "    Root.append(rooterror)\n",
    "    print(\"\\n\")\n",
    "    print(\"\\n\")"
   ]
  },
  {
   "cell_type": "code",
   "execution_count": 56,
   "metadata": {},
   "outputs": [
    {
     "data": {
      "text/html": [
       "<div>\n",
       "<style scoped>\n",
       "    .dataframe tbody tr th:only-of-type {\n",
       "        vertical-align: middle;\n",
       "    }\n",
       "\n",
       "    .dataframe tbody tr th {\n",
       "        vertical-align: top;\n",
       "    }\n",
       "\n",
       "    .dataframe thead th {\n",
       "        text-align: right;\n",
       "    }\n",
       "</style>\n",
       "<table border=\"1\" class=\"dataframe\">\n",
       "  <thead>\n",
       "    <tr style=\"text-align: right;\">\n",
       "      <th></th>\n",
       "      <th>Model</th>\n",
       "      <th>R2score</th>\n",
       "      <th>Cross_val_score</th>\n",
       "      <th>Mean Squared Error</th>\n",
       "      <th>Root Mean Squared Error</th>\n",
       "    </tr>\n",
       "  </thead>\n",
       "  <tbody>\n",
       "    <tr>\n",
       "      <th>0</th>\n",
       "      <td>LinearRegression</td>\n",
       "      <td>0.884123</td>\n",
       "      <td>-0.240118</td>\n",
       "      <td>0.587643</td>\n",
       "      <td>0.766579</td>\n",
       "    </tr>\n",
       "    <tr>\n",
       "      <th>1</th>\n",
       "      <td>KNeighborsRegressor</td>\n",
       "      <td>0.998794</td>\n",
       "      <td>-1.391476</td>\n",
       "      <td>0.006118</td>\n",
       "      <td>0.078219</td>\n",
       "    </tr>\n",
       "    <tr>\n",
       "      <th>2</th>\n",
       "      <td>DecisionTreeRegressor</td>\n",
       "      <td>0.994357</td>\n",
       "      <td>-0.910144</td>\n",
       "      <td>0.028616</td>\n",
       "      <td>0.169163</td>\n",
       "    </tr>\n",
       "    <tr>\n",
       "      <th>3</th>\n",
       "      <td>SVR</td>\n",
       "      <td>0.970163</td>\n",
       "      <td>-1.398226</td>\n",
       "      <td>0.151311</td>\n",
       "      <td>0.388987</td>\n",
       "    </tr>\n",
       "  </tbody>\n",
       "</table>\n",
       "</div>"
      ],
      "text/plain": [
       "                   Model   R2score  Cross_val_score  Mean Squared Error  \\\n",
       "0       LinearRegression  0.884123        -0.240118            0.587643   \n",
       "1    KNeighborsRegressor  0.998794        -1.391476            0.006118   \n",
       "2  DecisionTreeRegressor  0.994357        -0.910144            0.028616   \n",
       "3                    SVR  0.970163        -1.398226            0.151311   \n",
       "\n",
       "   Root Mean Squared Error  \n",
       "0                 0.766579  \n",
       "1                 0.078219  \n",
       "2                 0.169163  \n",
       "3                 0.388987  "
      ]
     },
     "execution_count": 56,
     "metadata": {},
     "output_type": "execute_result"
    }
   ],
   "source": [
    "result=pd.DataFrame({'Model':['LinearRegression','KNeighborsRegressor', 'DecisionTreeRegressor', 'SVR'],'R2score':score,'Cross_val_score':cv,'Mean Squared Error':Mean, 'Root Mean Squared Error': Root})\n",
    "result"
   ]
  },
  {
   "cell_type": "markdown",
   "metadata": {},
   "source": [
    "observation-\n",
    "as seen above the cross_val_score is negative, so to remove that we can do shuffling of the data"
   ]
  },
  {
   "cell_type": "markdown",
   "metadata": {},
   "source": [
    "### Shuffling the data\n",
    "Let us shuffle the data as in this dataset, one section will have high mortality (later dates) and one section will have very less (earlier dates). This will avoid in model to overfit or underfit and will give better scores\n"
   ]
  },
  {
   "cell_type": "code",
   "execution_count": 57,
   "metadata": {},
   "outputs": [],
   "source": [
    "cc2 = cc1.sample(frac=1).reset_index(drop=True)"
   ]
  },
  {
   "cell_type": "markdown",
   "metadata": {},
   "source": [
    "splitting the data into input and output variables"
   ]
  },
  {
   "cell_type": "code",
   "execution_count": 58,
   "metadata": {},
   "outputs": [
    {
     "data": {
      "text/html": [
       "<div>\n",
       "<style scoped>\n",
       "    .dataframe tbody tr th:only-of-type {\n",
       "        vertical-align: middle;\n",
       "    }\n",
       "\n",
       "    .dataframe tbody tr th {\n",
       "        vertical-align: top;\n",
       "    }\n",
       "\n",
       "    .dataframe thead th {\n",
       "        text-align: right;\n",
       "    }\n",
       "</style>\n",
       "<table border=\"1\" class=\"dataframe\">\n",
       "  <thead>\n",
       "    <tr style=\"text-align: right;\">\n",
       "      <th></th>\n",
       "      <th>Date</th>\n",
       "      <th>Country</th>\n",
       "      <th>Population</th>\n",
       "      <th>Total Tests</th>\n",
       "      <th>Total Cases</th>\n",
       "      <th>Total Recovered</th>\n",
       "      <th>Serious or Critical</th>\n",
       "      <th>Active Cases</th>\n",
       "      <th>Fraction age 0-14 years</th>\n",
       "      <th>Fraction age 15-64 years</th>\n",
       "      <th>Fraction age 65+ years</th>\n",
       "    </tr>\n",
       "  </thead>\n",
       "  <tbody>\n",
       "    <tr>\n",
       "      <th>0</th>\n",
       "      <td>27</td>\n",
       "      <td>92</td>\n",
       "      <td>19.425629</td>\n",
       "      <td>12.092921</td>\n",
       "      <td>9.710934</td>\n",
       "      <td>8.243808</td>\n",
       "      <td>0.000000</td>\n",
       "      <td>9.360311</td>\n",
       "      <td>0.274000</td>\n",
       "      <td>0.673000</td>\n",
       "      <td>0.051643</td>\n",
       "    </tr>\n",
       "    <tr>\n",
       "      <th>1</th>\n",
       "      <td>5</td>\n",
       "      <td>177</td>\n",
       "      <td>16.577779</td>\n",
       "      <td>8.095904</td>\n",
       "      <td>5.796058</td>\n",
       "      <td>2.197225</td>\n",
       "      <td>1.098612</td>\n",
       "      <td>5.720312</td>\n",
       "      <td>0.464000</td>\n",
       "      <td>0.508000</td>\n",
       "      <td>0.026642</td>\n",
       "    </tr>\n",
       "    <tr>\n",
       "      <th>2</th>\n",
       "      <td>1</td>\n",
       "      <td>29</td>\n",
       "      <td>15.754860</td>\n",
       "      <td>10.181801</td>\n",
       "      <td>6.796824</td>\n",
       "      <td>5.087596</td>\n",
       "      <td>3.610918</td>\n",
       "      <td>6.539586</td>\n",
       "      <td>0.142000</td>\n",
       "      <td>0.650000</td>\n",
       "      <td>0.188966</td>\n",
       "    </tr>\n",
       "    <tr>\n",
       "      <th>3</th>\n",
       "      <td>17</td>\n",
       "      <td>105</td>\n",
       "      <td>15.265448</td>\n",
       "      <td>12.187898</td>\n",
       "      <td>8.666475</td>\n",
       "      <td>7.617268</td>\n",
       "      <td>4.510860</td>\n",
       "      <td>8.224967</td>\n",
       "      <td>0.211000</td>\n",
       "      <td>0.766000</td>\n",
       "      <td>0.022739</td>\n",
       "    </tr>\n",
       "    <tr>\n",
       "      <th>4</th>\n",
       "      <td>21</td>\n",
       "      <td>160</td>\n",
       "      <td>13.704085</td>\n",
       "      <td>9.752723</td>\n",
       "      <td>6.068426</td>\n",
       "      <td>5.872118</td>\n",
       "      <td>1.791759</td>\n",
       "      <td>4.356709</td>\n",
       "      <td>0.276098</td>\n",
       "      <td>0.636109</td>\n",
       "      <td>0.084094</td>\n",
       "    </tr>\n",
       "  </tbody>\n",
       "</table>\n",
       "</div>"
      ],
      "text/plain": [
       "   Date  Country  Population  Total Tests  Total Cases  Total Recovered  \\\n",
       "0    27       92   19.425629    12.092921     9.710934         8.243808   \n",
       "1     5      177   16.577779     8.095904     5.796058         2.197225   \n",
       "2     1       29   15.754860    10.181801     6.796824         5.087596   \n",
       "3    17      105   15.265448    12.187898     8.666475         7.617268   \n",
       "4    21      160   13.704085     9.752723     6.068426         5.872118   \n",
       "\n",
       "   Serious or Critical  Active Cases  Fraction age 0-14 years  \\\n",
       "0             0.000000      9.360311                 0.274000   \n",
       "1             1.098612      5.720312                 0.464000   \n",
       "2             3.610918      6.539586                 0.142000   \n",
       "3             4.510860      8.224967                 0.211000   \n",
       "4             1.791759      4.356709                 0.276098   \n",
       "\n",
       "   Fraction age 15-64 years  Fraction age 65+ years  \n",
       "0                  0.673000                0.051643  \n",
       "1                  0.508000                0.026642  \n",
       "2                  0.650000                0.188966  \n",
       "3                  0.766000                0.022739  \n",
       "4                  0.636109                0.084094  "
      ]
     },
     "execution_count": 58,
     "metadata": {},
     "output_type": "execute_result"
    }
   ],
   "source": [
    "y=pd.DataFrame(cc2['Total Deaths'])\n",
    "x=cc2.drop('Total Deaths', axis=1)\n",
    "x.head()"
   ]
  },
  {
   "cell_type": "code",
   "execution_count": 59,
   "metadata": {},
   "outputs": [
    {
     "data": {
      "text/html": [
       "<div>\n",
       "<style scoped>\n",
       "    .dataframe tbody tr th:only-of-type {\n",
       "        vertical-align: middle;\n",
       "    }\n",
       "\n",
       "    .dataframe tbody tr th {\n",
       "        vertical-align: top;\n",
       "    }\n",
       "\n",
       "    .dataframe thead th {\n",
       "        text-align: right;\n",
       "    }\n",
       "</style>\n",
       "<table border=\"1\" class=\"dataframe\">\n",
       "  <thead>\n",
       "    <tr style=\"text-align: right;\">\n",
       "      <th></th>\n",
       "      <th>Total Deaths</th>\n",
       "    </tr>\n",
       "  </thead>\n",
       "  <tbody>\n",
       "    <tr>\n",
       "      <th>0</th>\n",
       "      <td>6.981935</td>\n",
       "    </tr>\n",
       "    <tr>\n",
       "      <th>1</th>\n",
       "      <td>2.833213</td>\n",
       "    </tr>\n",
       "    <tr>\n",
       "      <th>2</th>\n",
       "      <td>3.761200</td>\n",
       "    </tr>\n",
       "    <tr>\n",
       "      <th>3</th>\n",
       "      <td>3.713572</td>\n",
       "    </tr>\n",
       "    <tr>\n",
       "      <th>4</th>\n",
       "      <td>0.000000</td>\n",
       "    </tr>\n",
       "  </tbody>\n",
       "</table>\n",
       "</div>"
      ],
      "text/plain": [
       "   Total Deaths\n",
       "0      6.981935\n",
       "1      2.833213\n",
       "2      3.761200\n",
       "3      3.713572\n",
       "4      0.000000"
      ]
     },
     "execution_count": 59,
     "metadata": {},
     "output_type": "execute_result"
    }
   ],
   "source": [
    "y.head()"
   ]
  },
  {
   "cell_type": "markdown",
   "metadata": {},
   "source": [
    "#### Pre Processing the data"
   ]
  },
  {
   "cell_type": "code",
   "execution_count": 60,
   "metadata": {},
   "outputs": [
    {
     "data": {
      "text/html": [
       "<div>\n",
       "<style scoped>\n",
       "    .dataframe tbody tr th:only-of-type {\n",
       "        vertical-align: middle;\n",
       "    }\n",
       "\n",
       "    .dataframe tbody tr th {\n",
       "        vertical-align: top;\n",
       "    }\n",
       "\n",
       "    .dataframe thead th {\n",
       "        text-align: right;\n",
       "    }\n",
       "</style>\n",
       "<table border=\"1\" class=\"dataframe\">\n",
       "  <thead>\n",
       "    <tr style=\"text-align: right;\">\n",
       "      <th></th>\n",
       "      <th>0</th>\n",
       "      <th>1</th>\n",
       "      <th>2</th>\n",
       "      <th>3</th>\n",
       "      <th>4</th>\n",
       "      <th>5</th>\n",
       "      <th>6</th>\n",
       "      <th>7</th>\n",
       "      <th>8</th>\n",
       "      <th>9</th>\n",
       "      <th>10</th>\n",
       "    </tr>\n",
       "  </thead>\n",
       "  <tbody>\n",
       "    <tr>\n",
       "      <th>0</th>\n",
       "      <td>0.900000</td>\n",
       "      <td>0.433962</td>\n",
       "      <td>1.000000</td>\n",
       "      <td>0.826785</td>\n",
       "      <td>0.820486</td>\n",
       "      <td>0.735463</td>\n",
       "      <td>0.000000</td>\n",
       "      <td>0.800927</td>\n",
       "      <td>0.410853</td>\n",
       "      <td>0.654723</td>\n",
       "      <td>0.172744</td>\n",
       "    </tr>\n",
       "    <tr>\n",
       "      <th>1</th>\n",
       "      <td>0.166667</td>\n",
       "      <td>0.834906</td>\n",
       "      <td>0.776438</td>\n",
       "      <td>0.553512</td>\n",
       "      <td>0.489715</td>\n",
       "      <td>0.196023</td>\n",
       "      <td>0.134559</td>\n",
       "      <td>0.489466</td>\n",
       "      <td>0.901809</td>\n",
       "      <td>0.117264</td>\n",
       "      <td>0.028213</td>\n",
       "    </tr>\n",
       "    <tr>\n",
       "      <th>2</th>\n",
       "      <td>0.033333</td>\n",
       "      <td>0.136792</td>\n",
       "      <td>0.711837</td>\n",
       "      <td>0.696123</td>\n",
       "      <td>0.574270</td>\n",
       "      <td>0.453885</td>\n",
       "      <td>0.442270</td>\n",
       "      <td>0.559568</td>\n",
       "      <td>0.069767</td>\n",
       "      <td>0.579805</td>\n",
       "      <td>0.966598</td>\n",
       "    </tr>\n",
       "    <tr>\n",
       "      <th>3</th>\n",
       "      <td>0.566667</td>\n",
       "      <td>0.495283</td>\n",
       "      <td>0.673417</td>\n",
       "      <td>0.833278</td>\n",
       "      <td>0.732239</td>\n",
       "      <td>0.679567</td>\n",
       "      <td>0.552496</td>\n",
       "      <td>0.703779</td>\n",
       "      <td>0.248062</td>\n",
       "      <td>0.957655</td>\n",
       "      <td>0.005654</td>\n",
       "    </tr>\n",
       "    <tr>\n",
       "      <th>4</th>\n",
       "      <td>0.700000</td>\n",
       "      <td>0.754717</td>\n",
       "      <td>0.550847</td>\n",
       "      <td>0.666787</td>\n",
       "      <td>0.512727</td>\n",
       "      <td>0.523875</td>\n",
       "      <td>0.219457</td>\n",
       "      <td>0.372787</td>\n",
       "      <td>0.416273</td>\n",
       "      <td>0.534557</td>\n",
       "      <td>0.360337</td>\n",
       "    </tr>\n",
       "  </tbody>\n",
       "</table>\n",
       "</div>"
      ],
      "text/plain": [
       "          0         1         2         3         4         5         6  \\\n",
       "0  0.900000  0.433962  1.000000  0.826785  0.820486  0.735463  0.000000   \n",
       "1  0.166667  0.834906  0.776438  0.553512  0.489715  0.196023  0.134559   \n",
       "2  0.033333  0.136792  0.711837  0.696123  0.574270  0.453885  0.442270   \n",
       "3  0.566667  0.495283  0.673417  0.833278  0.732239  0.679567  0.552496   \n",
       "4  0.700000  0.754717  0.550847  0.666787  0.512727  0.523875  0.219457   \n",
       "\n",
       "          7         8         9        10  \n",
       "0  0.800927  0.410853  0.654723  0.172744  \n",
       "1  0.489466  0.901809  0.117264  0.028213  \n",
       "2  0.559568  0.069767  0.579805  0.966598  \n",
       "3  0.703779  0.248062  0.957655  0.005654  \n",
       "4  0.372787  0.416273  0.534557  0.360337  "
      ]
     },
     "execution_count": 60,
     "metadata": {},
     "output_type": "execute_result"
    }
   ],
   "source": [
    "x=pd.DataFrame(scaler.fit_transform(x))\n",
    "x.head()"
   ]
  },
  {
   "cell_type": "code",
   "execution_count": 61,
   "metadata": {},
   "outputs": [],
   "source": [
    "#Checking the best random state for finalising the train and test data\n",
    "#importing necessary libraries\n",
    "from sklearn.model_selection import train_test_split\n",
    "from sklearn.linear_model import LinearRegression\n",
    "from sklearn.metrics import r2_score, mean_squared_error, mean_absolute_error\n",
    "\n",
    "def max_r2_score(reg,x,y):\n",
    "    max_r2score=0\n",
    "    for r_state in range(42,101):\n",
    "        train_x,test_x,train_y,test_y=train_test_split(x,y,random_state=r_state,test_size=0.20)\n",
    "        reg.fit(train_x,train_y)\n",
    "        pred=reg.predict(test_x)\n",
    "        r2score=r2_score(test_y,pred)\n",
    "        if r2score>max_r2score:\n",
    "            max_r2score=r2score\n",
    "            final_r_state=r_state\n",
    "    print(\"The maximum r2 score\", max_r2score, \"is achieved at random state\", final_r_state)"
   ]
  },
  {
   "cell_type": "code",
   "execution_count": 62,
   "metadata": {},
   "outputs": [
    {
     "name": "stdout",
     "output_type": "stream",
     "text": [
      "The maximum r2 score 0.8921879269006774 is achieved at random state 49\n"
     ]
    }
   ],
   "source": [
    "lr=LinearRegression()\n",
    "max_r2_score(lr,x,y)"
   ]
  },
  {
   "cell_type": "code",
   "execution_count": 63,
   "metadata": {},
   "outputs": [],
   "source": [
    "#Finalising the train test data\n",
    "train_x,test_x,train_y,test_y=train_test_split(x,y,random_state=46,test_size=0.20)"
   ]
  },
  {
   "cell_type": "code",
   "execution_count": 64,
   "metadata": {},
   "outputs": [
    {
     "data": {
      "text/plain": [
       "{'n_neighbors': 1}"
      ]
     },
     "execution_count": 64,
     "metadata": {},
     "output_type": "execute_result"
    }
   ],
   "source": [
    "#Let us check the performances of other models and to derive at the best parameters for the models, let us use Gridsearchcv\n",
    "from sklearn.model_selection import GridSearchCV\n",
    "from sklearn.neighbors import KNeighborsRegressor\n",
    "kn=KNeighborsRegressor()\n",
    "parameters={'n_neighbors':(1,10)}\n",
    "gdk=GridSearchCV(kn,parameters)\n",
    "gdk.fit(train_x,train_y)\n",
    "gdk.best_params_"
   ]
  },
  {
   "cell_type": "code",
   "execution_count": 65,
   "metadata": {},
   "outputs": [
    {
     "data": {
      "text/plain": [
       "{'criterion': 'mae'}"
      ]
     },
     "execution_count": 65,
     "metadata": {},
     "output_type": "execute_result"
    }
   ],
   "source": [
    "from sklearn.tree import DecisionTreeRegressor\n",
    "dt=DecisionTreeRegressor()\n",
    "parameters={'criterion':('mse','friedman_mse','mae')}\n",
    "gdd=GridSearchCV(dt,parameters)\n",
    "gdd.fit(train_x,train_y)\n",
    "gdd.best_params_"
   ]
  },
  {
   "cell_type": "code",
   "execution_count": 66,
   "metadata": {},
   "outputs": [
    {
     "data": {
      "text/plain": [
       "{'C': 10, 'kernel': 'rbf'}"
      ]
     },
     "execution_count": 66,
     "metadata": {},
     "output_type": "execute_result"
    }
   ],
   "source": [
    "from sklearn.svm import SVR\n",
    "sv=SVR()\n",
    "parameters={'kernel':('linear','rbf'), 'C':[1,10]}\n",
    "gdsr=GridSearchCV(sv,parameters)\n",
    "gdsr.fit(train_x,train_y)\n",
    "gdsr.best_params_"
   ]
  },
  {
   "cell_type": "code",
   "execution_count": 67,
   "metadata": {},
   "outputs": [
    {
     "name": "stdout",
     "output_type": "stream",
     "text": [
      "LinearRegression(copy_X=True, fit_intercept=True, n_jobs=None, normalize=False)\n",
      "The r2 score is 0.8789626346870625\n",
      "The cross val score is 0.8775669925166618\n",
      "The mean squared error is 0.6530150951760134\n",
      "The root mean squared error is 0.8080934940809841\n",
      "\n",
      "\n",
      "\n",
      "\n",
      "KNeighborsRegressor(algorithm='auto', leaf_size=30, metric='minkowski',\n",
      "                    metric_params=None, n_jobs=None, n_neighbors=1, p=2,\n",
      "                    weights='uniform')\n",
      "The r2 score is 0.9989000079812053\n",
      "The cross val score is 0.9990504523593685\n",
      "The mean squared error is 0.0059346251547110354\n",
      "The root mean squared error is 0.07703651831898321\n",
      "\n",
      "\n",
      "\n",
      "\n",
      "DecisionTreeRegressor(ccp_alpha=0.0, criterion='mae', max_depth=None,\n",
      "                      max_features=None, max_leaf_nodes=None,\n",
      "                      min_impurity_decrease=0.0, min_impurity_split=None,\n",
      "                      min_samples_leaf=1, min_samples_split=2,\n",
      "                      min_weight_fraction_leaf=0.0, presort='deprecated',\n",
      "                      random_state=None, splitter='best')\n",
      "The r2 score is 0.9941167408014252\n",
      "The cross val score is 0.9945313392307918\n",
      "The mean squared error is 0.03174108305785992\n",
      "The root mean squared error is 0.1781602735119699\n",
      "\n",
      "\n",
      "\n",
      "\n",
      "SVR(C=10, cache_size=200, coef0=0.0, degree=3, epsilon=0.1, gamma='scale',\n",
      "    kernel='rbf', max_iter=-1, shrinking=True, tol=0.001, verbose=False)\n",
      "The r2 score is 0.9708663951167915\n",
      "The cross val score is 0.9692265086097376\n",
      "The mean squared error is 0.1571802535228783\n",
      "The root mean squared error is 0.39645964929974686\n",
      "\n",
      "\n",
      "\n",
      "\n"
     ]
    }
   ],
   "source": [
    "score=[]\n",
    "cv=[]\n",
    "Mean=[]\n",
    "Root=[]\n",
    "\n",
    "from sklearn.model_selection import cross_val_score\n",
    "\n",
    "models=[LinearRegression(),KNeighborsRegressor(n_neighbors=1),DecisionTreeRegressor(criterion='mae'),SVR(C=10,kernel='rbf')]\n",
    "\n",
    "for i in models:\n",
    "    i.fit(train_x,train_y)\n",
    "    pred=i.predict(test_x)\n",
    "    print(i)\n",
    "    r2score=r2_score(test_y,pred)\n",
    "    score.append(r2score)\n",
    "    print(\"The r2 score is\", r2score)\n",
    "    cscore=cross_val_score(i,x,y,cv=5,scoring='r2').mean()\n",
    "    cv.append(cscore)\n",
    "    print(\"The cross val score is\", cscore)\n",
    "    meanerror=mean_squared_error(test_y,pred)\n",
    "    Mean.append(meanerror)\n",
    "    print(\"The mean squared error is\", meanerror)\n",
    "    rooterror=np.sqrt(meanerror)\n",
    "    print(\"The root mean squared error is\", rooterror)\n",
    "    Root.append(rooterror)\n",
    "    print(\"\\n\")\n",
    "    print(\"\\n\")\n",
    "\n"
   ]
  },
  {
   "cell_type": "code",
   "execution_count": 68,
   "metadata": {},
   "outputs": [
    {
     "data": {
      "text/html": [
       "<div>\n",
       "<style scoped>\n",
       "    .dataframe tbody tr th:only-of-type {\n",
       "        vertical-align: middle;\n",
       "    }\n",
       "\n",
       "    .dataframe tbody tr th {\n",
       "        vertical-align: top;\n",
       "    }\n",
       "\n",
       "    .dataframe thead th {\n",
       "        text-align: right;\n",
       "    }\n",
       "</style>\n",
       "<table border=\"1\" class=\"dataframe\">\n",
       "  <thead>\n",
       "    <tr style=\"text-align: right;\">\n",
       "      <th></th>\n",
       "      <th>Model</th>\n",
       "      <th>R2score</th>\n",
       "      <th>Cross_val_score</th>\n",
       "      <th>Mean Squared Error</th>\n",
       "      <th>Root Mean Squared Error</th>\n",
       "    </tr>\n",
       "  </thead>\n",
       "  <tbody>\n",
       "    <tr>\n",
       "      <th>0</th>\n",
       "      <td>LinearRegression</td>\n",
       "      <td>0.878963</td>\n",
       "      <td>0.877567</td>\n",
       "      <td>0.653015</td>\n",
       "      <td>0.808093</td>\n",
       "    </tr>\n",
       "    <tr>\n",
       "      <th>1</th>\n",
       "      <td>KNeighborsRegressor</td>\n",
       "      <td>0.998900</td>\n",
       "      <td>0.999050</td>\n",
       "      <td>0.005935</td>\n",
       "      <td>0.077037</td>\n",
       "    </tr>\n",
       "    <tr>\n",
       "      <th>2</th>\n",
       "      <td>DecisionTreeRegressor</td>\n",
       "      <td>0.994117</td>\n",
       "      <td>0.994531</td>\n",
       "      <td>0.031741</td>\n",
       "      <td>0.178160</td>\n",
       "    </tr>\n",
       "    <tr>\n",
       "      <th>3</th>\n",
       "      <td>SVR</td>\n",
       "      <td>0.970866</td>\n",
       "      <td>0.969227</td>\n",
       "      <td>0.157180</td>\n",
       "      <td>0.396460</td>\n",
       "    </tr>\n",
       "  </tbody>\n",
       "</table>\n",
       "</div>"
      ],
      "text/plain": [
       "                   Model   R2score  Cross_val_score  Mean Squared Error  \\\n",
       "0       LinearRegression  0.878963         0.877567            0.653015   \n",
       "1    KNeighborsRegressor  0.998900         0.999050            0.005935   \n",
       "2  DecisionTreeRegressor  0.994117         0.994531            0.031741   \n",
       "3                    SVR  0.970866         0.969227            0.157180   \n",
       "\n",
       "   Root Mean Squared Error  \n",
       "0                 0.808093  \n",
       "1                 0.077037  \n",
       "2                 0.178160  \n",
       "3                 0.396460  "
      ]
     },
     "execution_count": 68,
     "metadata": {},
     "output_type": "execute_result"
    }
   ],
   "source": [
    "result=pd.DataFrame({'Model':['LinearRegression','KNeighborsRegressor', 'DecisionTreeRegressor', 'SVR'],'R2score':score,'Cross_val_score':cv,'Mean Squared Error':Mean, 'Root Mean Squared Error': Root})\n",
    "result"
   ]
  },
  {
   "cell_type": "code",
   "execution_count": 69,
   "metadata": {},
   "outputs": [
    {
     "name": "stdout",
     "output_type": "stream",
     "text": [
      "The r2 score is  0.9988974476795953\n",
      "The cross val score is 0.9990504523593685\n"
     ]
    }
   ],
   "source": [
    "kn=KNeighborsRegressor(n_neighbors= 1)\n",
    "kn.fit(train_x,train_y)\n",
    "pred=kn.predict(test_x)\n",
    "r2score=r2_score(pred,test_y)\n",
    "print(\"The r2 score is \", r2score)\n",
    "crossscore=cross_val_score(kn,x,y,cv=5,scoring='r2').mean()\n",
    "print(\"The cross val score is\", crossscore)"
   ]
  },
  {
   "cell_type": "code",
   "execution_count": 70,
   "metadata": {},
   "outputs": [
    {
     "data": {
      "text/plain": [
       "['Project18_COVID19.pkl']"
      ]
     },
     "execution_count": 70,
     "metadata": {},
     "output_type": "execute_result"
    }
   ],
   "source": [
    "# saving the model\n",
    "from sklearn.externals import joblib\n",
    "joblib.dump(kn,\"Project18_COVID19.pkl\")"
   ]
  },
  {
   "cell_type": "code",
   "execution_count": null,
   "metadata": {},
   "outputs": [],
   "source": []
  }
 ],
 "metadata": {
  "kernelspec": {
   "display_name": "Python 3",
   "language": "python",
   "name": "python3"
  },
  "language_info": {
   "codemirror_mode": {
    "name": "ipython",
    "version": 3
   },
   "file_extension": ".py",
   "mimetype": "text/x-python",
   "name": "python",
   "nbconvert_exporter": "python",
   "pygments_lexer": "ipython3",
   "version": "3.7.6"
  }
 },
 "nbformat": 4,
 "nbformat_minor": 4
}
