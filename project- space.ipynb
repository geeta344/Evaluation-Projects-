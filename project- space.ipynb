{
 "cells": [
  {
   "cell_type": "markdown",
   "metadata": {},
   "source": [
    "##SUMMARY\n",
    "\n",
    "Context\n",
    "\n",
    "I was looking for an unused and interesting dataset to improve my data science skills on when my professor mentioned the Sloan Digital Sky Survey which offers public data of space observations. As I found the data to be super insightful I want to share the data.\n",
    "\n",
    "Content\n",
    "\n",
    "The data consists of 10,000 observations of space taken by the SDSS. Every observation is described by 17 feature columns and 1 class column which identifies it to be either a star, galaxy or quasar.\n",
    "\n",
    "Feature Description\n",
    "\n",
    "The table results from a query which joins two tables (actuaclly views): \"PhotoObj\" which contains photometric data and \"SpecObj\" which contains spectral data.\n",
    "\n",
    "To ease your start with the data you can read the feature descriptions below:\n",
    "View \"PhotoObj\"\n",
    "objid = Object Identifier\n",
    "ra = J2000 Right Ascension (r-band)\n",
    "dec = J2000 Declination (r-band)\n",
    "Right ascension (abbreviated RA) is the angular distance measured eastward along the celestial equator from the Sun at the March equinox to the hour circle of the point above the earth in question. When paired with declination (abbreviated dec), these astronomical coordinates specify the direction of a point on the celestial sphere (traditionally called in English the skies or the sky) in the equatorial coordinate system.\n",
    "u = better of DeV/Exp magnitude fit\n",
    "g = better of DeV/Exp magnitude fit\n",
    "r = better of DeV/Exp magnitude fit\n",
    "i = better of DeV/Exp magnitude fit\n",
    "z = better of DeV/Exp magnitude fit\n",
    "The Thuan-Gunn astronomic magnitude system. u, g, r, i, z represent the response of the 5 bands of the telescope.\n",
    "\n",
    "run = Run Number\n",
    "rereun = Rerun Number\n",
    "camcol = Camera column\n",
    "field = Field number\n",
    "Run, rerun, camcol and field are features which describe a field within an image taken by the SDSS. A field is basically a part of the entire image corresponding to 2048 by 1489 pixels. A field can be identified by:\n",
    "\n",
    "run number, which identifies the specific scan,\n",
    "the camera column, or \"camcol,\" a number from 1 to 6, identifying the scanline within the run, and\n",
    "the field number. The field number typically starts at 11 (after an initial rampup time), and can be as large as 800 for particularly long runs.\n",
    "An additional number, rerun, specifies how the image was processed.\n",
    "View \"SpecObj\"\n",
    "specobjid = Object Identifier\n",
    "class = object class (galaxy, star or quasar object)\n",
    "The class identifies an object to be either a galaxy, star or quasar. This will be the response variable which we will be trying to predict.\n",
    "\n",
    "redshift = Final Redshift\n",
    "plate = plate number\n",
    "mjd = MJD of observation\n",
    "fiberid = fiber ID\n",
    "In physics, redshift happens when light or other electromagnetic radiation from an object is increased in wavelength, or shifted to the red end of the spectrum.\n",
    "Each spectroscopic exposure employs a large, thin, circular metal plate that positions optical fibers via holes drilled at the locations of the images in the telescope focal plane. These fibers then feed into the spectrographs. Each plate has a unique serial number, which is called plate in views such as SpecObj in the CAS.\n",
    "Modified Julian Date, used to indicate the date that a given piece of SDSS data (image or spectrum) was taken.\n",
    "The SDSS spectrograph uses optical fibers to direct the light at the focal plane from individual objects to the slithead. Each object is assigned a corresponding fiberID.\n",
    "\n"
   ]
  },
  {
   "cell_type": "code",
   "execution_count": 1,
   "metadata": {},
   "outputs": [],
   "source": [
    "import pandas as pd\n",
    "import numpy as np\n",
    "import matplotlib.pyplot as plt\n",
    "import seaborn as sns\n",
    "import warnings\n",
    "warnings.filterwarnings('ignore')"
   ]
  },
  {
   "cell_type": "code",
   "execution_count": 2,
   "metadata": {},
   "outputs": [
    {
     "data": {
      "text/html": [
       "<div>\n",
       "<style scoped>\n",
       "    .dataframe tbody tr th:only-of-type {\n",
       "        vertical-align: middle;\n",
       "    }\n",
       "\n",
       "    .dataframe tbody tr th {\n",
       "        vertical-align: top;\n",
       "    }\n",
       "\n",
       "    .dataframe thead th {\n",
       "        text-align: right;\n",
       "    }\n",
       "</style>\n",
       "<table border=\"1\" class=\"dataframe\">\n",
       "  <thead>\n",
       "    <tr style=\"text-align: right;\">\n",
       "      <th></th>\n",
       "      <th>objid</th>\n",
       "      <th>ra</th>\n",
       "      <th>dec</th>\n",
       "      <th>u</th>\n",
       "      <th>g</th>\n",
       "      <th>r</th>\n",
       "      <th>i</th>\n",
       "      <th>z</th>\n",
       "      <th>run</th>\n",
       "      <th>rerun</th>\n",
       "      <th>camcol</th>\n",
       "      <th>field</th>\n",
       "      <th>specobjid</th>\n",
       "      <th>class</th>\n",
       "      <th>redshift</th>\n",
       "      <th>plate</th>\n",
       "      <th>mjd</th>\n",
       "      <th>fiberid</th>\n",
       "    </tr>\n",
       "  </thead>\n",
       "  <tbody>\n",
       "    <tr>\n",
       "      <th>0</th>\n",
       "      <td>1.237650e+18</td>\n",
       "      <td>183.531326</td>\n",
       "      <td>0.089693</td>\n",
       "      <td>19.47406</td>\n",
       "      <td>17.04240</td>\n",
       "      <td>15.94699</td>\n",
       "      <td>15.50342</td>\n",
       "      <td>15.22531</td>\n",
       "      <td>752</td>\n",
       "      <td>301</td>\n",
       "      <td>4</td>\n",
       "      <td>267</td>\n",
       "      <td>3.722360e+18</td>\n",
       "      <td>STAR</td>\n",
       "      <td>-0.000009</td>\n",
       "      <td>3306</td>\n",
       "      <td>54922</td>\n",
       "      <td>491</td>\n",
       "    </tr>\n",
       "    <tr>\n",
       "      <th>1</th>\n",
       "      <td>1.237650e+18</td>\n",
       "      <td>183.598371</td>\n",
       "      <td>0.135285</td>\n",
       "      <td>18.66280</td>\n",
       "      <td>17.21449</td>\n",
       "      <td>16.67637</td>\n",
       "      <td>16.48922</td>\n",
       "      <td>16.39150</td>\n",
       "      <td>752</td>\n",
       "      <td>301</td>\n",
       "      <td>4</td>\n",
       "      <td>267</td>\n",
       "      <td>3.638140e+17</td>\n",
       "      <td>STAR</td>\n",
       "      <td>-0.000055</td>\n",
       "      <td>323</td>\n",
       "      <td>51615</td>\n",
       "      <td>541</td>\n",
       "    </tr>\n",
       "    <tr>\n",
       "      <th>2</th>\n",
       "      <td>1.237650e+18</td>\n",
       "      <td>183.680207</td>\n",
       "      <td>0.126185</td>\n",
       "      <td>19.38298</td>\n",
       "      <td>18.19169</td>\n",
       "      <td>17.47428</td>\n",
       "      <td>17.08732</td>\n",
       "      <td>16.80125</td>\n",
       "      <td>752</td>\n",
       "      <td>301</td>\n",
       "      <td>4</td>\n",
       "      <td>268</td>\n",
       "      <td>3.232740e+17</td>\n",
       "      <td>GALAXY</td>\n",
       "      <td>0.123111</td>\n",
       "      <td>287</td>\n",
       "      <td>52023</td>\n",
       "      <td>513</td>\n",
       "    </tr>\n",
       "    <tr>\n",
       "      <th>3</th>\n",
       "      <td>1.237650e+18</td>\n",
       "      <td>183.870529</td>\n",
       "      <td>0.049911</td>\n",
       "      <td>17.76536</td>\n",
       "      <td>16.60272</td>\n",
       "      <td>16.16116</td>\n",
       "      <td>15.98233</td>\n",
       "      <td>15.90438</td>\n",
       "      <td>752</td>\n",
       "      <td>301</td>\n",
       "      <td>4</td>\n",
       "      <td>269</td>\n",
       "      <td>3.722370e+18</td>\n",
       "      <td>STAR</td>\n",
       "      <td>-0.000111</td>\n",
       "      <td>3306</td>\n",
       "      <td>54922</td>\n",
       "      <td>510</td>\n",
       "    </tr>\n",
       "    <tr>\n",
       "      <th>4</th>\n",
       "      <td>1.237650e+18</td>\n",
       "      <td>183.883288</td>\n",
       "      <td>0.102557</td>\n",
       "      <td>17.55025</td>\n",
       "      <td>16.26342</td>\n",
       "      <td>16.43869</td>\n",
       "      <td>16.55492</td>\n",
       "      <td>16.61326</td>\n",
       "      <td>752</td>\n",
       "      <td>301</td>\n",
       "      <td>4</td>\n",
       "      <td>269</td>\n",
       "      <td>3.722370e+18</td>\n",
       "      <td>STAR</td>\n",
       "      <td>0.000590</td>\n",
       "      <td>3306</td>\n",
       "      <td>54922</td>\n",
       "      <td>512</td>\n",
       "    </tr>\n",
       "    <tr>\n",
       "      <th>...</th>\n",
       "      <td>...</td>\n",
       "      <td>...</td>\n",
       "      <td>...</td>\n",
       "      <td>...</td>\n",
       "      <td>...</td>\n",
       "      <td>...</td>\n",
       "      <td>...</td>\n",
       "      <td>...</td>\n",
       "      <td>...</td>\n",
       "      <td>...</td>\n",
       "      <td>...</td>\n",
       "      <td>...</td>\n",
       "      <td>...</td>\n",
       "      <td>...</td>\n",
       "      <td>...</td>\n",
       "      <td>...</td>\n",
       "      <td>...</td>\n",
       "      <td>...</td>\n",
       "    </tr>\n",
       "    <tr>\n",
       "      <th>9995</th>\n",
       "      <td>1.237650e+18</td>\n",
       "      <td>131.316413</td>\n",
       "      <td>51.539547</td>\n",
       "      <td>18.81777</td>\n",
       "      <td>17.47053</td>\n",
       "      <td>16.91508</td>\n",
       "      <td>16.68305</td>\n",
       "      <td>16.50570</td>\n",
       "      <td>1345</td>\n",
       "      <td>301</td>\n",
       "      <td>3</td>\n",
       "      <td>161</td>\n",
       "      <td>5.033450e+17</td>\n",
       "      <td>GALAXY</td>\n",
       "      <td>0.027583</td>\n",
       "      <td>447</td>\n",
       "      <td>51877</td>\n",
       "      <td>246</td>\n",
       "    </tr>\n",
       "    <tr>\n",
       "      <th>9996</th>\n",
       "      <td>1.237650e+18</td>\n",
       "      <td>131.306083</td>\n",
       "      <td>51.671341</td>\n",
       "      <td>18.27255</td>\n",
       "      <td>17.43849</td>\n",
       "      <td>17.07692</td>\n",
       "      <td>16.71661</td>\n",
       "      <td>16.69897</td>\n",
       "      <td>1345</td>\n",
       "      <td>301</td>\n",
       "      <td>3</td>\n",
       "      <td>162</td>\n",
       "      <td>5.033400e+17</td>\n",
       "      <td>GALAXY</td>\n",
       "      <td>0.117772</td>\n",
       "      <td>447</td>\n",
       "      <td>51877</td>\n",
       "      <td>228</td>\n",
       "    </tr>\n",
       "    <tr>\n",
       "      <th>9997</th>\n",
       "      <td>1.237650e+18</td>\n",
       "      <td>131.552562</td>\n",
       "      <td>51.666986</td>\n",
       "      <td>18.75818</td>\n",
       "      <td>17.77784</td>\n",
       "      <td>17.51872</td>\n",
       "      <td>17.43302</td>\n",
       "      <td>17.42048</td>\n",
       "      <td>1345</td>\n",
       "      <td>301</td>\n",
       "      <td>3</td>\n",
       "      <td>162</td>\n",
       "      <td>8.222620e+18</td>\n",
       "      <td>STAR</td>\n",
       "      <td>-0.000402</td>\n",
       "      <td>7303</td>\n",
       "      <td>57013</td>\n",
       "      <td>622</td>\n",
       "    </tr>\n",
       "    <tr>\n",
       "      <th>9998</th>\n",
       "      <td>1.237650e+18</td>\n",
       "      <td>131.477151</td>\n",
       "      <td>51.753068</td>\n",
       "      <td>18.88287</td>\n",
       "      <td>17.91068</td>\n",
       "      <td>17.53152</td>\n",
       "      <td>17.36284</td>\n",
       "      <td>17.13988</td>\n",
       "      <td>1345</td>\n",
       "      <td>301</td>\n",
       "      <td>3</td>\n",
       "      <td>163</td>\n",
       "      <td>5.033400e+17</td>\n",
       "      <td>GALAXY</td>\n",
       "      <td>0.014019</td>\n",
       "      <td>447</td>\n",
       "      <td>51877</td>\n",
       "      <td>229</td>\n",
       "    </tr>\n",
       "    <tr>\n",
       "      <th>9999</th>\n",
       "      <td>1.237650e+18</td>\n",
       "      <td>131.665012</td>\n",
       "      <td>51.805307</td>\n",
       "      <td>19.27586</td>\n",
       "      <td>17.37829</td>\n",
       "      <td>16.30542</td>\n",
       "      <td>15.83548</td>\n",
       "      <td>15.50588</td>\n",
       "      <td>1345</td>\n",
       "      <td>301</td>\n",
       "      <td>3</td>\n",
       "      <td>163</td>\n",
       "      <td>5.033410e+17</td>\n",
       "      <td>GALAXY</td>\n",
       "      <td>0.118417</td>\n",
       "      <td>447</td>\n",
       "      <td>51877</td>\n",
       "      <td>233</td>\n",
       "    </tr>\n",
       "  </tbody>\n",
       "</table>\n",
       "<p>10000 rows × 18 columns</p>\n",
       "</div>"
      ],
      "text/plain": [
       "             objid          ra        dec         u         g         r  \\\n",
       "0     1.237650e+18  183.531326   0.089693  19.47406  17.04240  15.94699   \n",
       "1     1.237650e+18  183.598371   0.135285  18.66280  17.21449  16.67637   \n",
       "2     1.237650e+18  183.680207   0.126185  19.38298  18.19169  17.47428   \n",
       "3     1.237650e+18  183.870529   0.049911  17.76536  16.60272  16.16116   \n",
       "4     1.237650e+18  183.883288   0.102557  17.55025  16.26342  16.43869   \n",
       "...            ...         ...        ...       ...       ...       ...   \n",
       "9995  1.237650e+18  131.316413  51.539547  18.81777  17.47053  16.91508   \n",
       "9996  1.237650e+18  131.306083  51.671341  18.27255  17.43849  17.07692   \n",
       "9997  1.237650e+18  131.552562  51.666986  18.75818  17.77784  17.51872   \n",
       "9998  1.237650e+18  131.477151  51.753068  18.88287  17.91068  17.53152   \n",
       "9999  1.237650e+18  131.665012  51.805307  19.27586  17.37829  16.30542   \n",
       "\n",
       "             i         z   run  rerun  camcol  field     specobjid   class  \\\n",
       "0     15.50342  15.22531   752    301       4    267  3.722360e+18    STAR   \n",
       "1     16.48922  16.39150   752    301       4    267  3.638140e+17    STAR   \n",
       "2     17.08732  16.80125   752    301       4    268  3.232740e+17  GALAXY   \n",
       "3     15.98233  15.90438   752    301       4    269  3.722370e+18    STAR   \n",
       "4     16.55492  16.61326   752    301       4    269  3.722370e+18    STAR   \n",
       "...        ...       ...   ...    ...     ...    ...           ...     ...   \n",
       "9995  16.68305  16.50570  1345    301       3    161  5.033450e+17  GALAXY   \n",
       "9996  16.71661  16.69897  1345    301       3    162  5.033400e+17  GALAXY   \n",
       "9997  17.43302  17.42048  1345    301       3    162  8.222620e+18    STAR   \n",
       "9998  17.36284  17.13988  1345    301       3    163  5.033400e+17  GALAXY   \n",
       "9999  15.83548  15.50588  1345    301       3    163  5.033410e+17  GALAXY   \n",
       "\n",
       "      redshift  plate    mjd  fiberid  \n",
       "0    -0.000009   3306  54922      491  \n",
       "1    -0.000055    323  51615      541  \n",
       "2     0.123111    287  52023      513  \n",
       "3    -0.000111   3306  54922      510  \n",
       "4     0.000590   3306  54922      512  \n",
       "...        ...    ...    ...      ...  \n",
       "9995  0.027583    447  51877      246  \n",
       "9996  0.117772    447  51877      228  \n",
       "9997 -0.000402   7303  57013      622  \n",
       "9998  0.014019    447  51877      229  \n",
       "9999  0.118417    447  51877      233  \n",
       "\n",
       "[10000 rows x 18 columns]"
      ]
     },
     "execution_count": 2,
     "metadata": {},
     "output_type": "execute_result"
    }
   ],
   "source": [
    "space=pd.read_csv('https://raw.githubusercontent.com/dsrscientist/dataset1/master/Skyserver.csv')\n",
    "space"
   ]
  },
  {
   "cell_type": "code",
   "execution_count": 3,
   "metadata": {},
   "outputs": [
    {
     "data": {
      "text/html": [
       "<div>\n",
       "<style scoped>\n",
       "    .dataframe tbody tr th:only-of-type {\n",
       "        vertical-align: middle;\n",
       "    }\n",
       "\n",
       "    .dataframe tbody tr th {\n",
       "        vertical-align: top;\n",
       "    }\n",
       "\n",
       "    .dataframe thead th {\n",
       "        text-align: right;\n",
       "    }\n",
       "</style>\n",
       "<table border=\"1\" class=\"dataframe\">\n",
       "  <thead>\n",
       "    <tr style=\"text-align: right;\">\n",
       "      <th></th>\n",
       "      <th>objid</th>\n",
       "      <th>ra</th>\n",
       "      <th>dec</th>\n",
       "      <th>u</th>\n",
       "      <th>g</th>\n",
       "      <th>r</th>\n",
       "      <th>i</th>\n",
       "      <th>z</th>\n",
       "      <th>run</th>\n",
       "      <th>rerun</th>\n",
       "      <th>camcol</th>\n",
       "      <th>field</th>\n",
       "      <th>specobjid</th>\n",
       "      <th>class</th>\n",
       "      <th>redshift</th>\n",
       "      <th>plate</th>\n",
       "      <th>mjd</th>\n",
       "      <th>fiberid</th>\n",
       "    </tr>\n",
       "  </thead>\n",
       "  <tbody>\n",
       "    <tr>\n",
       "      <th>0</th>\n",
       "      <td>1.237650e+18</td>\n",
       "      <td>183.531326</td>\n",
       "      <td>0.089693</td>\n",
       "      <td>19.47406</td>\n",
       "      <td>17.04240</td>\n",
       "      <td>15.94699</td>\n",
       "      <td>15.50342</td>\n",
       "      <td>15.22531</td>\n",
       "      <td>752</td>\n",
       "      <td>301</td>\n",
       "      <td>4</td>\n",
       "      <td>267</td>\n",
       "      <td>3.722360e+18</td>\n",
       "      <td>STAR</td>\n",
       "      <td>-0.000009</td>\n",
       "      <td>3306</td>\n",
       "      <td>54922</td>\n",
       "      <td>491</td>\n",
       "    </tr>\n",
       "    <tr>\n",
       "      <th>1</th>\n",
       "      <td>1.237650e+18</td>\n",
       "      <td>183.598371</td>\n",
       "      <td>0.135285</td>\n",
       "      <td>18.66280</td>\n",
       "      <td>17.21449</td>\n",
       "      <td>16.67637</td>\n",
       "      <td>16.48922</td>\n",
       "      <td>16.39150</td>\n",
       "      <td>752</td>\n",
       "      <td>301</td>\n",
       "      <td>4</td>\n",
       "      <td>267</td>\n",
       "      <td>3.638140e+17</td>\n",
       "      <td>STAR</td>\n",
       "      <td>-0.000055</td>\n",
       "      <td>323</td>\n",
       "      <td>51615</td>\n",
       "      <td>541</td>\n",
       "    </tr>\n",
       "    <tr>\n",
       "      <th>2</th>\n",
       "      <td>1.237650e+18</td>\n",
       "      <td>183.680207</td>\n",
       "      <td>0.126185</td>\n",
       "      <td>19.38298</td>\n",
       "      <td>18.19169</td>\n",
       "      <td>17.47428</td>\n",
       "      <td>17.08732</td>\n",
       "      <td>16.80125</td>\n",
       "      <td>752</td>\n",
       "      <td>301</td>\n",
       "      <td>4</td>\n",
       "      <td>268</td>\n",
       "      <td>3.232740e+17</td>\n",
       "      <td>GALAXY</td>\n",
       "      <td>0.123111</td>\n",
       "      <td>287</td>\n",
       "      <td>52023</td>\n",
       "      <td>513</td>\n",
       "    </tr>\n",
       "    <tr>\n",
       "      <th>3</th>\n",
       "      <td>1.237650e+18</td>\n",
       "      <td>183.870529</td>\n",
       "      <td>0.049911</td>\n",
       "      <td>17.76536</td>\n",
       "      <td>16.60272</td>\n",
       "      <td>16.16116</td>\n",
       "      <td>15.98233</td>\n",
       "      <td>15.90438</td>\n",
       "      <td>752</td>\n",
       "      <td>301</td>\n",
       "      <td>4</td>\n",
       "      <td>269</td>\n",
       "      <td>3.722370e+18</td>\n",
       "      <td>STAR</td>\n",
       "      <td>-0.000111</td>\n",
       "      <td>3306</td>\n",
       "      <td>54922</td>\n",
       "      <td>510</td>\n",
       "    </tr>\n",
       "    <tr>\n",
       "      <th>4</th>\n",
       "      <td>1.237650e+18</td>\n",
       "      <td>183.883288</td>\n",
       "      <td>0.102557</td>\n",
       "      <td>17.55025</td>\n",
       "      <td>16.26342</td>\n",
       "      <td>16.43869</td>\n",
       "      <td>16.55492</td>\n",
       "      <td>16.61326</td>\n",
       "      <td>752</td>\n",
       "      <td>301</td>\n",
       "      <td>4</td>\n",
       "      <td>269</td>\n",
       "      <td>3.722370e+18</td>\n",
       "      <td>STAR</td>\n",
       "      <td>0.000590</td>\n",
       "      <td>3306</td>\n",
       "      <td>54922</td>\n",
       "      <td>512</td>\n",
       "    </tr>\n",
       "  </tbody>\n",
       "</table>\n",
       "</div>"
      ],
      "text/plain": [
       "          objid          ra       dec         u         g         r         i  \\\n",
       "0  1.237650e+18  183.531326  0.089693  19.47406  17.04240  15.94699  15.50342   \n",
       "1  1.237650e+18  183.598371  0.135285  18.66280  17.21449  16.67637  16.48922   \n",
       "2  1.237650e+18  183.680207  0.126185  19.38298  18.19169  17.47428  17.08732   \n",
       "3  1.237650e+18  183.870529  0.049911  17.76536  16.60272  16.16116  15.98233   \n",
       "4  1.237650e+18  183.883288  0.102557  17.55025  16.26342  16.43869  16.55492   \n",
       "\n",
       "          z  run  rerun  camcol  field     specobjid   class  redshift  plate  \\\n",
       "0  15.22531  752    301       4    267  3.722360e+18    STAR -0.000009   3306   \n",
       "1  16.39150  752    301       4    267  3.638140e+17    STAR -0.000055    323   \n",
       "2  16.80125  752    301       4    268  3.232740e+17  GALAXY  0.123111    287   \n",
       "3  15.90438  752    301       4    269  3.722370e+18    STAR -0.000111   3306   \n",
       "4  16.61326  752    301       4    269  3.722370e+18    STAR  0.000590   3306   \n",
       "\n",
       "     mjd  fiberid  \n",
       "0  54922      491  \n",
       "1  51615      541  \n",
       "2  52023      513  \n",
       "3  54922      510  \n",
       "4  54922      512  "
      ]
     },
     "execution_count": 3,
     "metadata": {},
     "output_type": "execute_result"
    }
   ],
   "source": [
    "space.head()"
   ]
  },
  {
   "cell_type": "code",
   "execution_count": 4,
   "metadata": {},
   "outputs": [
    {
     "data": {
      "text/plain": [
       "Index(['objid', 'ra', 'dec', 'u', 'g', 'r', 'i', 'z', 'run', 'rerun', 'camcol',\n",
       "       'field', 'specobjid', 'class', 'redshift', 'plate', 'mjd', 'fiberid'],\n",
       "      dtype='object')"
      ]
     },
     "execution_count": 4,
     "metadata": {},
     "output_type": "execute_result"
    }
   ],
   "source": [
    "space.columns"
   ]
  },
  {
   "cell_type": "code",
   "execution_count": 5,
   "metadata": {},
   "outputs": [
    {
     "name": "stdout",
     "output_type": "stream",
     "text": [
      "<class 'pandas.core.frame.DataFrame'>\n",
      "RangeIndex: 10000 entries, 0 to 9999\n",
      "Data columns (total 18 columns):\n",
      " #   Column     Non-Null Count  Dtype  \n",
      "---  ------     --------------  -----  \n",
      " 0   objid      10000 non-null  float64\n",
      " 1   ra         10000 non-null  float64\n",
      " 2   dec        10000 non-null  float64\n",
      " 3   u          10000 non-null  float64\n",
      " 4   g          10000 non-null  float64\n",
      " 5   r          10000 non-null  float64\n",
      " 6   i          10000 non-null  float64\n",
      " 7   z          10000 non-null  float64\n",
      " 8   run        10000 non-null  int64  \n",
      " 9   rerun      10000 non-null  int64  \n",
      " 10  camcol     10000 non-null  int64  \n",
      " 11  field      10000 non-null  int64  \n",
      " 12  specobjid  10000 non-null  float64\n",
      " 13  class      10000 non-null  object \n",
      " 14  redshift   10000 non-null  float64\n",
      " 15  plate      10000 non-null  int64  \n",
      " 16  mjd        10000 non-null  int64  \n",
      " 17  fiberid    10000 non-null  int64  \n",
      "dtypes: float64(10), int64(7), object(1)\n",
      "memory usage: 1.4+ MB\n"
     ]
    }
   ],
   "source": [
    "space.info()"
   ]
  },
  {
   "cell_type": "code",
   "execution_count": 6,
   "metadata": {},
   "outputs": [
    {
     "data": {
      "text/plain": [
       "objid        float64\n",
       "ra           float64\n",
       "dec          float64\n",
       "u            float64\n",
       "g            float64\n",
       "r            float64\n",
       "i            float64\n",
       "z            float64\n",
       "run            int64\n",
       "rerun          int64\n",
       "camcol         int64\n",
       "field          int64\n",
       "specobjid    float64\n",
       "class         object\n",
       "redshift     float64\n",
       "plate          int64\n",
       "mjd            int64\n",
       "fiberid        int64\n",
       "dtype: object"
      ]
     },
     "execution_count": 6,
     "metadata": {},
     "output_type": "execute_result"
    }
   ],
   "source": [
    "space.dtypes"
   ]
  },
  {
   "cell_type": "code",
   "execution_count": 7,
   "metadata": {},
   "outputs": [
    {
     "data": {
      "text/plain": [
       "objid        0\n",
       "ra           0\n",
       "dec          0\n",
       "u            0\n",
       "g            0\n",
       "r            0\n",
       "i            0\n",
       "z            0\n",
       "run          0\n",
       "rerun        0\n",
       "camcol       0\n",
       "field        0\n",
       "specobjid    0\n",
       "class        0\n",
       "redshift     0\n",
       "plate        0\n",
       "mjd          0\n",
       "fiberid      0\n",
       "dtype: int64"
      ]
     },
     "execution_count": 7,
     "metadata": {},
     "output_type": "execute_result"
    }
   ],
   "source": [
    "space.isnull().sum()"
   ]
  },
  {
   "cell_type": "code",
   "execution_count": 8,
   "metadata": {},
   "outputs": [
    {
     "data": {
      "text/plain": [
       "<matplotlib.axes._subplots.AxesSubplot at 0x110db19d0>"
      ]
     },
     "execution_count": 8,
     "metadata": {},
     "output_type": "execute_result"
    },
    {
     "data": {
      "image/png": "[encoded data removed]",
      "text/plain": [
       "<Figure size 432x288 with 2 Axes>"
      ]
     },
     "metadata": {
      "needs_background": "light"
     },
     "output_type": "display_data"
    }
   ],
   "source": [
    "sns.heatmap(space.isnull())"
   ]
  },
  {
   "cell_type": "markdown",
   "metadata": {},
   "source": [
    "##Univariate Analysis"
   ]
  },
  {
   "cell_type": "code",
   "execution_count": 9,
   "metadata": {},
   "outputs": [
    {
     "data": {
      "text/plain": [
       "<matplotlib.axes._subplots.AxesSubplot at 0x1a25eead10>"
      ]
     },
     "execution_count": 9,
     "metadata": {},
     "output_type": "execute_result"
    },
    {
     "data": {
      "image/png": "[encoded data removed]",
      "text/plain": [
       "<Figure size 432x288 with 1 Axes>"
      ]
     },
     "metadata": {
      "needs_background": "light"
     },
     "output_type": "display_data"
    }
   ],
   "source": [
    "sns.countplot(space['class'])\n",
    "#galaxy has the maximum counts in class, followed by star then QSO"
   ]
  },
  {
   "cell_type": "code",
   "execution_count": 10,
   "metadata": {},
   "outputs": [
    {
     "data": {
      "text/plain": [
       "<matplotlib.axes._subplots.AxesSubplot at 0x1a269bec10>"
      ]
     },
     "execution_count": 10,
     "metadata": {},
     "output_type": "execute_result"
    },
    {
     "data": {
      "image/png": "[encoded data removed]",
      "text/plain": [
       "<Figure size 432x288 with 1 Axes>"
      ]
     },
     "metadata": {
      "needs_background": "light"
     },
     "output_type": "display_data"
    }
   ],
   "source": [
    "space['field'].plot.hist()"
   ]
  },
  {
   "cell_type": "code",
   "execution_count": 11,
   "metadata": {},
   "outputs": [
    {
     "data": {
      "text/plain": [
       "<matplotlib.axes._subplots.AxesSubplot at 0x1a26b3e510>"
      ]
     },
     "execution_count": 11,
     "metadata": {},
     "output_type": "execute_result"
    },
    {
     "data": {
      "image/png": "[encoded data removed]",
      "text/plain": [
       "<Figure size 432x288 with 1 Axes>"
      ]
     },
     "metadata": {
      "needs_background": "light"
     },
     "output_type": "display_data"
    }
   ],
   "source": [
    "sns.distplot(space['ra'])"
   ]
  },
  {
   "cell_type": "code",
   "execution_count": 12,
   "metadata": {},
   "outputs": [
    {
     "data": {
      "text/plain": [
       "<matplotlib.axes._subplots.AxesSubplot at 0x1a26d63b10>"
      ]
     },
     "execution_count": 12,
     "metadata": {},
     "output_type": "execute_result"
    },
    {
     "data": {
      "image/png": "[encoded data removed]",
      "text/plain": [
       "<Figure size 432x288 with 1 Axes>"
      ]
     },
     "metadata": {
      "needs_background": "light"
     },
     "output_type": "display_data"
    }
   ],
   "source": [
    "sns.distplot(space['dec'])"
   ]
  },
  {
   "cell_type": "code",
   "execution_count": 13,
   "metadata": {},
   "outputs": [
    {
     "data": {
      "text/plain": [
       "<matplotlib.axes._subplots.AxesSubplot at 0x1a27140a90>"
      ]
     },
     "execution_count": 13,
     "metadata": {},
     "output_type": "execute_result"
    },
    {
     "data": {
      "image/png": "[encoded data removed]",
      "text/plain": [
       "<Figure size 432x288 with 1 Axes>"
      ]
     },
     "metadata": {
      "needs_background": "light"
     },
     "output_type": "display_data"
    }
   ],
   "source": [
    "sns.countplot(space['fiberid'])"
   ]
  },
  {
   "cell_type": "code",
   "execution_count": 14,
   "metadata": {},
   "outputs": [
    {
     "data": {
      "text/plain": [
       "<matplotlib.axes._subplots.AxesSubplot at 0x1a26f31550>"
      ]
     },
     "execution_count": 14,
     "metadata": {},
     "output_type": "execute_result"
    },
    {
     "data": {
      "image/png": "[encoded data removed]",
      "text/plain": [
       "<Figure size 432x288 with 1 Axes>"
      ]
     },
     "metadata": {
      "needs_background": "light"
     },
     "output_type": "display_data"
    }
   ],
   "source": [
    "sns.countplot(space['camcol'])"
   ]
  },
  {
   "cell_type": "code",
   "execution_count": 15,
   "metadata": {},
   "outputs": [
    {
     "data": {
      "text/plain": [
       "<matplotlib.axes._subplots.AxesSubplot at 0x1a285085d0>"
      ]
     },
     "execution_count": 15,
     "metadata": {},
     "output_type": "execute_result"
    },
    {
     "data": {
      "image/png": "[encoded data removed]",
      "text/plain": [
       "<Figure size 432x288 with 1 Axes>"
      ]
     },
     "metadata": {
      "needs_background": "light"
     },
     "output_type": "display_data"
    }
   ],
   "source": [
    "sns.boxplot(space['run'], data=space)"
   ]
  },
  {
   "cell_type": "code",
   "execution_count": 16,
   "metadata": {},
   "outputs": [
    {
     "data": {
      "text/plain": [
       "<matplotlib.axes._subplots.AxesSubplot at 0x1a26fc56d0>"
      ]
     },
     "execution_count": 16,
     "metadata": {},
     "output_type": "execute_result"
    },
    {
     "data": {
      "image/png": "[encoded data removed]",
      "text/plain": [
       "<Figure size 432x288 with 1 Axes>"
      ]
     },
     "metadata": {
      "needs_background": "light"
     },
     "output_type": "display_data"
    }
   ],
   "source": [
    "sns.boxplot(space['mjd'], data=space)"
   ]
  },
  {
   "cell_type": "code",
   "execution_count": 17,
   "metadata": {
    "scrolled": true
   },
   "outputs": [
    {
     "data": {
      "image/png": "[encoded data removed]",
      "text/plain": [
       "<Figure size 1080x1080 with 17 Axes>"
      ]
     },
     "metadata": {
      "needs_background": "light"
     },
     "output_type": "display_data"
    }
   ],
   "source": [
    "col_list=space.columns.values\n",
    "plt.figure(figsize=(15,15))\n",
    "for i in range (0,len(col_list)):\n",
    "    if space[col_list[i]].dtype!='O':\n",
    "        plt.subplot(6,6,i+1)\n",
    "        sns.boxplot(space[col_list[i]], color='pink',orient='v')\n",
    "        plt.tight_layout()"
   ]
  },
  {
   "cell_type": "markdown",
   "metadata": {},
   "source": [
    "##Bivariate Analysis"
   ]
  },
  {
   "cell_type": "code",
   "execution_count": 18,
   "metadata": {},
   "outputs": [
    {
     "data": {
      "text/plain": [
       "<matplotlib.axes._subplots.AxesSubplot at 0x1a291ed890>"
      ]
     },
     "execution_count": 18,
     "metadata": {},
     "output_type": "execute_result"
    },
    {
     "data": {
      "image/png": "[encoded data removed]",
      "text/plain": [
       "<Figure size 432x288 with 1 Axes>"
      ]
     },
     "metadata": {
      "needs_background": "light"
     },
     "output_type": "display_data"
    }
   ],
   "source": [
    "sns.scatterplot(x='class',y='r', data= space)"
   ]
  },
  {
   "cell_type": "code",
   "execution_count": 19,
   "metadata": {},
   "outputs": [
    {
     "data": {
      "text/plain": [
       "<matplotlib.axes._subplots.AxesSubplot at 0x1a2924a350>"
      ]
     },
     "execution_count": 19,
     "metadata": {},
     "output_type": "execute_result"
    },
    {
     "data": {
      "image/png": "[encoded data removed]",
      "text/plain": [
       "<Figure size 432x288 with 1 Axes>"
      ]
     },
     "metadata": {
      "needs_background": "light"
     },
     "output_type": "display_data"
    }
   ],
   "source": [
    "sns.lineplot(x='run',y='dec',data=space)"
   ]
  },
  {
   "cell_type": "code",
   "execution_count": 20,
   "metadata": {},
   "outputs": [
    {
     "data": {
      "text/plain": [
       "<matplotlib.axes._subplots.AxesSubplot at 0x1a293cc910>"
      ]
     },
     "execution_count": 20,
     "metadata": {},
     "output_type": "execute_result"
    },
    {
     "data": {
      "image/png": "[encoded data removed]",
      "text/plain": [
       "<Figure size 432x288 with 1 Axes>"
      ]
     },
     "metadata": {
      "needs_background": "light"
     },
     "output_type": "display_data"
    }
   ],
   "source": [
    "sns.barplot(x='class', y='run', data= space)"
   ]
  },
  {
   "cell_type": "code",
   "execution_count": 21,
   "metadata": {},
   "outputs": [
    {
     "data": {
      "text/plain": [
       "<matplotlib.axes._subplots.AxesSubplot at 0x1a292d1c10>"
      ]
     },
     "execution_count": 21,
     "metadata": {},
     "output_type": "execute_result"
    },
    {
     "data": {
      "image/png": "[encoded data removed]",
      "text/plain": [
       "<Figure size 432x288 with 1 Axes>"
      ]
     },
     "metadata": {
      "needs_background": "light"
     },
     "output_type": "display_data"
    }
   ],
   "source": [
    "sns.barplot(x='class',y='dec', data= space)"
   ]
  },
  {
   "cell_type": "code",
   "execution_count": 22,
   "metadata": {},
   "outputs": [
    {
     "data": {
      "image/png": "[encoded data removed]",
      "text/plain": [
       "<Figure size 360x360 with 1 Axes>"
      ]
     },
     "metadata": {
      "needs_background": "light"
     },
     "output_type": "display_data"
    }
   ],
   "source": [
    "sns.catplot(x=\"class\", y=\"redshift\", hue=\"class\", kind=\"bar\", data=space);"
   ]
  },
  {
   "cell_type": "markdown",
   "metadata": {},
   "source": [
    "##Statistical Analysis"
   ]
  },
  {
   "cell_type": "code",
   "execution_count": 23,
   "metadata": {},
   "outputs": [],
   "source": [
    "from sklearn.preprocessing import LabelEncoder\n",
    "le=LabelEncoder()\n",
    "space['class']=le.fit_transform(space['class'])"
   ]
  },
  {
   "cell_type": "code",
   "execution_count": 24,
   "metadata": {},
   "outputs": [
    {
     "data": {
      "text/html": [
       "<div>\n",
       "<style scoped>\n",
       "    .dataframe tbody tr th:only-of-type {\n",
       "        vertical-align: middle;\n",
       "    }\n",
       "\n",
       "    .dataframe tbody tr th {\n",
       "        vertical-align: top;\n",
       "    }\n",
       "\n",
       "    .dataframe thead th {\n",
       "        text-align: right;\n",
       "    }\n",
       "</style>\n",
       "<table border=\"1\" class=\"dataframe\">\n",
       "  <thead>\n",
       "    <tr style=\"text-align: right;\">\n",
       "      <th></th>\n",
       "      <th>objid</th>\n",
       "      <th>ra</th>\n",
       "      <th>dec</th>\n",
       "      <th>u</th>\n",
       "      <th>g</th>\n",
       "      <th>r</th>\n",
       "      <th>i</th>\n",
       "      <th>z</th>\n",
       "      <th>run</th>\n",
       "      <th>rerun</th>\n",
       "      <th>camcol</th>\n",
       "      <th>field</th>\n",
       "      <th>specobjid</th>\n",
       "      <th>class</th>\n",
       "      <th>redshift</th>\n",
       "      <th>plate</th>\n",
       "      <th>mjd</th>\n",
       "      <th>fiberid</th>\n",
       "    </tr>\n",
       "  </thead>\n",
       "  <tbody>\n",
       "    <tr>\n",
       "      <th>0</th>\n",
       "      <td>1.237650e+18</td>\n",
       "      <td>183.531326</td>\n",
       "      <td>0.089693</td>\n",
       "      <td>19.47406</td>\n",
       "      <td>17.04240</td>\n",
       "      <td>15.94699</td>\n",
       "      <td>15.50342</td>\n",
       "      <td>15.22531</td>\n",
       "      <td>752</td>\n",
       "      <td>301</td>\n",
       "      <td>4</td>\n",
       "      <td>267</td>\n",
       "      <td>3.722360e+18</td>\n",
       "      <td>2</td>\n",
       "      <td>-0.000009</td>\n",
       "      <td>3306</td>\n",
       "      <td>54922</td>\n",
       "      <td>491</td>\n",
       "    </tr>\n",
       "    <tr>\n",
       "      <th>1</th>\n",
       "      <td>1.237650e+18</td>\n",
       "      <td>183.598371</td>\n",
       "      <td>0.135285</td>\n",
       "      <td>18.66280</td>\n",
       "      <td>17.21449</td>\n",
       "      <td>16.67637</td>\n",
       "      <td>16.48922</td>\n",
       "      <td>16.39150</td>\n",
       "      <td>752</td>\n",
       "      <td>301</td>\n",
       "      <td>4</td>\n",
       "      <td>267</td>\n",
       "      <td>3.638140e+17</td>\n",
       "      <td>2</td>\n",
       "      <td>-0.000055</td>\n",
       "      <td>323</td>\n",
       "      <td>51615</td>\n",
       "      <td>541</td>\n",
       "    </tr>\n",
       "    <tr>\n",
       "      <th>2</th>\n",
       "      <td>1.237650e+18</td>\n",
       "      <td>183.680207</td>\n",
       "      <td>0.126185</td>\n",
       "      <td>19.38298</td>\n",
       "      <td>18.19169</td>\n",
       "      <td>17.47428</td>\n",
       "      <td>17.08732</td>\n",
       "      <td>16.80125</td>\n",
       "      <td>752</td>\n",
       "      <td>301</td>\n",
       "      <td>4</td>\n",
       "      <td>268</td>\n",
       "      <td>3.232740e+17</td>\n",
       "      <td>0</td>\n",
       "      <td>0.123111</td>\n",
       "      <td>287</td>\n",
       "      <td>52023</td>\n",
       "      <td>513</td>\n",
       "    </tr>\n",
       "    <tr>\n",
       "      <th>3</th>\n",
       "      <td>1.237650e+18</td>\n",
       "      <td>183.870529</td>\n",
       "      <td>0.049911</td>\n",
       "      <td>17.76536</td>\n",
       "      <td>16.60272</td>\n",
       "      <td>16.16116</td>\n",
       "      <td>15.98233</td>\n",
       "      <td>15.90438</td>\n",
       "      <td>752</td>\n",
       "      <td>301</td>\n",
       "      <td>4</td>\n",
       "      <td>269</td>\n",
       "      <td>3.722370e+18</td>\n",
       "      <td>2</td>\n",
       "      <td>-0.000111</td>\n",
       "      <td>3306</td>\n",
       "      <td>54922</td>\n",
       "      <td>510</td>\n",
       "    </tr>\n",
       "    <tr>\n",
       "      <th>4</th>\n",
       "      <td>1.237650e+18</td>\n",
       "      <td>183.883288</td>\n",
       "      <td>0.102557</td>\n",
       "      <td>17.55025</td>\n",
       "      <td>16.26342</td>\n",
       "      <td>16.43869</td>\n",
       "      <td>16.55492</td>\n",
       "      <td>16.61326</td>\n",
       "      <td>752</td>\n",
       "      <td>301</td>\n",
       "      <td>4</td>\n",
       "      <td>269</td>\n",
       "      <td>3.722370e+18</td>\n",
       "      <td>2</td>\n",
       "      <td>0.000590</td>\n",
       "      <td>3306</td>\n",
       "      <td>54922</td>\n",
       "      <td>512</td>\n",
       "    </tr>\n",
       "  </tbody>\n",
       "</table>\n",
       "</div>"
      ],
      "text/plain": [
       "          objid          ra       dec         u         g         r         i  \\\n",
       "0  1.237650e+18  183.531326  0.089693  19.47406  17.04240  15.94699  15.50342   \n",
       "1  1.237650e+18  183.598371  0.135285  18.66280  17.21449  16.67637  16.48922   \n",
       "2  1.237650e+18  183.680207  0.126185  19.38298  18.19169  17.47428  17.08732   \n",
       "3  1.237650e+18  183.870529  0.049911  17.76536  16.60272  16.16116  15.98233   \n",
       "4  1.237650e+18  183.883288  0.102557  17.55025  16.26342  16.43869  16.55492   \n",
       "\n",
       "          z  run  rerun  camcol  field     specobjid  class  redshift  plate  \\\n",
       "0  15.22531  752    301       4    267  3.722360e+18      2 -0.000009   3306   \n",
       "1  16.39150  752    301       4    267  3.638140e+17      2 -0.000055    323   \n",
       "2  16.80125  752    301       4    268  3.232740e+17      0  0.123111    287   \n",
       "3  15.90438  752    301       4    269  3.722370e+18      2 -0.000111   3306   \n",
       "4  16.61326  752    301       4    269  3.722370e+18      2  0.000590   3306   \n",
       "\n",
       "     mjd  fiberid  \n",
       "0  54922      491  \n",
       "1  51615      541  \n",
       "2  52023      513  \n",
       "3  54922      510  \n",
       "4  54922      512  "
      ]
     },
     "execution_count": 24,
     "metadata": {},
     "output_type": "execute_result"
    }
   ],
   "source": [
    "space.head()"
   ]
  },
  {
   "cell_type": "code",
   "execution_count": 25,
   "metadata": {},
   "outputs": [],
   "source": [
    "#we need to change all the categorical values into numerical values\n",
    "for i in space.columns:\n",
    "    if space.columns.dtype=='O':\n",
    "        space[i]=le.fit_transform(space[i])"
   ]
  },
  {
   "cell_type": "code",
   "execution_count": 26,
   "metadata": {},
   "outputs": [
    {
     "data": {
      "text/html": [
       "<div>\n",
       "<style scoped>\n",
       "    .dataframe tbody tr th:only-of-type {\n",
       "        vertical-align: middle;\n",
       "    }\n",
       "\n",
       "    .dataframe tbody tr th {\n",
       "        vertical-align: top;\n",
       "    }\n",
       "\n",
       "    .dataframe thead th {\n",
       "        text-align: right;\n",
       "    }\n",
       "</style>\n",
       "<table border=\"1\" class=\"dataframe\">\n",
       "  <thead>\n",
       "    <tr style=\"text-align: right;\">\n",
       "      <th></th>\n",
       "      <th>objid</th>\n",
       "      <th>ra</th>\n",
       "      <th>dec</th>\n",
       "      <th>u</th>\n",
       "      <th>g</th>\n",
       "      <th>r</th>\n",
       "      <th>i</th>\n",
       "      <th>z</th>\n",
       "      <th>run</th>\n",
       "      <th>rerun</th>\n",
       "      <th>camcol</th>\n",
       "      <th>field</th>\n",
       "      <th>specobjid</th>\n",
       "      <th>class</th>\n",
       "      <th>redshift</th>\n",
       "      <th>plate</th>\n",
       "      <th>mjd</th>\n",
       "      <th>fiberid</th>\n",
       "    </tr>\n",
       "  </thead>\n",
       "  <tbody>\n",
       "    <tr>\n",
       "      <th>count</th>\n",
       "      <td>10000.0</td>\n",
       "      <td>10000.00000</td>\n",
       "      <td>10000.00000</td>\n",
       "      <td>10000.000000</td>\n",
       "      <td>10000.00000</td>\n",
       "      <td>10000.000000</td>\n",
       "      <td>10000.000000</td>\n",
       "      <td>10000.000000</td>\n",
       "      <td>10000.000000</td>\n",
       "      <td>10000.0</td>\n",
       "      <td>10000.000000</td>\n",
       "      <td>10000.000000</td>\n",
       "      <td>10000.000000</td>\n",
       "      <td>10000.000000</td>\n",
       "      <td>10000.000000</td>\n",
       "      <td>10000.000000</td>\n",
       "      <td>10000.000000</td>\n",
       "      <td>10000.00000</td>\n",
       "    </tr>\n",
       "    <tr>\n",
       "      <th>mean</th>\n",
       "      <td>0.0</td>\n",
       "      <td>4999.50000</td>\n",
       "      <td>4999.50000</td>\n",
       "      <td>4910.907700</td>\n",
       "      <td>4917.34390</td>\n",
       "      <td>4924.639000</td>\n",
       "      <td>4943.933400</td>\n",
       "      <td>4948.006900</td>\n",
       "      <td>7.722200</td>\n",
       "      <td>0.0</td>\n",
       "      <td>2.648700</td>\n",
       "      <td>291.067600</td>\n",
       "      <td>3570.232600</td>\n",
       "      <td>0.915400</td>\n",
       "      <td>4707.003000</td>\n",
       "      <td>139.846600</td>\n",
       "      <td>100.648600</td>\n",
       "      <td>349.69640</td>\n",
       "    </tr>\n",
       "    <tr>\n",
       "      <th>std</th>\n",
       "      <td>0.0</td>\n",
       "      <td>2886.89568</td>\n",
       "      <td>2886.89568</td>\n",
       "      <td>2807.465864</td>\n",
       "      <td>2826.26928</td>\n",
       "      <td>2834.939299</td>\n",
       "      <td>2849.268611</td>\n",
       "      <td>2850.775034</td>\n",
       "      <td>5.870901</td>\n",
       "      <td>0.0</td>\n",
       "      <td>1.666183</td>\n",
       "      <td>161.891705</td>\n",
       "      <td>1898.270683</td>\n",
       "      <td>0.952856</td>\n",
       "      <td>2792.511903</td>\n",
       "      <td>120.185293</td>\n",
       "      <td>77.947945</td>\n",
       "      <td>200.52238</td>\n",
       "    </tr>\n",
       "    <tr>\n",
       "      <th>min</th>\n",
       "      <td>0.0</td>\n",
       "      <td>0.00000</td>\n",
       "      <td>0.00000</td>\n",
       "      <td>0.000000</td>\n",
       "      <td>0.00000</td>\n",
       "      <td>0.000000</td>\n",
       "      <td>0.000000</td>\n",
       "      <td>0.000000</td>\n",
       "      <td>0.000000</td>\n",
       "      <td>0.0</td>\n",
       "      <td>0.000000</td>\n",
       "      <td>0.000000</td>\n",
       "      <td>0.000000</td>\n",
       "      <td>0.000000</td>\n",
       "      <td>0.000000</td>\n",
       "      <td>0.000000</td>\n",
       "      <td>0.000000</td>\n",
       "      <td>0.00000</td>\n",
       "    </tr>\n",
       "    <tr>\n",
       "      <th>25%</th>\n",
       "      <td>0.0</td>\n",
       "      <td>2499.75000</td>\n",
       "      <td>2499.75000</td>\n",
       "      <td>2483.750000</td>\n",
       "      <td>2476.75000</td>\n",
       "      <td>2474.750000</td>\n",
       "      <td>2477.750000</td>\n",
       "      <td>2481.750000</td>\n",
       "      <td>3.000000</td>\n",
       "      <td>0.0</td>\n",
       "      <td>1.000000</td>\n",
       "      <td>173.000000</td>\n",
       "      <td>1872.750000</td>\n",
       "      <td>0.000000</td>\n",
       "      <td>2163.000000</td>\n",
       "      <td>35.000000</td>\n",
       "      <td>46.000000</td>\n",
       "      <td>185.75000</td>\n",
       "    </tr>\n",
       "    <tr>\n",
       "      <th>50%</th>\n",
       "      <td>0.0</td>\n",
       "      <td>4999.50000</td>\n",
       "      <td>4999.50000</td>\n",
       "      <td>4939.500000</td>\n",
       "      <td>4928.50000</td>\n",
       "      <td>4925.500000</td>\n",
       "      <td>4943.500000</td>\n",
       "      <td>4949.500000</td>\n",
       "      <td>4.000000</td>\n",
       "      <td>0.0</td>\n",
       "      <td>3.000000</td>\n",
       "      <td>288.000000</td>\n",
       "      <td>3862.500000</td>\n",
       "      <td>1.000000</td>\n",
       "      <td>4639.500000</td>\n",
       "      <td>105.000000</td>\n",
       "      <td>75.000000</td>\n",
       "      <td>350.00000</td>\n",
       "    </tr>\n",
       "    <tr>\n",
       "      <th>75%</th>\n",
       "      <td>0.0</td>\n",
       "      <td>7499.25000</td>\n",
       "      <td>7499.25000</td>\n",
       "      <td>7339.250000</td>\n",
       "      <td>7360.25000</td>\n",
       "      <td>7373.250000</td>\n",
       "      <td>7408.250000</td>\n",
       "      <td>7413.250000</td>\n",
       "      <td>12.000000</td>\n",
       "      <td>0.0</td>\n",
       "      <td>4.000000</td>\n",
       "      <td>403.000000</td>\n",
       "      <td>5327.000000</td>\n",
       "      <td>2.000000</td>\n",
       "      <td>7137.250000</td>\n",
       "      <td>230.000000</td>\n",
       "      <td>149.000000</td>\n",
       "      <td>509.00000</td>\n",
       "    </tr>\n",
       "    <tr>\n",
       "      <th>max</th>\n",
       "      <td>0.0</td>\n",
       "      <td>9999.00000</td>\n",
       "      <td>9999.00000</td>\n",
       "      <td>9729.000000</td>\n",
       "      <td>9816.00000</td>\n",
       "      <td>9851.000000</td>\n",
       "      <td>9889.000000</td>\n",
       "      <td>9895.000000</td>\n",
       "      <td>22.000000</td>\n",
       "      <td>0.0</td>\n",
       "      <td>5.000000</td>\n",
       "      <td>702.000000</td>\n",
       "      <td>6348.000000</td>\n",
       "      <td>2.000000</td>\n",
       "      <td>9636.000000</td>\n",
       "      <td>486.000000</td>\n",
       "      <td>354.000000</td>\n",
       "      <td>891.00000</td>\n",
       "    </tr>\n",
       "  </tbody>\n",
       "</table>\n",
       "</div>"
      ],
      "text/plain": [
       "         objid           ra          dec             u            g  \\\n",
       "count  10000.0  10000.00000  10000.00000  10000.000000  10000.00000   \n",
       "mean       0.0   4999.50000   4999.50000   4910.907700   4917.34390   \n",
       "std        0.0   2886.89568   2886.89568   2807.465864   2826.26928   \n",
       "min        0.0      0.00000      0.00000      0.000000      0.00000   \n",
       "25%        0.0   2499.75000   2499.75000   2483.750000   2476.75000   \n",
       "50%        0.0   4999.50000   4999.50000   4939.500000   4928.50000   \n",
       "75%        0.0   7499.25000   7499.25000   7339.250000   7360.25000   \n",
       "max        0.0   9999.00000   9999.00000   9729.000000   9816.00000   \n",
       "\n",
       "                  r             i             z           run    rerun  \\\n",
       "count  10000.000000  10000.000000  10000.000000  10000.000000  10000.0   \n",
       "mean    4924.639000   4943.933400   4948.006900      7.722200      0.0   \n",
       "std     2834.939299   2849.268611   2850.775034      5.870901      0.0   \n",
       "min        0.000000      0.000000      0.000000      0.000000      0.0   \n",
       "25%     2474.750000   2477.750000   2481.750000      3.000000      0.0   \n",
       "50%     4925.500000   4943.500000   4949.500000      4.000000      0.0   \n",
       "75%     7373.250000   7408.250000   7413.250000     12.000000      0.0   \n",
       "max     9851.000000   9889.000000   9895.000000     22.000000      0.0   \n",
       "\n",
       "             camcol         field     specobjid         class      redshift  \\\n",
       "count  10000.000000  10000.000000  10000.000000  10000.000000  10000.000000   \n",
       "mean       2.648700    291.067600   3570.232600      0.915400   4707.003000   \n",
       "std        1.666183    161.891705   1898.270683      0.952856   2792.511903   \n",
       "min        0.000000      0.000000      0.000000      0.000000      0.000000   \n",
       "25%        1.000000    173.000000   1872.750000      0.000000   2163.000000   \n",
       "50%        3.000000    288.000000   3862.500000      1.000000   4639.500000   \n",
       "75%        4.000000    403.000000   5327.000000      2.000000   7137.250000   \n",
       "max        5.000000    702.000000   6348.000000      2.000000   9636.000000   \n",
       "\n",
       "              plate           mjd      fiberid  \n",
       "count  10000.000000  10000.000000  10000.00000  \n",
       "mean     139.846600    100.648600    349.69640  \n",
       "std      120.185293     77.947945    200.52238  \n",
       "min        0.000000      0.000000      0.00000  \n",
       "25%       35.000000     46.000000    185.75000  \n",
       "50%      105.000000     75.000000    350.00000  \n",
       "75%      230.000000    149.000000    509.00000  \n",
       "max      486.000000    354.000000    891.00000  "
      ]
     },
     "execution_count": 26,
     "metadata": {},
     "output_type": "execute_result"
    }
   ],
   "source": [
    "space.describe()"
   ]
  },
  {
   "cell_type": "code",
   "execution_count": 27,
   "metadata": {},
   "outputs": [
    {
     "data": {
      "text/plain": [
       "<matplotlib.axes._subplots.AxesSubplot at 0x1a29a73f10>"
      ]
     },
     "execution_count": 27,
     "metadata": {},
     "output_type": "execute_result"
    },
    {
     "data": {
      "image/png": "[encoded data removed]",
      "text/plain": [
       "<Figure size 720x576 with 2 Axes>"
      ]
     },
     "metadata": {
      "needs_background": "light"
     },
     "output_type": "display_data"
    }
   ],
   "source": [
    "plt.figure(figsize=(10,8))\n",
    "sns.heatmap(space.corr(), annot=True)"
   ]
  },
  {
   "cell_type": "code",
   "execution_count": 28,
   "metadata": {
    "scrolled": true
   },
   "outputs": [
    {
     "data": {
      "text/html": [
       "<div>\n",
       "<style scoped>\n",
       "    .dataframe tbody tr th:only-of-type {\n",
       "        vertical-align: middle;\n",
       "    }\n",
       "\n",
       "    .dataframe tbody tr th {\n",
       "        vertical-align: top;\n",
       "    }\n",
       "\n",
       "    .dataframe thead th {\n",
       "        text-align: right;\n",
       "    }\n",
       "</style>\n",
       "<table border=\"1\" class=\"dataframe\">\n",
       "  <thead>\n",
       "    <tr style=\"text-align: right;\">\n",
       "      <th></th>\n",
       "      <th>objid</th>\n",
       "      <th>ra</th>\n",
       "      <th>dec</th>\n",
       "      <th>u</th>\n",
       "      <th>g</th>\n",
       "      <th>r</th>\n",
       "      <th>i</th>\n",
       "      <th>z</th>\n",
       "      <th>run</th>\n",
       "      <th>rerun</th>\n",
       "      <th>camcol</th>\n",
       "      <th>field</th>\n",
       "      <th>specobjid</th>\n",
       "      <th>class</th>\n",
       "      <th>redshift</th>\n",
       "      <th>plate</th>\n",
       "      <th>mjd</th>\n",
       "      <th>fiberid</th>\n",
       "    </tr>\n",
       "  </thead>\n",
       "  <tbody>\n",
       "    <tr>\n",
       "      <th>objid</th>\n",
       "      <td>NaN</td>\n",
       "      <td>NaN</td>\n",
       "      <td>NaN</td>\n",
       "      <td>NaN</td>\n",
       "      <td>NaN</td>\n",
       "      <td>NaN</td>\n",
       "      <td>NaN</td>\n",
       "      <td>NaN</td>\n",
       "      <td>NaN</td>\n",
       "      <td>NaN</td>\n",
       "      <td>NaN</td>\n",
       "      <td>NaN</td>\n",
       "      <td>NaN</td>\n",
       "      <td>NaN</td>\n",
       "      <td>NaN</td>\n",
       "      <td>NaN</td>\n",
       "      <td>NaN</td>\n",
       "      <td>NaN</td>\n",
       "    </tr>\n",
       "    <tr>\n",
       "      <th>ra</th>\n",
       "      <td>NaN</td>\n",
       "      <td>1.000000</td>\n",
       "      <td>-0.099025</td>\n",
       "      <td>0.025992</td>\n",
       "      <td>0.034531</td>\n",
       "      <td>0.034917</td>\n",
       "      <td>0.034367</td>\n",
       "      <td>0.034826</td>\n",
       "      <td>0.015367</td>\n",
       "      <td>NaN</td>\n",
       "      <td>-0.060535</td>\n",
       "      <td>0.587106</td>\n",
       "      <td>0.015224</td>\n",
       "      <td>-0.010821</td>\n",
       "      <td>0.003844</td>\n",
       "      <td>-0.043891</td>\n",
       "      <td>-0.053590</td>\n",
       "      <td>0.009121</td>\n",
       "    </tr>\n",
       "    <tr>\n",
       "      <th>dec</th>\n",
       "      <td>NaN</td>\n",
       "      <td>-0.099025</td>\n",
       "      <td>1.000000</td>\n",
       "      <td>0.027279</td>\n",
       "      <td>0.033889</td>\n",
       "      <td>0.029393</td>\n",
       "      <td>0.024513</td>\n",
       "      <td>0.021956</td>\n",
       "      <td>0.625318</td>\n",
       "      <td>NaN</td>\n",
       "      <td>0.392055</td>\n",
       "      <td>-0.142701</td>\n",
       "      <td>0.287271</td>\n",
       "      <td>-0.043486</td>\n",
       "      <td>-0.003288</td>\n",
       "      <td>0.206556</td>\n",
       "      <td>0.050285</td>\n",
       "      <td>0.295278</td>\n",
       "    </tr>\n",
       "    <tr>\n",
       "      <th>u</th>\n",
       "      <td>NaN</td>\n",
       "      <td>0.025992</td>\n",
       "      <td>0.027279</td>\n",
       "      <td>1.000000</td>\n",
       "      <td>0.798355</td>\n",
       "      <td>0.644857</td>\n",
       "      <td>0.570774</td>\n",
       "      <td>0.507525</td>\n",
       "      <td>0.024785</td>\n",
       "      <td>NaN</td>\n",
       "      <td>0.009872</td>\n",
       "      <td>0.010133</td>\n",
       "      <td>-0.149325</td>\n",
       "      <td>-0.251365</td>\n",
       "      <td>0.381865</td>\n",
       "      <td>-0.132412</td>\n",
       "      <td>-0.117060</td>\n",
       "      <td>0.007498</td>\n",
       "    </tr>\n",
       "    <tr>\n",
       "      <th>g</th>\n",
       "      <td>NaN</td>\n",
       "      <td>0.034531</td>\n",
       "      <td>0.033889</td>\n",
       "      <td>0.798355</td>\n",
       "      <td>1.000000</td>\n",
       "      <td>0.959572</td>\n",
       "      <td>0.917869</td>\n",
       "      <td>0.878222</td>\n",
       "      <td>0.047607</td>\n",
       "      <td>NaN</td>\n",
       "      <td>0.004443</td>\n",
       "      <td>0.014709</td>\n",
       "      <td>-0.090095</td>\n",
       "      <td>-0.082563</td>\n",
       "      <td>0.376605</td>\n",
       "      <td>-0.057879</td>\n",
       "      <td>-0.036545</td>\n",
       "      <td>0.041139</td>\n",
       "    </tr>\n",
       "    <tr>\n",
       "      <th>r</th>\n",
       "      <td>NaN</td>\n",
       "      <td>0.034917</td>\n",
       "      <td>0.029393</td>\n",
       "      <td>0.644857</td>\n",
       "      <td>0.959572</td>\n",
       "      <td>1.000000</td>\n",
       "      <td>0.988125</td>\n",
       "      <td>0.969963</td>\n",
       "      <td>0.046570</td>\n",
       "      <td>NaN</td>\n",
       "      <td>0.003740</td>\n",
       "      <td>0.015729</td>\n",
       "      <td>-0.024030</td>\n",
       "      <td>0.052573</td>\n",
       "      <td>0.252699</td>\n",
       "      <td>0.014348</td>\n",
       "      <td>0.033596</td>\n",
       "      <td>0.053719</td>\n",
       "    </tr>\n",
       "    <tr>\n",
       "      <th>i</th>\n",
       "      <td>NaN</td>\n",
       "      <td>0.034367</td>\n",
       "      <td>0.024513</td>\n",
       "      <td>0.570774</td>\n",
       "      <td>0.917869</td>\n",
       "      <td>0.988125</td>\n",
       "      <td>1.000000</td>\n",
       "      <td>0.992448</td>\n",
       "      <td>0.041314</td>\n",
       "      <td>NaN</td>\n",
       "      <td>0.005200</td>\n",
       "      <td>0.017771</td>\n",
       "      <td>0.025687</td>\n",
       "      <td>0.146682</td>\n",
       "      <td>0.167707</td>\n",
       "      <td>0.067876</td>\n",
       "      <td>0.084789</td>\n",
       "      <td>0.059608</td>\n",
       "    </tr>\n",
       "    <tr>\n",
       "      <th>z</th>\n",
       "      <td>NaN</td>\n",
       "      <td>0.034826</td>\n",
       "      <td>0.021956</td>\n",
       "      <td>0.507525</td>\n",
       "      <td>0.878222</td>\n",
       "      <td>0.969963</td>\n",
       "      <td>0.992448</td>\n",
       "      <td>1.000000</td>\n",
       "      <td>0.039402</td>\n",
       "      <td>NaN</td>\n",
       "      <td>0.004185</td>\n",
       "      <td>0.018176</td>\n",
       "      <td>0.065854</td>\n",
       "      <td>0.216925</td>\n",
       "      <td>0.103689</td>\n",
       "      <td>0.108868</td>\n",
       "      <td>0.122772</td>\n",
       "      <td>0.059731</td>\n",
       "    </tr>\n",
       "    <tr>\n",
       "      <th>run</th>\n",
       "      <td>NaN</td>\n",
       "      <td>0.015367</td>\n",
       "      <td>0.625318</td>\n",
       "      <td>0.024785</td>\n",
       "      <td>0.047607</td>\n",
       "      <td>0.046570</td>\n",
       "      <td>0.041314</td>\n",
       "      <td>0.039402</td>\n",
       "      <td>1.000000</td>\n",
       "      <td>NaN</td>\n",
       "      <td>0.148442</td>\n",
       "      <td>-0.382701</td>\n",
       "      <td>0.323883</td>\n",
       "      <td>-0.066380</td>\n",
       "      <td>0.042437</td>\n",
       "      <td>0.232605</td>\n",
       "      <td>0.147413</td>\n",
       "      <td>0.144918</td>\n",
       "    </tr>\n",
       "    <tr>\n",
       "      <th>rerun</th>\n",
       "      <td>NaN</td>\n",
       "      <td>NaN</td>\n",
       "      <td>NaN</td>\n",
       "      <td>NaN</td>\n",
       "      <td>NaN</td>\n",
       "      <td>NaN</td>\n",
       "      <td>NaN</td>\n",
       "      <td>NaN</td>\n",
       "      <td>NaN</td>\n",
       "      <td>NaN</td>\n",
       "      <td>NaN</td>\n",
       "      <td>NaN</td>\n",
       "      <td>NaN</td>\n",
       "      <td>NaN</td>\n",
       "      <td>NaN</td>\n",
       "      <td>NaN</td>\n",
       "      <td>NaN</td>\n",
       "      <td>NaN</td>\n",
       "    </tr>\n",
       "    <tr>\n",
       "      <th>camcol</th>\n",
       "      <td>NaN</td>\n",
       "      <td>-0.060535</td>\n",
       "      <td>0.392055</td>\n",
       "      <td>0.009872</td>\n",
       "      <td>0.004443</td>\n",
       "      <td>0.003740</td>\n",
       "      <td>0.005200</td>\n",
       "      <td>0.004185</td>\n",
       "      <td>0.148442</td>\n",
       "      <td>NaN</td>\n",
       "      <td>1.000000</td>\n",
       "      <td>-0.066996</td>\n",
       "      <td>0.076472</td>\n",
       "      <td>-0.006186</td>\n",
       "      <td>0.005289</td>\n",
       "      <td>0.080126</td>\n",
       "      <td>0.067925</td>\n",
       "      <td>0.546223</td>\n",
       "    </tr>\n",
       "    <tr>\n",
       "      <th>field</th>\n",
       "      <td>NaN</td>\n",
       "      <td>0.587106</td>\n",
       "      <td>-0.142701</td>\n",
       "      <td>0.010133</td>\n",
       "      <td>0.014709</td>\n",
       "      <td>0.015729</td>\n",
       "      <td>0.017771</td>\n",
       "      <td>0.018176</td>\n",
       "      <td>-0.382701</td>\n",
       "      <td>NaN</td>\n",
       "      <td>-0.066996</td>\n",
       "      <td>1.000000</td>\n",
       "      <td>-0.057377</td>\n",
       "      <td>0.007005</td>\n",
       "      <td>-0.021382</td>\n",
       "      <td>-0.079826</td>\n",
       "      <td>-0.118489</td>\n",
       "      <td>-0.037365</td>\n",
       "    </tr>\n",
       "    <tr>\n",
       "      <th>specobjid</th>\n",
       "      <td>NaN</td>\n",
       "      <td>0.015224</td>\n",
       "      <td>0.287271</td>\n",
       "      <td>-0.149325</td>\n",
       "      <td>-0.090095</td>\n",
       "      <td>-0.024030</td>\n",
       "      <td>0.025687</td>\n",
       "      <td>0.065854</td>\n",
       "      <td>0.323883</td>\n",
       "      <td>NaN</td>\n",
       "      <td>0.076472</td>\n",
       "      <td>-0.057377</td>\n",
       "      <td>1.000000</td>\n",
       "      <td>0.565908</td>\n",
       "      <td>-0.449096</td>\n",
       "      <td>0.909686</td>\n",
       "      <td>0.743049</td>\n",
       "      <td>0.113185</td>\n",
       "    </tr>\n",
       "    <tr>\n",
       "      <th>class</th>\n",
       "      <td>NaN</td>\n",
       "      <td>-0.010821</td>\n",
       "      <td>-0.043486</td>\n",
       "      <td>-0.251365</td>\n",
       "      <td>-0.082563</td>\n",
       "      <td>0.052573</td>\n",
       "      <td>0.146682</td>\n",
       "      <td>0.216925</td>\n",
       "      <td>-0.066380</td>\n",
       "      <td>NaN</td>\n",
       "      <td>-0.006186</td>\n",
       "      <td>0.007005</td>\n",
       "      <td>0.565908</td>\n",
       "      <td>1.000000</td>\n",
       "      <td>-0.736648</td>\n",
       "      <td>0.598131</td>\n",
       "      <td>0.561797</td>\n",
       "      <td>0.045830</td>\n",
       "    </tr>\n",
       "    <tr>\n",
       "      <th>redshift</th>\n",
       "      <td>NaN</td>\n",
       "      <td>0.003844</td>\n",
       "      <td>-0.003288</td>\n",
       "      <td>0.381865</td>\n",
       "      <td>0.376605</td>\n",
       "      <td>0.252699</td>\n",
       "      <td>0.167707</td>\n",
       "      <td>0.103689</td>\n",
       "      <td>0.042437</td>\n",
       "      <td>NaN</td>\n",
       "      <td>0.005289</td>\n",
       "      <td>-0.021382</td>\n",
       "      <td>-0.449096</td>\n",
       "      <td>-0.736648</td>\n",
       "      <td>1.000000</td>\n",
       "      <td>-0.458514</td>\n",
       "      <td>-0.414052</td>\n",
       "      <td>-0.011767</td>\n",
       "    </tr>\n",
       "    <tr>\n",
       "      <th>plate</th>\n",
       "      <td>NaN</td>\n",
       "      <td>-0.043891</td>\n",
       "      <td>0.206556</td>\n",
       "      <td>-0.132412</td>\n",
       "      <td>-0.057879</td>\n",
       "      <td>0.014348</td>\n",
       "      <td>0.067876</td>\n",
       "      <td>0.108868</td>\n",
       "      <td>0.232605</td>\n",
       "      <td>NaN</td>\n",
       "      <td>0.080126</td>\n",
       "      <td>-0.079826</td>\n",
       "      <td>0.909686</td>\n",
       "      <td>0.598131</td>\n",
       "      <td>-0.458514</td>\n",
       "      <td>1.000000</td>\n",
       "      <td>0.924727</td>\n",
       "      <td>0.192632</td>\n",
       "    </tr>\n",
       "    <tr>\n",
       "      <th>mjd</th>\n",
       "      <td>NaN</td>\n",
       "      <td>-0.053590</td>\n",
       "      <td>0.050285</td>\n",
       "      <td>-0.117060</td>\n",
       "      <td>-0.036545</td>\n",
       "      <td>0.033596</td>\n",
       "      <td>0.084789</td>\n",
       "      <td>0.122772</td>\n",
       "      <td>0.147413</td>\n",
       "      <td>NaN</td>\n",
       "      <td>0.067925</td>\n",
       "      <td>-0.118489</td>\n",
       "      <td>0.743049</td>\n",
       "      <td>0.561797</td>\n",
       "      <td>-0.414052</td>\n",
       "      <td>0.924727</td>\n",
       "      <td>1.000000</td>\n",
       "      <td>0.205380</td>\n",
       "    </tr>\n",
       "    <tr>\n",
       "      <th>fiberid</th>\n",
       "      <td>NaN</td>\n",
       "      <td>0.009121</td>\n",
       "      <td>0.295278</td>\n",
       "      <td>0.007498</td>\n",
       "      <td>0.041139</td>\n",
       "      <td>0.053719</td>\n",
       "      <td>0.059608</td>\n",
       "      <td>0.059731</td>\n",
       "      <td>0.144918</td>\n",
       "      <td>NaN</td>\n",
       "      <td>0.546223</td>\n",
       "      <td>-0.037365</td>\n",
       "      <td>0.113185</td>\n",
       "      <td>0.045830</td>\n",
       "      <td>-0.011767</td>\n",
       "      <td>0.192632</td>\n",
       "      <td>0.205380</td>\n",
       "      <td>1.000000</td>\n",
       "    </tr>\n",
       "  </tbody>\n",
       "</table>\n",
       "</div>"
      ],
      "text/plain": [
       "           objid        ra       dec         u         g         r         i  \\\n",
       "objid        NaN       NaN       NaN       NaN       NaN       NaN       NaN   \n",
       "ra           NaN  1.000000 -0.099025  0.025992  0.034531  0.034917  0.034367   \n",
       "dec          NaN -0.099025  1.000000  0.027279  0.033889  0.029393  0.024513   \n",
       "u            NaN  0.025992  0.027279  1.000000  0.798355  0.644857  0.570774   \n",
       "g            NaN  0.034531  0.033889  0.798355  1.000000  0.959572  0.917869   \n",
       "r            NaN  0.034917  0.029393  0.644857  0.959572  1.000000  0.988125   \n",
       "i            NaN  0.034367  0.024513  0.570774  0.917869  0.988125  1.000000   \n",
       "z            NaN  0.034826  0.021956  0.507525  0.878222  0.969963  0.992448   \n",
       "run          NaN  0.015367  0.625318  0.024785  0.047607  0.046570  0.041314   \n",
       "rerun        NaN       NaN       NaN       NaN       NaN       NaN       NaN   \n",
       "camcol       NaN -0.060535  0.392055  0.009872  0.004443  0.003740  0.005200   \n",
       "field        NaN  0.587106 -0.142701  0.010133  0.014709  0.015729  0.017771   \n",
       "specobjid    NaN  0.015224  0.287271 -0.149325 -0.090095 -0.024030  0.025687   \n",
       "class        NaN -0.010821 -0.043486 -0.251365 -0.082563  0.052573  0.146682   \n",
       "redshift     NaN  0.003844 -0.003288  0.381865  0.376605  0.252699  0.167707   \n",
       "plate        NaN -0.043891  0.206556 -0.132412 -0.057879  0.014348  0.067876   \n",
       "mjd          NaN -0.053590  0.050285 -0.117060 -0.036545  0.033596  0.084789   \n",
       "fiberid      NaN  0.009121  0.295278  0.007498  0.041139  0.053719  0.059608   \n",
       "\n",
       "                  z       run  rerun    camcol     field  specobjid     class  \\\n",
       "objid           NaN       NaN    NaN       NaN       NaN        NaN       NaN   \n",
       "ra         0.034826  0.015367    NaN -0.060535  0.587106   0.015224 -0.010821   \n",
       "dec        0.021956  0.625318    NaN  0.392055 -0.142701   0.287271 -0.043486   \n",
       "u          0.507525  0.024785    NaN  0.009872  0.010133  -0.149325 -0.251365   \n",
       "g          0.878222  0.047607    NaN  0.004443  0.014709  -0.090095 -0.082563   \n",
       "r          0.969963  0.046570    NaN  0.003740  0.015729  -0.024030  0.052573   \n",
       "i          0.992448  0.041314    NaN  0.005200  0.017771   0.025687  0.146682   \n",
       "z          1.000000  0.039402    NaN  0.004185  0.018176   0.065854  0.216925   \n",
       "run        0.039402  1.000000    NaN  0.148442 -0.382701   0.323883 -0.066380   \n",
       "rerun           NaN       NaN    NaN       NaN       NaN        NaN       NaN   \n",
       "camcol     0.004185  0.148442    NaN  1.000000 -0.066996   0.076472 -0.006186   \n",
       "field      0.018176 -0.382701    NaN -0.066996  1.000000  -0.057377  0.007005   \n",
       "specobjid  0.065854  0.323883    NaN  0.076472 -0.057377   1.000000  0.565908   \n",
       "class      0.216925 -0.066380    NaN -0.006186  0.007005   0.565908  1.000000   \n",
       "redshift   0.103689  0.042437    NaN  0.005289 -0.021382  -0.449096 -0.736648   \n",
       "plate      0.108868  0.232605    NaN  0.080126 -0.079826   0.909686  0.598131   \n",
       "mjd        0.122772  0.147413    NaN  0.067925 -0.118489   0.743049  0.561797   \n",
       "fiberid    0.059731  0.144918    NaN  0.546223 -0.037365   0.113185  0.045830   \n",
       "\n",
       "           redshift     plate       mjd   fiberid  \n",
       "objid           NaN       NaN       NaN       NaN  \n",
       "ra         0.003844 -0.043891 -0.053590  0.009121  \n",
       "dec       -0.003288  0.206556  0.050285  0.295278  \n",
       "u          0.381865 -0.132412 -0.117060  0.007498  \n",
       "g          0.376605 -0.057879 -0.036545  0.041139  \n",
       "r          0.252699  0.014348  0.033596  0.053719  \n",
       "i          0.167707  0.067876  0.084789  0.059608  \n",
       "z          0.103689  0.108868  0.122772  0.059731  \n",
       "run        0.042437  0.232605  0.147413  0.144918  \n",
       "rerun           NaN       NaN       NaN       NaN  \n",
       "camcol     0.005289  0.080126  0.067925  0.546223  \n",
       "field     -0.021382 -0.079826 -0.118489 -0.037365  \n",
       "specobjid -0.449096  0.909686  0.743049  0.113185  \n",
       "class     -0.736648  0.598131  0.561797  0.045830  \n",
       "redshift   1.000000 -0.458514 -0.414052 -0.011767  \n",
       "plate     -0.458514  1.000000  0.924727  0.192632  \n",
       "mjd       -0.414052  0.924727  1.000000  0.205380  \n",
       "fiberid   -0.011767  0.192632  0.205380  1.000000  "
      ]
     },
     "execution_count": 28,
     "metadata": {},
     "output_type": "execute_result"
    }
   ],
   "source": [
    "space.corr()"
   ]
  },
  {
   "cell_type": "markdown",
   "metadata": {},
   "source": [
    "#observations-\n",
    "1. from above we can see class is positively corr with g,r,l,field,specobjib,plate,mjd,fiberid and negatively corr with rest others.\n",
    "2. rerun,objid has NAN value so we can drop this column"
   ]
  },
  {
   "cell_type": "code",
   "execution_count": 29,
   "metadata": {},
   "outputs": [],
   "source": [
    "space.drop(['rerun'], axis=1, inplace=True)\n",
    "space.drop(['objid'], axis=1, inplace=True)"
   ]
  },
  {
   "cell_type": "code",
   "execution_count": 30,
   "metadata": {},
   "outputs": [
    {
     "data": {
      "text/plain": [
       "Index(['ra', 'dec', 'u', 'g', 'r', 'i', 'z', 'run', 'camcol', 'field',\n",
       "       'specobjid', 'class', 'redshift', 'plate', 'mjd', 'fiberid'],\n",
       "      dtype='object')"
      ]
     },
     "execution_count": 30,
     "metadata": {},
     "output_type": "execute_result"
    }
   ],
   "source": [
    "space.columns"
   ]
  },
  {
   "cell_type": "markdown",
   "metadata": {},
   "source": [
    "##Further Analysis of the data"
   ]
  },
  {
   "cell_type": "code",
   "execution_count": 31,
   "metadata": {},
   "outputs": [
    {
     "data": {
      "text/html": [
       "<div>\n",
       "<style scoped>\n",
       "    .dataframe tbody tr th:only-of-type {\n",
       "        vertical-align: middle;\n",
       "    }\n",
       "\n",
       "    .dataframe tbody tr th {\n",
       "        vertical-align: top;\n",
       "    }\n",
       "\n",
       "    .dataframe thead th {\n",
       "        text-align: right;\n",
       "    }\n",
       "</style>\n",
       "<table border=\"1\" class=\"dataframe\">\n",
       "  <thead>\n",
       "    <tr style=\"text-align: right;\">\n",
       "      <th></th>\n",
       "      <th>ra</th>\n",
       "      <th>dec</th>\n",
       "      <th>u</th>\n",
       "      <th>g</th>\n",
       "      <th>r</th>\n",
       "      <th>i</th>\n",
       "      <th>z</th>\n",
       "      <th>run</th>\n",
       "      <th>camcol</th>\n",
       "      <th>field</th>\n",
       "      <th>specobjid</th>\n",
       "      <th>redshift</th>\n",
       "      <th>plate</th>\n",
       "      <th>mjd</th>\n",
       "      <th>fiberid</th>\n",
       "    </tr>\n",
       "    <tr>\n",
       "      <th>class</th>\n",
       "      <th></th>\n",
       "      <th></th>\n",
       "      <th></th>\n",
       "      <th></th>\n",
       "      <th></th>\n",
       "      <th></th>\n",
       "      <th></th>\n",
       "      <th></th>\n",
       "      <th></th>\n",
       "      <th></th>\n",
       "      <th></th>\n",
       "      <th></th>\n",
       "      <th></th>\n",
       "      <th></th>\n",
       "      <th></th>\n",
       "    </tr>\n",
       "  </thead>\n",
       "  <tbody>\n",
       "    <tr>\n",
       "      <th>0</th>\n",
       "      <td>5020.663866</td>\n",
       "      <td>5083.709284</td>\n",
       "      <td>5491.637455</td>\n",
       "      <td>4818.950580</td>\n",
       "      <td>4445.563425</td>\n",
       "      <td>4208.360344</td>\n",
       "      <td>4025.429772</td>\n",
       "      <td>8.002601</td>\n",
       "      <td>2.654662</td>\n",
       "      <td>289.754302</td>\n",
       "      <td>2569.539616</td>\n",
       "      <td>6289.842537</td>\n",
       "      <td>72.344138</td>\n",
       "      <td>59.293117</td>\n",
       "      <td>338.620448</td>\n",
       "    </tr>\n",
       "    <tr>\n",
       "      <th>1</th>\n",
       "      <td>5100.769412</td>\n",
       "      <td>5416.350588</td>\n",
       "      <td>5991.652941</td>\n",
       "      <td>8690.001176</td>\n",
       "      <td>8887.980000</td>\n",
       "      <td>8909.632941</td>\n",
       "      <td>8865.844706</td>\n",
       "      <td>8.792941</td>\n",
       "      <td>2.694118</td>\n",
       "      <td>293.800000</td>\n",
       "      <td>3297.212941</td>\n",
       "      <td>9150.694118</td>\n",
       "      <td>127.903529</td>\n",
       "      <td>96.138824</td>\n",
       "      <td>376.940000</td>\n",
       "    </tr>\n",
       "    <tr>\n",
       "      <th>2</th>\n",
       "      <td>4953.291908</td>\n",
       "      <td>4812.794557</td>\n",
       "      <td>3990.599229</td>\n",
       "      <td>4263.444846</td>\n",
       "      <td>4689.952071</td>\n",
       "      <td>5017.524326</td>\n",
       "      <td>5256.503613</td>\n",
       "      <td>7.165462</td>\n",
       "      <td>2.632225</td>\n",
       "      <td>292.089114</td>\n",
       "      <td>4830.716763</td>\n",
       "      <td>1891.933285</td>\n",
       "      <td>223.548170</td>\n",
       "      <td>151.353805</td>\n",
       "      <td>357.451830</td>\n",
       "    </tr>\n",
       "  </tbody>\n",
       "</table>\n",
       "</div>"
      ],
      "text/plain": [
       "                ra          dec            u            g            r  \\\n",
       "class                                                                    \n",
       "0      5020.663866  5083.709284  5491.637455  4818.950580  4445.563425   \n",
       "1      5100.769412  5416.350588  5991.652941  8690.001176  8887.980000   \n",
       "2      4953.291908  4812.794557  3990.599229  4263.444846  4689.952071   \n",
       "\n",
       "                 i            z       run    camcol       field    specobjid  \\\n",
       "class                                                                          \n",
       "0      4208.360344  4025.429772  8.002601  2.654662  289.754302  2569.539616   \n",
       "1      8909.632941  8865.844706  8.792941  2.694118  293.800000  3297.212941   \n",
       "2      5017.524326  5256.503613  7.165462  2.632225  292.089114  4830.716763   \n",
       "\n",
       "          redshift       plate         mjd     fiberid  \n",
       "class                                                   \n",
       "0      6289.842537   72.344138   59.293117  338.620448  \n",
       "1      9150.694118  127.903529   96.138824  376.940000  \n",
       "2      1891.933285  223.548170  151.353805  357.451830  "
      ]
     },
     "execution_count": 31,
     "metadata": {},
     "output_type": "execute_result"
    }
   ],
   "source": [
    "space.groupby('class').mean()\n",
    "#0=galaxy, 1= qso, 2= star\n"
   ]
  },
  {
   "cell_type": "code",
   "execution_count": 32,
   "metadata": {},
   "outputs": [
    {
     "data": {
      "text/html": [
       "<div>\n",
       "<style scoped>\n",
       "    .dataframe tbody tr th:only-of-type {\n",
       "        vertical-align: middle;\n",
       "    }\n",
       "\n",
       "    .dataframe tbody tr th {\n",
       "        vertical-align: top;\n",
       "    }\n",
       "\n",
       "    .dataframe thead th {\n",
       "        text-align: right;\n",
       "    }\n",
       "</style>\n",
       "<table border=\"1\" class=\"dataframe\">\n",
       "  <thead>\n",
       "    <tr style=\"text-align: right;\">\n",
       "      <th></th>\n",
       "      <th>redshift</th>\n",
       "      <th>z</th>\n",
       "    </tr>\n",
       "    <tr>\n",
       "      <th>plate</th>\n",
       "      <th></th>\n",
       "      <th></th>\n",
       "    </tr>\n",
       "  </thead>\n",
       "  <tbody>\n",
       "    <tr>\n",
       "      <th>0</th>\n",
       "      <td>4867.577778</td>\n",
       "      <td>4160.355556</td>\n",
       "    </tr>\n",
       "    <tr>\n",
       "      <th>1</th>\n",
       "      <td>5574.836066</td>\n",
       "      <td>4438.098361</td>\n",
       "    </tr>\n",
       "    <tr>\n",
       "      <th>2</th>\n",
       "      <td>5926.232877</td>\n",
       "      <td>3859.698630</td>\n",
       "    </tr>\n",
       "    <tr>\n",
       "      <th>3</th>\n",
       "      <td>5707.101449</td>\n",
       "      <td>4500.724638</td>\n",
       "    </tr>\n",
       "    <tr>\n",
       "      <th>4</th>\n",
       "      <td>6142.207547</td>\n",
       "      <td>4380.641509</td>\n",
       "    </tr>\n",
       "    <tr>\n",
       "      <th>...</th>\n",
       "      <td>...</td>\n",
       "      <td>...</td>\n",
       "    </tr>\n",
       "    <tr>\n",
       "      <th>482</th>\n",
       "      <td>3554.250000</td>\n",
       "      <td>8200.500000</td>\n",
       "    </tr>\n",
       "    <tr>\n",
       "      <th>483</th>\n",
       "      <td>6061.666667</td>\n",
       "      <td>8032.333333</td>\n",
       "    </tr>\n",
       "    <tr>\n",
       "      <th>484</th>\n",
       "      <td>2654.500000</td>\n",
       "      <td>6253.000000</td>\n",
       "    </tr>\n",
       "    <tr>\n",
       "      <th>485</th>\n",
       "      <td>25.000000</td>\n",
       "      <td>6814.000000</td>\n",
       "    </tr>\n",
       "    <tr>\n",
       "      <th>486</th>\n",
       "      <td>409.000000</td>\n",
       "      <td>8336.000000</td>\n",
       "    </tr>\n",
       "  </tbody>\n",
       "</table>\n",
       "<p>487 rows × 2 columns</p>\n",
       "</div>"
      ],
      "text/plain": [
       "          redshift            z\n",
       "plate                          \n",
       "0      4867.577778  4160.355556\n",
       "1      5574.836066  4438.098361\n",
       "2      5926.232877  3859.698630\n",
       "3      5707.101449  4500.724638\n",
       "4      6142.207547  4380.641509\n",
       "...            ...          ...\n",
       "482    3554.250000  8200.500000\n",
       "483    6061.666667  8032.333333\n",
       "484    2654.500000  6253.000000\n",
       "485      25.000000  6814.000000\n",
       "486     409.000000  8336.000000\n",
       "\n",
       "[487 rows x 2 columns]"
      ]
     },
     "execution_count": 32,
     "metadata": {},
     "output_type": "execute_result"
    }
   ],
   "source": [
    "space.pivot_table(values=('redshift','z'), index='plate')"
   ]
  },
  {
   "cell_type": "markdown",
   "metadata": {},
   "source": [
    "##Removing outliers and skewness"
   ]
  },
  {
   "cell_type": "code",
   "execution_count": 33,
   "metadata": {},
   "outputs": [
    {
     "name": "stdout",
     "output_type": "stream",
     "text": [
      "The shape before removing outliers and skewness (10000, 16)\n",
      "skewness before removing outliers\n",
      "ra           0.000000\n",
      "dec          0.000000\n",
      "u           -0.021847\n",
      "g           -0.006730\n",
      "r            0.000088\n",
      "i            0.000009\n",
      "z           -0.000981\n",
      "run          0.978221\n",
      "camcol      -0.100220\n",
      "field        0.229204\n",
      "specobjid   -0.323754\n",
      "class        0.169292\n",
      "redshift     0.068622\n",
      "plate        0.888700\n",
      "mjd          1.177842\n",
      "fiberid      0.150256\n",
      "dtype: float64\n",
      "new shape after removing outliers (10000, 16)\n",
      "skewness after removing outliers\n",
      "ra           0.000000\n",
      "dec          0.000000\n",
      "u           -0.021847\n",
      "g           -0.006730\n",
      "r            0.000088\n",
      "i            0.000009\n",
      "z           -0.000981\n",
      "run          0.978221\n",
      "camcol      -0.100220\n",
      "field        0.229204\n",
      "specobjid   -0.323754\n",
      "class        0.169292\n",
      "redshift     0.068622\n",
      "plate        0.888700\n",
      "mjd          1.177842\n",
      "fiberid      0.150256\n",
      "dtype: float64\n"
     ]
    }
   ],
   "source": [
    "#remove outliers and skewness\n",
    "print(\"The shape before removing outliers and skewness\", space.shape)\n",
    "\n",
    "print(\"skewness before removing outliers\")\n",
    "\n",
    "print(space.skew())\n",
    "\n",
    "from scipy.stats import zscore\n",
    "z=np.abs(zscore(space))\n",
    "fraud=space[(z<3).all(axis=1)]\n",
    "print(\"new shape after removing outliers\", space.shape)\n",
    "print(\"skewness after removing outliers\")\n",
    "print(space.skew())"
   ]
  },
  {
   "cell_type": "code",
   "execution_count": 34,
   "metadata": {},
   "outputs": [],
   "source": [
    "#reducing skewness using sqrt function\n",
    "for col in space.columns:\n",
    "    if space.skew().loc[col]>0.55:\n",
    "        space[col]=np.sqrt(space[col])"
   ]
  },
  {
   "cell_type": "code",
   "execution_count": 35,
   "metadata": {},
   "outputs": [
    {
     "data": {
      "text/plain": [
       "ra           0.000000\n",
       "dec          0.000000\n",
       "u           -0.021847\n",
       "g           -0.006730\n",
       "r            0.000088\n",
       "i            0.000009\n",
       "z           -0.000981\n",
       "run          0.677337\n",
       "camcol      -0.100220\n",
       "field        0.229204\n",
       "specobjid   -0.323754\n",
       "class        0.169292\n",
       "redshift     0.068622\n",
       "plate        0.119126\n",
       "mjd          0.256970\n",
       "fiberid      0.150256\n",
       "dtype: float64"
      ]
     },
     "execution_count": 35,
     "metadata": {},
     "output_type": "execute_result"
    }
   ],
   "source": [
    "space.skew()"
   ]
  },
  {
   "cell_type": "code",
   "execution_count": 36,
   "metadata": {},
   "outputs": [],
   "source": [
    "#further little reducing skewness using log1p function\n",
    "for col in space.columns:\n",
    "    if space.skew().loc[col]>0.55:\n",
    "        space[col]=np.log1p(space[col])"
   ]
  },
  {
   "cell_type": "code",
   "execution_count": 37,
   "metadata": {},
   "outputs": [
    {
     "data": {
      "text/plain": [
       "ra           0.000000\n",
       "dec          0.000000\n",
       "u           -0.021847\n",
       "g           -0.006730\n",
       "r            0.000088\n",
       "i            0.000009\n",
       "z           -0.000981\n",
       "run          0.213035\n",
       "camcol      -0.100220\n",
       "field        0.229204\n",
       "specobjid   -0.323754\n",
       "class        0.169292\n",
       "redshift     0.068622\n",
       "plate        0.119126\n",
       "mjd          0.256970\n",
       "fiberid      0.150256\n",
       "dtype: float64"
      ]
     },
     "execution_count": 37,
     "metadata": {},
     "output_type": "execute_result"
    }
   ],
   "source": [
    "space.skew()"
   ]
  },
  {
   "cell_type": "markdown",
   "metadata": {},
   "source": [
    "##Splitting the data into target and input"
   ]
  },
  {
   "cell_type": "code",
   "execution_count": 38,
   "metadata": {},
   "outputs": [],
   "source": [
    "space.rename(columns={'class':'cls'}, inplace=True)\n",
    "#as class won't work, so chnge the name to cls"
   ]
  },
  {
   "cell_type": "code",
   "execution_count": 39,
   "metadata": {},
   "outputs": [
    {
     "data": {
      "text/html": [
       "<div>\n",
       "<style scoped>\n",
       "    .dataframe tbody tr th:only-of-type {\n",
       "        vertical-align: middle;\n",
       "    }\n",
       "\n",
       "    .dataframe tbody tr th {\n",
       "        vertical-align: top;\n",
       "    }\n",
       "\n",
       "    .dataframe thead th {\n",
       "        text-align: right;\n",
       "    }\n",
       "</style>\n",
       "<table border=\"1\" class=\"dataframe\">\n",
       "  <thead>\n",
       "    <tr style=\"text-align: right;\">\n",
       "      <th></th>\n",
       "      <th>ra</th>\n",
       "      <th>dec</th>\n",
       "      <th>u</th>\n",
       "      <th>g</th>\n",
       "      <th>r</th>\n",
       "      <th>i</th>\n",
       "      <th>z</th>\n",
       "      <th>run</th>\n",
       "      <th>camcol</th>\n",
       "      <th>field</th>\n",
       "      <th>specobjid</th>\n",
       "      <th>cls</th>\n",
       "      <th>redshift</th>\n",
       "      <th>plate</th>\n",
       "      <th>mjd</th>\n",
       "      <th>fiberid</th>\n",
       "    </tr>\n",
       "  </thead>\n",
       "  <tbody>\n",
       "    <tr>\n",
       "      <th>0</th>\n",
       "      <td>5378</td>\n",
       "      <td>4030</td>\n",
       "      <td>8818</td>\n",
       "      <td>3143</td>\n",
       "      <td>1853</td>\n",
       "      <td>1594</td>\n",
       "      <td>1474</td>\n",
       "      <td>1.005053</td>\n",
       "      <td>3</td>\n",
       "      <td>256</td>\n",
       "      <td>5641</td>\n",
       "      <td>2</td>\n",
       "      <td>1681</td>\n",
       "      <td>16.340135</td>\n",
       "      <td>13.490738</td>\n",
       "      <td>490</td>\n",
       "    </tr>\n",
       "    <tr>\n",
       "      <th>1</th>\n",
       "      <td>5392</td>\n",
       "      <td>4145</td>\n",
       "      <td>4066</td>\n",
       "      <td>3722</td>\n",
       "      <td>4220</td>\n",
       "      <td>4703</td>\n",
       "      <td>4956</td>\n",
       "      <td>1.005053</td>\n",
       "      <td>3</td>\n",
       "      <td>256</td>\n",
       "      <td>2267</td>\n",
       "      <td>2</td>\n",
       "      <td>1437</td>\n",
       "      <td>7.000000</td>\n",
       "      <td>2.449490</td>\n",
       "      <td>540</td>\n",
       "    </tr>\n",
       "    <tr>\n",
       "      <th>2</th>\n",
       "      <td>5405</td>\n",
       "      <td>4118</td>\n",
       "      <td>8203</td>\n",
       "      <td>8155</td>\n",
       "      <td>7210</td>\n",
       "      <td>6793</td>\n",
       "      <td>6350</td>\n",
       "      <td>1.005053</td>\n",
       "      <td>3</td>\n",
       "      <td>257</td>\n",
       "      <td>1289</td>\n",
       "      <td>0</td>\n",
       "      <td>8222</td>\n",
       "      <td>4.582576</td>\n",
       "      <td>8.944272</td>\n",
       "      <td>512</td>\n",
       "    </tr>\n",
       "    <tr>\n",
       "      <th>3</th>\n",
       "      <td>5458</td>\n",
       "      <td>3910</td>\n",
       "      <td>1569</td>\n",
       "      <td>1960</td>\n",
       "      <td>2431</td>\n",
       "      <td>2897</td>\n",
       "      <td>3415</td>\n",
       "      <td>1.005053</td>\n",
       "      <td>3</td>\n",
       "      <td>258</td>\n",
       "      <td>5642</td>\n",
       "      <td>2</td>\n",
       "      <td>1162</td>\n",
       "      <td>16.340135</td>\n",
       "      <td>13.490738</td>\n",
       "      <td>509</td>\n",
       "    </tr>\n",
       "    <tr>\n",
       "      <th>4</th>\n",
       "      <td>5462</td>\n",
       "      <td>4064</td>\n",
       "      <td>1206</td>\n",
       "      <td>1255</td>\n",
       "      <td>3347</td>\n",
       "      <td>4943</td>\n",
       "      <td>5701</td>\n",
       "      <td>1.005053</td>\n",
       "      <td>3</td>\n",
       "      <td>258</td>\n",
       "      <td>5642</td>\n",
       "      <td>2</td>\n",
       "      <td>3501</td>\n",
       "      <td>16.340135</td>\n",
       "      <td>13.490738</td>\n",
       "      <td>511</td>\n",
       "    </tr>\n",
       "  </tbody>\n",
       "</table>\n",
       "</div>"
      ],
      "text/plain": [
       "     ra   dec     u     g     r     i     z       run  camcol  field  \\\n",
       "0  5378  4030  8818  3143  1853  1594  1474  1.005053       3    256   \n",
       "1  5392  4145  4066  3722  4220  4703  4956  1.005053       3    256   \n",
       "2  5405  4118  8203  8155  7210  6793  6350  1.005053       3    257   \n",
       "3  5458  3910  1569  1960  2431  2897  3415  1.005053       3    258   \n",
       "4  5462  4064  1206  1255  3347  4943  5701  1.005053       3    258   \n",
       "\n",
       "   specobjid  cls  redshift      plate        mjd  fiberid  \n",
       "0       5641    2      1681  16.340135  13.490738      490  \n",
       "1       2267    2      1437   7.000000   2.449490      540  \n",
       "2       1289    0      8222   4.582576   8.944272      512  \n",
       "3       5642    2      1162  16.340135  13.490738      509  \n",
       "4       5642    2      3501  16.340135  13.490738      511  "
      ]
     },
     "execution_count": 39,
     "metadata": {},
     "output_type": "execute_result"
    }
   ],
   "source": [
    "space.head()"
   ]
  },
  {
   "cell_type": "code",
   "execution_count": 40,
   "metadata": {},
   "outputs": [
    {
     "data": {
      "text/html": [
       "<div>\n",
       "<style scoped>\n",
       "    .dataframe tbody tr th:only-of-type {\n",
       "        vertical-align: middle;\n",
       "    }\n",
       "\n",
       "    .dataframe tbody tr th {\n",
       "        vertical-align: top;\n",
       "    }\n",
       "\n",
       "    .dataframe thead th {\n",
       "        text-align: right;\n",
       "    }\n",
       "</style>\n",
       "<table border=\"1\" class=\"dataframe\">\n",
       "  <thead>\n",
       "    <tr style=\"text-align: right;\">\n",
       "      <th></th>\n",
       "      <th>cls</th>\n",
       "    </tr>\n",
       "  </thead>\n",
       "  <tbody>\n",
       "    <tr>\n",
       "      <th>0</th>\n",
       "      <td>2</td>\n",
       "    </tr>\n",
       "    <tr>\n",
       "      <th>1</th>\n",
       "      <td>2</td>\n",
       "    </tr>\n",
       "    <tr>\n",
       "      <th>2</th>\n",
       "      <td>0</td>\n",
       "    </tr>\n",
       "    <tr>\n",
       "      <th>3</th>\n",
       "      <td>2</td>\n",
       "    </tr>\n",
       "    <tr>\n",
       "      <th>4</th>\n",
       "      <td>2</td>\n",
       "    </tr>\n",
       "  </tbody>\n",
       "</table>\n",
       "</div>"
      ],
      "text/plain": [
       "   cls\n",
       "0    2\n",
       "1    2\n",
       "2    0\n",
       "3    2\n",
       "4    2"
      ]
     },
     "execution_count": 40,
     "metadata": {},
     "output_type": "execute_result"
    }
   ],
   "source": [
    "x=space.drop('cls', axis=1)\n",
    "x.head()\n",
    "y=pd.DataFrame(space.cls)\n",
    "y.head()"
   ]
  },
  {
   "cell_type": "code",
   "execution_count": 41,
   "metadata": {},
   "outputs": [
    {
     "data": {
      "text/html": [
       "<div>\n",
       "<style scoped>\n",
       "    .dataframe tbody tr th:only-of-type {\n",
       "        vertical-align: middle;\n",
       "    }\n",
       "\n",
       "    .dataframe tbody tr th {\n",
       "        vertical-align: top;\n",
       "    }\n",
       "\n",
       "    .dataframe thead th {\n",
       "        text-align: right;\n",
       "    }\n",
       "</style>\n",
       "<table border=\"1\" class=\"dataframe\">\n",
       "  <thead>\n",
       "    <tr style=\"text-align: right;\">\n",
       "      <th></th>\n",
       "      <th>0</th>\n",
       "      <th>1</th>\n",
       "      <th>2</th>\n",
       "      <th>3</th>\n",
       "      <th>4</th>\n",
       "      <th>5</th>\n",
       "      <th>6</th>\n",
       "      <th>7</th>\n",
       "      <th>8</th>\n",
       "      <th>9</th>\n",
       "      <th>10</th>\n",
       "      <th>11</th>\n",
       "      <th>12</th>\n",
       "      <th>13</th>\n",
       "      <th>14</th>\n",
       "    </tr>\n",
       "  </thead>\n",
       "  <tbody>\n",
       "    <tr>\n",
       "      <th>0</th>\n",
       "      <td>0.537854</td>\n",
       "      <td>0.403040</td>\n",
       "      <td>0.906362</td>\n",
       "      <td>0.320192</td>\n",
       "      <td>0.188103</td>\n",
       "      <td>0.161189</td>\n",
       "      <td>0.148964</td>\n",
       "      <td>0.578021</td>\n",
       "      <td>0.6</td>\n",
       "      <td>0.364672</td>\n",
       "      <td>0.888626</td>\n",
       "      <td>0.174450</td>\n",
       "      <td>0.741204</td>\n",
       "      <td>0.717025</td>\n",
       "      <td>0.549944</td>\n",
       "    </tr>\n",
       "    <tr>\n",
       "      <th>1</th>\n",
       "      <td>0.539254</td>\n",
       "      <td>0.414541</td>\n",
       "      <td>0.417926</td>\n",
       "      <td>0.379177</td>\n",
       "      <td>0.428383</td>\n",
       "      <td>0.475579</td>\n",
       "      <td>0.500859</td>\n",
       "      <td>0.578021</td>\n",
       "      <td>0.6</td>\n",
       "      <td>0.364672</td>\n",
       "      <td>0.357120</td>\n",
       "      <td>0.149128</td>\n",
       "      <td>0.317526</td>\n",
       "      <td>0.130189</td>\n",
       "      <td>0.606061</td>\n",
       "    </tr>\n",
       "    <tr>\n",
       "      <th>2</th>\n",
       "      <td>0.540554</td>\n",
       "      <td>0.411841</td>\n",
       "      <td>0.843149</td>\n",
       "      <td>0.830786</td>\n",
       "      <td>0.731905</td>\n",
       "      <td>0.686925</td>\n",
       "      <td>0.641738</td>\n",
       "      <td>0.578021</td>\n",
       "      <td>0.6</td>\n",
       "      <td>0.366097</td>\n",
       "      <td>0.203056</td>\n",
       "      <td>0.853259</td>\n",
       "      <td>0.207870</td>\n",
       "      <td>0.475383</td>\n",
       "      <td>0.574635</td>\n",
       "    </tr>\n",
       "    <tr>\n",
       "      <th>3</th>\n",
       "      <td>0.545855</td>\n",
       "      <td>0.391039</td>\n",
       "      <td>0.161270</td>\n",
       "      <td>0.199674</td>\n",
       "      <td>0.246777</td>\n",
       "      <td>0.292952</td>\n",
       "      <td>0.345124</td>\n",
       "      <td>0.578021</td>\n",
       "      <td>0.6</td>\n",
       "      <td>0.367521</td>\n",
       "      <td>0.888784</td>\n",
       "      <td>0.120589</td>\n",
       "      <td>0.741204</td>\n",
       "      <td>0.717025</td>\n",
       "      <td>0.571268</td>\n",
       "    </tr>\n",
       "    <tr>\n",
       "      <th>4</th>\n",
       "      <td>0.546255</td>\n",
       "      <td>0.406441</td>\n",
       "      <td>0.123959</td>\n",
       "      <td>0.127852</td>\n",
       "      <td>0.339762</td>\n",
       "      <td>0.499848</td>\n",
       "      <td>0.576150</td>\n",
       "      <td>0.578021</td>\n",
       "      <td>0.6</td>\n",
       "      <td>0.367521</td>\n",
       "      <td>0.888784</td>\n",
       "      <td>0.363325</td>\n",
       "      <td>0.741204</td>\n",
       "      <td>0.717025</td>\n",
       "      <td>0.573513</td>\n",
       "    </tr>\n",
       "  </tbody>\n",
       "</table>\n",
       "</div>"
      ],
      "text/plain": [
       "          0         1         2         3         4         5         6  \\\n",
       "0  0.537854  0.403040  0.906362  0.320192  0.188103  0.161189  0.148964   \n",
       "1  0.539254  0.414541  0.417926  0.379177  0.428383  0.475579  0.500859   \n",
       "2  0.540554  0.411841  0.843149  0.830786  0.731905  0.686925  0.641738   \n",
       "3  0.545855  0.391039  0.161270  0.199674  0.246777  0.292952  0.345124   \n",
       "4  0.546255  0.406441  0.123959  0.127852  0.339762  0.499848  0.576150   \n",
       "\n",
       "          7    8         9        10        11        12        13        14  \n",
       "0  0.578021  0.6  0.364672  0.888626  0.174450  0.741204  0.717025  0.549944  \n",
       "1  0.578021  0.6  0.364672  0.357120  0.149128  0.317526  0.130189  0.606061  \n",
       "2  0.578021  0.6  0.366097  0.203056  0.853259  0.207870  0.475383  0.574635  \n",
       "3  0.578021  0.6  0.367521  0.888784  0.120589  0.741204  0.717025  0.571268  \n",
       "4  0.578021  0.6  0.367521  0.888784  0.363325  0.741204  0.717025  0.573513  "
      ]
     },
     "execution_count": 41,
     "metadata": {},
     "output_type": "execute_result"
    }
   ],
   "source": [
    "from sklearn.preprocessing import MinMaxScaler\n",
    "scaler=MinMaxScaler()\n",
    "x=pd.DataFrame(scaler.fit_transform(x))\n",
    "x.head()"
   ]
  },
  {
   "cell_type": "markdown",
   "metadata": {},
   "source": [
    "##Importing necessary libraries"
   ]
  },
  {
   "cell_type": "raw",
   "metadata": {},
   "source": [
    "#since the target is categorical, so, classification can be used"
   ]
  },
  {
   "cell_type": "code",
   "execution_count": 42,
   "metadata": {},
   "outputs": [],
   "source": [
    "from sklearn.model_selection import train_test_split, cross_val_score\n",
    "from sklearn.neighbors import KNeighborsClassifier\n",
    "from sklearn.tree import DecisionTreeClassifier\n",
    "from sklearn.svm import SVC\n",
    "from sklearn.naive_bayes import MultinomialNB\n",
    "from sklearn.metrics import accuracy_score, confusion_matrix, classification_report, roc_auc_score, roc_curve, auc"
   ]
  },
  {
   "cell_type": "markdown",
   "metadata": {},
   "source": [
    "##Finding out the best random_state"
   ]
  },
  {
   "cell_type": "code",
   "execution_count": 43,
   "metadata": {},
   "outputs": [],
   "source": [
    "def max_accuracy(reg,x,y):\n",
    "    max_acc_score=0\n",
    "    for r_state in range(42,101):\n",
    "        train_x,test_x,train_y,test_y=train_test_split(x,y,random_state=r_state,test_size=0.20)\n",
    "        reg.fit(train_x,train_y)\n",
    "        pred=reg.predict(test_x)\n",
    "        acc_score=accuracy_score(test_y,pred)\n",
    "        print(\"The accuracy score achieved at r state\", r_state, \"is\", acc_score)\n",
    "        if acc_score>max_acc_score:\n",
    "            max_acc_score=acc_score\n",
    "            final_r_state=r_state\n",
    "    print(\"The maximum accuracy\", max_acc_score, \"is achieved at random state\", final_r_state)\n",
    "    return max_acc_score"
   ]
  },
  {
   "cell_type": "code",
   "execution_count": 44,
   "metadata": {},
   "outputs": [],
   "source": [
    "#Finalising the train test data\n",
    "train_x,test_x,train_y,test_y=train_test_split(x,y,random_state=59,test_size=0.20)"
   ]
  },
  {
   "cell_type": "code",
   "execution_count": 45,
   "metadata": {},
   "outputs": [
    {
     "name": "stdout",
     "output_type": "stream",
     "text": [
      "(8000, 15)\n",
      "(8000, 1)\n",
      "(2000, 15)\n",
      "(2000, 1)\n"
     ]
    }
   ],
   "source": [
    "print(train_x.shape)\n",
    "print(train_y.shape)\n",
    "print(test_x.shape)\n",
    "print(test_y.shape)"
   ]
  },
  {
   "cell_type": "code",
   "execution_count": 46,
   "metadata": {},
   "outputs": [
    {
     "data": {
      "text/plain": [
       "{'criterion': 'gini', 'splitter': 'best'}"
      ]
     },
     "execution_count": 46,
     "metadata": {},
     "output_type": "execute_result"
    }
   ],
   "source": [
    "#Let us use the other classification models and for the same let us use GridSearchCV to bring out the best parameters\n",
    "from sklearn.model_selection import GridSearchCV\n",
    "from sklearn.tree import DecisionTreeClassifier\n",
    "dt=DecisionTreeClassifier()\n",
    "parameters={'criterion':('gini','entropy'), 'splitter':('best','random')}\n",
    "gddt=GridSearchCV(dt,parameters)\n",
    "gddt.fit(train_x,train_y)\n",
    "gddt.best_params_"
   ]
  },
  {
   "cell_type": "code",
   "execution_count": 47,
   "metadata": {},
   "outputs": [
    {
     "data": {
      "text/plain": [
       "{'C': 10, 'kernel': 'linear'}"
      ]
     },
     "execution_count": 47,
     "metadata": {},
     "output_type": "execute_result"
    }
   ],
   "source": [
    "from sklearn.svm import SVC\n",
    "sv=SVC()\n",
    "parameters={'C':(1,10),'kernel':('linear','poly','rbf')}\n",
    "gdsv=GridSearchCV(sv,parameters)\n",
    "gdsv.fit(train_x,train_y)\n",
    "gdsv.best_params_"
   ]
  },
  {
   "cell_type": "code",
   "execution_count": 48,
   "metadata": {},
   "outputs": [
    {
     "data": {
      "text/plain": [
       "{'algorithm': 'auto', 'n_neighbors': 5, 'weights': 'distance'}"
      ]
     },
     "execution_count": 48,
     "metadata": {},
     "output_type": "execute_result"
    }
   ],
   "source": [
    "from sklearn.neighbors import KNeighborsClassifier\n",
    "kn=KNeighborsClassifier()\n",
    "parameters={'n_neighbors':(5,10,15,20),'weights':('uniform','distance'),'algorithm':('auto','ball_tree','kd_tree','brute')}\n",
    "gdkn=GridSearchCV(kn,parameters)\n",
    "gdkn.fit(train_x,train_y)\n",
    "gdkn.best_params_"
   ]
  },
  {
   "cell_type": "code",
   "execution_count": 50,
   "metadata": {
    "scrolled": false
   },
   "outputs": [
    {
     "name": "stdout",
     "output_type": "stream",
     "text": [
      "KNeighborsClassifier(algorithm='auto', leaf_size=30, metric='minkowski',\n",
      "                     metric_params=None, n_jobs=None, n_neighbors=5, p=2,\n",
      "                     weights='distance')\n",
      "\n",
      "The accuracy score is  0.9755\n",
      "\n",
      "The cross val score is 0.9608000000000001\n",
      "\n",
      "              precision    recall  f1-score   support\n",
      "\n",
      "           0       0.97      0.98      0.98      1017\n",
      "           1       0.99      0.95      0.97       164\n",
      "           2       0.98      0.97      0.98       819\n",
      "\n",
      "    accuracy                           0.98      2000\n",
      "   macro avg       0.98      0.97      0.97      2000\n",
      "weighted avg       0.98      0.98      0.98      2000\n",
      "\n",
      "\n",
      "[[999   2  16]\n",
      " [  8 155   1]\n",
      " [ 22   0 797]]\n",
      "\n",
      "DecisionTreeClassifier(ccp_alpha=0.0, class_weight=None, criterion='entropy',\n",
      "                       max_depth=None, max_features=None, max_leaf_nodes=None,\n",
      "                       min_impurity_decrease=0.0, min_impurity_split=None,\n",
      "                       min_samples_leaf=1, min_samples_split=2,\n",
      "                       min_weight_fraction_leaf=0.0, presort='deprecated',\n",
      "                       random_state=None, splitter='best')\n",
      "\n",
      "The accuracy score is  0.988\n",
      "\n",
      "The cross val score is 0.9865\n",
      "\n",
      "              precision    recall  f1-score   support\n",
      "\n",
      "           0       0.99      0.99      0.99      1017\n",
      "           1       0.92      0.95      0.93       164\n",
      "           2       1.00      1.00      1.00       819\n",
      "\n",
      "    accuracy                           0.99      2000\n",
      "   macro avg       0.97      0.98      0.97      2000\n",
      "weighted avg       0.99      0.99      0.99      2000\n",
      "\n",
      "\n",
      "[[1004   13    0]\n",
      " [   9  155    0]\n",
      " [   1    1  817]]\n",
      "\n",
      "SVC(C=10, break_ties=False, cache_size=200, class_weight=None, coef0=0.0,\n",
      "    decision_function_shape='ovr', degree=3, gamma='scale', kernel='linear',\n",
      "    max_iter=-1, probability=False, random_state=None, shrinking=True,\n",
      "    tol=0.001, verbose=False)\n",
      "\n",
      "The accuracy score is  0.992\n",
      "\n",
      "The cross val score is 0.985\n",
      "\n",
      "              precision    recall  f1-score   support\n",
      "\n",
      "           0       0.99      0.99      0.99      1017\n",
      "           1       0.98      0.98      0.98       164\n",
      "           2       0.99      1.00      0.99       819\n",
      "\n",
      "    accuracy                           0.99      2000\n",
      "   macro avg       0.99      0.99      0.99      2000\n",
      "weighted avg       0.99      0.99      0.99      2000\n",
      "\n",
      "\n",
      "[[1008    3    6]\n",
      " [   4  160    0]\n",
      " [   3    0  816]]\n",
      "\n",
      "MultinomialNB(alpha=1.0, class_prior=None, fit_prior=True)\n",
      "\n",
      "The accuracy score is  0.85\n",
      "\n",
      "The cross val score is 0.8407\n",
      "\n",
      "              precision    recall  f1-score   support\n",
      "\n",
      "           0       0.78      0.99      0.87      1017\n",
      "           1       0.00      0.00      0.00       164\n",
      "           2       0.98      0.85      0.91       819\n",
      "\n",
      "    accuracy                           0.85      2000\n",
      "   macro avg       0.59      0.61      0.59      2000\n",
      "weighted avg       0.80      0.85      0.82      2000\n",
      "\n",
      "\n",
      "[[1002    0   15]\n",
      " [ 162    0    2]\n",
      " [ 121    0  698]]\n",
      "\n"
     ]
    }
   ],
   "source": [
    "#After obtaining best parameters, we should now check the models\n",
    "score=[]\n",
    "cv=[]\n",
    "rocscore=[]\n",
    "\n",
    "from sklearn.metrics import auc, roc_auc_score, roc_curve\n",
    "\n",
    "algorithms=[KNeighborsClassifier(algorithm='auto', n_neighbors= 5, weights='distance'), DecisionTreeClassifier(criterion= 'entropy', splitter= 'best'), SVC(C=10, kernel='linear'),MultinomialNB()]\n",
    "\n",
    "for i in algorithms:\n",
    "    print(i)\n",
    "    i.fit(train_x,train_y)\n",
    "    pred=i.predict(test_x)\n",
    "    accscore=accuracy_score(test_y,pred)\n",
    "    score.append(accscore)\n",
    "    print(\"\")\n",
    "    print(\"The accuracy score is \", accscore)\n",
    "    print(\"\")\n",
    "    cvscore=cross_val_score(i,x,y,cv=5,scoring='accuracy').mean()\n",
    "    cv.append(cvscore)\n",
    "    print(\"The cross val score is\", cvscore)\n",
    "    print()\n",
    "    print(classification_report(test_y,pred))\n",
    "    print()\n",
    "    cm=confusion_matrix(test_y,pred)\n",
    "    print(cm)\n",
    "    print()\n",
    "   \n",
    "    "
   ]
  },
  {
   "cell_type": "code",
   "execution_count": 51,
   "metadata": {},
   "outputs": [
    {
     "data": {
      "text/html": [
       "<div>\n",
       "<style scoped>\n",
       "    .dataframe tbody tr th:only-of-type {\n",
       "        vertical-align: middle;\n",
       "    }\n",
       "\n",
       "    .dataframe tbody tr th {\n",
       "        vertical-align: top;\n",
       "    }\n",
       "\n",
       "    .dataframe thead th {\n",
       "        text-align: right;\n",
       "    }\n",
       "</style>\n",
       "<table border=\"1\" class=\"dataframe\">\n",
       "  <thead>\n",
       "    <tr style=\"text-align: right;\">\n",
       "      <th></th>\n",
       "      <th>Model</th>\n",
       "      <th>Accuracy_Score</th>\n",
       "      <th>Cross_val_score</th>\n",
       "    </tr>\n",
       "  </thead>\n",
       "  <tbody>\n",
       "    <tr>\n",
       "      <th>0</th>\n",
       "      <td>&lt;class 'sklearn.neighbors._classification.KNei...</td>\n",
       "      <td>0.9755</td>\n",
       "      <td>0.9608</td>\n",
       "    </tr>\n",
       "    <tr>\n",
       "      <th>1</th>\n",
       "      <td>&lt;class 'sklearn.tree._classes.DecisionTreeClas...</td>\n",
       "      <td>0.9880</td>\n",
       "      <td>0.9865</td>\n",
       "    </tr>\n",
       "    <tr>\n",
       "      <th>2</th>\n",
       "      <td>&lt;class 'sklearn.svm._classes.SVC'&gt;</td>\n",
       "      <td>0.9920</td>\n",
       "      <td>0.9850</td>\n",
       "    </tr>\n",
       "    <tr>\n",
       "      <th>3</th>\n",
       "      <td>&lt;class 'sklearn.naive_bayes.MultinomialNB'&gt;</td>\n",
       "      <td>0.8500</td>\n",
       "      <td>0.8407</td>\n",
       "    </tr>\n",
       "  </tbody>\n",
       "</table>\n",
       "</div>"
      ],
      "text/plain": [
       "                                               Model  Accuracy_Score  \\\n",
       "0  <class 'sklearn.neighbors._classification.KNei...          0.9755   \n",
       "1  <class 'sklearn.tree._classes.DecisionTreeClas...          0.9880   \n",
       "2                 <class 'sklearn.svm._classes.SVC'>          0.9920   \n",
       "3        <class 'sklearn.naive_bayes.MultinomialNB'>          0.8500   \n",
       "\n",
       "   Cross_val_score  \n",
       "0           0.9608  \n",
       "1           0.9865  \n",
       "2           0.9850  \n",
       "3           0.8407  "
      ]
     },
     "execution_count": 51,
     "metadata": {},
     "output_type": "execute_result"
    }
   ],
   "source": [
    "result=pd.DataFrame({'Model':[KNeighborsClassifier, DecisionTreeClassifier, SVC, MultinomialNB],'Accuracy_Score':score,'Cross_val_score':cv})\n",
    "result"
   ]
  },
  {
   "cell_type": "code",
   "execution_count": 52,
   "metadata": {},
   "outputs": [
    {
     "name": "stdout",
     "output_type": "stream",
     "text": [
      "The accuracy score is 0.987\n",
      "The cross val score is 0.9819000000000001\n"
     ]
    }
   ],
   "source": [
    "train_x,test_x,train_y,test_y=train_test_split(x,y,random_state=90,test_size=0.20)\n",
    "dt=DecisionTreeClassifier(criterion= 'entropy', splitter= 'best')\n",
    "dt.fit(train_x,train_y)\n",
    "pred=dt.predict(test_x)\n",
    "acs=accuracy_score(test_y,pred)\n",
    "print(\"The accuracy score is\", acs)\n",
    "cs=cross_val_score(sv,x,y,cv=5).mean()\n",
    "print(\"The cross val score is\", cs)\n",
    "pd.DataFrame(pred).to_csv(\"space.csv\")"
   ]
  },
  {
   "cell_type": "code",
   "execution_count": 54,
   "metadata": {},
   "outputs": [
    {
     "name": "stdout",
     "output_type": "stream",
     "text": [
      "The accuracy score is 0.987\n",
      "The cross val score is 0.985\n"
     ]
    }
   ],
   "source": [
    "train_x,test_x,train_y,test_y=train_test_split(x,y,random_state=90,test_size=0.20)\n",
    "sv=SVC(C=10, kernel='linear')\n",
    "sv.fit(train_x,train_y)\n",
    "pred=dt.predict(test_x)\n",
    "acs=accuracy_score(test_y,pred)\n",
    "print(\"The accuracy score is\", acs)\n",
    "cs=cross_val_score(sv,x,y,cv=5).mean()\n",
    "print(\"The cross val score is\", cs)\n",
    "pd.DataFrame(pred).to_csv(\"space.csv\")"
   ]
  },
  {
   "cell_type": "markdown",
   "metadata": {},
   "source": [
    "#by seeing above result we can see that SVC is the best model for this dataset."
   ]
  },
  {
   "cell_type": "code",
   "execution_count": 56,
   "metadata": {},
   "outputs": [
    {
     "data": {
      "text/plain": [
       "['space.pkl']"
      ]
     },
     "execution_count": 56,
     "metadata": {},
     "output_type": "execute_result"
    }
   ],
   "source": [
    "from sklearn.externals import joblib\n",
    "joblib.dump(sv,\"space.pkl\")"
   ]
  },
  {
   "cell_type": "code",
   "execution_count": null,
   "metadata": {},
   "outputs": [],
   "source": []
  }
 ],
 "metadata": {
  "kernelspec": {
   "display_name": "Python 3",
   "language": "python",
   "name": "python3"
  },
  "language_info": {
   "codemirror_mode": {
    "name": "ipython",
    "version": 3
   },
   "file_extension": ".py",
   "mimetype": "text/x-python",
   "name": "python",
   "nbconvert_exporter": "python",
   "pygments_lexer": "ipython3",
   "version": "3.7.6"
  }
 },
 "nbformat": 4,
 "nbformat_minor": 4
}
