{
 "cells": [
  {
   "cell_type": "markdown",
   "metadata": {},
   "source": [
    "##SUMMARY\n",
    "\n",
    "Predict the Automobile Insurance claim\n",
    "\n",
    "The purpose of an Insurance is to provide protection against the risk of any financial loss. Insurance is a form of risk management in which an insurer agrees to take the risk of the insured entity against future events, uncertain loss due to Tsunami, earthquake or damage against the vehicle or personal property. Here you will be provided with Automobile insurance claim dataset."
   ]
  },
  {
   "cell_type": "code",
   "execution_count": 4,
   "metadata": {},
   "outputs": [],
   "source": [
    "import pandas as pd\n",
    "import numpy as np\n",
    "import matplotlib.pyplot as plt\n",
    "import seaborn as sns\n",
    "import warnings\n",
    "warnings.filterwarnings('ignore')"
   ]
  },
  {
   "cell_type": "code",
   "execution_count": 5,
   "metadata": {},
   "outputs": [
    {
     "data": {
      "text/html": [
       "<div>\n",
       "<style scoped>\n",
       "    .dataframe tbody tr th:only-of-type {\n",
       "        vertical-align: middle;\n",
       "    }\n",
       "\n",
       "    .dataframe tbody tr th {\n",
       "        vertical-align: top;\n",
       "    }\n",
       "\n",
       "    .dataframe thead th {\n",
       "        text-align: right;\n",
       "    }\n",
       "</style>\n",
       "<table border=\"1\" class=\"dataframe\">\n",
       "  <thead>\n",
       "    <tr style=\"text-align: right;\">\n",
       "      <th></th>\n",
       "      <th>Customer</th>\n",
       "      <th>Country</th>\n",
       "      <th>State Code</th>\n",
       "      <th>State</th>\n",
       "      <th>Claim Amount</th>\n",
       "      <th>Response</th>\n",
       "      <th>Coverage</th>\n",
       "      <th>Education</th>\n",
       "      <th>Effective To Date</th>\n",
       "      <th>EmploymentStatus</th>\n",
       "      <th>...</th>\n",
       "      <th>Months Since Policy Inception</th>\n",
       "      <th>Number of Open Complaints</th>\n",
       "      <th>Number of Policies</th>\n",
       "      <th>Policy Type</th>\n",
       "      <th>Policy</th>\n",
       "      <th>Claim Reason</th>\n",
       "      <th>Sales Channel</th>\n",
       "      <th>Total Claim Amount</th>\n",
       "      <th>Vehicle Class</th>\n",
       "      <th>Vehicle Size</th>\n",
       "    </tr>\n",
       "  </thead>\n",
       "  <tbody>\n",
       "    <tr>\n",
       "      <th>0</th>\n",
       "      <td>BU79786</td>\n",
       "      <td>US</td>\n",
       "      <td>KS</td>\n",
       "      <td>Kansas</td>\n",
       "      <td>276.351928</td>\n",
       "      <td>No</td>\n",
       "      <td>Basic</td>\n",
       "      <td>Bachelor</td>\n",
       "      <td>2/24/11</td>\n",
       "      <td>Employed</td>\n",
       "      <td>...</td>\n",
       "      <td>5</td>\n",
       "      <td>0</td>\n",
       "      <td>1</td>\n",
       "      <td>Corporate Auto</td>\n",
       "      <td>Corporate L3</td>\n",
       "      <td>Collision</td>\n",
       "      <td>Agent</td>\n",
       "      <td>384.811147</td>\n",
       "      <td>Two-Door Car</td>\n",
       "      <td>Medsize</td>\n",
       "    </tr>\n",
       "    <tr>\n",
       "      <th>1</th>\n",
       "      <td>QZ44356</td>\n",
       "      <td>US</td>\n",
       "      <td>NE</td>\n",
       "      <td>Nebraska</td>\n",
       "      <td>697.953590</td>\n",
       "      <td>No</td>\n",
       "      <td>Extended</td>\n",
       "      <td>Bachelor</td>\n",
       "      <td>1/31/11</td>\n",
       "      <td>Unemployed</td>\n",
       "      <td>...</td>\n",
       "      <td>42</td>\n",
       "      <td>0</td>\n",
       "      <td>8</td>\n",
       "      <td>Personal Auto</td>\n",
       "      <td>Personal L3</td>\n",
       "      <td>Scratch/Dent</td>\n",
       "      <td>Agent</td>\n",
       "      <td>1131.464935</td>\n",
       "      <td>Four-Door Car</td>\n",
       "      <td>Medsize</td>\n",
       "    </tr>\n",
       "    <tr>\n",
       "      <th>2</th>\n",
       "      <td>AI49188</td>\n",
       "      <td>US</td>\n",
       "      <td>OK</td>\n",
       "      <td>Oklahoma</td>\n",
       "      <td>1288.743165</td>\n",
       "      <td>No</td>\n",
       "      <td>Premium</td>\n",
       "      <td>Bachelor</td>\n",
       "      <td>2/19/11</td>\n",
       "      <td>Employed</td>\n",
       "      <td>...</td>\n",
       "      <td>38</td>\n",
       "      <td>0</td>\n",
       "      <td>2</td>\n",
       "      <td>Personal Auto</td>\n",
       "      <td>Personal L3</td>\n",
       "      <td>Collision</td>\n",
       "      <td>Agent</td>\n",
       "      <td>566.472247</td>\n",
       "      <td>Two-Door Car</td>\n",
       "      <td>Medsize</td>\n",
       "    </tr>\n",
       "    <tr>\n",
       "      <th>3</th>\n",
       "      <td>WW63253</td>\n",
       "      <td>US</td>\n",
       "      <td>MO</td>\n",
       "      <td>Missouri</td>\n",
       "      <td>764.586183</td>\n",
       "      <td>No</td>\n",
       "      <td>Basic</td>\n",
       "      <td>Bachelor</td>\n",
       "      <td>1/20/11</td>\n",
       "      <td>Unemployed</td>\n",
       "      <td>...</td>\n",
       "      <td>65</td>\n",
       "      <td>0</td>\n",
       "      <td>7</td>\n",
       "      <td>Corporate Auto</td>\n",
       "      <td>Corporate L2</td>\n",
       "      <td>Collision</td>\n",
       "      <td>Call Center</td>\n",
       "      <td>529.881344</td>\n",
       "      <td>SUV</td>\n",
       "      <td>Medsize</td>\n",
       "    </tr>\n",
       "    <tr>\n",
       "      <th>4</th>\n",
       "      <td>HB64268</td>\n",
       "      <td>US</td>\n",
       "      <td>KS</td>\n",
       "      <td>Kansas</td>\n",
       "      <td>281.369258</td>\n",
       "      <td>No</td>\n",
       "      <td>Basic</td>\n",
       "      <td>Bachelor</td>\n",
       "      <td>2/3/11</td>\n",
       "      <td>Employed</td>\n",
       "      <td>...</td>\n",
       "      <td>44</td>\n",
       "      <td>0</td>\n",
       "      <td>1</td>\n",
       "      <td>Personal Auto</td>\n",
       "      <td>Personal L1</td>\n",
       "      <td>Collision</td>\n",
       "      <td>Agent</td>\n",
       "      <td>138.130879</td>\n",
       "      <td>Four-Door Car</td>\n",
       "      <td>Medsize</td>\n",
       "    </tr>\n",
       "    <tr>\n",
       "      <th>...</th>\n",
       "      <td>...</td>\n",
       "      <td>...</td>\n",
       "      <td>...</td>\n",
       "      <td>...</td>\n",
       "      <td>...</td>\n",
       "      <td>...</td>\n",
       "      <td>...</td>\n",
       "      <td>...</td>\n",
       "      <td>...</td>\n",
       "      <td>...</td>\n",
       "      <td>...</td>\n",
       "      <td>...</td>\n",
       "      <td>...</td>\n",
       "      <td>...</td>\n",
       "      <td>...</td>\n",
       "      <td>...</td>\n",
       "      <td>...</td>\n",
       "      <td>...</td>\n",
       "      <td>...</td>\n",
       "      <td>...</td>\n",
       "      <td>...</td>\n",
       "    </tr>\n",
       "    <tr>\n",
       "      <th>9129</th>\n",
       "      <td>LA72316</td>\n",
       "      <td>US</td>\n",
       "      <td>MO</td>\n",
       "      <td>Missouri</td>\n",
       "      <td>2340.598798</td>\n",
       "      <td>No</td>\n",
       "      <td>Basic</td>\n",
       "      <td>Bachelor</td>\n",
       "      <td>2/10/11</td>\n",
       "      <td>Employed</td>\n",
       "      <td>...</td>\n",
       "      <td>89</td>\n",
       "      <td>0</td>\n",
       "      <td>2</td>\n",
       "      <td>Personal Auto</td>\n",
       "      <td>Personal L1</td>\n",
       "      <td>Hail</td>\n",
       "      <td>Web</td>\n",
       "      <td>198.234764</td>\n",
       "      <td>Four-Door Car</td>\n",
       "      <td>Medsize</td>\n",
       "    </tr>\n",
       "    <tr>\n",
       "      <th>9130</th>\n",
       "      <td>PK87824</td>\n",
       "      <td>US</td>\n",
       "      <td>MO</td>\n",
       "      <td>Missouri</td>\n",
       "      <td>309.651122</td>\n",
       "      <td>Yes</td>\n",
       "      <td>Extended</td>\n",
       "      <td>College</td>\n",
       "      <td>2/12/11</td>\n",
       "      <td>Employed</td>\n",
       "      <td>...</td>\n",
       "      <td>28</td>\n",
       "      <td>0</td>\n",
       "      <td>1</td>\n",
       "      <td>Corporate Auto</td>\n",
       "      <td>Corporate L3</td>\n",
       "      <td>Collision</td>\n",
       "      <td>Branch</td>\n",
       "      <td>379.200000</td>\n",
       "      <td>Four-Door Car</td>\n",
       "      <td>Medsize</td>\n",
       "    </tr>\n",
       "    <tr>\n",
       "      <th>9131</th>\n",
       "      <td>TD14365</td>\n",
       "      <td>US</td>\n",
       "      <td>MO</td>\n",
       "      <td>Missouri</td>\n",
       "      <td>816.389043</td>\n",
       "      <td>No</td>\n",
       "      <td>Extended</td>\n",
       "      <td>Bachelor</td>\n",
       "      <td>2/6/11</td>\n",
       "      <td>Unemployed</td>\n",
       "      <td>...</td>\n",
       "      <td>37</td>\n",
       "      <td>3</td>\n",
       "      <td>2</td>\n",
       "      <td>Corporate Auto</td>\n",
       "      <td>Corporate L2</td>\n",
       "      <td>Collision</td>\n",
       "      <td>Branch</td>\n",
       "      <td>790.784983</td>\n",
       "      <td>Four-Door Car</td>\n",
       "      <td>Medsize</td>\n",
       "    </tr>\n",
       "    <tr>\n",
       "      <th>9132</th>\n",
       "      <td>UP19263</td>\n",
       "      <td>US</td>\n",
       "      <td>MO</td>\n",
       "      <td>Missouri</td>\n",
       "      <td>752.444244</td>\n",
       "      <td>No</td>\n",
       "      <td>Extended</td>\n",
       "      <td>College</td>\n",
       "      <td>2/3/11</td>\n",
       "      <td>Employed</td>\n",
       "      <td>...</td>\n",
       "      <td>3</td>\n",
       "      <td>0</td>\n",
       "      <td>3</td>\n",
       "      <td>Personal Auto</td>\n",
       "      <td>Personal L2</td>\n",
       "      <td>Scratch/Dent</td>\n",
       "      <td>Branch</td>\n",
       "      <td>691.200000</td>\n",
       "      <td>Four-Door Car</td>\n",
       "      <td>Large</td>\n",
       "    </tr>\n",
       "    <tr>\n",
       "      <th>9133</th>\n",
       "      <td>Y167826</td>\n",
       "      <td>US</td>\n",
       "      <td>MO</td>\n",
       "      <td>Missouri</td>\n",
       "      <td>261.183687</td>\n",
       "      <td>No</td>\n",
       "      <td>Extended</td>\n",
       "      <td>College</td>\n",
       "      <td>2/14/11</td>\n",
       "      <td>Unemployed</td>\n",
       "      <td>...</td>\n",
       "      <td>90</td>\n",
       "      <td>0</td>\n",
       "      <td>1</td>\n",
       "      <td>Corporate Auto</td>\n",
       "      <td>Corporate L3</td>\n",
       "      <td>Other</td>\n",
       "      <td>Call Center</td>\n",
       "      <td>369.600000</td>\n",
       "      <td>Two-Door Car</td>\n",
       "      <td>Medsize</td>\n",
       "    </tr>\n",
       "  </tbody>\n",
       "</table>\n",
       "<p>9134 rows × 26 columns</p>\n",
       "</div>"
      ],
      "text/plain": [
       "     Customer Country State Code     State  Claim Amount Response  Coverage  \\\n",
       "0     BU79786      US         KS    Kansas    276.351928       No     Basic   \n",
       "1     QZ44356      US         NE  Nebraska    697.953590       No  Extended   \n",
       "2     AI49188      US         OK  Oklahoma   1288.743165       No   Premium   \n",
       "3     WW63253      US         MO  Missouri    764.586183       No     Basic   \n",
       "4     HB64268      US         KS    Kansas    281.369258       No     Basic   \n",
       "...       ...     ...        ...       ...           ...      ...       ...   \n",
       "9129  LA72316      US         MO  Missouri   2340.598798       No     Basic   \n",
       "9130  PK87824      US         MO  Missouri    309.651122      Yes  Extended   \n",
       "9131  TD14365      US         MO  Missouri    816.389043       No  Extended   \n",
       "9132  UP19263      US         MO  Missouri    752.444244       No  Extended   \n",
       "9133  Y167826      US         MO  Missouri    261.183687       No  Extended   \n",
       "\n",
       "     Education Effective To Date EmploymentStatus  ...  \\\n",
       "0     Bachelor           2/24/11         Employed  ...   \n",
       "1     Bachelor           1/31/11       Unemployed  ...   \n",
       "2     Bachelor           2/19/11         Employed  ...   \n",
       "3     Bachelor           1/20/11       Unemployed  ...   \n",
       "4     Bachelor            2/3/11         Employed  ...   \n",
       "...        ...               ...              ...  ...   \n",
       "9129  Bachelor           2/10/11         Employed  ...   \n",
       "9130   College           2/12/11         Employed  ...   \n",
       "9131  Bachelor            2/6/11       Unemployed  ...   \n",
       "9132   College            2/3/11         Employed  ...   \n",
       "9133   College           2/14/11       Unemployed  ...   \n",
       "\n",
       "     Months Since Policy Inception  Number of Open Complaints  \\\n",
       "0                                5                          0   \n",
       "1                               42                          0   \n",
       "2                               38                          0   \n",
       "3                               65                          0   \n",
       "4                               44                          0   \n",
       "...                            ...                        ...   \n",
       "9129                            89                          0   \n",
       "9130                            28                          0   \n",
       "9131                            37                          3   \n",
       "9132                             3                          0   \n",
       "9133                            90                          0   \n",
       "\n",
       "     Number of Policies     Policy Type        Policy  Claim Reason  \\\n",
       "0                     1  Corporate Auto  Corporate L3     Collision   \n",
       "1                     8   Personal Auto   Personal L3  Scratch/Dent   \n",
       "2                     2   Personal Auto   Personal L3     Collision   \n",
       "3                     7  Corporate Auto  Corporate L2     Collision   \n",
       "4                     1   Personal Auto   Personal L1     Collision   \n",
       "...                 ...             ...           ...           ...   \n",
       "9129                  2   Personal Auto   Personal L1          Hail   \n",
       "9130                  1  Corporate Auto  Corporate L3     Collision   \n",
       "9131                  2  Corporate Auto  Corporate L2     Collision   \n",
       "9132                  3   Personal Auto   Personal L2  Scratch/Dent   \n",
       "9133                  1  Corporate Auto  Corporate L3         Other   \n",
       "\n",
       "      Sales Channel  Total Claim Amount  Vehicle Class Vehicle Size  \n",
       "0             Agent          384.811147   Two-Door Car      Medsize  \n",
       "1             Agent         1131.464935  Four-Door Car      Medsize  \n",
       "2             Agent          566.472247   Two-Door Car      Medsize  \n",
       "3       Call Center          529.881344            SUV      Medsize  \n",
       "4             Agent          138.130879  Four-Door Car      Medsize  \n",
       "...             ...                 ...            ...          ...  \n",
       "9129            Web          198.234764  Four-Door Car      Medsize  \n",
       "9130         Branch          379.200000  Four-Door Car      Medsize  \n",
       "9131         Branch          790.784983  Four-Door Car      Medsize  \n",
       "9132         Branch          691.200000  Four-Door Car        Large  \n",
       "9133    Call Center          369.600000   Two-Door Car      Medsize  \n",
       "\n",
       "[9134 rows x 26 columns]"
      ]
     },
     "execution_count": 5,
     "metadata": {},
     "output_type": "execute_result"
    }
   ],
   "source": [
    "auto1=pd.read_csv('https://raw.githubusercontent.com/dsrscientist/Data-Science-ML-Capstone-Projects/master/Auto_Insurance_Claims_amount.csv')\n",
    "auto1"
   ]
  },
  {
   "cell_type": "code",
   "execution_count": 6,
   "metadata": {},
   "outputs": [
    {
     "data": {
      "text/html": [
       "<div>\n",
       "<style scoped>\n",
       "    .dataframe tbody tr th:only-of-type {\n",
       "        vertical-align: middle;\n",
       "    }\n",
       "\n",
       "    .dataframe tbody tr th {\n",
       "        vertical-align: top;\n",
       "    }\n",
       "\n",
       "    .dataframe thead th {\n",
       "        text-align: right;\n",
       "    }\n",
       "</style>\n",
       "<table border=\"1\" class=\"dataframe\">\n",
       "  <thead>\n",
       "    <tr style=\"text-align: right;\">\n",
       "      <th></th>\n",
       "      <th>Customer</th>\n",
       "      <th>Country</th>\n",
       "      <th>State Code</th>\n",
       "      <th>State</th>\n",
       "      <th>Claim Amount</th>\n",
       "      <th>Response</th>\n",
       "      <th>Coverage</th>\n",
       "      <th>Education</th>\n",
       "      <th>Effective To Date</th>\n",
       "      <th>EmploymentStatus</th>\n",
       "      <th>...</th>\n",
       "      <th>Months Since Policy Inception</th>\n",
       "      <th>Number of Open Complaints</th>\n",
       "      <th>Number of Policies</th>\n",
       "      <th>Policy Type</th>\n",
       "      <th>Policy</th>\n",
       "      <th>Claim Reason</th>\n",
       "      <th>Sales Channel</th>\n",
       "      <th>Total Claim Amount</th>\n",
       "      <th>Vehicle Class</th>\n",
       "      <th>Vehicle Size</th>\n",
       "    </tr>\n",
       "  </thead>\n",
       "  <tbody>\n",
       "    <tr>\n",
       "      <th>0</th>\n",
       "      <td>BU79786</td>\n",
       "      <td>US</td>\n",
       "      <td>KS</td>\n",
       "      <td>Kansas</td>\n",
       "      <td>276.351928</td>\n",
       "      <td>No</td>\n",
       "      <td>Basic</td>\n",
       "      <td>Bachelor</td>\n",
       "      <td>2/24/11</td>\n",
       "      <td>Employed</td>\n",
       "      <td>...</td>\n",
       "      <td>5</td>\n",
       "      <td>0</td>\n",
       "      <td>1</td>\n",
       "      <td>Corporate Auto</td>\n",
       "      <td>Corporate L3</td>\n",
       "      <td>Collision</td>\n",
       "      <td>Agent</td>\n",
       "      <td>384.811147</td>\n",
       "      <td>Two-Door Car</td>\n",
       "      <td>Medsize</td>\n",
       "    </tr>\n",
       "    <tr>\n",
       "      <th>1</th>\n",
       "      <td>QZ44356</td>\n",
       "      <td>US</td>\n",
       "      <td>NE</td>\n",
       "      <td>Nebraska</td>\n",
       "      <td>697.953590</td>\n",
       "      <td>No</td>\n",
       "      <td>Extended</td>\n",
       "      <td>Bachelor</td>\n",
       "      <td>1/31/11</td>\n",
       "      <td>Unemployed</td>\n",
       "      <td>...</td>\n",
       "      <td>42</td>\n",
       "      <td>0</td>\n",
       "      <td>8</td>\n",
       "      <td>Personal Auto</td>\n",
       "      <td>Personal L3</td>\n",
       "      <td>Scratch/Dent</td>\n",
       "      <td>Agent</td>\n",
       "      <td>1131.464935</td>\n",
       "      <td>Four-Door Car</td>\n",
       "      <td>Medsize</td>\n",
       "    </tr>\n",
       "    <tr>\n",
       "      <th>2</th>\n",
       "      <td>AI49188</td>\n",
       "      <td>US</td>\n",
       "      <td>OK</td>\n",
       "      <td>Oklahoma</td>\n",
       "      <td>1288.743165</td>\n",
       "      <td>No</td>\n",
       "      <td>Premium</td>\n",
       "      <td>Bachelor</td>\n",
       "      <td>2/19/11</td>\n",
       "      <td>Employed</td>\n",
       "      <td>...</td>\n",
       "      <td>38</td>\n",
       "      <td>0</td>\n",
       "      <td>2</td>\n",
       "      <td>Personal Auto</td>\n",
       "      <td>Personal L3</td>\n",
       "      <td>Collision</td>\n",
       "      <td>Agent</td>\n",
       "      <td>566.472247</td>\n",
       "      <td>Two-Door Car</td>\n",
       "      <td>Medsize</td>\n",
       "    </tr>\n",
       "    <tr>\n",
       "      <th>3</th>\n",
       "      <td>WW63253</td>\n",
       "      <td>US</td>\n",
       "      <td>MO</td>\n",
       "      <td>Missouri</td>\n",
       "      <td>764.586183</td>\n",
       "      <td>No</td>\n",
       "      <td>Basic</td>\n",
       "      <td>Bachelor</td>\n",
       "      <td>1/20/11</td>\n",
       "      <td>Unemployed</td>\n",
       "      <td>...</td>\n",
       "      <td>65</td>\n",
       "      <td>0</td>\n",
       "      <td>7</td>\n",
       "      <td>Corporate Auto</td>\n",
       "      <td>Corporate L2</td>\n",
       "      <td>Collision</td>\n",
       "      <td>Call Center</td>\n",
       "      <td>529.881344</td>\n",
       "      <td>SUV</td>\n",
       "      <td>Medsize</td>\n",
       "    </tr>\n",
       "    <tr>\n",
       "      <th>4</th>\n",
       "      <td>HB64268</td>\n",
       "      <td>US</td>\n",
       "      <td>KS</td>\n",
       "      <td>Kansas</td>\n",
       "      <td>281.369258</td>\n",
       "      <td>No</td>\n",
       "      <td>Basic</td>\n",
       "      <td>Bachelor</td>\n",
       "      <td>2/3/11</td>\n",
       "      <td>Employed</td>\n",
       "      <td>...</td>\n",
       "      <td>44</td>\n",
       "      <td>0</td>\n",
       "      <td>1</td>\n",
       "      <td>Personal Auto</td>\n",
       "      <td>Personal L1</td>\n",
       "      <td>Collision</td>\n",
       "      <td>Agent</td>\n",
       "      <td>138.130879</td>\n",
       "      <td>Four-Door Car</td>\n",
       "      <td>Medsize</td>\n",
       "    </tr>\n",
       "  </tbody>\n",
       "</table>\n",
       "<p>5 rows × 26 columns</p>\n",
       "</div>"
      ],
      "text/plain": [
       "  Customer Country State Code     State  Claim Amount Response  Coverage  \\\n",
       "0  BU79786      US         KS    Kansas    276.351928       No     Basic   \n",
       "1  QZ44356      US         NE  Nebraska    697.953590       No  Extended   \n",
       "2  AI49188      US         OK  Oklahoma   1288.743165       No   Premium   \n",
       "3  WW63253      US         MO  Missouri    764.586183       No     Basic   \n",
       "4  HB64268      US         KS    Kansas    281.369258       No     Basic   \n",
       "\n",
       "  Education Effective To Date EmploymentStatus  ...  \\\n",
       "0  Bachelor           2/24/11         Employed  ...   \n",
       "1  Bachelor           1/31/11       Unemployed  ...   \n",
       "2  Bachelor           2/19/11         Employed  ...   \n",
       "3  Bachelor           1/20/11       Unemployed  ...   \n",
       "4  Bachelor            2/3/11         Employed  ...   \n",
       "\n",
       "  Months Since Policy Inception  Number of Open Complaints Number of Policies  \\\n",
       "0                             5                          0                  1   \n",
       "1                            42                          0                  8   \n",
       "2                            38                          0                  2   \n",
       "3                            65                          0                  7   \n",
       "4                            44                          0                  1   \n",
       "\n",
       "      Policy Type        Policy  Claim Reason  Sales Channel  \\\n",
       "0  Corporate Auto  Corporate L3     Collision          Agent   \n",
       "1   Personal Auto   Personal L3  Scratch/Dent          Agent   \n",
       "2   Personal Auto   Personal L3     Collision          Agent   \n",
       "3  Corporate Auto  Corporate L2     Collision    Call Center   \n",
       "4   Personal Auto   Personal L1     Collision          Agent   \n",
       "\n",
       "   Total Claim Amount  Vehicle Class Vehicle Size  \n",
       "0          384.811147   Two-Door Car      Medsize  \n",
       "1         1131.464935  Four-Door Car      Medsize  \n",
       "2          566.472247   Two-Door Car      Medsize  \n",
       "3          529.881344            SUV      Medsize  \n",
       "4          138.130879  Four-Door Car      Medsize  \n",
       "\n",
       "[5 rows x 26 columns]"
      ]
     },
     "execution_count": 6,
     "metadata": {},
     "output_type": "execute_result"
    }
   ],
   "source": [
    "auto1.head()"
   ]
  },
  {
   "cell_type": "code",
   "execution_count": 7,
   "metadata": {},
   "outputs": [
    {
     "data": {
      "text/plain": [
       "(9134, 26)"
      ]
     },
     "execution_count": 7,
     "metadata": {},
     "output_type": "execute_result"
    }
   ],
   "source": [
    "auto1.shape"
   ]
  },
  {
   "cell_type": "code",
   "execution_count": 8,
   "metadata": {},
   "outputs": [
    {
     "name": "stdout",
     "output_type": "stream",
     "text": [
      "<class 'pandas.core.frame.DataFrame'>\n",
      "RangeIndex: 9134 entries, 0 to 9133\n",
      "Data columns (total 26 columns):\n",
      " #   Column                         Non-Null Count  Dtype  \n",
      "---  ------                         --------------  -----  \n",
      " 0   Customer                       9134 non-null   object \n",
      " 1   Country                        9134 non-null   object \n",
      " 2   State Code                     9134 non-null   object \n",
      " 3   State                          9134 non-null   object \n",
      " 4   Claim Amount                   9134 non-null   float64\n",
      " 5   Response                       9134 non-null   object \n",
      " 6   Coverage                       9134 non-null   object \n",
      " 7   Education                      9134 non-null   object \n",
      " 8   Effective To Date              9134 non-null   object \n",
      " 9   EmploymentStatus               9134 non-null   object \n",
      " 10  Gender                         9134 non-null   object \n",
      " 11  Income                         9134 non-null   int64  \n",
      " 12  Location Code                  9134 non-null   object \n",
      " 13  Marital Status                 9134 non-null   object \n",
      " 14  Monthly Premium Auto           9134 non-null   int64  \n",
      " 15  Months Since Last Claim        9134 non-null   int64  \n",
      " 16  Months Since Policy Inception  9134 non-null   int64  \n",
      " 17  Number of Open Complaints      9134 non-null   int64  \n",
      " 18  Number of Policies             9134 non-null   int64  \n",
      " 19  Policy Type                    9134 non-null   object \n",
      " 20  Policy                         9134 non-null   object \n",
      " 21  Claim Reason                   9134 non-null   object \n",
      " 22  Sales Channel                  9134 non-null   object \n",
      " 23  Total Claim Amount             9134 non-null   float64\n",
      " 24  Vehicle Class                  9134 non-null   object \n",
      " 25  Vehicle Size                   9134 non-null   object \n",
      "dtypes: float64(2), int64(6), object(18)\n",
      "memory usage: 1.8+ MB\n"
     ]
    }
   ],
   "source": [
    "auto1.info()"
   ]
  },
  {
   "cell_type": "code",
   "execution_count": 9,
   "metadata": {},
   "outputs": [
    {
     "data": {
      "text/plain": [
       "Customer                          object\n",
       "Country                           object\n",
       "State Code                        object\n",
       "State                             object\n",
       "Claim Amount                     float64\n",
       "Response                          object\n",
       "Coverage                          object\n",
       "Education                         object\n",
       "Effective To Date                 object\n",
       "EmploymentStatus                  object\n",
       "Gender                            object\n",
       "Income                             int64\n",
       "Location Code                     object\n",
       "Marital Status                    object\n",
       "Monthly Premium Auto               int64\n",
       "Months Since Last Claim            int64\n",
       "Months Since Policy Inception      int64\n",
       "Number of Open Complaints          int64\n",
       "Number of Policies                 int64\n",
       "Policy Type                       object\n",
       "Policy                            object\n",
       "Claim Reason                      object\n",
       "Sales Channel                     object\n",
       "Total Claim Amount               float64\n",
       "Vehicle Class                     object\n",
       "Vehicle Size                      object\n",
       "dtype: object"
      ]
     },
     "execution_count": 9,
     "metadata": {},
     "output_type": "execute_result"
    }
   ],
   "source": [
    "auto1.dtypes"
   ]
  },
  {
   "cell_type": "code",
   "execution_count": 10,
   "metadata": {},
   "outputs": [
    {
     "data": {
      "text/plain": [
       "Customer                         0\n",
       "Country                          0\n",
       "State Code                       0\n",
       "State                            0\n",
       "Claim Amount                     0\n",
       "Response                         0\n",
       "Coverage                         0\n",
       "Education                        0\n",
       "Effective To Date                0\n",
       "EmploymentStatus                 0\n",
       "Gender                           0\n",
       "Income                           0\n",
       "Location Code                    0\n",
       "Marital Status                   0\n",
       "Monthly Premium Auto             0\n",
       "Months Since Last Claim          0\n",
       "Months Since Policy Inception    0\n",
       "Number of Open Complaints        0\n",
       "Number of Policies               0\n",
       "Policy Type                      0\n",
       "Policy                           0\n",
       "Claim Reason                     0\n",
       "Sales Channel                    0\n",
       "Total Claim Amount               0\n",
       "Vehicle Class                    0\n",
       "Vehicle Size                     0\n",
       "dtype: int64"
      ]
     },
     "execution_count": 10,
     "metadata": {},
     "output_type": "execute_result"
    }
   ],
   "source": [
    "auto1.isnull().sum()"
   ]
  },
  {
   "cell_type": "code",
   "execution_count": 11,
   "metadata": {},
   "outputs": [
    {
     "data": {
      "text/plain": [
       "<matplotlib.axes._subplots.AxesSubplot at 0x1a1c3b01d0>"
      ]
     },
     "execution_count": 11,
     "metadata": {},
     "output_type": "execute_result"
    },
    {
     "data": {
      "image/png": "[encoded data removed]",
      "text/plain": [
       "<Figure size 432x288 with 2 Axes>"
      ]
     },
     "metadata": {
      "needs_background": "light"
     },
     "output_type": "display_data"
    }
   ],
   "source": [
    "sns.heatmap(auto1.isnull())"
   ]
  },
  {
   "cell_type": "markdown",
   "metadata": {},
   "source": [
    "#Univariate Analysis"
   ]
  },
  {
   "cell_type": "code",
   "execution_count": 12,
   "metadata": {},
   "outputs": [
    {
     "data": {
      "text/plain": [
       "<matplotlib.axes._subplots.AxesSubplot at 0x1a1d976150>"
      ]
     },
     "execution_count": 12,
     "metadata": {},
     "output_type": "execute_result"
    },
    {
     "data": {
      "image/png": "[encoded data removed]",
      "text/plain": [
       "<Figure size 432x288 with 1 Axes>"
      ]
     },
     "metadata": {
      "needs_background": "light"
     },
     "output_type": "display_data"
    }
   ],
   "source": [
    "sns.countplot(auto1['Policy Type'])\n"
   ]
  },
  {
   "cell_type": "code",
   "execution_count": 13,
   "metadata": {},
   "outputs": [
    {
     "data": {
      "text/plain": [
       "<matplotlib.axes._subplots.AxesSubplot at 0x1a1ce3fcd0>"
      ]
     },
     "execution_count": 13,
     "metadata": {},
     "output_type": "execute_result"
    },
    {
     "data": {
      "image/png": "[encoded data removed]",
      "text/plain": [
       "<Figure size 432x288 with 1 Axes>"
      ]
     },
     "metadata": {
      "needs_background": "light"
     },
     "output_type": "display_data"
    }
   ],
   "source": [
    "auto1['Monthly Premium Auto'].plot.hist()"
   ]
  },
  {
   "cell_type": "code",
   "execution_count": 14,
   "metadata": {},
   "outputs": [
    {
     "data": {
      "text/plain": [
       "<matplotlib.axes._subplots.AxesSubplot at 0x1a1e278810>"
      ]
     },
     "execution_count": 14,
     "metadata": {},
     "output_type": "execute_result"
    },
    {
     "data": {
      "image/png": "[encoded data removed]",
      "text/plain": [
       "<Figure size 432x288 with 1 Axes>"
      ]
     },
     "metadata": {
      "needs_background": "light"
     },
     "output_type": "display_data"
    }
   ],
   "source": [
    "sns.distplot(auto1['Total Claim Amount'])"
   ]
  },
  {
   "cell_type": "code",
   "execution_count": 15,
   "metadata": {},
   "outputs": [
    {
     "data": {
      "text/plain": [
       "<matplotlib.axes._subplots.AxesSubplot at 0x1a1e420450>"
      ]
     },
     "execution_count": 15,
     "metadata": {},
     "output_type": "execute_result"
    },
    {
     "data": {
      "image/png": "[encoded data removed]",
      "text/plain": [
       "<Figure size 432x288 with 1 Axes>"
      ]
     },
     "metadata": {
      "needs_background": "light"
     },
     "output_type": "display_data"
    }
   ],
   "source": [
    "sns.countplot(auto1['Sales Channel'])"
   ]
  },
  {
   "cell_type": "code",
   "execution_count": 16,
   "metadata": {},
   "outputs": [
    {
     "data": {
      "text/plain": [
       "<matplotlib.axes._subplots.AxesSubplot at 0x1a1e3c4a10>"
      ]
     },
     "execution_count": 16,
     "metadata": {},
     "output_type": "execute_result"
    },
    {
     "data": {
      "image/png": "[encoded data removed]",
      "text/plain": [
       "<Figure size 432x288 with 1 Axes>"
      ]
     },
     "metadata": {
      "needs_background": "light"
     },
     "output_type": "display_data"
    }
   ],
   "source": [
    "sns.boxplot(auto1['Income'], data=auto1)"
   ]
  },
  {
   "cell_type": "code",
   "execution_count": 17,
   "metadata": {},
   "outputs": [
    {
     "data": {
      "text/plain": [
       "<matplotlib.axes._subplots.AxesSubplot at 0x1a1e5b1fd0>"
      ]
     },
     "execution_count": 17,
     "metadata": {},
     "output_type": "execute_result"
    },
    {
     "data": {
      "image/png": "[encoded data removed]",
      "text/plain": [
       "<Figure size 432x288 with 1 Axes>"
      ]
     },
     "metadata": {
      "needs_background": "light"
     },
     "output_type": "display_data"
    }
   ],
   "source": [
    "sns.boxplot(auto1['Monthly Premium Auto'], data=auto1)"
   ]
  },
  {
   "cell_type": "code",
   "execution_count": 18,
   "metadata": {},
   "outputs": [
    {
     "data": {
      "image/png": "[encoded data removed]",
      "text/plain": [
       "<Figure size 1080x1080 with 8 Axes>"
      ]
     },
     "metadata": {
      "needs_background": "light"
     },
     "output_type": "display_data"
    }
   ],
   "source": [
    "col_list=auto1.columns.values\n",
    "plt.figure(figsize=(15,15))\n",
    "for i in range (0,len(col_list)):\n",
    "    if auto1[col_list[i]].dtype!='O':\n",
    "        plt.subplot(6,6,i+1)\n",
    "        sns.boxplot(auto1[col_list[i]], color='green',orient='v')\n",
    "        plt.tight_layout()"
   ]
  },
  {
   "cell_type": "code",
   "execution_count": 19,
   "metadata": {},
   "outputs": [
    {
     "data": {
      "image/png": "[encoded data removed]",
      "text/plain": [
       "<Figure size 1080x1080 with 9 Axes>"
      ]
     },
     "metadata": {
      "needs_background": "light"
     },
     "output_type": "display_data"
    }
   ],
   "source": [
    "#checking the distribution of the data\n",
    "auto1.hist(figsize=(15,15))\n",
    "plt.show()"
   ]
  },
  {
   "cell_type": "markdown",
   "metadata": {},
   "source": [
    "#Bivariate Analysis"
   ]
  },
  {
   "cell_type": "code",
   "execution_count": 20,
   "metadata": {},
   "outputs": [
    {
     "data": {
      "text/plain": [
       "<matplotlib.axes._subplots.AxesSubplot at 0x1a1eece4d0>"
      ]
     },
     "execution_count": 20,
     "metadata": {},
     "output_type": "execute_result"
    },
    {
     "data": {
      "image/png": "[encoded data removed]",
      "text/plain": [
       "<Figure size 432x288 with 1 Axes>"
      ]
     },
     "metadata": {
      "needs_background": "light"
     },
     "output_type": "display_data"
    }
   ],
   "source": [
    "sns.lineplot(x='Coverage',y='Claim Amount',data=auto1)"
   ]
  },
  {
   "cell_type": "code",
   "execution_count": 21,
   "metadata": {},
   "outputs": [
    {
     "data": {
      "text/plain": [
       "<matplotlib.axes._subplots.AxesSubplot at 0x1a1ef90150>"
      ]
     },
     "execution_count": 21,
     "metadata": {},
     "output_type": "execute_result"
    },
    {
     "data": {
      "image/png": "[encoded data removed]",
      "text/plain": [
       "<Figure size 432x288 with 1 Axes>"
      ]
     },
     "metadata": {
      "needs_background": "light"
     },
     "output_type": "display_data"
    }
   ],
   "source": [
    "sns.scatterplot(x='EmploymentStatus',y='Response',data=auto1)"
   ]
  },
  {
   "cell_type": "code",
   "execution_count": 22,
   "metadata": {},
   "outputs": [
    {
     "data": {
      "text/plain": [
       "<matplotlib.axes._subplots.AxesSubplot at 0x1a1ef9d390>"
      ]
     },
     "execution_count": 22,
     "metadata": {},
     "output_type": "execute_result"
    },
    {
     "data": {
      "image/png": "[encoded data removed]",
      "text/plain": [
       "<Figure size 432x288 with 1 Axes>"
      ]
     },
     "metadata": {
      "needs_background": "light"
     },
     "output_type": "display_data"
    }
   ],
   "source": [
    "sns.distplot(auto1['Monthly Premium Auto'])"
   ]
  },
  {
   "cell_type": "code",
   "execution_count": 23,
   "metadata": {},
   "outputs": [
    {
     "data": {
      "text/plain": [
       "<matplotlib.axes._subplots.AxesSubplot at 0x1a1ee97490>"
      ]
     },
     "execution_count": 23,
     "metadata": {},
     "output_type": "execute_result"
    },
    {
     "data": {
      "image/png": "[encoded data removed]",
      "text/plain": [
       "<Figure size 432x288 with 1 Axes>"
      ]
     },
     "metadata": {
      "needs_background": "light"
     },
     "output_type": "display_data"
    }
   ],
   "source": [
    "sns.barplot(x='Vehicle Class',y='Total Claim Amount', data= auto1)"
   ]
  },
  {
   "cell_type": "code",
   "execution_count": 24,
   "metadata": {},
   "outputs": [
    {
     "data": {
      "text/plain": [
       "<matplotlib.axes._subplots.AxesSubplot at 0x1a1ee05d90>"
      ]
     },
     "execution_count": 24,
     "metadata": {},
     "output_type": "execute_result"
    },
    {
     "data": {
      "image/png": "[encoded data removed]",
      "text/plain": [
       "<Figure size 432x288 with 1 Axes>"
      ]
     },
     "metadata": {
      "needs_background": "light"
     },
     "output_type": "display_data"
    }
   ],
   "source": [
    "sns.barplot(x='Response',y='Income', data= auto1)"
   ]
  },
  {
   "cell_type": "code",
   "execution_count": 25,
   "metadata": {},
   "outputs": [
    {
     "data": {
      "text/plain": [
       "<seaborn.axisgrid.FacetGrid at 0x1a1ecb1e50>"
      ]
     },
     "execution_count": 25,
     "metadata": {},
     "output_type": "execute_result"
    },
    {
     "data": {
      "image/png": "[encoded data removed]",
      "text/plain": [
       "<Figure size 360x360 with 1 Axes>"
      ]
     },
     "metadata": {
      "needs_background": "light"
     },
     "output_type": "display_data"
    }
   ],
   "source": [
    "sns.catplot(x=\"Claim Reason\", y=\"Monthly Premium Auto\", hue=\"Claim Reason\", kind=\"bar\", data=auto1)"
   ]
  },
  {
   "cell_type": "raw",
   "metadata": {},
   "source": [
    "##Statistical Analysis"
   ]
  },
  {
   "cell_type": "code",
   "execution_count": 26,
   "metadata": {},
   "outputs": [
    {
     "data": {
      "text/html": [
       "<div>\n",
       "<style scoped>\n",
       "    .dataframe tbody tr th:only-of-type {\n",
       "        vertical-align: middle;\n",
       "    }\n",
       "\n",
       "    .dataframe tbody tr th {\n",
       "        vertical-align: top;\n",
       "    }\n",
       "\n",
       "    .dataframe thead th {\n",
       "        text-align: right;\n",
       "    }\n",
       "</style>\n",
       "<table border=\"1\" class=\"dataframe\">\n",
       "  <thead>\n",
       "    <tr style=\"text-align: right;\">\n",
       "      <th></th>\n",
       "      <th>Claim Amount</th>\n",
       "      <th>Income</th>\n",
       "      <th>Monthly Premium Auto</th>\n",
       "      <th>Months Since Last Claim</th>\n",
       "      <th>Months Since Policy Inception</th>\n",
       "      <th>Number of Open Complaints</th>\n",
       "      <th>Number of Policies</th>\n",
       "      <th>Total Claim Amount</th>\n",
       "    </tr>\n",
       "  </thead>\n",
       "  <tbody>\n",
       "    <tr>\n",
       "      <th>count</th>\n",
       "      <td>9134.000000</td>\n",
       "      <td>9134.000000</td>\n",
       "      <td>9134.000000</td>\n",
       "      <td>9134.000000</td>\n",
       "      <td>9134.000000</td>\n",
       "      <td>9134.000000</td>\n",
       "      <td>9134.000000</td>\n",
       "      <td>9134.000000</td>\n",
       "    </tr>\n",
       "    <tr>\n",
       "      <th>mean</th>\n",
       "      <td>800.494047</td>\n",
       "      <td>37657.380009</td>\n",
       "      <td>93.219291</td>\n",
       "      <td>15.097000</td>\n",
       "      <td>48.064594</td>\n",
       "      <td>0.384388</td>\n",
       "      <td>2.966170</td>\n",
       "      <td>434.088794</td>\n",
       "    </tr>\n",
       "    <tr>\n",
       "      <th>std</th>\n",
       "      <td>687.096761</td>\n",
       "      <td>30379.904734</td>\n",
       "      <td>34.407967</td>\n",
       "      <td>10.073257</td>\n",
       "      <td>27.905991</td>\n",
       "      <td>0.910384</td>\n",
       "      <td>2.390182</td>\n",
       "      <td>290.500092</td>\n",
       "    </tr>\n",
       "    <tr>\n",
       "      <th>min</th>\n",
       "      <td>189.800768</td>\n",
       "      <td>0.000000</td>\n",
       "      <td>61.000000</td>\n",
       "      <td>0.000000</td>\n",
       "      <td>0.000000</td>\n",
       "      <td>0.000000</td>\n",
       "      <td>1.000000</td>\n",
       "      <td>0.099007</td>\n",
       "    </tr>\n",
       "    <tr>\n",
       "      <th>25%</th>\n",
       "      <td>399.425179</td>\n",
       "      <td>0.000000</td>\n",
       "      <td>68.000000</td>\n",
       "      <td>6.000000</td>\n",
       "      <td>24.000000</td>\n",
       "      <td>0.000000</td>\n",
       "      <td>1.000000</td>\n",
       "      <td>272.258244</td>\n",
       "    </tr>\n",
       "    <tr>\n",
       "      <th>50%</th>\n",
       "      <td>578.018220</td>\n",
       "      <td>33889.500000</td>\n",
       "      <td>83.000000</td>\n",
       "      <td>14.000000</td>\n",
       "      <td>48.000000</td>\n",
       "      <td>0.000000</td>\n",
       "      <td>2.000000</td>\n",
       "      <td>383.945434</td>\n",
       "    </tr>\n",
       "    <tr>\n",
       "      <th>75%</th>\n",
       "      <td>896.216704</td>\n",
       "      <td>62320.000000</td>\n",
       "      <td>109.000000</td>\n",
       "      <td>23.000000</td>\n",
       "      <td>71.000000</td>\n",
       "      <td>0.000000</td>\n",
       "      <td>4.000000</td>\n",
       "      <td>547.514839</td>\n",
       "    </tr>\n",
       "    <tr>\n",
       "      <th>max</th>\n",
       "      <td>8332.538119</td>\n",
       "      <td>99981.000000</td>\n",
       "      <td>298.000000</td>\n",
       "      <td>35.000000</td>\n",
       "      <td>99.000000</td>\n",
       "      <td>5.000000</td>\n",
       "      <td>9.000000</td>\n",
       "      <td>2893.239678</td>\n",
       "    </tr>\n",
       "  </tbody>\n",
       "</table>\n",
       "</div>"
      ],
      "text/plain": [
       "       Claim Amount        Income  Monthly Premium Auto  \\\n",
       "count   9134.000000   9134.000000           9134.000000   \n",
       "mean     800.494047  37657.380009             93.219291   \n",
       "std      687.096761  30379.904734             34.407967   \n",
       "min      189.800768      0.000000             61.000000   \n",
       "25%      399.425179      0.000000             68.000000   \n",
       "50%      578.018220  33889.500000             83.000000   \n",
       "75%      896.216704  62320.000000            109.000000   \n",
       "max     8332.538119  99981.000000            298.000000   \n",
       "\n",
       "       Months Since Last Claim  Months Since Policy Inception  \\\n",
       "count              9134.000000                    9134.000000   \n",
       "mean                 15.097000                      48.064594   \n",
       "std                  10.073257                      27.905991   \n",
       "min                   0.000000                       0.000000   \n",
       "25%                   6.000000                      24.000000   \n",
       "50%                  14.000000                      48.000000   \n",
       "75%                  23.000000                      71.000000   \n",
       "max                  35.000000                      99.000000   \n",
       "\n",
       "       Number of Open Complaints  Number of Policies  Total Claim Amount  \n",
       "count                9134.000000         9134.000000         9134.000000  \n",
       "mean                    0.384388            2.966170          434.088794  \n",
       "std                     0.910384            2.390182          290.500092  \n",
       "min                     0.000000            1.000000            0.099007  \n",
       "25%                     0.000000            1.000000          272.258244  \n",
       "50%                     0.000000            2.000000          383.945434  \n",
       "75%                     0.000000            4.000000          547.514839  \n",
       "max                     5.000000            9.000000         2893.239678  "
      ]
     },
     "execution_count": 26,
     "metadata": {},
     "output_type": "execute_result"
    }
   ],
   "source": [
    "auto1.describe()"
   ]
  },
  {
   "cell_type": "code",
   "execution_count": 27,
   "metadata": {},
   "outputs": [
    {
     "data": {
      "text/plain": [
       "<matplotlib.axes._subplots.AxesSubplot at 0x1a1ec89550>"
      ]
     },
     "execution_count": 27,
     "metadata": {},
     "output_type": "execute_result"
    },
    {
     "data": {
      "image/png": "[encoded data removed]",
      "text/plain": [
       "<Figure size 864x576 with 2 Axes>"
      ]
     },
     "metadata": {
      "needs_background": "light"
     },
     "output_type": "display_data"
    }
   ],
   "source": [
    "plt.figure(figsize=(12,8))\n",
    "sns.heatmap(auto1.corr(), annot=True)"
   ]
  },
  {
   "cell_type": "code",
   "execution_count": 28,
   "metadata": {},
   "outputs": [
    {
     "data": {
      "text/html": [
       "<div>\n",
       "<style scoped>\n",
       "    .dataframe tbody tr th:only-of-type {\n",
       "        vertical-align: middle;\n",
       "    }\n",
       "\n",
       "    .dataframe tbody tr th {\n",
       "        vertical-align: top;\n",
       "    }\n",
       "\n",
       "    .dataframe thead th {\n",
       "        text-align: right;\n",
       "    }\n",
       "</style>\n",
       "<table border=\"1\" class=\"dataframe\">\n",
       "  <thead>\n",
       "    <tr style=\"text-align: right;\">\n",
       "      <th></th>\n",
       "      <th>Claim Amount</th>\n",
       "      <th>Income</th>\n",
       "      <th>Monthly Premium Auto</th>\n",
       "      <th>Months Since Last Claim</th>\n",
       "      <th>Months Since Policy Inception</th>\n",
       "      <th>Number of Open Complaints</th>\n",
       "      <th>Number of Policies</th>\n",
       "      <th>Total Claim Amount</th>\n",
       "    </tr>\n",
       "  </thead>\n",
       "  <tbody>\n",
       "    <tr>\n",
       "      <th>Claim Amount</th>\n",
       "      <td>1.000000</td>\n",
       "      <td>0.024366</td>\n",
       "      <td>0.396262</td>\n",
       "      <td>0.011517</td>\n",
       "      <td>0.009418</td>\n",
       "      <td>-0.036343</td>\n",
       "      <td>0.021955</td>\n",
       "      <td>0.226451</td>\n",
       "    </tr>\n",
       "    <tr>\n",
       "      <th>Income</th>\n",
       "      <td>0.024366</td>\n",
       "      <td>1.000000</td>\n",
       "      <td>-0.016665</td>\n",
       "      <td>-0.026715</td>\n",
       "      <td>-0.000875</td>\n",
       "      <td>0.006408</td>\n",
       "      <td>-0.008656</td>\n",
       "      <td>-0.355254</td>\n",
       "    </tr>\n",
       "    <tr>\n",
       "      <th>Monthly Premium Auto</th>\n",
       "      <td>0.396262</td>\n",
       "      <td>-0.016665</td>\n",
       "      <td>1.000000</td>\n",
       "      <td>0.005026</td>\n",
       "      <td>0.020257</td>\n",
       "      <td>-0.013122</td>\n",
       "      <td>-0.011233</td>\n",
       "      <td>0.632017</td>\n",
       "    </tr>\n",
       "    <tr>\n",
       "      <th>Months Since Last Claim</th>\n",
       "      <td>0.011517</td>\n",
       "      <td>-0.026715</td>\n",
       "      <td>0.005026</td>\n",
       "      <td>1.000000</td>\n",
       "      <td>-0.042959</td>\n",
       "      <td>0.005354</td>\n",
       "      <td>0.009136</td>\n",
       "      <td>0.007563</td>\n",
       "    </tr>\n",
       "    <tr>\n",
       "      <th>Months Since Policy Inception</th>\n",
       "      <td>0.009418</td>\n",
       "      <td>-0.000875</td>\n",
       "      <td>0.020257</td>\n",
       "      <td>-0.042959</td>\n",
       "      <td>1.000000</td>\n",
       "      <td>-0.001158</td>\n",
       "      <td>-0.013333</td>\n",
       "      <td>0.003335</td>\n",
       "    </tr>\n",
       "    <tr>\n",
       "      <th>Number of Open Complaints</th>\n",
       "      <td>-0.036343</td>\n",
       "      <td>0.006408</td>\n",
       "      <td>-0.013122</td>\n",
       "      <td>0.005354</td>\n",
       "      <td>-0.001158</td>\n",
       "      <td>1.000000</td>\n",
       "      <td>0.001498</td>\n",
       "      <td>-0.014241</td>\n",
       "    </tr>\n",
       "    <tr>\n",
       "      <th>Number of Policies</th>\n",
       "      <td>0.021955</td>\n",
       "      <td>-0.008656</td>\n",
       "      <td>-0.011233</td>\n",
       "      <td>0.009136</td>\n",
       "      <td>-0.013333</td>\n",
       "      <td>0.001498</td>\n",
       "      <td>1.000000</td>\n",
       "      <td>-0.002354</td>\n",
       "    </tr>\n",
       "    <tr>\n",
       "      <th>Total Claim Amount</th>\n",
       "      <td>0.226451</td>\n",
       "      <td>-0.355254</td>\n",
       "      <td>0.632017</td>\n",
       "      <td>0.007563</td>\n",
       "      <td>0.003335</td>\n",
       "      <td>-0.014241</td>\n",
       "      <td>-0.002354</td>\n",
       "      <td>1.000000</td>\n",
       "    </tr>\n",
       "  </tbody>\n",
       "</table>\n",
       "</div>"
      ],
      "text/plain": [
       "                               Claim Amount    Income  Monthly Premium Auto  \\\n",
       "Claim Amount                       1.000000  0.024366              0.396262   \n",
       "Income                             0.024366  1.000000             -0.016665   \n",
       "Monthly Premium Auto               0.396262 -0.016665              1.000000   \n",
       "Months Since Last Claim            0.011517 -0.026715              0.005026   \n",
       "Months Since Policy Inception      0.009418 -0.000875              0.020257   \n",
       "Number of Open Complaints         -0.036343  0.006408             -0.013122   \n",
       "Number of Policies                 0.021955 -0.008656             -0.011233   \n",
       "Total Claim Amount                 0.226451 -0.355254              0.632017   \n",
       "\n",
       "                               Months Since Last Claim  \\\n",
       "Claim Amount                                  0.011517   \n",
       "Income                                       -0.026715   \n",
       "Monthly Premium Auto                          0.005026   \n",
       "Months Since Last Claim                       1.000000   \n",
       "Months Since Policy Inception                -0.042959   \n",
       "Number of Open Complaints                     0.005354   \n",
       "Number of Policies                            0.009136   \n",
       "Total Claim Amount                            0.007563   \n",
       "\n",
       "                               Months Since Policy Inception  \\\n",
       "Claim Amount                                        0.009418   \n",
       "Income                                             -0.000875   \n",
       "Monthly Premium Auto                                0.020257   \n",
       "Months Since Last Claim                            -0.042959   \n",
       "Months Since Policy Inception                       1.000000   \n",
       "Number of Open Complaints                          -0.001158   \n",
       "Number of Policies                                 -0.013333   \n",
       "Total Claim Amount                                  0.003335   \n",
       "\n",
       "                               Number of Open Complaints  Number of Policies  \\\n",
       "Claim Amount                                   -0.036343            0.021955   \n",
       "Income                                          0.006408           -0.008656   \n",
       "Monthly Premium Auto                           -0.013122           -0.011233   \n",
       "Months Since Last Claim                         0.005354            0.009136   \n",
       "Months Since Policy Inception                  -0.001158           -0.013333   \n",
       "Number of Open Complaints                       1.000000            0.001498   \n",
       "Number of Policies                              0.001498            1.000000   \n",
       "Total Claim Amount                             -0.014241           -0.002354   \n",
       "\n",
       "                               Total Claim Amount  \n",
       "Claim Amount                             0.226451  \n",
       "Income                                  -0.355254  \n",
       "Monthly Premium Auto                     0.632017  \n",
       "Months Since Last Claim                  0.007563  \n",
       "Months Since Policy Inception            0.003335  \n",
       "Number of Open Complaints               -0.014241  \n",
       "Number of Policies                      -0.002354  \n",
       "Total Claim Amount                       1.000000  "
      ]
     },
     "execution_count": 28,
     "metadata": {},
     "output_type": "execute_result"
    }
   ],
   "source": [
    "auto1.corr()"
   ]
  },
  {
   "cell_type": "markdown",
   "metadata": {},
   "source": [
    "Observation-\n",
    "1. Claim Amount has little positive correlation with Monthly Premium Auto.\n",
    "2. Total Claim Amount has positive correlation with Monthly premium Auto.\n",
    "3. we can drop country column bcz it has only 1 value repeating all over the column 'country', only USA is present."
   ]
  },
  {
   "cell_type": "markdown",
   "metadata": {},
   "source": [
    "##Further Analysis Of The Data"
   ]
  },
  {
   "cell_type": "code",
   "execution_count": 29,
   "metadata": {},
   "outputs": [
    {
     "data": {
      "text/html": [
       "<div>\n",
       "<style scoped>\n",
       "    .dataframe tbody tr th:only-of-type {\n",
       "        vertical-align: middle;\n",
       "    }\n",
       "\n",
       "    .dataframe tbody tr th {\n",
       "        vertical-align: top;\n",
       "    }\n",
       "\n",
       "    .dataframe thead th {\n",
       "        text-align: right;\n",
       "    }\n",
       "</style>\n",
       "<table border=\"1\" class=\"dataframe\">\n",
       "  <thead>\n",
       "    <tr style=\"text-align: right;\">\n",
       "      <th></th>\n",
       "      <th>Claim Amount</th>\n",
       "      <th>Income</th>\n",
       "      <th>Monthly Premium Auto</th>\n",
       "      <th>Months Since Last Claim</th>\n",
       "      <th>Months Since Policy Inception</th>\n",
       "      <th>Number of Open Complaints</th>\n",
       "      <th>Number of Policies</th>\n",
       "      <th>Total Claim Amount</th>\n",
       "    </tr>\n",
       "    <tr>\n",
       "      <th>State</th>\n",
       "      <th></th>\n",
       "      <th></th>\n",
       "      <th></th>\n",
       "      <th></th>\n",
       "      <th></th>\n",
       "      <th></th>\n",
       "      <th></th>\n",
       "      <th></th>\n",
       "    </tr>\n",
       "  </thead>\n",
       "  <tbody>\n",
       "    <tr>\n",
       "      <th>Iowa</th>\n",
       "      <td>807.790119</td>\n",
       "      <td>37557.283353</td>\n",
       "      <td>93.763937</td>\n",
       "      <td>14.891196</td>\n",
       "      <td>48.237985</td>\n",
       "      <td>0.363706</td>\n",
       "      <td>2.973856</td>\n",
       "      <td>433.012542</td>\n",
       "    </tr>\n",
       "    <tr>\n",
       "      <th>Kansas</th>\n",
       "      <td>802.147227</td>\n",
       "      <td>38122.733083</td>\n",
       "      <td>92.031328</td>\n",
       "      <td>15.562657</td>\n",
       "      <td>49.229323</td>\n",
       "      <td>0.412281</td>\n",
       "      <td>2.928571</td>\n",
       "      <td>436.343596</td>\n",
       "    </tr>\n",
       "    <tr>\n",
       "      <th>Missouri</th>\n",
       "      <td>800.364776</td>\n",
       "      <td>37558.946667</td>\n",
       "      <td>93.495238</td>\n",
       "      <td>15.082540</td>\n",
       "      <td>47.648889</td>\n",
       "      <td>0.382540</td>\n",
       "      <td>2.967619</td>\n",
       "      <td>437.819268</td>\n",
       "    </tr>\n",
       "    <tr>\n",
       "      <th>Nebraska</th>\n",
       "      <td>786.134149</td>\n",
       "      <td>37405.402231</td>\n",
       "      <td>91.884909</td>\n",
       "      <td>15.097475</td>\n",
       "      <td>47.781562</td>\n",
       "      <td>0.383441</td>\n",
       "      <td>3.067528</td>\n",
       "      <td>425.361446</td>\n",
       "    </tr>\n",
       "    <tr>\n",
       "      <th>Oklahoma</th>\n",
       "      <td>805.670684</td>\n",
       "      <td>38369.605442</td>\n",
       "      <td>94.278912</td>\n",
       "      <td>15.333333</td>\n",
       "      <td>48.530612</td>\n",
       "      <td>0.428571</td>\n",
       "      <td>2.776644</td>\n",
       "      <td>438.750566</td>\n",
       "    </tr>\n",
       "  </tbody>\n",
       "</table>\n",
       "</div>"
      ],
      "text/plain": [
       "          Claim Amount        Income  Monthly Premium Auto  \\\n",
       "State                                                        \n",
       "Iowa        807.790119  37557.283353             93.763937   \n",
       "Kansas      802.147227  38122.733083             92.031328   \n",
       "Missouri    800.364776  37558.946667             93.495238   \n",
       "Nebraska    786.134149  37405.402231             91.884909   \n",
       "Oklahoma    805.670684  38369.605442             94.278912   \n",
       "\n",
       "          Months Since Last Claim  Months Since Policy Inception  \\\n",
       "State                                                              \n",
       "Iowa                    14.891196                      48.237985   \n",
       "Kansas                  15.562657                      49.229323   \n",
       "Missouri                15.082540                      47.648889   \n",
       "Nebraska                15.097475                      47.781562   \n",
       "Oklahoma                15.333333                      48.530612   \n",
       "\n",
       "          Number of Open Complaints  Number of Policies  Total Claim Amount  \n",
       "State                                                                        \n",
       "Iowa                       0.363706            2.973856          433.012542  \n",
       "Kansas                     0.412281            2.928571          436.343596  \n",
       "Missouri                   0.382540            2.967619          437.819268  \n",
       "Nebraska                   0.383441            3.067528          425.361446  \n",
       "Oklahoma                   0.428571            2.776644          438.750566  "
      ]
     },
     "execution_count": 29,
     "metadata": {},
     "output_type": "execute_result"
    }
   ],
   "source": [
    "auto1.groupby('State').mean()"
   ]
  },
  {
   "cell_type": "raw",
   "metadata": {},
   "source": [
    "bservations:\n",
    "1. Nebraska has lowest claim when compared to other states.\n",
    "2. Income of Nebraska is the lowest, followed by Lowa and Missouri.\n",
    "3. Avg monthly premium of Nebraska is the lowest and Oklahoma has highest mean montly premium.\n",
    "4. Avg month since policy inception is same for all the states. Kansas is little higher averaging to 49 months. Rest all are around 47 and 48.\n",
    "5. Oklahoma has less avg no. of policies around 2.77 whereas others come around 3."
   ]
  },
  {
   "cell_type": "code",
   "execution_count": 30,
   "metadata": {},
   "outputs": [
    {
     "data": {
      "text/html": [
       "<div>\n",
       "<style scoped>\n",
       "    .dataframe tbody tr th:only-of-type {\n",
       "        vertical-align: middle;\n",
       "    }\n",
       "\n",
       "    .dataframe tbody tr th {\n",
       "        vertical-align: top;\n",
       "    }\n",
       "\n",
       "    .dataframe thead th {\n",
       "        text-align: right;\n",
       "    }\n",
       "</style>\n",
       "<table border=\"1\" class=\"dataframe\">\n",
       "  <thead>\n",
       "    <tr style=\"text-align: right;\">\n",
       "      <th></th>\n",
       "      <th>Claim Amount</th>\n",
       "      <th>Income</th>\n",
       "      <th>Monthly Premium Auto</th>\n",
       "      <th>Months Since Last Claim</th>\n",
       "      <th>Months Since Policy Inception</th>\n",
       "      <th>Number of Open Complaints</th>\n",
       "      <th>Number of Policies</th>\n",
       "      <th>Total Claim Amount</th>\n",
       "    </tr>\n",
       "    <tr>\n",
       "      <th>Response</th>\n",
       "      <th></th>\n",
       "      <th></th>\n",
       "      <th></th>\n",
       "      <th></th>\n",
       "      <th></th>\n",
       "      <th></th>\n",
       "      <th></th>\n",
       "      <th></th>\n",
       "    </tr>\n",
       "  </thead>\n",
       "  <tbody>\n",
       "    <tr>\n",
       "      <th>No</th>\n",
       "      <td>803.002230</td>\n",
       "      <td>37509.190008</td>\n",
       "      <td>93.065040</td>\n",
       "      <td>15.165346</td>\n",
       "      <td>48.030923</td>\n",
       "      <td>0.388065</td>\n",
       "      <td>2.986583</td>\n",
       "      <td>432.084497</td>\n",
       "    </tr>\n",
       "    <tr>\n",
       "      <th>Yes</th>\n",
       "      <td>785.487136</td>\n",
       "      <td>38544.027523</td>\n",
       "      <td>94.142202</td>\n",
       "      <td>14.688073</td>\n",
       "      <td>48.266055</td>\n",
       "      <td>0.362385</td>\n",
       "      <td>2.844037</td>\n",
       "      <td>446.080868</td>\n",
       "    </tr>\n",
       "  </tbody>\n",
       "</table>\n",
       "</div>"
      ],
      "text/plain": [
       "          Claim Amount        Income  Monthly Premium Auto  \\\n",
       "Response                                                     \n",
       "No          803.002230  37509.190008             93.065040   \n",
       "Yes         785.487136  38544.027523             94.142202   \n",
       "\n",
       "          Months Since Last Claim  Months Since Policy Inception  \\\n",
       "Response                                                           \n",
       "No                      15.165346                      48.030923   \n",
       "Yes                     14.688073                      48.266055   \n",
       "\n",
       "          Number of Open Complaints  Number of Policies  Total Claim Amount  \n",
       "Response                                                                     \n",
       "No                         0.388065            2.986583          432.084497  \n",
       "Yes                        0.362385            2.844037          446.080868  "
      ]
     },
     "execution_count": 30,
     "metadata": {},
     "output_type": "execute_result"
    }
   ],
   "source": [
    "#grouping by response\n",
    "auto1.groupby('Response').mean() "
   ]
  },
  {
   "cell_type": "raw",
   "metadata": {},
   "source": [
    "Observation:\n",
    "1. In the column response for category No, claim amount is 803, comparitively little higher than Yes at 785.\n",
    "2. However, the average total claim amount for no is lesser at 432 when compared to yes at 445.\n",
    "3. The average income for category no is at 37509 which is lesser than yes category at 38544."
   ]
  },
  {
   "cell_type": "code",
   "execution_count": 31,
   "metadata": {},
   "outputs": [
    {
     "data": {
      "text/html": [
       "<div>\n",
       "<style scoped>\n",
       "    .dataframe tbody tr th:only-of-type {\n",
       "        vertical-align: middle;\n",
       "    }\n",
       "\n",
       "    .dataframe tbody tr th {\n",
       "        vertical-align: top;\n",
       "    }\n",
       "\n",
       "    .dataframe thead th {\n",
       "        text-align: right;\n",
       "    }\n",
       "</style>\n",
       "<table border=\"1\" class=\"dataframe\">\n",
       "  <thead>\n",
       "    <tr style=\"text-align: right;\">\n",
       "      <th></th>\n",
       "      <th>Claim Amount</th>\n",
       "      <th>Income</th>\n",
       "      <th>Monthly Premium Auto</th>\n",
       "      <th>Months Since Last Claim</th>\n",
       "      <th>Months Since Policy Inception</th>\n",
       "      <th>Number of Open Complaints</th>\n",
       "      <th>Number of Policies</th>\n",
       "      <th>Total Claim Amount</th>\n",
       "    </tr>\n",
       "    <tr>\n",
       "      <th>Coverage</th>\n",
       "      <th></th>\n",
       "      <th></th>\n",
       "      <th></th>\n",
       "      <th></th>\n",
       "      <th></th>\n",
       "      <th></th>\n",
       "      <th></th>\n",
       "      <th></th>\n",
       "    </tr>\n",
       "  </thead>\n",
       "  <tbody>\n",
       "    <tr>\n",
       "      <th>Basic</th>\n",
       "      <td>719.070642</td>\n",
       "      <td>38145.834770</td>\n",
       "      <td>82.173851</td>\n",
       "      <td>14.974677</td>\n",
       "      <td>47.924928</td>\n",
       "      <td>0.384698</td>\n",
       "      <td>2.986530</td>\n",
       "      <td>379.036312</td>\n",
       "    </tr>\n",
       "    <tr>\n",
       "      <th>Extended</th>\n",
       "      <td>878.967761</td>\n",
       "      <td>36380.099927</td>\n",
       "      <td>103.579504</td>\n",
       "      <td>15.221371</td>\n",
       "      <td>47.982130</td>\n",
       "      <td>0.398979</td>\n",
       "      <td>2.954048</td>\n",
       "      <td>480.578885</td>\n",
       "    </tr>\n",
       "    <tr>\n",
       "      <th>Premium</th>\n",
       "      <td>1089.560308</td>\n",
       "      <td>38607.120146</td>\n",
       "      <td>133.381068</td>\n",
       "      <td>15.509709</td>\n",
       "      <td>49.282767</td>\n",
       "      <td>0.333738</td>\n",
       "      <td>2.868932</td>\n",
       "      <td>651.390241</td>\n",
       "    </tr>\n",
       "  </tbody>\n",
       "</table>\n",
       "</div>"
      ],
      "text/plain": [
       "          Claim Amount        Income  Monthly Premium Auto  \\\n",
       "Coverage                                                     \n",
       "Basic       719.070642  38145.834770             82.173851   \n",
       "Extended    878.967761  36380.099927            103.579504   \n",
       "Premium    1089.560308  38607.120146            133.381068   \n",
       "\n",
       "          Months Since Last Claim  Months Since Policy Inception  \\\n",
       "Coverage                                                           \n",
       "Basic                   14.974677                      47.924928   \n",
       "Extended                15.221371                      47.982130   \n",
       "Premium                 15.509709                      49.282767   \n",
       "\n",
       "          Number of Open Complaints  Number of Policies  Total Claim Amount  \n",
       "Coverage                                                                     \n",
       "Basic                      0.384698            2.986530          379.036312  \n",
       "Extended                   0.398979            2.954048          480.578885  \n",
       "Premium                    0.333738            2.868932          651.390241  "
      ]
     },
     "execution_count": 31,
     "metadata": {},
     "output_type": "execute_result"
    }
   ],
   "source": [
    "#grouping by coverage\n",
    "auto1.groupby('Coverage').mean()"
   ]
  },
  {
   "cell_type": "raw",
   "metadata": {},
   "source": [
    "Observation:\n",
    "1. The claim amount for lowest in Basic is 719, and little higher for Extended it is 879 and for premium it is highest at 1089.\n",
    "2. Income doesn't have much impact on Coverage as avg income opting for Basic coverage is 38145 where as avg income opting for Extended coverage is 36380 and opting for premium is 38607.\n",
    "3. It is obvious that avg Monthly premium is lowest for Basic at 82.17, higher for Extended at 103.5 and highest for premium at 133.38.\n",
    "4. The avg months since last claim doesn't show much difference. For Basic it is 14.97, extended it is 15.22 and premium it is 15.51.\n",
    "5. No. of open complaints is less for premium class at 0.33, 0.38 for basic and highest for extended by 0.399.\n",
    "6. The avg no of policies of premium class are least at 2.86, extended is at 2.95, Basic is highest at 2.98.\n",
    "7. Total claim amount is highest for premium at 651, followed by extended at 480 and basic at 379."
   ]
  },
  {
   "cell_type": "code",
   "execution_count": 32,
   "metadata": {},
   "outputs": [
    {
     "data": {
      "text/html": [
       "<div>\n",
       "<style scoped>\n",
       "    .dataframe tbody tr th:only-of-type {\n",
       "        vertical-align: middle;\n",
       "    }\n",
       "\n",
       "    .dataframe tbody tr th {\n",
       "        vertical-align: top;\n",
       "    }\n",
       "\n",
       "    .dataframe thead th {\n",
       "        text-align: right;\n",
       "    }\n",
       "</style>\n",
       "<table border=\"1\" class=\"dataframe\">\n",
       "  <thead>\n",
       "    <tr style=\"text-align: right;\">\n",
       "      <th></th>\n",
       "      <th>Claim Amount</th>\n",
       "      <th>Income</th>\n",
       "      <th>Monthly Premium Auto</th>\n",
       "      <th>Months Since Last Claim</th>\n",
       "      <th>Months Since Policy Inception</th>\n",
       "      <th>Number of Open Complaints</th>\n",
       "      <th>Number of Policies</th>\n",
       "      <th>Total Claim Amount</th>\n",
       "    </tr>\n",
       "    <tr>\n",
       "      <th>Gender</th>\n",
       "      <th></th>\n",
       "      <th></th>\n",
       "      <th></th>\n",
       "      <th></th>\n",
       "      <th></th>\n",
       "      <th></th>\n",
       "      <th></th>\n",
       "      <th></th>\n",
       "    </tr>\n",
       "  </thead>\n",
       "  <tbody>\n",
       "    <tr>\n",
       "      <th>F</th>\n",
       "      <td>809.660237</td>\n",
       "      <td>38108.176471</td>\n",
       "      <td>93.087162</td>\n",
       "      <td>14.844998</td>\n",
       "      <td>47.949764</td>\n",
       "      <td>0.387076</td>\n",
       "      <td>2.928081</td>\n",
       "      <td>412.856483</td>\n",
       "    </tr>\n",
       "    <tr>\n",
       "      <th>M</th>\n",
       "      <td>790.955149</td>\n",
       "      <td>37188.253575</td>\n",
       "      <td>93.356792</td>\n",
       "      <td>15.359249</td>\n",
       "      <td>48.184093</td>\n",
       "      <td>0.381591</td>\n",
       "      <td>3.005809</td>\n",
       "      <td>456.184439</td>\n",
       "    </tr>\n",
       "  </tbody>\n",
       "</table>\n",
       "</div>"
      ],
      "text/plain": [
       "        Claim Amount        Income  Monthly Premium Auto  \\\n",
       "Gender                                                     \n",
       "F         809.660237  38108.176471             93.087162   \n",
       "M         790.955149  37188.253575             93.356792   \n",
       "\n",
       "        Months Since Last Claim  Months Since Policy Inception  \\\n",
       "Gender                                                           \n",
       "F                     14.844998                      47.949764   \n",
       "M                     15.359249                      48.184093   \n",
       "\n",
       "        Number of Open Complaints  Number of Policies  Total Claim Amount  \n",
       "Gender                                                                     \n",
       "F                        0.387076            2.928081          412.856483  \n",
       "M                        0.381591            3.005809          456.184439  "
      ]
     },
     "execution_count": 32,
     "metadata": {},
     "output_type": "execute_result"
    }
   ],
   "source": [
    "#grouping by Gender Status\n",
    "auto1.groupby('Gender').mean()\n"
   ]
  },
  {
   "cell_type": "raw",
   "metadata": {},
   "source": [
    "Observations\n",
    "1. The average claim amount of female is higher than of male. However the avg total claim amount of male is higher than of female.\n",
    "2. The average income of female is higher than of male. However, male pays slightly higher premium at 93.35 when compared to female at 93.087.\n",
    "3. Male claim more frequently than female as months since last claim is 14.84 for female and for male it is 15.35.\n",
    "4. No. of open complaints is slightly higher for female at 0.387 when compared to male at 0.381.\n",
    "5. No. of policies for female is slightly lower than that of male.\n",
    "\n"
   ]
  },
  {
   "cell_type": "code",
   "execution_count": 33,
   "metadata": {},
   "outputs": [
    {
     "data": {
      "text/html": [
       "<div>\n",
       "<style scoped>\n",
       "    .dataframe tbody tr th:only-of-type {\n",
       "        vertical-align: middle;\n",
       "    }\n",
       "\n",
       "    .dataframe tbody tr th {\n",
       "        vertical-align: top;\n",
       "    }\n",
       "\n",
       "    .dataframe thead th {\n",
       "        text-align: right;\n",
       "    }\n",
       "</style>\n",
       "<table border=\"1\" class=\"dataframe\">\n",
       "  <thead>\n",
       "    <tr style=\"text-align: right;\">\n",
       "      <th></th>\n",
       "      <th>Claim Amount</th>\n",
       "      <th>Income</th>\n",
       "      <th>Monthly Premium Auto</th>\n",
       "      <th>Months Since Last Claim</th>\n",
       "      <th>Months Since Policy Inception</th>\n",
       "      <th>Number of Open Complaints</th>\n",
       "      <th>Number of Policies</th>\n",
       "      <th>Total Claim Amount</th>\n",
       "    </tr>\n",
       "    <tr>\n",
       "      <th>Vehicle Class</th>\n",
       "      <th></th>\n",
       "      <th></th>\n",
       "      <th></th>\n",
       "      <th></th>\n",
       "      <th></th>\n",
       "      <th></th>\n",
       "      <th></th>\n",
       "      <th></th>\n",
       "    </tr>\n",
       "  </thead>\n",
       "  <tbody>\n",
       "    <tr>\n",
       "      <th>Four-Door Car</th>\n",
       "      <td>663.172661</td>\n",
       "      <td>37798.692491</td>\n",
       "      <td>77.423718</td>\n",
       "      <td>15.156460</td>\n",
       "      <td>47.945034</td>\n",
       "      <td>0.401212</td>\n",
       "      <td>2.990262</td>\n",
       "      <td>351.760366</td>\n",
       "    </tr>\n",
       "    <tr>\n",
       "      <th>Luxury Car</th>\n",
       "      <td>1705.334840</td>\n",
       "      <td>38807.153374</td>\n",
       "      <td>212.116564</td>\n",
       "      <td>15.478528</td>\n",
       "      <td>51.858896</td>\n",
       "      <td>0.417178</td>\n",
       "      <td>2.981595</td>\n",
       "      <td>1130.288964</td>\n",
       "    </tr>\n",
       "    <tr>\n",
       "      <th>Luxury SUV</th>\n",
       "      <td>1712.299913</td>\n",
       "      <td>35598.021739</td>\n",
       "      <td>213.184783</td>\n",
       "      <td>15.277174</td>\n",
       "      <td>50.673913</td>\n",
       "      <td>0.353261</td>\n",
       "      <td>2.902174</td>\n",
       "      <td>1092.525076</td>\n",
       "    </tr>\n",
       "    <tr>\n",
       "      <th>SUV</th>\n",
       "      <td>1044.351182</td>\n",
       "      <td>36460.525056</td>\n",
       "      <td>120.164254</td>\n",
       "      <td>14.704900</td>\n",
       "      <td>47.022829</td>\n",
       "      <td>0.360802</td>\n",
       "      <td>2.878619</td>\n",
       "      <td>569.572999</td>\n",
       "    </tr>\n",
       "    <tr>\n",
       "      <th>Sports Car</th>\n",
       "      <td>1075.098933</td>\n",
       "      <td>35432.574380</td>\n",
       "      <td>121.878099</td>\n",
       "      <td>15.121901</td>\n",
       "      <td>50.258264</td>\n",
       "      <td>0.330579</td>\n",
       "      <td>3.030992</td>\n",
       "      <td>558.148000</td>\n",
       "    </tr>\n",
       "    <tr>\n",
       "      <th>Two-Door Car</th>\n",
       "      <td>667.103073</td>\n",
       "      <td>39123.372216</td>\n",
       "      <td>76.927359</td>\n",
       "      <td>15.267762</td>\n",
       "      <td>48.204136</td>\n",
       "      <td>0.379639</td>\n",
       "      <td>2.978791</td>\n",
       "      <td>350.542917</td>\n",
       "    </tr>\n",
       "  </tbody>\n",
       "</table>\n",
       "</div>"
      ],
      "text/plain": [
       "               Claim Amount        Income  Monthly Premium Auto  \\\n",
       "Vehicle Class                                                     \n",
       "Four-Door Car    663.172661  37798.692491             77.423718   \n",
       "Luxury Car      1705.334840  38807.153374            212.116564   \n",
       "Luxury SUV      1712.299913  35598.021739            213.184783   \n",
       "SUV             1044.351182  36460.525056            120.164254   \n",
       "Sports Car      1075.098933  35432.574380            121.878099   \n",
       "Two-Door Car     667.103073  39123.372216             76.927359   \n",
       "\n",
       "               Months Since Last Claim  Months Since Policy Inception  \\\n",
       "Vehicle Class                                                           \n",
       "Four-Door Car                15.156460                      47.945034   \n",
       "Luxury Car                   15.478528                      51.858896   \n",
       "Luxury SUV                   15.277174                      50.673913   \n",
       "SUV                          14.704900                      47.022829   \n",
       "Sports Car                   15.121901                      50.258264   \n",
       "Two-Door Car                 15.267762                      48.204136   \n",
       "\n",
       "               Number of Open Complaints  Number of Policies  \\\n",
       "Vehicle Class                                                  \n",
       "Four-Door Car                   0.401212            2.990262   \n",
       "Luxury Car                      0.417178            2.981595   \n",
       "Luxury SUV                      0.353261            2.902174   \n",
       "SUV                             0.360802            2.878619   \n",
       "Sports Car                      0.330579            3.030992   \n",
       "Two-Door Car                    0.379639            2.978791   \n",
       "\n",
       "               Total Claim Amount  \n",
       "Vehicle Class                      \n",
       "Four-Door Car          351.760366  \n",
       "Luxury Car            1130.288964  \n",
       "Luxury SUV            1092.525076  \n",
       "SUV                    569.572999  \n",
       "Sports Car             558.148000  \n",
       "Two-Door Car           350.542917  "
      ]
     },
     "execution_count": 33,
     "metadata": {},
     "output_type": "execute_result"
    }
   ],
   "source": [
    "#grouping by Number of Open Complaints\n",
    "auto1.groupby('Vehicle Class').mean()"
   ]
  },
  {
   "cell_type": "raw",
   "metadata": {},
   "source": [
    "Observations\n",
    "1. Luxury cars and Luxury SUVs have the major claim amount. Two door car and four door cars have least claim amount.\n",
    "2. The monthly premium amount for luxury cars and SUV are the highest and four door cards and two door cars have least.\n",
    "3. Luxury cars, Luxury SUVs and Sports car have higher months since policy inception around 50."
   ]
  },
  {
   "cell_type": "markdown",
   "metadata": {},
   "source": [
    "#### removing outliers"
   ]
  },
  {
   "cell_type": "code",
   "execution_count": 34,
   "metadata": {},
   "outputs": [],
   "source": [
    "from sklearn.preprocessing import LabelEncoder\n",
    "le=LabelEncoder()\n",
    "for i in auto1.columns:\n",
    "    if auto1.columns.dtype=='O':\n",
    "        auto1[i]=le.fit_transform(auto1[i])"
   ]
  },
  {
   "cell_type": "code",
   "execution_count": 35,
   "metadata": {},
   "outputs": [
    {
     "data": {
      "text/plain": [
       "Index(['Customer', 'Country', 'State Code', 'State', 'Claim Amount',\n",
       "       'Response', 'Coverage', 'Education', 'Effective To Date',\n",
       "       'EmploymentStatus', 'Gender', 'Income', 'Location Code',\n",
       "       'Marital Status', 'Monthly Premium Auto', 'Months Since Last Claim',\n",
       "       'Months Since Policy Inception', 'Number of Open Complaints',\n",
       "       'Number of Policies', 'Policy Type', 'Policy', 'Claim Reason',\n",
       "       'Sales Channel', 'Total Claim Amount', 'Vehicle Class', 'Vehicle Size'],\n",
       "      dtype='object')"
      ]
     },
     "execution_count": 35,
     "metadata": {},
     "output_type": "execute_result"
    }
   ],
   "source": [
    "auto1.columns"
   ]
  },
  {
   "cell_type": "code",
   "execution_count": 36,
   "metadata": {},
   "outputs": [
    {
     "data": {
      "text/html": [
       "<div>\n",
       "<style scoped>\n",
       "    .dataframe tbody tr th:only-of-type {\n",
       "        vertical-align: middle;\n",
       "    }\n",
       "\n",
       "    .dataframe tbody tr th {\n",
       "        vertical-align: top;\n",
       "    }\n",
       "\n",
       "    .dataframe thead th {\n",
       "        text-align: right;\n",
       "    }\n",
       "</style>\n",
       "<table border=\"1\" class=\"dataframe\">\n",
       "  <thead>\n",
       "    <tr style=\"text-align: right;\">\n",
       "      <th></th>\n",
       "      <th>State</th>\n",
       "      <th>Claim Amount</th>\n",
       "      <th>Response</th>\n",
       "      <th>Coverage</th>\n",
       "      <th>Education</th>\n",
       "      <th>EmploymentStatus</th>\n",
       "      <th>Gender</th>\n",
       "      <th>Income</th>\n",
       "      <th>Location Code</th>\n",
       "      <th>Marital Status</th>\n",
       "      <th>...</th>\n",
       "      <th>Months Since Policy Inception</th>\n",
       "      <th>Number of Open Complaints</th>\n",
       "      <th>Number of Policies</th>\n",
       "      <th>Policy Type</th>\n",
       "      <th>Policy</th>\n",
       "      <th>Claim Reason</th>\n",
       "      <th>Sales Channel</th>\n",
       "      <th>Total Claim Amount</th>\n",
       "      <th>Vehicle Class</th>\n",
       "      <th>Vehicle Size</th>\n",
       "    </tr>\n",
       "  </thead>\n",
       "  <tbody>\n",
       "    <tr>\n",
       "      <th>0</th>\n",
       "      <td>1</td>\n",
       "      <td>975</td>\n",
       "      <td>0</td>\n",
       "      <td>0</td>\n",
       "      <td>0</td>\n",
       "      <td>1</td>\n",
       "      <td>0</td>\n",
       "      <td>3322</td>\n",
       "      <td>1</td>\n",
       "      <td>1</td>\n",
       "      <td>...</td>\n",
       "      <td>5</td>\n",
       "      <td>0</td>\n",
       "      <td>0</td>\n",
       "      <td>0</td>\n",
       "      <td>2</td>\n",
       "      <td>0</td>\n",
       "      <td>0</td>\n",
       "      <td>2941</td>\n",
       "      <td>5</td>\n",
       "      <td>1</td>\n",
       "    </tr>\n",
       "    <tr>\n",
       "      <th>1</th>\n",
       "      <td>3</td>\n",
       "      <td>4659</td>\n",
       "      <td>0</td>\n",
       "      <td>1</td>\n",
       "      <td>0</td>\n",
       "      <td>4</td>\n",
       "      <td>0</td>\n",
       "      <td>0</td>\n",
       "      <td>1</td>\n",
       "      <td>2</td>\n",
       "      <td>...</td>\n",
       "      <td>42</td>\n",
       "      <td>0</td>\n",
       "      <td>7</td>\n",
       "      <td>1</td>\n",
       "      <td>5</td>\n",
       "      <td>3</td>\n",
       "      <td>0</td>\n",
       "      <td>4880</td>\n",
       "      <td>0</td>\n",
       "      <td>1</td>\n",
       "    </tr>\n",
       "    <tr>\n",
       "      <th>2</th>\n",
       "      <td>4</td>\n",
       "      <td>6900</td>\n",
       "      <td>0</td>\n",
       "      <td>2</td>\n",
       "      <td>0</td>\n",
       "      <td>1</td>\n",
       "      <td>0</td>\n",
       "      <td>2820</td>\n",
       "      <td>1</td>\n",
       "      <td>1</td>\n",
       "      <td>...</td>\n",
       "      <td>38</td>\n",
       "      <td>0</td>\n",
       "      <td>1</td>\n",
       "      <td>1</td>\n",
       "      <td>5</td>\n",
       "      <td>0</td>\n",
       "      <td>0</td>\n",
       "      <td>3897</td>\n",
       "      <td>5</td>\n",
       "      <td>1</td>\n",
       "    </tr>\n",
       "    <tr>\n",
       "      <th>3</th>\n",
       "      <td>2</td>\n",
       "      <td>5140</td>\n",
       "      <td>0</td>\n",
       "      <td>0</td>\n",
       "      <td>0</td>\n",
       "      <td>4</td>\n",
       "      <td>1</td>\n",
       "      <td>0</td>\n",
       "      <td>1</td>\n",
       "      <td>1</td>\n",
       "      <td>...</td>\n",
       "      <td>65</td>\n",
       "      <td>0</td>\n",
       "      <td>6</td>\n",
       "      <td>0</td>\n",
       "      <td>1</td>\n",
       "      <td>0</td>\n",
       "      <td>2</td>\n",
       "      <td>3764</td>\n",
       "      <td>3</td>\n",
       "      <td>1</td>\n",
       "    </tr>\n",
       "    <tr>\n",
       "      <th>4</th>\n",
       "      <td>1</td>\n",
       "      <td>1058</td>\n",
       "      <td>0</td>\n",
       "      <td>0</td>\n",
       "      <td>0</td>\n",
       "      <td>1</td>\n",
       "      <td>1</td>\n",
       "      <td>2510</td>\n",
       "      <td>0</td>\n",
       "      <td>2</td>\n",
       "      <td>...</td>\n",
       "      <td>44</td>\n",
       "      <td>0</td>\n",
       "      <td>0</td>\n",
       "      <td>1</td>\n",
       "      <td>3</td>\n",
       "      <td>0</td>\n",
       "      <td>0</td>\n",
       "      <td>1138</td>\n",
       "      <td>0</td>\n",
       "      <td>1</td>\n",
       "    </tr>\n",
       "  </tbody>\n",
       "</table>\n",
       "<p>5 rows × 22 columns</p>\n",
       "</div>"
      ],
      "text/plain": [
       "   State  Claim Amount  Response  Coverage  Education  EmploymentStatus  \\\n",
       "0      1           975         0         0          0                 1   \n",
       "1      3          4659         0         1          0                 4   \n",
       "2      4          6900         0         2          0                 1   \n",
       "3      2          5140         0         0          0                 4   \n",
       "4      1          1058         0         0          0                 1   \n",
       "\n",
       "   Gender  Income  Location Code  Marital Status  ...  \\\n",
       "0       0    3322              1               1  ...   \n",
       "1       0       0              1               2  ...   \n",
       "2       0    2820              1               1  ...   \n",
       "3       1       0              1               1  ...   \n",
       "4       1    2510              0               2  ...   \n",
       "\n",
       "   Months Since Policy Inception  Number of Open Complaints  \\\n",
       "0                              5                          0   \n",
       "1                             42                          0   \n",
       "2                             38                          0   \n",
       "3                             65                          0   \n",
       "4                             44                          0   \n",
       "\n",
       "   Number of Policies  Policy Type  Policy  Claim Reason  Sales Channel  \\\n",
       "0                   0            0       2             0              0   \n",
       "1                   7            1       5             3              0   \n",
       "2                   1            1       5             0              0   \n",
       "3                   6            0       1             0              2   \n",
       "4                   0            1       3             0              0   \n",
       "\n",
       "   Total Claim Amount  Vehicle Class  Vehicle Size  \n",
       "0                2941              5             1  \n",
       "1                4880              0             1  \n",
       "2                3897              5             1  \n",
       "3                3764              3             1  \n",
       "4                1138              0             1  \n",
       "\n",
       "[5 rows x 22 columns]"
      ]
     },
     "execution_count": 36,
     "metadata": {},
     "output_type": "execute_result"
    }
   ],
   "source": [
    "auto=auto1.drop(['Customer','Country','Effective To Date', 'State Code'], axis=1)\n",
    "auto.head()"
   ]
  },
  {
   "cell_type": "code",
   "execution_count": 37,
   "metadata": {},
   "outputs": [
    {
     "data": {
      "text/plain": [
       "Index(['State', 'Claim Amount', 'Response', 'Coverage', 'Education',\n",
       "       'EmploymentStatus', 'Gender', 'Income', 'Location Code',\n",
       "       'Marital Status', 'Monthly Premium Auto', 'Months Since Last Claim',\n",
       "       'Months Since Policy Inception', 'Number of Open Complaints',\n",
       "       'Number of Policies', 'Policy Type', 'Policy', 'Claim Reason',\n",
       "       'Sales Channel', 'Total Claim Amount', 'Vehicle Class', 'Vehicle Size'],\n",
       "      dtype='object')"
      ]
     },
     "execution_count": 37,
     "metadata": {},
     "output_type": "execute_result"
    }
   ],
   "source": [
    "auto.columns"
   ]
  },
  {
   "cell_type": "code",
   "execution_count": 38,
   "metadata": {},
   "outputs": [
    {
     "name": "stdout",
     "output_type": "stream",
     "text": [
      "shape of data before removing outliers (9134, 22)\n",
      "\n",
      "Skewness of the dataset before removing outliers\n",
      "State                            0.021065\n",
      "Claim Amount                     0.004370\n",
      "Response                         2.037567\n",
      "Coverage                         1.031310\n",
      "Education                        0.333148\n",
      "EmploymentStatus                 0.832147\n",
      "Gender                           0.039866\n",
      "Income                           0.371418\n",
      "Location Code                    0.009511\n",
      "Marital Status                  -0.107553\n",
      "Monthly Premium Auto             1.977663\n",
      "Months Since Last Claim          0.278586\n",
      "Months Since Policy Inception    0.040165\n",
      "Number of Open Complaints        2.783263\n",
      "Number of Policies               1.253333\n",
      "Policy Type                     -0.468383\n",
      "Policy                          -0.427639\n",
      "Claim Reason                     0.733526\n",
      "Sales Channel                    0.506774\n",
      "Total Claim Amount              -0.387946\n",
      "Vehicle Class                    0.395146\n",
      "Vehicle Size                     0.072742\n",
      "dtype: float64\n",
      "New Shape (8696, 22)\n"
     ]
    }
   ],
   "source": [
    "print(\"shape of data before removing outliers\", auto.shape)\n",
    "\n",
    "print()\n",
    "\n",
    "print(\"Skewness of the dataset before removing outliers\")\n",
    "print(auto.skew())\n",
    "\n",
    "from scipy.stats import zscore\n",
    "z=np.abs(zscore(auto))\n",
    "\n",
    "\n",
    "auto=auto[(z<3).all(axis=1)]\n",
    "\n",
    "print('New Shape',auto.shape)\n",
    "\n"
   ]
  },
  {
   "cell_type": "markdown",
   "metadata": {},
   "source": [
    "## splitting the data into input and output variables"
   ]
  },
  {
   "cell_type": "code",
   "execution_count": 39,
   "metadata": {},
   "outputs": [
    {
     "data": {
      "text/html": [
       "<div>\n",
       "<style scoped>\n",
       "    .dataframe tbody tr th:only-of-type {\n",
       "        vertical-align: middle;\n",
       "    }\n",
       "\n",
       "    .dataframe tbody tr th {\n",
       "        vertical-align: top;\n",
       "    }\n",
       "\n",
       "    .dataframe thead th {\n",
       "        text-align: right;\n",
       "    }\n",
       "</style>\n",
       "<table border=\"1\" class=\"dataframe\">\n",
       "  <thead>\n",
       "    <tr style=\"text-align: right;\">\n",
       "      <th></th>\n",
       "      <th>State</th>\n",
       "      <th>Claim Amount</th>\n",
       "      <th>Response</th>\n",
       "      <th>Coverage</th>\n",
       "      <th>Education</th>\n",
       "      <th>EmploymentStatus</th>\n",
       "      <th>Gender</th>\n",
       "      <th>Income</th>\n",
       "      <th>Location Code</th>\n",
       "      <th>Marital Status</th>\n",
       "      <th>...</th>\n",
       "      <th>Months Since Last Claim</th>\n",
       "      <th>Months Since Policy Inception</th>\n",
       "      <th>Number of Open Complaints</th>\n",
       "      <th>Number of Policies</th>\n",
       "      <th>Policy Type</th>\n",
       "      <th>Policy</th>\n",
       "      <th>Claim Reason</th>\n",
       "      <th>Sales Channel</th>\n",
       "      <th>Vehicle Class</th>\n",
       "      <th>Vehicle Size</th>\n",
       "    </tr>\n",
       "  </thead>\n",
       "  <tbody>\n",
       "    <tr>\n",
       "      <th>0</th>\n",
       "      <td>1</td>\n",
       "      <td>975</td>\n",
       "      <td>0</td>\n",
       "      <td>0</td>\n",
       "      <td>0</td>\n",
       "      <td>1</td>\n",
       "      <td>0</td>\n",
       "      <td>3322</td>\n",
       "      <td>1</td>\n",
       "      <td>1</td>\n",
       "      <td>...</td>\n",
       "      <td>32</td>\n",
       "      <td>5</td>\n",
       "      <td>0</td>\n",
       "      <td>0</td>\n",
       "      <td>0</td>\n",
       "      <td>2</td>\n",
       "      <td>0</td>\n",
       "      <td>0</td>\n",
       "      <td>5</td>\n",
       "      <td>1</td>\n",
       "    </tr>\n",
       "    <tr>\n",
       "      <th>1</th>\n",
       "      <td>3</td>\n",
       "      <td>4659</td>\n",
       "      <td>0</td>\n",
       "      <td>1</td>\n",
       "      <td>0</td>\n",
       "      <td>4</td>\n",
       "      <td>0</td>\n",
       "      <td>0</td>\n",
       "      <td>1</td>\n",
       "      <td>2</td>\n",
       "      <td>...</td>\n",
       "      <td>13</td>\n",
       "      <td>42</td>\n",
       "      <td>0</td>\n",
       "      <td>7</td>\n",
       "      <td>1</td>\n",
       "      <td>5</td>\n",
       "      <td>3</td>\n",
       "      <td>0</td>\n",
       "      <td>0</td>\n",
       "      <td>1</td>\n",
       "    </tr>\n",
       "    <tr>\n",
       "      <th>2</th>\n",
       "      <td>4</td>\n",
       "      <td>6900</td>\n",
       "      <td>0</td>\n",
       "      <td>2</td>\n",
       "      <td>0</td>\n",
       "      <td>1</td>\n",
       "      <td>0</td>\n",
       "      <td>2820</td>\n",
       "      <td>1</td>\n",
       "      <td>1</td>\n",
       "      <td>...</td>\n",
       "      <td>18</td>\n",
       "      <td>38</td>\n",
       "      <td>0</td>\n",
       "      <td>1</td>\n",
       "      <td>1</td>\n",
       "      <td>5</td>\n",
       "      <td>0</td>\n",
       "      <td>0</td>\n",
       "      <td>5</td>\n",
       "      <td>1</td>\n",
       "    </tr>\n",
       "    <tr>\n",
       "      <th>3</th>\n",
       "      <td>2</td>\n",
       "      <td>5140</td>\n",
       "      <td>0</td>\n",
       "      <td>0</td>\n",
       "      <td>0</td>\n",
       "      <td>4</td>\n",
       "      <td>1</td>\n",
       "      <td>0</td>\n",
       "      <td>1</td>\n",
       "      <td>1</td>\n",
       "      <td>...</td>\n",
       "      <td>18</td>\n",
       "      <td>65</td>\n",
       "      <td>0</td>\n",
       "      <td>6</td>\n",
       "      <td>0</td>\n",
       "      <td>1</td>\n",
       "      <td>0</td>\n",
       "      <td>2</td>\n",
       "      <td>3</td>\n",
       "      <td>1</td>\n",
       "    </tr>\n",
       "    <tr>\n",
       "      <th>4</th>\n",
       "      <td>1</td>\n",
       "      <td>1058</td>\n",
       "      <td>0</td>\n",
       "      <td>0</td>\n",
       "      <td>0</td>\n",
       "      <td>1</td>\n",
       "      <td>1</td>\n",
       "      <td>2510</td>\n",
       "      <td>0</td>\n",
       "      <td>2</td>\n",
       "      <td>...</td>\n",
       "      <td>12</td>\n",
       "      <td>44</td>\n",
       "      <td>0</td>\n",
       "      <td>0</td>\n",
       "      <td>1</td>\n",
       "      <td>3</td>\n",
       "      <td>0</td>\n",
       "      <td>0</td>\n",
       "      <td>0</td>\n",
       "      <td>1</td>\n",
       "    </tr>\n",
       "  </tbody>\n",
       "</table>\n",
       "<p>5 rows × 21 columns</p>\n",
       "</div>"
      ],
      "text/plain": [
       "   State  Claim Amount  Response  Coverage  Education  EmploymentStatus  \\\n",
       "0      1           975         0         0          0                 1   \n",
       "1      3          4659         0         1          0                 4   \n",
       "2      4          6900         0         2          0                 1   \n",
       "3      2          5140         0         0          0                 4   \n",
       "4      1          1058         0         0          0                 1   \n",
       "\n",
       "   Gender  Income  Location Code  Marital Status  ...  \\\n",
       "0       0    3322              1               1  ...   \n",
       "1       0       0              1               2  ...   \n",
       "2       0    2820              1               1  ...   \n",
       "3       1       0              1               1  ...   \n",
       "4       1    2510              0               2  ...   \n",
       "\n",
       "   Months Since Last Claim  Months Since Policy Inception  \\\n",
       "0                       32                              5   \n",
       "1                       13                             42   \n",
       "2                       18                             38   \n",
       "3                       18                             65   \n",
       "4                       12                             44   \n",
       "\n",
       "   Number of Open Complaints  Number of Policies  Policy Type  Policy  \\\n",
       "0                          0                   0            0       2   \n",
       "1                          0                   7            1       5   \n",
       "2                          0                   1            1       5   \n",
       "3                          0                   6            0       1   \n",
       "4                          0                   0            1       3   \n",
       "\n",
       "   Claim Reason  Sales Channel  Vehicle Class  Vehicle Size  \n",
       "0             0              0              5             1  \n",
       "1             3              0              0             1  \n",
       "2             0              0              5             1  \n",
       "3             0              2              3             1  \n",
       "4             0              0              0             1  \n",
       "\n",
       "[5 rows x 21 columns]"
      ]
     },
     "execution_count": 39,
     "metadata": {},
     "output_type": "execute_result"
    }
   ],
   "source": [
    "x=auto.drop('Total Claim Amount', axis=1)\n",
    "x.head()"
   ]
  },
  {
   "cell_type": "code",
   "execution_count": 40,
   "metadata": {},
   "outputs": [
    {
     "data": {
      "text/html": [
       "<div>\n",
       "<style scoped>\n",
       "    .dataframe tbody tr th:only-of-type {\n",
       "        vertical-align: middle;\n",
       "    }\n",
       "\n",
       "    .dataframe tbody tr th {\n",
       "        vertical-align: top;\n",
       "    }\n",
       "\n",
       "    .dataframe thead th {\n",
       "        text-align: right;\n",
       "    }\n",
       "</style>\n",
       "<table border=\"1\" class=\"dataframe\">\n",
       "  <thead>\n",
       "    <tr style=\"text-align: right;\">\n",
       "      <th></th>\n",
       "      <th>Total Claim Amount</th>\n",
       "    </tr>\n",
       "  </thead>\n",
       "  <tbody>\n",
       "    <tr>\n",
       "      <th>0</th>\n",
       "      <td>2941</td>\n",
       "    </tr>\n",
       "    <tr>\n",
       "      <th>1</th>\n",
       "      <td>4880</td>\n",
       "    </tr>\n",
       "    <tr>\n",
       "      <th>2</th>\n",
       "      <td>3897</td>\n",
       "    </tr>\n",
       "    <tr>\n",
       "      <th>3</th>\n",
       "      <td>3764</td>\n",
       "    </tr>\n",
       "    <tr>\n",
       "      <th>4</th>\n",
       "      <td>1138</td>\n",
       "    </tr>\n",
       "  </tbody>\n",
       "</table>\n",
       "</div>"
      ],
      "text/plain": [
       "   Total Claim Amount\n",
       "0                2941\n",
       "1                4880\n",
       "2                3897\n",
       "3                3764\n",
       "4                1138"
      ]
     },
     "execution_count": 40,
     "metadata": {},
     "output_type": "execute_result"
    }
   ],
   "source": [
    "y=pd.DataFrame(auto['Total Claim Amount'])\n",
    "y.head()"
   ]
  },
  {
   "cell_type": "code",
   "execution_count": 41,
   "metadata": {},
   "outputs": [
    {
     "data": {
      "text/html": [
       "<div>\n",
       "<style scoped>\n",
       "    .dataframe tbody tr th:only-of-type {\n",
       "        vertical-align: middle;\n",
       "    }\n",
       "\n",
       "    .dataframe tbody tr th {\n",
       "        vertical-align: top;\n",
       "    }\n",
       "\n",
       "    .dataframe thead th {\n",
       "        text-align: right;\n",
       "    }\n",
       "</style>\n",
       "<table border=\"1\" class=\"dataframe\">\n",
       "  <thead>\n",
       "    <tr style=\"text-align: right;\">\n",
       "      <th></th>\n",
       "      <th>0</th>\n",
       "      <th>1</th>\n",
       "      <th>2</th>\n",
       "      <th>3</th>\n",
       "      <th>4</th>\n",
       "      <th>5</th>\n",
       "      <th>6</th>\n",
       "      <th>7</th>\n",
       "      <th>8</th>\n",
       "      <th>9</th>\n",
       "      <th>...</th>\n",
       "      <th>11</th>\n",
       "      <th>12</th>\n",
       "      <th>13</th>\n",
       "      <th>14</th>\n",
       "      <th>15</th>\n",
       "      <th>16</th>\n",
       "      <th>17</th>\n",
       "      <th>18</th>\n",
       "      <th>19</th>\n",
       "      <th>20</th>\n",
       "    </tr>\n",
       "  </thead>\n",
       "  <tbody>\n",
       "    <tr>\n",
       "      <th>0</th>\n",
       "      <td>-0.552413</td>\n",
       "      <td>-1.292834</td>\n",
       "      <td>-0.407043</td>\n",
       "      <td>-0.72015</td>\n",
       "      <td>-1.123665</td>\n",
       "      <td>-0.613964</td>\n",
       "      <td>-0.978835</td>\n",
       "      <td>0.660358</td>\n",
       "      <td>0.036996</td>\n",
       "      <td>-0.189804</td>\n",
       "      <td>...</td>\n",
       "      <td>1.681010</td>\n",
       "      <td>-1.537649</td>\n",
       "      <td>-0.42129</td>\n",
       "      <td>-0.823641</td>\n",
       "      <td>-1.726617</td>\n",
       "      <td>-1.115456</td>\n",
       "      <td>-0.949950</td>\n",
       "      <td>-1.034149</td>\n",
       "      <td>1.477098</td>\n",
       "      <td>-0.163828</td>\n",
       "    </tr>\n",
       "    <tr>\n",
       "      <th>1</th>\n",
       "      <td>0.972355</td>\n",
       "      <td>0.304536</td>\n",
       "      <td>-0.407043</td>\n",
       "      <td>0.82156</td>\n",
       "      <td>-1.123665</td>\n",
       "      <td>1.610633</td>\n",
       "      <td>-0.978835</td>\n",
       "      <td>-1.103796</td>\n",
       "      <td>0.036996</td>\n",
       "      <td>1.382138</td>\n",
       "      <td>...</td>\n",
       "      <td>-0.205140</td>\n",
       "      <td>-0.211804</td>\n",
       "      <td>-0.42129</td>\n",
       "      <td>2.100803</td>\n",
       "      <td>0.368647</td>\n",
       "      <td>0.751486</td>\n",
       "      <td>1.848727</td>\n",
       "      <td>-1.034149</td>\n",
       "      <td>-0.906255</td>\n",
       "      <td>-0.163828</td>\n",
       "    </tr>\n",
       "    <tr>\n",
       "      <th>2</th>\n",
       "      <td>1.734740</td>\n",
       "      <td>1.276226</td>\n",
       "      <td>-0.407043</td>\n",
       "      <td>2.36327</td>\n",
       "      <td>-1.123665</td>\n",
       "      <td>-0.613964</td>\n",
       "      <td>-0.978835</td>\n",
       "      <td>0.393770</td>\n",
       "      <td>0.036996</td>\n",
       "      <td>-0.189804</td>\n",
       "      <td>...</td>\n",
       "      <td>0.291215</td>\n",
       "      <td>-0.355139</td>\n",
       "      <td>-0.42129</td>\n",
       "      <td>-0.405863</td>\n",
       "      <td>0.368647</td>\n",
       "      <td>0.751486</td>\n",
       "      <td>-0.949950</td>\n",
       "      <td>-1.034149</td>\n",
       "      <td>1.477098</td>\n",
       "      <td>-0.163828</td>\n",
       "    </tr>\n",
       "    <tr>\n",
       "      <th>3</th>\n",
       "      <td>0.209971</td>\n",
       "      <td>0.513096</td>\n",
       "      <td>-0.407043</td>\n",
       "      <td>-0.72015</td>\n",
       "      <td>-1.123665</td>\n",
       "      <td>1.610633</td>\n",
       "      <td>1.021623</td>\n",
       "      <td>-1.103796</td>\n",
       "      <td>0.036996</td>\n",
       "      <td>-0.189804</td>\n",
       "      <td>...</td>\n",
       "      <td>0.291215</td>\n",
       "      <td>0.612370</td>\n",
       "      <td>-0.42129</td>\n",
       "      <td>1.683025</td>\n",
       "      <td>-1.726617</td>\n",
       "      <td>-1.737770</td>\n",
       "      <td>-0.949950</td>\n",
       "      <td>0.836267</td>\n",
       "      <td>0.523757</td>\n",
       "      <td>-0.163828</td>\n",
       "    </tr>\n",
       "    <tr>\n",
       "      <th>4</th>\n",
       "      <td>-0.552413</td>\n",
       "      <td>-1.256845</td>\n",
       "      <td>-0.407043</td>\n",
       "      <td>-0.72015</td>\n",
       "      <td>-1.123665</td>\n",
       "      <td>-0.613964</td>\n",
       "      <td>1.021623</td>\n",
       "      <td>0.229144</td>\n",
       "      <td>-1.604429</td>\n",
       "      <td>1.382138</td>\n",
       "      <td>...</td>\n",
       "      <td>-0.304411</td>\n",
       "      <td>-0.140137</td>\n",
       "      <td>-0.42129</td>\n",
       "      <td>-0.823641</td>\n",
       "      <td>0.368647</td>\n",
       "      <td>-0.493142</td>\n",
       "      <td>-0.949950</td>\n",
       "      <td>-1.034149</td>\n",
       "      <td>-0.906255</td>\n",
       "      <td>-0.163828</td>\n",
       "    </tr>\n",
       "  </tbody>\n",
       "</table>\n",
       "<p>5 rows × 21 columns</p>\n",
       "</div>"
      ],
      "text/plain": [
       "         0         1         2        3         4         5         6   \\\n",
       "0 -0.552413 -1.292834 -0.407043 -0.72015 -1.123665 -0.613964 -0.978835   \n",
       "1  0.972355  0.304536 -0.407043  0.82156 -1.123665  1.610633 -0.978835   \n",
       "2  1.734740  1.276226 -0.407043  2.36327 -1.123665 -0.613964 -0.978835   \n",
       "3  0.209971  0.513096 -0.407043 -0.72015 -1.123665  1.610633  1.021623   \n",
       "4 -0.552413 -1.256845 -0.407043 -0.72015 -1.123665 -0.613964  1.021623   \n",
       "\n",
       "         7         8         9   ...        11        12       13        14  \\\n",
       "0  0.660358  0.036996 -0.189804  ...  1.681010 -1.537649 -0.42129 -0.823641   \n",
       "1 -1.103796  0.036996  1.382138  ... -0.205140 -0.211804 -0.42129  2.100803   \n",
       "2  0.393770  0.036996 -0.189804  ...  0.291215 -0.355139 -0.42129 -0.405863   \n",
       "3 -1.103796  0.036996 -0.189804  ...  0.291215  0.612370 -0.42129  1.683025   \n",
       "4  0.229144 -1.604429  1.382138  ... -0.304411 -0.140137 -0.42129 -0.823641   \n",
       "\n",
       "         15        16        17        18        19        20  \n",
       "0 -1.726617 -1.115456 -0.949950 -1.034149  1.477098 -0.163828  \n",
       "1  0.368647  0.751486  1.848727 -1.034149 -0.906255 -0.163828  \n",
       "2  0.368647  0.751486 -0.949950 -1.034149  1.477098 -0.163828  \n",
       "3 -1.726617 -1.737770 -0.949950  0.836267  0.523757 -0.163828  \n",
       "4  0.368647 -0.493142 -0.949950 -1.034149 -0.906255 -0.163828  \n",
       "\n",
       "[5 rows x 21 columns]"
      ]
     },
     "execution_count": 41,
     "metadata": {},
     "output_type": "execute_result"
    }
   ],
   "source": [
    "#We need to scale the data for normalising the input data and for the same we can use Minmaxscaler\n",
    "from sklearn.preprocessing import StandardScaler\n",
    "scaler=StandardScaler()\n",
    "x=pd.DataFrame(scaler.fit_transform(x))\n",
    "x.head()"
   ]
  },
  {
   "cell_type": "markdown",
   "metadata": {},
   "source": [
    "#importing necessary libraries"
   ]
  },
  {
   "cell_type": "code",
   "execution_count": 42,
   "metadata": {},
   "outputs": [],
   "source": [
    "#by seeing above we can see that the dataset is of LinearRegression type\n",
    "from sklearn.model_selection import train_test_split\n",
    "from sklearn.linear_model import LinearRegression\n",
    "from sklearn.metrics import r2_score, mean_squared_error, mean_absolute_error"
   ]
  },
  {
   "cell_type": "code",
   "execution_count": 43,
   "metadata": {},
   "outputs": [],
   "source": [
    "def max_r2_score(reg,x,y):\n",
    "    max_r2score=0\n",
    "    for r_state in range(42,101):\n",
    "        train_x,test_x,train_y,test_y=train_test_split(x,y,random_state=r_state,test_size=0.20)\n",
    "        reg.fit(train_x,train_y)\n",
    "        pred=reg.predict(test_x)\n",
    "        r2score=r2_score(test_y,pred)\n",
    "        print(\"the r2 score achieved at random_state\", r_state, \"is\", r2score)\n",
    "        if r2score>max_r2score:\n",
    "            max_r2score=r2score\n",
    "            final_r_state=r_state\n",
    "    print(\"The maximum r2 score\", max_r2score, \"is achieved at random state\", final_r_state)"
   ]
  },
  {
   "cell_type": "code",
   "execution_count": 44,
   "metadata": {},
   "outputs": [
    {
     "name": "stdout",
     "output_type": "stream",
     "text": [
      "the r2 score achieved at random_state 42 is 0.5562856917787553\n",
      "the r2 score achieved at random_state 43 is 0.5317852024644638\n",
      "the r2 score achieved at random_state 44 is 0.5426774122353475\n",
      "the r2 score achieved at random_state 45 is 0.5498818467041875\n",
      "the r2 score achieved at random_state 46 is 0.5591885077723489\n",
      "the r2 score achieved at random_state 47 is 0.5637107114639679\n",
      "the r2 score achieved at random_state 48 is 0.5582986724788126\n",
      "the r2 score achieved at random_state 49 is 0.5596867385671259\n",
      "the r2 score achieved at random_state 50 is 0.560618029416439\n",
      "the r2 score achieved at random_state 51 is 0.5698223903265446\n",
      "the r2 score achieved at random_state 52 is 0.5414844978686261\n",
      "the r2 score achieved at random_state 53 is 0.5321569222331254\n",
      "the r2 score achieved at random_state 54 is 0.5486027897142898\n",
      "the r2 score achieved at random_state 55 is 0.5201248818547395\n",
      "the r2 score achieved at random_state 56 is 0.524191776128728\n",
      "the r2 score achieved at random_state 57 is 0.5640736264844515\n",
      "the r2 score achieved at random_state 58 is 0.5376648933616092\n",
      "the r2 score achieved at random_state 59 is 0.5365495773354729\n",
      "the r2 score achieved at random_state 60 is 0.5438209911206204\n",
      "the r2 score achieved at random_state 61 is 0.5587076589301452\n",
      "the r2 score achieved at random_state 62 is 0.5528085301950716\n",
      "the r2 score achieved at random_state 63 is 0.538521916730865\n",
      "the r2 score achieved at random_state 64 is 0.5659555344545666\n",
      "the r2 score achieved at random_state 65 is 0.5463185901665406\n",
      "the r2 score achieved at random_state 66 is 0.5578593655686305\n",
      "the r2 score achieved at random_state 67 is 0.5462467494924292\n",
      "the r2 score achieved at random_state 68 is 0.531865345531052\n",
      "the r2 score achieved at random_state 69 is 0.5244505994970203\n",
      "the r2 score achieved at random_state 70 is 0.5339949947417957\n",
      "the r2 score achieved at random_state 71 is 0.5532354271991372\n",
      "the r2 score achieved at random_state 72 is 0.5456994136846491\n",
      "the r2 score achieved at random_state 73 is 0.5389106154710191\n",
      "the r2 score achieved at random_state 74 is 0.5655625364410513\n",
      "the r2 score achieved at random_state 75 is 0.5363770505525495\n",
      "the r2 score achieved at random_state 76 is 0.5240890370546856\n",
      "the r2 score achieved at random_state 77 is 0.5599795657529179\n",
      "the r2 score achieved at random_state 78 is 0.5205707813378274\n",
      "the r2 score achieved at random_state 79 is 0.5202259226827721\n",
      "the r2 score achieved at random_state 80 is 0.5417891885302536\n",
      "the r2 score achieved at random_state 81 is 0.537894088502914\n",
      "the r2 score achieved at random_state 82 is 0.5285053091961114\n",
      "the r2 score achieved at random_state 83 is 0.5422717812044109\n",
      "the r2 score achieved at random_state 84 is 0.542853581115796\n",
      "the r2 score achieved at random_state 85 is 0.5644056621374601\n",
      "the r2 score achieved at random_state 86 is 0.5412526520758875\n",
      "the r2 score achieved at random_state 87 is 0.5720415325733402\n",
      "the r2 score achieved at random_state 88 is 0.5201163580800614\n",
      "the r2 score achieved at random_state 89 is 0.5509429732422602\n",
      "the r2 score achieved at random_state 90 is 0.5411550514855727\n",
      "the r2 score achieved at random_state 91 is 0.5474160537313189\n",
      "the r2 score achieved at random_state 92 is 0.5309819724963931\n",
      "the r2 score achieved at random_state 93 is 0.5376115787793732\n",
      "the r2 score achieved at random_state 94 is 0.5432473829814353\n",
      "the r2 score achieved at random_state 95 is 0.53700472578104\n",
      "the r2 score achieved at random_state 96 is 0.525064365021122\n",
      "the r2 score achieved at random_state 97 is 0.5229656389796737\n",
      "the r2 score achieved at random_state 98 is 0.5463598145062185\n",
      "the r2 score achieved at random_state 99 is 0.5584440012446591\n",
      "the r2 score achieved at random_state 100 is 0.5132664480454152\n",
      "The maximum r2 score 0.5720415325733402 is achieved at random state 87\n"
     ]
    }
   ],
   "source": [
    "lr=LinearRegression()\n",
    "max_r2_score(lr,x,y)"
   ]
  },
  {
   "cell_type": "code",
   "execution_count": 45,
   "metadata": {},
   "outputs": [],
   "source": [
    "#Finalising the train test data\n",
    "train_x,test_x,train_y,test_y=train_test_split(x,y,random_state=50,test_size=0.20)"
   ]
  },
  {
   "cell_type": "code",
   "execution_count": 46,
   "metadata": {},
   "outputs": [
    {
     "name": "stdout",
     "output_type": "stream",
     "text": [
      "The cross val score of the linear regression is 0.5440960766805139\n"
     ]
    }
   ],
   "source": [
    "#Lets check the cross val score for the same\n",
    "from sklearn.model_selection import cross_val_score\n",
    "lrcrossval=cross_val_score(lr,x,y,cv=5, scoring='r2').mean()\n",
    "print(\"The cross val score of the linear regression is\", lrcrossval)"
   ]
  },
  {
   "cell_type": "code",
   "execution_count": 47,
   "metadata": {},
   "outputs": [
    {
     "data": {
      "text/plain": [
       "{'n_neighbors': 10}"
      ]
     },
     "execution_count": 47,
     "metadata": {},
     "output_type": "execute_result"
    }
   ],
   "source": [
    "#We need to check the other regression model and their results.\n",
    "#using GridSearchCV to select best parameter for the models\n",
    "from sklearn.model_selection import GridSearchCV\n",
    "from sklearn.neighbors import KNeighborsRegressor\n",
    "kn=KNeighborsRegressor()\n",
    "parameters={'n_neighbors':(1,10)}\n",
    "gdk=GridSearchCV(kn,parameters)\n",
    "gdk.fit(train_x,train_y)\n",
    "gdk.best_params_"
   ]
  },
  {
   "cell_type": "code",
   "execution_count": 48,
   "metadata": {},
   "outputs": [
    {
     "data": {
      "text/plain": [
       "{'criterion': 'mae'}"
      ]
     },
     "execution_count": 48,
     "metadata": {},
     "output_type": "execute_result"
    }
   ],
   "source": [
    "from sklearn.tree import DecisionTreeRegressor\n",
    "dt=DecisionTreeRegressor()\n",
    "parameters={'criterion':('mse','friedman_mse','mae')}\n",
    "gdd=GridSearchCV(dt,parameters)\n",
    "gdd.fit(train_x,train_y)\n",
    "gdd.best_params_"
   ]
  },
  {
   "cell_type": "code",
   "execution_count": 50,
   "metadata": {},
   "outputs": [
    {
     "data": {
      "text/plain": [
       "{'C': 10, 'kernel': 'linear'}"
      ]
     },
     "execution_count": 50,
     "metadata": {},
     "output_type": "execute_result"
    }
   ],
   "source": [
    "from sklearn.svm import SVR\n",
    "sv=SVR()\n",
    "parameters={'kernel':('linear','rbf'), 'C':(1,10)}\n",
    "gdsr=GridSearchCV(sv,parameters)\n",
    "gdsr.fit(train_x,train_y)\n",
    "gdsr.best_params_"
   ]
  },
  {
   "cell_type": "code",
   "execution_count": 51,
   "metadata": {},
   "outputs": [
    {
     "name": "stdout",
     "output_type": "stream",
     "text": [
      "LinearRegression(copy_X=True, fit_intercept=True, n_jobs=None, normalize=False)\n",
      "The r2 score is 0.560618029416439\n",
      "The cross val score is 0.5440960766805139\n",
      "The mean squared error is 727536.983532079\n",
      "The root mean squared error is 852.9577853165296\n",
      "\n",
      "\n",
      "\n",
      "\n",
      "KNeighborsRegressor(algorithm='auto', leaf_size=30, metric='minkowski',\n",
      "                    metric_params=None, n_jobs=None, n_neighbors=10, p=2,\n",
      "                    weights='uniform')\n",
      "The r2 score is 0.6850236813538628\n",
      "The cross val score is 0.6978182238790016\n",
      "The mean squared error is 521543.7502988506\n",
      "The root mean squared error is 722.1798600756259\n",
      "\n",
      "\n",
      "\n",
      "\n",
      "DecisionTreeRegressor(ccp_alpha=0.0, criterion='mae', max_depth=None,\n",
      "                      max_features=None, max_leaf_nodes=None,\n",
      "                      min_impurity_decrease=0.0, min_impurity_split=None,\n",
      "                      min_samples_leaf=1, min_samples_split=2,\n",
      "                      min_weight_fraction_leaf=0.0, presort='deprecated',\n",
      "                      random_state=None, splitter='best')\n",
      "The r2 score is 0.7793480149634124\n",
      "The cross val score is 0.7784682134880383\n",
      "The mean squared error is 365359.73333333334\n",
      "The root mean squared error is 604.4499427854496\n",
      "\n",
      "\n",
      "\n",
      "\n",
      "SVR(C=10, cache_size=200, coef0=0.0, degree=3, epsilon=0.1, gamma='scale',\n",
      "    kernel='linear', max_iter=-1, shrinking=True, tol=0.001, verbose=False)\n",
      "The r2 score is 0.5498650897114966\n",
      "The cross val score is 0.5327759372619354\n",
      "The mean squared error is 745341.9046276029\n",
      "The root mean squared error is 863.3318623956856\n",
      "\n",
      "\n",
      "\n",
      "\n"
     ]
    }
   ],
   "source": [
    "score=[]\n",
    "cv=[]\n",
    "Mean=[]\n",
    "Root=[]\n",
    "\n",
    "from sklearn.model_selection import cross_val_score\n",
    "\n",
    "models=[LinearRegression(),KNeighborsRegressor(n_neighbors=10),DecisionTreeRegressor(criterion='mae'),SVR(C=10,kernel='linear')]\n",
    "\n",
    "for i in models:\n",
    "    i.fit(train_x,train_y)\n",
    "    pred=i.predict(test_x)\n",
    "    print(i)\n",
    "    r2score=r2_score(test_y,pred)\n",
    "    score.append(r2score)\n",
    "    print(\"The r2 score is\", r2score)\n",
    "    cscore=cross_val_score(i,x,y,scoring='r2').mean()\n",
    "    cv.append(cscore)\n",
    "    print(\"The cross val score is\", cscore)\n",
    "    meanerror=mean_squared_error(test_y,pred)\n",
    "    Mean.append(meanerror)\n",
    "    print(\"The mean squared error is\", meanerror)\n",
    "    rooterror=np.sqrt(meanerror)\n",
    "    print(\"The root mean squared error is\", rooterror)\n",
    "    Root.append(rooterror)\n",
    "    print(\"\\n\")\n",
    "    print(\"\\n\")\n",
    "\n"
   ]
  },
  {
   "cell_type": "code",
   "execution_count": 52,
   "metadata": {},
   "outputs": [
    {
     "data": {
      "text/html": [
       "<div>\n",
       "<style scoped>\n",
       "    .dataframe tbody tr th:only-of-type {\n",
       "        vertical-align: middle;\n",
       "    }\n",
       "\n",
       "    .dataframe tbody tr th {\n",
       "        vertical-align: top;\n",
       "    }\n",
       "\n",
       "    .dataframe thead th {\n",
       "        text-align: right;\n",
       "    }\n",
       "</style>\n",
       "<table border=\"1\" class=\"dataframe\">\n",
       "  <thead>\n",
       "    <tr style=\"text-align: right;\">\n",
       "      <th></th>\n",
       "      <th>Model</th>\n",
       "      <th>R2score</th>\n",
       "      <th>Cross_val_score</th>\n",
       "      <th>Mean Squared Error</th>\n",
       "      <th>Root Mean Squared Error</th>\n",
       "    </tr>\n",
       "  </thead>\n",
       "  <tbody>\n",
       "    <tr>\n",
       "      <th>0</th>\n",
       "      <td>LinearRegression</td>\n",
       "      <td>0.560618</td>\n",
       "      <td>0.544096</td>\n",
       "      <td>727536.983532</td>\n",
       "      <td>852.957785</td>\n",
       "    </tr>\n",
       "    <tr>\n",
       "      <th>1</th>\n",
       "      <td>KNeighborsRegressor</td>\n",
       "      <td>0.685024</td>\n",
       "      <td>0.697818</td>\n",
       "      <td>521543.750299</td>\n",
       "      <td>722.179860</td>\n",
       "    </tr>\n",
       "    <tr>\n",
       "      <th>2</th>\n",
       "      <td>DecisionTreeRegressor</td>\n",
       "      <td>0.779348</td>\n",
       "      <td>0.778468</td>\n",
       "      <td>365359.733333</td>\n",
       "      <td>604.449943</td>\n",
       "    </tr>\n",
       "    <tr>\n",
       "      <th>3</th>\n",
       "      <td>SVR</td>\n",
       "      <td>0.549865</td>\n",
       "      <td>0.532776</td>\n",
       "      <td>745341.904628</td>\n",
       "      <td>863.331862</td>\n",
       "    </tr>\n",
       "  </tbody>\n",
       "</table>\n",
       "</div>"
      ],
      "text/plain": [
       "                   Model   R2score  Cross_val_score  Mean Squared Error  \\\n",
       "0       LinearRegression  0.560618         0.544096       727536.983532   \n",
       "1    KNeighborsRegressor  0.685024         0.697818       521543.750299   \n",
       "2  DecisionTreeRegressor  0.779348         0.778468       365359.733333   \n",
       "3                    SVR  0.549865         0.532776       745341.904628   \n",
       "\n",
       "   Root Mean Squared Error  \n",
       "0               852.957785  \n",
       "1               722.179860  \n",
       "2               604.449943  \n",
       "3               863.331862  "
      ]
     },
     "execution_count": 52,
     "metadata": {},
     "output_type": "execute_result"
    }
   ],
   "source": [
    "result=pd.DataFrame({'Model':['LinearRegression','KNeighborsRegressor', 'DecisionTreeRegressor', 'SVR'],'R2score':score,'Cross_val_score':cv,'Mean Squared Error':Mean, 'Root Mean Squared Error': Root})\n",
    "result"
   ]
  },
  {
   "cell_type": "markdown",
   "metadata": {},
   "source": [
    "### Let us try to boost our scores by trying boosters and lasso and ridge"
   ]
  },
  {
   "cell_type": "markdown",
   "metadata": {},
   "source": [
    "LASSO"
   ]
  },
  {
   "cell_type": "code",
   "execution_count": 53,
   "metadata": {},
   "outputs": [
    {
     "data": {
      "text/plain": [
       "{'alpha': 1}"
      ]
     },
     "execution_count": 53,
     "metadata": {},
     "output_type": "execute_result"
    }
   ],
   "source": [
    "#Let us check the best parameters for lasso\n",
    "from sklearn.linear_model import Lasso\n",
    "ls=Lasso()\n",
    "parameters={'alpha':(0.001,0.01,0.1,1)}\n",
    "gd=GridSearchCV(ls,parameters)\n",
    "gd.fit(train_x,train_y)\n",
    "gd.best_params_"
   ]
  },
  {
   "cell_type": "code",
   "execution_count": 54,
   "metadata": {},
   "outputs": [
    {
     "name": "stdout",
     "output_type": "stream",
     "text": [
      "the r2 score achieved at random_state 42 is 0.5563475637836418\n",
      "the r2 score achieved at random_state 43 is 0.531934845913747\n",
      "the r2 score achieved at random_state 44 is 0.5427316140406446\n",
      "the r2 score achieved at random_state 45 is 0.5499349891636611\n",
      "the r2 score achieved at random_state 46 is 0.5591533786519479\n",
      "the r2 score achieved at random_state 47 is 0.5639370696558685\n",
      "the r2 score achieved at random_state 48 is 0.5583807131750284\n",
      "the r2 score achieved at random_state 49 is 0.5597465881692251\n",
      "the r2 score achieved at random_state 50 is 0.5607977049245023\n",
      "the r2 score achieved at random_state 51 is 0.569791769448989\n",
      "the r2 score achieved at random_state 52 is 0.5415831368623273\n",
      "the r2 score achieved at random_state 53 is 0.5324048399062575\n",
      "the r2 score achieved at random_state 54 is 0.5486800805021924\n",
      "the r2 score achieved at random_state 55 is 0.5201385907493726\n",
      "the r2 score achieved at random_state 56 is 0.5243191688178714\n",
      "the r2 score achieved at random_state 57 is 0.5640201248924275\n",
      "the r2 score achieved at random_state 58 is 0.5378240437476932\n",
      "the r2 score achieved at random_state 59 is 0.5366652992408203\n",
      "the r2 score achieved at random_state 60 is 0.5439190693509153\n",
      "the r2 score achieved at random_state 61 is 0.5587229202571251\n",
      "the r2 score achieved at random_state 62 is 0.5529948389731043\n",
      "the r2 score achieved at random_state 63 is 0.5386014778520447\n",
      "the r2 score achieved at random_state 64 is 0.5661428384262458\n",
      "the r2 score achieved at random_state 65 is 0.5465307340555521\n",
      "the r2 score achieved at random_state 66 is 0.5579328229213519\n",
      "the r2 score achieved at random_state 67 is 0.5463706757208697\n",
      "the r2 score achieved at random_state 68 is 0.5320533513307923\n",
      "the r2 score achieved at random_state 69 is 0.52455297448331\n",
      "the r2 score achieved at random_state 70 is 0.5342147402367226\n",
      "the r2 score achieved at random_state 71 is 0.5533195558321647\n",
      "the r2 score achieved at random_state 72 is 0.5457533735695483\n",
      "the r2 score achieved at random_state 73 is 0.5391548406776419\n",
      "the r2 score achieved at random_state 74 is 0.5655753688041816\n",
      "the r2 score achieved at random_state 75 is 0.5365322073265317\n",
      "the r2 score achieved at random_state 76 is 0.5240166917980837\n",
      "the r2 score achieved at random_state 77 is 0.5599283744569117\n",
      "the r2 score achieved at random_state 78 is 0.5207635902894507\n",
      "the r2 score achieved at random_state 79 is 0.520455346422201\n",
      "the r2 score achieved at random_state 80 is 0.5418144023471267\n",
      "the r2 score achieved at random_state 81 is 0.538145825149072\n",
      "the r2 score achieved at random_state 82 is 0.5287771663046302\n",
      "the r2 score achieved at random_state 83 is 0.5423329155146762\n",
      "the r2 score achieved at random_state 84 is 0.5428488844904912\n",
      "the r2 score achieved at random_state 85 is 0.5642850419049468\n",
      "the r2 score achieved at random_state 86 is 0.5414731396135092\n",
      "the r2 score achieved at random_state 87 is 0.5720934899761994\n",
      "the r2 score achieved at random_state 88 is 0.520047520435272\n",
      "the r2 score achieved at random_state 89 is 0.5509413530453094\n",
      "the r2 score achieved at random_state 90 is 0.5410258764464818\n",
      "the r2 score achieved at random_state 91 is 0.5476980053276534\n",
      "the r2 score achieved at random_state 92 is 0.5310748213389194\n",
      "the r2 score achieved at random_state 93 is 0.5376750263939809\n",
      "the r2 score achieved at random_state 94 is 0.5433033746202358\n",
      "the r2 score achieved at random_state 95 is 0.5369714064565017\n",
      "the r2 score achieved at random_state 96 is 0.5252640244264986\n",
      "the r2 score achieved at random_state 97 is 0.5231504759428147\n",
      "the r2 score achieved at random_state 98 is 0.5463767074938932\n",
      "the r2 score achieved at random_state 99 is 0.5588173152990601\n",
      "the r2 score achieved at random_state 100 is 0.5134606159132477\n",
      "The maximum r2 score 0.5720934899761994 is achieved at random state 87\n"
     ]
    }
   ],
   "source": [
    "#Let us check the best r2 score for Lasso\n",
    "ls=Lasso(alpha=1)\n",
    "max_r2_score(ls,x,y)"
   ]
  },
  {
   "cell_type": "code",
   "execution_count": 55,
   "metadata": {},
   "outputs": [
    {
     "name": "stdout",
     "output_type": "stream",
     "text": [
      "The cross val score is 0.5441694585071677\n"
     ]
    }
   ],
   "source": [
    "#Let us check the cross val score for lasso\n",
    "cross=cross_val_score(ls,x,y,cv=5,scoring='r2').mean()\n",
    "print(\"The cross val score is\", cross)"
   ]
  },
  {
   "cell_type": "markdown",
   "metadata": {},
   "source": [
    "Ridge"
   ]
  },
  {
   "cell_type": "code",
   "execution_count": 56,
   "metadata": {},
   "outputs": [
    {
     "data": {
      "text/plain": [
       "{'alpha': 1}"
      ]
     },
     "execution_count": 56,
     "metadata": {},
     "output_type": "execute_result"
    }
   ],
   "source": [
    "#Let us check the best parameters for Ridge\n",
    "from sklearn.linear_model import Ridge\n",
    "rd=Ridge()\n",
    "parameters={'alpha':(0.001,0.01,0.1,1)}\n",
    "gd=GridSearchCV(rd,parameters)\n",
    "gd.fit(train_x,train_y)\n",
    "gd.best_params_"
   ]
  },
  {
   "cell_type": "code",
   "execution_count": 57,
   "metadata": {},
   "outputs": [
    {
     "name": "stdout",
     "output_type": "stream",
     "text": [
      "the r2 score achieved at random_state 42 is 0.5562827974409015\n",
      "the r2 score achieved at random_state 43 is 0.5317852931427431\n",
      "the r2 score achieved at random_state 44 is 0.5426775697089506\n",
      "the r2 score achieved at random_state 45 is 0.5498851416347352\n",
      "the r2 score achieved at random_state 46 is 0.5591870872031326\n",
      "the r2 score achieved at random_state 47 is 0.5637084116809172\n",
      "the r2 score achieved at random_state 48 is 0.5582996007300044\n",
      "the r2 score achieved at random_state 49 is 0.5596807286886805\n",
      "the r2 score achieved at random_state 50 is 0.5606157948326191\n",
      "the r2 score achieved at random_state 51 is 0.5698193105556919\n",
      "the r2 score achieved at random_state 52 is 0.5414833627145446\n",
      "the r2 score achieved at random_state 53 is 0.5321629947872432\n",
      "the r2 score achieved at random_state 54 is 0.5486073583792264\n",
      "the r2 score achieved at random_state 55 is 0.5201274443836521\n",
      "the r2 score achieved at random_state 56 is 0.5241916990277222\n",
      "the r2 score achieved at random_state 57 is 0.5640696335986377\n",
      "the r2 score achieved at random_state 58 is 0.5376708270399326\n",
      "the r2 score achieved at random_state 59 is 0.536545738828819\n",
      "the r2 score achieved at random_state 60 is 0.5438228973642164\n",
      "the r2 score achieved at random_state 61 is 0.5587068299281601\n",
      "the r2 score achieved at random_state 62 is 0.552807966495312\n",
      "the r2 score achieved at random_state 63 is 0.5385261821361186\n",
      "the r2 score achieved at random_state 64 is 0.5659610753133193\n",
      "the r2 score achieved at random_state 65 is 0.5463249209843275\n",
      "the r2 score achieved at random_state 66 is 0.5578562914070797\n",
      "the r2 score achieved at random_state 67 is 0.5462450979571827\n",
      "the r2 score achieved at random_state 68 is 0.5318685942710446\n",
      "the r2 score achieved at random_state 69 is 0.5244573544727121\n",
      "the r2 score achieved at random_state 70 is 0.5339984931276807\n",
      "the r2 score achieved at random_state 71 is 0.5532414583950303\n",
      "the r2 score achieved at random_state 72 is 0.5456968077120203\n",
      "the r2 score achieved at random_state 73 is 0.5389134400093187\n",
      "the r2 score achieved at random_state 74 is 0.5655557344712973\n",
      "the r2 score achieved at random_state 75 is 0.5363793558685166\n",
      "the r2 score achieved at random_state 76 is 0.5240942325451486\n",
      "the r2 score achieved at random_state 77 is 0.559982962380941\n",
      "the r2 score achieved at random_state 78 is 0.5205720986208324\n",
      "the r2 score achieved at random_state 79 is 0.5202281380197448\n",
      "the r2 score achieved at random_state 80 is 0.5417892023058521\n",
      "the r2 score achieved at random_state 81 is 0.5378989244808152\n",
      "the r2 score achieved at random_state 82 is 0.5285086362787053\n",
      "the r2 score achieved at random_state 83 is 0.5422785175162868\n",
      "the r2 score achieved at random_state 84 is 0.5428576475409614\n",
      "the r2 score achieved at random_state 85 is 0.5644030662122888\n",
      "the r2 score achieved at random_state 86 is 0.5412520057732966\n",
      "the r2 score achieved at random_state 87 is 0.5720369919670867\n",
      "the r2 score achieved at random_state 88 is 0.5201265178257384\n",
      "the r2 score achieved at random_state 89 is 0.5509442760701988\n",
      "the r2 score achieved at random_state 90 is 0.541150608055075\n",
      "the r2 score achieved at random_state 91 is 0.5474183047147338\n",
      "the r2 score achieved at random_state 92 is 0.5309797771225695\n",
      "the r2 score achieved at random_state 93 is 0.537612578534469\n",
      "the r2 score achieved at random_state 94 is 0.5432520645088592\n",
      "the r2 score achieved at random_state 95 is 0.537009776168075\n",
      "the r2 score achieved at random_state 96 is 0.5250711283308145\n",
      "the r2 score achieved at random_state 97 is 0.5229705262097024\n",
      "the r2 score achieved at random_state 98 is 0.5463626119329887\n",
      "the r2 score achieved at random_state 99 is 0.5584475182093158\n",
      "the r2 score achieved at random_state 100 is 0.5132728642284741\n",
      "The maximum r2 score 0.5720369919670867 is achieved at random state 87\n"
     ]
    }
   ],
   "source": [
    "#Let us check the best r2 score for Ridge\n",
    "rd=Ridge(alpha=1)\n",
    "max_r2_score(rd,x,y)"
   ]
  },
  {
   "cell_type": "code",
   "execution_count": 58,
   "metadata": {},
   "outputs": [
    {
     "name": "stdout",
     "output_type": "stream",
     "text": [
      "The cross val score is 0.5440967537362326\n"
     ]
    }
   ],
   "source": [
    "#Let us check the cross val score for Ridge\n",
    "cross=cross_val_score(rd,x,y,cv=5,scoring='r2').mean()\n",
    "print(\"The cross val score is\", cross)"
   ]
  },
  {
   "cell_type": "markdown",
   "metadata": {},
   "source": [
    "Ensemble Techniques"
   ]
  },
  {
   "cell_type": "code",
   "execution_count": 59,
   "metadata": {},
   "outputs": [],
   "source": [
    "#Let us try to use ensemble techniques\n",
    "from sklearn.ensemble import RandomForestRegressor\n",
    "from sklearn.ensemble import GradientBoostingRegressor\n",
    "from sklearn.ensemble import AdaBoostRegressor"
   ]
  },
  {
   "cell_type": "code",
   "execution_count": 60,
   "metadata": {},
   "outputs": [
    {
     "data": {
      "text/plain": [
       "{'n_estimators': 500}"
      ]
     },
     "execution_count": 60,
     "metadata": {},
     "output_type": "execute_result"
    }
   ],
   "source": [
    "#Selecting the best parameters using GridSearchCV\n",
    "rf=RandomForestRegressor()\n",
    "parameters={'n_estimators':(50,100,200,500)}\n",
    "gdrf=GridSearchCV(rf,parameters)\n",
    "gdrf.fit(train_x,train_y)\n",
    "gdrf.best_params_"
   ]
  },
  {
   "cell_type": "code",
   "execution_count": 61,
   "metadata": {},
   "outputs": [
    {
     "name": "stdout",
     "output_type": "stream",
     "text": [
      "the r2 score achieved at random_state 42 is 0.8955452185314443\n",
      "the r2 score achieved at random_state 43 is 0.8847353380755347\n",
      "the r2 score achieved at random_state 44 is 0.8944331988506783\n",
      "the r2 score achieved at random_state 45 is 0.8863631571680878\n",
      "the r2 score achieved at random_state 46 is 0.8927515306675056\n",
      "the r2 score achieved at random_state 47 is 0.9010811336983869\n",
      "the r2 score achieved at random_state 48 is 0.8941409071868327\n",
      "the r2 score achieved at random_state 49 is 0.8925797194311684\n",
      "the r2 score achieved at random_state 50 is 0.8894316383836322\n",
      "the r2 score achieved at random_state 51 is 0.8876311772264298\n",
      "the r2 score achieved at random_state 52 is 0.885249371518464\n",
      "the r2 score achieved at random_state 53 is 0.8901928262661531\n",
      "the r2 score achieved at random_state 54 is 0.8853794183207359\n",
      "the r2 score achieved at random_state 55 is 0.8829021831161665\n",
      "the r2 score achieved at random_state 56 is 0.88730008864174\n",
      "the r2 score achieved at random_state 57 is 0.8907554116825411\n",
      "the r2 score achieved at random_state 58 is 0.8933984495903851\n",
      "the r2 score achieved at random_state 59 is 0.8946035736377498\n",
      "the r2 score achieved at random_state 60 is 0.896815264125444\n",
      "the r2 score achieved at random_state 61 is 0.8950601317901076\n",
      "the r2 score achieved at random_state 62 is 0.8919219846296141\n",
      "the r2 score achieved at random_state 63 is 0.8903391958807331\n",
      "the r2 score achieved at random_state 64 is 0.8973547773077819\n",
      "the r2 score achieved at random_state 65 is 0.8892447940001476\n",
      "the r2 score achieved at random_state 66 is 0.8954137867639689\n",
      "the r2 score achieved at random_state 67 is 0.8943274156942751\n",
      "the r2 score achieved at random_state 68 is 0.8960751217814347\n",
      "the r2 score achieved at random_state 69 is 0.881931035933133\n",
      "the r2 score achieved at random_state 70 is 0.8971619144259259\n",
      "the r2 score achieved at random_state 71 is 0.8931776635610928\n",
      "the r2 score achieved at random_state 72 is 0.8940069352354391\n",
      "the r2 score achieved at random_state 73 is 0.8895188773225698\n",
      "the r2 score achieved at random_state 74 is 0.8876135048435887\n",
      "the r2 score achieved at random_state 75 is 0.891447809128538\n",
      "the r2 score achieved at random_state 76 is 0.8867951562422779\n",
      "the r2 score achieved at random_state 77 is 0.8972126288013726\n",
      "the r2 score achieved at random_state 78 is 0.8975998228861468\n",
      "the r2 score achieved at random_state 79 is 0.8853627117125098\n",
      "the r2 score achieved at random_state 80 is 0.8908676138737286\n",
      "the r2 score achieved at random_state 81 is 0.8955070141880489\n",
      "the r2 score achieved at random_state 82 is 0.8911570647219563\n",
      "the r2 score achieved at random_state 83 is 0.8928037333176185\n",
      "the r2 score achieved at random_state 84 is 0.8916118656892196\n",
      "the r2 score achieved at random_state 85 is 0.8910881430372415\n",
      "the r2 score achieved at random_state 86 is 0.8887851980764581\n",
      "the r2 score achieved at random_state 87 is 0.8995900882993991\n",
      "the r2 score achieved at random_state 88 is 0.8834498832089233\n",
      "the r2 score achieved at random_state 89 is 0.8941152518545429\n",
      "the r2 score achieved at random_state 90 is 0.8882192729904604\n",
      "the r2 score achieved at random_state 91 is 0.8936423372110149\n",
      "the r2 score achieved at random_state 92 is 0.8943094599482198\n",
      "the r2 score achieved at random_state 93 is 0.8934501337149551\n",
      "the r2 score achieved at random_state 94 is 0.8910989601732714\n",
      "the r2 score achieved at random_state 95 is 0.8758895196778188\n",
      "the r2 score achieved at random_state 96 is 0.8964103823228903\n",
      "the r2 score achieved at random_state 97 is 0.8863031663640748\n",
      "the r2 score achieved at random_state 98 is 0.8903359390040627\n",
      "the r2 score achieved at random_state 99 is 0.891686460999792\n",
      "the r2 score achieved at random_state 100 is 0.8861575401842704\n",
      "The maximum r2 score 0.9010811336983869 is achieved at random state 47\n"
     ]
    }
   ],
   "source": [
    "#Lets check the r2 score \n",
    "rf=RandomForestRegressor(n_estimators=500)\n",
    "max_r2_score(rf,x,y)"
   ]
  },
  {
   "cell_type": "code",
   "execution_count": 62,
   "metadata": {},
   "outputs": [
    {
     "name": "stdout",
     "output_type": "stream",
     "text": [
      "The cross validation score is 0.8916704951100678\n"
     ]
    }
   ],
   "source": [
    "#Lets check the cross val score\n",
    "cvscore=cross_val_score(rf,x,y,cv=5,scoring='r2').mean()\n",
    "print(\"The cross validation score is\", cvscore)"
   ]
  },
  {
   "cell_type": "markdown",
   "metadata": {},
   "source": [
    "GradientBoostingRegressor"
   ]
  },
  {
   "cell_type": "code",
   "execution_count": 63,
   "metadata": {},
   "outputs": [
    {
     "data": {
      "text/plain": [
       "{'learning_rate': 0.1, 'n_estimators': 500}"
      ]
     },
     "execution_count": 63,
     "metadata": {},
     "output_type": "execute_result"
    }
   ],
   "source": [
    "#selecting the best parameters \n",
    "gb=GradientBoostingRegressor()\n",
    "parameters={'learning_rate':(0.001,0.01,0.1,1), 'n_estimators':(10,50,100,500)}\n",
    "gdg=GridSearchCV(gb,parameters)                                                                                                                                        \n",
    "gdg.fit(train_x,train_y)                                                                                                                                         \n",
    "gdg.best_params_"
   ]
  },
  {
   "cell_type": "code",
   "execution_count": 64,
   "metadata": {},
   "outputs": [
    {
     "name": "stdout",
     "output_type": "stream",
     "text": [
      "the r2 score achieved at random_state 42 is 0.8898550215503652\n",
      "the r2 score achieved at random_state 43 is 0.881135549634896\n",
      "the r2 score achieved at random_state 44 is 0.887955274205811\n",
      "the r2 score achieved at random_state 45 is 0.8829135134928837\n",
      "the r2 score achieved at random_state 46 is 0.8855493663738031\n",
      "the r2 score achieved at random_state 47 is 0.8944913176723838\n",
      "the r2 score achieved at random_state 48 is 0.8884954559789203\n",
      "the r2 score achieved at random_state 49 is 0.8845445795333312\n",
      "the r2 score achieved at random_state 50 is 0.8810478577609278\n",
      "the r2 score achieved at random_state 51 is 0.8838565341147829\n",
      "the r2 score achieved at random_state 52 is 0.8766166916773543\n",
      "the r2 score achieved at random_state 53 is 0.8836008306331051\n",
      "the r2 score achieved at random_state 54 is 0.8818235199689712\n",
      "the r2 score achieved at random_state 55 is 0.8765951131437515\n",
      "the r2 score achieved at random_state 56 is 0.8814635242683302\n",
      "the r2 score achieved at random_state 57 is 0.8848842355321507\n",
      "the r2 score achieved at random_state 58 is 0.8857699995652684\n",
      "the r2 score achieved at random_state 59 is 0.889106014524902\n",
      "the r2 score achieved at random_state 60 is 0.8862741264670081\n",
      "the r2 score achieved at random_state 61 is 0.8887821750627616\n",
      "the r2 score achieved at random_state 62 is 0.8844521890640431\n",
      "the r2 score achieved at random_state 63 is 0.8844015465230499\n",
      "the r2 score achieved at random_state 64 is 0.889447313978728\n",
      "the r2 score achieved at random_state 65 is 0.8833713169595223\n",
      "the r2 score achieved at random_state 66 is 0.8916999060454025\n",
      "the r2 score achieved at random_state 67 is 0.8895373978829147\n",
      "the r2 score achieved at random_state 68 is 0.8910471747856288\n",
      "the r2 score achieved at random_state 69 is 0.8788909830234576\n",
      "the r2 score achieved at random_state 70 is 0.8893600637634481\n",
      "the r2 score achieved at random_state 71 is 0.8847682055732917\n",
      "the r2 score achieved at random_state 72 is 0.8880325934924755\n",
      "the r2 score achieved at random_state 73 is 0.8851334709501512\n",
      "the r2 score achieved at random_state 74 is 0.8852598966777758\n",
      "the r2 score achieved at random_state 75 is 0.8849331151273285\n",
      "the r2 score achieved at random_state 76 is 0.8819013849107252\n",
      "the r2 score achieved at random_state 77 is 0.8944599987220242\n",
      "the r2 score achieved at random_state 78 is 0.8907321189157978\n",
      "the r2 score achieved at random_state 79 is 0.8783529504361012\n",
      "the r2 score achieved at random_state 80 is 0.8871781110240482\n",
      "the r2 score achieved at random_state 81 is 0.8909566245105194\n",
      "the r2 score achieved at random_state 82 is 0.884898963010368\n",
      "the r2 score achieved at random_state 83 is 0.8868503663597497\n",
      "the r2 score achieved at random_state 84 is 0.8866176442156064\n",
      "the r2 score achieved at random_state 85 is 0.8872303541779564\n",
      "the r2 score achieved at random_state 86 is 0.8852503148193503\n",
      "the r2 score achieved at random_state 87 is 0.8957089075960316\n",
      "the r2 score achieved at random_state 88 is 0.8769826214508055\n",
      "the r2 score achieved at random_state 89 is 0.8855739213078787\n",
      "the r2 score achieved at random_state 90 is 0.884534858586709\n",
      "the r2 score achieved at random_state 91 is 0.8857994842517019\n",
      "the r2 score achieved at random_state 92 is 0.8837832206861875\n",
      "the r2 score achieved at random_state 93 is 0.8884213752965092\n",
      "the r2 score achieved at random_state 94 is 0.8866798761744473\n",
      "the r2 score achieved at random_state 95 is 0.8736025695880854\n",
      "the r2 score achieved at random_state 96 is 0.890182330162685\n",
      "the r2 score achieved at random_state 97 is 0.878727844293227\n",
      "the r2 score achieved at random_state 98 is 0.8838229850867808\n",
      "the r2 score achieved at random_state 99 is 0.8885861241201585\n",
      "the r2 score achieved at random_state 100 is 0.8815611540670009\n",
      "The maximum r2 score 0.8957089075960316 is achieved at random state 87\n"
     ]
    }
   ],
   "source": [
    "#Lets check the r2 score \n",
    "gb=GradientBoostingRegressor(n_estimators=500,learning_rate=0.1)\n",
    "max_r2_score(gb,x,y)"
   ]
  },
  {
   "cell_type": "code",
   "execution_count": 65,
   "metadata": {},
   "outputs": [
    {
     "name": "stdout",
     "output_type": "stream",
     "text": [
      "The cross validation score is 0.8856945879611644\n"
     ]
    }
   ],
   "source": [
    "#Lets check the cross val score\n",
    "cvscore=cross_val_score(gb,x,y,cv=5,scoring='r2').mean()\n",
    "print(\"The cross validation score is\", cvscore)"
   ]
  },
  {
   "cell_type": "markdown",
   "metadata": {},
   "source": [
    "AdaBoostRegressor"
   ]
  },
  {
   "cell_type": "code",
   "execution_count": 66,
   "metadata": {},
   "outputs": [
    {
     "data": {
      "text/plain": [
       "{'learning_rate': 0.1, 'n_estimators': 100}"
      ]
     },
     "execution_count": 66,
     "metadata": {},
     "output_type": "execute_result"
    }
   ],
   "source": [
    "#selecting the best parameters\n",
    "ad=AdaBoostRegressor()\n",
    "parameters={'n_estimators':(10,50,100,200,500),'learning_rate':(0.001,0.01,0.1,1)}\n",
    "gad=GridSearchCV(ad,parameters)\n",
    "gad.fit(train_x,train_y)\n",
    "gad.best_params_"
   ]
  },
  {
   "cell_type": "code",
   "execution_count": 67,
   "metadata": {},
   "outputs": [
    {
     "name": "stdout",
     "output_type": "stream",
     "text": [
      "the r2 score achieved at random_state 42 is 0.8408853017525281\n",
      "the r2 score achieved at random_state 43 is 0.8154674145358546\n",
      "the r2 score achieved at random_state 44 is 0.8273068067590936\n",
      "the r2 score achieved at random_state 45 is 0.825174275845066\n",
      "the r2 score achieved at random_state 46 is 0.8335358952475561\n",
      "the r2 score achieved at random_state 47 is 0.841470186537503\n",
      "the r2 score achieved at random_state 48 is 0.8258803285050991\n",
      "the r2 score achieved at random_state 49 is 0.8342415176765003\n",
      "the r2 score achieved at random_state 50 is 0.8219195757539689\n",
      "the r2 score achieved at random_state 51 is 0.8313967977352925\n",
      "the r2 score achieved at random_state 52 is 0.8237182206037611\n",
      "the r2 score achieved at random_state 53 is 0.8172285493557306\n",
      "the r2 score achieved at random_state 54 is 0.8251089381490607\n",
      "the r2 score achieved at random_state 55 is 0.8166242511763316\n",
      "the r2 score achieved at random_state 56 is 0.8213498558494662\n",
      "the r2 score achieved at random_state 57 is 0.8315410290548388\n",
      "the r2 score achieved at random_state 58 is 0.8230986328195883\n",
      "the r2 score achieved at random_state 59 is 0.8375115199941994\n",
      "the r2 score achieved at random_state 60 is 0.8290256792843635\n",
      "the r2 score achieved at random_state 61 is 0.8372594493369188\n",
      "the r2 score achieved at random_state 62 is 0.8299315509397946\n",
      "the r2 score achieved at random_state 63 is 0.8319365518381006\n",
      "the r2 score achieved at random_state 64 is 0.8298717891693895\n",
      "the r2 score achieved at random_state 65 is 0.8213473753379048\n",
      "the r2 score achieved at random_state 66 is 0.8294241964622415\n",
      "the r2 score achieved at random_state 67 is 0.8371233056322873\n",
      "the r2 score achieved at random_state 68 is 0.837533229376437\n",
      "the r2 score achieved at random_state 69 is 0.8115581558740378\n",
      "the r2 score achieved at random_state 70 is 0.8311493506352432\n",
      "the r2 score achieved at random_state 71 is 0.8317970694764791\n",
      "the r2 score achieved at random_state 72 is 0.8310019440904849\n",
      "the r2 score achieved at random_state 73 is 0.8295087853280217\n",
      "the r2 score achieved at random_state 74 is 0.8337432679371966\n",
      "the r2 score achieved at random_state 75 is 0.8298884377544009\n",
      "the r2 score achieved at random_state 76 is 0.8281730452533786\n",
      "the r2 score achieved at random_state 77 is 0.831684926107966\n",
      "the r2 score achieved at random_state 78 is 0.8322740175574999\n",
      "the r2 score achieved at random_state 79 is 0.8260256399012209\n",
      "the r2 score achieved at random_state 80 is 0.8383194086475967\n",
      "the r2 score achieved at random_state 81 is 0.8401304332474236\n",
      "the r2 score achieved at random_state 82 is 0.8322232404261136\n",
      "the r2 score achieved at random_state 83 is 0.8260069718915449\n",
      "the r2 score achieved at random_state 84 is 0.8228395926664354\n",
      "the r2 score achieved at random_state 85 is 0.8284714009120704\n",
      "the r2 score achieved at random_state 86 is 0.831386978435791\n",
      "the r2 score achieved at random_state 87 is 0.8397238720268891\n",
      "the r2 score achieved at random_state 88 is 0.8192694705437916\n",
      "the r2 score achieved at random_state 89 is 0.8249696842913694\n",
      "the r2 score achieved at random_state 90 is 0.8267552632651765\n",
      "the r2 score achieved at random_state 91 is 0.8321973026245507\n",
      "the r2 score achieved at random_state 92 is 0.8378431933516459\n",
      "the r2 score achieved at random_state 93 is 0.8283586284125889\n",
      "the r2 score achieved at random_state 94 is 0.82747771746261\n",
      "the r2 score achieved at random_state 95 is 0.8217259721110145\n",
      "the r2 score achieved at random_state 96 is 0.8375116366444318\n",
      "the r2 score achieved at random_state 97 is 0.8246011618290074\n",
      "the r2 score achieved at random_state 98 is 0.8302237609176271\n",
      "the r2 score achieved at random_state 99 is 0.829860360363512\n",
      "the r2 score achieved at random_state 100 is 0.8195485944304998\n",
      "The maximum r2 score 0.841470186537503 is achieved at random state 47\n"
     ]
    }
   ],
   "source": [
    "#Lets check the r2 score \n",
    "ad=AdaBoostRegressor(n_estimators=100,learning_rate=0.1)\n",
    "max_r2_score(ad,x,y)"
   ]
  },
  {
   "cell_type": "code",
   "execution_count": 68,
   "metadata": {},
   "outputs": [
    {
     "name": "stdout",
     "output_type": "stream",
     "text": [
      "The cross validation score is 0.8294496404451707\n"
     ]
    }
   ],
   "source": [
    "#Lets check the cross val score\n",
    "cvscore=cross_val_score(ad,x,y,cv=5,scoring='r2').mean()\n",
    "print(\"The cross validation score is\", cvscore)"
   ]
  },
  {
   "cell_type": "code",
   "execution_count": 69,
   "metadata": {},
   "outputs": [
    {
     "data": {
      "text/html": [
       "<div>\n",
       "<style scoped>\n",
       "    .dataframe tbody tr th:only-of-type {\n",
       "        vertical-align: middle;\n",
       "    }\n",
       "\n",
       "    .dataframe tbody tr th {\n",
       "        vertical-align: top;\n",
       "    }\n",
       "\n",
       "    .dataframe thead th {\n",
       "        text-align: right;\n",
       "    }\n",
       "</style>\n",
       "<table border=\"1\" class=\"dataframe\">\n",
       "  <thead>\n",
       "    <tr style=\"text-align: right;\">\n",
       "      <th></th>\n",
       "      <th>Boosters</th>\n",
       "      <th>R2 Score</th>\n",
       "      <th>Cross_val_score</th>\n",
       "    </tr>\n",
       "  </thead>\n",
       "  <tbody>\n",
       "    <tr>\n",
       "      <th>0</th>\n",
       "      <td>Lasso</td>\n",
       "      <td>0.572</td>\n",
       "      <td>0.544</td>\n",
       "    </tr>\n",
       "    <tr>\n",
       "      <th>1</th>\n",
       "      <td>Ridge</td>\n",
       "      <td>0.572</td>\n",
       "      <td>0.544</td>\n",
       "    </tr>\n",
       "    <tr>\n",
       "      <th>2</th>\n",
       "      <td>RandomForestRegressor</td>\n",
       "      <td>0.901</td>\n",
       "      <td>0.891</td>\n",
       "    </tr>\n",
       "    <tr>\n",
       "      <th>3</th>\n",
       "      <td>GradientBoostRegressor</td>\n",
       "      <td>0.895</td>\n",
       "      <td>0.885</td>\n",
       "    </tr>\n",
       "    <tr>\n",
       "      <th>4</th>\n",
       "      <td>AdaBoostRegressor</td>\n",
       "      <td>0.841</td>\n",
       "      <td>0.829</td>\n",
       "    </tr>\n",
       "  </tbody>\n",
       "</table>\n",
       "</div>"
      ],
      "text/plain": [
       "                 Boosters  R2 Score  Cross_val_score\n",
       "0                   Lasso     0.572            0.544\n",
       "1                   Ridge     0.572            0.544\n",
       "2   RandomForestRegressor     0.901            0.891\n",
       "3  GradientBoostRegressor     0.895            0.885\n",
       "4       AdaBoostRegressor     0.841            0.829"
      ]
     },
     "execution_count": 69,
     "metadata": {},
     "output_type": "execute_result"
    }
   ],
   "source": [
    "result2=pd.DataFrame({'Boosters':['Lasso','Ridge','RandomForestRegressor','GradientBoostRegressor','AdaBoostRegressor'],'R2 Score':[0.572,0.572,0.901,0.895,0.841],'Cross_val_score':[0.544,0.544,0.891,0.885,0.829]})\n",
    "result2"
   ]
  },
  {
   "cell_type": "code",
   "execution_count": 70,
   "metadata": {},
   "outputs": [
    {
     "data": {
      "text/html": [
       "<div>\n",
       "<style scoped>\n",
       "    .dataframe tbody tr th:only-of-type {\n",
       "        vertical-align: middle;\n",
       "    }\n",
       "\n",
       "    .dataframe tbody tr th {\n",
       "        vertical-align: top;\n",
       "    }\n",
       "\n",
       "    .dataframe thead th {\n",
       "        text-align: right;\n",
       "    }\n",
       "</style>\n",
       "<table border=\"1\" class=\"dataframe\">\n",
       "  <thead>\n",
       "    <tr style=\"text-align: right;\">\n",
       "      <th></th>\n",
       "      <th>Model</th>\n",
       "      <th>R2score</th>\n",
       "      <th>Cross_val_score</th>\n",
       "      <th>Mean Squared Error</th>\n",
       "      <th>Root Mean Squared Error</th>\n",
       "    </tr>\n",
       "  </thead>\n",
       "  <tbody>\n",
       "    <tr>\n",
       "      <th>0</th>\n",
       "      <td>LinearRegression</td>\n",
       "      <td>0.560618</td>\n",
       "      <td>0.544096</td>\n",
       "      <td>727536.983532</td>\n",
       "      <td>852.957785</td>\n",
       "    </tr>\n",
       "    <tr>\n",
       "      <th>1</th>\n",
       "      <td>KNeighborsRegressor</td>\n",
       "      <td>0.685024</td>\n",
       "      <td>0.697818</td>\n",
       "      <td>521543.750299</td>\n",
       "      <td>722.179860</td>\n",
       "    </tr>\n",
       "    <tr>\n",
       "      <th>2</th>\n",
       "      <td>DecisionTreeRegressor</td>\n",
       "      <td>0.779348</td>\n",
       "      <td>0.778468</td>\n",
       "      <td>365359.733333</td>\n",
       "      <td>604.449943</td>\n",
       "    </tr>\n",
       "    <tr>\n",
       "      <th>3</th>\n",
       "      <td>SVR</td>\n",
       "      <td>0.549865</td>\n",
       "      <td>0.532776</td>\n",
       "      <td>745341.904628</td>\n",
       "      <td>863.331862</td>\n",
       "    </tr>\n",
       "  </tbody>\n",
       "</table>\n",
       "</div>"
      ],
      "text/plain": [
       "                   Model   R2score  Cross_val_score  Mean Squared Error  \\\n",
       "0       LinearRegression  0.560618         0.544096       727536.983532   \n",
       "1    KNeighborsRegressor  0.685024         0.697818       521543.750299   \n",
       "2  DecisionTreeRegressor  0.779348         0.778468       365359.733333   \n",
       "3                    SVR  0.549865         0.532776       745341.904628   \n",
       "\n",
       "   Root Mean Squared Error  \n",
       "0               852.957785  \n",
       "1               722.179860  \n",
       "2               604.449943  \n",
       "3               863.331862  "
      ]
     },
     "execution_count": 70,
     "metadata": {},
     "output_type": "execute_result"
    }
   ],
   "source": [
    "result"
   ]
  },
  {
   "cell_type": "code",
   "execution_count": 72,
   "metadata": {},
   "outputs": [
    {
     "name": "stdout",
     "output_type": "stream",
     "text": [
      "The accuracy score is 0.900641409175194\n",
      "The cross val score is 0.8913085337930722\n"
     ]
    }
   ],
   "source": [
    "#by comparing the above results, we can conclude that Random Forest regressor is providing best scores. \n",
    "#So we can finalise the same\n",
    "train_x,test_x,train_y,test_y=train_test_split(x,y,random_state=47,test_size=0.20)\n",
    "rf=RandomForestRegressor(n_estimators=500)\n",
    "rf.fit(train_x,train_y)\n",
    "pred=rf.predict(test_x)\n",
    "r2score=r2_score(test_y,pred)\n",
    "cv=cross_val_score(rf,x,y,cv=5,scoring='r2').mean()\n",
    "print(\"The accuracy score is\", r2score)\n",
    "print(\"The cross val score is\", cv)"
   ]
  },
  {
   "cell_type": "code",
   "execution_count": 73,
   "metadata": {},
   "outputs": [
    {
     "data": {
      "text/plain": [
       "['Project11_Automobile_Insurance_Claim.pkl']"
      ]
     },
     "execution_count": 73,
     "metadata": {},
     "output_type": "execute_result"
    }
   ],
   "source": [
    "#saving the model\n",
    "from sklearn.externals import joblib\n",
    "joblib.dump(rf,'Project11_Automobile_Insurance_Claim.pkl')"
   ]
  },
  {
   "cell_type": "code",
   "execution_count": null,
   "metadata": {},
   "outputs": [],
   "source": []
  }
 ],
 "metadata": {
  "kernelspec": {
   "display_name": "Python 3",
   "language": "python",
   "name": "python3"
  },
  "language_info": {
   "codemirror_mode": {
    "name": "ipython",
    "version": 3
   },
   "file_extension": ".py",
   "mimetype": "text/x-python",
   "name": "python",
   "nbconvert_exporter": "python",
   "pygments_lexer": "ipython3",
   "version": "3.7.6"
  }
 },
 "nbformat": 4,
 "nbformat_minor": 4
}
