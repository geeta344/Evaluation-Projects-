{
 "cells": [
  {
   "cell_type": "markdown",
   "metadata": {},
   "source": [
    "##SUMMARY\n",
    "\n",
    "Fraud  Loan Prediction \n",
    "\n",
    "Whether to give loan to a person or not based on the information .\n",
    "\n",
    "Train the model."
   ]
  },
  {
   "cell_type": "code",
   "execution_count": 1,
   "metadata": {},
   "outputs": [],
   "source": [
    "import pandas as pd\n",
    "import numpy as np\n",
    "import matplotlib.pyplot as plt\n",
    "import seaborn as sns\n",
    "import warnings\n",
    "warnings.filterwarnings('ignore')"
   ]
  },
  {
   "cell_type": "code",
   "execution_count": 2,
   "metadata": {},
   "outputs": [
    {
     "data": {
      "text/html": [
       "<div>\n",
       "<style scoped>\n",
       "    .dataframe tbody tr th:only-of-type {\n",
       "        vertical-align: middle;\n",
       "    }\n",
       "\n",
       "    .dataframe tbody tr th {\n",
       "        vertical-align: top;\n",
       "    }\n",
       "\n",
       "    .dataframe thead th {\n",
       "        text-align: right;\n",
       "    }\n",
       "</style>\n",
       "<table border=\"1\" class=\"dataframe\">\n",
       "  <thead>\n",
       "    <tr style=\"text-align: right;\">\n",
       "      <th></th>\n",
       "      <th>Loan_ID</th>\n",
       "      <th>Gender</th>\n",
       "      <th>Married</th>\n",
       "      <th>Dependents</th>\n",
       "      <th>Education</th>\n",
       "      <th>Self_Employed</th>\n",
       "      <th>ApplicantIncome</th>\n",
       "      <th>CoapplicantIncome</th>\n",
       "      <th>LoanAmount</th>\n",
       "      <th>Loan_Amount_Term</th>\n",
       "      <th>Credit_History</th>\n",
       "      <th>Property_Area</th>\n",
       "      <th>Loan_Status</th>\n",
       "    </tr>\n",
       "  </thead>\n",
       "  <tbody>\n",
       "    <tr>\n",
       "      <th>0</th>\n",
       "      <td>LP001002</td>\n",
       "      <td>Male</td>\n",
       "      <td>No</td>\n",
       "      <td>0</td>\n",
       "      <td>Graduate</td>\n",
       "      <td>No</td>\n",
       "      <td>5849</td>\n",
       "      <td>0.0</td>\n",
       "      <td>NaN</td>\n",
       "      <td>360.0</td>\n",
       "      <td>1.0</td>\n",
       "      <td>Urban</td>\n",
       "      <td>Y</td>\n",
       "    </tr>\n",
       "    <tr>\n",
       "      <th>1</th>\n",
       "      <td>LP001003</td>\n",
       "      <td>Male</td>\n",
       "      <td>Yes</td>\n",
       "      <td>1</td>\n",
       "      <td>Graduate</td>\n",
       "      <td>No</td>\n",
       "      <td>4583</td>\n",
       "      <td>1508.0</td>\n",
       "      <td>128.0</td>\n",
       "      <td>360.0</td>\n",
       "      <td>1.0</td>\n",
       "      <td>Rural</td>\n",
       "      <td>N</td>\n",
       "    </tr>\n",
       "    <tr>\n",
       "      <th>2</th>\n",
       "      <td>LP001005</td>\n",
       "      <td>Male</td>\n",
       "      <td>Yes</td>\n",
       "      <td>0</td>\n",
       "      <td>Graduate</td>\n",
       "      <td>Yes</td>\n",
       "      <td>3000</td>\n",
       "      <td>0.0</td>\n",
       "      <td>66.0</td>\n",
       "      <td>360.0</td>\n",
       "      <td>1.0</td>\n",
       "      <td>Urban</td>\n",
       "      <td>Y</td>\n",
       "    </tr>\n",
       "    <tr>\n",
       "      <th>3</th>\n",
       "      <td>LP001006</td>\n",
       "      <td>Male</td>\n",
       "      <td>Yes</td>\n",
       "      <td>0</td>\n",
       "      <td>Not Graduate</td>\n",
       "      <td>No</td>\n",
       "      <td>2583</td>\n",
       "      <td>2358.0</td>\n",
       "      <td>120.0</td>\n",
       "      <td>360.0</td>\n",
       "      <td>1.0</td>\n",
       "      <td>Urban</td>\n",
       "      <td>Y</td>\n",
       "    </tr>\n",
       "    <tr>\n",
       "      <th>4</th>\n",
       "      <td>LP001008</td>\n",
       "      <td>Male</td>\n",
       "      <td>No</td>\n",
       "      <td>0</td>\n",
       "      <td>Graduate</td>\n",
       "      <td>No</td>\n",
       "      <td>6000</td>\n",
       "      <td>0.0</td>\n",
       "      <td>141.0</td>\n",
       "      <td>360.0</td>\n",
       "      <td>1.0</td>\n",
       "      <td>Urban</td>\n",
       "      <td>Y</td>\n",
       "    </tr>\n",
       "    <tr>\n",
       "      <th>...</th>\n",
       "      <td>...</td>\n",
       "      <td>...</td>\n",
       "      <td>...</td>\n",
       "      <td>...</td>\n",
       "      <td>...</td>\n",
       "      <td>...</td>\n",
       "      <td>...</td>\n",
       "      <td>...</td>\n",
       "      <td>...</td>\n",
       "      <td>...</td>\n",
       "      <td>...</td>\n",
       "      <td>...</td>\n",
       "      <td>...</td>\n",
       "    </tr>\n",
       "    <tr>\n",
       "      <th>609</th>\n",
       "      <td>LP002978</td>\n",
       "      <td>Female</td>\n",
       "      <td>No</td>\n",
       "      <td>0</td>\n",
       "      <td>Graduate</td>\n",
       "      <td>No</td>\n",
       "      <td>2900</td>\n",
       "      <td>0.0</td>\n",
       "      <td>71.0</td>\n",
       "      <td>360.0</td>\n",
       "      <td>1.0</td>\n",
       "      <td>Rural</td>\n",
       "      <td>Y</td>\n",
       "    </tr>\n",
       "    <tr>\n",
       "      <th>610</th>\n",
       "      <td>LP002979</td>\n",
       "      <td>Male</td>\n",
       "      <td>Yes</td>\n",
       "      <td>3+</td>\n",
       "      <td>Graduate</td>\n",
       "      <td>No</td>\n",
       "      <td>4106</td>\n",
       "      <td>0.0</td>\n",
       "      <td>40.0</td>\n",
       "      <td>180.0</td>\n",
       "      <td>1.0</td>\n",
       "      <td>Rural</td>\n",
       "      <td>Y</td>\n",
       "    </tr>\n",
       "    <tr>\n",
       "      <th>611</th>\n",
       "      <td>LP002983</td>\n",
       "      <td>Male</td>\n",
       "      <td>Yes</td>\n",
       "      <td>1</td>\n",
       "      <td>Graduate</td>\n",
       "      <td>No</td>\n",
       "      <td>8072</td>\n",
       "      <td>240.0</td>\n",
       "      <td>253.0</td>\n",
       "      <td>360.0</td>\n",
       "      <td>1.0</td>\n",
       "      <td>Urban</td>\n",
       "      <td>Y</td>\n",
       "    </tr>\n",
       "    <tr>\n",
       "      <th>612</th>\n",
       "      <td>LP002984</td>\n",
       "      <td>Male</td>\n",
       "      <td>Yes</td>\n",
       "      <td>2</td>\n",
       "      <td>Graduate</td>\n",
       "      <td>No</td>\n",
       "      <td>7583</td>\n",
       "      <td>0.0</td>\n",
       "      <td>187.0</td>\n",
       "      <td>360.0</td>\n",
       "      <td>1.0</td>\n",
       "      <td>Urban</td>\n",
       "      <td>Y</td>\n",
       "    </tr>\n",
       "    <tr>\n",
       "      <th>613</th>\n",
       "      <td>LP002990</td>\n",
       "      <td>Female</td>\n",
       "      <td>No</td>\n",
       "      <td>0</td>\n",
       "      <td>Graduate</td>\n",
       "      <td>Yes</td>\n",
       "      <td>4583</td>\n",
       "      <td>0.0</td>\n",
       "      <td>133.0</td>\n",
       "      <td>360.0</td>\n",
       "      <td>0.0</td>\n",
       "      <td>Semiurban</td>\n",
       "      <td>N</td>\n",
       "    </tr>\n",
       "  </tbody>\n",
       "</table>\n",
       "<p>614 rows × 13 columns</p>\n",
       "</div>"
      ],
      "text/plain": [
       "      Loan_ID  Gender Married Dependents     Education Self_Employed  \\\n",
       "0    LP001002    Male      No          0      Graduate            No   \n",
       "1    LP001003    Male     Yes          1      Graduate            No   \n",
       "2    LP001005    Male     Yes          0      Graduate           Yes   \n",
       "3    LP001006    Male     Yes          0  Not Graduate            No   \n",
       "4    LP001008    Male      No          0      Graduate            No   \n",
       "..        ...     ...     ...        ...           ...           ...   \n",
       "609  LP002978  Female      No          0      Graduate            No   \n",
       "610  LP002979    Male     Yes         3+      Graduate            No   \n",
       "611  LP002983    Male     Yes          1      Graduate            No   \n",
       "612  LP002984    Male     Yes          2      Graduate            No   \n",
       "613  LP002990  Female      No          0      Graduate           Yes   \n",
       "\n",
       "     ApplicantIncome  CoapplicantIncome  LoanAmount  Loan_Amount_Term  \\\n",
       "0               5849                0.0         NaN             360.0   \n",
       "1               4583             1508.0       128.0             360.0   \n",
       "2               3000                0.0        66.0             360.0   \n",
       "3               2583             2358.0       120.0             360.0   \n",
       "4               6000                0.0       141.0             360.0   \n",
       "..               ...                ...         ...               ...   \n",
       "609             2900                0.0        71.0             360.0   \n",
       "610             4106                0.0        40.0             180.0   \n",
       "611             8072              240.0       253.0             360.0   \n",
       "612             7583                0.0       187.0             360.0   \n",
       "613             4583                0.0       133.0             360.0   \n",
       "\n",
       "     Credit_History Property_Area Loan_Status  \n",
       "0               1.0         Urban           Y  \n",
       "1               1.0         Rural           N  \n",
       "2               1.0         Urban           Y  \n",
       "3               1.0         Urban           Y  \n",
       "4               1.0         Urban           Y  \n",
       "..              ...           ...         ...  \n",
       "609             1.0         Rural           Y  \n",
       "610             1.0         Rural           Y  \n",
       "611             1.0         Urban           Y  \n",
       "612             1.0         Urban           Y  \n",
       "613             0.0     Semiurban           N  \n",
       "\n",
       "[614 rows x 13 columns]"
      ]
     },
     "execution_count": 2,
     "metadata": {},
     "output_type": "execute_result"
    }
   ],
   "source": [
    "fraud=pd.read_csv('/Users/drram/Documents/loan_prediction.csv')\n",
    "fraud"
   ]
  },
  {
   "cell_type": "code",
   "execution_count": 3,
   "metadata": {},
   "outputs": [
    {
     "data": {
      "text/html": [
       "<div>\n",
       "<style scoped>\n",
       "    .dataframe tbody tr th:only-of-type {\n",
       "        vertical-align: middle;\n",
       "    }\n",
       "\n",
       "    .dataframe tbody tr th {\n",
       "        vertical-align: top;\n",
       "    }\n",
       "\n",
       "    .dataframe thead th {\n",
       "        text-align: right;\n",
       "    }\n",
       "</style>\n",
       "<table border=\"1\" class=\"dataframe\">\n",
       "  <thead>\n",
       "    <tr style=\"text-align: right;\">\n",
       "      <th></th>\n",
       "      <th>Loan_ID</th>\n",
       "      <th>Gender</th>\n",
       "      <th>Married</th>\n",
       "      <th>Dependents</th>\n",
       "      <th>Education</th>\n",
       "      <th>Self_Employed</th>\n",
       "      <th>ApplicantIncome</th>\n",
       "      <th>CoapplicantIncome</th>\n",
       "      <th>LoanAmount</th>\n",
       "      <th>Loan_Amount_Term</th>\n",
       "      <th>Credit_History</th>\n",
       "      <th>Property_Area</th>\n",
       "      <th>Loan_Status</th>\n",
       "    </tr>\n",
       "  </thead>\n",
       "  <tbody>\n",
       "    <tr>\n",
       "      <th>0</th>\n",
       "      <td>LP001002</td>\n",
       "      <td>Male</td>\n",
       "      <td>No</td>\n",
       "      <td>0</td>\n",
       "      <td>Graduate</td>\n",
       "      <td>No</td>\n",
       "      <td>5849</td>\n",
       "      <td>0.0</td>\n",
       "      <td>NaN</td>\n",
       "      <td>360.0</td>\n",
       "      <td>1.0</td>\n",
       "      <td>Urban</td>\n",
       "      <td>Y</td>\n",
       "    </tr>\n",
       "    <tr>\n",
       "      <th>1</th>\n",
       "      <td>LP001003</td>\n",
       "      <td>Male</td>\n",
       "      <td>Yes</td>\n",
       "      <td>1</td>\n",
       "      <td>Graduate</td>\n",
       "      <td>No</td>\n",
       "      <td>4583</td>\n",
       "      <td>1508.0</td>\n",
       "      <td>128.0</td>\n",
       "      <td>360.0</td>\n",
       "      <td>1.0</td>\n",
       "      <td>Rural</td>\n",
       "      <td>N</td>\n",
       "    </tr>\n",
       "    <tr>\n",
       "      <th>2</th>\n",
       "      <td>LP001005</td>\n",
       "      <td>Male</td>\n",
       "      <td>Yes</td>\n",
       "      <td>0</td>\n",
       "      <td>Graduate</td>\n",
       "      <td>Yes</td>\n",
       "      <td>3000</td>\n",
       "      <td>0.0</td>\n",
       "      <td>66.0</td>\n",
       "      <td>360.0</td>\n",
       "      <td>1.0</td>\n",
       "      <td>Urban</td>\n",
       "      <td>Y</td>\n",
       "    </tr>\n",
       "    <tr>\n",
       "      <th>3</th>\n",
       "      <td>LP001006</td>\n",
       "      <td>Male</td>\n",
       "      <td>Yes</td>\n",
       "      <td>0</td>\n",
       "      <td>Not Graduate</td>\n",
       "      <td>No</td>\n",
       "      <td>2583</td>\n",
       "      <td>2358.0</td>\n",
       "      <td>120.0</td>\n",
       "      <td>360.0</td>\n",
       "      <td>1.0</td>\n",
       "      <td>Urban</td>\n",
       "      <td>Y</td>\n",
       "    </tr>\n",
       "    <tr>\n",
       "      <th>4</th>\n",
       "      <td>LP001008</td>\n",
       "      <td>Male</td>\n",
       "      <td>No</td>\n",
       "      <td>0</td>\n",
       "      <td>Graduate</td>\n",
       "      <td>No</td>\n",
       "      <td>6000</td>\n",
       "      <td>0.0</td>\n",
       "      <td>141.0</td>\n",
       "      <td>360.0</td>\n",
       "      <td>1.0</td>\n",
       "      <td>Urban</td>\n",
       "      <td>Y</td>\n",
       "    </tr>\n",
       "  </tbody>\n",
       "</table>\n",
       "</div>"
      ],
      "text/plain": [
       "    Loan_ID Gender Married Dependents     Education Self_Employed  \\\n",
       "0  LP001002   Male      No          0      Graduate            No   \n",
       "1  LP001003   Male     Yes          1      Graduate            No   \n",
       "2  LP001005   Male     Yes          0      Graduate           Yes   \n",
       "3  LP001006   Male     Yes          0  Not Graduate            No   \n",
       "4  LP001008   Male      No          0      Graduate            No   \n",
       "\n",
       "   ApplicantIncome  CoapplicantIncome  LoanAmount  Loan_Amount_Term  \\\n",
       "0             5849                0.0         NaN             360.0   \n",
       "1             4583             1508.0       128.0             360.0   \n",
       "2             3000                0.0        66.0             360.0   \n",
       "3             2583             2358.0       120.0             360.0   \n",
       "4             6000                0.0       141.0             360.0   \n",
       "\n",
       "   Credit_History Property_Area Loan_Status  \n",
       "0             1.0         Urban           Y  \n",
       "1             1.0         Rural           N  \n",
       "2             1.0         Urban           Y  \n",
       "3             1.0         Urban           Y  \n",
       "4             1.0         Urban           Y  "
      ]
     },
     "execution_count": 3,
     "metadata": {},
     "output_type": "execute_result"
    }
   ],
   "source": [
    "fraud.head()"
   ]
  },
  {
   "cell_type": "code",
   "execution_count": 4,
   "metadata": {},
   "outputs": [
    {
     "name": "stdout",
     "output_type": "stream",
     "text": [
      "<class 'pandas.core.frame.DataFrame'>\n",
      "RangeIndex: 614 entries, 0 to 613\n",
      "Data columns (total 13 columns):\n",
      " #   Column             Non-Null Count  Dtype  \n",
      "---  ------             --------------  -----  \n",
      " 0   Loan_ID            614 non-null    object \n",
      " 1   Gender             601 non-null    object \n",
      " 2   Married            611 non-null    object \n",
      " 3   Dependents         599 non-null    object \n",
      " 4   Education          614 non-null    object \n",
      " 5   Self_Employed      582 non-null    object \n",
      " 6   ApplicantIncome    614 non-null    int64  \n",
      " 7   CoapplicantIncome  614 non-null    float64\n",
      " 8   LoanAmount         592 non-null    float64\n",
      " 9   Loan_Amount_Term   600 non-null    float64\n",
      " 10  Credit_History     564 non-null    float64\n",
      " 11  Property_Area      614 non-null    object \n",
      " 12  Loan_Status        614 non-null    object \n",
      "dtypes: float64(4), int64(1), object(8)\n",
      "memory usage: 62.5+ KB\n"
     ]
    }
   ],
   "source": [
    "fraud.info()"
   ]
  },
  {
   "cell_type": "code",
   "execution_count": 5,
   "metadata": {},
   "outputs": [
    {
     "data": {
      "text/plain": [
       "Loan_ID               object\n",
       "Gender                object\n",
       "Married               object\n",
       "Dependents            object\n",
       "Education             object\n",
       "Self_Employed         object\n",
       "ApplicantIncome        int64\n",
       "CoapplicantIncome    float64\n",
       "LoanAmount           float64\n",
       "Loan_Amount_Term     float64\n",
       "Credit_History       float64\n",
       "Property_Area         object\n",
       "Loan_Status           object\n",
       "dtype: object"
      ]
     },
     "execution_count": 5,
     "metadata": {},
     "output_type": "execute_result"
    }
   ],
   "source": [
    "fraud.dtypes"
   ]
  },
  {
   "cell_type": "code",
   "execution_count": 6,
   "metadata": {},
   "outputs": [
    {
     "data": {
      "text/plain": [
       "Loan_ID               0\n",
       "Gender               13\n",
       "Married               3\n",
       "Dependents           15\n",
       "Education             0\n",
       "Self_Employed        32\n",
       "ApplicantIncome       0\n",
       "CoapplicantIncome     0\n",
       "LoanAmount           22\n",
       "Loan_Amount_Term     14\n",
       "Credit_History       50\n",
       "Property_Area         0\n",
       "Loan_Status           0\n",
       "dtype: int64"
      ]
     },
     "execution_count": 6,
     "metadata": {},
     "output_type": "execute_result"
    }
   ],
   "source": [
    "fraud.isnull().sum()"
   ]
  },
  {
   "cell_type": "code",
   "execution_count": 7,
   "metadata": {},
   "outputs": [
    {
     "data": {
      "text/plain": [
       "<matplotlib.axes._subplots.AxesSubplot at 0x1a2402b190>"
      ]
     },
     "execution_count": 7,
     "metadata": {},
     "output_type": "execute_result"
    },
    {
     "data": {
      "image/png": "[encoded data removed]",
      "text/plain": [
       "<Figure size 432x288 with 2 Axes>"
      ]
     },
     "metadata": {
      "needs_background": "light"
     },
     "output_type": "display_data"
    }
   ],
   "source": [
    "sns.heatmap(fraud.isnull())"
   ]
  },
  {
   "cell_type": "markdown",
   "metadata": {},
   "source": [
    "#Filling missing data."
   ]
  },
  {
   "cell_type": "code",
   "execution_count": 8,
   "metadata": {},
   "outputs": [],
   "source": [
    "#filling null values of categorical data\n",
    "fraud['LoanAmount'].fillna(fraud['LoanAmount'].mean(),inplace=True)"
   ]
  },
  {
   "cell_type": "code",
   "execution_count": 9,
   "metadata": {},
   "outputs": [],
   "source": [
    "fraud['Loan_Amount_Term'].fillna(fraud['Loan_Amount_Term'].mean(),inplace=True)\n",
    "fraud['Credit_History'].fillna(fraud['Credit_History'].mean(),inplace=True)"
   ]
  },
  {
   "cell_type": "code",
   "execution_count": 10,
   "metadata": {},
   "outputs": [],
   "source": [
    "#filling null values of numerical data\n",
    "fraud['Gender']=fraud['Gender'].fillna(fraud['Gender'].mode()[0])\n",
    "fraud['Married']=fraud['Married'].fillna(fraud['Married'].mode()[0])\n",
    "fraud['Dependents']=fraud['Dependents'].fillna(fraud['Dependents'].mode()[0])\n",
    "fraud['Self_Employed']=fraud['Self_Employed'].fillna(fraud['Self_Employed'].mode()[0])"
   ]
  },
  {
   "cell_type": "code",
   "execution_count": 11,
   "metadata": {},
   "outputs": [
    {
     "data": {
      "text/plain": [
       "Loan_ID              0\n",
       "Gender               0\n",
       "Married              0\n",
       "Dependents           0\n",
       "Education            0\n",
       "Self_Employed        0\n",
       "ApplicantIncome      0\n",
       "CoapplicantIncome    0\n",
       "LoanAmount           0\n",
       "Loan_Amount_Term     0\n",
       "Credit_History       0\n",
       "Property_Area        0\n",
       "Loan_Status          0\n",
       "dtype: int64"
      ]
     },
     "execution_count": 11,
     "metadata": {},
     "output_type": "execute_result"
    }
   ],
   "source": [
    "fraud.isnull().sum()"
   ]
  },
  {
   "cell_type": "markdown",
   "metadata": {},
   "source": [
    "##Univariate Analysis"
   ]
  },
  {
   "cell_type": "code",
   "execution_count": 12,
   "metadata": {},
   "outputs": [
    {
     "data": {
      "text/plain": [
       "<matplotlib.axes._subplots.AxesSubplot at 0x1a23f22e90>"
      ]
     },
     "execution_count": 12,
     "metadata": {},
     "output_type": "execute_result"
    },
    {
     "data": {
      "image/png": "[encoded data removed]",
      "text/plain": [
       "<Figure size 432x288 with 1 Axes>"
      ]
     },
     "metadata": {
      "needs_background": "light"
     },
     "output_type": "display_data"
    }
   ],
   "source": [
    "sns.countplot(fraud['Loan_Status'])"
   ]
  },
  {
   "cell_type": "code",
   "execution_count": 13,
   "metadata": {},
   "outputs": [
    {
     "data": {
      "text/plain": [
       "<matplotlib.axes._subplots.AxesSubplot at 0x1a2498fbd0>"
      ]
     },
     "execution_count": 13,
     "metadata": {},
     "output_type": "execute_result"
    },
    {
     "data": {
      "image/png": "[encoded data removed]",
      "text/plain": [
       "<Figure size 432x288 with 1 Axes>"
      ]
     },
     "metadata": {
      "needs_background": "light"
     },
     "output_type": "display_data"
    }
   ],
   "source": [
    "fraud['CoapplicantIncome'].plot.hist()"
   ]
  },
  {
   "cell_type": "code",
   "execution_count": 14,
   "metadata": {},
   "outputs": [
    {
     "data": {
      "text/plain": [
       "<matplotlib.axes._subplots.AxesSubplot at 0x1a24aa0390>"
      ]
     },
     "execution_count": 14,
     "metadata": {},
     "output_type": "execute_result"
    },
    {
     "data": {
      "image/png": "[encoded data removed]",
      "text/plain": [
       "<Figure size 432x288 with 1 Axes>"
      ]
     },
     "metadata": {
      "needs_background": "light"
     },
     "output_type": "display_data"
    }
   ],
   "source": [
    "sns.distplot(fraud['ApplicantIncome'])"
   ]
  },
  {
   "cell_type": "code",
   "execution_count": 15,
   "metadata": {},
   "outputs": [
    {
     "data": {
      "text/plain": [
       "<matplotlib.axes._subplots.AxesSubplot at 0x1a24d8bf90>"
      ]
     },
     "execution_count": 15,
     "metadata": {},
     "output_type": "execute_result"
    },
    {
     "data": {
      "image/png": "[encoded data removed]",
      "text/plain": [
       "<Figure size 432x288 with 1 Axes>"
      ]
     },
     "metadata": {
      "needs_background": "light"
     },
     "output_type": "display_data"
    }
   ],
   "source": [
    "sns.countplot(fraud['LoanAmount'])"
   ]
  },
  {
   "cell_type": "code",
   "execution_count": 16,
   "metadata": {},
   "outputs": [
    {
     "data": {
      "text/plain": [
       "<matplotlib.axes._subplots.AxesSubplot at 0x1a24fe0bd0>"
      ]
     },
     "execution_count": 16,
     "metadata": {},
     "output_type": "execute_result"
    },
    {
     "data": {
      "image/png": "[encoded data removed]",
      "text/plain": [
       "<Figure size 432x288 with 1 Axes>"
      ]
     },
     "metadata": {
      "needs_background": "light"
     },
     "output_type": "display_data"
    }
   ],
   "source": [
    "sns.countplot(fraud['Loan_Amount_Term'])"
   ]
  },
  {
   "cell_type": "code",
   "execution_count": 17,
   "metadata": {},
   "outputs": [
    {
     "data": {
      "text/plain": [
       "<matplotlib.axes._subplots.AxesSubplot at 0x1a2522e410>"
      ]
     },
     "execution_count": 17,
     "metadata": {},
     "output_type": "execute_result"
    },
    {
     "data": {
      "image/png": "[encoded data removed]",
      "text/plain": [
       "<Figure size 432x288 with 1 Axes>"
      ]
     },
     "metadata": {
      "needs_background": "light"
     },
     "output_type": "display_data"
    }
   ],
   "source": [
    "sns.boxplot(fraud['Credit_History'], data=fraud)"
   ]
  },
  {
   "cell_type": "code",
   "execution_count": 18,
   "metadata": {},
   "outputs": [
    {
     "data": {
      "image/png": "[encoded data removed]",
      "text/plain": [
       "<Figure size 1080x1080 with 5 Axes>"
      ]
     },
     "metadata": {
      "needs_background": "light"
     },
     "output_type": "display_data"
    }
   ],
   "source": [
    "col_list=fraud.columns.values\n",
    "plt.figure(figsize=(15,15))\n",
    "for i in range (0,len(col_list)):\n",
    "    if fraud[col_list[i]].dtype!='O':\n",
    "        plt.subplot(6,6,i+1)\n",
    "        sns.boxplot(fraud[col_list[i]], color='pink',orient='v')\n",
    "        plt.tight_layout()"
   ]
  },
  {
   "cell_type": "code",
   "execution_count": 19,
   "metadata": {},
   "outputs": [
    {
     "data": {
      "image/png": "[encoded data removed]",
      "text/plain": [
       "<Figure size 1440x1440 with 6 Axes>"
      ]
     },
     "metadata": {
      "needs_background": "light"
     },
     "output_type": "display_data"
    }
   ],
   "source": [
    "fraud.hist(figsize=(20,20))\n",
    "plt.show()"
   ]
  },
  {
   "cell_type": "markdown",
   "metadata": {},
   "source": [
    "##Bivariate Analysis"
   ]
  },
  {
   "cell_type": "code",
   "execution_count": 20,
   "metadata": {},
   "outputs": [],
   "source": [
    "from sklearn.preprocessing import LabelEncoder\n",
    "le=LabelEncoder()\n",
    "fraud['Loan_Status']=pd.DataFrame(le.fit_transform(fraud['Loan_Status']))"
   ]
  },
  {
   "cell_type": "code",
   "execution_count": 21,
   "metadata": {},
   "outputs": [
    {
     "data": {
      "text/plain": [
       "<matplotlib.axes._subplots.AxesSubplot at 0x1a26d31c50>"
      ]
     },
     "execution_count": 21,
     "metadata": {},
     "output_type": "execute_result"
    },
    {
     "data": {
      "image/png": "[encoded data removed]",
      "text/plain": [
       "<Figure size 432x288 with 1 Axes>"
      ]
     },
     "metadata": {
      "needs_background": "light"
     },
     "output_type": "display_data"
    }
   ],
   "source": [
    "sns.scatterplot(x='Education',y='LoanAmount', data= fraud)"
   ]
  },
  {
   "cell_type": "code",
   "execution_count": 22,
   "metadata": {},
   "outputs": [
    {
     "data": {
      "text/plain": [
       "<matplotlib.axes._subplots.AxesSubplot at 0x1a26d8ed10>"
      ]
     },
     "execution_count": 22,
     "metadata": {},
     "output_type": "execute_result"
    },
    {
     "data": {
      "image/png": "[encoded data removed]",
      "text/plain": [
       "<Figure size 432x288 with 1 Axes>"
      ]
     },
     "metadata": {
      "needs_background": "light"
     },
     "output_type": "display_data"
    }
   ],
   "source": [
    "sns.lineplot(x='Gender',y='ApplicantIncome',data=fraud)"
   ]
  },
  {
   "cell_type": "code",
   "execution_count": 23,
   "metadata": {},
   "outputs": [
    {
     "data": {
      "text/plain": [
       "<matplotlib.axes._subplots.AxesSubplot at 0x1a24894710>"
      ]
     },
     "execution_count": 23,
     "metadata": {},
     "output_type": "execute_result"
    },
    {
     "data": {
      "image/png": "[encoded data removed]",
      "text/plain": [
       "<Figure size 432x288 with 1 Axes>"
      ]
     },
     "metadata": {
      "needs_background": "light"
     },
     "output_type": "display_data"
    }
   ],
   "source": [
    "sns.barplot(x='Married', y='Loan_Status', data= fraud)"
   ]
  },
  {
   "cell_type": "code",
   "execution_count": 24,
   "metadata": {},
   "outputs": [
    {
     "data": {
      "text/plain": [
       "<matplotlib.axes._subplots.AxesSubplot at 0x1a25d99d90>"
      ]
     },
     "execution_count": 24,
     "metadata": {},
     "output_type": "execute_result"
    },
    {
     "data": {
      "image/png": "[encoded data removed]",
      "text/plain": [
       "<Figure size 432x288 with 1 Axes>"
      ]
     },
     "metadata": {
      "needs_background": "light"
     },
     "output_type": "display_data"
    }
   ],
   "source": [
    "sns.barplot(x='Education',y='Loan_Status', data= fraud)"
   ]
  },
  {
   "cell_type": "code",
   "execution_count": 25,
   "metadata": {},
   "outputs": [
    {
     "data": {
      "image/png": "[encoded data removed]",
      "text/plain": [
       "<Figure size 360x360 with 1 Axes>"
      ]
     },
     "metadata": {
      "needs_background": "light"
     },
     "output_type": "display_data"
    }
   ],
   "source": [
    "sns.catplot(x=\"Dependents\", y=\"Loan_Status\", hue=\"Dependents\", kind=\"bar\", data=fraud);"
   ]
  },
  {
   "cell_type": "code",
   "execution_count": 26,
   "metadata": {},
   "outputs": [
    {
     "data": {
      "text/plain": [
       "<matplotlib.axes._subplots.AxesSubplot at 0x1a25b2d650>"
      ]
     },
     "execution_count": 26,
     "metadata": {},
     "output_type": "execute_result"
    },
    {
     "data": {
      "image/png": "[encoded data removed]",
      "text/plain": [
       "<Figure size 432x288 with 1 Axes>"
      ]
     },
     "metadata": {
      "needs_background": "light"
     },
     "output_type": "display_data"
    }
   ],
   "source": [
    "sns.swarmplot(x='Self_Employed',y='Loan_Amount_Term',data=fraud)"
   ]
  },
  {
   "cell_type": "code",
   "execution_count": 27,
   "metadata": {},
   "outputs": [
    {
     "data": {
      "image/png": "[encoded data removed]",
      "text/plain": [
       "<Figure size 864x1080 with 1 Axes>"
      ]
     },
     "metadata": {
      "needs_background": "light"
     },
     "output_type": "display_data"
    }
   ],
   "source": [
    "Married_pivot=\\\n",
    "fraud.pivot_table(index='Married',values='Loan_Status',aggfunc=np.median)\n",
    "Married_pivot.plot(kind='bar',color='blue',figsize=(12,15))\n",
    "plt.xlabel('Married')\n",
    "plt.ylabel('Loan_Status')\n",
    "plt.title('Married on Loan_Status')\n",
    "plt.xticks(rotation=0)\n",
    "plt.show()"
   ]
  },
  {
   "cell_type": "markdown",
   "metadata": {},
   "source": [
    "##Statistical Analysis"
   ]
  },
  {
   "cell_type": "code",
   "execution_count": 28,
   "metadata": {},
   "outputs": [],
   "source": [
    "#we need to change all the categorical values into numerical values\n",
    "for i in fraud.columns:\n",
    "    if fraud.columns.dtype=='O':\n",
    "        fraud[i]=le.fit_transform(fraud[i])"
   ]
  },
  {
   "cell_type": "code",
   "execution_count": 29,
   "metadata": {},
   "outputs": [
    {
     "data": {
      "text/html": [
       "<div>\n",
       "<style scoped>\n",
       "    .dataframe tbody tr th:only-of-type {\n",
       "        vertical-align: middle;\n",
       "    }\n",
       "\n",
       "    .dataframe tbody tr th {\n",
       "        vertical-align: top;\n",
       "    }\n",
       "\n",
       "    .dataframe thead th {\n",
       "        text-align: right;\n",
       "    }\n",
       "</style>\n",
       "<table border=\"1\" class=\"dataframe\">\n",
       "  <thead>\n",
       "    <tr style=\"text-align: right;\">\n",
       "      <th></th>\n",
       "      <th>Loan_ID</th>\n",
       "      <th>Gender</th>\n",
       "      <th>Married</th>\n",
       "      <th>Dependents</th>\n",
       "      <th>Education</th>\n",
       "      <th>Self_Employed</th>\n",
       "      <th>ApplicantIncome</th>\n",
       "      <th>CoapplicantIncome</th>\n",
       "      <th>LoanAmount</th>\n",
       "      <th>Loan_Amount_Term</th>\n",
       "      <th>Credit_History</th>\n",
       "      <th>Property_Area</th>\n",
       "      <th>Loan_Status</th>\n",
       "    </tr>\n",
       "  </thead>\n",
       "  <tbody>\n",
       "    <tr>\n",
       "      <th>0</th>\n",
       "      <td>0</td>\n",
       "      <td>1</td>\n",
       "      <td>0</td>\n",
       "      <td>0</td>\n",
       "      <td>0</td>\n",
       "      <td>0</td>\n",
       "      <td>376</td>\n",
       "      <td>0</td>\n",
       "      <td>100</td>\n",
       "      <td>9</td>\n",
       "      <td>2</td>\n",
       "      <td>2</td>\n",
       "      <td>1</td>\n",
       "    </tr>\n",
       "    <tr>\n",
       "      <th>1</th>\n",
       "      <td>1</td>\n",
       "      <td>1</td>\n",
       "      <td>1</td>\n",
       "      <td>1</td>\n",
       "      <td>0</td>\n",
       "      <td>0</td>\n",
       "      <td>306</td>\n",
       "      <td>60</td>\n",
       "      <td>81</td>\n",
       "      <td>9</td>\n",
       "      <td>2</td>\n",
       "      <td>0</td>\n",
       "      <td>0</td>\n",
       "    </tr>\n",
       "    <tr>\n",
       "      <th>2</th>\n",
       "      <td>2</td>\n",
       "      <td>1</td>\n",
       "      <td>1</td>\n",
       "      <td>0</td>\n",
       "      <td>0</td>\n",
       "      <td>1</td>\n",
       "      <td>139</td>\n",
       "      <td>0</td>\n",
       "      <td>26</td>\n",
       "      <td>9</td>\n",
       "      <td>2</td>\n",
       "      <td>2</td>\n",
       "      <td>1</td>\n",
       "    </tr>\n",
       "    <tr>\n",
       "      <th>3</th>\n",
       "      <td>3</td>\n",
       "      <td>1</td>\n",
       "      <td>1</td>\n",
       "      <td>0</td>\n",
       "      <td>1</td>\n",
       "      <td>0</td>\n",
       "      <td>90</td>\n",
       "      <td>160</td>\n",
       "      <td>73</td>\n",
       "      <td>9</td>\n",
       "      <td>2</td>\n",
       "      <td>2</td>\n",
       "      <td>1</td>\n",
       "    </tr>\n",
       "    <tr>\n",
       "      <th>4</th>\n",
       "      <td>4</td>\n",
       "      <td>1</td>\n",
       "      <td>0</td>\n",
       "      <td>0</td>\n",
       "      <td>0</td>\n",
       "      <td>0</td>\n",
       "      <td>381</td>\n",
       "      <td>0</td>\n",
       "      <td>94</td>\n",
       "      <td>9</td>\n",
       "      <td>2</td>\n",
       "      <td>2</td>\n",
       "      <td>1</td>\n",
       "    </tr>\n",
       "  </tbody>\n",
       "</table>\n",
       "</div>"
      ],
      "text/plain": [
       "   Loan_ID  Gender  Married  Dependents  Education  Self_Employed  \\\n",
       "0        0       1        0           0          0              0   \n",
       "1        1       1        1           1          0              0   \n",
       "2        2       1        1           0          0              1   \n",
       "3        3       1        1           0          1              0   \n",
       "4        4       1        0           0          0              0   \n",
       "\n",
       "   ApplicantIncome  CoapplicantIncome  LoanAmount  Loan_Amount_Term  \\\n",
       "0              376                  0         100                 9   \n",
       "1              306                 60          81                 9   \n",
       "2              139                  0          26                 9   \n",
       "3               90                160          73                 9   \n",
       "4              381                  0          94                 9   \n",
       "\n",
       "   Credit_History  Property_Area  Loan_Status  \n",
       "0               2              2            1  \n",
       "1               2              0            0  \n",
       "2               2              2            1  \n",
       "3               2              2            1  \n",
       "4               2              2            1  "
      ]
     },
     "execution_count": 29,
     "metadata": {},
     "output_type": "execute_result"
    }
   ],
   "source": [
    "fraud.head()"
   ]
  },
  {
   "cell_type": "code",
   "execution_count": 30,
   "metadata": {},
   "outputs": [],
   "source": [
    "#Loan_ID is of no such use in dataset, so we can drop this column\n",
    "fraud.drop(['Loan_ID'], axis=1, inplace=True)"
   ]
  },
  {
   "cell_type": "code",
   "execution_count": 31,
   "metadata": {},
   "outputs": [
    {
     "data": {
      "text/html": [
       "<div>\n",
       "<style scoped>\n",
       "    .dataframe tbody tr th:only-of-type {\n",
       "        vertical-align: middle;\n",
       "    }\n",
       "\n",
       "    .dataframe tbody tr th {\n",
       "        vertical-align: top;\n",
       "    }\n",
       "\n",
       "    .dataframe thead th {\n",
       "        text-align: right;\n",
       "    }\n",
       "</style>\n",
       "<table border=\"1\" class=\"dataframe\">\n",
       "  <thead>\n",
       "    <tr style=\"text-align: right;\">\n",
       "      <th></th>\n",
       "      <th>Gender</th>\n",
       "      <th>Married</th>\n",
       "      <th>Dependents</th>\n",
       "      <th>Education</th>\n",
       "      <th>Self_Employed</th>\n",
       "      <th>ApplicantIncome</th>\n",
       "      <th>CoapplicantIncome</th>\n",
       "      <th>LoanAmount</th>\n",
       "      <th>Loan_Amount_Term</th>\n",
       "      <th>Credit_History</th>\n",
       "      <th>Property_Area</th>\n",
       "      <th>Loan_Status</th>\n",
       "    </tr>\n",
       "  </thead>\n",
       "  <tbody>\n",
       "    <tr>\n",
       "      <th>count</th>\n",
       "      <td>614.000000</td>\n",
       "      <td>614.000000</td>\n",
       "      <td>614.000000</td>\n",
       "      <td>614.000000</td>\n",
       "      <td>614.000000</td>\n",
       "      <td>614.000000</td>\n",
       "      <td>614.000000</td>\n",
       "      <td>614.000000</td>\n",
       "      <td>614.000000</td>\n",
       "      <td>614.000000</td>\n",
       "      <td>614.000000</td>\n",
       "      <td>614.000000</td>\n",
       "    </tr>\n",
       "    <tr>\n",
       "      <th>mean</th>\n",
       "      <td>0.817590</td>\n",
       "      <td>0.653094</td>\n",
       "      <td>0.744300</td>\n",
       "      <td>0.218241</td>\n",
       "      <td>0.133550</td>\n",
       "      <td>247.117264</td>\n",
       "      <td>78.884365</td>\n",
       "      <td>87.719870</td>\n",
       "      <td>8.526059</td>\n",
       "      <td>1.628664</td>\n",
       "      <td>1.037459</td>\n",
       "      <td>0.687296</td>\n",
       "    </tr>\n",
       "    <tr>\n",
       "      <th>std</th>\n",
       "      <td>0.386497</td>\n",
       "      <td>0.476373</td>\n",
       "      <td>1.009623</td>\n",
       "      <td>0.413389</td>\n",
       "      <td>0.340446</td>\n",
       "      <td>143.537853</td>\n",
       "      <td>92.623999</td>\n",
       "      <td>45.670174</td>\n",
       "      <td>1.404423</td>\n",
       "      <td>0.724018</td>\n",
       "      <td>0.787482</td>\n",
       "      <td>0.463973</td>\n",
       "    </tr>\n",
       "    <tr>\n",
       "      <th>min</th>\n",
       "      <td>0.000000</td>\n",
       "      <td>0.000000</td>\n",
       "      <td>0.000000</td>\n",
       "      <td>0.000000</td>\n",
       "      <td>0.000000</td>\n",
       "      <td>0.000000</td>\n",
       "      <td>0.000000</td>\n",
       "      <td>0.000000</td>\n",
       "      <td>0.000000</td>\n",
       "      <td>0.000000</td>\n",
       "      <td>0.000000</td>\n",
       "      <td>0.000000</td>\n",
       "    </tr>\n",
       "    <tr>\n",
       "      <th>25%</th>\n",
       "      <td>1.000000</td>\n",
       "      <td>0.000000</td>\n",
       "      <td>0.000000</td>\n",
       "      <td>0.000000</td>\n",
       "      <td>0.000000</td>\n",
       "      <td>120.250000</td>\n",
       "      <td>0.000000</td>\n",
       "      <td>53.250000</td>\n",
       "      <td>9.000000</td>\n",
       "      <td>2.000000</td>\n",
       "      <td>0.000000</td>\n",
       "      <td>0.000000</td>\n",
       "    </tr>\n",
       "    <tr>\n",
       "      <th>50%</th>\n",
       "      <td>1.000000</td>\n",
       "      <td>1.000000</td>\n",
       "      <td>0.000000</td>\n",
       "      <td>0.000000</td>\n",
       "      <td>0.000000</td>\n",
       "      <td>244.500000</td>\n",
       "      <td>33.500000</td>\n",
       "      <td>82.000000</td>\n",
       "      <td>9.000000</td>\n",
       "      <td>2.000000</td>\n",
       "      <td>1.000000</td>\n",
       "      <td>1.000000</td>\n",
       "    </tr>\n",
       "    <tr>\n",
       "      <th>75%</th>\n",
       "      <td>1.000000</td>\n",
       "      <td>1.000000</td>\n",
       "      <td>1.000000</td>\n",
       "      <td>0.000000</td>\n",
       "      <td>0.000000</td>\n",
       "      <td>369.750000</td>\n",
       "      <td>153.750000</td>\n",
       "      <td>116.750000</td>\n",
       "      <td>9.000000</td>\n",
       "      <td>2.000000</td>\n",
       "      <td>2.000000</td>\n",
       "      <td>1.000000</td>\n",
       "    </tr>\n",
       "    <tr>\n",
       "      <th>max</th>\n",
       "      <td>1.000000</td>\n",
       "      <td>1.000000</td>\n",
       "      <td>3.000000</td>\n",
       "      <td>1.000000</td>\n",
       "      <td>1.000000</td>\n",
       "      <td>504.000000</td>\n",
       "      <td>286.000000</td>\n",
       "      <td>203.000000</td>\n",
       "      <td>10.000000</td>\n",
       "      <td>2.000000</td>\n",
       "      <td>2.000000</td>\n",
       "      <td>1.000000</td>\n",
       "    </tr>\n",
       "  </tbody>\n",
       "</table>\n",
       "</div>"
      ],
      "text/plain": [
       "           Gender     Married  Dependents   Education  Self_Employed  \\\n",
       "count  614.000000  614.000000  614.000000  614.000000     614.000000   \n",
       "mean     0.817590    0.653094    0.744300    0.218241       0.133550   \n",
       "std      0.386497    0.476373    1.009623    0.413389       0.340446   \n",
       "min      0.000000    0.000000    0.000000    0.000000       0.000000   \n",
       "25%      1.000000    0.000000    0.000000    0.000000       0.000000   \n",
       "50%      1.000000    1.000000    0.000000    0.000000       0.000000   \n",
       "75%      1.000000    1.000000    1.000000    0.000000       0.000000   \n",
       "max      1.000000    1.000000    3.000000    1.000000       1.000000   \n",
       "\n",
       "       ApplicantIncome  CoapplicantIncome  LoanAmount  Loan_Amount_Term  \\\n",
       "count       614.000000         614.000000  614.000000        614.000000   \n",
       "mean        247.117264          78.884365   87.719870          8.526059   \n",
       "std         143.537853          92.623999   45.670174          1.404423   \n",
       "min           0.000000           0.000000    0.000000          0.000000   \n",
       "25%         120.250000           0.000000   53.250000          9.000000   \n",
       "50%         244.500000          33.500000   82.000000          9.000000   \n",
       "75%         369.750000         153.750000  116.750000          9.000000   \n",
       "max         504.000000         286.000000  203.000000         10.000000   \n",
       "\n",
       "       Credit_History  Property_Area  Loan_Status  \n",
       "count      614.000000     614.000000   614.000000  \n",
       "mean         1.628664       1.037459     0.687296  \n",
       "std          0.724018       0.787482     0.463973  \n",
       "min          0.000000       0.000000     0.000000  \n",
       "25%          2.000000       0.000000     0.000000  \n",
       "50%          2.000000       1.000000     1.000000  \n",
       "75%          2.000000       2.000000     1.000000  \n",
       "max          2.000000       2.000000     1.000000  "
      ]
     },
     "execution_count": 31,
     "metadata": {},
     "output_type": "execute_result"
    }
   ],
   "source": [
    "fraud.describe()"
   ]
  },
  {
   "cell_type": "code",
   "execution_count": 32,
   "metadata": {},
   "outputs": [
    {
     "data": {
      "text/plain": [
       "<matplotlib.axes._subplots.AxesSubplot at 0x1a25b17510>"
      ]
     },
     "execution_count": 32,
     "metadata": {},
     "output_type": "execute_result"
    },
    {
     "data": {
      "image/png": "[encoded data removed]",
      "text/plain": [
       "<Figure size 720x576 with 2 Axes>"
      ]
     },
     "metadata": {
      "needs_background": "light"
     },
     "output_type": "display_data"
    }
   ],
   "source": [
    "plt.figure(figsize=(10,8))\n",
    "sns.heatmap(fraud.corr(), annot=True)"
   ]
  },
  {
   "cell_type": "code",
   "execution_count": 33,
   "metadata": {},
   "outputs": [
    {
     "data": {
      "text/html": [
       "<div>\n",
       "<style scoped>\n",
       "    .dataframe tbody tr th:only-of-type {\n",
       "        vertical-align: middle;\n",
       "    }\n",
       "\n",
       "    .dataframe tbody tr th {\n",
       "        vertical-align: top;\n",
       "    }\n",
       "\n",
       "    .dataframe thead th {\n",
       "        text-align: right;\n",
       "    }\n",
       "</style>\n",
       "<table border=\"1\" class=\"dataframe\">\n",
       "  <thead>\n",
       "    <tr style=\"text-align: right;\">\n",
       "      <th></th>\n",
       "      <th>Gender</th>\n",
       "      <th>Married</th>\n",
       "      <th>Dependents</th>\n",
       "      <th>Education</th>\n",
       "      <th>Self_Employed</th>\n",
       "      <th>ApplicantIncome</th>\n",
       "      <th>CoapplicantIncome</th>\n",
       "      <th>LoanAmount</th>\n",
       "      <th>Loan_Amount_Term</th>\n",
       "      <th>Credit_History</th>\n",
       "      <th>Property_Area</th>\n",
       "      <th>Loan_Status</th>\n",
       "    </tr>\n",
       "  </thead>\n",
       "  <tbody>\n",
       "    <tr>\n",
       "      <th>Gender</th>\n",
       "      <td>1.000000</td>\n",
       "      <td>0.364569</td>\n",
       "      <td>0.172914</td>\n",
       "      <td>0.045364</td>\n",
       "      <td>-0.000525</td>\n",
       "      <td>0.074223</td>\n",
       "      <td>0.180774</td>\n",
       "      <td>0.151163</td>\n",
       "      <td>-0.069368</td>\n",
       "      <td>0.019882</td>\n",
       "      <td>-0.025752</td>\n",
       "      <td>0.017987</td>\n",
       "    </tr>\n",
       "    <tr>\n",
       "      <th>Married</th>\n",
       "      <td>0.364569</td>\n",
       "      <td>1.000000</td>\n",
       "      <td>0.334216</td>\n",
       "      <td>0.012304</td>\n",
       "      <td>0.004489</td>\n",
       "      <td>0.010497</td>\n",
       "      <td>0.207905</td>\n",
       "      <td>0.184857</td>\n",
       "      <td>-0.087657</td>\n",
       "      <td>-0.005177</td>\n",
       "      <td>0.004257</td>\n",
       "      <td>0.091478</td>\n",
       "    </tr>\n",
       "    <tr>\n",
       "      <th>Dependents</th>\n",
       "      <td>0.172914</td>\n",
       "      <td>0.334216</td>\n",
       "      <td>1.000000</td>\n",
       "      <td>0.055752</td>\n",
       "      <td>0.056798</td>\n",
       "      <td>0.137382</td>\n",
       "      <td>-0.065140</td>\n",
       "      <td>0.161153</td>\n",
       "      <td>-0.094810</td>\n",
       "      <td>-0.029681</td>\n",
       "      <td>-0.000244</td>\n",
       "      <td>0.010118</td>\n",
       "    </tr>\n",
       "    <tr>\n",
       "      <th>Education</th>\n",
       "      <td>0.045364</td>\n",
       "      <td>0.012304</td>\n",
       "      <td>0.055752</td>\n",
       "      <td>1.000000</td>\n",
       "      <td>-0.010383</td>\n",
       "      <td>-0.190873</td>\n",
       "      <td>-0.052724</td>\n",
       "      <td>-0.172249</td>\n",
       "      <td>-0.088487</td>\n",
       "      <td>-0.083070</td>\n",
       "      <td>-0.065243</td>\n",
       "      <td>-0.085884</td>\n",
       "    </tr>\n",
       "    <tr>\n",
       "      <th>Self_Employed</th>\n",
       "      <td>-0.000525</td>\n",
       "      <td>0.004489</td>\n",
       "      <td>0.056798</td>\n",
       "      <td>-0.010383</td>\n",
       "      <td>1.000000</td>\n",
       "      <td>0.199142</td>\n",
       "      <td>-0.036033</td>\n",
       "      <td>0.117717</td>\n",
       "      <td>-0.031174</td>\n",
       "      <td>-0.003643</td>\n",
       "      <td>-0.030860</td>\n",
       "      <td>-0.003700</td>\n",
       "    </tr>\n",
       "    <tr>\n",
       "      <th>ApplicantIncome</th>\n",
       "      <td>0.074223</td>\n",
       "      <td>0.010497</td>\n",
       "      <td>0.137382</td>\n",
       "      <td>-0.190873</td>\n",
       "      <td>0.199142</td>\n",
       "      <td>1.000000</td>\n",
       "      <td>-0.248763</td>\n",
       "      <td>0.525324</td>\n",
       "      <td>-0.016402</td>\n",
       "      <td>0.048375</td>\n",
       "      <td>-0.065143</td>\n",
       "      <td>-0.003123</td>\n",
       "    </tr>\n",
       "    <tr>\n",
       "      <th>CoapplicantIncome</th>\n",
       "      <td>0.180774</td>\n",
       "      <td>0.207905</td>\n",
       "      <td>-0.065140</td>\n",
       "      <td>-0.052724</td>\n",
       "      <td>-0.036033</td>\n",
       "      <td>-0.248763</td>\n",
       "      <td>1.000000</td>\n",
       "      <td>0.264136</td>\n",
       "      <td>-0.020010</td>\n",
       "      <td>-0.036084</td>\n",
       "      <td>-0.082223</td>\n",
       "      <td>0.007812</td>\n",
       "    </tr>\n",
       "    <tr>\n",
       "      <th>LoanAmount</th>\n",
       "      <td>0.151163</td>\n",
       "      <td>0.184857</td>\n",
       "      <td>0.161153</td>\n",
       "      <td>-0.172249</td>\n",
       "      <td>0.117717</td>\n",
       "      <td>0.525324</td>\n",
       "      <td>0.264136</td>\n",
       "      <td>1.000000</td>\n",
       "      <td>0.065580</td>\n",
       "      <td>-0.014301</td>\n",
       "      <td>-0.084076</td>\n",
       "      <td>-0.049717</td>\n",
       "    </tr>\n",
       "    <tr>\n",
       "      <th>Loan_Amount_Term</th>\n",
       "      <td>-0.069368</td>\n",
       "      <td>-0.087657</td>\n",
       "      <td>-0.094810</td>\n",
       "      <td>-0.088487</td>\n",
       "      <td>-0.031174</td>\n",
       "      <td>-0.016402</td>\n",
       "      <td>-0.020010</td>\n",
       "      <td>0.065580</td>\n",
       "      <td>1.000000</td>\n",
       "      <td>0.023971</td>\n",
       "      <td>-0.091598</td>\n",
       "      <td>0.002512</td>\n",
       "    </tr>\n",
       "    <tr>\n",
       "      <th>Credit_History</th>\n",
       "      <td>0.019882</td>\n",
       "      <td>-0.005177</td>\n",
       "      <td>-0.029681</td>\n",
       "      <td>-0.083070</td>\n",
       "      <td>-0.003643</td>\n",
       "      <td>0.048375</td>\n",
       "      <td>-0.036084</td>\n",
       "      <td>-0.014301</td>\n",
       "      <td>0.023971</td>\n",
       "      <td>1.000000</td>\n",
       "      <td>-0.009898</td>\n",
       "      <td>0.513319</td>\n",
       "    </tr>\n",
       "    <tr>\n",
       "      <th>Property_Area</th>\n",
       "      <td>-0.025752</td>\n",
       "      <td>0.004257</td>\n",
       "      <td>-0.000244</td>\n",
       "      <td>-0.065243</td>\n",
       "      <td>-0.030860</td>\n",
       "      <td>-0.065143</td>\n",
       "      <td>-0.082223</td>\n",
       "      <td>-0.084076</td>\n",
       "      <td>-0.091598</td>\n",
       "      <td>-0.009898</td>\n",
       "      <td>1.000000</td>\n",
       "      <td>0.032112</td>\n",
       "    </tr>\n",
       "    <tr>\n",
       "      <th>Loan_Status</th>\n",
       "      <td>0.017987</td>\n",
       "      <td>0.091478</td>\n",
       "      <td>0.010118</td>\n",
       "      <td>-0.085884</td>\n",
       "      <td>-0.003700</td>\n",
       "      <td>-0.003123</td>\n",
       "      <td>0.007812</td>\n",
       "      <td>-0.049717</td>\n",
       "      <td>0.002512</td>\n",
       "      <td>0.513319</td>\n",
       "      <td>0.032112</td>\n",
       "      <td>1.000000</td>\n",
       "    </tr>\n",
       "  </tbody>\n",
       "</table>\n",
       "</div>"
      ],
      "text/plain": [
       "                     Gender   Married  Dependents  Education  Self_Employed  \\\n",
       "Gender             1.000000  0.364569    0.172914   0.045364      -0.000525   \n",
       "Married            0.364569  1.000000    0.334216   0.012304       0.004489   \n",
       "Dependents         0.172914  0.334216    1.000000   0.055752       0.056798   \n",
       "Education          0.045364  0.012304    0.055752   1.000000      -0.010383   \n",
       "Self_Employed     -0.000525  0.004489    0.056798  -0.010383       1.000000   \n",
       "ApplicantIncome    0.074223  0.010497    0.137382  -0.190873       0.199142   \n",
       "CoapplicantIncome  0.180774  0.207905   -0.065140  -0.052724      -0.036033   \n",
       "LoanAmount         0.151163  0.184857    0.161153  -0.172249       0.117717   \n",
       "Loan_Amount_Term  -0.069368 -0.087657   -0.094810  -0.088487      -0.031174   \n",
       "Credit_History     0.019882 -0.005177   -0.029681  -0.083070      -0.003643   \n",
       "Property_Area     -0.025752  0.004257   -0.000244  -0.065243      -0.030860   \n",
       "Loan_Status        0.017987  0.091478    0.010118  -0.085884      -0.003700   \n",
       "\n",
       "                   ApplicantIncome  CoapplicantIncome  LoanAmount  \\\n",
       "Gender                    0.074223           0.180774    0.151163   \n",
       "Married                   0.010497           0.207905    0.184857   \n",
       "Dependents                0.137382          -0.065140    0.161153   \n",
       "Education                -0.190873          -0.052724   -0.172249   \n",
       "Self_Employed             0.199142          -0.036033    0.117717   \n",
       "ApplicantIncome           1.000000          -0.248763    0.525324   \n",
       "CoapplicantIncome        -0.248763           1.000000    0.264136   \n",
       "LoanAmount                0.525324           0.264136    1.000000   \n",
       "Loan_Amount_Term         -0.016402          -0.020010    0.065580   \n",
       "Credit_History            0.048375          -0.036084   -0.014301   \n",
       "Property_Area            -0.065143          -0.082223   -0.084076   \n",
       "Loan_Status              -0.003123           0.007812   -0.049717   \n",
       "\n",
       "                   Loan_Amount_Term  Credit_History  Property_Area  \\\n",
       "Gender                    -0.069368        0.019882      -0.025752   \n",
       "Married                   -0.087657       -0.005177       0.004257   \n",
       "Dependents                -0.094810       -0.029681      -0.000244   \n",
       "Education                 -0.088487       -0.083070      -0.065243   \n",
       "Self_Employed             -0.031174       -0.003643      -0.030860   \n",
       "ApplicantIncome           -0.016402        0.048375      -0.065143   \n",
       "CoapplicantIncome         -0.020010       -0.036084      -0.082223   \n",
       "LoanAmount                 0.065580       -0.014301      -0.084076   \n",
       "Loan_Amount_Term           1.000000        0.023971      -0.091598   \n",
       "Credit_History             0.023971        1.000000      -0.009898   \n",
       "Property_Area             -0.091598       -0.009898       1.000000   \n",
       "Loan_Status                0.002512        0.513319       0.032112   \n",
       "\n",
       "                   Loan_Status  \n",
       "Gender                0.017987  \n",
       "Married               0.091478  \n",
       "Dependents            0.010118  \n",
       "Education            -0.085884  \n",
       "Self_Employed        -0.003700  \n",
       "ApplicantIncome      -0.003123  \n",
       "CoapplicantIncome     0.007812  \n",
       "LoanAmount           -0.049717  \n",
       "Loan_Amount_Term      0.002512  \n",
       "Credit_History        0.513319  \n",
       "Property_Area         0.032112  \n",
       "Loan_Status           1.000000  "
      ]
     },
     "execution_count": 33,
     "metadata": {},
     "output_type": "execute_result"
    }
   ],
   "source": [
    "fraud.corr()"
   ]
  },
  {
   "cell_type": "markdown",
   "metadata": {},
   "source": [
    "#observations-\n",
    "1. Loan_status is positively corr with 'gender','married status','dependents','property area',credit_history','loan_amount_term', and negatively corr with all other columns.."
   ]
  },
  {
   "cell_type": "markdown",
   "metadata": {},
   "source": [
    "##Further Analysis of the data"
   ]
  },
  {
   "cell_type": "code",
   "execution_count": 34,
   "metadata": {},
   "outputs": [
    {
     "data": {
      "text/html": [
       "<div>\n",
       "<style scoped>\n",
       "    .dataframe tbody tr th:only-of-type {\n",
       "        vertical-align: middle;\n",
       "    }\n",
       "\n",
       "    .dataframe tbody tr th {\n",
       "        vertical-align: top;\n",
       "    }\n",
       "\n",
       "    .dataframe thead th {\n",
       "        text-align: right;\n",
       "    }\n",
       "</style>\n",
       "<table border=\"1\" class=\"dataframe\">\n",
       "  <thead>\n",
       "    <tr style=\"text-align: right;\">\n",
       "      <th></th>\n",
       "      <th>Gender</th>\n",
       "      <th>Married</th>\n",
       "      <th>Dependents</th>\n",
       "      <th>Education</th>\n",
       "      <th>Self_Employed</th>\n",
       "      <th>ApplicantIncome</th>\n",
       "      <th>CoapplicantIncome</th>\n",
       "      <th>LoanAmount</th>\n",
       "      <th>Loan_Amount_Term</th>\n",
       "      <th>Credit_History</th>\n",
       "      <th>Property_Area</th>\n",
       "    </tr>\n",
       "    <tr>\n",
       "      <th>Loan_Status</th>\n",
       "      <th></th>\n",
       "      <th></th>\n",
       "      <th></th>\n",
       "      <th></th>\n",
       "      <th></th>\n",
       "      <th></th>\n",
       "      <th></th>\n",
       "      <th></th>\n",
       "      <th></th>\n",
       "      <th></th>\n",
       "      <th></th>\n",
       "    </tr>\n",
       "  </thead>\n",
       "  <tbody>\n",
       "    <tr>\n",
       "      <th>0</th>\n",
       "      <td>0.807292</td>\n",
       "      <td>0.588542</td>\n",
       "      <td>0.729167</td>\n",
       "      <td>0.270833</td>\n",
       "      <td>0.135417</td>\n",
       "      <td>247.781250</td>\n",
       "      <td>77.812500</td>\n",
       "      <td>91.083333</td>\n",
       "      <td>8.520833</td>\n",
       "      <td>1.078125</td>\n",
       "      <td>1.000000</td>\n",
       "    </tr>\n",
       "    <tr>\n",
       "      <th>1</th>\n",
       "      <td>0.822275</td>\n",
       "      <td>0.682464</td>\n",
       "      <td>0.751185</td>\n",
       "      <td>0.194313</td>\n",
       "      <td>0.132701</td>\n",
       "      <td>246.815166</td>\n",
       "      <td>79.372038</td>\n",
       "      <td>86.189573</td>\n",
       "      <td>8.528436</td>\n",
       "      <td>1.879147</td>\n",
       "      <td>1.054502</td>\n",
       "    </tr>\n",
       "  </tbody>\n",
       "</table>\n",
       "</div>"
      ],
      "text/plain": [
       "               Gender   Married  Dependents  Education  Self_Employed  \\\n",
       "Loan_Status                                                             \n",
       "0            0.807292  0.588542    0.729167   0.270833       0.135417   \n",
       "1            0.822275  0.682464    0.751185   0.194313       0.132701   \n",
       "\n",
       "             ApplicantIncome  CoapplicantIncome  LoanAmount  Loan_Amount_Term  \\\n",
       "Loan_Status                                                                     \n",
       "0                 247.781250          77.812500   91.083333          8.520833   \n",
       "1                 246.815166          79.372038   86.189573          8.528436   \n",
       "\n",
       "             Credit_History  Property_Area  \n",
       "Loan_Status                                 \n",
       "0                  1.078125       1.000000  \n",
       "1                  1.879147       1.054502  "
      ]
     },
     "execution_count": 34,
     "metadata": {},
     "output_type": "execute_result"
    }
   ],
   "source": [
    "fraud.groupby('Loan_Status').mean()\n",
    "#1=yes, 0=No"
   ]
  },
  {
   "cell_type": "markdown",
   "metadata": {},
   "source": [
    "observations-\n",
    "1. Loan_Status has no affect on gender, self_employed, applicantincome, loan_amount_term.\n",
    "2. but married will get loan as compared to un-married, dependents will get easily as compared to others, having some credit_history will get easily."
   ]
  },
  {
   "cell_type": "code",
   "execution_count": 35,
   "metadata": {},
   "outputs": [
    {
     "data": {
      "text/html": [
       "<div>\n",
       "<style scoped>\n",
       "    .dataframe tbody tr th:only-of-type {\n",
       "        vertical-align: middle;\n",
       "    }\n",
       "\n",
       "    .dataframe tbody tr th {\n",
       "        vertical-align: top;\n",
       "    }\n",
       "\n",
       "    .dataframe thead th {\n",
       "        text-align: right;\n",
       "    }\n",
       "</style>\n",
       "<table border=\"1\" class=\"dataframe\">\n",
       "  <thead>\n",
       "    <tr style=\"text-align: right;\">\n",
       "      <th></th>\n",
       "      <th>Gender</th>\n",
       "      <th>Married</th>\n",
       "    </tr>\n",
       "    <tr>\n",
       "      <th>Credit_History</th>\n",
       "      <th></th>\n",
       "      <th></th>\n",
       "    </tr>\n",
       "  </thead>\n",
       "  <tbody>\n",
       "    <tr>\n",
       "      <th>0</th>\n",
       "      <td>0.808989</td>\n",
       "      <td>0.640449</td>\n",
       "    </tr>\n",
       "    <tr>\n",
       "      <th>1</th>\n",
       "      <td>0.780000</td>\n",
       "      <td>0.720000</td>\n",
       "    </tr>\n",
       "    <tr>\n",
       "      <th>2</th>\n",
       "      <td>0.823158</td>\n",
       "      <td>0.648421</td>\n",
       "    </tr>\n",
       "  </tbody>\n",
       "</table>\n",
       "</div>"
      ],
      "text/plain": [
       "                  Gender   Married\n",
       "Credit_History                    \n",
       "0               0.808989  0.640449\n",
       "1               0.780000  0.720000\n",
       "2               0.823158  0.648421"
      ]
     },
     "execution_count": 35,
     "metadata": {},
     "output_type": "execute_result"
    }
   ],
   "source": [
    "fraud.pivot_table(values=('Gender','Married'), index='Credit_History')"
   ]
  },
  {
   "cell_type": "markdown",
   "metadata": {},
   "source": [
    "##Removing outliers and skewness"
   ]
  },
  {
   "cell_type": "code",
   "execution_count": 36,
   "metadata": {},
   "outputs": [
    {
     "name": "stdout",
     "output_type": "stream",
     "text": [
      "The shape before removing outliers and skewness (614, 12)\n",
      "skewness before removing outliers\n",
      "Gender              -1.648795\n",
      "Married             -0.644850\n",
      "Dependents           1.015551\n",
      "Education            1.367622\n",
      "Self_Employed        2.159796\n",
      "ApplicantIncome      0.040993\n",
      "CoapplicantIncome    0.780870\n",
      "LoanAmount           0.458715\n",
      "Loan_Amount_Term    -2.907201\n",
      "Credit_History      -1.606726\n",
      "Property_Area       -0.066196\n",
      "Loan_Status         -0.809998\n",
      "dtype: float64\n",
      "new shape after removing outliers (602, 12)\n",
      "skewness after removing outliers\n",
      "Gender              -1.646147\n",
      "Married             -0.643625\n",
      "Dependents           1.027516\n",
      "Education            1.372199\n",
      "Self_Employed        2.189792\n",
      "ApplicantIncome      0.037182\n",
      "CoapplicantIncome    0.772613\n",
      "LoanAmount           0.471894\n",
      "Loan_Amount_Term    -2.668469\n",
      "Credit_History      -1.590563\n",
      "Property_Area       -0.058757\n",
      "Loan_Status         -0.803760\n",
      "dtype: float64\n"
     ]
    }
   ],
   "source": [
    "#remove outliers and skewness\n",
    "print(\"The shape before removing outliers and skewness\", fraud.shape)\n",
    "\n",
    "print(\"skewness before removing outliers\")\n",
    "\n",
    "print(fraud.skew())\n",
    "\n",
    "from scipy.stats import zscore\n",
    "z=np.abs(zscore(fraud))\n",
    "fraud=fraud[(z<3).all(axis=1)]\n",
    "print(\"new shape after removing outliers\", fraud.shape)\n",
    "print(\"skewness after removing outliers\")\n",
    "print(fraud.skew())"
   ]
  },
  {
   "cell_type": "code",
   "execution_count": 37,
   "metadata": {},
   "outputs": [],
   "source": [
    "#reducing skewness using sqrt function\n",
    "for col in fraud.columns:\n",
    "    if fraud.skew().loc[col]>0.55:\n",
    "        fraud[col]=np.sqrt(fraud[col])"
   ]
  },
  {
   "cell_type": "code",
   "execution_count": 38,
   "metadata": {},
   "outputs": [
    {
     "data": {
      "text/plain": [
       "Gender              -1.646147\n",
       "Married             -0.643625\n",
       "Dependents           0.581356\n",
       "Education            1.372199\n",
       "Self_Employed        2.189792\n",
       "ApplicantIncome      0.037182\n",
       "CoapplicantIncome    0.256659\n",
       "LoanAmount           0.471894\n",
       "Loan_Amount_Term    -2.668469\n",
       "Credit_History      -1.590563\n",
       "Property_Area       -0.058757\n",
       "Loan_Status         -0.803760\n",
       "dtype: float64"
      ]
     },
     "execution_count": 38,
     "metadata": {},
     "output_type": "execute_result"
    }
   ],
   "source": [
    "fraud.skew()"
   ]
  },
  {
   "cell_type": "code",
   "execution_count": 39,
   "metadata": {},
   "outputs": [],
   "source": [
    "#further little reducing skewness using log1p function\n",
    "for col in fraud.columns:\n",
    "    if fraud.skew().loc[col]>0.55:\n",
    "        fraud[col]=np.log1p(fraud[col])"
   ]
  },
  {
   "cell_type": "code",
   "execution_count": 40,
   "metadata": {},
   "outputs": [
    {
     "data": {
      "text/plain": [
       "Gender              -1.646147\n",
       "Married             -0.643625\n",
       "Dependents           0.470884\n",
       "Education            1.372199\n",
       "Self_Employed        2.189792\n",
       "ApplicantIncome      0.037182\n",
       "CoapplicantIncome    0.256659\n",
       "LoanAmount           0.471894\n",
       "Loan_Amount_Term    -2.668469\n",
       "Credit_History      -1.590563\n",
       "Property_Area       -0.058757\n",
       "Loan_Status         -0.803760\n",
       "dtype: float64"
      ]
     },
     "execution_count": 40,
     "metadata": {},
     "output_type": "execute_result"
    }
   ],
   "source": [
    "fraud.skew()"
   ]
  },
  {
   "cell_type": "markdown",
   "metadata": {},
   "source": [
    "##Splitting the data into target and input"
   ]
  },
  {
   "cell_type": "code",
   "execution_count": 41,
   "metadata": {},
   "outputs": [
    {
     "data": {
      "text/html": [
       "<div>\n",
       "<style scoped>\n",
       "    .dataframe tbody tr th:only-of-type {\n",
       "        vertical-align: middle;\n",
       "    }\n",
       "\n",
       "    .dataframe tbody tr th {\n",
       "        vertical-align: top;\n",
       "    }\n",
       "\n",
       "    .dataframe thead th {\n",
       "        text-align: right;\n",
       "    }\n",
       "</style>\n",
       "<table border=\"1\" class=\"dataframe\">\n",
       "  <thead>\n",
       "    <tr style=\"text-align: right;\">\n",
       "      <th></th>\n",
       "      <th>Loan_Status</th>\n",
       "    </tr>\n",
       "  </thead>\n",
       "  <tbody>\n",
       "    <tr>\n",
       "      <th>0</th>\n",
       "      <td>1</td>\n",
       "    </tr>\n",
       "    <tr>\n",
       "      <th>1</th>\n",
       "      <td>0</td>\n",
       "    </tr>\n",
       "    <tr>\n",
       "      <th>2</th>\n",
       "      <td>1</td>\n",
       "    </tr>\n",
       "    <tr>\n",
       "      <th>3</th>\n",
       "      <td>1</td>\n",
       "    </tr>\n",
       "    <tr>\n",
       "      <th>4</th>\n",
       "      <td>1</td>\n",
       "    </tr>\n",
       "  </tbody>\n",
       "</table>\n",
       "</div>"
      ],
      "text/plain": [
       "   Loan_Status\n",
       "0            1\n",
       "1            0\n",
       "2            1\n",
       "3            1\n",
       "4            1"
      ]
     },
     "execution_count": 41,
     "metadata": {},
     "output_type": "execute_result"
    }
   ],
   "source": [
    "x=fraud.drop('Loan_Status', axis=1)\n",
    "x.head()\n",
    "y=pd.DataFrame(fraud.Loan_Status)\n",
    "y.head()"
   ]
  },
  {
   "cell_type": "code",
   "execution_count": 42,
   "metadata": {},
   "outputs": [
    {
     "data": {
      "text/html": [
       "<div>\n",
       "<style scoped>\n",
       "    .dataframe tbody tr th:only-of-type {\n",
       "        vertical-align: middle;\n",
       "    }\n",
       "\n",
       "    .dataframe tbody tr th {\n",
       "        vertical-align: top;\n",
       "    }\n",
       "\n",
       "    .dataframe thead th {\n",
       "        text-align: right;\n",
       "    }\n",
       "</style>\n",
       "<table border=\"1\" class=\"dataframe\">\n",
       "  <thead>\n",
       "    <tr style=\"text-align: right;\">\n",
       "      <th></th>\n",
       "      <th>Gender</th>\n",
       "      <th>Married</th>\n",
       "      <th>Dependents</th>\n",
       "      <th>Education</th>\n",
       "      <th>Self_Employed</th>\n",
       "      <th>ApplicantIncome</th>\n",
       "      <th>CoapplicantIncome</th>\n",
       "      <th>LoanAmount</th>\n",
       "      <th>Loan_Amount_Term</th>\n",
       "      <th>Credit_History</th>\n",
       "      <th>Property_Area</th>\n",
       "    </tr>\n",
       "  </thead>\n",
       "  <tbody>\n",
       "    <tr>\n",
       "      <th>0</th>\n",
       "      <td>1</td>\n",
       "      <td>0</td>\n",
       "      <td>0.000000</td>\n",
       "      <td>0.000000</td>\n",
       "      <td>0.000000</td>\n",
       "      <td>376</td>\n",
       "      <td>0.000000</td>\n",
       "      <td>100</td>\n",
       "      <td>9</td>\n",
       "      <td>2</td>\n",
       "      <td>2</td>\n",
       "    </tr>\n",
       "    <tr>\n",
       "      <th>1</th>\n",
       "      <td>1</td>\n",
       "      <td>1</td>\n",
       "      <td>0.693147</td>\n",
       "      <td>0.000000</td>\n",
       "      <td>0.000000</td>\n",
       "      <td>306</td>\n",
       "      <td>7.745967</td>\n",
       "      <td>81</td>\n",
       "      <td>9</td>\n",
       "      <td>2</td>\n",
       "      <td>0</td>\n",
       "    </tr>\n",
       "    <tr>\n",
       "      <th>2</th>\n",
       "      <td>1</td>\n",
       "      <td>1</td>\n",
       "      <td>0.000000</td>\n",
       "      <td>0.000000</td>\n",
       "      <td>0.693147</td>\n",
       "      <td>139</td>\n",
       "      <td>0.000000</td>\n",
       "      <td>26</td>\n",
       "      <td>9</td>\n",
       "      <td>2</td>\n",
       "      <td>2</td>\n",
       "    </tr>\n",
       "    <tr>\n",
       "      <th>3</th>\n",
       "      <td>1</td>\n",
       "      <td>1</td>\n",
       "      <td>0.000000</td>\n",
       "      <td>0.693147</td>\n",
       "      <td>0.000000</td>\n",
       "      <td>90</td>\n",
       "      <td>12.649111</td>\n",
       "      <td>73</td>\n",
       "      <td>9</td>\n",
       "      <td>2</td>\n",
       "      <td>2</td>\n",
       "    </tr>\n",
       "    <tr>\n",
       "      <th>4</th>\n",
       "      <td>1</td>\n",
       "      <td>0</td>\n",
       "      <td>0.000000</td>\n",
       "      <td>0.000000</td>\n",
       "      <td>0.000000</td>\n",
       "      <td>381</td>\n",
       "      <td>0.000000</td>\n",
       "      <td>94</td>\n",
       "      <td>9</td>\n",
       "      <td>2</td>\n",
       "      <td>2</td>\n",
       "    </tr>\n",
       "  </tbody>\n",
       "</table>\n",
       "</div>"
      ],
      "text/plain": [
       "   Gender  Married  Dependents  Education  Self_Employed  ApplicantIncome  \\\n",
       "0       1        0    0.000000   0.000000       0.000000              376   \n",
       "1       1        1    0.693147   0.000000       0.000000              306   \n",
       "2       1        1    0.000000   0.000000       0.693147              139   \n",
       "3       1        1    0.000000   0.693147       0.000000               90   \n",
       "4       1        0    0.000000   0.000000       0.000000              381   \n",
       "\n",
       "   CoapplicantIncome  LoanAmount  Loan_Amount_Term  Credit_History  \\\n",
       "0           0.000000         100                 9               2   \n",
       "1           7.745967          81                 9               2   \n",
       "2           0.000000          26                 9               2   \n",
       "3          12.649111          73                 9               2   \n",
       "4           0.000000          94                 9               2   \n",
       "\n",
       "   Property_Area  \n",
       "0              2  \n",
       "1              0  \n",
       "2              2  \n",
       "3              2  \n",
       "4              2  "
      ]
     },
     "execution_count": 42,
     "metadata": {},
     "output_type": "execute_result"
    }
   ],
   "source": [
    "x.head()"
   ]
  },
  {
   "cell_type": "code",
   "execution_count": 43,
   "metadata": {},
   "outputs": [
    {
     "data": {
      "text/html": [
       "<div>\n",
       "<style scoped>\n",
       "    .dataframe tbody tr th:only-of-type {\n",
       "        vertical-align: middle;\n",
       "    }\n",
       "\n",
       "    .dataframe tbody tr th {\n",
       "        vertical-align: top;\n",
       "    }\n",
       "\n",
       "    .dataframe thead th {\n",
       "        text-align: right;\n",
       "    }\n",
       "</style>\n",
       "<table border=\"1\" class=\"dataframe\">\n",
       "  <thead>\n",
       "    <tr style=\"text-align: right;\">\n",
       "      <th></th>\n",
       "      <th>0</th>\n",
       "      <th>1</th>\n",
       "      <th>2</th>\n",
       "      <th>3</th>\n",
       "      <th>4</th>\n",
       "      <th>5</th>\n",
       "      <th>6</th>\n",
       "      <th>7</th>\n",
       "      <th>8</th>\n",
       "      <th>9</th>\n",
       "      <th>10</th>\n",
       "    </tr>\n",
       "  </thead>\n",
       "  <tbody>\n",
       "    <tr>\n",
       "      <th>0</th>\n",
       "      <td>1.0</td>\n",
       "      <td>0.0</td>\n",
       "      <td>0.000000</td>\n",
       "      <td>0.0</td>\n",
       "      <td>0.0</td>\n",
       "      <td>0.746032</td>\n",
       "      <td>0.000000</td>\n",
       "      <td>0.492611</td>\n",
       "      <td>0.8</td>\n",
       "      <td>1.0</td>\n",
       "      <td>1.0</td>\n",
       "    </tr>\n",
       "    <tr>\n",
       "      <th>1</th>\n",
       "      <td>1.0</td>\n",
       "      <td>1.0</td>\n",
       "      <td>0.689663</td>\n",
       "      <td>0.0</td>\n",
       "      <td>0.0</td>\n",
       "      <td>0.607143</td>\n",
       "      <td>0.458029</td>\n",
       "      <td>0.399015</td>\n",
       "      <td>0.8</td>\n",
       "      <td>1.0</td>\n",
       "      <td>0.0</td>\n",
       "    </tr>\n",
       "    <tr>\n",
       "      <th>2</th>\n",
       "      <td>1.0</td>\n",
       "      <td>1.0</td>\n",
       "      <td>0.000000</td>\n",
       "      <td>0.0</td>\n",
       "      <td>1.0</td>\n",
       "      <td>0.275794</td>\n",
       "      <td>0.000000</td>\n",
       "      <td>0.128079</td>\n",
       "      <td>0.8</td>\n",
       "      <td>1.0</td>\n",
       "      <td>1.0</td>\n",
       "    </tr>\n",
       "    <tr>\n",
       "      <th>3</th>\n",
       "      <td>1.0</td>\n",
       "      <td>1.0</td>\n",
       "      <td>0.000000</td>\n",
       "      <td>1.0</td>\n",
       "      <td>0.0</td>\n",
       "      <td>0.178571</td>\n",
       "      <td>0.747958</td>\n",
       "      <td>0.359606</td>\n",
       "      <td>0.8</td>\n",
       "      <td>1.0</td>\n",
       "      <td>1.0</td>\n",
       "    </tr>\n",
       "    <tr>\n",
       "      <th>4</th>\n",
       "      <td>1.0</td>\n",
       "      <td>0.0</td>\n",
       "      <td>0.000000</td>\n",
       "      <td>0.0</td>\n",
       "      <td>0.0</td>\n",
       "      <td>0.755952</td>\n",
       "      <td>0.000000</td>\n",
       "      <td>0.463054</td>\n",
       "      <td>0.8</td>\n",
       "      <td>1.0</td>\n",
       "      <td>1.0</td>\n",
       "    </tr>\n",
       "  </tbody>\n",
       "</table>\n",
       "</div>"
      ],
      "text/plain": [
       "     0    1         2    3    4         5         6         7    8    9   10\n",
       "0  1.0  0.0  0.000000  0.0  0.0  0.746032  0.000000  0.492611  0.8  1.0  1.0\n",
       "1  1.0  1.0  0.689663  0.0  0.0  0.607143  0.458029  0.399015  0.8  1.0  0.0\n",
       "2  1.0  1.0  0.000000  0.0  1.0  0.275794  0.000000  0.128079  0.8  1.0  1.0\n",
       "3  1.0  1.0  0.000000  1.0  0.0  0.178571  0.747958  0.359606  0.8  1.0  1.0\n",
       "4  1.0  0.0  0.000000  0.0  0.0  0.755952  0.000000  0.463054  0.8  1.0  1.0"
      ]
     },
     "execution_count": 43,
     "metadata": {},
     "output_type": "execute_result"
    }
   ],
   "source": [
    "from sklearn.preprocessing import MinMaxScaler\n",
    "scaler=MinMaxScaler()\n",
    "x=pd.DataFrame(scaler.fit_transform(x))\n",
    "x.head()"
   ]
  },
  {
   "cell_type": "markdown",
   "metadata": {},
   "source": [
    "##Importing necessary libraries"
   ]
  },
  {
   "cell_type": "raw",
   "metadata": {},
   "source": [
    "#since the target is binary, the algorithm of logistic regression and classification can be used"
   ]
  },
  {
   "cell_type": "code",
   "execution_count": 44,
   "metadata": {},
   "outputs": [],
   "source": [
    "from sklearn.model_selection import train_test_split, cross_val_score\n",
    "from sklearn.linear_model import LogisticRegression\n",
    "from sklearn.neighbors import KNeighborsClassifier\n",
    "from sklearn.tree import DecisionTreeClassifier\n",
    "from sklearn.svm import SVC\n",
    "from sklearn.naive_bayes import GaussianNB\n",
    "from sklearn.metrics import accuracy_score, confusion_matrix, classification_report, roc_auc_score, roc_curve, auc"
   ]
  },
  {
   "cell_type": "markdown",
   "metadata": {},
   "source": [
    "##Finding out the best random_state"
   ]
  },
  {
   "cell_type": "code",
   "execution_count": 45,
   "metadata": {},
   "outputs": [],
   "source": [
    "def max_accuracy(reg,x,y):\n",
    "    max_acc_score=0\n",
    "    for r_state in range(42,101):\n",
    "        train_x,test_x,train_y,test_y=train_test_split(x,y,random_state=r_state,test_size=0.20)\n",
    "        reg.fit(train_x,train_y)\n",
    "        pred=reg.predict(test_x)\n",
    "        acc_score=accuracy_score(test_y,pred)\n",
    "        print(\"The accuracy score achieved at r state\", r_state, \"is\", acc_score)\n",
    "        if acc_score>max_acc_score:\n",
    "            max_acc_score=acc_score\n",
    "            final_r_state=r_state\n",
    "    print(\"The maximum accuracy\", max_acc_score, \"is achieved at random state\", final_r_state)\n",
    "    return max_acc_score"
   ]
  },
  {
   "cell_type": "code",
   "execution_count": 46,
   "metadata": {},
   "outputs": [
    {
     "name": "stdout",
     "output_type": "stream",
     "text": [
      "The accuracy score achieved at r state 42 is 0.8429752066115702\n",
      "The accuracy score achieved at r state 43 is 0.8264462809917356\n",
      "The accuracy score achieved at r state 44 is 0.8181818181818182\n",
      "The accuracy score achieved at r state 45 is 0.743801652892562\n",
      "The accuracy score achieved at r state 46 is 0.8016528925619835\n",
      "The accuracy score achieved at r state 47 is 0.7355371900826446\n",
      "The accuracy score achieved at r state 48 is 0.7933884297520661\n",
      "The accuracy score achieved at r state 49 is 0.7520661157024794\n",
      "The accuracy score achieved at r state 50 is 0.8016528925619835\n",
      "The accuracy score achieved at r state 51 is 0.7603305785123967\n",
      "The accuracy score achieved at r state 52 is 0.743801652892562\n",
      "The accuracy score achieved at r state 53 is 0.7933884297520661\n",
      "The accuracy score achieved at r state 54 is 0.8264462809917356\n",
      "The accuracy score achieved at r state 55 is 0.8264462809917356\n",
      "The accuracy score achieved at r state 56 is 0.8099173553719008\n",
      "The accuracy score achieved at r state 57 is 0.7107438016528925\n",
      "The accuracy score achieved at r state 58 is 0.8512396694214877\n",
      "The accuracy score achieved at r state 59 is 0.7603305785123967\n",
      "The accuracy score achieved at r state 60 is 0.8016528925619835\n",
      "The accuracy score achieved at r state 61 is 0.743801652892562\n",
      "The accuracy score achieved at r state 62 is 0.8264462809917356\n",
      "The accuracy score achieved at r state 63 is 0.7851239669421488\n",
      "The accuracy score achieved at r state 64 is 0.8181818181818182\n",
      "The accuracy score achieved at r state 65 is 0.8347107438016529\n",
      "The accuracy score achieved at r state 66 is 0.8016528925619835\n",
      "The accuracy score achieved at r state 67 is 0.7603305785123967\n",
      "The accuracy score achieved at r state 68 is 0.8099173553719008\n",
      "The accuracy score achieved at r state 69 is 0.8099173553719008\n",
      "The accuracy score achieved at r state 70 is 0.7603305785123967\n",
      "The accuracy score achieved at r state 71 is 0.7355371900826446\n",
      "The accuracy score achieved at r state 72 is 0.7355371900826446\n",
      "The accuracy score achieved at r state 73 is 0.743801652892562\n",
      "The accuracy score achieved at r state 74 is 0.8264462809917356\n",
      "The accuracy score achieved at r state 75 is 0.7520661157024794\n",
      "The accuracy score achieved at r state 76 is 0.768595041322314\n",
      "The accuracy score achieved at r state 77 is 0.7603305785123967\n",
      "The accuracy score achieved at r state 78 is 0.8016528925619835\n",
      "The accuracy score achieved at r state 79 is 0.8099173553719008\n",
      "The accuracy score achieved at r state 80 is 0.8264462809917356\n",
      "The accuracy score achieved at r state 81 is 0.7768595041322314\n",
      "The accuracy score achieved at r state 82 is 0.8429752066115702\n",
      "The accuracy score achieved at r state 83 is 0.8181818181818182\n",
      "The accuracy score achieved at r state 84 is 0.8347107438016529\n",
      "The accuracy score achieved at r state 85 is 0.7520661157024794\n",
      "The accuracy score achieved at r state 86 is 0.7520661157024794\n",
      "The accuracy score achieved at r state 87 is 0.768595041322314\n",
      "The accuracy score achieved at r state 88 is 0.8264462809917356\n",
      "The accuracy score achieved at r state 89 is 0.8181818181818182\n",
      "The accuracy score achieved at r state 90 is 0.71900826446281\n",
      "The accuracy score achieved at r state 91 is 0.7933884297520661\n",
      "The accuracy score achieved at r state 92 is 0.7520661157024794\n",
      "The accuracy score achieved at r state 93 is 0.7355371900826446\n",
      "The accuracy score achieved at r state 94 is 0.743801652892562\n",
      "The accuracy score achieved at r state 95 is 0.8677685950413223\n",
      "The accuracy score achieved at r state 96 is 0.8016528925619835\n",
      "The accuracy score achieved at r state 97 is 0.7851239669421488\n",
      "The accuracy score achieved at r state 98 is 0.743801652892562\n",
      "The accuracy score achieved at r state 99 is 0.8016528925619835\n",
      "The accuracy score achieved at r state 100 is 0.8347107438016529\n",
      "The maximum accuracy 0.8677685950413223 is achieved at random state 95\n"
     ]
    },
    {
     "data": {
      "text/plain": [
       "0.8677685950413223"
      ]
     },
     "execution_count": 46,
     "metadata": {},
     "output_type": "execute_result"
    }
   ],
   "source": [
    "from sklearn.linear_model import LogisticRegression\n",
    "lg=LogisticRegression()\n",
    "max_accuracy(lg,x,y)"
   ]
  },
  {
   "cell_type": "code",
   "execution_count": 47,
   "metadata": {},
   "outputs": [
    {
     "name": "stdout",
     "output_type": "stream",
     "text": [
      "The cross val score is 0.79\n"
     ]
    }
   ],
   "source": [
    "#checking the cross val score\n",
    "score=cross_val_score(lg,x,y,cv=5).mean()\n",
    "print(\"The cross val score is\", round(score,2))"
   ]
  },
  {
   "cell_type": "code",
   "execution_count": 48,
   "metadata": {},
   "outputs": [],
   "source": [
    "#Finalising the train test data\n",
    "train_x,test_x,train_y,test_y=train_test_split(x,y,random_state=59,test_size=0.20)"
   ]
  },
  {
   "cell_type": "code",
   "execution_count": 49,
   "metadata": {},
   "outputs": [
    {
     "name": "stdout",
     "output_type": "stream",
     "text": [
      "(481, 11)\n",
      "(481, 1)\n",
      "(121, 11)\n",
      "(121, 1)\n"
     ]
    }
   ],
   "source": [
    "print(train_x.shape)\n",
    "print(train_y.shape)\n",
    "print(test_x.shape)\n",
    "print(test_y.shape)"
   ]
  },
  {
   "cell_type": "code",
   "execution_count": 50,
   "metadata": {},
   "outputs": [
    {
     "data": {
      "text/plain": [
       "{'criterion': 'entropy', 'splitter': 'best'}"
      ]
     },
     "execution_count": 50,
     "metadata": {},
     "output_type": "execute_result"
    }
   ],
   "source": [
    "#Let us use the other classification models and for the same let us use GridSearchCV to bring out the best parameters\n",
    "from sklearn.model_selection import GridSearchCV\n",
    "from sklearn.tree import DecisionTreeClassifier\n",
    "dt=DecisionTreeClassifier()\n",
    "parameters={'criterion':('gini','entropy'), 'splitter':('best','random')}\n",
    "gddt=GridSearchCV(dt,parameters)\n",
    "gddt.fit(train_x,train_y)\n",
    "gddt.best_params_"
   ]
  },
  {
   "cell_type": "code",
   "execution_count": 51,
   "metadata": {},
   "outputs": [
    {
     "data": {
      "text/plain": [
       "{'C': 1, 'kernel': 'rbf'}"
      ]
     },
     "execution_count": 51,
     "metadata": {},
     "output_type": "execute_result"
    }
   ],
   "source": [
    "from sklearn.svm import SVC\n",
    "sv=SVC()\n",
    "parameters={'C':(1,10),'kernel':('linear','poly','rbf')}\n",
    "gdsv=GridSearchCV(sv,parameters)\n",
    "gdsv.fit(train_x,train_y)\n",
    "gdsv.best_params_"
   ]
  },
  {
   "cell_type": "code",
   "execution_count": 52,
   "metadata": {},
   "outputs": [
    {
     "data": {
      "text/plain": [
       "{'algorithm': 'auto', 'n_neighbors': 15, 'weights': 'uniform'}"
      ]
     },
     "execution_count": 52,
     "metadata": {},
     "output_type": "execute_result"
    }
   ],
   "source": [
    "from sklearn.neighbors import KNeighborsClassifier\n",
    "kn=KNeighborsClassifier()\n",
    "parameters={'n_neighbors':(5,10,15,20),'weights':('uniform','distance'),'algorithm':('auto','ball_tree','kd_tree','brute')}\n",
    "gdkn=GridSearchCV(kn,parameters)\n",
    "gdkn.fit(train_x,train_y)\n",
    "gdkn.best_params_"
   ]
  },
  {
   "cell_type": "code",
   "execution_count": 53,
   "metadata": {},
   "outputs": [
    {
     "data": {
      "text/plain": [
       "{'penalty': 'l2'}"
      ]
     },
     "execution_count": 53,
     "metadata": {},
     "output_type": "execute_result"
    }
   ],
   "source": [
    "from sklearn.linear_model import LogisticRegression\n",
    "lg=LogisticRegression()\n",
    "parameters={'penalty':('l1','l2')}\n",
    "gd=GridSearchCV(lg,parameters)\n",
    "gd.fit(train_x,train_y)\n",
    "gd.best_params_"
   ]
  },
  {
   "cell_type": "code",
   "execution_count": 54,
   "metadata": {},
   "outputs": [
    {
     "name": "stdout",
     "output_type": "stream",
     "text": [
      "LogisticRegression(C=1.0, class_weight=None, dual=False, fit_intercept=True,\n",
      "                   intercept_scaling=1, l1_ratio=None, max_iter=100,\n",
      "                   multi_class='auto', n_jobs=None, penalty='l2',\n",
      "                   random_state=None, solver='lbfgs', tol=0.0001, verbose=0,\n",
      "                   warm_start=False)\n",
      "\n",
      "The accuracy score is  0.7603305785123967\n",
      "\n",
      "The cross val score is 0.7940633608815426\n",
      "\n",
      "              precision    recall  f1-score   support\n",
      "\n",
      "           0       0.73      0.31      0.43        36\n",
      "           1       0.76      0.95      0.85        85\n",
      "\n",
      "    accuracy                           0.76       121\n",
      "   macro avg       0.75      0.63      0.64       121\n",
      "weighted avg       0.75      0.76      0.72       121\n",
      "\n",
      "\n",
      "[[11 25]\n",
      " [ 4 81]]\n",
      "\n",
      "roc_auc_score 0.6292483660130719\n",
      "\n",
      "\n",
      "AxesSubplot(0.125,0.808774;0.62x0.0712264)\n",
      "\n",
      "\n",
      "\n",
      "\n",
      "KNeighborsClassifier(algorithm='auto', leaf_size=30, metric='minkowski',\n",
      "                     metric_params=None, n_jobs=None, n_neighbors=15, p=2,\n",
      "                     weights='uniform')\n",
      "\n",
      "The accuracy score is  0.7851239669421488\n",
      "\n",
      "The cross val score is 0.7940909090909092\n",
      "\n",
      "              precision    recall  f1-score   support\n",
      "\n",
      "           0       0.92      0.31      0.46        36\n",
      "           1       0.77      0.99      0.87        85\n",
      "\n",
      "    accuracy                           0.79       121\n",
      "   macro avg       0.84      0.65      0.66       121\n",
      "weighted avg       0.81      0.79      0.74       121\n",
      "\n",
      "\n",
      "[[11 25]\n",
      " [ 1 84]]\n",
      "\n",
      "roc_auc_score 0.6468954248366013\n",
      "\n",
      "\n",
      "AxesSubplot(0.125,0.808774;0.62x0.0712264)\n",
      "\n",
      "\n",
      "\n",
      "\n",
      "DecisionTreeClassifier(ccp_alpha=0.0, class_weight=None, criterion='entropy',\n",
      "                       max_depth=None, max_features=None, max_leaf_nodes=None,\n",
      "                       min_impurity_decrease=0.0, min_impurity_split=None,\n",
      "                       min_samples_leaf=1, min_samples_split=2,\n",
      "                       min_weight_fraction_leaf=0.0, presort='deprecated',\n",
      "                       random_state=None, splitter='random')\n",
      "\n",
      "The accuracy score is  0.71900826446281\n",
      "\n",
      "The cross val score is 0.7060881542699725\n",
      "\n",
      "              precision    recall  f1-score   support\n",
      "\n",
      "           0       0.53      0.58      0.55        36\n",
      "           1       0.81      0.78      0.80        85\n",
      "\n",
      "    accuracy                           0.72       121\n",
      "   macro avg       0.67      0.68      0.67       121\n",
      "weighted avg       0.73      0.72      0.72       121\n",
      "\n",
      "\n",
      "[[21 15]\n",
      " [19 66]]\n",
      "\n",
      "roc_auc_score 0.6799019607843136\n",
      "\n",
      "\n",
      "AxesSubplot(0.125,0.808774;0.62x0.0712264)\n",
      "\n",
      "\n",
      "\n",
      "\n",
      "SVC(C=1, break_ties=False, cache_size=200, class_weight=None, coef0=0.0,\n",
      "    decision_function_shape='ovr', degree=3, gamma='scale', kernel='rbf',\n",
      "    max_iter=-1, probability=False, random_state=None, shrinking=True,\n",
      "    tol=0.001, verbose=False)\n",
      "\n",
      "The accuracy score is  0.768595041322314\n",
      "\n",
      "The cross val score is 0.8073691460055097\n",
      "\n",
      "              precision    recall  f1-score   support\n",
      "\n",
      "           0       0.79      0.31      0.44        36\n",
      "           1       0.77      0.96      0.85        85\n",
      "\n",
      "    accuracy                           0.77       121\n",
      "   macro avg       0.78      0.64      0.65       121\n",
      "weighted avg       0.77      0.77      0.73       121\n",
      "\n",
      "\n",
      "[[11 25]\n",
      " [ 3 82]]\n",
      "\n",
      "roc_auc_score 0.6351307189542483\n",
      "\n",
      "\n",
      "AxesSubplot(0.125,0.808774;0.62x0.0712264)\n",
      "\n",
      "\n",
      "\n",
      "\n",
      "GaussianNB(priors=None, var_smoothing=1e-09)\n",
      "\n",
      "The accuracy score is  0.71900826446281\n",
      "\n",
      "The cross val score is 0.7724380165289255\n",
      "\n",
      "              precision    recall  f1-score   support\n",
      "\n",
      "           0       0.55      0.33      0.41        36\n",
      "           1       0.76      0.88      0.82        85\n",
      "\n",
      "    accuracy                           0.72       121\n",
      "   macro avg       0.65      0.61      0.61       121\n",
      "weighted avg       0.69      0.72      0.70       121\n",
      "\n",
      "\n",
      "[[12 24]\n",
      " [10 75]]\n",
      "\n",
      "roc_auc_score 0.607843137254902\n",
      "\n",
      "\n",
      "AxesSubplot(0.125,0.808774;0.62x0.0712264)\n",
      "\n",
      "\n",
      "\n",
      "\n"
     ]
    },
    {
     "data": {
      "image/png": "[encoded data removed]",
      "text/plain": [
       "<Figure size 720x2880 with 3 Axes>"
      ]
     },
     "metadata": {
      "needs_background": "light"
     },
     "output_type": "display_data"
    },
    {
     "data": {
      "image/png": "[encoded data removed]",
      "text/plain": [
       "<Figure size 720x2880 with 3 Axes>"
      ]
     },
     "metadata": {
      "needs_background": "light"
     },
     "output_type": "display_data"
    },
    {
     "data": {
      "image/png": "[encoded data removed]",
      "text/plain": [
       "<Figure size 720x2880 with 3 Axes>"
      ]
     },
     "metadata": {
      "needs_background": "light"
     },
     "output_type": "display_data"
    },
    {
     "data": {
      "image/png": "[encoded data removed]",
      "text/plain": [
       "<Figure size 720x2880 with 3 Axes>"
      ]
     },
     "metadata": {
      "needs_background": "light"
     },
     "output_type": "display_data"
    },
    {
     "data": {
      "image/png": "[encoded data removed]",
      "text/plain": [
       "<Figure size 720x2880 with 3 Axes>"
      ]
     },
     "metadata": {
      "needs_background": "light"
     },
     "output_type": "display_data"
    }
   ],
   "source": [
    "#After obtaining best parameters, we should now check the models\n",
    "score=[]\n",
    "cv=[]\n",
    "rocscore=[]\n",
    "\n",
    "from sklearn.metrics import auc, roc_auc_score, roc_curve\n",
    "from sklearn.linear_model import LogisticRegression\n",
    "\n",
    "algorithms=[LogisticRegression(penalty='l2'),KNeighborsClassifier(algorithm='auto', n_neighbors= 15, weights='uniform'), DecisionTreeClassifier(criterion= 'entropy', splitter= 'random'), SVC(C=1, kernel='rbf'),GaussianNB()]\n",
    "\n",
    "for i in algorithms:\n",
    "    print(i)\n",
    "    i.fit(train_x,train_y)\n",
    "    pred=i.predict(test_x)\n",
    "    accscore=accuracy_score(test_y,pred)\n",
    "    score.append(accscore)\n",
    "    print(\"\")\n",
    "    print(\"The accuracy score is \", accscore)\n",
    "    print(\"\")\n",
    "    cvscore=cross_val_score(i,x,y,cv=5,scoring='accuracy').mean()\n",
    "    cv.append(cvscore)\n",
    "    print(\"The cross val score is\", cvscore)\n",
    "    print()\n",
    "    print(classification_report(test_y,pred))\n",
    "    print()\n",
    "    cm=confusion_matrix(test_y,pred)\n",
    "    print(cm)\n",
    "    print()\n",
    "    false_positive_rate,true_positive_rate,thresholds=roc_curve(test_y,pred)\n",
    "    roc_auc=auc(false_positive_rate,true_positive_rate)\n",
    "    print('roc_auc_score',roc_auc)\n",
    "    rocscore.append(roc_auc)\n",
    "    print(\"\\n\")\n",
    "    plt.figure(figsize=(10,40))\n",
    "    plt.subplot(911)\n",
    "    print(sns.heatmap(cm,annot=True))\n",
    "    plt.subplot(912)\n",
    "    plt.title(i)\n",
    "    plt.plot(false_positive_rate,true_positive_rate,label='AUC = %0.2f'%roc_auc)\n",
    "    plt.plot([0,1],[0,1],'r--')\n",
    "    plt.legend(loc='lower right')\n",
    "    plt.ylabel('True Positive Rate')\n",
    "    plt.xlabel('False Positive Rate')\n",
    "    print(\"\\n\")\n",
    "    print(\"\\n\")"
   ]
  },
  {
   "cell_type": "code",
   "execution_count": 55,
   "metadata": {},
   "outputs": [
    {
     "data": {
      "text/html": [
       "<div>\n",
       "<style scoped>\n",
       "    .dataframe tbody tr th:only-of-type {\n",
       "        vertical-align: middle;\n",
       "    }\n",
       "\n",
       "    .dataframe tbody tr th {\n",
       "        vertical-align: top;\n",
       "    }\n",
       "\n",
       "    .dataframe thead th {\n",
       "        text-align: right;\n",
       "    }\n",
       "</style>\n",
       "<table border=\"1\" class=\"dataframe\">\n",
       "  <thead>\n",
       "    <tr style=\"text-align: right;\">\n",
       "      <th></th>\n",
       "      <th>Model</th>\n",
       "      <th>Accuracy_Score</th>\n",
       "      <th>Cross_val_score</th>\n",
       "      <th>AUC_ROC</th>\n",
       "    </tr>\n",
       "  </thead>\n",
       "  <tbody>\n",
       "    <tr>\n",
       "      <th>0</th>\n",
       "      <td>&lt;class 'sklearn.linear_model._logistic.Logisti...</td>\n",
       "      <td>0.760331</td>\n",
       "      <td>0.794063</td>\n",
       "      <td>0.629248</td>\n",
       "    </tr>\n",
       "    <tr>\n",
       "      <th>1</th>\n",
       "      <td>&lt;class 'sklearn.neighbors._classification.KNei...</td>\n",
       "      <td>0.785124</td>\n",
       "      <td>0.794091</td>\n",
       "      <td>0.646895</td>\n",
       "    </tr>\n",
       "    <tr>\n",
       "      <th>2</th>\n",
       "      <td>&lt;class 'sklearn.tree._classes.DecisionTreeClas...</td>\n",
       "      <td>0.719008</td>\n",
       "      <td>0.706088</td>\n",
       "      <td>0.679902</td>\n",
       "    </tr>\n",
       "    <tr>\n",
       "      <th>3</th>\n",
       "      <td>&lt;class 'sklearn.svm._classes.SVC'&gt;</td>\n",
       "      <td>0.768595</td>\n",
       "      <td>0.807369</td>\n",
       "      <td>0.635131</td>\n",
       "    </tr>\n",
       "    <tr>\n",
       "      <th>4</th>\n",
       "      <td>&lt;class 'sklearn.naive_bayes.GaussianNB'&gt;</td>\n",
       "      <td>0.719008</td>\n",
       "      <td>0.772438</td>\n",
       "      <td>0.607843</td>\n",
       "    </tr>\n",
       "  </tbody>\n",
       "</table>\n",
       "</div>"
      ],
      "text/plain": [
       "                                               Model  Accuracy_Score  \\\n",
       "0  <class 'sklearn.linear_model._logistic.Logisti...        0.760331   \n",
       "1  <class 'sklearn.neighbors._classification.KNei...        0.785124   \n",
       "2  <class 'sklearn.tree._classes.DecisionTreeClas...        0.719008   \n",
       "3                 <class 'sklearn.svm._classes.SVC'>        0.768595   \n",
       "4           <class 'sklearn.naive_bayes.GaussianNB'>        0.719008   \n",
       "\n",
       "   Cross_val_score   AUC_ROC  \n",
       "0         0.794063  0.629248  \n",
       "1         0.794091  0.646895  \n",
       "2         0.706088  0.679902  \n",
       "3         0.807369  0.635131  \n",
       "4         0.772438  0.607843  "
      ]
     },
     "execution_count": 55,
     "metadata": {},
     "output_type": "execute_result"
    }
   ],
   "source": [
    "result=pd.DataFrame({'Model':[LogisticRegression,KNeighborsClassifier, DecisionTreeClassifier, SVC,GaussianNB],'Accuracy_Score':score,'Cross_val_score':cv, 'AUC_ROC':rocscore})\n",
    "result"
   ]
  },
  {
   "cell_type": "code",
   "execution_count": 56,
   "metadata": {},
   "outputs": [
    {
     "name": "stdout",
     "output_type": "stream",
     "text": [
      "The accuracy score is 0.7603305785123967\n",
      "The cross val score is 0.8073691460055097\n"
     ]
    }
   ],
   "source": [
    "train_x,test_x,train_y,test_y=train_test_split(x,y,random_state=90,test_size=0.20)\n",
    "sv=SVC(C=1, kernel='rbf')\n",
    "sv.fit(train_x,train_y)\n",
    "pred=sv.predict(test_x)\n",
    "acs=accuracy_score(test_y,pred)\n",
    "print(\"The accuracy score is\", acs)\n",
    "cs=cross_val_score(sv,x,y,cv=5).mean()\n",
    "print(\"The cross val score is\", cs)\n",
    "predxls=pd.DataFrame(pred).to_csv(\"prediction.csv\")"
   ]
  },
  {
   "cell_type": "code",
   "execution_count": 57,
   "metadata": {},
   "outputs": [
    {
     "data": {
      "text/plain": [
       "{'n_estimators': 100}"
      ]
     },
     "execution_count": 57,
     "metadata": {},
     "output_type": "execute_result"
    }
   ],
   "source": [
    "# Let us try to boost the model to get more accuracy score\n",
    "from sklearn.ensemble import RandomForestClassifier\n",
    "rf=RandomForestClassifier()\n",
    "parameters={'n_estimators':(10,50,100,200,500)}\n",
    "gdrf=GridSearchCV(rf,parameters)\n",
    "gdrf.fit(train_x,train_y)\n",
    "gdrf.best_params_"
   ]
  },
  {
   "cell_type": "code",
   "execution_count": 58,
   "metadata": {},
   "outputs": [
    {
     "name": "stdout",
     "output_type": "stream",
     "text": [
      "The accuracy score achieved at r state 42 is 0.8429752066115702\n",
      "The accuracy score achieved at r state 43 is 0.7933884297520661\n",
      "The accuracy score achieved at r state 44 is 0.8264462809917356\n",
      "The accuracy score achieved at r state 45 is 0.7520661157024794\n",
      "The accuracy score achieved at r state 46 is 0.8512396694214877\n",
      "The accuracy score achieved at r state 47 is 0.768595041322314\n",
      "The accuracy score achieved at r state 48 is 0.8264462809917356\n",
      "The accuracy score achieved at r state 49 is 0.743801652892562\n",
      "The accuracy score achieved at r state 50 is 0.7768595041322314\n",
      "The accuracy score achieved at r state 51 is 0.7603305785123967\n",
      "The accuracy score achieved at r state 52 is 0.7933884297520661\n",
      "The accuracy score achieved at r state 53 is 0.8099173553719008\n",
      "The accuracy score achieved at r state 54 is 0.8181818181818182\n",
      "The accuracy score achieved at r state 55 is 0.8264462809917356\n",
      "The accuracy score achieved at r state 56 is 0.8099173553719008\n",
      "The accuracy score achieved at r state 57 is 0.743801652892562\n",
      "The accuracy score achieved at r state 58 is 0.8512396694214877\n",
      "The accuracy score achieved at r state 59 is 0.7933884297520661\n",
      "The accuracy score achieved at r state 60 is 0.8181818181818182\n",
      "The accuracy score achieved at r state 61 is 0.7768595041322314\n",
      "The accuracy score achieved at r state 62 is 0.8264462809917356\n",
      "The accuracy score achieved at r state 63 is 0.7355371900826446\n",
      "The accuracy score achieved at r state 64 is 0.768595041322314\n",
      "The accuracy score achieved at r state 65 is 0.8347107438016529\n",
      "The accuracy score achieved at r state 66 is 0.8099173553719008\n",
      "The accuracy score achieved at r state 67 is 0.7768595041322314\n",
      "The accuracy score achieved at r state 68 is 0.7933884297520661\n",
      "The accuracy score achieved at r state 69 is 0.8181818181818182\n",
      "The accuracy score achieved at r state 70 is 0.7768595041322314\n",
      "The accuracy score achieved at r state 71 is 0.7933884297520661\n",
      "The accuracy score achieved at r state 72 is 0.7272727272727273\n",
      "The accuracy score achieved at r state 73 is 0.768595041322314\n",
      "The accuracy score achieved at r state 74 is 0.8099173553719008\n",
      "The accuracy score achieved at r state 75 is 0.7603305785123967\n",
      "The accuracy score achieved at r state 76 is 0.8181818181818182\n",
      "The accuracy score achieved at r state 77 is 0.7768595041322314\n",
      "The accuracy score achieved at r state 78 is 0.8016528925619835\n",
      "The accuracy score achieved at r state 79 is 0.7933884297520661\n",
      "The accuracy score achieved at r state 80 is 0.8264462809917356\n",
      "The accuracy score achieved at r state 81 is 0.7520661157024794\n",
      "The accuracy score achieved at r state 82 is 0.8181818181818182\n",
      "The accuracy score achieved at r state 83 is 0.8181818181818182\n",
      "The accuracy score achieved at r state 84 is 0.7768595041322314\n",
      "The accuracy score achieved at r state 85 is 0.7520661157024794\n",
      "The accuracy score achieved at r state 86 is 0.743801652892562\n",
      "The accuracy score achieved at r state 87 is 0.7603305785123967\n",
      "The accuracy score achieved at r state 88 is 0.7851239669421488\n",
      "The accuracy score achieved at r state 89 is 0.8347107438016529\n",
      "The accuracy score achieved at r state 90 is 0.768595041322314\n",
      "The accuracy score achieved at r state 91 is 0.7768595041322314\n",
      "The accuracy score achieved at r state 92 is 0.768595041322314\n",
      "The accuracy score achieved at r state 93 is 0.7355371900826446\n",
      "The accuracy score achieved at r state 94 is 0.7851239669421488\n",
      "The accuracy score achieved at r state 95 is 0.8347107438016529\n",
      "The accuracy score achieved at r state 96 is 0.8016528925619835\n",
      "The accuracy score achieved at r state 97 is 0.7851239669421488\n",
      "The accuracy score achieved at r state 98 is 0.768595041322314\n",
      "The accuracy score achieved at r state 99 is 0.7851239669421488\n",
      "The accuracy score achieved at r state 100 is 0.8016528925619835\n",
      "The maximum accuracy 0.8512396694214877 is achieved at random state 46\n"
     ]
    },
    {
     "data": {
      "text/plain": [
       "0.8512396694214877"
      ]
     },
     "execution_count": 58,
     "metadata": {},
     "output_type": "execute_result"
    }
   ],
   "source": [
    "#checking the best accuracy score and random state for RandomForestClassifier\n",
    "rf=RandomForestClassifier(n_estimators=200)\n",
    "max_accuracy(rf,x,y)"
   ]
  },
  {
   "cell_type": "code",
   "execution_count": 59,
   "metadata": {},
   "outputs": [
    {
     "name": "stdout",
     "output_type": "stream",
     "text": [
      "The cross val score of Random forest classifier is 0.7924242424242424\n"
     ]
    }
   ],
   "source": [
    "#checking the cross val score\n",
    "cs=cross_val_score(rf,x,y,cv=5,scoring='accuracy').mean()\n",
    "print(\"The cross val score of Random forest classifier is\", cs)"
   ]
  },
  {
   "cell_type": "code",
   "execution_count": 60,
   "metadata": {},
   "outputs": [
    {
     "data": {
      "text/plain": [
       "{'criterion': 'friedman_mse', 'learning_rate': 0.001, 'n_estimators': 500}"
      ]
     },
     "execution_count": 60,
     "metadata": {},
     "output_type": "execute_result"
    }
   ],
   "source": [
    "from sklearn.ensemble import GradientBoostingClassifier\n",
    "gc=GradientBoostingClassifier()\n",
    "parameters={'learning_rate':(0.001,0.01,0.1,1),'n_estimators':(50,100,200,500),'criterion':('friedman_mse', 'mse', 'mae')}\n",
    "gd=GridSearchCV(gc,parameters)\n",
    "gd.fit(train_x,train_y)\n",
    "gd.best_params_"
   ]
  },
  {
   "cell_type": "code",
   "execution_count": 61,
   "metadata": {},
   "outputs": [
    {
     "name": "stdout",
     "output_type": "stream",
     "text": [
      "The accuracy score achieved at r state 42 is 0.8347107438016529\n",
      "The accuracy score achieved at r state 43 is 0.8181818181818182\n",
      "The accuracy score achieved at r state 44 is 0.8264462809917356\n",
      "The accuracy score achieved at r state 45 is 0.7520661157024794\n",
      "The accuracy score achieved at r state 46 is 0.8347107438016529\n",
      "The accuracy score achieved at r state 47 is 0.7768595041322314\n",
      "The accuracy score achieved at r state 48 is 0.8181818181818182\n",
      "The accuracy score achieved at r state 49 is 0.7520661157024794\n",
      "The accuracy score achieved at r state 50 is 0.8016528925619835\n",
      "The accuracy score achieved at r state 51 is 0.7851239669421488\n",
      "The accuracy score achieved at r state 52 is 0.8016528925619835\n",
      "The accuracy score achieved at r state 53 is 0.7933884297520661\n",
      "The accuracy score achieved at r state 54 is 0.8429752066115702\n",
      "The accuracy score achieved at r state 55 is 0.8181818181818182\n",
      "The accuracy score achieved at r state 56 is 0.7933884297520661\n",
      "The accuracy score achieved at r state 57 is 0.743801652892562\n",
      "The accuracy score achieved at r state 58 is 0.8429752066115702\n",
      "The accuracy score achieved at r state 59 is 0.7768595041322314\n",
      "The accuracy score achieved at r state 60 is 0.8099173553719008\n",
      "The accuracy score achieved at r state 61 is 0.768595041322314\n",
      "The accuracy score achieved at r state 62 is 0.8264462809917356\n",
      "The accuracy score achieved at r state 63 is 0.7603305785123967\n",
      "The accuracy score achieved at r state 64 is 0.8016528925619835\n",
      "The accuracy score achieved at r state 65 is 0.8181818181818182\n",
      "The accuracy score achieved at r state 66 is 0.8264462809917356\n",
      "The accuracy score achieved at r state 67 is 0.7768595041322314\n",
      "The accuracy score achieved at r state 68 is 0.7851239669421488\n",
      "The accuracy score achieved at r state 69 is 0.8016528925619835\n",
      "The accuracy score achieved at r state 70 is 0.7768595041322314\n",
      "The accuracy score achieved at r state 71 is 0.7768595041322314\n",
      "The accuracy score achieved at r state 72 is 0.743801652892562\n",
      "The accuracy score achieved at r state 73 is 0.7603305785123967\n",
      "The accuracy score achieved at r state 74 is 0.8677685950413223\n",
      "The accuracy score achieved at r state 75 is 0.7520661157024794\n",
      "The accuracy score achieved at r state 76 is 0.8264462809917356\n",
      "The accuracy score achieved at r state 77 is 0.7851239669421488\n",
      "The accuracy score achieved at r state 78 is 0.8181818181818182\n",
      "The accuracy score achieved at r state 79 is 0.8181818181818182\n",
      "The accuracy score achieved at r state 80 is 0.8264462809917356\n",
      "The accuracy score achieved at r state 81 is 0.7933884297520661\n",
      "The accuracy score achieved at r state 82 is 0.8181818181818182\n",
      "The accuracy score achieved at r state 83 is 0.8099173553719008\n",
      "The accuracy score achieved at r state 84 is 0.7851239669421488\n",
      "The accuracy score achieved at r state 85 is 0.7851239669421488\n",
      "The accuracy score achieved at r state 86 is 0.7520661157024794\n",
      "The accuracy score achieved at r state 87 is 0.768595041322314\n",
      "The accuracy score achieved at r state 88 is 0.8264462809917356\n",
      "The accuracy score achieved at r state 89 is 0.859504132231405\n",
      "The accuracy score achieved at r state 90 is 0.768595041322314\n",
      "The accuracy score achieved at r state 91 is 0.7768595041322314\n",
      "The accuracy score achieved at r state 92 is 0.7768595041322314\n",
      "The accuracy score achieved at r state 93 is 0.7355371900826446\n",
      "The accuracy score achieved at r state 94 is 0.7768595041322314\n",
      "The accuracy score achieved at r state 95 is 0.8512396694214877\n",
      "The accuracy score achieved at r state 96 is 0.7851239669421488\n",
      "The accuracy score achieved at r state 97 is 0.8099173553719008\n",
      "The accuracy score achieved at r state 98 is 0.7851239669421488\n",
      "The accuracy score achieved at r state 99 is 0.8016528925619835\n",
      "The accuracy score achieved at r state 100 is 0.8347107438016529\n",
      "The maximum accuracy 0.8677685950413223 is achieved at random state 74\n"
     ]
    },
    {
     "data": {
      "text/plain": [
       "0.8677685950413223"
      ]
     },
     "execution_count": 61,
     "metadata": {},
     "output_type": "execute_result"
    }
   ],
   "source": [
    "#checking the best accuracy score and random state for RandomForestClassifier\n",
    "gc=GradientBoostingClassifier(criterion='mae', learning_rate= 1, n_estimators= 100)\n",
    "max_accuracy(gc,x,y)"
   ]
  },
  {
   "cell_type": "code",
   "execution_count": 62,
   "metadata": {},
   "outputs": [
    {
     "name": "stdout",
     "output_type": "stream",
     "text": [
      "The cross val score of GradientBoosting classifier is 0.7941046831955924\n"
     ]
    }
   ],
   "source": [
    "#checking the cross val score\n",
    "cs=cross_val_score(gc,x,y,cv=5,scoring='accuracy').mean()\n",
    "print(\"The cross val score of GradientBoosting classifier is\", cs)"
   ]
  },
  {
   "cell_type": "code",
   "execution_count": 63,
   "metadata": {},
   "outputs": [
    {
     "data": {
      "text/plain": [
       "{'algorithm': 'SAMME', 'learning_rate': 0.001, 'n_estimators': 50}"
      ]
     },
     "execution_count": 63,
     "metadata": {},
     "output_type": "execute_result"
    }
   ],
   "source": [
    "from sklearn.ensemble import AdaBoostClassifier\n",
    "ad=AdaBoostClassifier()\n",
    "parameters={'learning_rate':(0.001,0.01,0.1,1),'n_estimators':(50,100,200,500),'algorithm':('SAMME', 'SAMME.R')}\n",
    "gd=GridSearchCV(ad,parameters)\n",
    "gd.fit(train_x,train_y)\n",
    "gd.best_params_"
   ]
  },
  {
   "cell_type": "code",
   "execution_count": 64,
   "metadata": {},
   "outputs": [
    {
     "name": "stdout",
     "output_type": "stream",
     "text": [
      "The accuracy score achieved at r state 42 is 0.8347107438016529\n",
      "The accuracy score achieved at r state 43 is 0.8429752066115702\n",
      "The accuracy score achieved at r state 44 is 0.8264462809917356\n",
      "The accuracy score achieved at r state 45 is 0.7520661157024794\n",
      "The accuracy score achieved at r state 46 is 0.8347107438016529\n",
      "The accuracy score achieved at r state 47 is 0.7768595041322314\n",
      "The accuracy score achieved at r state 48 is 0.8347107438016529\n",
      "The accuracy score achieved at r state 49 is 0.7603305785123967\n",
      "The accuracy score achieved at r state 50 is 0.8016528925619835\n",
      "The accuracy score achieved at r state 51 is 0.7851239669421488\n",
      "The accuracy score achieved at r state 52 is 0.8016528925619835\n",
      "The accuracy score achieved at r state 53 is 0.7933884297520661\n",
      "The accuracy score achieved at r state 54 is 0.8429752066115702\n",
      "The accuracy score achieved at r state 55 is 0.8347107438016529\n",
      "The accuracy score achieved at r state 56 is 0.8429752066115702\n",
      "The accuracy score achieved at r state 57 is 0.7603305785123967\n",
      "The accuracy score achieved at r state 58 is 0.8760330578512396\n",
      "The accuracy score achieved at r state 59 is 0.7851239669421488\n",
      "The accuracy score achieved at r state 60 is 0.8347107438016529\n",
      "The accuracy score achieved at r state 61 is 0.7851239669421488\n",
      "The accuracy score achieved at r state 62 is 0.8347107438016529\n",
      "The accuracy score achieved at r state 63 is 0.7603305785123967\n",
      "The accuracy score achieved at r state 64 is 0.8181818181818182\n",
      "The accuracy score achieved at r state 65 is 0.8264462809917356\n",
      "The accuracy score achieved at r state 66 is 0.8264462809917356\n",
      "The accuracy score achieved at r state 67 is 0.7768595041322314\n",
      "The accuracy score achieved at r state 68 is 0.7933884297520661\n",
      "The accuracy score achieved at r state 69 is 0.8264462809917356\n",
      "The accuracy score achieved at r state 70 is 0.7768595041322314\n",
      "The accuracy score achieved at r state 71 is 0.8016528925619835\n",
      "The accuracy score achieved at r state 72 is 0.743801652892562\n",
      "The accuracy score achieved at r state 73 is 0.7851239669421488\n",
      "The accuracy score achieved at r state 74 is 0.8677685950413223\n",
      "The accuracy score achieved at r state 75 is 0.7768595041322314\n",
      "The accuracy score achieved at r state 76 is 0.8264462809917356\n",
      "The accuracy score achieved at r state 77 is 0.7933884297520661\n",
      "The accuracy score achieved at r state 78 is 0.8264462809917356\n",
      "The accuracy score achieved at r state 79 is 0.8099173553719008\n",
      "The accuracy score achieved at r state 80 is 0.8181818181818182\n",
      "The accuracy score achieved at r state 81 is 0.8429752066115702\n",
      "The accuracy score achieved at r state 82 is 0.8512396694214877\n",
      "The accuracy score achieved at r state 83 is 0.8347107438016529\n",
      "The accuracy score achieved at r state 84 is 0.8181818181818182\n",
      "The accuracy score achieved at r state 85 is 0.7768595041322314\n",
      "The accuracy score achieved at r state 86 is 0.768595041322314\n",
      "The accuracy score achieved at r state 87 is 0.7768595041322314\n",
      "The accuracy score achieved at r state 88 is 0.8347107438016529\n",
      "The accuracy score achieved at r state 89 is 0.859504132231405\n",
      "The accuracy score achieved at r state 90 is 0.7520661157024794\n",
      "The accuracy score achieved at r state 91 is 0.7768595041322314\n",
      "The accuracy score achieved at r state 92 is 0.7768595041322314\n",
      "The accuracy score achieved at r state 93 is 0.7272727272727273\n",
      "The accuracy score achieved at r state 94 is 0.7851239669421488\n",
      "The accuracy score achieved at r state 95 is 0.8842975206611571\n",
      "The accuracy score achieved at r state 96 is 0.8099173553719008\n",
      "The accuracy score achieved at r state 97 is 0.8181818181818182\n",
      "The accuracy score achieved at r state 98 is 0.7851239669421488\n",
      "The accuracy score achieved at r state 99 is 0.7933884297520661\n",
      "The accuracy score achieved at r state 100 is 0.8512396694214877\n",
      "The maximum accuracy 0.8842975206611571 is achieved at random state 95\n"
     ]
    },
    {
     "data": {
      "text/plain": [
       "0.8842975206611571"
      ]
     },
     "execution_count": 64,
     "metadata": {},
     "output_type": "execute_result"
    }
   ],
   "source": [
    "#checking the best accuracy score and random state for AdaBoostClassifier\n",
    "gc=AdaBoostClassifier(algorithm= 'SAMME', learning_rate= 0.001, n_estimators= 50)\n",
    "max_accuracy(gc,x,y)"
   ]
  },
  {
   "cell_type": "code",
   "execution_count": 65,
   "metadata": {},
   "outputs": [
    {
     "name": "stdout",
     "output_type": "stream",
     "text": [
      "The cross val score of AdaBoost classifier is 0.7874242424242424\n"
     ]
    }
   ],
   "source": [
    "#checking the cross val score\n",
    "cs=cross_val_score(ad,x,y,cv=5,scoring='accuracy').mean()\n",
    "print(\"The cross val score of AdaBoost classifier is\", cs)"
   ]
  },
  {
   "cell_type": "code",
   "execution_count": 66,
   "metadata": {},
   "outputs": [
    {
     "data": {
      "text/html": [
       "<div>\n",
       "<style scoped>\n",
       "    .dataframe tbody tr th:only-of-type {\n",
       "        vertical-align: middle;\n",
       "    }\n",
       "\n",
       "    .dataframe tbody tr th {\n",
       "        vertical-align: top;\n",
       "    }\n",
       "\n",
       "    .dataframe thead th {\n",
       "        text-align: right;\n",
       "    }\n",
       "</style>\n",
       "<table border=\"1\" class=\"dataframe\">\n",
       "  <thead>\n",
       "    <tr style=\"text-align: right;\">\n",
       "      <th></th>\n",
       "      <th>Boosters</th>\n",
       "      <th>Accuracy Score</th>\n",
       "      <th>Cross_val_score</th>\n",
       "    </tr>\n",
       "  </thead>\n",
       "  <tbody>\n",
       "    <tr>\n",
       "      <th>0</th>\n",
       "      <td>RandomForestClassifier</td>\n",
       "      <td>0.867</td>\n",
       "      <td>0.84</td>\n",
       "    </tr>\n",
       "    <tr>\n",
       "      <th>1</th>\n",
       "      <td>GradientBoostClassifier</td>\n",
       "      <td>0.878</td>\n",
       "      <td>0.85</td>\n",
       "    </tr>\n",
       "    <tr>\n",
       "      <th>2</th>\n",
       "      <td>AdaBoostRegressor</td>\n",
       "      <td>0.874</td>\n",
       "      <td>0.85</td>\n",
       "    </tr>\n",
       "  </tbody>\n",
       "</table>\n",
       "</div>"
      ],
      "text/plain": [
       "                  Boosters  Accuracy Score  Cross_val_score\n",
       "0   RandomForestClassifier           0.867             0.84\n",
       "1  GradientBoostClassifier           0.878             0.85\n",
       "2        AdaBoostRegressor           0.874             0.85"
      ]
     },
     "execution_count": 66,
     "metadata": {},
     "output_type": "execute_result"
    }
   ],
   "source": [
    "result2=pd.DataFrame({'Boosters':['RandomForestClassifier','GradientBoostClassifier','AdaBoostRegressor'],'Accuracy Score':[0.867,0.878,0.874],'Cross_val_score':[0.84,0.85,0.85]})\n",
    "result2"
   ]
  },
  {
   "cell_type": "code",
   "execution_count": 67,
   "metadata": {},
   "outputs": [
    {
     "data": {
      "text/html": [
       "<div>\n",
       "<style scoped>\n",
       "    .dataframe tbody tr th:only-of-type {\n",
       "        vertical-align: middle;\n",
       "    }\n",
       "\n",
       "    .dataframe tbody tr th {\n",
       "        vertical-align: top;\n",
       "    }\n",
       "\n",
       "    .dataframe thead th {\n",
       "        text-align: right;\n",
       "    }\n",
       "</style>\n",
       "<table border=\"1\" class=\"dataframe\">\n",
       "  <thead>\n",
       "    <tr style=\"text-align: right;\">\n",
       "      <th></th>\n",
       "      <th>Model</th>\n",
       "      <th>Accuracy_Score</th>\n",
       "      <th>Cross_val_score</th>\n",
       "      <th>AUC_ROC</th>\n",
       "    </tr>\n",
       "  </thead>\n",
       "  <tbody>\n",
       "    <tr>\n",
       "      <th>0</th>\n",
       "      <td>&lt;class 'sklearn.linear_model._logistic.Logisti...</td>\n",
       "      <td>0.760331</td>\n",
       "      <td>0.794063</td>\n",
       "      <td>0.629248</td>\n",
       "    </tr>\n",
       "    <tr>\n",
       "      <th>1</th>\n",
       "      <td>&lt;class 'sklearn.neighbors._classification.KNei...</td>\n",
       "      <td>0.785124</td>\n",
       "      <td>0.794091</td>\n",
       "      <td>0.646895</td>\n",
       "    </tr>\n",
       "    <tr>\n",
       "      <th>2</th>\n",
       "      <td>&lt;class 'sklearn.tree._classes.DecisionTreeClas...</td>\n",
       "      <td>0.719008</td>\n",
       "      <td>0.706088</td>\n",
       "      <td>0.679902</td>\n",
       "    </tr>\n",
       "    <tr>\n",
       "      <th>3</th>\n",
       "      <td>&lt;class 'sklearn.svm._classes.SVC'&gt;</td>\n",
       "      <td>0.768595</td>\n",
       "      <td>0.807369</td>\n",
       "      <td>0.635131</td>\n",
       "    </tr>\n",
       "    <tr>\n",
       "      <th>4</th>\n",
       "      <td>&lt;class 'sklearn.naive_bayes.GaussianNB'&gt;</td>\n",
       "      <td>0.719008</td>\n",
       "      <td>0.772438</td>\n",
       "      <td>0.607843</td>\n",
       "    </tr>\n",
       "  </tbody>\n",
       "</table>\n",
       "</div>"
      ],
      "text/plain": [
       "                                               Model  Accuracy_Score  \\\n",
       "0  <class 'sklearn.linear_model._logistic.Logisti...        0.760331   \n",
       "1  <class 'sklearn.neighbors._classification.KNei...        0.785124   \n",
       "2  <class 'sklearn.tree._classes.DecisionTreeClas...        0.719008   \n",
       "3                 <class 'sklearn.svm._classes.SVC'>        0.768595   \n",
       "4           <class 'sklearn.naive_bayes.GaussianNB'>        0.719008   \n",
       "\n",
       "   Cross_val_score   AUC_ROC  \n",
       "0         0.794063  0.629248  \n",
       "1         0.794091  0.646895  \n",
       "2         0.706088  0.679902  \n",
       "3         0.807369  0.635131  \n",
       "4         0.772438  0.607843  "
      ]
     },
     "execution_count": 67,
     "metadata": {},
     "output_type": "execute_result"
    }
   ],
   "source": [
    "result"
   ]
  },
  {
   "cell_type": "code",
   "execution_count": 68,
   "metadata": {},
   "outputs": [
    {
     "name": "stdout",
     "output_type": "stream",
     "text": [
      "The accuracy score is 0.768595041322314\n",
      "The cross val score is 0.7891046831955923\n"
     ]
    }
   ],
   "source": [
    "train_x,test_x,train_y,test_y=train_test_split(x,y,random_state=90,test_size=0.20)\n",
    "gc=GradientBoostingClassifier(criterion='mae', learning_rate= 1, n_estimators= 100)\n",
    "gc.fit(train_x,train_y)\n",
    "pred=gc.predict(test_x)\n",
    "acs=accuracy_score(test_y,pred)\n",
    "print(\"The accuracy score is\", acs)\n",
    "cs=cross_val_score(gc,x,y,cv=5).mean()\n",
    "print(\"The cross val score is\", cs)\n",
    "pd.DataFrame(pred).to_csv(\"Fraud_loan_prediction.csv\")"
   ]
  },
  {
   "cell_type": "code",
   "execution_count": 69,
   "metadata": {},
   "outputs": [
    {
     "name": "stdout",
     "output_type": "stream",
     "text": [
      "The accuracy score is 0.7603305785123967\n",
      "The cross val score is 0.8073691460055097\n"
     ]
    }
   ],
   "source": [
    "train_x,test_x,train_y,test_y=train_test_split(x,y,random_state=90,test_size=0.20)\n",
    "sv=SVC(C=1, kernel='rbf')\n",
    "sv.fit(train_x,train_y)\n",
    "pred=sv.predict(test_x)\n",
    "acs=accuracy_score(test_y,pred)\n",
    "print(\"The accuracy score is\", acs)\n",
    "cs=cross_val_score(sv,x,y,cv=5).mean()\n",
    "print(\"The cross val score is\", cs)\n",
    "pd.DataFrame(pred).to_csv(\"Fraud_loan_prediction.csv\")"
   ]
  },
  {
   "cell_type": "markdown",
   "metadata": {},
   "source": [
    "##By comparing the results, we can conclude that SVC is giving better results wrt Accuracy score and cross val score. Let us finalise the same."
   ]
  },
  {
   "cell_type": "code",
   "execution_count": 70,
   "metadata": {},
   "outputs": [
    {
     "data": {
      "text/plain": [
       "['fraud.pkl']"
      ]
     },
     "execution_count": 70,
     "metadata": {},
     "output_type": "execute_result"
    }
   ],
   "source": [
    "from sklearn.externals import joblib\n",
    "joblib.dump(sv,\"fraud.pkl\")"
   ]
  },
  {
   "cell_type": "code",
   "execution_count": null,
   "metadata": {},
   "outputs": [],
   "source": []
  }
 ],
 "metadata": {
  "kernelspec": {
   "display_name": "Python 3",
   "language": "python",
   "name": "python3"
  },
  "language_info": {
   "codemirror_mode": {
    "name": "ipython",
    "version": 3
   },
   "file_extension": ".py",
   "mimetype": "text/x-python",
   "name": "python",
   "nbconvert_exporter": "python",
   "pygments_lexer": "ipython3",
   "version": "3.7.6"
  }
 },
 "nbformat": 4,
 "nbformat_minor": 4
}
